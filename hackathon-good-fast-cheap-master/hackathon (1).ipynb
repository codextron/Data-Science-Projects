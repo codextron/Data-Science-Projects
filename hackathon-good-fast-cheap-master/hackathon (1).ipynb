{
 "cells": [
  {
   "cell_type": "code",
   "execution_count": 1,
   "id": "b2c4a4d9-44f5-4042-a549-c3ba68937ca7",
   "metadata": {},
   "outputs": [],
   "source": [
    "import numpy as np  \n",
    "import pandas as pd\n",
    "import seaborn as sns\n",
    "import matplotlib.pyplot as plt\n",
    "from sklearn.impute import SimpleImputer"
   ]
  },
  {
   "cell_type": "code",
   "execution_count": 2,
   "id": "c6ab9b42-1950-438d-9f29-1ee67a875eba",
   "metadata": {},
   "outputs": [],
   "source": [
    "large_train = pd.read_csv('./data/large_train_sample.csv')\n",
    "cheap_train = pd.read_csv('./data/cheap_train_sample.csv')"
   ]
  },
  {
   "cell_type": "code",
   "execution_count": 3,
   "id": "21e8bcde-4c73-4a62-994f-7939283f7afe",
   "metadata": {},
   "outputs": [
    {
     "data": {
      "text/plain": [
       "(32561, 14)"
      ]
     },
     "execution_count": 3,
     "metadata": {},
     "output_type": "execute_result"
    }
   ],
   "source": [
    "large_train.shape"
   ]
  },
  {
   "cell_type": "code",
   "execution_count": 4,
   "id": "c5da0464-d1c6-4cdb-99cc-435c16865c99",
   "metadata": {},
   "outputs": [
    {
     "data": {
      "text/plain": [
       "(6513, 14)"
      ]
     },
     "execution_count": 4,
     "metadata": {},
     "output_type": "execute_result"
    }
   ],
   "source": [
    "cheap_train.shape"
   ]
  },
  {
   "cell_type": "code",
   "execution_count": 5,
   "id": "039ff781-c807-44b9-803d-fda42ba93038",
   "metadata": {},
   "outputs": [],
   "source": [
    "full_train = pd.concat([large_train,cheap_train], ignore_index = True)"
   ]
  },
  {
   "cell_type": "code",
   "execution_count": 6,
   "id": "d33fc169-0d77-4388-be7b-9f5df6cfe9ab",
   "metadata": {},
   "outputs": [
    {
     "data": {
      "text/plain": [
       "(39074, 14)"
      ]
     },
     "execution_count": 6,
     "metadata": {},
     "output_type": "execute_result"
    }
   ],
   "source": [
    "full_train.shape"
   ]
  },
  {
   "cell_type": "code",
   "execution_count": 7,
   "id": "40f9bd4f-fe2a-4a0e-b359-a585876d50b7",
   "metadata": {},
   "outputs": [
    {
     "data": {
      "text/plain": [
       "age               0\n",
       "workclass         0\n",
       "fnlwgt            0\n",
       "education         0\n",
       "education-num     0\n",
       "marital-status    0\n",
       "occupation        0\n",
       "relationship      0\n",
       "sex               0\n",
       "capital-gain      0\n",
       "capital-loss      0\n",
       "hours-per-week    0\n",
       "native-country    0\n",
       "wage              0\n",
       "dtype: int64"
      ]
     },
     "execution_count": 7,
     "metadata": {},
     "output_type": "execute_result"
    }
   ],
   "source": [
    "full_train.isna().sum()"
   ]
  },
  {
   "cell_type": "code",
   "execution_count": 8,
   "id": "6f5c455c-fae5-4fd3-b061-b118e82973e8",
   "metadata": {},
   "outputs": [],
   "source": [
    "full_train.drop(columns = ['education','native-country'], inplace = True)"
   ]
  },
  {
   "cell_type": "code",
   "execution_count": 9,
   "id": "77176956-9360-4e5b-95d5-30330c42a4b8",
   "metadata": {},
   "outputs": [
    {
     "data": {
      "text/plain": [
       "21648"
      ]
     },
     "execution_count": 9,
     "metadata": {},
     "output_type": "execute_result"
    }
   ],
   "source": [
    "full_train['fnlwgt'].nunique()\n",
    "#nunique: Kehinde"
   ]
  },
  {
   "cell_type": "code",
   "execution_count": 10,
   "id": "9e64deef-bac7-4c87-a262-a4dd791834de",
   "metadata": {},
   "outputs": [],
   "source": [
    "for x in full_train:\n",
    "    if full_train[x].dtype == 'object':\n",
    "        full_train[x] = full_train[x].str.strip()"
   ]
  },
  {
   "cell_type": "code",
   "execution_count": 11,
   "id": "50cd2d33-771f-49f4-9d68-517cc4777e12",
   "metadata": {},
   "outputs": [],
   "source": [
    "full_train['wage'] = full_train['wage'].map({'>50K': 1, '<=50K': 0})"
   ]
  },
  {
   "cell_type": "code",
   "execution_count": 12,
   "id": "4f84aa24-f54a-4810-88d5-6108c35c9534",
   "metadata": {},
   "outputs": [],
   "source": [
    "# full_train['Male'] = full_train['sex'].map({'Male': 1 , 'Female': 0})\n",
    "# full_train['Female']  = full_train['sex'].map({'Male': 0 , 'Female': 1})"
   ]
  },
  {
   "cell_type": "code",
   "execution_count": 13,
   "id": "7899bbeb-fbbc-48a4-8e86-f4c256634693",
   "metadata": {},
   "outputs": [],
   "source": [
    "train_corr = full_train.corr()"
   ]
  },
  {
   "cell_type": "code",
   "execution_count": 14,
   "id": "fa90ec2b-dda5-46f6-9e29-e24a66c70d2d",
   "metadata": {},
   "outputs": [
    {
     "data": {
      "text/html": [
       "<div>\n",
       "<style scoped>\n",
       "    .dataframe tbody tr th:only-of-type {\n",
       "        vertical-align: middle;\n",
       "    }\n",
       "\n",
       "    .dataframe tbody tr th {\n",
       "        vertical-align: top;\n",
       "    }\n",
       "\n",
       "    .dataframe thead th {\n",
       "        text-align: right;\n",
       "    }\n",
       "</style>\n",
       "<table border=\"1\" class=\"dataframe\">\n",
       "  <thead>\n",
       "    <tr style=\"text-align: right;\">\n",
       "      <th></th>\n",
       "      <th>age</th>\n",
       "      <th>fnlwgt</th>\n",
       "      <th>education-num</th>\n",
       "      <th>capital-gain</th>\n",
       "      <th>capital-loss</th>\n",
       "      <th>hours-per-week</th>\n",
       "      <th>wage</th>\n",
       "    </tr>\n",
       "  </thead>\n",
       "  <tbody>\n",
       "    <tr>\n",
       "      <th>age</th>\n",
       "      <td>1.000000</td>\n",
       "      <td>-0.078312</td>\n",
       "      <td>0.038272</td>\n",
       "      <td>0.077868</td>\n",
       "      <td>0.057300</td>\n",
       "      <td>0.070297</td>\n",
       "      <td>0.235328</td>\n",
       "    </tr>\n",
       "    <tr>\n",
       "      <th>fnlwgt</th>\n",
       "      <td>-0.078312</td>\n",
       "      <td>1.000000</td>\n",
       "      <td>-0.044329</td>\n",
       "      <td>-0.000937</td>\n",
       "      <td>-0.010517</td>\n",
       "      <td>-0.014559</td>\n",
       "      <td>-0.011700</td>\n",
       "    </tr>\n",
       "    <tr>\n",
       "      <th>education-num</th>\n",
       "      <td>0.038272</td>\n",
       "      <td>-0.044329</td>\n",
       "      <td>1.000000</td>\n",
       "      <td>0.123262</td>\n",
       "      <td>0.079255</td>\n",
       "      <td>0.148766</td>\n",
       "      <td>0.333186</td>\n",
       "    </tr>\n",
       "    <tr>\n",
       "      <th>capital-gain</th>\n",
       "      <td>0.077868</td>\n",
       "      <td>-0.000937</td>\n",
       "      <td>0.123262</td>\n",
       "      <td>1.000000</td>\n",
       "      <td>-0.031667</td>\n",
       "      <td>0.077626</td>\n",
       "      <td>0.223001</td>\n",
       "    </tr>\n",
       "    <tr>\n",
       "      <th>capital-loss</th>\n",
       "      <td>0.057300</td>\n",
       "      <td>-0.010517</td>\n",
       "      <td>0.079255</td>\n",
       "      <td>-0.031667</td>\n",
       "      <td>1.000000</td>\n",
       "      <td>0.052779</td>\n",
       "      <td>0.148090</td>\n",
       "    </tr>\n",
       "    <tr>\n",
       "      <th>hours-per-week</th>\n",
       "      <td>0.070297</td>\n",
       "      <td>-0.014559</td>\n",
       "      <td>0.148766</td>\n",
       "      <td>0.077626</td>\n",
       "      <td>0.052779</td>\n",
       "      <td>1.000000</td>\n",
       "      <td>0.233926</td>\n",
       "    </tr>\n",
       "    <tr>\n",
       "      <th>wage</th>\n",
       "      <td>0.235328</td>\n",
       "      <td>-0.011700</td>\n",
       "      <td>0.333186</td>\n",
       "      <td>0.223001</td>\n",
       "      <td>0.148090</td>\n",
       "      <td>0.233926</td>\n",
       "      <td>1.000000</td>\n",
       "    </tr>\n",
       "  </tbody>\n",
       "</table>\n",
       "</div>"
      ],
      "text/plain": [
       "                     age    fnlwgt  education-num  capital-gain  capital-loss  \\\n",
       "age             1.000000 -0.078312       0.038272      0.077868      0.057300   \n",
       "fnlwgt         -0.078312  1.000000      -0.044329     -0.000937     -0.010517   \n",
       "education-num   0.038272 -0.044329       1.000000      0.123262      0.079255   \n",
       "capital-gain    0.077868 -0.000937       0.123262      1.000000     -0.031667   \n",
       "capital-loss    0.057300 -0.010517       0.079255     -0.031667      1.000000   \n",
       "hours-per-week  0.070297 -0.014559       0.148766      0.077626      0.052779   \n",
       "wage            0.235328 -0.011700       0.333186      0.223001      0.148090   \n",
       "\n",
       "                hours-per-week      wage  \n",
       "age                   0.070297  0.235328  \n",
       "fnlwgt               -0.014559 -0.011700  \n",
       "education-num         0.148766  0.333186  \n",
       "capital-gain          0.077626  0.223001  \n",
       "capital-loss          0.052779  0.148090  \n",
       "hours-per-week        1.000000  0.233926  \n",
       "wage                  0.233926  1.000000  "
      ]
     },
     "execution_count": 14,
     "metadata": {},
     "output_type": "execute_result"
    }
   ],
   "source": [
    "train_corr"
   ]
  },
  {
   "cell_type": "code",
   "execution_count": 15,
   "id": "0c9c44e9-8d41-4c08-b096-c760ff546d06",
   "metadata": {},
   "outputs": [
    {
     "name": "stdout",
     "output_type": "stream",
     "text": [
      "age : [39 50 38 53 28 37 49 52 31 42 30 23 32 40 34 25 43 54 35 59 56 19 20 45\n",
      " 22 48 21 24 57 44 41 29 18 47 46 36 79 27 67 33 76 17 55 61 70 64 71 68\n",
      " 66 51 58 26 60 90 75 65 77 62 63 80 72 74 69 73 81 78 88 82 83 84 85 86\n",
      " 87]\n",
      "workclass : ['State-gov' 'Self-emp-not-inc' 'Private' 'Federal-gov' 'Local-gov' '?'\n",
      " 'Self-emp-inc' 'Without-pay' 'Never-worked']\n",
      "fnlwgt : [ 77516  83311 215646 ...  34066  84661 257302]\n",
      "education-num : [13  9  7 14  5 10 12 11  4 16 15  3  6  2  1  8]\n",
      "marital-status : ['Never-married' 'Married-civ-spouse' 'Divorced' 'Married-spouse-absent'\n",
      " 'Separated' 'Married-AF-spouse' 'Widowed']\n",
      "occupation : ['Adm-clerical' 'Exec-managerial' 'Handlers-cleaners' 'Prof-specialty'\n",
      " 'Other-service' 'Sales' 'Craft-repair' 'Transport-moving'\n",
      " 'Farming-fishing' 'Machine-op-inspct' 'Tech-support' '?'\n",
      " 'Protective-serv' 'Armed-Forces' 'Priv-house-serv']\n",
      "relationship : ['Not-in-family' 'Husband' 'Wife' 'Own-child' 'Unmarried' 'Other-relative']\n",
      "sex : ['Male' 'Female']\n",
      "capital-gain : [ 2174     0 14084  5178  5013  2407 14344 15024  7688 34095  4064  4386\n",
      "  7298  1409  3674  1055  3464  2050  2176   594 20051  6849  4101  1111\n",
      "  8614  3411  2597 25236  4650  9386  2463  3103 10605  2964  3325  2580\n",
      "  3471  4865 99999  6514  1471  2329  2105  2885 25124 10520  2202  2961\n",
      " 27828  6767  2228  1506 13550  2635  5556  4787  3781  3137  3818  3942\n",
      "   914   401  2829  2977  4934  2062  2354  5455 15020  1424  3273 22040\n",
      "  4416  3908 10566   991  4931  1086  7430  6497   114  7896  2346  3418\n",
      "  3432  2907  1151  2414  2290 15831 41310  4508  2538  3456  6418  1848\n",
      "  3887  5721  9562  1455  2036  1831 11678  2936  2993  7443  6360  1797\n",
      "  1173  4687  6723  2009  6097  2653  1639 18481  7978  2387  5060]\n",
      "capital-loss : [   0 2042 1408 1902 1573 1887 1719 1762 1564 2179 1816 1980 1977 1876\n",
      " 1340 2206 1741 1485 2339 2415 1380 1721 2051 2377 1669 2352 1672  653\n",
      " 2392 1504 2001 1590 1651 1628 1848 1740 2002 1579 2258 1602  419 2547\n",
      " 2174 2205 1726 2444 1138 2238  625  213 1539  880 1668 1092 1594 3004\n",
      " 2231 1844  810 2824 2559 2057 1974  974 2149 1825 1735 1258 2129 2603\n",
      " 2282  323 4356 2246 1617 1648 2489 3770 1755 3683 2267 2080 2457  155\n",
      " 3900 2201 1944 2467 2163 2754 2472 1411]\n",
      "hours-per-week : [40 13 16 45 50 80 30 35 60 20 52 44 15 25 38 43 55 48 58 32 70  2 22 56\n",
      " 41 28 36 24 46 42 12 65  1 10 34 75 98 33 54  8  6 64 19 18 72  5  9 47\n",
      " 37 21 26 14  4 59  7 99 53 39 62 57 78 90 66 11 49 84  3 17 68 27 85 31\n",
      " 51 77 63 23 87 88 73 89 97 94 29 96 67 82 86 91 81 76 92 61 74 95]\n",
      "wage : [0 1]\n"
     ]
    }
   ],
   "source": [
    "for x in full_train.columns:\n",
    "    print(f'{x} : {full_train[x].unique()}')"
   ]
  },
  {
   "cell_type": "code",
   "execution_count": 16,
   "id": "c78080f4-3e66-4227-9de1-f790f3fe6231",
   "metadata": {},
   "outputs": [
    {
     "data": {
      "text/plain": [
       "<AxesSubplot:>"
      ]
     },
     "execution_count": 16,
     "metadata": {},
     "output_type": "execute_result"
    },
    {
     "data": {
      "image/png": "[encoded data removed]",
      "text/plain": [
       "<Figure size 432x288 with 2 Axes>"
      ]
     },
     "metadata": {
      "needs_background": "light"
     },
     "output_type": "display_data"
    }
   ],
   "source": [
    "sns.heatmap(train_corr[['wage']].sort_values(by = 'wage', ascending=False), annot = True , vmin = -1, vmax = 1, cmap = 'coolwarm')"
   ]
  },
  {
   "cell_type": "code",
   "execution_count": 17,
   "id": "8f4880a2-ac2e-43c6-a9a6-e88eb612edea",
   "metadata": {},
   "outputs": [
    {
     "data": {
      "text/plain": [
       "Husband           15805\n",
       "Not-in-family      9970\n",
       "Own-child          6087\n",
       "Unmarried          4147\n",
       "Wife               1890\n",
       "Other-relative     1175\n",
       "Name: relationship, dtype: int64"
      ]
     },
     "execution_count": 17,
     "metadata": {},
     "output_type": "execute_result"
    }
   ],
   "source": [
    "full_train['relationship'].value_counts()"
   ]
  },
  {
   "cell_type": "code",
   "execution_count": 18,
   "id": "0d10d39d-af28-4f92-be0f-f1389afb1cc7",
   "metadata": {},
   "outputs": [
    {
     "data": {
      "text/plain": [
       "0             Never-married\n",
       "1        Married-civ-spouse\n",
       "2                  Divorced\n",
       "3        Married-civ-spouse\n",
       "4        Married-civ-spouse\n",
       "                ...        \n",
       "39069    Married-civ-spouse\n",
       "39070         Never-married\n",
       "39071    Married-civ-spouse\n",
       "39072         Never-married\n",
       "39073    Married-civ-spouse\n",
       "Name: marital-status, Length: 39074, dtype: object"
      ]
     },
     "execution_count": 18,
     "metadata": {},
     "output_type": "execute_result"
    }
   ],
   "source": [
    "full_train['marital-status']"
   ]
  },
  {
   "cell_type": "code",
   "execution_count": 19,
   "id": "4e5db4ef-86a3-4dca-aa47-3c9907bc989a",
   "metadata": {},
   "outputs": [],
   "source": [
    "single = ['Never-married','Divorced', 'Separated', 'Widowed']\n",
    "full_train['marital-status_group'] = [\"Single\" if x in single else \"Married\" for x in full_train['marital-status']]"
   ]
  },
  {
   "cell_type": "code",
   "execution_count": 20,
   "id": "4072df00-e128-4c9b-ac0a-e8709d9ca1ec",
   "metadata": {},
   "outputs": [
    {
     "name": "stdout",
     "output_type": "stream",
     "text": [
      "workclass : 9 \n",
      "\n",
      "marital-status : 7 \n",
      "\n",
      "occupation : 15 \n",
      "\n",
      "relationship : 6 \n",
      "\n",
      "sex : 2 \n",
      "\n",
      "marital-status_group : 2 \n",
      "\n"
     ]
    }
   ],
   "source": [
    "for x in full_train.columns:\n",
    "    if full_train[x].dtype == 'object':\n",
    "        print(f'{x} : {len(full_train[x].unique())} \\n')"
   ]
  },
  {
   "cell_type": "code",
   "execution_count": 21,
   "id": "4da9ed87-61c2-4bf9-978f-acaaaf5ac9c2",
   "metadata": {},
   "outputs": [],
   "source": [
    "objects = []\n",
    "for x in full_train:\n",
    "    if full_train[x].dtype == 'object':\n",
    "        objects.append(x)"
   ]
  },
  {
   "cell_type": "markdown",
   "id": "d8e323e9-9f6b-4531-8ce5-55e54df17177",
   "metadata": {
    "tags": []
   },
   "source": [
    "# Missing Occupation Model"
   ]
  },
  {
   "cell_type": "code",
   "execution_count": 22,
   "id": "9520ad9e-39d6-4d58-abdb-ba96970dff23",
   "metadata": {},
   "outputs": [
    {
     "name": "stdout",
     "output_type": "stream",
     "text": [
      "Fitting 5 folds for each of 32 candidates, totalling 160 fits\n"
     ]
    },
    {
     "data": {
      "text/plain": [
       "(0.997359759846649, 0.4168384506889443)"
      ]
     },
     "execution_count": 22,
     "metadata": {},
     "output_type": "execute_result"
    }
   ],
   "source": [
    "from sklearn.model_selection import train_test_split, GridSearchCV\n",
    "from sklearn.neighbors import KNeighborsClassifier\n",
    "from sklearn.pipeline import Pipeline\n",
    "from sklearn.preprocessing import StandardScaler\n",
    "\n",
    "# getting the values into a list before turning into numbers\n",
    "oc_list = full_train['occupation'].unique().tolist()\n",
    "oc_list \n",
    "#---------\n",
    "#https://stackoverflow.com/questions/36459969/how-to-convert-a-list-to-a-dictionary-with-indexes-as-values\n",
    "oc_dict = {k:v for v,k in enumerate(oc_list) }\n",
    "oc_dict\n",
    "\n",
    "full_train['occupation_num'] = full_train['occupation'].map(oc_dict)\n",
    "\n",
    "temp_ob = objects\n",
    "temp_ob.append('occupation_num')\n",
    "\n",
    "X = full_train.loc[full_train['occupation'] != '?', : ].drop(columns= temp_ob)\n",
    "y = full_train.loc[full_train['occupation'] != '?', : ]['occupation_num']\n",
    "\n",
    "X_train, X_test, y_train, y_test = train_test_split(X, y, random_state=42, stratify=y)\n",
    "\n",
    "y.value_counts(normalize=True)\n",
    "pipe =  Pipeline([\n",
    "    ('sc', StandardScaler()),\n",
    "    ('knn', KNeighborsClassifier())\n",
    "])\n",
    "\n",
    "pipe_to_params = {\n",
    "    \"sc__with_mean\":[True, False],\n",
    "    \"sc__with_std\": [True, False],\n",
    "    \"knn__n_neighbors\": [3,5,7,9],\n",
    "    \"knn__weights\": [\"uniform\", \"distance\"]\n",
    "}\n",
    "\n",
    "knn_grid = GridSearchCV(\n",
    "    pipe,\n",
    "    param_grid=pipe_to_params,\n",
    "    cv = 5,\n",
    "    verbose=1\n",
    ")\n",
    "\n",
    "knn_grid.fit(X_train, y_train)\n",
    "\n",
    "knn_grid.best_params_\n",
    "\n",
    "knn_best = knn_grid.best_estimator_\n",
    "knn_grid.best_score_\n",
    "knn_best.score(X_train, y_train), knn_best.score(X_test, y_test)"
   ]
  },
  {
   "cell_type": "code",
   "execution_count": 23,
   "id": "8ac6b7e9-810d-4eb2-bd26-1eae2a63f013",
   "metadata": {},
   "outputs": [
    {
     "data": {
      "text/html": [
       "<div>\n",
       "<style scoped>\n",
       "    .dataframe tbody tr th:only-of-type {\n",
       "        vertical-align: middle;\n",
       "    }\n",
       "\n",
       "    .dataframe tbody tr th {\n",
       "        vertical-align: top;\n",
       "    }\n",
       "\n",
       "    .dataframe thead th {\n",
       "        text-align: right;\n",
       "    }\n",
       "</style>\n",
       "<table border=\"1\" class=\"dataframe\">\n",
       "  <thead>\n",
       "    <tr style=\"text-align: right;\">\n",
       "      <th></th>\n",
       "      <th>age</th>\n",
       "      <th>workclass</th>\n",
       "      <th>fnlwgt</th>\n",
       "      <th>education-num</th>\n",
       "      <th>marital-status</th>\n",
       "      <th>occupation</th>\n",
       "      <th>relationship</th>\n",
       "      <th>sex</th>\n",
       "      <th>capital-gain</th>\n",
       "      <th>capital-loss</th>\n",
       "      <th>hours-per-week</th>\n",
       "      <th>wage</th>\n",
       "      <th>marital-status_group</th>\n",
       "      <th>occupation_num</th>\n",
       "    </tr>\n",
       "  </thead>\n",
       "  <tbody>\n",
       "    <tr>\n",
       "      <th>27</th>\n",
       "      <td>54</td>\n",
       "      <td>?</td>\n",
       "      <td>180211</td>\n",
       "      <td>10</td>\n",
       "      <td>Married-civ-spouse</td>\n",
       "      <td>?</td>\n",
       "      <td>Husband</td>\n",
       "      <td>Male</td>\n",
       "      <td>0</td>\n",
       "      <td>0</td>\n",
       "      <td>60</td>\n",
       "      <td>1</td>\n",
       "      <td>Married</td>\n",
       "      <td>11</td>\n",
       "    </tr>\n",
       "    <tr>\n",
       "      <th>61</th>\n",
       "      <td>32</td>\n",
       "      <td>?</td>\n",
       "      <td>293936</td>\n",
       "      <td>4</td>\n",
       "      <td>Married-spouse-absent</td>\n",
       "      <td>?</td>\n",
       "      <td>Not-in-family</td>\n",
       "      <td>Male</td>\n",
       "      <td>0</td>\n",
       "      <td>0</td>\n",
       "      <td>40</td>\n",
       "      <td>0</td>\n",
       "      <td>Married</td>\n",
       "      <td>11</td>\n",
       "    </tr>\n",
       "    <tr>\n",
       "      <th>69</th>\n",
       "      <td>25</td>\n",
       "      <td>?</td>\n",
       "      <td>200681</td>\n",
       "      <td>10</td>\n",
       "      <td>Never-married</td>\n",
       "      <td>?</td>\n",
       "      <td>Own-child</td>\n",
       "      <td>Male</td>\n",
       "      <td>0</td>\n",
       "      <td>0</td>\n",
       "      <td>40</td>\n",
       "      <td>0</td>\n",
       "      <td>Single</td>\n",
       "      <td>11</td>\n",
       "    </tr>\n",
       "    <tr>\n",
       "      <th>77</th>\n",
       "      <td>67</td>\n",
       "      <td>?</td>\n",
       "      <td>212759</td>\n",
       "      <td>6</td>\n",
       "      <td>Married-civ-spouse</td>\n",
       "      <td>?</td>\n",
       "      <td>Husband</td>\n",
       "      <td>Male</td>\n",
       "      <td>0</td>\n",
       "      <td>0</td>\n",
       "      <td>2</td>\n",
       "      <td>0</td>\n",
       "      <td>Married</td>\n",
       "      <td>11</td>\n",
       "    </tr>\n",
       "    <tr>\n",
       "      <th>106</th>\n",
       "      <td>17</td>\n",
       "      <td>?</td>\n",
       "      <td>304873</td>\n",
       "      <td>6</td>\n",
       "      <td>Never-married</td>\n",
       "      <td>?</td>\n",
       "      <td>Own-child</td>\n",
       "      <td>Female</td>\n",
       "      <td>34095</td>\n",
       "      <td>0</td>\n",
       "      <td>32</td>\n",
       "      <td>0</td>\n",
       "      <td>Single</td>\n",
       "      <td>11</td>\n",
       "    </tr>\n",
       "    <tr>\n",
       "      <th>...</th>\n",
       "      <td>...</td>\n",
       "      <td>...</td>\n",
       "      <td>...</td>\n",
       "      <td>...</td>\n",
       "      <td>...</td>\n",
       "      <td>...</td>\n",
       "      <td>...</td>\n",
       "      <td>...</td>\n",
       "      <td>...</td>\n",
       "      <td>...</td>\n",
       "      <td>...</td>\n",
       "      <td>...</td>\n",
       "      <td>...</td>\n",
       "      <td>...</td>\n",
       "    </tr>\n",
       "    <tr>\n",
       "      <th>38962</th>\n",
       "      <td>24</td>\n",
       "      <td>?</td>\n",
       "      <td>175069</td>\n",
       "      <td>13</td>\n",
       "      <td>Never-married</td>\n",
       "      <td>?</td>\n",
       "      <td>Not-in-family</td>\n",
       "      <td>Male</td>\n",
       "      <td>0</td>\n",
       "      <td>0</td>\n",
       "      <td>50</td>\n",
       "      <td>0</td>\n",
       "      <td>Single</td>\n",
       "      <td>11</td>\n",
       "    </tr>\n",
       "    <tr>\n",
       "      <th>38964</th>\n",
       "      <td>68</td>\n",
       "      <td>?</td>\n",
       "      <td>53850</td>\n",
       "      <td>4</td>\n",
       "      <td>Married-civ-spouse</td>\n",
       "      <td>?</td>\n",
       "      <td>Husband</td>\n",
       "      <td>Male</td>\n",
       "      <td>0</td>\n",
       "      <td>0</td>\n",
       "      <td>40</td>\n",
       "      <td>0</td>\n",
       "      <td>Married</td>\n",
       "      <td>11</td>\n",
       "    </tr>\n",
       "    <tr>\n",
       "      <th>39036</th>\n",
       "      <td>21</td>\n",
       "      <td>?</td>\n",
       "      <td>405684</td>\n",
       "      <td>9</td>\n",
       "      <td>Never-married</td>\n",
       "      <td>?</td>\n",
       "      <td>Other-relative</td>\n",
       "      <td>Male</td>\n",
       "      <td>0</td>\n",
       "      <td>0</td>\n",
       "      <td>35</td>\n",
       "      <td>0</td>\n",
       "      <td>Single</td>\n",
       "      <td>11</td>\n",
       "    </tr>\n",
       "    <tr>\n",
       "      <th>39060</th>\n",
       "      <td>67</td>\n",
       "      <td>?</td>\n",
       "      <td>37092</td>\n",
       "      <td>4</td>\n",
       "      <td>Married-civ-spouse</td>\n",
       "      <td>?</td>\n",
       "      <td>Husband</td>\n",
       "      <td>Male</td>\n",
       "      <td>0</td>\n",
       "      <td>0</td>\n",
       "      <td>4</td>\n",
       "      <td>0</td>\n",
       "      <td>Married</td>\n",
       "      <td>11</td>\n",
       "    </tr>\n",
       "    <tr>\n",
       "      <th>39063</th>\n",
       "      <td>19</td>\n",
       "      <td>?</td>\n",
       "      <td>258026</td>\n",
       "      <td>9</td>\n",
       "      <td>Never-married</td>\n",
       "      <td>?</td>\n",
       "      <td>Not-in-family</td>\n",
       "      <td>Female</td>\n",
       "      <td>0</td>\n",
       "      <td>0</td>\n",
       "      <td>16</td>\n",
       "      <td>0</td>\n",
       "      <td>Single</td>\n",
       "      <td>11</td>\n",
       "    </tr>\n",
       "  </tbody>\n",
       "</table>\n",
       "<p>2208 rows × 14 columns</p>\n",
       "</div>"
      ],
      "text/plain": [
       "       age workclass  fnlwgt  education-num         marital-status occupation  \\\n",
       "27      54         ?  180211             10     Married-civ-spouse          ?   \n",
       "61      32         ?  293936              4  Married-spouse-absent          ?   \n",
       "69      25         ?  200681             10          Never-married          ?   \n",
       "77      67         ?  212759              6     Married-civ-spouse          ?   \n",
       "106     17         ?  304873              6          Never-married          ?   \n",
       "...    ...       ...     ...            ...                    ...        ...   \n",
       "38962   24         ?  175069             13          Never-married          ?   \n",
       "38964   68         ?   53850              4     Married-civ-spouse          ?   \n",
       "39036   21         ?  405684              9          Never-married          ?   \n",
       "39060   67         ?   37092              4     Married-civ-spouse          ?   \n",
       "39063   19         ?  258026              9          Never-married          ?   \n",
       "\n",
       "         relationship     sex  capital-gain  capital-loss  hours-per-week  \\\n",
       "27            Husband    Male             0             0              60   \n",
       "61      Not-in-family    Male             0             0              40   \n",
       "69          Own-child    Male             0             0              40   \n",
       "77            Husband    Male             0             0               2   \n",
       "106         Own-child  Female         34095             0              32   \n",
       "...               ...     ...           ...           ...             ...   \n",
       "38962   Not-in-family    Male             0             0              50   \n",
       "38964         Husband    Male             0             0              40   \n",
       "39036  Other-relative    Male             0             0              35   \n",
       "39060         Husband    Male             0             0               4   \n",
       "39063   Not-in-family  Female             0             0              16   \n",
       "\n",
       "       wage marital-status_group  occupation_num  \n",
       "27        1              Married              11  \n",
       "61        0              Married              11  \n",
       "69        0               Single              11  \n",
       "77        0              Married              11  \n",
       "106       0               Single              11  \n",
       "...     ...                  ...             ...  \n",
       "38962     0               Single              11  \n",
       "38964     0              Married              11  \n",
       "39036     0               Single              11  \n",
       "39060     0              Married              11  \n",
       "39063     0               Single              11  \n",
       "\n",
       "[2208 rows x 14 columns]"
      ]
     },
     "execution_count": 23,
     "metadata": {},
     "output_type": "execute_result"
    }
   ],
   "source": [
    "occupation_quest = full_train.loc[full_train['occupation_num'] == 11]\n",
    "occupation_quest"
   ]
  },
  {
   "cell_type": "code",
   "execution_count": 24,
   "id": "b86b5feb-5727-4ab2-942d-ad3cdb25f0c7",
   "metadata": {},
   "outputs": [
    {
     "data": {
      "text/plain": [
       "array([1, 6, 4, ..., 4, 8, 4], dtype=int64)"
      ]
     },
     "execution_count": 24,
     "metadata": {},
     "output_type": "execute_result"
    }
   ],
   "source": [
    "#my predictions for the ? in occupation.. my y preds\n",
    "y_preds = knn_best.predict(occupation_quest.drop(columns=objects))\n",
    "y_preds"
   ]
  },
  {
   "cell_type": "markdown",
   "id": "02880977-f56b-466a-b8b4-c23ad3e82114",
   "metadata": {},
   "source": [
    "# Missing Occupation Replacement"
   ]
  },
  {
   "cell_type": "code",
   "execution_count": 25,
   "id": "38e6a3fd-8664-4142-ab06-d10f0e17a8cd",
   "metadata": {},
   "outputs": [
    {
     "name": "stderr",
     "output_type": "stream",
     "text": [
      "C:\\Users\\mshuba\\AppData\\Local\\Temp/ipykernel_12900/2940446328.py:1: SettingWithCopyWarning: \n",
      "A value is trying to be set on a copy of a slice from a DataFrame.\n",
      "Try using .loc[row_indexer,col_indexer] = value instead\n",
      "\n",
      "See the caveats in the documentation: https://pandas.pydata.org/pandas-docs/stable/user_guide/indexing.html#returning-a-view-versus-a-copy\n",
      "  occupation_quest['predicted_occupation'] = y_preds\n"
     ]
    }
   ],
   "source": [
    "occupation_quest['predicted_occupation'] = y_preds"
   ]
  },
  {
   "cell_type": "code",
   "execution_count": 26,
   "id": "c94c932d-b152-45a5-9a48-6a15da666986",
   "metadata": {},
   "outputs": [
    {
     "data": {
      "text/html": [
       "<div>\n",
       "<style scoped>\n",
       "    .dataframe tbody tr th:only-of-type {\n",
       "        vertical-align: middle;\n",
       "    }\n",
       "\n",
       "    .dataframe tbody tr th {\n",
       "        vertical-align: top;\n",
       "    }\n",
       "\n",
       "    .dataframe thead th {\n",
       "        text-align: right;\n",
       "    }\n",
       "</style>\n",
       "<table border=\"1\" class=\"dataframe\">\n",
       "  <thead>\n",
       "    <tr style=\"text-align: right;\">\n",
       "      <th></th>\n",
       "      <th>age</th>\n",
       "      <th>workclass</th>\n",
       "      <th>fnlwgt</th>\n",
       "      <th>education-num</th>\n",
       "      <th>marital-status</th>\n",
       "      <th>occupation</th>\n",
       "      <th>relationship</th>\n",
       "      <th>sex</th>\n",
       "      <th>capital-gain</th>\n",
       "      <th>capital-loss</th>\n",
       "      <th>hours-per-week</th>\n",
       "      <th>wage</th>\n",
       "      <th>marital-status_group</th>\n",
       "      <th>occupation_num</th>\n",
       "      <th>predicted_occupation</th>\n",
       "    </tr>\n",
       "  </thead>\n",
       "  <tbody>\n",
       "    <tr>\n",
       "      <th>27</th>\n",
       "      <td>54</td>\n",
       "      <td>?</td>\n",
       "      <td>180211</td>\n",
       "      <td>10</td>\n",
       "      <td>Married-civ-spouse</td>\n",
       "      <td>?</td>\n",
       "      <td>Husband</td>\n",
       "      <td>Male</td>\n",
       "      <td>0</td>\n",
       "      <td>0</td>\n",
       "      <td>60</td>\n",
       "      <td>1</td>\n",
       "      <td>Married</td>\n",
       "      <td>11</td>\n",
       "      <td>1</td>\n",
       "    </tr>\n",
       "    <tr>\n",
       "      <th>61</th>\n",
       "      <td>32</td>\n",
       "      <td>?</td>\n",
       "      <td>293936</td>\n",
       "      <td>4</td>\n",
       "      <td>Married-spouse-absent</td>\n",
       "      <td>?</td>\n",
       "      <td>Not-in-family</td>\n",
       "      <td>Male</td>\n",
       "      <td>0</td>\n",
       "      <td>0</td>\n",
       "      <td>40</td>\n",
       "      <td>0</td>\n",
       "      <td>Married</td>\n",
       "      <td>11</td>\n",
       "      <td>6</td>\n",
       "    </tr>\n",
       "    <tr>\n",
       "      <th>69</th>\n",
       "      <td>25</td>\n",
       "      <td>?</td>\n",
       "      <td>200681</td>\n",
       "      <td>10</td>\n",
       "      <td>Never-married</td>\n",
       "      <td>?</td>\n",
       "      <td>Own-child</td>\n",
       "      <td>Male</td>\n",
       "      <td>0</td>\n",
       "      <td>0</td>\n",
       "      <td>40</td>\n",
       "      <td>0</td>\n",
       "      <td>Single</td>\n",
       "      <td>11</td>\n",
       "      <td>4</td>\n",
       "    </tr>\n",
       "    <tr>\n",
       "      <th>77</th>\n",
       "      <td>67</td>\n",
       "      <td>?</td>\n",
       "      <td>212759</td>\n",
       "      <td>6</td>\n",
       "      <td>Married-civ-spouse</td>\n",
       "      <td>?</td>\n",
       "      <td>Husband</td>\n",
       "      <td>Male</td>\n",
       "      <td>0</td>\n",
       "      <td>0</td>\n",
       "      <td>2</td>\n",
       "      <td>0</td>\n",
       "      <td>Married</td>\n",
       "      <td>11</td>\n",
       "      <td>4</td>\n",
       "    </tr>\n",
       "    <tr>\n",
       "      <th>106</th>\n",
       "      <td>17</td>\n",
       "      <td>?</td>\n",
       "      <td>304873</td>\n",
       "      <td>6</td>\n",
       "      <td>Never-married</td>\n",
       "      <td>?</td>\n",
       "      <td>Own-child</td>\n",
       "      <td>Female</td>\n",
       "      <td>34095</td>\n",
       "      <td>0</td>\n",
       "      <td>32</td>\n",
       "      <td>0</td>\n",
       "      <td>Single</td>\n",
       "      <td>11</td>\n",
       "      <td>8</td>\n",
       "    </tr>\n",
       "    <tr>\n",
       "      <th>...</th>\n",
       "      <td>...</td>\n",
       "      <td>...</td>\n",
       "      <td>...</td>\n",
       "      <td>...</td>\n",
       "      <td>...</td>\n",
       "      <td>...</td>\n",
       "      <td>...</td>\n",
       "      <td>...</td>\n",
       "      <td>...</td>\n",
       "      <td>...</td>\n",
       "      <td>...</td>\n",
       "      <td>...</td>\n",
       "      <td>...</td>\n",
       "      <td>...</td>\n",
       "      <td>...</td>\n",
       "    </tr>\n",
       "    <tr>\n",
       "      <th>38962</th>\n",
       "      <td>24</td>\n",
       "      <td>?</td>\n",
       "      <td>175069</td>\n",
       "      <td>13</td>\n",
       "      <td>Never-married</td>\n",
       "      <td>?</td>\n",
       "      <td>Not-in-family</td>\n",
       "      <td>Male</td>\n",
       "      <td>0</td>\n",
       "      <td>0</td>\n",
       "      <td>50</td>\n",
       "      <td>0</td>\n",
       "      <td>Single</td>\n",
       "      <td>11</td>\n",
       "      <td>5</td>\n",
       "    </tr>\n",
       "    <tr>\n",
       "      <th>38964</th>\n",
       "      <td>68</td>\n",
       "      <td>?</td>\n",
       "      <td>53850</td>\n",
       "      <td>4</td>\n",
       "      <td>Married-civ-spouse</td>\n",
       "      <td>?</td>\n",
       "      <td>Husband</td>\n",
       "      <td>Male</td>\n",
       "      <td>0</td>\n",
       "      <td>0</td>\n",
       "      <td>40</td>\n",
       "      <td>0</td>\n",
       "      <td>Married</td>\n",
       "      <td>11</td>\n",
       "      <td>8</td>\n",
       "    </tr>\n",
       "    <tr>\n",
       "      <th>39036</th>\n",
       "      <td>21</td>\n",
       "      <td>?</td>\n",
       "      <td>405684</td>\n",
       "      <td>9</td>\n",
       "      <td>Never-married</td>\n",
       "      <td>?</td>\n",
       "      <td>Other-relative</td>\n",
       "      <td>Male</td>\n",
       "      <td>0</td>\n",
       "      <td>0</td>\n",
       "      <td>35</td>\n",
       "      <td>0</td>\n",
       "      <td>Single</td>\n",
       "      <td>11</td>\n",
       "      <td>4</td>\n",
       "    </tr>\n",
       "    <tr>\n",
       "      <th>39060</th>\n",
       "      <td>67</td>\n",
       "      <td>?</td>\n",
       "      <td>37092</td>\n",
       "      <td>4</td>\n",
       "      <td>Married-civ-spouse</td>\n",
       "      <td>?</td>\n",
       "      <td>Husband</td>\n",
       "      <td>Male</td>\n",
       "      <td>0</td>\n",
       "      <td>0</td>\n",
       "      <td>4</td>\n",
       "      <td>0</td>\n",
       "      <td>Married</td>\n",
       "      <td>11</td>\n",
       "      <td>8</td>\n",
       "    </tr>\n",
       "    <tr>\n",
       "      <th>39063</th>\n",
       "      <td>19</td>\n",
       "      <td>?</td>\n",
       "      <td>258026</td>\n",
       "      <td>9</td>\n",
       "      <td>Never-married</td>\n",
       "      <td>?</td>\n",
       "      <td>Not-in-family</td>\n",
       "      <td>Female</td>\n",
       "      <td>0</td>\n",
       "      <td>0</td>\n",
       "      <td>16</td>\n",
       "      <td>0</td>\n",
       "      <td>Single</td>\n",
       "      <td>11</td>\n",
       "      <td>4</td>\n",
       "    </tr>\n",
       "  </tbody>\n",
       "</table>\n",
       "<p>2208 rows × 15 columns</p>\n",
       "</div>"
      ],
      "text/plain": [
       "       age workclass  fnlwgt  education-num         marital-status occupation  \\\n",
       "27      54         ?  180211             10     Married-civ-spouse          ?   \n",
       "61      32         ?  293936              4  Married-spouse-absent          ?   \n",
       "69      25         ?  200681             10          Never-married          ?   \n",
       "77      67         ?  212759              6     Married-civ-spouse          ?   \n",
       "106     17         ?  304873              6          Never-married          ?   \n",
       "...    ...       ...     ...            ...                    ...        ...   \n",
       "38962   24         ?  175069             13          Never-married          ?   \n",
       "38964   68         ?   53850              4     Married-civ-spouse          ?   \n",
       "39036   21         ?  405684              9          Never-married          ?   \n",
       "39060   67         ?   37092              4     Married-civ-spouse          ?   \n",
       "39063   19         ?  258026              9          Never-married          ?   \n",
       "\n",
       "         relationship     sex  capital-gain  capital-loss  hours-per-week  \\\n",
       "27            Husband    Male             0             0              60   \n",
       "61      Not-in-family    Male             0             0              40   \n",
       "69          Own-child    Male             0             0              40   \n",
       "77            Husband    Male             0             0               2   \n",
       "106         Own-child  Female         34095             0              32   \n",
       "...               ...     ...           ...           ...             ...   \n",
       "38962   Not-in-family    Male             0             0              50   \n",
       "38964         Husband    Male             0             0              40   \n",
       "39036  Other-relative    Male             0             0              35   \n",
       "39060         Husband    Male             0             0               4   \n",
       "39063   Not-in-family  Female             0             0              16   \n",
       "\n",
       "       wage marital-status_group  occupation_num  predicted_occupation  \n",
       "27        1              Married              11                     1  \n",
       "61        0              Married              11                     6  \n",
       "69        0               Single              11                     4  \n",
       "77        0              Married              11                     4  \n",
       "106       0               Single              11                     8  \n",
       "...     ...                  ...             ...                   ...  \n",
       "38962     0               Single              11                     5  \n",
       "38964     0              Married              11                     8  \n",
       "39036     0               Single              11                     4  \n",
       "39060     0              Married              11                     8  \n",
       "39063     0               Single              11                     4  \n",
       "\n",
       "[2208 rows x 15 columns]"
      ]
     },
     "execution_count": 26,
     "metadata": {},
     "output_type": "execute_result"
    }
   ],
   "source": [
    "occupation_quest"
   ]
  },
  {
   "cell_type": "code",
   "execution_count": 27,
   "id": "dc7dcf1b-00b9-409f-bbf0-11135ebb5dd0",
   "metadata": {},
   "outputs": [],
   "source": [
    "full_train['predicted_?'] = occupation_quest['predicted_occupation']"
   ]
  },
  {
   "cell_type": "code",
   "execution_count": 28,
   "id": "3a6cc680-2cf5-4cff-9359-1e7bdd1298c8",
   "metadata": {},
   "outputs": [],
   "source": [
    "full_train['dummi_oc_num'] = full_train['occupation_num']"
   ]
  },
  {
   "cell_type": "code",
   "execution_count": 29,
   "id": "49f3e513-64a3-47e2-95cc-3eb7aec37707",
   "metadata": {},
   "outputs": [
    {
     "data": {
      "text/html": [
       "<div>\n",
       "<style scoped>\n",
       "    .dataframe tbody tr th:only-of-type {\n",
       "        vertical-align: middle;\n",
       "    }\n",
       "\n",
       "    .dataframe tbody tr th {\n",
       "        vertical-align: top;\n",
       "    }\n",
       "\n",
       "    .dataframe thead th {\n",
       "        text-align: right;\n",
       "    }\n",
       "</style>\n",
       "<table border=\"1\" class=\"dataframe\">\n",
       "  <thead>\n",
       "    <tr style=\"text-align: right;\">\n",
       "      <th></th>\n",
       "      <th>age</th>\n",
       "      <th>workclass</th>\n",
       "      <th>fnlwgt</th>\n",
       "      <th>education-num</th>\n",
       "      <th>marital-status</th>\n",
       "      <th>occupation</th>\n",
       "      <th>relationship</th>\n",
       "      <th>sex</th>\n",
       "      <th>capital-gain</th>\n",
       "      <th>capital-loss</th>\n",
       "      <th>hours-per-week</th>\n",
       "      <th>wage</th>\n",
       "      <th>marital-status_group</th>\n",
       "      <th>occupation_num</th>\n",
       "      <th>predicted_?</th>\n",
       "      <th>dummi_oc_num</th>\n",
       "    </tr>\n",
       "  </thead>\n",
       "  <tbody>\n",
       "    <tr>\n",
       "      <th>0</th>\n",
       "      <td>39</td>\n",
       "      <td>State-gov</td>\n",
       "      <td>77516</td>\n",
       "      <td>13</td>\n",
       "      <td>Never-married</td>\n",
       "      <td>Adm-clerical</td>\n",
       "      <td>Not-in-family</td>\n",
       "      <td>Male</td>\n",
       "      <td>2174</td>\n",
       "      <td>0</td>\n",
       "      <td>40</td>\n",
       "      <td>0</td>\n",
       "      <td>Single</td>\n",
       "      <td>0</td>\n",
       "      <td>NaN</td>\n",
       "      <td>0</td>\n",
       "    </tr>\n",
       "    <tr>\n",
       "      <th>1</th>\n",
       "      <td>50</td>\n",
       "      <td>Self-emp-not-inc</td>\n",
       "      <td>83311</td>\n",
       "      <td>13</td>\n",
       "      <td>Married-civ-spouse</td>\n",
       "      <td>Exec-managerial</td>\n",
       "      <td>Husband</td>\n",
       "      <td>Male</td>\n",
       "      <td>0</td>\n",
       "      <td>0</td>\n",
       "      <td>13</td>\n",
       "      <td>0</td>\n",
       "      <td>Married</td>\n",
       "      <td>1</td>\n",
       "      <td>NaN</td>\n",
       "      <td>1</td>\n",
       "    </tr>\n",
       "    <tr>\n",
       "      <th>2</th>\n",
       "      <td>38</td>\n",
       "      <td>Private</td>\n",
       "      <td>215646</td>\n",
       "      <td>9</td>\n",
       "      <td>Divorced</td>\n",
       "      <td>Handlers-cleaners</td>\n",
       "      <td>Not-in-family</td>\n",
       "      <td>Male</td>\n",
       "      <td>0</td>\n",
       "      <td>0</td>\n",
       "      <td>40</td>\n",
       "      <td>0</td>\n",
       "      <td>Single</td>\n",
       "      <td>2</td>\n",
       "      <td>NaN</td>\n",
       "      <td>2</td>\n",
       "    </tr>\n",
       "    <tr>\n",
       "      <th>3</th>\n",
       "      <td>53</td>\n",
       "      <td>Private</td>\n",
       "      <td>234721</td>\n",
       "      <td>7</td>\n",
       "      <td>Married-civ-spouse</td>\n",
       "      <td>Handlers-cleaners</td>\n",
       "      <td>Husband</td>\n",
       "      <td>Male</td>\n",
       "      <td>0</td>\n",
       "      <td>0</td>\n",
       "      <td>40</td>\n",
       "      <td>0</td>\n",
       "      <td>Married</td>\n",
       "      <td>2</td>\n",
       "      <td>NaN</td>\n",
       "      <td>2</td>\n",
       "    </tr>\n",
       "    <tr>\n",
       "      <th>4</th>\n",
       "      <td>28</td>\n",
       "      <td>Private</td>\n",
       "      <td>338409</td>\n",
       "      <td>13</td>\n",
       "      <td>Married-civ-spouse</td>\n",
       "      <td>Prof-specialty</td>\n",
       "      <td>Wife</td>\n",
       "      <td>Female</td>\n",
       "      <td>0</td>\n",
       "      <td>0</td>\n",
       "      <td>40</td>\n",
       "      <td>0</td>\n",
       "      <td>Married</td>\n",
       "      <td>3</td>\n",
       "      <td>NaN</td>\n",
       "      <td>3</td>\n",
       "    </tr>\n",
       "    <tr>\n",
       "      <th>...</th>\n",
       "      <td>...</td>\n",
       "      <td>...</td>\n",
       "      <td>...</td>\n",
       "      <td>...</td>\n",
       "      <td>...</td>\n",
       "      <td>...</td>\n",
       "      <td>...</td>\n",
       "      <td>...</td>\n",
       "      <td>...</td>\n",
       "      <td>...</td>\n",
       "      <td>...</td>\n",
       "      <td>...</td>\n",
       "      <td>...</td>\n",
       "      <td>...</td>\n",
       "      <td>...</td>\n",
       "      <td>...</td>\n",
       "    </tr>\n",
       "    <tr>\n",
       "      <th>39069</th>\n",
       "      <td>29</td>\n",
       "      <td>Private</td>\n",
       "      <td>198997</td>\n",
       "      <td>9</td>\n",
       "      <td>Married-civ-spouse</td>\n",
       "      <td>Adm-clerical</td>\n",
       "      <td>Wife</td>\n",
       "      <td>Female</td>\n",
       "      <td>0</td>\n",
       "      <td>0</td>\n",
       "      <td>20</td>\n",
       "      <td>0</td>\n",
       "      <td>Married</td>\n",
       "      <td>0</td>\n",
       "      <td>NaN</td>\n",
       "      <td>0</td>\n",
       "    </tr>\n",
       "    <tr>\n",
       "      <th>39070</th>\n",
       "      <td>17</td>\n",
       "      <td>Private</td>\n",
       "      <td>46496</td>\n",
       "      <td>7</td>\n",
       "      <td>Never-married</td>\n",
       "      <td>Other-service</td>\n",
       "      <td>Own-child</td>\n",
       "      <td>Male</td>\n",
       "      <td>0</td>\n",
       "      <td>0</td>\n",
       "      <td>5</td>\n",
       "      <td>0</td>\n",
       "      <td>Single</td>\n",
       "      <td>4</td>\n",
       "      <td>NaN</td>\n",
       "      <td>4</td>\n",
       "    </tr>\n",
       "    <tr>\n",
       "      <th>39071</th>\n",
       "      <td>31</td>\n",
       "      <td>Local-gov</td>\n",
       "      <td>381153</td>\n",
       "      <td>10</td>\n",
       "      <td>Married-civ-spouse</td>\n",
       "      <td>Protective-serv</td>\n",
       "      <td>Husband</td>\n",
       "      <td>Male</td>\n",
       "      <td>15024</td>\n",
       "      <td>0</td>\n",
       "      <td>56</td>\n",
       "      <td>1</td>\n",
       "      <td>Married</td>\n",
       "      <td>12</td>\n",
       "      <td>NaN</td>\n",
       "      <td>12</td>\n",
       "    </tr>\n",
       "    <tr>\n",
       "      <th>39072</th>\n",
       "      <td>35</td>\n",
       "      <td>Private</td>\n",
       "      <td>385412</td>\n",
       "      <td>13</td>\n",
       "      <td>Never-married</td>\n",
       "      <td>Adm-clerical</td>\n",
       "      <td>Not-in-family</td>\n",
       "      <td>Female</td>\n",
       "      <td>0</td>\n",
       "      <td>0</td>\n",
       "      <td>40</td>\n",
       "      <td>0</td>\n",
       "      <td>Single</td>\n",
       "      <td>0</td>\n",
       "      <td>NaN</td>\n",
       "      <td>0</td>\n",
       "    </tr>\n",
       "    <tr>\n",
       "      <th>39073</th>\n",
       "      <td>40</td>\n",
       "      <td>Private</td>\n",
       "      <td>223277</td>\n",
       "      <td>13</td>\n",
       "      <td>Married-civ-spouse</td>\n",
       "      <td>Adm-clerical</td>\n",
       "      <td>Husband</td>\n",
       "      <td>Male</td>\n",
       "      <td>0</td>\n",
       "      <td>0</td>\n",
       "      <td>50</td>\n",
       "      <td>1</td>\n",
       "      <td>Married</td>\n",
       "      <td>0</td>\n",
       "      <td>NaN</td>\n",
       "      <td>0</td>\n",
       "    </tr>\n",
       "  </tbody>\n",
       "</table>\n",
       "<p>39074 rows × 16 columns</p>\n",
       "</div>"
      ],
      "text/plain": [
       "       age         workclass  fnlwgt  education-num      marital-status  \\\n",
       "0       39         State-gov   77516             13       Never-married   \n",
       "1       50  Self-emp-not-inc   83311             13  Married-civ-spouse   \n",
       "2       38           Private  215646              9            Divorced   \n",
       "3       53           Private  234721              7  Married-civ-spouse   \n",
       "4       28           Private  338409             13  Married-civ-spouse   \n",
       "...    ...               ...     ...            ...                 ...   \n",
       "39069   29           Private  198997              9  Married-civ-spouse   \n",
       "39070   17           Private   46496              7       Never-married   \n",
       "39071   31         Local-gov  381153             10  Married-civ-spouse   \n",
       "39072   35           Private  385412             13       Never-married   \n",
       "39073   40           Private  223277             13  Married-civ-spouse   \n",
       "\n",
       "              occupation   relationship     sex  capital-gain  capital-loss  \\\n",
       "0           Adm-clerical  Not-in-family    Male          2174             0   \n",
       "1        Exec-managerial        Husband    Male             0             0   \n",
       "2      Handlers-cleaners  Not-in-family    Male             0             0   \n",
       "3      Handlers-cleaners        Husband    Male             0             0   \n",
       "4         Prof-specialty           Wife  Female             0             0   \n",
       "...                  ...            ...     ...           ...           ...   \n",
       "39069       Adm-clerical           Wife  Female             0             0   \n",
       "39070      Other-service      Own-child    Male             0             0   \n",
       "39071    Protective-serv        Husband    Male         15024             0   \n",
       "39072       Adm-clerical  Not-in-family  Female             0             0   \n",
       "39073       Adm-clerical        Husband    Male             0             0   \n",
       "\n",
       "       hours-per-week  wage marital-status_group  occupation_num  predicted_?  \\\n",
       "0                  40     0               Single               0          NaN   \n",
       "1                  13     0              Married               1          NaN   \n",
       "2                  40     0               Single               2          NaN   \n",
       "3                  40     0              Married               2          NaN   \n",
       "4                  40     0              Married               3          NaN   \n",
       "...               ...   ...                  ...             ...          ...   \n",
       "39069              20     0              Married               0          NaN   \n",
       "39070               5     0               Single               4          NaN   \n",
       "39071              56     1              Married              12          NaN   \n",
       "39072              40     0               Single               0          NaN   \n",
       "39073              50     1              Married               0          NaN   \n",
       "\n",
       "       dummi_oc_num  \n",
       "0                 0  \n",
       "1                 1  \n",
       "2                 2  \n",
       "3                 2  \n",
       "4                 3  \n",
       "...             ...  \n",
       "39069             0  \n",
       "39070             4  \n",
       "39071            12  \n",
       "39072             0  \n",
       "39073             0  \n",
       "\n",
       "[39074 rows x 16 columns]"
      ]
     },
     "execution_count": 29,
     "metadata": {},
     "output_type": "execute_result"
    }
   ],
   "source": [
    "full_train"
   ]
  },
  {
   "cell_type": "code",
   "execution_count": 30,
   "id": "e91e5a40-03e7-4cec-8454-f70d668157eb",
   "metadata": {},
   "outputs": [],
   "source": [
    "full_train['dummi_oc_num'] = np.where(full_train['dummi_oc_num'] == 11, full_train['predicted_?'], full_train['dummi_oc_num']) #statement.. if... else"
   ]
  },
  {
   "cell_type": "code",
   "execution_count": null,
   "id": "3eedea91-d397-4406-97c5-836a50b600e7",
   "metadata": {},
   "outputs": [],
   "source": []
  },
  {
   "cell_type": "code",
   "execution_count": null,
   "id": "69a163e2-4070-45af-af13-93674771bf79",
   "metadata": {},
   "outputs": [],
   "source": []
  },
  {
   "cell_type": "code",
   "execution_count": 31,
   "id": "0bf23b3a-0ad5-4ac7-a95b-3d49162347b1",
   "metadata": {},
   "outputs": [
    {
     "data": {
      "text/html": [
       "<div>\n",
       "<style scoped>\n",
       "    .dataframe tbody tr th:only-of-type {\n",
       "        vertical-align: middle;\n",
       "    }\n",
       "\n",
       "    .dataframe tbody tr th {\n",
       "        vertical-align: top;\n",
       "    }\n",
       "\n",
       "    .dataframe thead th {\n",
       "        text-align: right;\n",
       "    }\n",
       "</style>\n",
       "<table border=\"1\" class=\"dataframe\">\n",
       "  <thead>\n",
       "    <tr style=\"text-align: right;\">\n",
       "      <th></th>\n",
       "      <th>dummi_oc_num</th>\n",
       "      <th>occupation_num</th>\n",
       "      <th>predicted_?</th>\n",
       "    </tr>\n",
       "  </thead>\n",
       "  <tbody>\n",
       "    <tr>\n",
       "      <th>0</th>\n",
       "      <td>0.0</td>\n",
       "      <td>0</td>\n",
       "      <td>NaN</td>\n",
       "    </tr>\n",
       "    <tr>\n",
       "      <th>1</th>\n",
       "      <td>1.0</td>\n",
       "      <td>1</td>\n",
       "      <td>NaN</td>\n",
       "    </tr>\n",
       "    <tr>\n",
       "      <th>2</th>\n",
       "      <td>2.0</td>\n",
       "      <td>2</td>\n",
       "      <td>NaN</td>\n",
       "    </tr>\n",
       "    <tr>\n",
       "      <th>3</th>\n",
       "      <td>2.0</td>\n",
       "      <td>2</td>\n",
       "      <td>NaN</td>\n",
       "    </tr>\n",
       "    <tr>\n",
       "      <th>4</th>\n",
       "      <td>3.0</td>\n",
       "      <td>3</td>\n",
       "      <td>NaN</td>\n",
       "    </tr>\n",
       "    <tr>\n",
       "      <th>...</th>\n",
       "      <td>...</td>\n",
       "      <td>...</td>\n",
       "      <td>...</td>\n",
       "    </tr>\n",
       "    <tr>\n",
       "      <th>39069</th>\n",
       "      <td>0.0</td>\n",
       "      <td>0</td>\n",
       "      <td>NaN</td>\n",
       "    </tr>\n",
       "    <tr>\n",
       "      <th>39070</th>\n",
       "      <td>4.0</td>\n",
       "      <td>4</td>\n",
       "      <td>NaN</td>\n",
       "    </tr>\n",
       "    <tr>\n",
       "      <th>39071</th>\n",
       "      <td>12.0</td>\n",
       "      <td>12</td>\n",
       "      <td>NaN</td>\n",
       "    </tr>\n",
       "    <tr>\n",
       "      <th>39072</th>\n",
       "      <td>0.0</td>\n",
       "      <td>0</td>\n",
       "      <td>NaN</td>\n",
       "    </tr>\n",
       "    <tr>\n",
       "      <th>39073</th>\n",
       "      <td>0.0</td>\n",
       "      <td>0</td>\n",
       "      <td>NaN</td>\n",
       "    </tr>\n",
       "  </tbody>\n",
       "</table>\n",
       "<p>39074 rows × 3 columns</p>\n",
       "</div>"
      ],
      "text/plain": [
       "       dummi_oc_num  occupation_num  predicted_?\n",
       "0               0.0               0          NaN\n",
       "1               1.0               1          NaN\n",
       "2               2.0               2          NaN\n",
       "3               2.0               2          NaN\n",
       "4               3.0               3          NaN\n",
       "...             ...             ...          ...\n",
       "39069           0.0               0          NaN\n",
       "39070           4.0               4          NaN\n",
       "39071          12.0              12          NaN\n",
       "39072           0.0               0          NaN\n",
       "39073           0.0               0          NaN\n",
       "\n",
       "[39074 rows x 3 columns]"
      ]
     },
     "execution_count": 31,
     "metadata": {},
     "output_type": "execute_result"
    }
   ],
   "source": [
    "full_train[['dummi_oc_num', 'occupation_num', 'predicted_?']]"
   ]
  },
  {
   "cell_type": "code",
   "execution_count": 32,
   "id": "813cef39-3da6-4602-840e-ce50e63cd561",
   "metadata": {},
   "outputs": [
    {
     "data": {
      "text/html": [
       "<div>\n",
       "<style scoped>\n",
       "    .dataframe tbody tr th:only-of-type {\n",
       "        vertical-align: middle;\n",
       "    }\n",
       "\n",
       "    .dataframe tbody tr th {\n",
       "        vertical-align: top;\n",
       "    }\n",
       "\n",
       "    .dataframe thead th {\n",
       "        text-align: right;\n",
       "    }\n",
       "</style>\n",
       "<table border=\"1\" class=\"dataframe\">\n",
       "  <thead>\n",
       "    <tr style=\"text-align: right;\">\n",
       "      <th></th>\n",
       "      <th>dummi_oc_num</th>\n",
       "      <th>occupation_num</th>\n",
       "      <th>predicted_?</th>\n",
       "    </tr>\n",
       "  </thead>\n",
       "  <tbody>\n",
       "    <tr>\n",
       "      <th>61</th>\n",
       "      <td>6.0</td>\n",
       "      <td>11</td>\n",
       "      <td>6.0</td>\n",
       "    </tr>\n",
       "    <tr>\n",
       "      <th>62</th>\n",
       "      <td>7.0</td>\n",
       "      <td>7</td>\n",
       "      <td>NaN</td>\n",
       "    </tr>\n",
       "    <tr>\n",
       "      <th>63</th>\n",
       "      <td>3.0</td>\n",
       "      <td>3</td>\n",
       "      <td>NaN</td>\n",
       "    </tr>\n",
       "    <tr>\n",
       "      <th>64</th>\n",
       "      <td>10.0</td>\n",
       "      <td>10</td>\n",
       "      <td>NaN</td>\n",
       "    </tr>\n",
       "    <tr>\n",
       "      <th>65</th>\n",
       "      <td>6.0</td>\n",
       "      <td>6</td>\n",
       "      <td>NaN</td>\n",
       "    </tr>\n",
       "    <tr>\n",
       "      <th>66</th>\n",
       "      <td>0.0</td>\n",
       "      <td>0</td>\n",
       "      <td>NaN</td>\n",
       "    </tr>\n",
       "    <tr>\n",
       "      <th>67</th>\n",
       "      <td>0.0</td>\n",
       "      <td>0</td>\n",
       "      <td>NaN</td>\n",
       "    </tr>\n",
       "    <tr>\n",
       "      <th>68</th>\n",
       "      <td>1.0</td>\n",
       "      <td>1</td>\n",
       "      <td>NaN</td>\n",
       "    </tr>\n",
       "    <tr>\n",
       "      <th>69</th>\n",
       "      <td>4.0</td>\n",
       "      <td>11</td>\n",
       "      <td>4.0</td>\n",
       "    </tr>\n",
       "  </tbody>\n",
       "</table>\n",
       "</div>"
      ],
      "text/plain": [
       "    dummi_oc_num  occupation_num  predicted_?\n",
       "61           6.0              11          6.0\n",
       "62           7.0               7          NaN\n",
       "63           3.0               3          NaN\n",
       "64          10.0              10          NaN\n",
       "65           6.0               6          NaN\n",
       "66           0.0               0          NaN\n",
       "67           0.0               0          NaN\n",
       "68           1.0               1          NaN\n",
       "69           4.0              11          4.0"
      ]
     },
     "execution_count": 32,
     "metadata": {},
     "output_type": "execute_result"
    }
   ],
   "source": [
    "full_train[['dummi_oc_num', 'occupation_num', 'predicted_?']].iloc[61:70]"
   ]
  },
  {
   "cell_type": "code",
   "execution_count": 33,
   "id": "81bc8542-ea18-4a1f-8284-b7c8fed4f69d",
   "metadata": {},
   "outputs": [
    {
     "data": {
      "text/plain": [
       "{0: 'Adm-clerical',\n",
       " 1: 'Exec-managerial',\n",
       " 2: 'Handlers-cleaners',\n",
       " 3: 'Prof-specialty',\n",
       " 4: 'Other-service',\n",
       " 5: 'Sales',\n",
       " 6: 'Craft-repair',\n",
       " 7: 'Transport-moving',\n",
       " 8: 'Farming-fishing',\n",
       " 9: 'Machine-op-inspct',\n",
       " 10: 'Tech-support',\n",
       " 11: '?',\n",
       " 12: 'Protective-serv',\n",
       " 13: 'Armed-Forces',\n",
       " 14: 'Priv-house-serv'}"
      ]
     },
     "execution_count": 33,
     "metadata": {},
     "output_type": "execute_result"
    }
   ],
   "source": [
    "rev_oc_dict = {}\n",
    "\n",
    "for key, value in oc_dict.items():\n",
    "    rev_oc_dict[value] = key\n",
    "   \n",
    "rev_oc_dict"
   ]
  },
  {
   "cell_type": "code",
   "execution_count": 34,
   "id": "e21a4c39-6d61-431a-b067-d6a48a9d92ab",
   "metadata": {},
   "outputs": [],
   "source": [
    "full_train['occupation_prime'] = full_train['dummi_oc_num'].map(rev_oc_dict) # Filled nans or ?"
   ]
  },
  {
   "cell_type": "code",
   "execution_count": 35,
   "id": "ddbfcad0-e5c7-4cde-b3e6-4a31ed0487fe",
   "metadata": {},
   "outputs": [
    {
     "data": {
      "text/html": [
       "<div>\n",
       "<style scoped>\n",
       "    .dataframe tbody tr th:only-of-type {\n",
       "        vertical-align: middle;\n",
       "    }\n",
       "\n",
       "    .dataframe tbody tr th {\n",
       "        vertical-align: top;\n",
       "    }\n",
       "\n",
       "    .dataframe thead th {\n",
       "        text-align: right;\n",
       "    }\n",
       "</style>\n",
       "<table border=\"1\" class=\"dataframe\">\n",
       "  <thead>\n",
       "    <tr style=\"text-align: right;\">\n",
       "      <th></th>\n",
       "      <th>dummi_oc_num</th>\n",
       "      <th>occupation_num</th>\n",
       "      <th>predicted_?</th>\n",
       "      <th>occupation_prime</th>\n",
       "      <th>occupation</th>\n",
       "    </tr>\n",
       "  </thead>\n",
       "  <tbody>\n",
       "    <tr>\n",
       "      <th>61</th>\n",
       "      <td>6.0</td>\n",
       "      <td>11</td>\n",
       "      <td>6.0</td>\n",
       "      <td>Craft-repair</td>\n",
       "      <td>?</td>\n",
       "    </tr>\n",
       "    <tr>\n",
       "      <th>62</th>\n",
       "      <td>7.0</td>\n",
       "      <td>7</td>\n",
       "      <td>NaN</td>\n",
       "      <td>Transport-moving</td>\n",
       "      <td>Transport-moving</td>\n",
       "    </tr>\n",
       "    <tr>\n",
       "      <th>63</th>\n",
       "      <td>3.0</td>\n",
       "      <td>3</td>\n",
       "      <td>NaN</td>\n",
       "      <td>Prof-specialty</td>\n",
       "      <td>Prof-specialty</td>\n",
       "    </tr>\n",
       "    <tr>\n",
       "      <th>64</th>\n",
       "      <td>10.0</td>\n",
       "      <td>10</td>\n",
       "      <td>NaN</td>\n",
       "      <td>Tech-support</td>\n",
       "      <td>Tech-support</td>\n",
       "    </tr>\n",
       "    <tr>\n",
       "      <th>65</th>\n",
       "      <td>6.0</td>\n",
       "      <td>6</td>\n",
       "      <td>NaN</td>\n",
       "      <td>Craft-repair</td>\n",
       "      <td>Craft-repair</td>\n",
       "    </tr>\n",
       "    <tr>\n",
       "      <th>66</th>\n",
       "      <td>0.0</td>\n",
       "      <td>0</td>\n",
       "      <td>NaN</td>\n",
       "      <td>Adm-clerical</td>\n",
       "      <td>Adm-clerical</td>\n",
       "    </tr>\n",
       "    <tr>\n",
       "      <th>67</th>\n",
       "      <td>0.0</td>\n",
       "      <td>0</td>\n",
       "      <td>NaN</td>\n",
       "      <td>Adm-clerical</td>\n",
       "      <td>Adm-clerical</td>\n",
       "    </tr>\n",
       "    <tr>\n",
       "      <th>68</th>\n",
       "      <td>1.0</td>\n",
       "      <td>1</td>\n",
       "      <td>NaN</td>\n",
       "      <td>Exec-managerial</td>\n",
       "      <td>Exec-managerial</td>\n",
       "    </tr>\n",
       "    <tr>\n",
       "      <th>69</th>\n",
       "      <td>4.0</td>\n",
       "      <td>11</td>\n",
       "      <td>4.0</td>\n",
       "      <td>Other-service</td>\n",
       "      <td>?</td>\n",
       "    </tr>\n",
       "  </tbody>\n",
       "</table>\n",
       "</div>"
      ],
      "text/plain": [
       "    dummi_oc_num  occupation_num  predicted_?  occupation_prime  \\\n",
       "61           6.0              11          6.0      Craft-repair   \n",
       "62           7.0               7          NaN  Transport-moving   \n",
       "63           3.0               3          NaN    Prof-specialty   \n",
       "64          10.0              10          NaN      Tech-support   \n",
       "65           6.0               6          NaN      Craft-repair   \n",
       "66           0.0               0          NaN      Adm-clerical   \n",
       "67           0.0               0          NaN      Adm-clerical   \n",
       "68           1.0               1          NaN   Exec-managerial   \n",
       "69           4.0              11          4.0     Other-service   \n",
       "\n",
       "          occupation  \n",
       "61                 ?  \n",
       "62  Transport-moving  \n",
       "63    Prof-specialty  \n",
       "64      Tech-support  \n",
       "65      Craft-repair  \n",
       "66      Adm-clerical  \n",
       "67      Adm-clerical  \n",
       "68   Exec-managerial  \n",
       "69                 ?  "
      ]
     },
     "execution_count": 35,
     "metadata": {},
     "output_type": "execute_result"
    }
   ],
   "source": [
    "full_train[['dummi_oc_num', 'occupation_num', 'predicted_?', 'occupation_prime','occupation']].iloc[61:70]"
   ]
  },
  {
   "cell_type": "markdown",
   "id": "fa22d25c-34df-4d03-acfe-a96c318fc8a5",
   "metadata": {},
   "source": [
    "# Dummies"
   ]
  },
  {
   "cell_type": "code",
   "execution_count": 36,
   "id": "5ebee42b-f92c-47d4-852a-19479fd6e120",
   "metadata": {},
   "outputs": [],
   "source": [
    "objects = []\n",
    "for x in full_train:\n",
    "    if full_train[x].dtype == 'object':\n",
    "        objects.append(x)"
   ]
  },
  {
   "cell_type": "code",
   "execution_count": 37,
   "id": "8167e36c-169d-479e-8a31-59955ab79f42",
   "metadata": {},
   "outputs": [],
   "source": [
    "objects.remove('occupation')"
   ]
  },
  {
   "cell_type": "code",
   "execution_count": 38,
   "id": "73e04e76-0313-48c3-bf40-6b2160131001",
   "metadata": {},
   "outputs": [
    {
     "data": {
      "text/plain": [
       "['workclass',\n",
       " 'marital-status',\n",
       " 'relationship',\n",
       " 'sex',\n",
       " 'marital-status_group',\n",
       " 'occupation_prime']"
      ]
     },
     "execution_count": 38,
     "metadata": {},
     "output_type": "execute_result"
    }
   ],
   "source": [
    "objects"
   ]
  },
  {
   "cell_type": "code",
   "execution_count": 39,
   "id": "814f0a9c-da51-481e-80a9-aed23424b370",
   "metadata": {},
   "outputs": [],
   "source": [
    "full_train_dum = pd.get_dummies(full_train[objects])"
   ]
  },
  {
   "cell_type": "code",
   "execution_count": 40,
   "id": "89ee328a-cdc7-4dc7-bc93-c254478c6ce3",
   "metadata": {},
   "outputs": [
    {
     "data": {
      "text/plain": [
       "((39074, 17), (39074, 40))"
      ]
     },
     "execution_count": 40,
     "metadata": {},
     "output_type": "execute_result"
    }
   ],
   "source": [
    "full_train.shape, full_train_dum.shape"
   ]
  },
  {
   "cell_type": "code",
   "execution_count": 41,
   "id": "3682050f-436b-4ae4-bc04-d38e0782dfd7",
   "metadata": {},
   "outputs": [],
   "source": [
    "pd.set_option('display.max_columns', 500)\n",
    "full_train_join = full_train.join(full_train_dum,rsuffix = 'dummi')"
   ]
  },
  {
   "cell_type": "code",
   "execution_count": 42,
   "id": "620ae616-4e48-47d6-bbf8-e3f631a67443",
   "metadata": {},
   "outputs": [
    {
     "data": {
      "image/png": "[encoded data removed]",
      "text/plain": [
       "<Figure size 360x2016 with 2 Axes>"
      ]
     },
     "metadata": {
      "needs_background": "light"
     },
     "output_type": "display_data"
    }
   ],
   "source": [
    "plt.figure(figsize= (5,28))\n",
    "\n",
    "corr = full_train_join.corr()\n",
    "\n",
    "sns.heatmap(corr[['wage']].sort_values(by='wage', ascending = False), annot=True, vmin=-1, vmax=1, cmap='icefire', annot_kws = {'size':12,'weight':'bold'})\n",
    "plt.xticks(rotation=45);"
   ]
  },
  {
   "cell_type": "code",
   "execution_count": 43,
   "id": "84da91d0-df3c-4f84-ab31-5e222b8ba153",
   "metadata": {},
   "outputs": [
    {
     "data": {
      "text/plain": [
       "wage                                  1.000000\n",
       "marital-status_Married-civ-spouse     0.445437\n",
       "marital-status_group_Single           0.435463\n",
       "marital-status_group_Married          0.435463\n",
       "relationship_Husband                  0.403333\n",
       "education-num                         0.333186\n",
       "marital-status_Never-married          0.318155\n",
       "age                                   0.235328\n",
       "hours-per-week                        0.233926\n",
       "relationship_Own-child                0.228390\n",
       "capital-gain                          0.223001\n",
       "sex_Male                              0.218203\n",
       "sex_Female                            0.218203\n",
       "occupation_prime_Exec-managerial      0.217937\n",
       "relationship_Not-in-family            0.188069\n",
       "occupation_prime_Prof-specialty       0.183255\n",
       "occupation_prime_Other-service        0.169463\n",
       "capital-loss                          0.148090\n",
       "relationship_Unmarried                0.144311\n",
       "workclass_Self-emp-inc                0.142066\n",
       "marital-status_Divorced               0.127042\n",
       "relationship_Wife                     0.119655\n",
       "occupation_num                        0.108703\n",
       "occupation_prime_Adm-clerical         0.097210\n",
       "occupation_prime_Handlers-cleaners    0.090469\n",
       "predicted_?                           0.086151\n",
       "relationship_Other-relative           0.084094\n",
       "dummi_oc_num                          0.081393\n",
       "workclass_?                           0.078832\n",
       "workclass_Private                     0.076026\n",
       "Name: wage, dtype: float64"
      ]
     },
     "execution_count": 43,
     "metadata": {},
     "output_type": "execute_result"
    }
   ],
   "source": [
    "full_train_join.corr()['wage'].abs().sort_values(ascending=False)[:30]"
   ]
  },
  {
   "cell_type": "code",
   "execution_count": 44,
   "id": "5dfd49ad-a444-46a3-adfa-86d2609134bd",
   "metadata": {},
   "outputs": [
    {
     "data": {
      "text/plain": [
       "Index(['workclass_?', 'workclass_Federal-gov', 'workclass_Local-gov',\n",
       "       'workclass_Never-worked', 'workclass_Private', 'workclass_Self-emp-inc',\n",
       "       'workclass_Self-emp-not-inc', 'workclass_State-gov',\n",
       "       'workclass_Without-pay', 'marital-status_Divorced',\n",
       "       'marital-status_Married-AF-spouse', 'marital-status_Married-civ-spouse',\n",
       "       'marital-status_Married-spouse-absent', 'marital-status_Never-married',\n",
       "       'marital-status_Separated', 'marital-status_Widowed',\n",
       "       'relationship_Husband', 'relationship_Not-in-family',\n",
       "       'relationship_Other-relative', 'relationship_Own-child',\n",
       "       'relationship_Unmarried', 'relationship_Wife', 'sex_Female', 'sex_Male',\n",
       "       'marital-status_group_Married', 'marital-status_group_Single',\n",
       "       'occupation_prime_Adm-clerical', 'occupation_prime_Armed-Forces',\n",
       "       'occupation_prime_Craft-repair', 'occupation_prime_Exec-managerial',\n",
       "       'occupation_prime_Farming-fishing',\n",
       "       'occupation_prime_Handlers-cleaners',\n",
       "       'occupation_prime_Machine-op-inspct', 'occupation_prime_Other-service',\n",
       "       'occupation_prime_Priv-house-serv', 'occupation_prime_Prof-specialty',\n",
       "       'occupation_prime_Protective-serv', 'occupation_prime_Sales',\n",
       "       'occupation_prime_Tech-support', 'occupation_prime_Transport-moving'],\n",
       "      dtype='object')"
      ]
     },
     "execution_count": 44,
     "metadata": {},
     "output_type": "execute_result"
    }
   ],
   "source": [
    "full_train_dum.columns"
   ]
  },
  {
   "cell_type": "code",
   "execution_count": 45,
   "id": "567643ca-e06f-49c8-94c9-1d9b087ea13a",
   "metadata": {},
   "outputs": [],
   "source": [
    "features = ['capital-gain',\n",
    "     'hours-per-week',\n",
    "     'age',\n",
    "     'capital-loss',\n",
    "     'education-num',\n",
    "     'sex_Male',\n",
    "     'marital-status_group_Married',\n",
    "     'occupation_prime_Exec-managerial',\n",
    "     'occupation_prime_Prof-specialty',\n",
    "     'occupation_prime_Other-service',\n",
    "     'relationship_Husband',\n",
    "     'relationship_Own-child',\n",
    "     'relationship_Not-in-family',\n",
    "     'relationship_Unmarried', \n",
    "     'relationship_Wife']"
   ]
  },
  {
   "cell_type": "code",
   "execution_count": 46,
   "id": "0b604e29-3f81-4666-b944-281ea3358f9e",
   "metadata": {},
   "outputs": [
    {
     "data": {
      "text/plain": [
       "15"
      ]
     },
     "execution_count": 46,
     "metadata": {},
     "output_type": "execute_result"
    }
   ],
   "source": [
    "len(features)"
   ]
  },
  {
   "cell_type": "markdown",
   "id": "a9498f5e-5189-4080-a296-de397c53141d",
   "metadata": {},
   "source": [
    "Modeling"
   ]
  },
  {
   "cell_type": "markdown",
   "id": "dc37afc9-af9b-4a71-a8ac-ef97189969d7",
   "metadata": {},
   "source": [
    "Multinomial Naive Bayes"
   ]
  },
  {
   "cell_type": "code",
   "execution_count": 47,
   "id": "892b4e8f-276e-4380-80f5-abd0d35463c3",
   "metadata": {},
   "outputs": [],
   "source": [
    "from sklearn.model_selection import train_test_split\n",
    "from sklearn.naive_bayes import MultinomialNB\n",
    "from sklearn.preprocessing import StandardScaler, MinMaxScaler\n",
    "from sklearn.model_selection import GridSearchCV\n"
   ]
  },
  {
   "cell_type": "code",
   "execution_count": 48,
   "id": "6c55a33d-b841-4ef5-8ca7-46f268cfb751",
   "metadata": {},
   "outputs": [],
   "source": [
    "X = full_train_join[features]\n",
    "y = full_train_join['wage']"
   ]
  },
  {
   "cell_type": "code",
   "execution_count": 49,
   "id": "f05d7745-4620-43e3-8886-6b0dde4863d9",
   "metadata": {},
   "outputs": [],
   "source": [
    "X_train, X_test, y_train, y_test = train_test_split(X, y, test_size=0.33, stratify=y, random_state=42)"
   ]
  },
  {
   "cell_type": "code",
   "execution_count": 50,
   "id": "ae080bcf-535b-4d51-9a70-ae8041a9e87a",
   "metadata": {},
   "outputs": [],
   "source": [
    "mm = MinMaxScaler()   #NAIVE BAISE CANT USE NEGATIVE NUMBER SO YOU HAVE TO USE THIS ONE\n",
    "M_train = mm.fit_transform(X_train)\n",
    "M_test = mm.transform(X_test)"
   ]
  },
  {
   "cell_type": "code",
   "execution_count": 51,
   "id": "1cf0a246-6d80-4035-972d-f426ef390706",
   "metadata": {},
   "outputs": [],
   "source": [
    "mnb = MultinomialNB()"
   ]
  },
  {
   "cell_type": "code",
   "execution_count": 52,
   "id": "3399954d-f5e3-42fe-a454-8ec7262e18c9",
   "metadata": {},
   "outputs": [],
   "source": [
    "params_dict = {'alpha': np.linspace(0,1,10)}"
   ]
  },
  {
   "cell_type": "code",
   "execution_count": 53,
   "id": "6d2a4fe6-1ac2-4e5d-a094-d5f6e2b4bda3",
   "metadata": {},
   "outputs": [],
   "source": [
    "gs_mnb = GridSearchCV(estimator=mnb, param_grid=params_dict, cv = 5, verbose=1, n_jobs = -2)"
   ]
  },
  {
   "cell_type": "code",
   "execution_count": 54,
   "id": "0504ed18-7c3d-4beb-849f-0cadb9df3f08",
   "metadata": {},
   "outputs": [
    {
     "name": "stdout",
     "output_type": "stream",
     "text": [
      "Fitting 5 folds for each of 10 candidates, totalling 50 fits\n",
      "Wall time: 4.64 s\n"
     ]
    },
    {
     "data": {
      "text/plain": [
       "GridSearchCV(cv=5, estimator=MultinomialNB(), n_jobs=-2,\n",
       "             param_grid={'alpha': array([0.        , 0.11111111, 0.22222222, 0.33333333, 0.44444444,\n",
       "       0.55555556, 0.66666667, 0.77777778, 0.88888889, 1.        ])},\n",
       "             verbose=1)"
      ]
     },
     "execution_count": 54,
     "metadata": {},
     "output_type": "execute_result"
    }
   ],
   "source": [
    "%%time\n",
    "gs_mnb.fit(M_train,y_train)"
   ]
  },
  {
   "cell_type": "code",
   "execution_count": 55,
   "id": "b006cf49-a5b1-4b9b-9abe-5ffde597aaf6",
   "metadata": {},
   "outputs": [
    {
     "data": {
      "text/plain": [
       "{'alpha': 1.0}"
      ]
     },
     "execution_count": 55,
     "metadata": {},
     "output_type": "execute_result"
    }
   ],
   "source": [
    "gs_mnb.best_params_"
   ]
  },
  {
   "cell_type": "code",
   "execution_count": 56,
   "id": "ecf5bf01-7864-496a-9888-f67220d87925",
   "metadata": {},
   "outputs": [
    {
     "data": {
      "text/plain": [
       "0.8229498738802633"
      ]
     },
     "execution_count": 56,
     "metadata": {},
     "output_type": "execute_result"
    }
   ],
   "source": [
    "gs_mnb.best_score_"
   ]
  },
  {
   "cell_type": "code",
   "execution_count": 57,
   "id": "78c032bd-d148-4ab9-b31d-0c227b51254d",
   "metadata": {},
   "outputs": [
    {
     "data": {
      "text/plain": [
       "(0.8223385156041102, 0.820860798759209)"
      ]
     },
     "execution_count": 57,
     "metadata": {},
     "output_type": "execute_result"
    }
   ],
   "source": [
    "gs_mnb.score(M_train, y_train) , gs_mnb.score(M_test, y_test)"
   ]
  },
  {
   "cell_type": "markdown",
   "id": "93c25da3-30d6-4c86-88cb-151a16a7b4b9",
   "metadata": {},
   "source": [
    "# Logistic Regression"
   ]
  },
  {
   "cell_type": "code",
   "execution_count": 58,
   "id": "7413e687-1d39-4ce8-a3ed-68030255bd8e",
   "metadata": {},
   "outputs": [],
   "source": [
    "from sklearn.linear_model import LogisticRegression"
   ]
  },
  {
   "cell_type": "code",
   "execution_count": 59,
   "id": "061d7104-368c-4267-af56-13235785a5f0",
   "metadata": {},
   "outputs": [],
   "source": [
    "sc = StandardScaler()\n",
    "Z_train = sc.fit_transform(X_train)\n",
    "Z_test = sc.transform(X_test)"
   ]
  },
  {
   "cell_type": "code",
   "execution_count": 60,
   "id": "51666366-3630-4374-8966-c9653f5648b1",
   "metadata": {},
   "outputs": [],
   "source": [
    "logreg = LogisticRegression()"
   ]
  },
  {
   "cell_type": "code",
   "execution_count": 61,
   "id": "ae90c292-c291-49cb-89fc-8ed7fc92b278",
   "metadata": {},
   "outputs": [
    {
     "data": {
      "text/plain": [
       "LogisticRegression()"
      ]
     },
     "execution_count": 61,
     "metadata": {},
     "output_type": "execute_result"
    }
   ],
   "source": [
    "logreg.fit(Z_train,y_train)"
   ]
  },
  {
   "cell_type": "code",
   "execution_count": 62,
   "id": "ea3f156f-952a-4839-a6da-22b5f03d0448",
   "metadata": {},
   "outputs": [
    {
     "data": {
      "text/plain": [
       "(0.8472821727338706, 0.8454439705312137)"
      ]
     },
     "execution_count": 62,
     "metadata": {},
     "output_type": "execute_result"
    }
   ],
   "source": [
    "logreg.score(Z_train, y_train), logreg.score(Z_test, y_test)"
   ]
  },
  {
   "cell_type": "code",
   "execution_count": null,
   "id": "d2a8fa82-44ac-4712-a980-afdc47530630",
   "metadata": {},
   "outputs": [],
   "source": []
  },
  {
   "cell_type": "code",
   "execution_count": null,
   "id": "5d04c7ab-bf1b-4590-b0b7-6e1c6b2a614e",
   "metadata": {},
   "outputs": [],
   "source": []
  },
  {
   "cell_type": "markdown",
   "id": "deb1b09e-8991-4e5b-9ade-77b2fea74824",
   "metadata": {},
   "source": [
    "# Decision Trees"
   ]
  },
  {
   "cell_type": "code",
   "execution_count": 67,
   "id": "37376ca6-3ced-4ef8-b79c-ed8cfb754621",
   "metadata": {},
   "outputs": [],
   "source": [
    "from sklearn.tree import DecisionTreeClassifier"
   ]
  },
  {
   "cell_type": "code",
   "execution_count": 68,
   "id": "de832cdd-30ab-4d02-94fd-65f9f4678818",
   "metadata": {},
   "outputs": [
    {
     "data": {
      "text/plain": [
       "{'ccp_alpha': 0.0,\n",
       " 'class_weight': None,\n",
       " 'criterion': 'gini',\n",
       " 'max_depth': None,\n",
       " 'max_features': None,\n",
       " 'max_leaf_nodes': None,\n",
       " 'min_impurity_decrease': 0.0,\n",
       " 'min_samples_leaf': 1,\n",
       " 'min_samples_split': 2,\n",
       " 'min_weight_fraction_leaf': 0.0,\n",
       " 'random_state': None,\n",
       " 'splitter': 'best'}"
      ]
     },
     "execution_count": 68,
     "metadata": {},
     "output_type": "execute_result"
    }
   ],
   "source": [
    "DecisionTreeClassifier().get_params()"
   ]
  },
  {
   "cell_type": "code",
   "execution_count": 69,
   "id": "4af022b4-4cbc-4cdf-bf7a-7560834a03f8",
   "metadata": {},
   "outputs": [],
   "source": [
    "pipe_tree =  Pipeline([\n",
    "    ('sc', StandardScaler()),\n",
    "    ('dt', DecisionTreeClassifier())\n",
    "])\n"
   ]
  },
  {
   "cell_type": "code",
   "execution_count": 76,
   "id": "18475da5-4e03-4ce6-90c5-6faea74480bd",
   "metadata": {},
   "outputs": [],
   "source": [
    "dtc_params = {\n",
    "    'dt__max_depth': [7,8,9,10], \n",
    "    'dt__min_samples_split': [3,4,5],\n",
    "    'dt__min_samples_leaf': [2,3], #[2,4,5] \n",
    "    'dt__ccp_alpha' : [0.0001, 0.00023, 0.00034, 0.00005]   \n",
    "}"
   ]
  },
  {
   "cell_type": "code",
   "execution_count": 77,
   "id": "65acb241-c625-4495-a20a-eb764b0f69cd",
   "metadata": {},
   "outputs": [],
   "source": [
    "dtc_grid = GridSearchCV(\n",
    "    pipe_tree,\n",
    "    param_grid=dtc_params,\n",
    "    cv = 5,\n",
    "    verbose=1,\n",
    "    n_jobs=2\n",
    ")"
   ]
  },
  {
   "cell_type": "code",
   "execution_count": 78,
   "id": "d46d2847-4386-406c-9c9d-ccbece3dd953",
   "metadata": {},
   "outputs": [
    {
     "name": "stdout",
     "output_type": "stream",
     "text": [
      "Fitting 5 folds for each of 96 candidates, totalling 480 fits\n"
     ]
    },
    {
     "data": {
      "text/plain": [
       "GridSearchCV(cv=5,\n",
       "             estimator=Pipeline(steps=[('sc', StandardScaler()),\n",
       "                                       ('dt', DecisionTreeClassifier())]),\n",
       "             n_jobs=2,\n",
       "             param_grid={'dt__ccp_alpha': [0.0001, 0.00023, 0.00034, 5e-05],\n",
       "                         'dt__max_depth': [7, 8, 9, 10],\n",
       "                         'dt__min_samples_leaf': [2, 3],\n",
       "                         'dt__min_samples_split': [3, 4, 5]},\n",
       "             verbose=1)"
      ]
     },
     "execution_count": 78,
     "metadata": {},
     "output_type": "execute_result"
    }
   ],
   "source": [
    "dtc_grid.fit(X_train, y_train)"
   ]
  },
  {
   "cell_type": "code",
   "execution_count": 79,
   "id": "e09d3b14-c5b7-4371-83ce-97138883fe6d",
   "metadata": {},
   "outputs": [
    {
     "data": {
      "text/plain": [
       "{'dt__ccp_alpha': 0.0001,\n",
       " 'dt__max_depth': 10,\n",
       " 'dt__min_samples_leaf': 2,\n",
       " 'dt__min_samples_split': 3}"
      ]
     },
     "execution_count": 79,
     "metadata": {},
     "output_type": "execute_result"
    }
   ],
   "source": [
    "dtc_grid.best_params_"
   ]
  },
  {
   "cell_type": "code",
   "execution_count": 80,
   "id": "792d83d0-0109-41a7-acea-fe119c160bdd",
   "metadata": {},
   "outputs": [],
   "source": [
    "dtc_best = dtc_grid.best_estimator_"
   ]
  },
  {
   "cell_type": "code",
   "execution_count": 82,
   "id": "627197a7-fc2c-4e51-ad98-388708efd0ed",
   "metadata": {},
   "outputs": [
    {
     "name": "stdout",
     "output_type": "stream",
     "text": [
      "Best params:  {'dt__ccp_alpha': 0.0001, 'dt__max_depth': 10, 'dt__min_samples_leaf': 2, 'dt__min_samples_split': 3}\n",
      "Best score:  0.857099216868305\n",
      "Train score:  0.8653882883227014\n",
      "Test score:  0.8578518805738659\n"
     ]
    }
   ],
   "source": [
    "print(\"Best params: \", dtc_grid.best_params_)\n",
    "print('Best score: ', dtc_grid.best_score_)\n",
    "\n",
    "print(\"Train score: \", dtc_best.score(X_train, y_train))\n",
    "print(\"Test score: \", dtc_best.score(X_test, y_test))\n"
   ]
  },
  {
   "cell_type": "code",
   "execution_count": null,
   "id": "751858d4-8e0c-4cd4-bf46-43ca70175a54",
   "metadata": {},
   "outputs": [],
   "source": []
  },
  {
   "cell_type": "code",
   "execution_count": 83,
   "id": "a97c1886-bc0e-4a82-9742-64d82139de72",
   "metadata": {},
   "outputs": [
    {
     "data": {
      "text/plain": [
       "0.9500510725229826"
      ]
     },
     "execution_count": 83,
     "metadata": {},
     "output_type": "execute_result"
    }
   ],
   "source": [
    "9301/ (9301 + 489)"
   ]
  },
  {
   "cell_type": "code",
   "execution_count": null,
   "id": "66211a55-1201-4c96-826c-1907df8a863c",
   "metadata": {},
   "outputs": [],
   "source": []
  },
  {
   "cell_type": "code",
   "execution_count": 84,
   "id": "ee255aa7-5440-478f-ba43-62bb59e5bd73",
   "metadata": {},
   "outputs": [
    {
     "data": {
      "text/plain": [
       "0.8578518805738659"
      ]
     },
     "execution_count": 84,
     "metadata": {},
     "output_type": "execute_result"
    }
   ],
   "source": [
    "(9301 + 1761)/ (9301 + 489 + 1344 + 1761)"
   ]
  },
  {
   "cell_type": "code",
   "execution_count": 85,
   "id": "9da93e51-9aea-4840-9e11-49242cce49ee",
   "metadata": {},
   "outputs": [
    {
     "data": {
      "text/plain": [
       "0.5671497584541063"
      ]
     },
     "execution_count": 85,
     "metadata": {},
     "output_type": "execute_result"
    }
   ],
   "source": [
    "1761/ (1761 + 1344)"
   ]
  },
  {
   "cell_type": "code",
   "execution_count": null,
   "id": "0a79a8e0-eb54-4dfa-a373-89440f905b5b",
   "metadata": {},
   "outputs": [],
   "source": []
  },
  {
   "cell_type": "code",
   "execution_count": 86,
   "id": "9f2df5c0-c67f-4287-a6c3-98eabd1725e6",
   "metadata": {},
   "outputs": [
    {
     "data": {
      "text/plain": [
       "0.9500510725229826"
      ]
     },
     "execution_count": 86,
     "metadata": {},
     "output_type": "execute_result"
    }
   ],
   "source": [
    "#tn\n",
    "9301 / (9301 + 489)"
   ]
  },
  {
   "cell_type": "code",
   "execution_count": 87,
   "id": "e97b3d7e-6359-4fd1-a227-de1fc30d39cb",
   "metadata": {},
   "outputs": [
    {
     "data": {
      "text/plain": [
       "0.7826666666666666"
      ]
     },
     "execution_count": 87,
     "metadata": {},
     "output_type": "execute_result"
    }
   ],
   "source": [
    "1761 / (1761 + 489)"
   ]
  },
  {
   "cell_type": "code",
   "execution_count": null,
   "id": "8bb2a40a-8319-4bd4-b9f7-8b1f3db7e26a",
   "metadata": {},
   "outputs": [],
   "source": []
  }
 ],
 "metadata": {
  "kernelspec": {
   "display_name": "Python 3 (ipykernel)",
   "language": "python",
   "name": "python3"
  },
  "language_info": {
   "codemirror_mode": {
    "name": "ipython",
    "version": 3
   },
   "file_extension": ".py",
   "mimetype": "text/x-python",
   "name": "python",
   "nbconvert_exporter": "python",
   "pygments_lexer": "ipython3",
   "version": "3.9.7"
  }
 },
 "nbformat": 4,
 "nbformat_minor": 5
}
