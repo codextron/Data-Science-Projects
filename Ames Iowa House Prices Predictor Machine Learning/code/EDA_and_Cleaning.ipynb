{
 "cells": [
  {
   "cell_type": "markdown",
   "id": "24a96e0e-b3ee-4615-a057-e6fdf6de6d1b",
   "metadata": {},
   "source": [
    "# Part 1: EDA and Cleaning"
   ]
  },
  {
   "cell_type": "markdown",
   "id": "1cc0d98c-3437-4a9b-9032-e599f8ad2ccf",
   "metadata": {},
   "source": [
    "- **Read the data dictionary.**\n",
    "- Determine _what_ missing values mean.\n",
    "- Figure out what each categorical value represents.\n",
    "- Identify outliers.\n",
    "- Consider whether discrete values are better represented as categorical or continuous. (Are relationships to the target linear?)\n",
    "- Decide how to impute null values.\n",
    "- Decide how to handle outliers.\n",
    "- Do you want to combine any features?\n",
    "- Do you want to have interaction terms?\n",
    "- Do you want to manually drop collinear features?\n",
    "\n",
    "- Look at distributions.\n",
    "- Look at correlations.\n",
    "- Look at relationships to target (scatter plots for continuous, box plots for categorical)."
   ]
  },
  {
   "cell_type": "code",
   "execution_count": 1,
   "id": "5ed56af8-1272-4b43-81da-42711fdaa415",
   "metadata": {},
   "outputs": [],
   "source": [
    "#import my CLEANED data into my a new notebook after eda cleaning  adn data cleaning "
   ]
  },
  {
   "cell_type": "code",
   "execution_count": 2,
   "id": "8123807a-d596-4153-9370-429128c05bcf",
   "metadata": {},
   "outputs": [],
   "source": [
    "import pandas as pd\n",
    "import numpy as np\n",
    "import matplotlib.pyplot as plt\n",
    "import seaborn as sns\n",
    "sns.set_style(\"darkgrid\")\n"
   ]
  },
  {
   "cell_type": "code",
   "execution_count": 3,
   "id": "9e083008-eb88-4231-8386-3d8d24845067",
   "metadata": {},
   "outputs": [
    {
     "data": {
      "text/html": [
       "<div>\n",
       "<style scoped>\n",
       "    .dataframe tbody tr th:only-of-type {\n",
       "        vertical-align: middle;\n",
       "    }\n",
       "\n",
       "    .dataframe tbody tr th {\n",
       "        vertical-align: top;\n",
       "    }\n",
       "\n",
       "    .dataframe thead th {\n",
       "        text-align: right;\n",
       "    }\n",
       "</style>\n",
       "<table border=\"1\" class=\"dataframe\">\n",
       "  <thead>\n",
       "    <tr style=\"text-align: right;\">\n",
       "      <th></th>\n",
       "      <th>Id</th>\n",
       "      <th>SalePrice</th>\n",
       "    </tr>\n",
       "  </thead>\n",
       "  <tbody>\n",
       "    <tr>\n",
       "      <th>0</th>\n",
       "      <td>2</td>\n",
       "      <td>181479.1217</td>\n",
       "    </tr>\n",
       "    <tr>\n",
       "      <th>1</th>\n",
       "      <td>4</td>\n",
       "      <td>181479.1217</td>\n",
       "    </tr>\n",
       "    <tr>\n",
       "      <th>2</th>\n",
       "      <td>6</td>\n",
       "      <td>181479.1217</td>\n",
       "    </tr>\n",
       "    <tr>\n",
       "      <th>3</th>\n",
       "      <td>7</td>\n",
       "      <td>181479.1217</td>\n",
       "    </tr>\n",
       "    <tr>\n",
       "      <th>4</th>\n",
       "      <td>17</td>\n",
       "      <td>181479.1217</td>\n",
       "    </tr>\n",
       "  </tbody>\n",
       "</table>\n",
       "</div>"
      ],
      "text/plain": [
       "   Id    SalePrice\n",
       "0   2  181479.1217\n",
       "1   4  181479.1217\n",
       "2   6  181479.1217\n",
       "3   7  181479.1217\n",
       "4  17  181479.1217"
      ]
     },
     "execution_count": 3,
     "metadata": {},
     "output_type": "execute_result"
    }
   ],
   "source": [
    "sample = pd.read_csv('../datasets/sample_sub_reg.csv')\n",
    "sample.head()"
   ]
  },
  {
   "cell_type": "code",
   "execution_count": 4,
   "id": "fe1961b4-1785-48ee-8708-ac328f34dff4",
   "metadata": {
    "tags": []
   },
   "outputs": [
    {
     "data": {
      "text/html": [
       "<div>\n",
       "<style scoped>\n",
       "    .dataframe tbody tr th:only-of-type {\n",
       "        vertical-align: middle;\n",
       "    }\n",
       "\n",
       "    .dataframe tbody tr th {\n",
       "        vertical-align: top;\n",
       "    }\n",
       "\n",
       "    .dataframe thead th {\n",
       "        text-align: right;\n",
       "    }\n",
       "</style>\n",
       "<table border=\"1\" class=\"dataframe\">\n",
       "  <thead>\n",
       "    <tr style=\"text-align: right;\">\n",
       "      <th></th>\n",
       "      <th>Id</th>\n",
       "      <th>SalePrice</th>\n",
       "    </tr>\n",
       "  </thead>\n",
       "  <tbody>\n",
       "    <tr>\n",
       "      <th>873</th>\n",
       "      <td>2919</td>\n",
       "      <td>181479.1217</td>\n",
       "    </tr>\n",
       "    <tr>\n",
       "      <th>874</th>\n",
       "      <td>2921</td>\n",
       "      <td>181479.1217</td>\n",
       "    </tr>\n",
       "    <tr>\n",
       "      <th>875</th>\n",
       "      <td>2922</td>\n",
       "      <td>181479.1217</td>\n",
       "    </tr>\n",
       "    <tr>\n",
       "      <th>876</th>\n",
       "      <td>2925</td>\n",
       "      <td>181479.1217</td>\n",
       "    </tr>\n",
       "    <tr>\n",
       "      <th>877</th>\n",
       "      <td>2928</td>\n",
       "      <td>181479.1217</td>\n",
       "    </tr>\n",
       "  </tbody>\n",
       "</table>\n",
       "</div>"
      ],
      "text/plain": [
       "       Id    SalePrice\n",
       "873  2919  181479.1217\n",
       "874  2921  181479.1217\n",
       "875  2922  181479.1217\n",
       "876  2925  181479.1217\n",
       "877  2928  181479.1217"
      ]
     },
     "execution_count": 4,
     "metadata": {},
     "output_type": "execute_result"
    }
   ],
   "source": [
    "sample.tail()"
   ]
  },
  {
   "cell_type": "code",
   "execution_count": 5,
   "id": "50e78f70-b1e0-41ab-8283-f61ab242ec84",
   "metadata": {},
   "outputs": [
    {
     "data": {
      "text/html": [
       "<div>\n",
       "<style scoped>\n",
       "    .dataframe tbody tr th:only-of-type {\n",
       "        vertical-align: middle;\n",
       "    }\n",
       "\n",
       "    .dataframe tbody tr th {\n",
       "        vertical-align: top;\n",
       "    }\n",
       "\n",
       "    .dataframe thead th {\n",
       "        text-align: right;\n",
       "    }\n",
       "</style>\n",
       "<table border=\"1\" class=\"dataframe\">\n",
       "  <thead>\n",
       "    <tr style=\"text-align: right;\">\n",
       "      <th></th>\n",
       "      <th>Id</th>\n",
       "      <th>PID</th>\n",
       "      <th>MS SubClass</th>\n",
       "      <th>MS Zoning</th>\n",
       "      <th>Lot Frontage</th>\n",
       "      <th>Lot Area</th>\n",
       "      <th>Street</th>\n",
       "      <th>Alley</th>\n",
       "      <th>Lot Shape</th>\n",
       "      <th>Land Contour</th>\n",
       "      <th>...</th>\n",
       "      <th>3Ssn Porch</th>\n",
       "      <th>Screen Porch</th>\n",
       "      <th>Pool Area</th>\n",
       "      <th>Pool QC</th>\n",
       "      <th>Fence</th>\n",
       "      <th>Misc Feature</th>\n",
       "      <th>Misc Val</th>\n",
       "      <th>Mo Sold</th>\n",
       "      <th>Yr Sold</th>\n",
       "      <th>Sale Type</th>\n",
       "    </tr>\n",
       "  </thead>\n",
       "  <tbody>\n",
       "    <tr>\n",
       "      <th>0</th>\n",
       "      <td>2658</td>\n",
       "      <td>902301120</td>\n",
       "      <td>190</td>\n",
       "      <td>RM</td>\n",
       "      <td>69.0</td>\n",
       "      <td>9142</td>\n",
       "      <td>Pave</td>\n",
       "      <td>Grvl</td>\n",
       "      <td>Reg</td>\n",
       "      <td>Lvl</td>\n",
       "      <td>...</td>\n",
       "      <td>0</td>\n",
       "      <td>0</td>\n",
       "      <td>0</td>\n",
       "      <td>NaN</td>\n",
       "      <td>NaN</td>\n",
       "      <td>NaN</td>\n",
       "      <td>0</td>\n",
       "      <td>4</td>\n",
       "      <td>2006</td>\n",
       "      <td>WD</td>\n",
       "    </tr>\n",
       "    <tr>\n",
       "      <th>1</th>\n",
       "      <td>2718</td>\n",
       "      <td>905108090</td>\n",
       "      <td>90</td>\n",
       "      <td>RL</td>\n",
       "      <td>NaN</td>\n",
       "      <td>9662</td>\n",
       "      <td>Pave</td>\n",
       "      <td>NaN</td>\n",
       "      <td>IR1</td>\n",
       "      <td>Lvl</td>\n",
       "      <td>...</td>\n",
       "      <td>0</td>\n",
       "      <td>0</td>\n",
       "      <td>0</td>\n",
       "      <td>NaN</td>\n",
       "      <td>NaN</td>\n",
       "      <td>NaN</td>\n",
       "      <td>0</td>\n",
       "      <td>8</td>\n",
       "      <td>2006</td>\n",
       "      <td>WD</td>\n",
       "    </tr>\n",
       "    <tr>\n",
       "      <th>2</th>\n",
       "      <td>2414</td>\n",
       "      <td>528218130</td>\n",
       "      <td>60</td>\n",
       "      <td>RL</td>\n",
       "      <td>58.0</td>\n",
       "      <td>17104</td>\n",
       "      <td>Pave</td>\n",
       "      <td>NaN</td>\n",
       "      <td>IR1</td>\n",
       "      <td>Lvl</td>\n",
       "      <td>...</td>\n",
       "      <td>0</td>\n",
       "      <td>0</td>\n",
       "      <td>0</td>\n",
       "      <td>NaN</td>\n",
       "      <td>NaN</td>\n",
       "      <td>NaN</td>\n",
       "      <td>0</td>\n",
       "      <td>9</td>\n",
       "      <td>2006</td>\n",
       "      <td>New</td>\n",
       "    </tr>\n",
       "    <tr>\n",
       "      <th>3</th>\n",
       "      <td>1989</td>\n",
       "      <td>902207150</td>\n",
       "      <td>30</td>\n",
       "      <td>RM</td>\n",
       "      <td>60.0</td>\n",
       "      <td>8520</td>\n",
       "      <td>Pave</td>\n",
       "      <td>NaN</td>\n",
       "      <td>Reg</td>\n",
       "      <td>Lvl</td>\n",
       "      <td>...</td>\n",
       "      <td>0</td>\n",
       "      <td>0</td>\n",
       "      <td>0</td>\n",
       "      <td>NaN</td>\n",
       "      <td>NaN</td>\n",
       "      <td>NaN</td>\n",
       "      <td>0</td>\n",
       "      <td>7</td>\n",
       "      <td>2007</td>\n",
       "      <td>WD</td>\n",
       "    </tr>\n",
       "    <tr>\n",
       "      <th>4</th>\n",
       "      <td>625</td>\n",
       "      <td>535105100</td>\n",
       "      <td>20</td>\n",
       "      <td>RL</td>\n",
       "      <td>NaN</td>\n",
       "      <td>9500</td>\n",
       "      <td>Pave</td>\n",
       "      <td>NaN</td>\n",
       "      <td>IR1</td>\n",
       "      <td>Lvl</td>\n",
       "      <td>...</td>\n",
       "      <td>0</td>\n",
       "      <td>185</td>\n",
       "      <td>0</td>\n",
       "      <td>NaN</td>\n",
       "      <td>NaN</td>\n",
       "      <td>NaN</td>\n",
       "      <td>0</td>\n",
       "      <td>7</td>\n",
       "      <td>2009</td>\n",
       "      <td>WD</td>\n",
       "    </tr>\n",
       "  </tbody>\n",
       "</table>\n",
       "<p>5 rows × 80 columns</p>\n",
       "</div>"
      ],
      "text/plain": [
       "     Id        PID  MS SubClass MS Zoning  Lot Frontage  Lot Area Street  \\\n",
       "0  2658  902301120          190        RM          69.0      9142   Pave   \n",
       "1  2718  905108090           90        RL           NaN      9662   Pave   \n",
       "2  2414  528218130           60        RL          58.0     17104   Pave   \n",
       "3  1989  902207150           30        RM          60.0      8520   Pave   \n",
       "4   625  535105100           20        RL           NaN      9500   Pave   \n",
       "\n",
       "  Alley Lot Shape Land Contour  ... 3Ssn Porch Screen Porch Pool Area Pool QC  \\\n",
       "0  Grvl       Reg          Lvl  ...          0            0         0     NaN   \n",
       "1   NaN       IR1          Lvl  ...          0            0         0     NaN   \n",
       "2   NaN       IR1          Lvl  ...          0            0         0     NaN   \n",
       "3   NaN       Reg          Lvl  ...          0            0         0     NaN   \n",
       "4   NaN       IR1          Lvl  ...          0          185         0     NaN   \n",
       "\n",
       "  Fence Misc Feature Misc Val Mo Sold  Yr Sold  Sale Type  \n",
       "0   NaN          NaN        0       4     2006        WD   \n",
       "1   NaN          NaN        0       8     2006        WD   \n",
       "2   NaN          NaN        0       9     2006        New  \n",
       "3   NaN          NaN        0       7     2007        WD   \n",
       "4   NaN          NaN        0       7     2009        WD   \n",
       "\n",
       "[5 rows x 80 columns]"
      ]
     },
     "execution_count": 5,
     "metadata": {},
     "output_type": "execute_result"
    }
   ],
   "source": [
    "test_df = pd.read_csv('../datasets/test.csv')\n",
    "test_df.head()"
   ]
  },
  {
   "cell_type": "code",
   "execution_count": 6,
   "id": "7b13e3c2-30b7-4f1d-b3e2-882447690ac1",
   "metadata": {},
   "outputs": [
    {
     "data": {
      "text/html": [
       "<div>\n",
       "<style scoped>\n",
       "    .dataframe tbody tr th:only-of-type {\n",
       "        vertical-align: middle;\n",
       "    }\n",
       "\n",
       "    .dataframe tbody tr th {\n",
       "        vertical-align: top;\n",
       "    }\n",
       "\n",
       "    .dataframe thead th {\n",
       "        text-align: right;\n",
       "    }\n",
       "</style>\n",
       "<table border=\"1\" class=\"dataframe\">\n",
       "  <thead>\n",
       "    <tr style=\"text-align: right;\">\n",
       "      <th></th>\n",
       "      <th>Id</th>\n",
       "      <th>PID</th>\n",
       "      <th>MS SubClass</th>\n",
       "      <th>MS Zoning</th>\n",
       "      <th>Lot Frontage</th>\n",
       "      <th>Lot Area</th>\n",
       "      <th>Street</th>\n",
       "      <th>Alley</th>\n",
       "      <th>Lot Shape</th>\n",
       "      <th>Land Contour</th>\n",
       "      <th>...</th>\n",
       "      <th>3Ssn Porch</th>\n",
       "      <th>Screen Porch</th>\n",
       "      <th>Pool Area</th>\n",
       "      <th>Pool QC</th>\n",
       "      <th>Fence</th>\n",
       "      <th>Misc Feature</th>\n",
       "      <th>Misc Val</th>\n",
       "      <th>Mo Sold</th>\n",
       "      <th>Yr Sold</th>\n",
       "      <th>Sale Type</th>\n",
       "    </tr>\n",
       "  </thead>\n",
       "  <tbody>\n",
       "    <tr>\n",
       "      <th>873</th>\n",
       "      <td>1662</td>\n",
       "      <td>527377110</td>\n",
       "      <td>60</td>\n",
       "      <td>RL</td>\n",
       "      <td>80.0</td>\n",
       "      <td>8000</td>\n",
       "      <td>Pave</td>\n",
       "      <td>NaN</td>\n",
       "      <td>Reg</td>\n",
       "      <td>Lvl</td>\n",
       "      <td>...</td>\n",
       "      <td>0</td>\n",
       "      <td>0</td>\n",
       "      <td>0</td>\n",
       "      <td>NaN</td>\n",
       "      <td>NaN</td>\n",
       "      <td>NaN</td>\n",
       "      <td>0</td>\n",
       "      <td>11</td>\n",
       "      <td>2007</td>\n",
       "      <td>WD</td>\n",
       "    </tr>\n",
       "    <tr>\n",
       "      <th>874</th>\n",
       "      <td>1234</td>\n",
       "      <td>535126140</td>\n",
       "      <td>60</td>\n",
       "      <td>RL</td>\n",
       "      <td>90.0</td>\n",
       "      <td>14670</td>\n",
       "      <td>Pave</td>\n",
       "      <td>NaN</td>\n",
       "      <td>Reg</td>\n",
       "      <td>Lvl</td>\n",
       "      <td>...</td>\n",
       "      <td>0</td>\n",
       "      <td>0</td>\n",
       "      <td>0</td>\n",
       "      <td>NaN</td>\n",
       "      <td>MnPrv</td>\n",
       "      <td>NaN</td>\n",
       "      <td>0</td>\n",
       "      <td>8</td>\n",
       "      <td>2008</td>\n",
       "      <td>WD</td>\n",
       "    </tr>\n",
       "    <tr>\n",
       "      <th>875</th>\n",
       "      <td>1373</td>\n",
       "      <td>904100040</td>\n",
       "      <td>20</td>\n",
       "      <td>RL</td>\n",
       "      <td>55.0</td>\n",
       "      <td>8250</td>\n",
       "      <td>Pave</td>\n",
       "      <td>NaN</td>\n",
       "      <td>Reg</td>\n",
       "      <td>Lvl</td>\n",
       "      <td>...</td>\n",
       "      <td>0</td>\n",
       "      <td>0</td>\n",
       "      <td>0</td>\n",
       "      <td>NaN</td>\n",
       "      <td>NaN</td>\n",
       "      <td>NaN</td>\n",
       "      <td>0</td>\n",
       "      <td>8</td>\n",
       "      <td>2008</td>\n",
       "      <td>WD</td>\n",
       "    </tr>\n",
       "    <tr>\n",
       "      <th>876</th>\n",
       "      <td>1672</td>\n",
       "      <td>527425140</td>\n",
       "      <td>20</td>\n",
       "      <td>RL</td>\n",
       "      <td>60.0</td>\n",
       "      <td>9000</td>\n",
       "      <td>Pave</td>\n",
       "      <td>NaN</td>\n",
       "      <td>Reg</td>\n",
       "      <td>Lvl</td>\n",
       "      <td>...</td>\n",
       "      <td>0</td>\n",
       "      <td>0</td>\n",
       "      <td>0</td>\n",
       "      <td>NaN</td>\n",
       "      <td>GdWo</td>\n",
       "      <td>NaN</td>\n",
       "      <td>0</td>\n",
       "      <td>5</td>\n",
       "      <td>2007</td>\n",
       "      <td>WD</td>\n",
       "    </tr>\n",
       "    <tr>\n",
       "      <th>877</th>\n",
       "      <td>1939</td>\n",
       "      <td>535327160</td>\n",
       "      <td>20</td>\n",
       "      <td>RL</td>\n",
       "      <td>70.0</td>\n",
       "      <td>8400</td>\n",
       "      <td>Pave</td>\n",
       "      <td>NaN</td>\n",
       "      <td>Reg</td>\n",
       "      <td>Lvl</td>\n",
       "      <td>...</td>\n",
       "      <td>0</td>\n",
       "      <td>0</td>\n",
       "      <td>0</td>\n",
       "      <td>NaN</td>\n",
       "      <td>GdWo</td>\n",
       "      <td>NaN</td>\n",
       "      <td>0</td>\n",
       "      <td>3</td>\n",
       "      <td>2007</td>\n",
       "      <td>WD</td>\n",
       "    </tr>\n",
       "  </tbody>\n",
       "</table>\n",
       "<p>5 rows × 80 columns</p>\n",
       "</div>"
      ],
      "text/plain": [
       "       Id        PID  MS SubClass MS Zoning  Lot Frontage  Lot Area Street  \\\n",
       "873  1662  527377110           60        RL          80.0      8000   Pave   \n",
       "874  1234  535126140           60        RL          90.0     14670   Pave   \n",
       "875  1373  904100040           20        RL          55.0      8250   Pave   \n",
       "876  1672  527425140           20        RL          60.0      9000   Pave   \n",
       "877  1939  535327160           20        RL          70.0      8400   Pave   \n",
       "\n",
       "    Alley Lot Shape Land Contour  ... 3Ssn Porch Screen Porch Pool Area  \\\n",
       "873   NaN       Reg          Lvl  ...          0            0         0   \n",
       "874   NaN       Reg          Lvl  ...          0            0         0   \n",
       "875   NaN       Reg          Lvl  ...          0            0         0   \n",
       "876   NaN       Reg          Lvl  ...          0            0         0   \n",
       "877   NaN       Reg          Lvl  ...          0            0         0   \n",
       "\n",
       "    Pool QC  Fence Misc Feature Misc Val Mo Sold  Yr Sold  Sale Type  \n",
       "873     NaN    NaN          NaN        0      11     2007        WD   \n",
       "874     NaN  MnPrv          NaN        0       8     2008        WD   \n",
       "875     NaN    NaN          NaN        0       8     2008        WD   \n",
       "876     NaN   GdWo          NaN        0       5     2007        WD   \n",
       "877     NaN   GdWo          NaN        0       3     2007        WD   \n",
       "\n",
       "[5 rows x 80 columns]"
      ]
     },
     "execution_count": 6,
     "metadata": {},
     "output_type": "execute_result"
    }
   ],
   "source": [
    "test_df.tail()"
   ]
  },
  {
   "cell_type": "code",
   "execution_count": 7,
   "id": "9ec39905-e470-4217-a02f-05b17a1c923e",
   "metadata": {},
   "outputs": [
    {
     "data": {
      "text/html": [
       "<div>\n",
       "<style scoped>\n",
       "    .dataframe tbody tr th:only-of-type {\n",
       "        vertical-align: middle;\n",
       "    }\n",
       "\n",
       "    .dataframe tbody tr th {\n",
       "        vertical-align: top;\n",
       "    }\n",
       "\n",
       "    .dataframe thead th {\n",
       "        text-align: right;\n",
       "    }\n",
       "</style>\n",
       "<table border=\"1\" class=\"dataframe\">\n",
       "  <thead>\n",
       "    <tr style=\"text-align: right;\">\n",
       "      <th></th>\n",
       "      <th>Id</th>\n",
       "      <th>PID</th>\n",
       "      <th>MS SubClass</th>\n",
       "      <th>MS Zoning</th>\n",
       "      <th>Lot Frontage</th>\n",
       "      <th>Lot Area</th>\n",
       "      <th>Street</th>\n",
       "      <th>Alley</th>\n",
       "      <th>Lot Shape</th>\n",
       "      <th>Land Contour</th>\n",
       "      <th>...</th>\n",
       "      <th>Screen Porch</th>\n",
       "      <th>Pool Area</th>\n",
       "      <th>Pool QC</th>\n",
       "      <th>Fence</th>\n",
       "      <th>Misc Feature</th>\n",
       "      <th>Misc Val</th>\n",
       "      <th>Mo Sold</th>\n",
       "      <th>Yr Sold</th>\n",
       "      <th>Sale Type</th>\n",
       "      <th>SalePrice</th>\n",
       "    </tr>\n",
       "  </thead>\n",
       "  <tbody>\n",
       "    <tr>\n",
       "      <th>0</th>\n",
       "      <td>109</td>\n",
       "      <td>533352170</td>\n",
       "      <td>60</td>\n",
       "      <td>RL</td>\n",
       "      <td>NaN</td>\n",
       "      <td>13517</td>\n",
       "      <td>Pave</td>\n",
       "      <td>NaN</td>\n",
       "      <td>IR1</td>\n",
       "      <td>Lvl</td>\n",
       "      <td>...</td>\n",
       "      <td>0</td>\n",
       "      <td>0</td>\n",
       "      <td>NaN</td>\n",
       "      <td>NaN</td>\n",
       "      <td>NaN</td>\n",
       "      <td>0</td>\n",
       "      <td>3</td>\n",
       "      <td>2010</td>\n",
       "      <td>WD</td>\n",
       "      <td>130500</td>\n",
       "    </tr>\n",
       "    <tr>\n",
       "      <th>1</th>\n",
       "      <td>544</td>\n",
       "      <td>531379050</td>\n",
       "      <td>60</td>\n",
       "      <td>RL</td>\n",
       "      <td>43.0</td>\n",
       "      <td>11492</td>\n",
       "      <td>Pave</td>\n",
       "      <td>NaN</td>\n",
       "      <td>IR1</td>\n",
       "      <td>Lvl</td>\n",
       "      <td>...</td>\n",
       "      <td>0</td>\n",
       "      <td>0</td>\n",
       "      <td>NaN</td>\n",
       "      <td>NaN</td>\n",
       "      <td>NaN</td>\n",
       "      <td>0</td>\n",
       "      <td>4</td>\n",
       "      <td>2009</td>\n",
       "      <td>WD</td>\n",
       "      <td>220000</td>\n",
       "    </tr>\n",
       "    <tr>\n",
       "      <th>2</th>\n",
       "      <td>153</td>\n",
       "      <td>535304180</td>\n",
       "      <td>20</td>\n",
       "      <td>RL</td>\n",
       "      <td>68.0</td>\n",
       "      <td>7922</td>\n",
       "      <td>Pave</td>\n",
       "      <td>NaN</td>\n",
       "      <td>Reg</td>\n",
       "      <td>Lvl</td>\n",
       "      <td>...</td>\n",
       "      <td>0</td>\n",
       "      <td>0</td>\n",
       "      <td>NaN</td>\n",
       "      <td>NaN</td>\n",
       "      <td>NaN</td>\n",
       "      <td>0</td>\n",
       "      <td>1</td>\n",
       "      <td>2010</td>\n",
       "      <td>WD</td>\n",
       "      <td>109000</td>\n",
       "    </tr>\n",
       "    <tr>\n",
       "      <th>3</th>\n",
       "      <td>318</td>\n",
       "      <td>916386060</td>\n",
       "      <td>60</td>\n",
       "      <td>RL</td>\n",
       "      <td>73.0</td>\n",
       "      <td>9802</td>\n",
       "      <td>Pave</td>\n",
       "      <td>NaN</td>\n",
       "      <td>Reg</td>\n",
       "      <td>Lvl</td>\n",
       "      <td>...</td>\n",
       "      <td>0</td>\n",
       "      <td>0</td>\n",
       "      <td>NaN</td>\n",
       "      <td>NaN</td>\n",
       "      <td>NaN</td>\n",
       "      <td>0</td>\n",
       "      <td>4</td>\n",
       "      <td>2010</td>\n",
       "      <td>WD</td>\n",
       "      <td>174000</td>\n",
       "    </tr>\n",
       "    <tr>\n",
       "      <th>4</th>\n",
       "      <td>255</td>\n",
       "      <td>906425045</td>\n",
       "      <td>50</td>\n",
       "      <td>RL</td>\n",
       "      <td>82.0</td>\n",
       "      <td>14235</td>\n",
       "      <td>Pave</td>\n",
       "      <td>NaN</td>\n",
       "      <td>IR1</td>\n",
       "      <td>Lvl</td>\n",
       "      <td>...</td>\n",
       "      <td>0</td>\n",
       "      <td>0</td>\n",
       "      <td>NaN</td>\n",
       "      <td>NaN</td>\n",
       "      <td>NaN</td>\n",
       "      <td>0</td>\n",
       "      <td>3</td>\n",
       "      <td>2010</td>\n",
       "      <td>WD</td>\n",
       "      <td>138500</td>\n",
       "    </tr>\n",
       "  </tbody>\n",
       "</table>\n",
       "<p>5 rows × 81 columns</p>\n",
       "</div>"
      ],
      "text/plain": [
       "    Id        PID  MS SubClass MS Zoning  Lot Frontage  Lot Area Street Alley  \\\n",
       "0  109  533352170           60        RL           NaN     13517   Pave   NaN   \n",
       "1  544  531379050           60        RL          43.0     11492   Pave   NaN   \n",
       "2  153  535304180           20        RL          68.0      7922   Pave   NaN   \n",
       "3  318  916386060           60        RL          73.0      9802   Pave   NaN   \n",
       "4  255  906425045           50        RL          82.0     14235   Pave   NaN   \n",
       "\n",
       "  Lot Shape Land Contour  ... Screen Porch Pool Area Pool QC Fence  \\\n",
       "0       IR1          Lvl  ...            0         0     NaN   NaN   \n",
       "1       IR1          Lvl  ...            0         0     NaN   NaN   \n",
       "2       Reg          Lvl  ...            0         0     NaN   NaN   \n",
       "3       Reg          Lvl  ...            0         0     NaN   NaN   \n",
       "4       IR1          Lvl  ...            0         0     NaN   NaN   \n",
       "\n",
       "  Misc Feature Misc Val Mo Sold Yr Sold  Sale Type  SalePrice  \n",
       "0          NaN        0       3    2010        WD      130500  \n",
       "1          NaN        0       4    2009        WD      220000  \n",
       "2          NaN        0       1    2010        WD      109000  \n",
       "3          NaN        0       4    2010        WD      174000  \n",
       "4          NaN        0       3    2010        WD      138500  \n",
       "\n",
       "[5 rows x 81 columns]"
      ]
     },
     "execution_count": 7,
     "metadata": {},
     "output_type": "execute_result"
    }
   ],
   "source": [
    "train_df = pd.read_csv('../datasets/train.csv')\n",
    "train_df.head()"
   ]
  },
  {
   "cell_type": "code",
   "execution_count": 8,
   "id": "870f893a-e141-43a0-b494-b1fd7904fcc5",
   "metadata": {
    "tags": []
   },
   "outputs": [
    {
     "data": {
      "text/html": [
       "<div>\n",
       "<style scoped>\n",
       "    .dataframe tbody tr th:only-of-type {\n",
       "        vertical-align: middle;\n",
       "    }\n",
       "\n",
       "    .dataframe tbody tr th {\n",
       "        vertical-align: top;\n",
       "    }\n",
       "\n",
       "    .dataframe thead th {\n",
       "        text-align: right;\n",
       "    }\n",
       "</style>\n",
       "<table border=\"1\" class=\"dataframe\">\n",
       "  <thead>\n",
       "    <tr style=\"text-align: right;\">\n",
       "      <th></th>\n",
       "      <th>Id</th>\n",
       "      <th>PID</th>\n",
       "      <th>MS SubClass</th>\n",
       "      <th>MS Zoning</th>\n",
       "      <th>Lot Frontage</th>\n",
       "      <th>Lot Area</th>\n",
       "      <th>Street</th>\n",
       "      <th>Alley</th>\n",
       "      <th>Lot Shape</th>\n",
       "      <th>Land Contour</th>\n",
       "      <th>...</th>\n",
       "      <th>Screen Porch</th>\n",
       "      <th>Pool Area</th>\n",
       "      <th>Pool QC</th>\n",
       "      <th>Fence</th>\n",
       "      <th>Misc Feature</th>\n",
       "      <th>Misc Val</th>\n",
       "      <th>Mo Sold</th>\n",
       "      <th>Yr Sold</th>\n",
       "      <th>Sale Type</th>\n",
       "      <th>SalePrice</th>\n",
       "    </tr>\n",
       "  </thead>\n",
       "  <tbody>\n",
       "    <tr>\n",
       "      <th>2046</th>\n",
       "      <td>1587</td>\n",
       "      <td>921126030</td>\n",
       "      <td>20</td>\n",
       "      <td>RL</td>\n",
       "      <td>79.0</td>\n",
       "      <td>11449</td>\n",
       "      <td>Pave</td>\n",
       "      <td>NaN</td>\n",
       "      <td>IR1</td>\n",
       "      <td>HLS</td>\n",
       "      <td>...</td>\n",
       "      <td>0</td>\n",
       "      <td>0</td>\n",
       "      <td>NaN</td>\n",
       "      <td>NaN</td>\n",
       "      <td>NaN</td>\n",
       "      <td>0</td>\n",
       "      <td>1</td>\n",
       "      <td>2008</td>\n",
       "      <td>WD</td>\n",
       "      <td>298751</td>\n",
       "    </tr>\n",
       "    <tr>\n",
       "      <th>2047</th>\n",
       "      <td>785</td>\n",
       "      <td>905377130</td>\n",
       "      <td>30</td>\n",
       "      <td>RL</td>\n",
       "      <td>NaN</td>\n",
       "      <td>12342</td>\n",
       "      <td>Pave</td>\n",
       "      <td>NaN</td>\n",
       "      <td>IR1</td>\n",
       "      <td>Lvl</td>\n",
       "      <td>...</td>\n",
       "      <td>0</td>\n",
       "      <td>0</td>\n",
       "      <td>NaN</td>\n",
       "      <td>NaN</td>\n",
       "      <td>NaN</td>\n",
       "      <td>0</td>\n",
       "      <td>3</td>\n",
       "      <td>2009</td>\n",
       "      <td>WD</td>\n",
       "      <td>82500</td>\n",
       "    </tr>\n",
       "    <tr>\n",
       "      <th>2048</th>\n",
       "      <td>916</td>\n",
       "      <td>909253010</td>\n",
       "      <td>50</td>\n",
       "      <td>RL</td>\n",
       "      <td>57.0</td>\n",
       "      <td>7558</td>\n",
       "      <td>Pave</td>\n",
       "      <td>NaN</td>\n",
       "      <td>Reg</td>\n",
       "      <td>Bnk</td>\n",
       "      <td>...</td>\n",
       "      <td>0</td>\n",
       "      <td>0</td>\n",
       "      <td>NaN</td>\n",
       "      <td>NaN</td>\n",
       "      <td>NaN</td>\n",
       "      <td>0</td>\n",
       "      <td>3</td>\n",
       "      <td>2009</td>\n",
       "      <td>WD</td>\n",
       "      <td>177000</td>\n",
       "    </tr>\n",
       "    <tr>\n",
       "      <th>2049</th>\n",
       "      <td>639</td>\n",
       "      <td>535179160</td>\n",
       "      <td>20</td>\n",
       "      <td>RL</td>\n",
       "      <td>80.0</td>\n",
       "      <td>10400</td>\n",
       "      <td>Pave</td>\n",
       "      <td>NaN</td>\n",
       "      <td>Reg</td>\n",
       "      <td>Lvl</td>\n",
       "      <td>...</td>\n",
       "      <td>0</td>\n",
       "      <td>0</td>\n",
       "      <td>NaN</td>\n",
       "      <td>NaN</td>\n",
       "      <td>NaN</td>\n",
       "      <td>0</td>\n",
       "      <td>11</td>\n",
       "      <td>2009</td>\n",
       "      <td>WD</td>\n",
       "      <td>144000</td>\n",
       "    </tr>\n",
       "    <tr>\n",
       "      <th>2050</th>\n",
       "      <td>10</td>\n",
       "      <td>527162130</td>\n",
       "      <td>60</td>\n",
       "      <td>RL</td>\n",
       "      <td>60.0</td>\n",
       "      <td>7500</td>\n",
       "      <td>Pave</td>\n",
       "      <td>NaN</td>\n",
       "      <td>Reg</td>\n",
       "      <td>Lvl</td>\n",
       "      <td>...</td>\n",
       "      <td>0</td>\n",
       "      <td>0</td>\n",
       "      <td>NaN</td>\n",
       "      <td>NaN</td>\n",
       "      <td>NaN</td>\n",
       "      <td>0</td>\n",
       "      <td>6</td>\n",
       "      <td>2010</td>\n",
       "      <td>WD</td>\n",
       "      <td>189000</td>\n",
       "    </tr>\n",
       "  </tbody>\n",
       "</table>\n",
       "<p>5 rows × 81 columns</p>\n",
       "</div>"
      ],
      "text/plain": [
       "        Id        PID  MS SubClass MS Zoning  Lot Frontage  Lot Area Street  \\\n",
       "2046  1587  921126030           20        RL          79.0     11449   Pave   \n",
       "2047   785  905377130           30        RL           NaN     12342   Pave   \n",
       "2048   916  909253010           50        RL          57.0      7558   Pave   \n",
       "2049   639  535179160           20        RL          80.0     10400   Pave   \n",
       "2050    10  527162130           60        RL          60.0      7500   Pave   \n",
       "\n",
       "     Alley Lot Shape Land Contour  ... Screen Porch Pool Area Pool QC Fence  \\\n",
       "2046   NaN       IR1          HLS  ...            0         0     NaN   NaN   \n",
       "2047   NaN       IR1          Lvl  ...            0         0     NaN   NaN   \n",
       "2048   NaN       Reg          Bnk  ...            0         0     NaN   NaN   \n",
       "2049   NaN       Reg          Lvl  ...            0         0     NaN   NaN   \n",
       "2050   NaN       Reg          Lvl  ...            0         0     NaN   NaN   \n",
       "\n",
       "     Misc Feature Misc Val Mo Sold Yr Sold  Sale Type  SalePrice  \n",
       "2046          NaN        0       1    2008        WD      298751  \n",
       "2047          NaN        0       3    2009        WD       82500  \n",
       "2048          NaN        0       3    2009        WD      177000  \n",
       "2049          NaN        0      11    2009        WD      144000  \n",
       "2050          NaN        0       6    2010        WD      189000  \n",
       "\n",
       "[5 rows x 81 columns]"
      ]
     },
     "execution_count": 8,
     "metadata": {},
     "output_type": "execute_result"
    }
   ],
   "source": [
    "train_df.tail()"
   ]
  },
  {
   "cell_type": "code",
   "execution_count": 9,
   "id": "d9e7f0a7-a1d6-4255-ab34-94ddca2996f8",
   "metadata": {},
   "outputs": [
    {
     "data": {
      "text/plain": [
       "((2051, 81), (878, 80))"
      ]
     },
     "execution_count": 9,
     "metadata": {},
     "output_type": "execute_result"
    }
   ],
   "source": [
    "train_df.shape, test_df.shape"
   ]
  },
  {
   "cell_type": "code",
   "execution_count": 10,
   "id": "30b99f15-5dfb-4c9b-a4e7-1e3c4dd2094c",
   "metadata": {},
   "outputs": [],
   "source": [
    "#------------------ lets make my columns lower case and replace space with _\n",
    "train_df.columns = train_df.columns.str.lower().str.replace(' ', '_')\n",
    "test_df.columns = test_df.columns.str.lower().str.replace(' ','_')\n",
    "#------------------------------------------------------------------"
   ]
  },
  {
   "cell_type": "code",
   "execution_count": 11,
   "id": "f209bf45-ab91-4d8e-8d1f-c0e86b21a16f",
   "metadata": {},
   "outputs": [],
   "source": [
    "#--------set id to be the index for both dataframes\n",
    "train_df.set_index('id', inplace=True)\n",
    "test_df.set_index('id', inplace = True)\n",
    "#----------------------------------------------"
   ]
  },
  {
   "cell_type": "markdown",
   "id": "db682f4b-0619-42d2-876f-ea5799660d0e",
   "metadata": {},
   "source": [
    "\n"
   ]
  },
  {
   "cell_type": "code",
   "execution_count": null,
   "id": "07e68474-e159-41fd-843a-cf6b1ceee4e0",
   "metadata": {},
   "outputs": [],
   "source": []
  },
  {
   "cell_type": "code",
   "execution_count": 12,
   "id": "f7ab9863-02ae-4d98-a005-d7c209c8c9d7",
   "metadata": {},
   "outputs": [
    {
     "data": {
      "text/plain": [
       "Index(['pid', 'ms_subclass', 'ms_zoning', 'lot_frontage', 'lot_area', 'street',\n",
       "       'alley', 'lot_shape', 'land_contour', 'utilities', 'lot_config',\n",
       "       'land_slope', 'neighborhood', 'condition_1', 'condition_2', 'bldg_type',\n",
       "       'house_style', 'overall_qual', 'overall_cond', 'year_built',\n",
       "       'year_remod/add', 'roof_style', 'roof_matl', 'exterior_1st',\n",
       "       'exterior_2nd', 'mas_vnr_type', 'mas_vnr_area', 'exter_qual',\n",
       "       'exter_cond', 'foundation', 'bsmt_qual', 'bsmt_cond', 'bsmt_exposure',\n",
       "       'bsmtfin_type_1', 'bsmtfin_sf_1', 'bsmtfin_type_2', 'bsmtfin_sf_2',\n",
       "       'bsmt_unf_sf', 'total_bsmt_sf', 'heating', 'heating_qc', 'central_air',\n",
       "       'electrical', '1st_flr_sf', '2nd_flr_sf', 'low_qual_fin_sf',\n",
       "       'gr_liv_area', 'bsmt_full_bath', 'bsmt_half_bath', 'full_bath',\n",
       "       'half_bath', 'bedroom_abvgr', 'kitchen_abvgr', 'kitchen_qual',\n",
       "       'totrms_abvgrd', 'functional', 'fireplaces', 'fireplace_qu',\n",
       "       'garage_type', 'garage_yr_blt', 'garage_finish', 'garage_cars',\n",
       "       'garage_area', 'garage_qual', 'garage_cond', 'paved_drive',\n",
       "       'wood_deck_sf', 'open_porch_sf', 'enclosed_porch', '3ssn_porch',\n",
       "       'screen_porch', 'pool_area', 'pool_qc', 'fence', 'misc_feature',\n",
       "       'misc_val', 'mo_sold', 'yr_sold', 'sale_type', 'saleprice'],\n",
       "      dtype='object')"
      ]
     },
     "execution_count": 12,
     "metadata": {},
     "output_type": "execute_result"
    }
   ],
   "source": [
    "train_df.columns"
   ]
  },
  {
   "cell_type": "code",
   "execution_count": 13,
   "id": "361d83de-2735-4f9a-ac3d-92f007915103",
   "metadata": {},
   "outputs": [
    {
     "name": "stdout",
     "output_type": "stream",
     "text": [
      "<class 'pandas.core.frame.DataFrame'>\n",
      "Int64Index: 2051 entries, 109 to 10\n",
      "Data columns (total 80 columns):\n",
      " #   Column           Non-Null Count  Dtype  \n",
      "---  ------           --------------  -----  \n",
      " 0   pid              2051 non-null   int64  \n",
      " 1   ms_subclass      2051 non-null   int64  \n",
      " 2   ms_zoning        2051 non-null   object \n",
      " 3   lot_frontage     1721 non-null   float64\n",
      " 4   lot_area         2051 non-null   int64  \n",
      " 5   street           2051 non-null   object \n",
      " 6   alley            140 non-null    object \n",
      " 7   lot_shape        2051 non-null   object \n",
      " 8   land_contour     2051 non-null   object \n",
      " 9   utilities        2051 non-null   object \n",
      " 10  lot_config       2051 non-null   object \n",
      " 11  land_slope       2051 non-null   object \n",
      " 12  neighborhood     2051 non-null   object \n",
      " 13  condition_1      2051 non-null   object \n",
      " 14  condition_2      2051 non-null   object \n",
      " 15  bldg_type        2051 non-null   object \n",
      " 16  house_style      2051 non-null   object \n",
      " 17  overall_qual     2051 non-null   int64  \n",
      " 18  overall_cond     2051 non-null   int64  \n",
      " 19  year_built       2051 non-null   int64  \n",
      " 20  year_remod/add   2051 non-null   int64  \n",
      " 21  roof_style       2051 non-null   object \n",
      " 22  roof_matl        2051 non-null   object \n",
      " 23  exterior_1st     2051 non-null   object \n",
      " 24  exterior_2nd     2051 non-null   object \n",
      " 25  mas_vnr_type     2029 non-null   object \n",
      " 26  mas_vnr_area     2029 non-null   float64\n",
      " 27  exter_qual       2051 non-null   object \n",
      " 28  exter_cond       2051 non-null   object \n",
      " 29  foundation       2051 non-null   object \n",
      " 30  bsmt_qual        1996 non-null   object \n",
      " 31  bsmt_cond        1996 non-null   object \n",
      " 32  bsmt_exposure    1993 non-null   object \n",
      " 33  bsmtfin_type_1   1996 non-null   object \n",
      " 34  bsmtfin_sf_1     2050 non-null   float64\n",
      " 35  bsmtfin_type_2   1995 non-null   object \n",
      " 36  bsmtfin_sf_2     2050 non-null   float64\n",
      " 37  bsmt_unf_sf      2050 non-null   float64\n",
      " 38  total_bsmt_sf    2050 non-null   float64\n",
      " 39  heating          2051 non-null   object \n",
      " 40  heating_qc       2051 non-null   object \n",
      " 41  central_air      2051 non-null   object \n",
      " 42  electrical       2051 non-null   object \n",
      " 43  1st_flr_sf       2051 non-null   int64  \n",
      " 44  2nd_flr_sf       2051 non-null   int64  \n",
      " 45  low_qual_fin_sf  2051 non-null   int64  \n",
      " 46  gr_liv_area      2051 non-null   int64  \n",
      " 47  bsmt_full_bath   2049 non-null   float64\n",
      " 48  bsmt_half_bath   2049 non-null   float64\n",
      " 49  full_bath        2051 non-null   int64  \n",
      " 50  half_bath        2051 non-null   int64  \n",
      " 51  bedroom_abvgr    2051 non-null   int64  \n",
      " 52  kitchen_abvgr    2051 non-null   int64  \n",
      " 53  kitchen_qual     2051 non-null   object \n",
      " 54  totrms_abvgrd    2051 non-null   int64  \n",
      " 55  functional       2051 non-null   object \n",
      " 56  fireplaces       2051 non-null   int64  \n",
      " 57  fireplace_qu     1051 non-null   object \n",
      " 58  garage_type      1938 non-null   object \n",
      " 59  garage_yr_blt    1937 non-null   float64\n",
      " 60  garage_finish    1937 non-null   object \n",
      " 61  garage_cars      2050 non-null   float64\n",
      " 62  garage_area      2050 non-null   float64\n",
      " 63  garage_qual      1937 non-null   object \n",
      " 64  garage_cond      1937 non-null   object \n",
      " 65  paved_drive      2051 non-null   object \n",
      " 66  wood_deck_sf     2051 non-null   int64  \n",
      " 67  open_porch_sf    2051 non-null   int64  \n",
      " 68  enclosed_porch   2051 non-null   int64  \n",
      " 69  3ssn_porch       2051 non-null   int64  \n",
      " 70  screen_porch     2051 non-null   int64  \n",
      " 71  pool_area        2051 non-null   int64  \n",
      " 72  pool_qc          9 non-null      object \n",
      " 73  fence            400 non-null    object \n",
      " 74  misc_feature     65 non-null     object \n",
      " 75  misc_val         2051 non-null   int64  \n",
      " 76  mo_sold          2051 non-null   int64  \n",
      " 77  yr_sold          2051 non-null   int64  \n",
      " 78  sale_type        2051 non-null   object \n",
      " 79  saleprice        2051 non-null   int64  \n",
      "dtypes: float64(11), int64(27), object(42)\n",
      "memory usage: 1.3+ MB\n"
     ]
    }
   ],
   "source": [
    "train_df.info()"
   ]
  },
  {
   "cell_type": "markdown",
   "id": "7e5c4463-9e5e-4a28-b0d6-40eb277a53c9",
   "metadata": {},
   "source": [
    "## 1.1 Data Cleaning "
   ]
  },
  {
   "cell_type": "code",
   "execution_count": 14,
   "id": "4594c0af-d45d-49df-8931-2d771d47fe4f",
   "metadata": {},
   "outputs": [
    {
     "data": {
      "text/plain": [
       "['lot_frontage',\n",
       " 'alley',\n",
       " 'mas_vnr_type',\n",
       " 'mas_vnr_area',\n",
       " 'bsmt_qual',\n",
       " 'bsmt_cond',\n",
       " 'bsmt_exposure',\n",
       " 'bsmtfin_type_1',\n",
       " 'bsmtfin_sf_1',\n",
       " 'bsmtfin_type_2',\n",
       " 'bsmtfin_sf_2',\n",
       " 'bsmt_unf_sf',\n",
       " 'total_bsmt_sf',\n",
       " 'bsmt_full_bath',\n",
       " 'bsmt_half_bath',\n",
       " 'fireplace_qu',\n",
       " 'garage_type',\n",
       " 'garage_yr_blt',\n",
       " 'garage_finish',\n",
       " 'garage_cars',\n",
       " 'garage_area',\n",
       " 'garage_qual',\n",
       " 'garage_cond',\n",
       " 'pool_qc',\n",
       " 'fence',\n",
       " 'misc_feature']"
      ]
     },
     "execution_count": 14,
     "metadata": {},
     "output_type": "execute_result"
    }
   ],
   "source": [
    "train_df.columns[train_df.isna().any()].tolist()"
   ]
  },
  {
   "cell_type": "code",
   "execution_count": 15,
   "id": "efdb2611-920a-4153-88e1-b83379c5c34b",
   "metadata": {},
   "outputs": [
    {
     "data": {
      "text/plain": [
       "pool_qc           2042\n",
       "misc_feature      1986\n",
       "alley             1911\n",
       "fence             1651\n",
       "fireplace_qu      1000\n",
       "lot_frontage       330\n",
       "garage_finish      114\n",
       "garage_qual        114\n",
       "garage_yr_blt      114\n",
       "garage_cond        114\n",
       "garage_type        113\n",
       "bsmt_exposure       58\n",
       "bsmtfin_type_2      56\n",
       "bsmt_cond           55\n",
       "bsmt_qual           55\n",
       "bsmtfin_type_1      55\n",
       "mas_vnr_area        22\n",
       "mas_vnr_type        22\n",
       "bsmt_full_bath       2\n",
       "bsmt_half_bath       2\n",
       "garage_area          1\n",
       "garage_cars          1\n",
       "total_bsmt_sf        1\n",
       "bsmt_unf_sf          1\n",
       "bsmtfin_sf_2         1\n",
       "bsmtfin_sf_1         1\n",
       "dtype: int64"
      ]
     },
     "execution_count": 15,
     "metadata": {},
     "output_type": "execute_result"
    }
   ],
   "source": [
    "#==============================================DEAL WITH MISSING VALUES FIRST===========================================================\n",
    "train_df.isnull().sum().sort_values(ascending = False)[:26]  #train dataset originally has 25 columns with missing values "
   ]
  },
  {
   "cell_type": "code",
   "execution_count": 16,
   "id": "08fa6681-cbf9-4a09-8885-450d0f8e3fa3",
   "metadata": {},
   "outputs": [
    {
     "data": {
      "text/plain": [
       "pool_qc           874\n",
       "misc_feature      837\n",
       "alley             820\n",
       "fence             706\n",
       "fireplace_qu      422\n",
       "lot_frontage      160\n",
       "garage_yr_blt      45\n",
       "garage_finish      45\n",
       "garage_qual        45\n",
       "garage_cond        45\n",
       "garage_type        44\n",
       "bsmtfin_type_1     25\n",
       "bsmt_qual          25\n",
       "bsmt_cond          25\n",
       "bsmt_exposure      25\n",
       "bsmtfin_type_2     25\n",
       "electrical          1\n",
       "mas_vnr_type        1\n",
       "mas_vnr_area        1\n",
       "dtype: int64"
      ]
     },
     "execution_count": 16,
     "metadata": {},
     "output_type": "execute_result"
    }
   ],
   "source": [
    "test_df.isnull().sum().sort_values(ascending = False)[:19]  #test data set originally has 18 columns of nulls"
   ]
  },
  {
   "cell_type": "code",
   "execution_count": 17,
   "id": "ee20276a-800e-42aa-a1ab-4c7a90ea319d",
   "metadata": {},
   "outputs": [
    {
     "data": {
      "text/plain": [
       "id\n",
       "109     BrkFace\n",
       "544     BrkFace\n",
       "153        None\n",
       "318        None\n",
       "255        None\n",
       "         ...   \n",
       "1587       None\n",
       "785        None\n",
       "916        None\n",
       "639        None\n",
       "10         None\n",
       "Name: mas_vnr_type, Length: 2051, dtype: object"
      ]
     },
     "execution_count": 17,
     "metadata": {},
     "output_type": "execute_result"
    }
   ],
   "source": [
    "train_df['mas_vnr_type']"
   ]
  },
  {
   "cell_type": "code",
   "execution_count": null,
   "id": "07b92225-dfdc-458d-ad36-1795df6d557f",
   "metadata": {},
   "outputs": [],
   "source": []
  },
  {
   "cell_type": "code",
   "execution_count": 18,
   "id": "96b1ace0-a9b0-4943-ba22-1e770968b22f",
   "metadata": {},
   "outputs": [],
   "source": [
    "#lot frontage has empty cells..options I can do is delete empty rows or fill empty cells with the mean of the row\n",
    "# more on it in my empty cells section:"
   ]
  },
  {
   "cell_type": "code",
   "execution_count": 19,
   "id": "54265fc9-b4e4-4c7d-9f9b-341917b87bb7",
   "metadata": {},
   "outputs": [
    {
     "data": {
      "text/plain": [
       "69.54596100278552"
      ]
     },
     "execution_count": 19,
     "metadata": {},
     "output_type": "execute_result"
    }
   ],
   "source": [
    "test_df['lot_frontage'].mean()"
   ]
  },
  {
   "cell_type": "code",
   "execution_count": null,
   "id": "b4eaf1e3-5100-4231-bd43-bdde2dc0b774",
   "metadata": {},
   "outputs": [],
   "source": []
  },
  {
   "cell_type": "code",
   "execution_count": 20,
   "id": "0e9336df-baeb-47f5-a9d3-fe045649d6d5",
   "metadata": {},
   "outputs": [
    {
     "data": {
      "text/plain": [
       "(array([nan, 'Pave', 'Grvl'], dtype=object),\n",
       " array(['Grvl', nan, 'Pave'], dtype=object))"
      ]
     },
     "execution_count": 20,
     "metadata": {},
     "output_type": "execute_result"
    }
   ],
   "source": [
    "#---------------for 'alley'  NA actually means  NA = no alley Access\n",
    "train_df['alley'].unique(), test_df['alley'].unique()"
   ]
  },
  {
   "cell_type": "code",
   "execution_count": 21,
   "id": "cfba4ba7-2ef2-480d-b892-51c264a95292",
   "metadata": {},
   "outputs": [],
   "source": [
    "#train_df['alley'].replace('NA','NoAccess')   #nope tihs doesnt work\n",
    "train_df['alley'].fillna('NoAccess', inplace = True)\n",
    "test_df['alley'].fillna('NoAccess', inplace= True)"
   ]
  },
  {
   "cell_type": "code",
   "execution_count": 22,
   "id": "dbaa97ae-b2bf-4abb-bffc-eb42f9b7f64c",
   "metadata": {},
   "outputs": [],
   "source": [
    "# ++will need to dummy.. "
   ]
  },
  {
   "cell_type": "code",
   "execution_count": 23,
   "id": "d6b9fb25-850c-4fcf-b158-e0a764364a0a",
   "metadata": {},
   "outputs": [],
   "source": [
    "#----------- for 'pool_qc' (pool quality)  NA actually means   NA = no pool"
   ]
  },
  {
   "cell_type": "code",
   "execution_count": 24,
   "id": "fc7a97f2-7c28-43e0-8296-f71bd847e186",
   "metadata": {},
   "outputs": [
    {
     "data": {
      "text/plain": [
       "(array([nan, 'Fa', 'Gd', 'Ex', 'TA'], dtype=object),\n",
       " array([nan, 'Ex', 'TA'], dtype=object))"
      ]
     },
     "execution_count": 24,
     "metadata": {},
     "output_type": "execute_result"
    }
   ],
   "source": [
    "train_df['pool_qc'].unique(), test_df['pool_qc'].unique()"
   ]
  },
  {
   "cell_type": "code",
   "execution_count": 25,
   "id": "f5c64667-945d-4c9d-af12-348e4121d70b",
   "metadata": {},
   "outputs": [],
   "source": [
    "train_df['pool_qc'].fillna('NoPool', inplace = True)\n",
    "test_df['pool_qc'].fillna('NoPool', inplace = True)"
   ]
  },
  {
   "cell_type": "code",
   "execution_count": 26,
   "id": "a050bfe9-b63e-4f7f-8de0-ecf7eae03814",
   "metadata": {},
   "outputs": [
    {
     "data": {
      "text/plain": [
       "{'Fa', 'Gd'}"
      ]
     },
     "execution_count": 26,
     "metadata": {},
     "output_type": "execute_result"
    }
   ],
   "source": [
    "# ++will neeed to dummy...also when dummifying need to manually add column series into test df bec train df has extra values.. i.e add a dummy column into test for Fa, Gd, \n",
    "set(train_df['pool_qc'].unique()) - set(test_df['pool_qc'].unique())"
   ]
  },
  {
   "cell_type": "code",
   "execution_count": null,
   "id": "1aebb267-676a-432f-a65b-b8a18ada3e78",
   "metadata": {},
   "outputs": [],
   "source": []
  },
  {
   "cell_type": "code",
   "execution_count": 27,
   "id": "d70da83d-ca81-4665-89cf-5ae0546e3fac",
   "metadata": {},
   "outputs": [],
   "source": [
    "#-------------for 'misc_feature'  NA actually means   NA = no misc features"
   ]
  },
  {
   "cell_type": "code",
   "execution_count": 28,
   "id": "e35361e9-1c5c-4b53-96b7-560ff853f09a",
   "metadata": {},
   "outputs": [
    {
     "data": {
      "text/plain": [
       "(array([nan, 'Shed', 'TenC', 'Gar2', 'Othr', 'Elev'], dtype=object),\n",
       " array([nan, 'Shed', 'Othr', 'Gar2'], dtype=object))"
      ]
     },
     "execution_count": 28,
     "metadata": {},
     "output_type": "execute_result"
    }
   ],
   "source": [
    "train_df['misc_feature'].unique(), test_df['misc_feature'].unique()"
   ]
  },
  {
   "cell_type": "code",
   "execution_count": 29,
   "id": "d3b2ab27-86ee-4329-9197-4c5cec3f7459",
   "metadata": {},
   "outputs": [],
   "source": [
    "train_df['misc_feature'].fillna('No_Misc', inplace= True)\n",
    "test_df['misc_feature'].fillna('No_Misc', inplace= True)"
   ]
  },
  {
   "cell_type": "code",
   "execution_count": 30,
   "id": "9cdfc014-f7ac-4c02-a914-30463548f692",
   "metadata": {},
   "outputs": [
    {
     "data": {
      "text/plain": [
       "{'Elev', 'TenC'}"
      ]
     },
     "execution_count": 30,
     "metadata": {},
     "output_type": "execute_result"
    }
   ],
   "source": [
    "#  ++ will dumify this also.also when dummifying need to manually add column series into test df bec train df has extra values.\n",
    "set(train_df['misc_feature'].unique()) - set(test_df['misc_feature'].unique())"
   ]
  },
  {
   "cell_type": "code",
   "execution_count": null,
   "id": "0eb12d73-c986-4b94-a889-0de0574769df",
   "metadata": {},
   "outputs": [],
   "source": []
  },
  {
   "cell_type": "code",
   "execution_count": 31,
   "id": "9a836e56-e86e-4d71-9ec7-94ff0e13dc25",
   "metadata": {},
   "outputs": [],
   "source": [
    "#-------------for 'fence'  NA actually means   NA = no fence"
   ]
  },
  {
   "cell_type": "code",
   "execution_count": 32,
   "id": "078aa18d-555f-4b4c-90bb-4ec7925eb05b",
   "metadata": {},
   "outputs": [
    {
     "data": {
      "text/plain": [
       "(array([nan, 'MnPrv', 'GdPrv', 'GdWo', 'MnWw'], dtype=object),\n",
       " array([nan, 'MnPrv', 'GdPrv', 'GdWo', 'MnWw'], dtype=object))"
      ]
     },
     "execution_count": 32,
     "metadata": {},
     "output_type": "execute_result"
    }
   ],
   "source": [
    "train_df['fence'].unique(), test_df['fence'].unique()"
   ]
  },
  {
   "cell_type": "code",
   "execution_count": 33,
   "id": "09f9aed6-269c-4524-9a14-396b4fd977f8",
   "metadata": {},
   "outputs": [],
   "source": [
    "train_df['fence'].fillna('NoFence', inplace= True)\n",
    "test_df['fence'].fillna('NoFence', inplace= True)"
   ]
  },
  {
   "cell_type": "code",
   "execution_count": 34,
   "id": "d3fdbf8c-4c8e-48d8-803a-ffdd9df40076",
   "metadata": {},
   "outputs": [],
   "source": [
    "# ++ will need to dummify aslo"
   ]
  },
  {
   "cell_type": "code",
   "execution_count": null,
   "id": "bce3ec8d-95af-4cc7-8301-09f545ea3cd3",
   "metadata": {},
   "outputs": [],
   "source": []
  },
  {
   "cell_type": "code",
   "execution_count": 35,
   "id": "6b337840-a93f-44d1-be4b-0f8e0214bec6",
   "metadata": {},
   "outputs": [],
   "source": [
    "#-------------for 'fireplace_qu' (fireplace quality) NA actually means   NA = no fire place"
   ]
  },
  {
   "cell_type": "code",
   "execution_count": 36,
   "id": "bd4cefcc-48c1-42fb-af9a-54d80bc8ab92",
   "metadata": {},
   "outputs": [
    {
     "data": {
      "text/plain": [
       "(array([nan, 'TA', 'Gd', 'Po', 'Ex', 'Fa'], dtype=object),\n",
       " array([nan, 'Gd', 'Fa', 'TA', 'Po', 'Ex'], dtype=object))"
      ]
     },
     "execution_count": 36,
     "metadata": {},
     "output_type": "execute_result"
    }
   ],
   "source": [
    "train_df['fireplace_qu'].unique(), test_df['fireplace_qu'].unique()"
   ]
  },
  {
   "cell_type": "code",
   "execution_count": 37,
   "id": "e44113e4-6798-48e2-b598-95eab41afdee",
   "metadata": {},
   "outputs": [],
   "source": [
    "train_df['fireplace_qu'].fillna('No_Fireplace', inplace= True)\n",
    "test_df['fireplace_qu'].fillna('No_Fireplace', inplace= True)"
   ]
  },
  {
   "cell_type": "code",
   "execution_count": 38,
   "id": "89b9be5a-92cf-46ad-9c5f-191d0cdf99a0",
   "metadata": {},
   "outputs": [],
   "source": [
    "# ++ dumify later..."
   ]
  },
  {
   "cell_type": "code",
   "execution_count": 39,
   "id": "7374bc7d-61f0-47bd-a58b-762c80b3a819",
   "metadata": {},
   "outputs": [],
   "source": [
    "#-------------for 'garage_cond' (garage condition) NA actually means   NA = no garage"
   ]
  },
  {
   "cell_type": "code",
   "execution_count": 40,
   "id": "1be33f4f-f462-4f00-b41b-72f9659ae28a",
   "metadata": {},
   "outputs": [
    {
     "data": {
      "text/plain": [
       "(array(['TA', 'Fa', nan, 'Po', 'Gd', 'Ex'], dtype=object),\n",
       " array(['Po', 'TA', nan, 'Fa', 'Gd', 'Ex'], dtype=object))"
      ]
     },
     "execution_count": 40,
     "metadata": {},
     "output_type": "execute_result"
    }
   ],
   "source": [
    "train_df['garage_cond'].unique(), test_df['garage_cond'].unique()"
   ]
  },
  {
   "cell_type": "code",
   "execution_count": 41,
   "id": "31e4f00f-0448-4cc8-9807-3f7243e9dcc3",
   "metadata": {},
   "outputs": [],
   "source": [
    "train_df['garage_cond'].fillna('No_Gar', inplace= True)\n",
    "test_df['garage_cond'].fillna('No_Gar', inplace= True)\n",
    "\n",
    "# ++ need to dumify also"
   ]
  },
  {
   "cell_type": "code",
   "execution_count": 42,
   "id": "4a945086-942c-4de8-93c3-512c5e19b562",
   "metadata": {},
   "outputs": [
    {
     "data": {
      "text/plain": [
       "(array(['TA', 'Fa', nan, 'Gd', 'Ex', 'Po'], dtype=object),\n",
       " array(['Po', 'TA', 'Fa', nan, 'Gd'], dtype=object))"
      ]
     },
     "execution_count": 42,
     "metadata": {},
     "output_type": "execute_result"
    }
   ],
   "source": [
    "#-------------for 'qual' (garage quality) NA actually means   NA = no garage\n",
    "train_df['garage_qual'].unique(), test_df['garage_qual'].unique()"
   ]
  },
  {
   "cell_type": "code",
   "execution_count": 43,
   "id": "70ffff22-5b35-4046-a67d-01fa8c7355e0",
   "metadata": {},
   "outputs": [
    {
     "data": {
      "text/plain": [
       "{'Ex'}"
      ]
     },
     "execution_count": 43,
     "metadata": {},
     "output_type": "execute_result"
    }
   ],
   "source": [
    "train_df['garage_qual'].fillna('No_Gar', inplace= True)\n",
    "test_df['garage_qual'].fillna('No_Gar', inplace= True)\n",
    "\n",
    "# ++ need to dumify also... also when dummifying need to manually add column series into test df bec train df has extra values.\n",
    "set(train_df['garage_qual'].unique()) - set(test_df['garage_qual'].unique())"
   ]
  },
  {
   "cell_type": "code",
   "execution_count": null,
   "id": "db6ceb28-b7e9-4399-8b8c-e56d25dad8d9",
   "metadata": {},
   "outputs": [],
   "source": []
  },
  {
   "cell_type": "code",
   "execution_count": 44,
   "id": "e55d6513-c929-4f46-8976-fa3f32950dcd",
   "metadata": {},
   "outputs": [
    {
     "data": {
      "text/plain": [
       "(array(['RFn', 'Unf', 'Fin', nan], dtype=object),\n",
       " array(['Unf', 'Fin', 'RFn', nan], dtype=object))"
      ]
     },
     "execution_count": 44,
     "metadata": {},
     "output_type": "execute_result"
    }
   ],
   "source": [
    "#-------------for 'garage_finish' (garage finish) NA actually means   NA = no garage\n",
    "train_df['garage_finish'].unique(), test_df['garage_finish'].unique()"
   ]
  },
  {
   "cell_type": "code",
   "execution_count": 45,
   "id": "ff2852aa-8f93-41f0-b159-03942a3baf7f",
   "metadata": {},
   "outputs": [],
   "source": [
    "train_df['garage_finish'].fillna('No_Gar', inplace= True)\n",
    "test_df['garage_finish'].fillna('No_Gar', inplace= True)\n",
    "\n",
    "# ++ need to dumify also"
   ]
  },
  {
   "cell_type": "code",
   "execution_count": 46,
   "id": "74199085-7fea-4c09-96a9-581e26acc695",
   "metadata": {},
   "outputs": [
    {
     "data": {
      "text/plain": [
       "(array([2207., 2010., 2009., 2008., 2007., 2006., 2005., 2004., 2003.,\n",
       "        2002., 2001., 2000., 1999., 1998., 1997., 1996., 1995., 1994.,\n",
       "        1993., 1992., 1991., 1990., 1989., 1988., 1987., 1986., 1985.,\n",
       "        1984., 1983., 1982., 1981., 1980., 1979., 1978., 1977., 1976.,\n",
       "        1975., 1974., 1973., 1972., 1971., 1970., 1969., 1968., 1967.,\n",
       "        1966., 1965., 1964., 1963., 1962., 1961., 1960., 1959., 1958.,\n",
       "        1957., 1956., 1955., 1954., 1953., 1952., 1951., 1950., 1949.,\n",
       "        1948., 1947., 1946., 1945., 1942., 1941., 1940., 1939., 1938.,\n",
       "        1937., 1936., 1935., 1934., 1933., 1932., 1931., 1930., 1929.,\n",
       "        1928., 1927., 1926., 1925., 1924., 1923., 1922., 1921., 1920.,\n",
       "        1919., 1918., 1917., 1916., 1915., 1914., 1910., 1900., 1896.,\n",
       "        1895.,   nan]),\n",
       " array([2010., 2009., 2008., 2007., 2006., 2005., 2004., 2003., 2002.,\n",
       "        2001., 2000., 1999., 1998., 1997., 1996., 1995., 1994., 1993.,\n",
       "        1992., 1991., 1990., 1989., 1988., 1987., 1986., 1985., 1984.,\n",
       "        1983., 1982., 1981., 1980., 1979., 1978., 1977., 1976., 1975.,\n",
       "        1974., 1973., 1972., 1971., 1970., 1969., 1968., 1967., 1966.,\n",
       "        1965., 1964., 1963., 1962., 1961., 1960., 1959., 1958., 1957.,\n",
       "        1956., 1955., 1954., 1953., 1952., 1951., 1950., 1949., 1948.,\n",
       "        1947., 1946., 1943., 1941., 1940., 1939., 1938., 1937., 1935.,\n",
       "        1934., 1932., 1931., 1930., 1928., 1927., 1926., 1925., 1924.,\n",
       "        1923., 1922., 1921., 1920., 1918., 1917., 1916., 1915., 1910.,\n",
       "        1908., 1906., 1900.,   nan]))"
      ]
     },
     "execution_count": 46,
     "metadata": {},
     "output_type": "execute_result"
    }
   ],
   "source": [
    "#-------------for 'garage_finish' (garage finish) NA actually means   NA = no garage\n",
    "train_df['garage_yr_blt'].sort_values(ascending=False).unique(), test_df['garage_yr_blt'].sort_values(ascending=False).unique()\n",
    "\n",
    "     #**********for train_df there is a value that has the year 2207... which doesnt make sense********************\n",
    "    #********* need to think on this one.. set the null values to 0 technicallly because they were never built.. garage doesnt come with the home***"
   ]
  },
  {
   "cell_type": "code",
   "execution_count": 47,
   "id": "381284e4-94d6-4956-bccb-81444eb8ff4f",
   "metadata": {},
   "outputs": [],
   "source": [
    "#drop the year 2207 in the train_df:\n",
    "#train_df.drop(train_df.index[train_df['garage_yr_blt'] < 2015], inplace= True)  #this line drops everything before 2015\n",
    "\n",
    "train_df.drop(train_df.index[train_df['garage_yr_blt'] > 2015], inplace = True)  #drop the rows in garage_yr_blt greater then 2015.. why did i brain fart here\n"
   ]
  },
  {
   "cell_type": "code",
   "execution_count": null,
   "id": "49b10b8f-26c6-47e9-8435-4915d335cc21",
   "metadata": {},
   "outputs": [],
   "source": []
  },
  {
   "cell_type": "code",
   "execution_count": 48,
   "id": "17fc2cd7-cb2e-4b02-afe2-d318e41dad03",
   "metadata": {},
   "outputs": [],
   "source": [
    "train_df['garage_yr_blt'].fillna(0 , inplace= True)\n",
    "test_df['garage_yr_blt'].fillna(0 , inplace= True)\n",
    "#I should comeback to this later and instead fill it with maybe the mean of the year.. though it still doesnt make sense bec the garage was never built\n",
    "\n",
    "\n",
    "# -dont have to dumify.... uugh maybe i do?"
   ]
  },
  {
   "cell_type": "code",
   "execution_count": 49,
   "id": "a728114e-5e62-4aa5-9664-3f08912e27aa",
   "metadata": {},
   "outputs": [
    {
     "data": {
      "text/plain": [
       "(array(['Attchd', 'Detchd', 'BuiltIn', 'Basment', nan, '2Types', 'CarPort'],\n",
       "       dtype=object),\n",
       " array(['Detchd', 'Attchd', 'BuiltIn', nan, '2Types', 'CarPort', 'Basment'],\n",
       "       dtype=object))"
      ]
     },
     "execution_count": 49,
     "metadata": {},
     "output_type": "execute_result"
    }
   ],
   "source": [
    "#-------------for 'garage_type'  NA actually means   NA = no garage\n",
    "train_df['garage_type'].unique(), test_df['garage_type'].unique()"
   ]
  },
  {
   "cell_type": "code",
   "execution_count": 50,
   "id": "dc6d9d81-1430-4472-aa08-87a4b3aa5b4b",
   "metadata": {},
   "outputs": [],
   "source": [
    "train_df['garage_type'].fillna('No_Gar' , inplace= True)\n",
    "test_df['garage_type'].fillna('No_Gar' , inplace= True)\n",
    "\n",
    "# ++ need to dumify also...."
   ]
  },
  {
   "cell_type": "code",
   "execution_count": 51,
   "id": "98cb49df-d5b0-4a06-990a-8bf7dd22ee79",
   "metadata": {},
   "outputs": [
    {
     "data": {
      "text/plain": [
       "(array(['No', 'Gd', 'Av', nan, 'Mn'], dtype=object),\n",
       " array(['No', 'Av', nan, 'Mn', 'Gd'], dtype=object))"
      ]
     },
     "execution_count": 51,
     "metadata": {},
     "output_type": "execute_result"
    }
   ],
   "source": [
    "#-------------for 'bsmt_exposure'  NA actually means   NA = no basement\n",
    "train_df['bsmt_exposure'].unique(), test_df['bsmt_exposure'].unique()"
   ]
  },
  {
   "cell_type": "code",
   "execution_count": 52,
   "id": "dcbf776d-671f-4db0-b952-879795918a0e",
   "metadata": {},
   "outputs": [],
   "source": [
    "train_df['bsmt_exposure'].fillna('NoBsmt' , inplace= True)\n",
    "test_df['bsmt_exposure'].fillna('NoBsmt' , inplace= True)\n",
    "\n",
    "# ++ need to dumify also"
   ]
  },
  {
   "cell_type": "code",
   "execution_count": 53,
   "id": "be3051ec-c2d4-4b92-9bdc-731b5c729312",
   "metadata": {},
   "outputs": [
    {
     "data": {
      "text/plain": [
       "(array(['GLQ', 'Unf', 'ALQ', 'Rec', nan, 'BLQ', 'LwQ'], dtype=object),\n",
       " array(['Unf', 'GLQ', 'BLQ', 'Rec', 'ALQ', nan, 'LwQ'], dtype=object))"
      ]
     },
     "execution_count": 53,
     "metadata": {},
     "output_type": "execute_result"
    }
   ],
   "source": [
    "#-------------for 'bsmtfin_type_1' (quality of basement finished area)  NA actually means   NA = no basement\n",
    "train_df['bsmtfin_type_1'].unique(), test_df['bsmtfin_type_1'].unique()"
   ]
  },
  {
   "cell_type": "code",
   "execution_count": 54,
   "id": "ee1f1054-d480-4fe3-a345-7061c43a8d99",
   "metadata": {},
   "outputs": [],
   "source": [
    "train_df['bsmtfin_type_1'].fillna('NoBsmt' , inplace= True)\n",
    "test_df['bsmtfin_type_1'].fillna('NoBsmt' , inplace= True)\n",
    "\n",
    "# ++ need to dumify also"
   ]
  },
  {
   "cell_type": "code",
   "execution_count": 55,
   "id": "6c54affb-094c-43e7-a57f-edf94874476c",
   "metadata": {},
   "outputs": [
    {
     "data": {
      "text/plain": [
       "(array(['Unf', 'Rec', nan, 'BLQ', 'GLQ', 'LwQ', 'ALQ'], dtype=object),\n",
       " array(['Unf', 'LwQ', nan, 'ALQ', 'GLQ', 'Rec', 'BLQ'], dtype=object))"
      ]
     },
     "execution_count": 55,
     "metadata": {},
     "output_type": "execute_result"
    }
   ],
   "source": [
    "#-------------for 'bsmtfin_type_1' (quality of 2nd basement finished area)  NA actually means   NA = no basement\n",
    "train_df['bsmtfin_type_2'].unique(), test_df['bsmtfin_type_2'].unique()"
   ]
  },
  {
   "cell_type": "code",
   "execution_count": 56,
   "id": "1f50909d-56fb-44bd-af6f-7a2db6643982",
   "metadata": {},
   "outputs": [],
   "source": [
    "train_df['bsmtfin_type_2'].fillna('NoBsmt' , inplace= True)\n",
    "test_df['bsmtfin_type_2'].fillna('NoBsmt' , inplace= True)\n",
    "\n",
    "# ++ need to dumify also"
   ]
  },
  {
   "cell_type": "code",
   "execution_count": 57,
   "id": "6b0dd200-8184-4e10-af6b-c77027d9eb57",
   "metadata": {},
   "outputs": [
    {
     "data": {
      "text/plain": [
       "(array(['TA', 'Gd', nan, 'Fa', 'Po', 'Ex'], dtype=object),\n",
       " array(['TA', 'Gd', nan, 'Fa'], dtype=object))"
      ]
     },
     "execution_count": 57,
     "metadata": {},
     "output_type": "execute_result"
    }
   ],
   "source": [
    "#-------------for 'bsmt_cond' (basement condition)  NA actually means   NA = no basement\n",
    "train_df['bsmt_cond'].unique(), test_df['bsmt_cond'].unique()"
   ]
  },
  {
   "cell_type": "code",
   "execution_count": 58,
   "id": "a5714f20-7fef-4c0c-a233-5e9605c22dfc",
   "metadata": {},
   "outputs": [
    {
     "data": {
      "text/plain": [
       "{'Ex', 'Po'}"
      ]
     },
     "execution_count": 58,
     "metadata": {},
     "output_type": "execute_result"
    }
   ],
   "source": [
    "train_df['bsmt_cond'].fillna('NoBsmt' , inplace= True)\n",
    "test_df['bsmt_cond'].fillna('NoBsmt' , inplace= True)\n",
    "\n",
    "# ++ need to dumify also...also when dummifying need to manually add column series into test df bec train df has extra values.\n",
    "set(train_df['bsmt_cond'].unique()) - set(test_df['bsmt_cond'].unique())"
   ]
  },
  {
   "cell_type": "code",
   "execution_count": null,
   "id": "e9f065ca-e507-441e-b8b6-32e2cdc760a9",
   "metadata": {},
   "outputs": [],
   "source": []
  },
  {
   "cell_type": "code",
   "execution_count": 59,
   "id": "9f8a2810-cb7f-4a1c-827d-4ba7ca215f22",
   "metadata": {},
   "outputs": [
    {
     "data": {
      "text/plain": [
       "(array(['TA', 'Gd', 'Fa', nan, 'Ex', 'Po'], dtype=object),\n",
       " array(['Fa', 'Gd', 'TA', 'Ex', nan, 'Po'], dtype=object))"
      ]
     },
     "execution_count": 59,
     "metadata": {},
     "output_type": "execute_result"
    }
   ],
   "source": [
    "#-------------for 'bsmt_qual' (basement quality..height of the basement)  NA actually means   NA = no basement\n",
    "train_df['bsmt_qual'].unique(), test_df['bsmt_qual'].unique()"
   ]
  },
  {
   "cell_type": "code",
   "execution_count": 60,
   "id": "0358d408-c3ba-4f6d-ae8f-90b360318120",
   "metadata": {},
   "outputs": [],
   "source": [
    "train_df['bsmt_qual'].fillna('NoBsmt' , inplace= True)\n",
    "test_df['bsmt_qual'].fillna('NoBsmt' , inplace= True)\n",
    "\n",
    "# ++ need to dumify also"
   ]
  },
  {
   "cell_type": "code",
   "execution_count": 61,
   "id": "df2f4312-19c1-45a2-beef-ca0d533c2269",
   "metadata": {},
   "outputs": [],
   "source": [
    "#------- These upcoming cells have empty cells--------------------\n",
    "#----------------------"
   ]
  },
  {
   "cell_type": "code",
   "execution_count": 62,
   "id": "4b28bb0f-9bfa-4524-8707-2aba201d03fb",
   "metadata": {},
   "outputs": [
    {
     "data": {
      "text/plain": [
       "['lot_frontage',\n",
       " 'mas_vnr_type',\n",
       " 'mas_vnr_area',\n",
       " 'bsmtfin_sf_1',\n",
       " 'bsmtfin_sf_2',\n",
       " 'bsmt_unf_sf',\n",
       " 'total_bsmt_sf',\n",
       " 'bsmt_full_bath',\n",
       " 'bsmt_half_bath',\n",
       " 'garage_cars',\n",
       " 'garage_area']"
      ]
     },
     "execution_count": 62,
     "metadata": {},
     "output_type": "execute_result"
    }
   ],
   "source": [
    "empty_train = train_df.columns[train_df.isna().any()].tolist()\n",
    "empty_train"
   ]
  },
  {
   "cell_type": "code",
   "execution_count": 63,
   "id": "29ea07a1-dcd3-4d68-a247-92f54076f356",
   "metadata": {},
   "outputs": [
    {
     "data": {
      "text/plain": [
       "['lot_frontage', 'mas_vnr_type', 'mas_vnr_area', 'electrical']"
      ]
     },
     "execution_count": 63,
     "metadata": {},
     "output_type": "execute_result"
    }
   ],
   "source": [
    "empty_test = test_df.columns[test_df.isna().any()].tolist()\n",
    "empty_test  # DO NOT DELETE ROWS / COLUMNS OF THE TEST DATASET!!!!"
   ]
  },
  {
   "cell_type": "code",
   "execution_count": 64,
   "id": "45748fe6-03dc-4542-871e-6b6d7e6a88d4",
   "metadata": {},
   "outputs": [
    {
     "data": {
      "text/plain": [
       "(array(['BrkFace', 'None', nan, 'Stone', 'BrkCmn'], dtype=object),\n",
       " array(['None', 'BrkFace', 'Stone', 'BrkCmn', 'CBlock', nan], dtype=object))"
      ]
     },
     "execution_count": 64,
     "metadata": {},
     "output_type": "execute_result"
    }
   ],
   "source": [
    "#-------------for 'mas_vnr_type' (Massonry Veneer Type)  NA/empty cells?? actually means might mean none??? or should we remove??------------**********************************\n",
    "  ## is it our choice?? ask office hours!!...... Yep its a choice to remove or do w/e with it like putting the mean of the column into those cells\n",
    "train_df['mas_vnr_type'].unique(), test_df['mas_vnr_type'].unique()"
   ]
  },
  {
   "cell_type": "code",
   "execution_count": 65,
   "id": "4859a056-e975-412b-bd28-36b67927504c",
   "metadata": {},
   "outputs": [
    {
     "data": {
      "text/plain": [
       "None       1218\n",
       "BrkFace     630\n",
       "Stone       168\n",
       "BrkCmn       13\n",
       "Name: mas_vnr_type, dtype: int64"
      ]
     },
     "execution_count": 65,
     "metadata": {},
     "output_type": "execute_result"
    }
   ],
   "source": [
    "train_df['mas_vnr_type'].value_counts()"
   ]
  },
  {
   "cell_type": "code",
   "execution_count": null,
   "id": "e12c9c2b-a712-4602-b8a6-a12343283412",
   "metadata": {},
   "outputs": [],
   "source": []
  },
  {
   "cell_type": "code",
   "execution_count": 66,
   "id": "2a660ba0-aeb9-4184-aa7f-287f2534d50c",
   "metadata": {},
   "outputs": [
    {
     "data": {
      "text/plain": [
       "(array(['SBrkr', 'FuseF', 'FuseA', 'FuseP', 'Mix'], dtype=object),\n",
       " array(['FuseP', 'SBrkr', 'FuseA', 'FuseF', nan], dtype=object))"
      ]
     },
     "execution_count": 66,
     "metadata": {},
     "output_type": "execute_result"
    }
   ],
   "source": [
    "# -------------  ???????? for the empty cells.. i guess we cna decide to remove it****************************************\n",
    "train_df['electrical'].unique(), test_df['electrical'].unique()"
   ]
  },
  {
   "cell_type": "code",
   "execution_count": 67,
   "id": "08c2f693-bdb5-40dc-903e-844a38263aac",
   "metadata": {},
   "outputs": [
    {
     "data": {
      "text/html": [
       "<div>\n",
       "<style scoped>\n",
       "    .dataframe tbody tr th:only-of-type {\n",
       "        vertical-align: middle;\n",
       "    }\n",
       "\n",
       "    .dataframe tbody tr th {\n",
       "        vertical-align: top;\n",
       "    }\n",
       "\n",
       "    .dataframe thead th {\n",
       "        text-align: right;\n",
       "    }\n",
       "</style>\n",
       "<table border=\"1\" class=\"dataframe\">\n",
       "  <thead>\n",
       "    <tr style=\"text-align: right;\">\n",
       "      <th></th>\n",
       "      <th>pid</th>\n",
       "      <th>ms_subclass</th>\n",
       "      <th>ms_zoning</th>\n",
       "      <th>lot_frontage</th>\n",
       "      <th>lot_area</th>\n",
       "      <th>street</th>\n",
       "      <th>alley</th>\n",
       "      <th>lot_shape</th>\n",
       "      <th>land_contour</th>\n",
       "      <th>utilities</th>\n",
       "      <th>...</th>\n",
       "      <th>3ssn_porch</th>\n",
       "      <th>screen_porch</th>\n",
       "      <th>pool_area</th>\n",
       "      <th>pool_qc</th>\n",
       "      <th>fence</th>\n",
       "      <th>misc_feature</th>\n",
       "      <th>misc_val</th>\n",
       "      <th>mo_sold</th>\n",
       "      <th>yr_sold</th>\n",
       "      <th>sale_type</th>\n",
       "    </tr>\n",
       "    <tr>\n",
       "      <th>id</th>\n",
       "      <th></th>\n",
       "      <th></th>\n",
       "      <th></th>\n",
       "      <th></th>\n",
       "      <th></th>\n",
       "      <th></th>\n",
       "      <th></th>\n",
       "      <th></th>\n",
       "      <th></th>\n",
       "      <th></th>\n",
       "      <th></th>\n",
       "      <th></th>\n",
       "      <th></th>\n",
       "      <th></th>\n",
       "      <th></th>\n",
       "      <th></th>\n",
       "      <th></th>\n",
       "      <th></th>\n",
       "      <th></th>\n",
       "      <th></th>\n",
       "      <th></th>\n",
       "    </tr>\n",
       "  </thead>\n",
       "  <tbody>\n",
       "    <tr>\n",
       "      <th>1578</th>\n",
       "      <td>916386080</td>\n",
       "      <td>80</td>\n",
       "      <td>RL</td>\n",
       "      <td>73.0</td>\n",
       "      <td>9735</td>\n",
       "      <td>Pave</td>\n",
       "      <td>NoAccess</td>\n",
       "      <td>Reg</td>\n",
       "      <td>Lvl</td>\n",
       "      <td>AllPub</td>\n",
       "      <td>...</td>\n",
       "      <td>0</td>\n",
       "      <td>0</td>\n",
       "      <td>0</td>\n",
       "      <td>NoPool</td>\n",
       "      <td>NoFence</td>\n",
       "      <td>No_Misc</td>\n",
       "      <td>0</td>\n",
       "      <td>5</td>\n",
       "      <td>2008</td>\n",
       "      <td>WD</td>\n",
       "    </tr>\n",
       "  </tbody>\n",
       "</table>\n",
       "<p>1 rows × 79 columns</p>\n",
       "</div>"
      ],
      "text/plain": [
       "            pid  ms_subclass ms_zoning  lot_frontage  lot_area street  \\\n",
       "id                                                                      \n",
       "1578  916386080           80        RL          73.0      9735   Pave   \n",
       "\n",
       "         alley lot_shape land_contour utilities  ... 3ssn_porch screen_porch  \\\n",
       "id                                               ...                           \n",
       "1578  NoAccess       Reg          Lvl    AllPub  ...          0            0   \n",
       "\n",
       "     pool_area pool_qc    fence misc_feature misc_val  mo_sold  yr_sold  \\\n",
       "id                                                                        \n",
       "1578         0  NoPool  NoFence      No_Misc        0        5     2008   \n",
       "\n",
       "      sale_type  \n",
       "id               \n",
       "1578        WD   \n",
       "\n",
       "[1 rows x 79 columns]"
      ]
     },
     "execution_count": 67,
     "metadata": {},
     "output_type": "execute_result"
    }
   ],
   "source": [
    "test_df.loc[test_df['electrical'].isnull(), :]"
   ]
  },
  {
   "cell_type": "code",
   "execution_count": null,
   "id": "d56e5f00-4d9c-4b3c-a2cb-e5f4d6272d69",
   "metadata": {},
   "outputs": [],
   "source": []
  },
  {
   "cell_type": "code",
   "execution_count": 68,
   "id": "5f1140ea-69f6-4cf3-8c7b-62dabac4ba80",
   "metadata": {},
   "outputs": [
    {
     "data": {
      "text/plain": [
       "(array([ 0.,  1., nan,  2.]), array([ 0.,  1.,  2., nan,  3.]))"
      ]
     },
     "execution_count": 68,
     "metadata": {},
     "output_type": "execute_result"
    }
   ],
   "source": [
    "#--------- ***************** too remove them bec empty cells??? .... oh okay i cna play around wiht it and drop it .. its empty\n",
    "train_df['bsmt_half_bath'].unique(), train_df['bsmt_full_bath'].unique()"
   ]
  },
  {
   "cell_type": "code",
   "execution_count": 69,
   "id": "5e7939e8-826d-483d-8f63-ca0b00e07a90",
   "metadata": {},
   "outputs": [
    {
     "data": {
      "text/html": [
       "<div>\n",
       "<style scoped>\n",
       "    .dataframe tbody tr th:only-of-type {\n",
       "        vertical-align: middle;\n",
       "    }\n",
       "\n",
       "    .dataframe tbody tr th {\n",
       "        vertical-align: top;\n",
       "    }\n",
       "\n",
       "    .dataframe thead th {\n",
       "        text-align: right;\n",
       "    }\n",
       "</style>\n",
       "<table border=\"1\" class=\"dataframe\">\n",
       "  <thead>\n",
       "    <tr style=\"text-align: right;\">\n",
       "      <th></th>\n",
       "      <th>bsmt_half_bath</th>\n",
       "      <th>full_bath</th>\n",
       "      <th>half_bath</th>\n",
       "      <th>bedroom_abvgr</th>\n",
       "      <th>kitchen_abvgr</th>\n",
       "      <th>kitchen_qual</th>\n",
       "      <th>totrms_abvgrd</th>\n",
       "      <th>functional</th>\n",
       "      <th>fireplaces</th>\n",
       "      <th>fireplace_qu</th>\n",
       "      <th>...</th>\n",
       "      <th>screen_porch</th>\n",
       "      <th>pool_area</th>\n",
       "      <th>pool_qc</th>\n",
       "      <th>fence</th>\n",
       "      <th>misc_feature</th>\n",
       "      <th>misc_val</th>\n",
       "      <th>mo_sold</th>\n",
       "      <th>yr_sold</th>\n",
       "      <th>sale_type</th>\n",
       "      <th>saleprice</th>\n",
       "    </tr>\n",
       "    <tr>\n",
       "      <th>id</th>\n",
       "      <th></th>\n",
       "      <th></th>\n",
       "      <th></th>\n",
       "      <th></th>\n",
       "      <th></th>\n",
       "      <th></th>\n",
       "      <th></th>\n",
       "      <th></th>\n",
       "      <th></th>\n",
       "      <th></th>\n",
       "      <th></th>\n",
       "      <th></th>\n",
       "      <th></th>\n",
       "      <th></th>\n",
       "      <th></th>\n",
       "      <th></th>\n",
       "      <th></th>\n",
       "      <th></th>\n",
       "      <th></th>\n",
       "      <th></th>\n",
       "      <th></th>\n",
       "    </tr>\n",
       "  </thead>\n",
       "  <tbody>\n",
       "    <tr>\n",
       "      <th>1498</th>\n",
       "      <td>NaN</td>\n",
       "      <td>3</td>\n",
       "      <td>1</td>\n",
       "      <td>5</td>\n",
       "      <td>1</td>\n",
       "      <td>Ex</td>\n",
       "      <td>11</td>\n",
       "      <td>Typ</td>\n",
       "      <td>2</td>\n",
       "      <td>Gd</td>\n",
       "      <td>...</td>\n",
       "      <td>0</td>\n",
       "      <td>0</td>\n",
       "      <td>NoPool</td>\n",
       "      <td>NoFence</td>\n",
       "      <td>No_Misc</td>\n",
       "      <td>0</td>\n",
       "      <td>7</td>\n",
       "      <td>2008</td>\n",
       "      <td>WD</td>\n",
       "      <td>284700</td>\n",
       "    </tr>\n",
       "    <tr>\n",
       "      <th>1342</th>\n",
       "      <td>NaN</td>\n",
       "      <td>1</td>\n",
       "      <td>0</td>\n",
       "      <td>2</td>\n",
       "      <td>1</td>\n",
       "      <td>TA</td>\n",
       "      <td>4</td>\n",
       "      <td>Typ</td>\n",
       "      <td>0</td>\n",
       "      <td>No_Fireplace</td>\n",
       "      <td>...</td>\n",
       "      <td>0</td>\n",
       "      <td>0</td>\n",
       "      <td>NoPool</td>\n",
       "      <td>MnPrv</td>\n",
       "      <td>No_Misc</td>\n",
       "      <td>0</td>\n",
       "      <td>4</td>\n",
       "      <td>2008</td>\n",
       "      <td>ConLD</td>\n",
       "      <td>79000</td>\n",
       "    </tr>\n",
       "  </tbody>\n",
       "</table>\n",
       "<p>2 rows × 32 columns</p>\n",
       "</div>"
      ],
      "text/plain": [
       "      bsmt_half_bath  full_bath  half_bath  bedroom_abvgr  kitchen_abvgr  \\\n",
       "id                                                                         \n",
       "1498             NaN          3          1              5              1   \n",
       "1342             NaN          1          0              2              1   \n",
       "\n",
       "     kitchen_qual  totrms_abvgrd functional  fireplaces  fireplace_qu  ...  \\\n",
       "id                                                                     ...   \n",
       "1498           Ex             11        Typ           2            Gd  ...   \n",
       "1342           TA              4        Typ           0  No_Fireplace  ...   \n",
       "\n",
       "     screen_porch  pool_area pool_qc    fence  misc_feature misc_val mo_sold  \\\n",
       "id                                                                             \n",
       "1498            0          0  NoPool  NoFence       No_Misc        0       7   \n",
       "1342            0          0  NoPool    MnPrv       No_Misc        0       4   \n",
       "\n",
       "     yr_sold  sale_type  saleprice  \n",
       "id                                  \n",
       "1498    2008        WD      284700  \n",
       "1342    2008      ConLD      79000  \n",
       "\n",
       "[2 rows x 32 columns]"
      ]
     },
     "execution_count": 69,
     "metadata": {},
     "output_type": "execute_result"
    }
   ],
   "source": [
    "train_df.loc[train_df['bsmt_half_bath'].isnull(), 'bsmt_half_bath' : ]"
   ]
  },
  {
   "cell_type": "code",
   "execution_count": 70,
   "id": "eeaa4bc8-b448-4497-ab42-ed755789ca24",
   "metadata": {},
   "outputs": [
    {
     "data": {
      "text/html": [
       "<div>\n",
       "<style scoped>\n",
       "    .dataframe tbody tr th:only-of-type {\n",
       "        vertical-align: middle;\n",
       "    }\n",
       "\n",
       "    .dataframe tbody tr th {\n",
       "        vertical-align: top;\n",
       "    }\n",
       "\n",
       "    .dataframe thead th {\n",
       "        text-align: right;\n",
       "    }\n",
       "</style>\n",
       "<table border=\"1\" class=\"dataframe\">\n",
       "  <thead>\n",
       "    <tr style=\"text-align: right;\">\n",
       "      <th></th>\n",
       "      <th>bsmt_full_bath</th>\n",
       "      <th>bsmt_half_bath</th>\n",
       "      <th>full_bath</th>\n",
       "      <th>half_bath</th>\n",
       "      <th>bedroom_abvgr</th>\n",
       "      <th>kitchen_abvgr</th>\n",
       "      <th>kitchen_qual</th>\n",
       "      <th>totrms_abvgrd</th>\n",
       "      <th>functional</th>\n",
       "      <th>fireplaces</th>\n",
       "      <th>...</th>\n",
       "      <th>screen_porch</th>\n",
       "      <th>pool_area</th>\n",
       "      <th>pool_qc</th>\n",
       "      <th>fence</th>\n",
       "      <th>misc_feature</th>\n",
       "      <th>misc_val</th>\n",
       "      <th>mo_sold</th>\n",
       "      <th>yr_sold</th>\n",
       "      <th>sale_type</th>\n",
       "      <th>saleprice</th>\n",
       "    </tr>\n",
       "    <tr>\n",
       "      <th>id</th>\n",
       "      <th></th>\n",
       "      <th></th>\n",
       "      <th></th>\n",
       "      <th></th>\n",
       "      <th></th>\n",
       "      <th></th>\n",
       "      <th></th>\n",
       "      <th></th>\n",
       "      <th></th>\n",
       "      <th></th>\n",
       "      <th></th>\n",
       "      <th></th>\n",
       "      <th></th>\n",
       "      <th></th>\n",
       "      <th></th>\n",
       "      <th></th>\n",
       "      <th></th>\n",
       "      <th></th>\n",
       "      <th></th>\n",
       "      <th></th>\n",
       "      <th></th>\n",
       "    </tr>\n",
       "  </thead>\n",
       "  <tbody>\n",
       "    <tr>\n",
       "      <th>1498</th>\n",
       "      <td>NaN</td>\n",
       "      <td>NaN</td>\n",
       "      <td>3</td>\n",
       "      <td>1</td>\n",
       "      <td>5</td>\n",
       "      <td>1</td>\n",
       "      <td>Ex</td>\n",
       "      <td>11</td>\n",
       "      <td>Typ</td>\n",
       "      <td>2</td>\n",
       "      <td>...</td>\n",
       "      <td>0</td>\n",
       "      <td>0</td>\n",
       "      <td>NoPool</td>\n",
       "      <td>NoFence</td>\n",
       "      <td>No_Misc</td>\n",
       "      <td>0</td>\n",
       "      <td>7</td>\n",
       "      <td>2008</td>\n",
       "      <td>WD</td>\n",
       "      <td>284700</td>\n",
       "    </tr>\n",
       "    <tr>\n",
       "      <th>1342</th>\n",
       "      <td>NaN</td>\n",
       "      <td>NaN</td>\n",
       "      <td>1</td>\n",
       "      <td>0</td>\n",
       "      <td>2</td>\n",
       "      <td>1</td>\n",
       "      <td>TA</td>\n",
       "      <td>4</td>\n",
       "      <td>Typ</td>\n",
       "      <td>0</td>\n",
       "      <td>...</td>\n",
       "      <td>0</td>\n",
       "      <td>0</td>\n",
       "      <td>NoPool</td>\n",
       "      <td>MnPrv</td>\n",
       "      <td>No_Misc</td>\n",
       "      <td>0</td>\n",
       "      <td>4</td>\n",
       "      <td>2008</td>\n",
       "      <td>ConLD</td>\n",
       "      <td>79000</td>\n",
       "    </tr>\n",
       "  </tbody>\n",
       "</table>\n",
       "<p>2 rows × 33 columns</p>\n",
       "</div>"
      ],
      "text/plain": [
       "      bsmt_full_bath  bsmt_half_bath  full_bath  half_bath  bedroom_abvgr  \\\n",
       "id                                                                          \n",
       "1498             NaN             NaN          3          1              5   \n",
       "1342             NaN             NaN          1          0              2   \n",
       "\n",
       "      kitchen_abvgr kitchen_qual  totrms_abvgrd functional  fireplaces  ...  \\\n",
       "id                                                                      ...   \n",
       "1498              1           Ex             11        Typ           2  ...   \n",
       "1342              1           TA              4        Typ           0  ...   \n",
       "\n",
       "     screen_porch pool_area  pool_qc    fence  misc_feature  misc_val mo_sold  \\\n",
       "id                                                                              \n",
       "1498            0         0   NoPool  NoFence       No_Misc         0       7   \n",
       "1342            0         0   NoPool    MnPrv       No_Misc         0       4   \n",
       "\n",
       "     yr_sold sale_type  saleprice  \n",
       "id                                 \n",
       "1498    2008       WD      284700  \n",
       "1342    2008     ConLD      79000  \n",
       "\n",
       "[2 rows x 33 columns]"
      ]
     },
     "execution_count": 70,
     "metadata": {},
     "output_type": "execute_result"
    }
   ],
   "source": [
    "train_df.loc[train_df['bsmt_full_bath'].isnull(), 'bsmt_full_bath':]"
   ]
  },
  {
   "cell_type": "code",
   "execution_count": 71,
   "id": "93c2aded-2933-4b1d-b45e-ca0255cbd941",
   "metadata": {},
   "outputs": [],
   "source": [
    "# ------------------  Going to drop these empty cells for now FOR TEST DF... comeback to it later to optimize a better score \n",
    "\n",
    "train_df.dropna(inplace = True)"
   ]
  },
  {
   "cell_type": "code",
   "execution_count": 72,
   "id": "6121200e-e517-4bc1-95de-541602ca8e72",
   "metadata": {},
   "outputs": [
    {
     "data": {
      "text/plain": [
       "69.54596100278552"
      ]
     },
     "execution_count": 72,
     "metadata": {},
     "output_type": "execute_result"
    }
   ],
   "source": [
    "test_df['lot_frontage'].mean()"
   ]
  },
  {
   "cell_type": "code",
   "execution_count": 73,
   "id": "f0c72b20-a672-4212-871d-4b5859afc5d4",
   "metadata": {},
   "outputs": [],
   "source": [
    "test_df['lot_frontage'].fillna(test_df['lot_frontage'].mean(), inplace = True)#lets set the null values of lot frontage for test_df to the mean of the column"
   ]
  },
  {
   "cell_type": "code",
   "execution_count": 74,
   "id": "b76d034d-b99d-43f2-908d-9b98ccd94bc5",
   "metadata": {},
   "outputs": [],
   "source": [
    "test_df['electrical'].fillna(0, inplace= True)   #electrical column cellls are strings..cant get the mean of that.. will set to 0 for now"
   ]
  },
  {
   "cell_type": "code",
   "execution_count": 75,
   "id": "d0366e92-e066-4b4c-8bd9-cbd97d6f7b1b",
   "metadata": {},
   "outputs": [],
   "source": [
    "test_df['mas_vnr_type'].fillna(0, inplace = True)   #same for mas_vnr_type .. set to 0\n",
    "test_df['mas_vnr_area'].fillna(0, inplace = True)   #same for mas_vnr_area .. set to 0"
   ]
  },
  {
   "cell_type": "code",
   "execution_count": 76,
   "id": "c9644f7e-c64f-4c5b-a15b-db2cd506e169",
   "metadata": {},
   "outputs": [],
   "source": [
    "#test_df['central_air'].fillna(0, inplace = True)   #same for Central Air .. acutally this one is easier.. its just Y or N... can try having it set to 1== Y and 0 ==N"
   ]
  },
  {
   "cell_type": "code",
   "execution_count": 77,
   "id": "00012956-35c7-4b48-a30a-c3d11f6a9c25",
   "metadata": {},
   "outputs": [],
   "source": [
    "# for x in test_df['central_air'][:10]:\n",
    "#     print(x)"
   ]
  },
  {
   "cell_type": "code",
   "execution_count": 78,
   "id": "b93dffe8-4c63-4709-b707-f36095a5bace",
   "metadata": {},
   "outputs": [
    {
     "data": {
      "text/plain": [
       "array(['N', 'Y'], dtype=object)"
      ]
     },
     "execution_count": 78,
     "metadata": {},
     "output_type": "execute_result"
    }
   ],
   "source": [
    "test_df['central_air'].unique()"
   ]
  },
  {
   "cell_type": "code",
   "execution_count": 79,
   "id": "6a89f8f9-24dd-457f-a68f-5e29eb363a10",
   "metadata": {},
   "outputs": [
    {
     "data": {
      "text/plain": [
       "id\n",
       "2658    0\n",
       "2718    1\n",
       "2414    1\n",
       "1989    1\n",
       "625     1\n",
       "       ..\n",
       "1662    1\n",
       "1234    1\n",
       "1373    1\n",
       "1672    1\n",
       "1939    1\n",
       "Name: central_air, Length: 878, dtype: int64"
      ]
     },
     "execution_count": 79,
     "metadata": {},
     "output_type": "execute_result"
    }
   ],
   "source": [
    "test_df['central_air'] = [1 if x == 'Y' else 0  for x in test_df['central_air']]\n",
    "test_df['central_air']"
   ]
  },
  {
   "cell_type": "code",
   "execution_count": 80,
   "id": "c45b893f-6508-44ad-aca2-2a413921ac34",
   "metadata": {},
   "outputs": [
    {
     "data": {
      "text/plain": [
       "array(['Y', 'N'], dtype=object)"
      ]
     },
     "execution_count": 80,
     "metadata": {},
     "output_type": "execute_result"
    }
   ],
   "source": [
    "## lets do the same for central_air on train_df\n",
    "train_df['central_air'].unique()"
   ]
  },
  {
   "cell_type": "code",
   "execution_count": 81,
   "id": "b4334fe9-eb29-4e0f-9ed6-d57fa648f54e",
   "metadata": {},
   "outputs": [
    {
     "data": {
      "text/plain": [
       "id\n",
       "544     1\n",
       "153     1\n",
       "318     1\n",
       "255     1\n",
       "138     1\n",
       "       ..\n",
       "1051    1\n",
       "1587    1\n",
       "916     1\n",
       "639     1\n",
       "10      1\n",
       "Name: central_air, Length: 1702, dtype: int64"
      ]
     },
     "execution_count": 81,
     "metadata": {},
     "output_type": "execute_result"
    }
   ],
   "source": [
    "train_df['central_air'] = [1 if x == 'Y' else 0  for x in train_df['central_air']]\n",
    "train_df['central_air']"
   ]
  },
  {
   "cell_type": "code",
   "execution_count": 82,
   "id": "0043ead7-4962-4928-9d81-ceb3958ead84",
   "metadata": {},
   "outputs": [
    {
     "data": {
      "text/plain": [
       "pid             0\n",
       "half_bath       0\n",
       "fireplace_qu    0\n",
       "fireplaces      0\n",
       "functional      0\n",
       "               ..\n",
       "mas_vnr_type    0\n",
       "exterior_2nd    0\n",
       "exterior_1st    0\n",
       "roof_matl       0\n",
       "sale_type       0\n",
       "Length: 79, dtype: int64"
      ]
     },
     "execution_count": 82,
     "metadata": {},
     "output_type": "execute_result"
    }
   ],
   "source": [
    "test_df.isnull().sum().sort_values(ascending=False)"
   ]
  },
  {
   "cell_type": "code",
   "execution_count": 83,
   "id": "56226159-5b80-4b9b-923a-b403c4f9fba3",
   "metadata": {},
   "outputs": [
    {
     "data": {
      "text/plain": [
       "pid             0\n",
       "ms_subclass     0\n",
       "garage_type     0\n",
       "fireplace_qu    0\n",
       "fireplaces      0\n",
       "               ..\n",
       "mas_vnr_type    0\n",
       "exterior_2nd    0\n",
       "exterior_1st    0\n",
       "roof_matl       0\n",
       "saleprice       0\n",
       "Length: 80, dtype: int64"
      ]
     },
     "execution_count": 83,
     "metadata": {},
     "output_type": "execute_result"
    }
   ],
   "source": [
    "train_df.isnull().sum().sort_values(ascending=False)"
   ]
  },
  {
   "cell_type": "code",
   "execution_count": null,
   "id": "2ec63422-5443-44b9-8b0d-f6c65ace7565",
   "metadata": {},
   "outputs": [],
   "source": []
  },
  {
   "cell_type": "code",
   "execution_count": 84,
   "id": "6d741c41-f8c2-45e2-9ffe-f8d600f8d131",
   "metadata": {},
   "outputs": [],
   "source": [
    "#===========================================MISSING VALUES SECTION END=========================================================="
   ]
  },
  {
   "cell_type": "code",
   "execution_count": null,
   "id": "d32711e7-759c-4ef8-993a-0ddce63f1b38",
   "metadata": {},
   "outputs": [],
   "source": []
  },
  {
   "cell_type": "code",
   "execution_count": 85,
   "id": "219a52fc-efd5-4db5-a24a-dea9d4a274b0",
   "metadata": {},
   "outputs": [
    {
     "data": {
      "text/plain": [
       "(878, 79)"
      ]
     },
     "execution_count": 85,
     "metadata": {},
     "output_type": "execute_result"
    }
   ],
   "source": [
    "test_df.shape"
   ]
  },
  {
   "cell_type": "code",
   "execution_count": 86,
   "id": "c929be38-7fbd-4a4b-8e0b-9b363c8c17db",
   "metadata": {},
   "outputs": [
    {
     "data": {
      "text/plain": [
       "(1702, 80)"
      ]
     },
     "execution_count": 86,
     "metadata": {},
     "output_type": "execute_result"
    }
   ],
   "source": [
    "train_df.shape"
   ]
  },
  {
   "cell_type": "code",
   "execution_count": null,
   "id": "e3aa0021-075a-4ba4-9c60-63dd47892579",
   "metadata": {},
   "outputs": [],
   "source": []
  },
  {
   "cell_type": "code",
   "execution_count": 87,
   "id": "e835953c-ee08-4697-bd98-54f2cb586770",
   "metadata": {},
   "outputs": [],
   "source": [
    "#train_df.columns.intersection(test_df.columns)\n",
    "\n",
    "#No 'Sales Price' columns in test_df\n",
    "\n",
    "#we want to predict the 'Sales Price' on the test set "
   ]
  },
  {
   "cell_type": "code",
   "execution_count": 88,
   "id": "64b5e24c-bab3-4cce-aca9-19576f2b2f62",
   "metadata": {},
   "outputs": [],
   "source": [
    "# count = 0\n",
    "# for x in train_df.columns:\n",
    "#     count = count + 1\n",
    "#     print(f'Columns {count}: {x}')\n",
    "    \n",
    " #I dont need ID related columns really :\n",
    "#id, pid,\n",
    "\n",
    "\n",
    "#maybe need ID tobe set to my index"
   ]
  },
  {
   "cell_type": "code",
   "execution_count": 89,
   "id": "ef09ae02-a67c-4b6e-8b2b-bac18afdbe76",
   "metadata": {
    "tags": []
   },
   "outputs": [
    {
     "data": {
      "text/html": [
       "<div>\n",
       "<style scoped>\n",
       "    .dataframe tbody tr th:only-of-type {\n",
       "        vertical-align: middle;\n",
       "    }\n",
       "\n",
       "    .dataframe tbody tr th {\n",
       "        vertical-align: top;\n",
       "    }\n",
       "\n",
       "    .dataframe thead th {\n",
       "        text-align: right;\n",
       "    }\n",
       "</style>\n",
       "<table border=\"1\" class=\"dataframe\">\n",
       "  <thead>\n",
       "    <tr style=\"text-align: right;\">\n",
       "      <th></th>\n",
       "      <th>pid</th>\n",
       "      <th>ms_subclass</th>\n",
       "      <th>ms_zoning</th>\n",
       "      <th>lot_frontage</th>\n",
       "      <th>lot_area</th>\n",
       "      <th>street</th>\n",
       "      <th>alley</th>\n",
       "      <th>lot_shape</th>\n",
       "      <th>land_contour</th>\n",
       "      <th>utilities</th>\n",
       "      <th>...</th>\n",
       "      <th>screen_porch</th>\n",
       "      <th>pool_area</th>\n",
       "      <th>pool_qc</th>\n",
       "      <th>fence</th>\n",
       "      <th>misc_feature</th>\n",
       "      <th>misc_val</th>\n",
       "      <th>mo_sold</th>\n",
       "      <th>yr_sold</th>\n",
       "      <th>sale_type</th>\n",
       "      <th>saleprice</th>\n",
       "    </tr>\n",
       "    <tr>\n",
       "      <th>id</th>\n",
       "      <th></th>\n",
       "      <th></th>\n",
       "      <th></th>\n",
       "      <th></th>\n",
       "      <th></th>\n",
       "      <th></th>\n",
       "      <th></th>\n",
       "      <th></th>\n",
       "      <th></th>\n",
       "      <th></th>\n",
       "      <th></th>\n",
       "      <th></th>\n",
       "      <th></th>\n",
       "      <th></th>\n",
       "      <th></th>\n",
       "      <th></th>\n",
       "      <th></th>\n",
       "      <th></th>\n",
       "      <th></th>\n",
       "      <th></th>\n",
       "      <th></th>\n",
       "    </tr>\n",
       "  </thead>\n",
       "  <tbody>\n",
       "    <tr>\n",
       "      <th>544</th>\n",
       "      <td>531379050</td>\n",
       "      <td>60</td>\n",
       "      <td>RL</td>\n",
       "      <td>43.0</td>\n",
       "      <td>11492</td>\n",
       "      <td>Pave</td>\n",
       "      <td>NoAccess</td>\n",
       "      <td>IR1</td>\n",
       "      <td>Lvl</td>\n",
       "      <td>AllPub</td>\n",
       "      <td>...</td>\n",
       "      <td>0</td>\n",
       "      <td>0</td>\n",
       "      <td>NoPool</td>\n",
       "      <td>NoFence</td>\n",
       "      <td>No_Misc</td>\n",
       "      <td>0</td>\n",
       "      <td>4</td>\n",
       "      <td>2009</td>\n",
       "      <td>WD</td>\n",
       "      <td>220000</td>\n",
       "    </tr>\n",
       "    <tr>\n",
       "      <th>153</th>\n",
       "      <td>535304180</td>\n",
       "      <td>20</td>\n",
       "      <td>RL</td>\n",
       "      <td>68.0</td>\n",
       "      <td>7922</td>\n",
       "      <td>Pave</td>\n",
       "      <td>NoAccess</td>\n",
       "      <td>Reg</td>\n",
       "      <td>Lvl</td>\n",
       "      <td>AllPub</td>\n",
       "      <td>...</td>\n",
       "      <td>0</td>\n",
       "      <td>0</td>\n",
       "      <td>NoPool</td>\n",
       "      <td>NoFence</td>\n",
       "      <td>No_Misc</td>\n",
       "      <td>0</td>\n",
       "      <td>1</td>\n",
       "      <td>2010</td>\n",
       "      <td>WD</td>\n",
       "      <td>109000</td>\n",
       "    </tr>\n",
       "    <tr>\n",
       "      <th>318</th>\n",
       "      <td>916386060</td>\n",
       "      <td>60</td>\n",
       "      <td>RL</td>\n",
       "      <td>73.0</td>\n",
       "      <td>9802</td>\n",
       "      <td>Pave</td>\n",
       "      <td>NoAccess</td>\n",
       "      <td>Reg</td>\n",
       "      <td>Lvl</td>\n",
       "      <td>AllPub</td>\n",
       "      <td>...</td>\n",
       "      <td>0</td>\n",
       "      <td>0</td>\n",
       "      <td>NoPool</td>\n",
       "      <td>NoFence</td>\n",
       "      <td>No_Misc</td>\n",
       "      <td>0</td>\n",
       "      <td>4</td>\n",
       "      <td>2010</td>\n",
       "      <td>WD</td>\n",
       "      <td>174000</td>\n",
       "    </tr>\n",
       "    <tr>\n",
       "      <th>255</th>\n",
       "      <td>906425045</td>\n",
       "      <td>50</td>\n",
       "      <td>RL</td>\n",
       "      <td>82.0</td>\n",
       "      <td>14235</td>\n",
       "      <td>Pave</td>\n",
       "      <td>NoAccess</td>\n",
       "      <td>IR1</td>\n",
       "      <td>Lvl</td>\n",
       "      <td>AllPub</td>\n",
       "      <td>...</td>\n",
       "      <td>0</td>\n",
       "      <td>0</td>\n",
       "      <td>NoPool</td>\n",
       "      <td>NoFence</td>\n",
       "      <td>No_Misc</td>\n",
       "      <td>0</td>\n",
       "      <td>3</td>\n",
       "      <td>2010</td>\n",
       "      <td>WD</td>\n",
       "      <td>138500</td>\n",
       "    </tr>\n",
       "    <tr>\n",
       "      <th>138</th>\n",
       "      <td>535126040</td>\n",
       "      <td>20</td>\n",
       "      <td>RL</td>\n",
       "      <td>137.0</td>\n",
       "      <td>16492</td>\n",
       "      <td>Pave</td>\n",
       "      <td>NoAccess</td>\n",
       "      <td>IR1</td>\n",
       "      <td>Lvl</td>\n",
       "      <td>AllPub</td>\n",
       "      <td>...</td>\n",
       "      <td>0</td>\n",
       "      <td>0</td>\n",
       "      <td>NoPool</td>\n",
       "      <td>NoFence</td>\n",
       "      <td>No_Misc</td>\n",
       "      <td>0</td>\n",
       "      <td>6</td>\n",
       "      <td>2010</td>\n",
       "      <td>WD</td>\n",
       "      <td>190000</td>\n",
       "    </tr>\n",
       "  </tbody>\n",
       "</table>\n",
       "<p>5 rows × 80 columns</p>\n",
       "</div>"
      ],
      "text/plain": [
       "           pid  ms_subclass ms_zoning  lot_frontage  lot_area street  \\\n",
       "id                                                                     \n",
       "544  531379050           60        RL          43.0     11492   Pave   \n",
       "153  535304180           20        RL          68.0      7922   Pave   \n",
       "318  916386060           60        RL          73.0      9802   Pave   \n",
       "255  906425045           50        RL          82.0     14235   Pave   \n",
       "138  535126040           20        RL         137.0     16492   Pave   \n",
       "\n",
       "        alley lot_shape land_contour utilities  ... screen_porch pool_area  \\\n",
       "id                                              ...                          \n",
       "544  NoAccess       IR1          Lvl    AllPub  ...            0         0   \n",
       "153  NoAccess       Reg          Lvl    AllPub  ...            0         0   \n",
       "318  NoAccess       Reg          Lvl    AllPub  ...            0         0   \n",
       "255  NoAccess       IR1          Lvl    AllPub  ...            0         0   \n",
       "138  NoAccess       IR1          Lvl    AllPub  ...            0         0   \n",
       "\n",
       "    pool_qc    fence misc_feature misc_val mo_sold  yr_sold  sale_type  \\\n",
       "id                                                                       \n",
       "544  NoPool  NoFence      No_Misc        0       4     2009        WD    \n",
       "153  NoPool  NoFence      No_Misc        0       1     2010        WD    \n",
       "318  NoPool  NoFence      No_Misc        0       4     2010        WD    \n",
       "255  NoPool  NoFence      No_Misc        0       3     2010        WD    \n",
       "138  NoPool  NoFence      No_Misc        0       6     2010        WD    \n",
       "\n",
       "     saleprice  \n",
       "id              \n",
       "544     220000  \n",
       "153     109000  \n",
       "318     174000  \n",
       "255     138500  \n",
       "138     190000  \n",
       "\n",
       "[5 rows x 80 columns]"
      ]
     },
     "execution_count": 89,
     "metadata": {},
     "output_type": "execute_result"
    }
   ],
   "source": [
    "train_df.head(5)"
   ]
  },
  {
   "cell_type": "code",
   "execution_count": 90,
   "id": "0bc2bb93-efd0-4f78-83f3-21d540735c5f",
   "metadata": {},
   "outputs": [
    {
     "data": {
      "text/html": [
       "<div>\n",
       "<style scoped>\n",
       "    .dataframe tbody tr th:only-of-type {\n",
       "        vertical-align: middle;\n",
       "    }\n",
       "\n",
       "    .dataframe tbody tr th {\n",
       "        vertical-align: top;\n",
       "    }\n",
       "\n",
       "    .dataframe thead th {\n",
       "        text-align: right;\n",
       "    }\n",
       "</style>\n",
       "<table border=\"1\" class=\"dataframe\">\n",
       "  <thead>\n",
       "    <tr style=\"text-align: right;\">\n",
       "      <th></th>\n",
       "      <th>pid</th>\n",
       "      <th>ms_subclass</th>\n",
       "      <th>ms_zoning</th>\n",
       "      <th>lot_frontage</th>\n",
       "      <th>lot_area</th>\n",
       "      <th>street</th>\n",
       "      <th>alley</th>\n",
       "      <th>lot_shape</th>\n",
       "      <th>land_contour</th>\n",
       "      <th>utilities</th>\n",
       "      <th>...</th>\n",
       "      <th>3ssn_porch</th>\n",
       "      <th>screen_porch</th>\n",
       "      <th>pool_area</th>\n",
       "      <th>pool_qc</th>\n",
       "      <th>fence</th>\n",
       "      <th>misc_feature</th>\n",
       "      <th>misc_val</th>\n",
       "      <th>mo_sold</th>\n",
       "      <th>yr_sold</th>\n",
       "      <th>sale_type</th>\n",
       "    </tr>\n",
       "    <tr>\n",
       "      <th>id</th>\n",
       "      <th></th>\n",
       "      <th></th>\n",
       "      <th></th>\n",
       "      <th></th>\n",
       "      <th></th>\n",
       "      <th></th>\n",
       "      <th></th>\n",
       "      <th></th>\n",
       "      <th></th>\n",
       "      <th></th>\n",
       "      <th></th>\n",
       "      <th></th>\n",
       "      <th></th>\n",
       "      <th></th>\n",
       "      <th></th>\n",
       "      <th></th>\n",
       "      <th></th>\n",
       "      <th></th>\n",
       "      <th></th>\n",
       "      <th></th>\n",
       "      <th></th>\n",
       "    </tr>\n",
       "  </thead>\n",
       "  <tbody>\n",
       "    <tr>\n",
       "      <th>2658</th>\n",
       "      <td>902301120</td>\n",
       "      <td>190</td>\n",
       "      <td>RM</td>\n",
       "      <td>69.000000</td>\n",
       "      <td>9142</td>\n",
       "      <td>Pave</td>\n",
       "      <td>Grvl</td>\n",
       "      <td>Reg</td>\n",
       "      <td>Lvl</td>\n",
       "      <td>AllPub</td>\n",
       "      <td>...</td>\n",
       "      <td>0</td>\n",
       "      <td>0</td>\n",
       "      <td>0</td>\n",
       "      <td>NoPool</td>\n",
       "      <td>NoFence</td>\n",
       "      <td>No_Misc</td>\n",
       "      <td>0</td>\n",
       "      <td>4</td>\n",
       "      <td>2006</td>\n",
       "      <td>WD</td>\n",
       "    </tr>\n",
       "    <tr>\n",
       "      <th>2718</th>\n",
       "      <td>905108090</td>\n",
       "      <td>90</td>\n",
       "      <td>RL</td>\n",
       "      <td>69.545961</td>\n",
       "      <td>9662</td>\n",
       "      <td>Pave</td>\n",
       "      <td>NoAccess</td>\n",
       "      <td>IR1</td>\n",
       "      <td>Lvl</td>\n",
       "      <td>AllPub</td>\n",
       "      <td>...</td>\n",
       "      <td>0</td>\n",
       "      <td>0</td>\n",
       "      <td>0</td>\n",
       "      <td>NoPool</td>\n",
       "      <td>NoFence</td>\n",
       "      <td>No_Misc</td>\n",
       "      <td>0</td>\n",
       "      <td>8</td>\n",
       "      <td>2006</td>\n",
       "      <td>WD</td>\n",
       "    </tr>\n",
       "    <tr>\n",
       "      <th>2414</th>\n",
       "      <td>528218130</td>\n",
       "      <td>60</td>\n",
       "      <td>RL</td>\n",
       "      <td>58.000000</td>\n",
       "      <td>17104</td>\n",
       "      <td>Pave</td>\n",
       "      <td>NoAccess</td>\n",
       "      <td>IR1</td>\n",
       "      <td>Lvl</td>\n",
       "      <td>AllPub</td>\n",
       "      <td>...</td>\n",
       "      <td>0</td>\n",
       "      <td>0</td>\n",
       "      <td>0</td>\n",
       "      <td>NoPool</td>\n",
       "      <td>NoFence</td>\n",
       "      <td>No_Misc</td>\n",
       "      <td>0</td>\n",
       "      <td>9</td>\n",
       "      <td>2006</td>\n",
       "      <td>New</td>\n",
       "    </tr>\n",
       "    <tr>\n",
       "      <th>1989</th>\n",
       "      <td>902207150</td>\n",
       "      <td>30</td>\n",
       "      <td>RM</td>\n",
       "      <td>60.000000</td>\n",
       "      <td>8520</td>\n",
       "      <td>Pave</td>\n",
       "      <td>NoAccess</td>\n",
       "      <td>Reg</td>\n",
       "      <td>Lvl</td>\n",
       "      <td>AllPub</td>\n",
       "      <td>...</td>\n",
       "      <td>0</td>\n",
       "      <td>0</td>\n",
       "      <td>0</td>\n",
       "      <td>NoPool</td>\n",
       "      <td>NoFence</td>\n",
       "      <td>No_Misc</td>\n",
       "      <td>0</td>\n",
       "      <td>7</td>\n",
       "      <td>2007</td>\n",
       "      <td>WD</td>\n",
       "    </tr>\n",
       "    <tr>\n",
       "      <th>625</th>\n",
       "      <td>535105100</td>\n",
       "      <td>20</td>\n",
       "      <td>RL</td>\n",
       "      <td>69.545961</td>\n",
       "      <td>9500</td>\n",
       "      <td>Pave</td>\n",
       "      <td>NoAccess</td>\n",
       "      <td>IR1</td>\n",
       "      <td>Lvl</td>\n",
       "      <td>AllPub</td>\n",
       "      <td>...</td>\n",
       "      <td>0</td>\n",
       "      <td>185</td>\n",
       "      <td>0</td>\n",
       "      <td>NoPool</td>\n",
       "      <td>NoFence</td>\n",
       "      <td>No_Misc</td>\n",
       "      <td>0</td>\n",
       "      <td>7</td>\n",
       "      <td>2009</td>\n",
       "      <td>WD</td>\n",
       "    </tr>\n",
       "  </tbody>\n",
       "</table>\n",
       "<p>5 rows × 79 columns</p>\n",
       "</div>"
      ],
      "text/plain": [
       "            pid  ms_subclass ms_zoning  lot_frontage  lot_area street  \\\n",
       "id                                                                      \n",
       "2658  902301120          190        RM     69.000000      9142   Pave   \n",
       "2718  905108090           90        RL     69.545961      9662   Pave   \n",
       "2414  528218130           60        RL     58.000000     17104   Pave   \n",
       "1989  902207150           30        RM     60.000000      8520   Pave   \n",
       "625   535105100           20        RL     69.545961      9500   Pave   \n",
       "\n",
       "         alley lot_shape land_contour utilities  ... 3ssn_porch screen_porch  \\\n",
       "id                                               ...                           \n",
       "2658      Grvl       Reg          Lvl    AllPub  ...          0            0   \n",
       "2718  NoAccess       IR1          Lvl    AllPub  ...          0            0   \n",
       "2414  NoAccess       IR1          Lvl    AllPub  ...          0            0   \n",
       "1989  NoAccess       Reg          Lvl    AllPub  ...          0            0   \n",
       "625   NoAccess       IR1          Lvl    AllPub  ...          0          185   \n",
       "\n",
       "     pool_area pool_qc    fence misc_feature misc_val  mo_sold  yr_sold  \\\n",
       "id                                                                        \n",
       "2658         0  NoPool  NoFence      No_Misc        0        4     2006   \n",
       "2718         0  NoPool  NoFence      No_Misc        0        8     2006   \n",
       "2414         0  NoPool  NoFence      No_Misc        0        9     2006   \n",
       "1989         0  NoPool  NoFence      No_Misc        0        7     2007   \n",
       "625          0  NoPool  NoFence      No_Misc        0        7     2009   \n",
       "\n",
       "      sale_type  \n",
       "id               \n",
       "2658        WD   \n",
       "2718        WD   \n",
       "2414        New  \n",
       "1989        WD   \n",
       "625         WD   \n",
       "\n",
       "[5 rows x 79 columns]"
      ]
     },
     "execution_count": 90,
     "metadata": {},
     "output_type": "execute_result"
    }
   ],
   "source": [
    "test_df.head(5)"
   ]
  },
  {
   "cell_type": "code",
   "execution_count": 91,
   "id": "d191acbf-76b9-41a2-b1ca-e0532c510120",
   "metadata": {},
   "outputs": [
    {
     "data": {
      "text/plain": [
       "pid               int64\n",
       "ms_subclass       int64\n",
       "ms_zoning        object\n",
       "lot_frontage    float64\n",
       "lot_area          int64\n",
       "                 ...   \n",
       "misc_val          int64\n",
       "mo_sold           int64\n",
       "yr_sold           int64\n",
       "sale_type        object\n",
       "saleprice         int64\n",
       "Length: 80, dtype: object"
      ]
     },
     "execution_count": 91,
     "metadata": {},
     "output_type": "execute_result"
    }
   ],
   "source": [
    "train_df.dtypes"
   ]
  },
  {
   "cell_type": "code",
   "execution_count": 92,
   "id": "a0ccde8e-a21f-486f-ba41-7effa51781cf",
   "metadata": {},
   "outputs": [],
   "source": [
    "#train_df['id'].unique().shape  #okay their are 2051 ids NO CLONES !!"
   ]
  },
  {
   "cell_type": "code",
   "execution_count": 93,
   "id": "c3ef57fb-958f-4b4c-8fba-55c23baf7dcc",
   "metadata": {},
   "outputs": [
    {
     "data": {
      "text/html": [
       "<div>\n",
       "<style scoped>\n",
       "    .dataframe tbody tr th:only-of-type {\n",
       "        vertical-align: middle;\n",
       "    }\n",
       "\n",
       "    .dataframe tbody tr th {\n",
       "        vertical-align: top;\n",
       "    }\n",
       "\n",
       "    .dataframe thead th {\n",
       "        text-align: right;\n",
       "    }\n",
       "</style>\n",
       "<table border=\"1\" class=\"dataframe\">\n",
       "  <thead>\n",
       "    <tr style=\"text-align: right;\">\n",
       "      <th></th>\n",
       "      <th>pid</th>\n",
       "      <th>ms_subclass</th>\n",
       "      <th>ms_zoning</th>\n",
       "      <th>lot_frontage</th>\n",
       "      <th>lot_area</th>\n",
       "      <th>street</th>\n",
       "      <th>alley</th>\n",
       "      <th>lot_shape</th>\n",
       "      <th>land_contour</th>\n",
       "      <th>utilities</th>\n",
       "      <th>...</th>\n",
       "      <th>screen_porch</th>\n",
       "      <th>pool_area</th>\n",
       "      <th>pool_qc</th>\n",
       "      <th>fence</th>\n",
       "      <th>misc_feature</th>\n",
       "      <th>misc_val</th>\n",
       "      <th>mo_sold</th>\n",
       "      <th>yr_sold</th>\n",
       "      <th>sale_type</th>\n",
       "      <th>saleprice</th>\n",
       "    </tr>\n",
       "    <tr>\n",
       "      <th>id</th>\n",
       "      <th></th>\n",
       "      <th></th>\n",
       "      <th></th>\n",
       "      <th></th>\n",
       "      <th></th>\n",
       "      <th></th>\n",
       "      <th></th>\n",
       "      <th></th>\n",
       "      <th></th>\n",
       "      <th></th>\n",
       "      <th></th>\n",
       "      <th></th>\n",
       "      <th></th>\n",
       "      <th></th>\n",
       "      <th></th>\n",
       "      <th></th>\n",
       "      <th></th>\n",
       "      <th></th>\n",
       "      <th></th>\n",
       "      <th></th>\n",
       "      <th></th>\n",
       "    </tr>\n",
       "  </thead>\n",
       "  <tbody>\n",
       "    <tr>\n",
       "      <th>1</th>\n",
       "      <td>526301100</td>\n",
       "      <td>20</td>\n",
       "      <td>RL</td>\n",
       "      <td>141.0</td>\n",
       "      <td>31770</td>\n",
       "      <td>Pave</td>\n",
       "      <td>NoAccess</td>\n",
       "      <td>IR1</td>\n",
       "      <td>Lvl</td>\n",
       "      <td>AllPub</td>\n",
       "      <td>...</td>\n",
       "      <td>0</td>\n",
       "      <td>0</td>\n",
       "      <td>NoPool</td>\n",
       "      <td>NoFence</td>\n",
       "      <td>No_Misc</td>\n",
       "      <td>0</td>\n",
       "      <td>5</td>\n",
       "      <td>2010</td>\n",
       "      <td>WD</td>\n",
       "      <td>215000</td>\n",
       "    </tr>\n",
       "    <tr>\n",
       "      <th>3</th>\n",
       "      <td>526351010</td>\n",
       "      <td>20</td>\n",
       "      <td>RL</td>\n",
       "      <td>81.0</td>\n",
       "      <td>14267</td>\n",
       "      <td>Pave</td>\n",
       "      <td>NoAccess</td>\n",
       "      <td>IR1</td>\n",
       "      <td>Lvl</td>\n",
       "      <td>AllPub</td>\n",
       "      <td>...</td>\n",
       "      <td>0</td>\n",
       "      <td>0</td>\n",
       "      <td>NoPool</td>\n",
       "      <td>NoFence</td>\n",
       "      <td>Gar2</td>\n",
       "      <td>12500</td>\n",
       "      <td>6</td>\n",
       "      <td>2010</td>\n",
       "      <td>WD</td>\n",
       "      <td>172000</td>\n",
       "    </tr>\n",
       "    <tr>\n",
       "      <th>5</th>\n",
       "      <td>527105010</td>\n",
       "      <td>60</td>\n",
       "      <td>RL</td>\n",
       "      <td>74.0</td>\n",
       "      <td>13830</td>\n",
       "      <td>Pave</td>\n",
       "      <td>NoAccess</td>\n",
       "      <td>IR1</td>\n",
       "      <td>Lvl</td>\n",
       "      <td>AllPub</td>\n",
       "      <td>...</td>\n",
       "      <td>0</td>\n",
       "      <td>0</td>\n",
       "      <td>NoPool</td>\n",
       "      <td>MnPrv</td>\n",
       "      <td>No_Misc</td>\n",
       "      <td>0</td>\n",
       "      <td>3</td>\n",
       "      <td>2010</td>\n",
       "      <td>WD</td>\n",
       "      <td>189900</td>\n",
       "    </tr>\n",
       "    <tr>\n",
       "      <th>8</th>\n",
       "      <td>527145080</td>\n",
       "      <td>120</td>\n",
       "      <td>RL</td>\n",
       "      <td>43.0</td>\n",
       "      <td>5005</td>\n",
       "      <td>Pave</td>\n",
       "      <td>NoAccess</td>\n",
       "      <td>IR1</td>\n",
       "      <td>HLS</td>\n",
       "      <td>AllPub</td>\n",
       "      <td>...</td>\n",
       "      <td>144</td>\n",
       "      <td>0</td>\n",
       "      <td>NoPool</td>\n",
       "      <td>NoFence</td>\n",
       "      <td>No_Misc</td>\n",
       "      <td>0</td>\n",
       "      <td>1</td>\n",
       "      <td>2010</td>\n",
       "      <td>WD</td>\n",
       "      <td>191500</td>\n",
       "    </tr>\n",
       "    <tr>\n",
       "      <th>9</th>\n",
       "      <td>527146030</td>\n",
       "      <td>120</td>\n",
       "      <td>RL</td>\n",
       "      <td>39.0</td>\n",
       "      <td>5389</td>\n",
       "      <td>Pave</td>\n",
       "      <td>NoAccess</td>\n",
       "      <td>IR1</td>\n",
       "      <td>Lvl</td>\n",
       "      <td>AllPub</td>\n",
       "      <td>...</td>\n",
       "      <td>0</td>\n",
       "      <td>0</td>\n",
       "      <td>NoPool</td>\n",
       "      <td>NoFence</td>\n",
       "      <td>No_Misc</td>\n",
       "      <td>0</td>\n",
       "      <td>3</td>\n",
       "      <td>2010</td>\n",
       "      <td>WD</td>\n",
       "      <td>236500</td>\n",
       "    </tr>\n",
       "  </tbody>\n",
       "</table>\n",
       "<p>5 rows × 80 columns</p>\n",
       "</div>"
      ],
      "text/plain": [
       "          pid  ms_subclass ms_zoning  lot_frontage  lot_area street     alley  \\\n",
       "id                                                                              \n",
       "1   526301100           20        RL         141.0     31770   Pave  NoAccess   \n",
       "3   526351010           20        RL          81.0     14267   Pave  NoAccess   \n",
       "5   527105010           60        RL          74.0     13830   Pave  NoAccess   \n",
       "8   527145080          120        RL          43.0      5005   Pave  NoAccess   \n",
       "9   527146030          120        RL          39.0      5389   Pave  NoAccess   \n",
       "\n",
       "   lot_shape land_contour utilities  ... screen_porch pool_area pool_qc  \\\n",
       "id                                   ...                                  \n",
       "1        IR1          Lvl    AllPub  ...            0         0  NoPool   \n",
       "3        IR1          Lvl    AllPub  ...            0         0  NoPool   \n",
       "5        IR1          Lvl    AllPub  ...            0         0  NoPool   \n",
       "8        IR1          HLS    AllPub  ...          144         0  NoPool   \n",
       "9        IR1          Lvl    AllPub  ...            0         0  NoPool   \n",
       "\n",
       "      fence misc_feature misc_val mo_sold  yr_sold  sale_type  saleprice  \n",
       "id                                                                        \n",
       "1   NoFence      No_Misc        0       5     2010        WD      215000  \n",
       "3   NoFence         Gar2    12500       6     2010        WD      172000  \n",
       "5     MnPrv      No_Misc        0       3     2010        WD      189900  \n",
       "8   NoFence      No_Misc        0       1     2010        WD      191500  \n",
       "9   NoFence      No_Misc        0       3     2010        WD      236500  \n",
       "\n",
       "[5 rows x 80 columns]"
      ]
     },
     "execution_count": 93,
     "metadata": {},
     "output_type": "execute_result"
    }
   ],
   "source": [
    "train_df.sort_values(by='id').head()"
   ]
  },
  {
   "cell_type": "code",
   "execution_count": null,
   "id": "a62ffd94-de52-4e46-9b56-b944ce0da041",
   "metadata": {},
   "outputs": [],
   "source": []
  },
  {
   "cell_type": "code",
   "execution_count": 94,
   "id": "178cd27f-d01d-4399-a420-b45525ffefec",
   "metadata": {},
   "outputs": [
    {
     "data": {
      "text/html": [
       "<div>\n",
       "<style scoped>\n",
       "    .dataframe tbody tr th:only-of-type {\n",
       "        vertical-align: middle;\n",
       "    }\n",
       "\n",
       "    .dataframe tbody tr th {\n",
       "        vertical-align: top;\n",
       "    }\n",
       "\n",
       "    .dataframe thead th {\n",
       "        text-align: right;\n",
       "    }\n",
       "</style>\n",
       "<table border=\"1\" class=\"dataframe\">\n",
       "  <thead>\n",
       "    <tr style=\"text-align: right;\">\n",
       "      <th></th>\n",
       "      <th>pid</th>\n",
       "      <th>ms_subclass</th>\n",
       "      <th>lot_frontage</th>\n",
       "      <th>lot_area</th>\n",
       "      <th>overall_qual</th>\n",
       "      <th>overall_cond</th>\n",
       "      <th>year_built</th>\n",
       "      <th>year_remod/add</th>\n",
       "      <th>mas_vnr_area</th>\n",
       "      <th>bsmtfin_sf_1</th>\n",
       "      <th>...</th>\n",
       "      <th>wood_deck_sf</th>\n",
       "      <th>open_porch_sf</th>\n",
       "      <th>enclosed_porch</th>\n",
       "      <th>3ssn_porch</th>\n",
       "      <th>screen_porch</th>\n",
       "      <th>pool_area</th>\n",
       "      <th>misc_val</th>\n",
       "      <th>mo_sold</th>\n",
       "      <th>yr_sold</th>\n",
       "      <th>saleprice</th>\n",
       "    </tr>\n",
       "  </thead>\n",
       "  <tbody>\n",
       "    <tr>\n",
       "      <th>count</th>\n",
       "      <td>1.702000e+03</td>\n",
       "      <td>1702.000000</td>\n",
       "      <td>1702.000000</td>\n",
       "      <td>1702.000000</td>\n",
       "      <td>1702.000000</td>\n",
       "      <td>1702.000000</td>\n",
       "      <td>1702.000000</td>\n",
       "      <td>1702.000000</td>\n",
       "      <td>1702.000000</td>\n",
       "      <td>1702.00000</td>\n",
       "      <td>...</td>\n",
       "      <td>1702.000000</td>\n",
       "      <td>1702.000000</td>\n",
       "      <td>1702.000000</td>\n",
       "      <td>1702.000000</td>\n",
       "      <td>1702.000000</td>\n",
       "      <td>1702.000000</td>\n",
       "      <td>1702.000000</td>\n",
       "      <td>1702.000000</td>\n",
       "      <td>1702.000000</td>\n",
       "      <td>1702.000000</td>\n",
       "    </tr>\n",
       "    <tr>\n",
       "      <th>mean</th>\n",
       "      <td>7.159840e+08</td>\n",
       "      <td>57.602820</td>\n",
       "      <td>68.960047</td>\n",
       "      <td>9597.624559</td>\n",
       "      <td>6.099295</td>\n",
       "      <td>5.564630</td>\n",
       "      <td>1970.625734</td>\n",
       "      <td>1984.081669</td>\n",
       "      <td>97.111633</td>\n",
       "      <td>423.13631</td>\n",
       "      <td>...</td>\n",
       "      <td>90.259107</td>\n",
       "      <td>46.323737</td>\n",
       "      <td>22.967685</td>\n",
       "      <td>2.470035</td>\n",
       "      <td>16.458872</td>\n",
       "      <td>2.455934</td>\n",
       "      <td>50.487074</td>\n",
       "      <td>6.212103</td>\n",
       "      <td>2007.782609</td>\n",
       "      <td>179588.648061</td>\n",
       "    </tr>\n",
       "    <tr>\n",
       "      <th>std</th>\n",
       "      <td>1.886815e+08</td>\n",
       "      <td>43.783575</td>\n",
       "      <td>23.218783</td>\n",
       "      <td>4929.302286</td>\n",
       "      <td>1.456042</td>\n",
       "      <td>1.105911</td>\n",
       "      <td>31.453825</td>\n",
       "      <td>21.524956</td>\n",
       "      <td>176.018025</td>\n",
       "      <td>466.26267</td>\n",
       "      <td>...</td>\n",
       "      <td>123.829245</td>\n",
       "      <td>66.223690</td>\n",
       "      <td>59.912238</td>\n",
       "      <td>24.858849</td>\n",
       "      <td>57.245013</td>\n",
       "      <td>37.431530</td>\n",
       "      <td>588.861453</td>\n",
       "      <td>2.755619</td>\n",
       "      <td>1.322612</td>\n",
       "      <td>82234.311522</td>\n",
       "    </tr>\n",
       "    <tr>\n",
       "      <th>min</th>\n",
       "      <td>5.263011e+08</td>\n",
       "      <td>20.000000</td>\n",
       "      <td>21.000000</td>\n",
       "      <td>1300.000000</td>\n",
       "      <td>1.000000</td>\n",
       "      <td>1.000000</td>\n",
       "      <td>1872.000000</td>\n",
       "      <td>1950.000000</td>\n",
       "      <td>0.000000</td>\n",
       "      <td>0.00000</td>\n",
       "      <td>...</td>\n",
       "      <td>0.000000</td>\n",
       "      <td>0.000000</td>\n",
       "      <td>0.000000</td>\n",
       "      <td>0.000000</td>\n",
       "      <td>0.000000</td>\n",
       "      <td>0.000000</td>\n",
       "      <td>0.000000</td>\n",
       "      <td>1.000000</td>\n",
       "      <td>2006.000000</td>\n",
       "      <td>12789.000000</td>\n",
       "    </tr>\n",
       "    <tr>\n",
       "      <th>25%</th>\n",
       "      <td>5.284771e+08</td>\n",
       "      <td>20.000000</td>\n",
       "      <td>58.000000</td>\n",
       "      <td>7288.500000</td>\n",
       "      <td>5.000000</td>\n",
       "      <td>5.000000</td>\n",
       "      <td>1950.000000</td>\n",
       "      <td>1963.000000</td>\n",
       "      <td>0.000000</td>\n",
       "      <td>0.00000</td>\n",
       "      <td>...</td>\n",
       "      <td>0.000000</td>\n",
       "      <td>0.000000</td>\n",
       "      <td>0.000000</td>\n",
       "      <td>0.000000</td>\n",
       "      <td>0.000000</td>\n",
       "      <td>0.000000</td>\n",
       "      <td>0.000000</td>\n",
       "      <td>4.000000</td>\n",
       "      <td>2007.000000</td>\n",
       "      <td>128000.000000</td>\n",
       "    </tr>\n",
       "    <tr>\n",
       "      <th>50%</th>\n",
       "      <td>5.354571e+08</td>\n",
       "      <td>50.000000</td>\n",
       "      <td>68.000000</td>\n",
       "      <td>9233.000000</td>\n",
       "      <td>6.000000</td>\n",
       "      <td>5.000000</td>\n",
       "      <td>1972.000000</td>\n",
       "      <td>1993.000000</td>\n",
       "      <td>0.000000</td>\n",
       "      <td>335.50000</td>\n",
       "      <td>...</td>\n",
       "      <td>0.000000</td>\n",
       "      <td>25.000000</td>\n",
       "      <td>0.000000</td>\n",
       "      <td>0.000000</td>\n",
       "      <td>0.000000</td>\n",
       "      <td>0.000000</td>\n",
       "      <td>0.000000</td>\n",
       "      <td>6.000000</td>\n",
       "      <td>2008.000000</td>\n",
       "      <td>157700.000000</td>\n",
       "    </tr>\n",
       "    <tr>\n",
       "      <th>75%</th>\n",
       "      <td>9.071811e+08</td>\n",
       "      <td>70.000000</td>\n",
       "      <td>80.000000</td>\n",
       "      <td>11070.000000</td>\n",
       "      <td>7.000000</td>\n",
       "      <td>6.000000</td>\n",
       "      <td>2003.000000</td>\n",
       "      <td>2004.000000</td>\n",
       "      <td>148.000000</td>\n",
       "      <td>700.00000</td>\n",
       "      <td>...</td>\n",
       "      <td>165.000000</td>\n",
       "      <td>68.000000</td>\n",
       "      <td>0.000000</td>\n",
       "      <td>0.000000</td>\n",
       "      <td>0.000000</td>\n",
       "      <td>0.000000</td>\n",
       "      <td>0.000000</td>\n",
       "      <td>8.000000</td>\n",
       "      <td>2009.000000</td>\n",
       "      <td>209925.000000</td>\n",
       "    </tr>\n",
       "    <tr>\n",
       "      <th>max</th>\n",
       "      <td>9.241520e+08</td>\n",
       "      <td>190.000000</td>\n",
       "      <td>313.000000</td>\n",
       "      <td>70761.000000</td>\n",
       "      <td>10.000000</td>\n",
       "      <td>9.000000</td>\n",
       "      <td>2010.000000</td>\n",
       "      <td>2010.000000</td>\n",
       "      <td>1600.000000</td>\n",
       "      <td>5644.00000</td>\n",
       "      <td>...</td>\n",
       "      <td>870.000000</td>\n",
       "      <td>547.000000</td>\n",
       "      <td>432.000000</td>\n",
       "      <td>508.000000</td>\n",
       "      <td>480.000000</td>\n",
       "      <td>800.000000</td>\n",
       "      <td>17000.000000</td>\n",
       "      <td>12.000000</td>\n",
       "      <td>2010.000000</td>\n",
       "      <td>611657.000000</td>\n",
       "    </tr>\n",
       "  </tbody>\n",
       "</table>\n",
       "<p>8 rows × 39 columns</p>\n",
       "</div>"
      ],
      "text/plain": [
       "                pid  ms_subclass  lot_frontage      lot_area  overall_qual  \\\n",
       "count  1.702000e+03  1702.000000   1702.000000   1702.000000   1702.000000   \n",
       "mean   7.159840e+08    57.602820     68.960047   9597.624559      6.099295   \n",
       "std    1.886815e+08    43.783575     23.218783   4929.302286      1.456042   \n",
       "min    5.263011e+08    20.000000     21.000000   1300.000000      1.000000   \n",
       "25%    5.284771e+08    20.000000     58.000000   7288.500000      5.000000   \n",
       "50%    5.354571e+08    50.000000     68.000000   9233.000000      6.000000   \n",
       "75%    9.071811e+08    70.000000     80.000000  11070.000000      7.000000   \n",
       "max    9.241520e+08   190.000000    313.000000  70761.000000     10.000000   \n",
       "\n",
       "       overall_cond   year_built  year_remod/add  mas_vnr_area  bsmtfin_sf_1  \\\n",
       "count   1702.000000  1702.000000     1702.000000   1702.000000    1702.00000   \n",
       "mean       5.564630  1970.625734     1984.081669     97.111633     423.13631   \n",
       "std        1.105911    31.453825       21.524956    176.018025     466.26267   \n",
       "min        1.000000  1872.000000     1950.000000      0.000000       0.00000   \n",
       "25%        5.000000  1950.000000     1963.000000      0.000000       0.00000   \n",
       "50%        5.000000  1972.000000     1993.000000      0.000000     335.50000   \n",
       "75%        6.000000  2003.000000     2004.000000    148.000000     700.00000   \n",
       "max        9.000000  2010.000000     2010.000000   1600.000000    5644.00000   \n",
       "\n",
       "       ...  wood_deck_sf  open_porch_sf  enclosed_porch   3ssn_porch  \\\n",
       "count  ...   1702.000000    1702.000000     1702.000000  1702.000000   \n",
       "mean   ...     90.259107      46.323737       22.967685     2.470035   \n",
       "std    ...    123.829245      66.223690       59.912238    24.858849   \n",
       "min    ...      0.000000       0.000000        0.000000     0.000000   \n",
       "25%    ...      0.000000       0.000000        0.000000     0.000000   \n",
       "50%    ...      0.000000      25.000000        0.000000     0.000000   \n",
       "75%    ...    165.000000      68.000000        0.000000     0.000000   \n",
       "max    ...    870.000000     547.000000      432.000000   508.000000   \n",
       "\n",
       "       screen_porch    pool_area      misc_val      mo_sold      yr_sold  \\\n",
       "count   1702.000000  1702.000000   1702.000000  1702.000000  1702.000000   \n",
       "mean      16.458872     2.455934     50.487074     6.212103  2007.782609   \n",
       "std       57.245013    37.431530    588.861453     2.755619     1.322612   \n",
       "min        0.000000     0.000000      0.000000     1.000000  2006.000000   \n",
       "25%        0.000000     0.000000      0.000000     4.000000  2007.000000   \n",
       "50%        0.000000     0.000000      0.000000     6.000000  2008.000000   \n",
       "75%        0.000000     0.000000      0.000000     8.000000  2009.000000   \n",
       "max      480.000000   800.000000  17000.000000    12.000000  2010.000000   \n",
       "\n",
       "           saleprice  \n",
       "count    1702.000000  \n",
       "mean   179588.648061  \n",
       "std     82234.311522  \n",
       "min     12789.000000  \n",
       "25%    128000.000000  \n",
       "50%    157700.000000  \n",
       "75%    209925.000000  \n",
       "max    611657.000000  \n",
       "\n",
       "[8 rows x 39 columns]"
      ]
     },
     "execution_count": 94,
     "metadata": {},
     "output_type": "execute_result"
    }
   ],
   "source": [
    "train_df.describe()"
   ]
  },
  {
   "cell_type": "code",
   "execution_count": null,
   "id": "7a99fc11-0a06-4afc-a79a-5e01512268de",
   "metadata": {},
   "outputs": [],
   "source": []
  },
  {
   "cell_type": "code",
   "execution_count": null,
   "id": "74a854f9-14bc-413d-94e3-155eed4f38dc",
   "metadata": {},
   "outputs": [],
   "source": []
  },
  {
   "cell_type": "markdown",
   "id": "73cad8ab-2867-4de8-8a45-a903abfe2c78",
   "metadata": {},
   "source": [
    "## 1.2 EDA & Exploratory Anaylsis"
   ]
  },
  {
   "cell_type": "code",
   "execution_count": 95,
   "id": "f71c5074-b816-4070-a5ce-f6803eb634ca",
   "metadata": {},
   "outputs": [],
   "source": [
    "# Project said to try plotting this to see any  outliers"
   ]
  },
  {
   "cell_type": "code",
   "execution_count": 96,
   "id": "0d0ff72b-3c16-45c6-9f2c-7737fa9d8553",
   "metadata": {},
   "outputs": [
    {
     "data": {
      "text/plain": [
       "Text(0, 0.5, 'GrLivArea')"
      ]
     },
     "execution_count": 96,
     "metadata": {},
     "output_type": "execute_result"
    },
    {
     "data": {
      "image/png": "[encoded data removed]",
      "text/plain": [
       "<Figure size 864x360 with 1 Axes>"
      ]
     },
     "metadata": {},
     "output_type": "display_data"
    }
   ],
   "source": [
    "plt.figure(figsize=(12,5))\n",
    "plt.scatter(train_df['saleprice'], train_df['gr_liv_area'])\n",
    "plt.title('SalePrice vs GrLivArea', size = 24)\n",
    "plt.xlabel('SalePrice', size = 12)\n",
    "plt.ylabel('GrLivArea', size = 12)\n",
    "#a few outliers for gr_liv_area above 4k.. lets remove them"
   ]
  },
  {
   "cell_type": "markdown",
   "id": "9fdde6bc-8e34-40fc-a524-a44fc16f4c68",
   "metadata": {},
   "source": [
    "We can tell there are a few datapoints that are very far away from the cluster of data points.\n",
    "We will be box plotting these two variables too look at them closely."
   ]
  },
  {
   "cell_type": "code",
   "execution_count": 97,
   "id": "f25b3c21-3674-4293-bf58-438392c18e97",
   "metadata": {},
   "outputs": [],
   "source": [
    "#if i do a boxplot of the salesprice.. i will see quite a few outliers   EDA!!!!!!!!!!!!!!!!!!!!!!!!!"
   ]
  },
  {
   "cell_type": "code",
   "execution_count": 98,
   "id": "7ede23b6-c480-49b8-9598-2f3a906ee244",
   "metadata": {},
   "outputs": [
    {
     "data": {
      "image/png": "[encoded data removed]",
      "text/plain": [
       "<Figure size 1440x360 with 1 Axes>"
      ]
     },
     "metadata": {},
     "output_type": "display_data"
    }
   ],
   "source": [
    "plt.figure(figsize=(20,5))\n",
    "sns.boxplot(x = train_df['saleprice'])   #quite a lot of outliers after 320,000 ... lets remove em \n",
    "plt.title('SalePrice', size = 18)\n",
    "plt.xticks(range(300_000, 600_000, 50_000));"
   ]
  },
  {
   "cell_type": "code",
   "execution_count": null,
   "id": "55886c28-1914-4bdf-ad9f-7808869c03a4",
   "metadata": {},
   "outputs": [],
   "source": []
  },
  {
   "cell_type": "markdown",
   "id": "5b27e182-b2d9-47f1-a1d4-5cb23c01d54f",
   "metadata": {
    "tags": []
   },
   "source": [
    "**We have many outliers for saleprice that are beyond 320k. For now, I am going to remove outliers greater then or equal to 500k**"
   ]
  },
  {
   "cell_type": "code",
   "execution_count": 99,
   "id": "7b9c35d7-02dc-49fa-b0b6-2c66ca021fa0",
   "metadata": {},
   "outputs": [],
   "source": [
    "train_df.loc[train_df['saleprice'] >= 500_000, :]; #looking at the data with 500k+"
   ]
  },
  {
   "cell_type": "code",
   "execution_count": 100,
   "id": "ac9797c3-bd5f-4a2d-b263-79fbf6fa093b",
   "metadata": {},
   "outputs": [],
   "source": [
    "mask = train_df['saleprice'] < 500_000\n",
    "train_df = train_df[mask]"
   ]
  },
  {
   "cell_type": "code",
   "execution_count": 101,
   "id": "3cb2eba7-cca1-490c-aa7e-89fc417f662d",
   "metadata": {},
   "outputs": [
    {
     "data": {
      "text/plain": [
       "(1689, 80)"
      ]
     },
     "execution_count": 101,
     "metadata": {},
     "output_type": "execute_result"
    }
   ],
   "source": [
    "train_df.shape"
   ]
  },
  {
   "cell_type": "code",
   "execution_count": 102,
   "id": "c6c6fd7f-8bff-4139-956a-05a8e8cebcf0",
   "metadata": {},
   "outputs": [
    {
     "data": {
      "text/plain": [
       "Text(0.5, 1.0, 'GrLivArea')"
      ]
     },
     "execution_count": 102,
     "metadata": {},
     "output_type": "execute_result"
    },
    {
     "data": {
      "image/png": "[encoded data removed]",
      "text/plain": [
       "<Figure size 1440x360 with 1 Axes>"
      ]
     },
     "metadata": {},
     "output_type": "display_data"
    }
   ],
   "source": [
    "plt.figure(figsize=(20,5))\n",
    "sns.boxplot(x = train_df['gr_liv_area']);  #gr_liv_area.. good amoung of outliers.. lets remove the ones beyond 5k\n",
    "plt.title('GrLivArea', size = 18)"
   ]
  },
  {
   "cell_type": "code",
   "execution_count": 103,
   "id": "093f0dc7-d7d5-41e9-923a-1136915cbd55",
   "metadata": {},
   "outputs": [],
   "source": [
    "# plt.figure(figsize=(20,5))\n",
    "# sns.boxplot(x = test_df['gr_liv_area']);"
   ]
  },
  {
   "cell_type": "markdown",
   "id": "21c5681e-7f59-473f-ae47-ed1d3a93819d",
   "metadata": {},
   "source": [
    "**We have outliers in the train_df for 'gr_liv_area' which are above 2500.  The outliers that are really far off are the ones beyond 5k.**"
   ]
  },
  {
   "cell_type": "code",
   "execution_count": 104,
   "id": "84a284ce-3452-481e-9e54-06498f324556",
   "metadata": {},
   "outputs": [],
   "source": [
    "mask = train_df['gr_liv_area'] < 4000\n",
    "train_df = train_df[mask]"
   ]
  },
  {
   "cell_type": "code",
   "execution_count": 105,
   "id": "9a78e719-db79-4c3f-8eb6-3d2491edb2d5",
   "metadata": {},
   "outputs": [
    {
     "data": {
      "text/plain": [
       "(1687, 80)"
      ]
     },
     "execution_count": 105,
     "metadata": {},
     "output_type": "execute_result"
    }
   ],
   "source": [
    "train_df.shape"
   ]
  },
  {
   "cell_type": "code",
   "execution_count": null,
   "id": "ab4554ec-c407-46c1-b391-d6af793cb1e2",
   "metadata": {
    "tags": []
   },
   "outputs": [],
   "source": []
  },
  {
   "cell_type": "code",
   "execution_count": 106,
   "id": "655b1d37-3ef8-4525-b0c7-5a534ac54f68",
   "metadata": {},
   "outputs": [
    {
     "data": {
      "image/png": "[encoded data removed]",
      "text/plain": [
       "<Figure size 2880x1440 with 2 Axes>"
      ]
     },
     "metadata": {},
     "output_type": "display_data"
    }
   ],
   "source": [
    "#heatmap\n",
    "plt.figure(figsize=(40,20))\n",
    "\n",
    "corr = train_df.corr()\n",
    "\n",
    "mask = np.zeros_like(corr)\n",
    "mask[np.triu_indices_from(mask)] = True\n",
    "\n",
    "sns.heatmap(corr, annot=True,\n",
    "           mask = mask,\n",
    "           vmax= 1, vmin= -1,\n",
    "           square = True,\n",
    "           cmap = 'mako');\n",
    "plt.xticks(rotation = 90, size = 12);"
   ]
  },
  {
   "cell_type": "markdown",
   "id": "dfa4de0e-8149-4a96-9ac8-8a66c94ca00b",
   "metadata": {},
   "source": [
    "From my heatmap, whats noticeably relatable or inversely relable are:\n",
    " \n",
    " -gr_liv_area  and totrms_abvgr are relatable\n",
    " \n",
    " -garage_cars and garage_area\n",
    " \n",
    " -saleprice and overall_qual \n",
    " \n",
    " -bsmtfin_sf_1 and bsmt_unf_sf (inverse)"
   ]
  },
  {
   "cell_type": "code",
   "execution_count": 107,
   "id": "eb700f26-eb19-4b57-a24c-b6384a57f387",
   "metadata": {},
   "outputs": [],
   "source": [
    "#train_df_final.select_dtypes(exclude='object').drop(columns='saleprice').columns.to_list() "
   ]
  },
  {
   "cell_type": "code",
   "execution_count": 108,
   "id": "a4ab8d94-d29b-4e15-a958-dd27e120758d",
   "metadata": {},
   "outputs": [],
   "source": [
    "#Lets do an OLS  model to see what varaibles to put for our features to predict saleprice\n",
    "from scipy import stats\n",
    "import statsmodels.api as sm\n",
    "\n",
    "\n",
    "features = train_df.select_dtypes(exclude='object').drop(columns=['saleprice', 'pid']).columns.to_list()\n",
    "    #Im going to make my columns names into a list and exclude saleprice and pid to pass in as my features"
   ]
  },
  {
   "cell_type": "code",
   "execution_count": 109,
   "id": "5f49ee2e-a2e5-4ced-be5b-af1de567f75c",
   "metadata": {},
   "outputs": [
    {
     "data": {
      "text/plain": [
       "['ms_subclass',\n",
       " 'lot_frontage',\n",
       " 'lot_area',\n",
       " 'overall_qual',\n",
       " 'overall_cond',\n",
       " 'year_built',\n",
       " 'year_remod/add',\n",
       " 'mas_vnr_area',\n",
       " 'bsmtfin_sf_1',\n",
       " 'bsmtfin_sf_2',\n",
       " 'bsmt_unf_sf',\n",
       " 'total_bsmt_sf',\n",
       " 'central_air',\n",
       " '1st_flr_sf',\n",
       " '2nd_flr_sf',\n",
       " 'low_qual_fin_sf',\n",
       " 'gr_liv_area',\n",
       " 'bsmt_full_bath',\n",
       " 'bsmt_half_bath',\n",
       " 'full_bath',\n",
       " 'half_bath',\n",
       " 'bedroom_abvgr',\n",
       " 'kitchen_abvgr',\n",
       " 'totrms_abvgrd',\n",
       " 'fireplaces',\n",
       " 'garage_yr_blt',\n",
       " 'garage_cars',\n",
       " 'garage_area',\n",
       " 'wood_deck_sf',\n",
       " 'open_porch_sf',\n",
       " 'enclosed_porch',\n",
       " '3ssn_porch',\n",
       " 'screen_porch',\n",
       " 'pool_area',\n",
       " 'misc_val',\n",
       " 'mo_sold',\n",
       " 'yr_sold']"
      ]
     },
     "execution_count": 109,
     "metadata": {},
     "output_type": "execute_result"
    }
   ],
   "source": [
    "features"
   ]
  },
  {
   "cell_type": "code",
   "execution_count": 110,
   "id": "9661dc00-aabb-43ff-ae33-7e2ba1da9e89",
   "metadata": {},
   "outputs": [],
   "source": [
    "# X = [features]\n",
    "# y = train_df['saleprice']\n",
    "\n",
    "# X = sm.add_constant(X, prepend=True)\n",
    "# results = sm.OLS(y, X).fit()   # reminder OLS  stats modles only take values that are int/float type .. not obj!\n",
    "#  ^^ this line im getting an error  : TypeError: cannot perform reduce with flexible type\n",
    "#all the columns are not object type ... but the next line of codes work"
   ]
  },
  {
   "cell_type": "code",
   "execution_count": 111,
   "id": "1773b498-e8e3-4d0f-9047-794fe2c37723",
   "metadata": {},
   "outputs": [],
   "source": [
    "from sklearn.linear_model import LinearRegression\n",
    "\n",
    "#dont sleep on statsmodels   as chuck said\n",
    "from statsmodels.api import OLS"
   ]
  },
  {
   "cell_type": "code",
   "execution_count": 112,
   "id": "435c8b35-eb0d-4360-a9f2-f4b683b5385c",
   "metadata": {},
   "outputs": [],
   "source": [
    "model = OLS(train_df['saleprice'], train_df[features]).fit()"
   ]
  },
  {
   "cell_type": "code",
   "execution_count": 113,
   "id": "4e3ef20b-efeb-41dc-aeef-e63bcbddf817",
   "metadata": {},
   "outputs": [
    {
     "data": {
      "text/html": [
       "<table class=\"simpletable\">\n",
       "<caption>OLS Regression Results</caption>\n",
       "<tr>\n",
       "  <th>Dep. Variable:</th>        <td>saleprice</td>    <th>  R-squared (uncentered):</th>      <td>   0.984</td> \n",
       "</tr>\n",
       "<tr>\n",
       "  <th>Model:</th>                   <td>OLS</td>       <th>  Adj. R-squared (uncentered):</th> <td>   0.983</td> \n",
       "</tr>\n",
       "<tr>\n",
       "  <th>Method:</th>             <td>Least Squares</td>  <th>  F-statistic:       </th>          <td>   2859.</td> \n",
       "</tr>\n",
       "<tr>\n",
       "  <th>Date:</th>             <td>Sat, 22 Jan 2022</td> <th>  Prob (F-statistic):</th>           <td>  0.00</td>  \n",
       "</tr>\n",
       "<tr>\n",
       "  <th>Time:</th>                 <td>01:31:57</td>     <th>  Log-Likelihood:    </th>          <td> -19444.</td> \n",
       "</tr>\n",
       "<tr>\n",
       "  <th>No. Observations:</th>      <td>  1687</td>      <th>  AIC:               </th>          <td>3.896e+04</td>\n",
       "</tr>\n",
       "<tr>\n",
       "  <th>Df Residuals:</th>          <td>  1652</td>      <th>  BIC:               </th>          <td>3.915e+04</td>\n",
       "</tr>\n",
       "<tr>\n",
       "  <th>Df Model:</th>              <td>    35</td>      <th>                     </th>              <td> </td>    \n",
       "</tr>\n",
       "<tr>\n",
       "  <th>Covariance Type:</th>      <td>nonrobust</td>    <th>                     </th>              <td> </td>    \n",
       "</tr>\n",
       "</table>\n",
       "<table class=\"simpletable\">\n",
       "<tr>\n",
       "         <td></td>            <th>coef</th>     <th>std err</th>      <th>t</th>      <th>P>|t|</th>  <th>[0.025</th>    <th>0.975]</th>  \n",
       "</tr>\n",
       "<tr>\n",
       "  <th>ms_subclass</th>     <td> -104.0844</td> <td>   17.879</td> <td>   -5.821</td> <td> 0.000</td> <td> -139.153</td> <td>  -69.016</td>\n",
       "</tr>\n",
       "<tr>\n",
       "  <th>lot_frontage</th>    <td>   35.2451</td> <td>   37.639</td> <td>    0.936</td> <td> 0.349</td> <td>  -38.580</td> <td>  109.070</td>\n",
       "</tr>\n",
       "<tr>\n",
       "  <th>lot_area</th>        <td>    1.1972</td> <td>    0.180</td> <td>    6.636</td> <td> 0.000</td> <td>    0.843</td> <td>    1.551</td>\n",
       "</tr>\n",
       "<tr>\n",
       "  <th>overall_qual</th>    <td> 1.521e+04</td> <td>  769.224</td> <td>   19.778</td> <td> 0.000</td> <td> 1.37e+04</td> <td> 1.67e+04</td>\n",
       "</tr>\n",
       "<tr>\n",
       "  <th>overall_cond</th>    <td> 4836.2782</td> <td>  709.235</td> <td>    6.819</td> <td> 0.000</td> <td> 3445.184</td> <td> 6227.373</td>\n",
       "</tr>\n",
       "<tr>\n",
       "  <th>year_built</th>      <td>  393.5531</td> <td>   39.805</td> <td>    9.887</td> <td> 0.000</td> <td>  315.480</td> <td>  471.627</td>\n",
       "</tr>\n",
       "<tr>\n",
       "  <th>year_remod/add</th>  <td>  201.8558</td> <td>   44.002</td> <td>    4.587</td> <td> 0.000</td> <td>  115.550</td> <td>  288.161</td>\n",
       "</tr>\n",
       "<tr>\n",
       "  <th>mas_vnr_area</th>    <td>   29.9437</td> <td>    4.337</td> <td>    6.905</td> <td> 0.000</td> <td>   21.438</td> <td>   38.450</td>\n",
       "</tr>\n",
       "<tr>\n",
       "  <th>bsmtfin_sf_1</th>    <td>   19.6218</td> <td>    1.755</td> <td>   11.180</td> <td> 0.000</td> <td>   16.179</td> <td>   23.064</td>\n",
       "</tr>\n",
       "<tr>\n",
       "  <th>bsmtfin_sf_2</th>    <td>   -0.7721</td> <td>    3.060</td> <td>   -0.252</td> <td> 0.801</td> <td>   -6.775</td> <td>    5.231</td>\n",
       "</tr>\n",
       "<tr>\n",
       "  <th>bsmt_unf_sf</th>     <td>   -1.8441</td> <td>    1.598</td> <td>   -1.154</td> <td> 0.249</td> <td>   -4.978</td> <td>    1.290</td>\n",
       "</tr>\n",
       "<tr>\n",
       "  <th>total_bsmt_sf</th>   <td>   17.0057</td> <td>    2.328</td> <td>    7.304</td> <td> 0.000</td> <td>   12.439</td> <td>   21.572</td>\n",
       "</tr>\n",
       "<tr>\n",
       "  <th>central_air</th>     <td>-7494.7144</td> <td> 2742.442</td> <td>   -2.733</td> <td> 0.006</td> <td>-1.29e+04</td> <td>-2115.686</td>\n",
       "</tr>\n",
       "<tr>\n",
       "  <th>1st_flr_sf</th>      <td>   23.1102</td> <td>    3.957</td> <td>    5.840</td> <td> 0.000</td> <td>   15.349</td> <td>   30.871</td>\n",
       "</tr>\n",
       "<tr>\n",
       "  <th>2nd_flr_sf</th>      <td>   22.7996</td> <td>    3.534</td> <td>    6.452</td> <td> 0.000</td> <td>   15.868</td> <td>   29.731</td>\n",
       "</tr>\n",
       "<tr>\n",
       "  <th>low_qual_fin_sf</th> <td>   -8.4571</td> <td>    8.973</td> <td>   -0.942</td> <td> 0.346</td> <td>  -26.057</td> <td>    9.143</td>\n",
       "</tr>\n",
       "<tr>\n",
       "  <th>gr_liv_area</th>     <td>   37.4526</td> <td>    3.630</td> <td>   10.319</td> <td> 0.000</td> <td>   30.334</td> <td>   44.572</td>\n",
       "</tr>\n",
       "<tr>\n",
       "  <th>bsmt_full_bath</th>  <td> 2446.2540</td> <td> 1731.815</td> <td>    1.413</td> <td> 0.158</td> <td> -950.530</td> <td> 5843.038</td>\n",
       "</tr>\n",
       "<tr>\n",
       "  <th>bsmt_half_bath</th>  <td>-2632.6031</td> <td> 2568.677</td> <td>   -1.025</td> <td> 0.306</td> <td>-7670.808</td> <td> 2405.602</td>\n",
       "</tr>\n",
       "<tr>\n",
       "  <th>full_bath</th>       <td>-1979.8328</td> <td> 1849.578</td> <td>   -1.070</td> <td> 0.285</td> <td>-5607.597</td> <td> 1647.931</td>\n",
       "</tr>\n",
       "<tr>\n",
       "  <th>half_bath</th>       <td>-1901.7739</td> <td> 1829.893</td> <td>   -1.039</td> <td> 0.299</td> <td>-5490.927</td> <td> 1687.379</td>\n",
       "</tr>\n",
       "<tr>\n",
       "  <th>bedroom_abvgr</th>   <td>-8902.1758</td> <td> 1121.577</td> <td>   -7.937</td> <td> 0.000</td> <td>-1.11e+04</td> <td>-6702.314</td>\n",
       "</tr>\n",
       "<tr>\n",
       "  <th>kitchen_abvgr</th>   <td>-1.338e+04</td> <td> 3644.185</td> <td>   -3.671</td> <td> 0.000</td> <td>-2.05e+04</td> <td>-6229.681</td>\n",
       "</tr>\n",
       "<tr>\n",
       "  <th>totrms_abvgrd</th>   <td> 1815.3223</td> <td>  844.807</td> <td>    2.149</td> <td> 0.032</td> <td>  158.317</td> <td> 3472.328</td>\n",
       "</tr>\n",
       "<tr>\n",
       "  <th>fireplaces</th>      <td> 3725.5584</td> <td> 1219.461</td> <td>    3.055</td> <td> 0.002</td> <td> 1333.707</td> <td> 6117.410</td>\n",
       "</tr>\n",
       "<tr>\n",
       "  <th>garage_yr_blt</th>   <td>  -10.4568</td> <td>    1.769</td> <td>   -5.910</td> <td> 0.000</td> <td>  -13.928</td> <td>   -6.986</td>\n",
       "</tr>\n",
       "<tr>\n",
       "  <th>garage_cars</th>     <td> 3088.6616</td> <td> 2036.795</td> <td>    1.516</td> <td> 0.130</td> <td> -906.310</td> <td> 7083.633</td>\n",
       "</tr>\n",
       "<tr>\n",
       "  <th>garage_area</th>     <td>   34.2032</td> <td>    6.889</td> <td>    4.965</td> <td> 0.000</td> <td>   20.692</td> <td>   47.714</td>\n",
       "</tr>\n",
       "<tr>\n",
       "  <th>wood_deck_sf</th>    <td>   11.2252</td> <td>    5.578</td> <td>    2.012</td> <td> 0.044</td> <td>    0.284</td> <td>   22.167</td>\n",
       "</tr>\n",
       "<tr>\n",
       "  <th>open_porch_sf</th>   <td>   12.9975</td> <td>   10.265</td> <td>    1.266</td> <td> 0.206</td> <td>   -7.136</td> <td>   33.131</td>\n",
       "</tr>\n",
       "<tr>\n",
       "  <th>enclosed_porch</th>  <td>    7.2542</td> <td>   11.174</td> <td>    0.649</td> <td> 0.516</td> <td>  -14.663</td> <td>   29.171</td>\n",
       "</tr>\n",
       "<tr>\n",
       "  <th>3ssn_porch</th>      <td>   30.5769</td> <td>   24.399</td> <td>    1.253</td> <td> 0.210</td> <td>  -17.280</td> <td>   78.434</td>\n",
       "</tr>\n",
       "<tr>\n",
       "  <th>screen_porch</th>    <td>   42.8195</td> <td>   11.287</td> <td>    3.794</td> <td> 0.000</td> <td>   20.682</td> <td>   64.957</td>\n",
       "</tr>\n",
       "<tr>\n",
       "  <th>pool_area</th>       <td>  -45.9131</td> <td>   17.523</td> <td>   -2.620</td> <td> 0.009</td> <td>  -80.282</td> <td>  -11.544</td>\n",
       "</tr>\n",
       "<tr>\n",
       "  <th>misc_val</th>        <td>    0.0811</td> <td>    1.441</td> <td>    0.056</td> <td> 0.955</td> <td>   -2.745</td> <td>    2.907</td>\n",
       "</tr>\n",
       "<tr>\n",
       "  <th>mo_sold</th>         <td>  183.2236</td> <td>  221.567</td> <td>    0.827</td> <td> 0.408</td> <td> -251.358</td> <td>  617.805</td>\n",
       "</tr>\n",
       "<tr>\n",
       "  <th>yr_sold</th>         <td> -603.7189</td> <td>   44.995</td> <td>  -13.418</td> <td> 0.000</td> <td> -691.972</td> <td> -515.466</td>\n",
       "</tr>\n",
       "</table>\n",
       "<table class=\"simpletable\">\n",
       "<tr>\n",
       "  <th>Omnibus:</th>       <td>177.716</td> <th>  Durbin-Watson:     </th> <td>   2.002</td> \n",
       "</tr>\n",
       "<tr>\n",
       "  <th>Prob(Omnibus):</th> <td> 0.000</td>  <th>  Jarque-Bera (JB):  </th> <td> 576.659</td> \n",
       "</tr>\n",
       "<tr>\n",
       "  <th>Skew:</th>          <td> 0.515</td>  <th>  Prob(JB):          </th> <td>6.03e-126</td>\n",
       "</tr>\n",
       "<tr>\n",
       "  <th>Kurtosis:</th>      <td> 5.673</td>  <th>  Cond. No.          </th> <td>1.36e+16</td> \n",
       "</tr>\n",
       "</table><br/><br/>Notes:<br/>[1] R² is computed without centering (uncentered) since the model does not contain a constant.<br/>[2] Standard Errors assume that the covariance matrix of the errors is correctly specified.<br/>[3] The smallest eigenvalue is 1.15e-21. This might indicate that there are<br/>strong multicollinearity problems or that the design matrix is singular."
      ],
      "text/plain": [
       "<class 'statsmodels.iolib.summary.Summary'>\n",
       "\"\"\"\n",
       "                                 OLS Regression Results                                \n",
       "=======================================================================================\n",
       "Dep. Variable:              saleprice   R-squared (uncentered):                   0.984\n",
       "Model:                            OLS   Adj. R-squared (uncentered):              0.983\n",
       "Method:                 Least Squares   F-statistic:                              2859.\n",
       "Date:                Sat, 22 Jan 2022   Prob (F-statistic):                        0.00\n",
       "Time:                        01:31:57   Log-Likelihood:                         -19444.\n",
       "No. Observations:                1687   AIC:                                  3.896e+04\n",
       "Df Residuals:                    1652   BIC:                                  3.915e+04\n",
       "Df Model:                          35                                                  \n",
       "Covariance Type:            nonrobust                                                  \n",
       "===================================================================================\n",
       "                      coef    std err          t      P>|t|      [0.025      0.975]\n",
       "-----------------------------------------------------------------------------------\n",
       "ms_subclass      -104.0844     17.879     -5.821      0.000    -139.153     -69.016\n",
       "lot_frontage       35.2451     37.639      0.936      0.349     -38.580     109.070\n",
       "lot_area            1.1972      0.180      6.636      0.000       0.843       1.551\n",
       "overall_qual     1.521e+04    769.224     19.778      0.000    1.37e+04    1.67e+04\n",
       "overall_cond     4836.2782    709.235      6.819      0.000    3445.184    6227.373\n",
       "year_built        393.5531     39.805      9.887      0.000     315.480     471.627\n",
       "year_remod/add    201.8558     44.002      4.587      0.000     115.550     288.161\n",
       "mas_vnr_area       29.9437      4.337      6.905      0.000      21.438      38.450\n",
       "bsmtfin_sf_1       19.6218      1.755     11.180      0.000      16.179      23.064\n",
       "bsmtfin_sf_2       -0.7721      3.060     -0.252      0.801      -6.775       5.231\n",
       "bsmt_unf_sf        -1.8441      1.598     -1.154      0.249      -4.978       1.290\n",
       "total_bsmt_sf      17.0057      2.328      7.304      0.000      12.439      21.572\n",
       "central_air     -7494.7144   2742.442     -2.733      0.006   -1.29e+04   -2115.686\n",
       "1st_flr_sf         23.1102      3.957      5.840      0.000      15.349      30.871\n",
       "2nd_flr_sf         22.7996      3.534      6.452      0.000      15.868      29.731\n",
       "low_qual_fin_sf    -8.4571      8.973     -0.942      0.346     -26.057       9.143\n",
       "gr_liv_area        37.4526      3.630     10.319      0.000      30.334      44.572\n",
       "bsmt_full_bath   2446.2540   1731.815      1.413      0.158    -950.530    5843.038\n",
       "bsmt_half_bath  -2632.6031   2568.677     -1.025      0.306   -7670.808    2405.602\n",
       "full_bath       -1979.8328   1849.578     -1.070      0.285   -5607.597    1647.931\n",
       "half_bath       -1901.7739   1829.893     -1.039      0.299   -5490.927    1687.379\n",
       "bedroom_abvgr   -8902.1758   1121.577     -7.937      0.000   -1.11e+04   -6702.314\n",
       "kitchen_abvgr   -1.338e+04   3644.185     -3.671      0.000   -2.05e+04   -6229.681\n",
       "totrms_abvgrd    1815.3223    844.807      2.149      0.032     158.317    3472.328\n",
       "fireplaces       3725.5584   1219.461      3.055      0.002    1333.707    6117.410\n",
       "garage_yr_blt     -10.4568      1.769     -5.910      0.000     -13.928      -6.986\n",
       "garage_cars      3088.6616   2036.795      1.516      0.130    -906.310    7083.633\n",
       "garage_area        34.2032      6.889      4.965      0.000      20.692      47.714\n",
       "wood_deck_sf       11.2252      5.578      2.012      0.044       0.284      22.167\n",
       "open_porch_sf      12.9975     10.265      1.266      0.206      -7.136      33.131\n",
       "enclosed_porch      7.2542     11.174      0.649      0.516     -14.663      29.171\n",
       "3ssn_porch         30.5769     24.399      1.253      0.210     -17.280      78.434\n",
       "screen_porch       42.8195     11.287      3.794      0.000      20.682      64.957\n",
       "pool_area         -45.9131     17.523     -2.620      0.009     -80.282     -11.544\n",
       "misc_val            0.0811      1.441      0.056      0.955      -2.745       2.907\n",
       "mo_sold           183.2236    221.567      0.827      0.408    -251.358     617.805\n",
       "yr_sold          -603.7189     44.995    -13.418      0.000    -691.972    -515.466\n",
       "==============================================================================\n",
       "Omnibus:                      177.716   Durbin-Watson:                   2.002\n",
       "Prob(Omnibus):                  0.000   Jarque-Bera (JB):              576.659\n",
       "Skew:                           0.515   Prob(JB):                    6.03e-126\n",
       "Kurtosis:                       5.673   Cond. No.                     1.36e+16\n",
       "==============================================================================\n",
       "\n",
       "Notes:\n",
       "[1] R² is computed without centering (uncentered) since the model does not contain a constant.\n",
       "[2] Standard Errors assume that the covariance matrix of the errors is correctly specified.\n",
       "[3] The smallest eigenvalue is 1.15e-21. This might indicate that there are\n",
       "strong multicollinearity problems or that the design matrix is singular.\n",
       "\"\"\""
      ]
     },
     "execution_count": 113,
     "metadata": {},
     "output_type": "execute_result"
    }
   ],
   "source": [
    "model.summary()\n",
    "#if P >|t|  < 0.05 then that feature likely predicts y!"
   ]
  },
  {
   "cell_type": "markdown",
   "id": "6d3861a6-d359-468e-bd50-fadd611ecd23",
   "metadata": {},
   "source": [
    "- Prob(f_stat) is less then 0.01! So there are atleast one feature or more to predict y\n",
    "- We can see that many of our features can predict SalePrice but the ones that are not likely (their p-value isn't less then 0.05... P>|t| > 0.05): \n",
    "**bsmtfin_sf_2, central_air, low_qual_fin_sf,   mo_sold, 3ssn_porch, enclosed_porch, open_porch_sf, half_bath, full_bath, bsmt_half_bath**"
   ]
  },
  {
   "cell_type": "code",
   "execution_count": 114,
   "id": "987b27c0-6038-4a9d-96d4-fd5b86429aa8",
   "metadata": {},
   "outputs": [],
   "source": [
    "#train_df.loc[:,['bsmntfin_sf_2', 'central_air', 'low_qual_fin_sf', 'mo_sold', '3ssn_porch', \n",
    " #               'enclosed_porch', 'open_porch_sf', 'half_bath', 'full_bath', 'bsmt_half_bath']];"
   ]
  },
  {
   "cell_type": "code",
   "execution_count": 115,
   "id": "6639d73d-182d-40bd-9476-13a2a6cddc40",
   "metadata": {},
   "outputs": [],
   "source": [
    "#rain_df[['half_bath', 'central_air']]"
   ]
  },
  {
   "cell_type": "code",
   "execution_count": 125,
   "id": "0a911d32-6134-4432-8251-5800063f6470",
   "metadata": {},
   "outputs": [
    {
     "data": {
      "text/html": [
       "<div>\n",
       "<style scoped>\n",
       "    .dataframe tbody tr th:only-of-type {\n",
       "        vertical-align: middle;\n",
       "    }\n",
       "\n",
       "    .dataframe tbody tr th {\n",
       "        vertical-align: top;\n",
       "    }\n",
       "\n",
       "    .dataframe thead th {\n",
       "        text-align: right;\n",
       "    }\n",
       "</style>\n",
       "<table border=\"1\" class=\"dataframe\">\n",
       "  <thead>\n",
       "    <tr style=\"text-align: right;\">\n",
       "      <th></th>\n",
       "      <th>lot_frontage</th>\n",
       "      <th>bsmtfin_sf_2</th>\n",
       "      <th>bsmt_unf_sf</th>\n",
       "      <th>central_air</th>\n",
       "      <th>low_qual_fin_sf</th>\n",
       "      <th>bsmt_full_bath</th>\n",
       "      <th>bsmt_half_bath</th>\n",
       "      <th>full_bath</th>\n",
       "      <th>half_bath</th>\n",
       "      <th>garage_cars</th>\n",
       "      <th>open_porch_sf</th>\n",
       "      <th>enclosed_porch</th>\n",
       "      <th>3ssn_porch</th>\n",
       "      <th>misc_val</th>\n",
       "      <th>mo_sold</th>\n",
       "    </tr>\n",
       "    <tr>\n",
       "      <th>id</th>\n",
       "      <th></th>\n",
       "      <th></th>\n",
       "      <th></th>\n",
       "      <th></th>\n",
       "      <th></th>\n",
       "      <th></th>\n",
       "      <th></th>\n",
       "      <th></th>\n",
       "      <th></th>\n",
       "      <th></th>\n",
       "      <th></th>\n",
       "      <th></th>\n",
       "      <th></th>\n",
       "      <th></th>\n",
       "      <th></th>\n",
       "    </tr>\n",
       "  </thead>\n",
       "  <tbody>\n",
       "    <tr>\n",
       "      <th>544</th>\n",
       "      <td>43.0</td>\n",
       "      <td>0.0</td>\n",
       "      <td>276.0</td>\n",
       "      <td>1</td>\n",
       "      <td>0</td>\n",
       "      <td>1.0</td>\n",
       "      <td>0.0</td>\n",
       "      <td>2</td>\n",
       "      <td>1</td>\n",
       "      <td>2.0</td>\n",
       "      <td>74</td>\n",
       "      <td>0</td>\n",
       "      <td>0</td>\n",
       "      <td>0</td>\n",
       "      <td>4</td>\n",
       "    </tr>\n",
       "    <tr>\n",
       "      <th>153</th>\n",
       "      <td>68.0</td>\n",
       "      <td>0.0</td>\n",
       "      <td>326.0</td>\n",
       "      <td>1</td>\n",
       "      <td>0</td>\n",
       "      <td>1.0</td>\n",
       "      <td>0.0</td>\n",
       "      <td>1</td>\n",
       "      <td>0</td>\n",
       "      <td>1.0</td>\n",
       "      <td>52</td>\n",
       "      <td>0</td>\n",
       "      <td>0</td>\n",
       "      <td>0</td>\n",
       "      <td>1</td>\n",
       "    </tr>\n",
       "    <tr>\n",
       "      <th>318</th>\n",
       "      <td>73.0</td>\n",
       "      <td>0.0</td>\n",
       "      <td>384.0</td>\n",
       "      <td>1</td>\n",
       "      <td>0</td>\n",
       "      <td>0.0</td>\n",
       "      <td>0.0</td>\n",
       "      <td>2</td>\n",
       "      <td>1</td>\n",
       "      <td>2.0</td>\n",
       "      <td>0</td>\n",
       "      <td>0</td>\n",
       "      <td>0</td>\n",
       "      <td>0</td>\n",
       "      <td>4</td>\n",
       "    </tr>\n",
       "    <tr>\n",
       "      <th>255</th>\n",
       "      <td>82.0</td>\n",
       "      <td>0.0</td>\n",
       "      <td>676.0</td>\n",
       "      <td>1</td>\n",
       "      <td>0</td>\n",
       "      <td>0.0</td>\n",
       "      <td>0.0</td>\n",
       "      <td>2</td>\n",
       "      <td>0</td>\n",
       "      <td>2.0</td>\n",
       "      <td>59</td>\n",
       "      <td>0</td>\n",
       "      <td>0</td>\n",
       "      <td>0</td>\n",
       "      <td>3</td>\n",
       "    </tr>\n",
       "    <tr>\n",
       "      <th>138</th>\n",
       "      <td>137.0</td>\n",
       "      <td>713.0</td>\n",
       "      <td>557.0</td>\n",
       "      <td>1</td>\n",
       "      <td>0</td>\n",
       "      <td>0.0</td>\n",
       "      <td>0.0</td>\n",
       "      <td>2</td>\n",
       "      <td>1</td>\n",
       "      <td>2.0</td>\n",
       "      <td>0</td>\n",
       "      <td>0</td>\n",
       "      <td>0</td>\n",
       "      <td>0</td>\n",
       "      <td>6</td>\n",
       "    </tr>\n",
       "    <tr>\n",
       "      <th>...</th>\n",
       "      <td>...</td>\n",
       "      <td>...</td>\n",
       "      <td>...</td>\n",
       "      <td>...</td>\n",
       "      <td>...</td>\n",
       "      <td>...</td>\n",
       "      <td>...</td>\n",
       "      <td>...</td>\n",
       "      <td>...</td>\n",
       "      <td>...</td>\n",
       "      <td>...</td>\n",
       "      <td>...</td>\n",
       "      <td>...</td>\n",
       "      <td>...</td>\n",
       "      <td>...</td>\n",
       "    </tr>\n",
       "    <tr>\n",
       "      <th>1051</th>\n",
       "      <td>96.0</td>\n",
       "      <td>0.0</td>\n",
       "      <td>596.0</td>\n",
       "      <td>1</td>\n",
       "      <td>0</td>\n",
       "      <td>1.0</td>\n",
       "      <td>0.0</td>\n",
       "      <td>2</td>\n",
       "      <td>0</td>\n",
       "      <td>3.0</td>\n",
       "      <td>66</td>\n",
       "      <td>0</td>\n",
       "      <td>304</td>\n",
       "      <td>0</td>\n",
       "      <td>11</td>\n",
       "    </tr>\n",
       "    <tr>\n",
       "      <th>1587</th>\n",
       "      <td>79.0</td>\n",
       "      <td>0.0</td>\n",
       "      <td>873.0</td>\n",
       "      <td>1</td>\n",
       "      <td>0</td>\n",
       "      <td>1.0</td>\n",
       "      <td>0.0</td>\n",
       "      <td>2</td>\n",
       "      <td>0</td>\n",
       "      <td>2.0</td>\n",
       "      <td>276</td>\n",
       "      <td>0</td>\n",
       "      <td>0</td>\n",
       "      <td>0</td>\n",
       "      <td>1</td>\n",
       "    </tr>\n",
       "    <tr>\n",
       "      <th>916</th>\n",
       "      <td>57.0</td>\n",
       "      <td>0.0</td>\n",
       "      <td>896.0</td>\n",
       "      <td>1</td>\n",
       "      <td>0</td>\n",
       "      <td>0.0</td>\n",
       "      <td>0.0</td>\n",
       "      <td>1</td>\n",
       "      <td>1</td>\n",
       "      <td>2.0</td>\n",
       "      <td>0</td>\n",
       "      <td>0</td>\n",
       "      <td>0</td>\n",
       "      <td>0</td>\n",
       "      <td>3</td>\n",
       "    </tr>\n",
       "    <tr>\n",
       "      <th>639</th>\n",
       "      <td>80.0</td>\n",
       "      <td>750.0</td>\n",
       "      <td>295.0</td>\n",
       "      <td>1</td>\n",
       "      <td>0</td>\n",
       "      <td>1.0</td>\n",
       "      <td>0.0</td>\n",
       "      <td>1</td>\n",
       "      <td>0</td>\n",
       "      <td>1.0</td>\n",
       "      <td>189</td>\n",
       "      <td>140</td>\n",
       "      <td>0</td>\n",
       "      <td>0</td>\n",
       "      <td>11</td>\n",
       "    </tr>\n",
       "    <tr>\n",
       "      <th>10</th>\n",
       "      <td>60.0</td>\n",
       "      <td>0.0</td>\n",
       "      <td>994.0</td>\n",
       "      <td>1</td>\n",
       "      <td>0</td>\n",
       "      <td>0.0</td>\n",
       "      <td>0.0</td>\n",
       "      <td>2</td>\n",
       "      <td>1</td>\n",
       "      <td>2.0</td>\n",
       "      <td>60</td>\n",
       "      <td>0</td>\n",
       "      <td>0</td>\n",
       "      <td>0</td>\n",
       "      <td>6</td>\n",
       "    </tr>\n",
       "  </tbody>\n",
       "</table>\n",
       "<p>1677 rows × 15 columns</p>\n",
       "</div>"
      ],
      "text/plain": [
       "      lot_frontage  bsmtfin_sf_2  bsmt_unf_sf  central_air  low_qual_fin_sf  \\\n",
       "id                                                                            \n",
       "544           43.0           0.0        276.0            1                0   \n",
       "153           68.0           0.0        326.0            1                0   \n",
       "318           73.0           0.0        384.0            1                0   \n",
       "255           82.0           0.0        676.0            1                0   \n",
       "138          137.0         713.0        557.0            1                0   \n",
       "...            ...           ...          ...          ...              ...   \n",
       "1051          96.0           0.0        596.0            1                0   \n",
       "1587          79.0           0.0        873.0            1                0   \n",
       "916           57.0           0.0        896.0            1                0   \n",
       "639           80.0         750.0        295.0            1                0   \n",
       "10            60.0           0.0        994.0            1                0   \n",
       "\n",
       "      bsmt_full_bath  bsmt_half_bath  full_bath  half_bath  garage_cars  \\\n",
       "id                                                                        \n",
       "544              1.0             0.0          2          1          2.0   \n",
       "153              1.0             0.0          1          0          1.0   \n",
       "318              0.0             0.0          2          1          2.0   \n",
       "255              0.0             0.0          2          0          2.0   \n",
       "138              0.0             0.0          2          1          2.0   \n",
       "...              ...             ...        ...        ...          ...   \n",
       "1051             1.0             0.0          2          0          3.0   \n",
       "1587             1.0             0.0          2          0          2.0   \n",
       "916              0.0             0.0          1          1          2.0   \n",
       "639              1.0             0.0          1          0          1.0   \n",
       "10               0.0             0.0          2          1          2.0   \n",
       "\n",
       "      open_porch_sf  enclosed_porch  3ssn_porch  misc_val  mo_sold  \n",
       "id                                                                  \n",
       "544              74               0           0         0        4  \n",
       "153              52               0           0         0        1  \n",
       "318               0               0           0         0        4  \n",
       "255              59               0           0         0        3  \n",
       "138               0               0           0         0        6  \n",
       "...             ...             ...         ...       ...      ...  \n",
       "1051             66               0         304         0       11  \n",
       "1587            276               0           0         0        1  \n",
       "916               0               0           0         0        3  \n",
       "639             189             140           0         0       11  \n",
       "10               60               0           0         0        6  \n",
       "\n",
       "[1677 rows x 15 columns]"
      ]
     },
     "execution_count": 125,
     "metadata": {},
     "output_type": "execute_result"
    }
   ],
   "source": [
    "#I will exclude these out of my features when I really want to optimize my model in the next section!  bec their p-values are greater then 0.05\n",
    "# train_df[['bsmtfin_sf_2'  , 'central_air'    , 'low_qual_fin_sf'   , 'mo_sold'   , '3ssn_porch'   , \n",
    "#                 'enclosed_porch',            'open_porch_sf',        'half_bath',       'full_bath',      'bsmt_half_bath',\n",
    "#          'lot_frontage', 'bsmt_unf_sf', 'misc_val', 'garage_cars', 'bsmt_full_bath' ]]\n",
    "\n",
    "train_df[['lot_frontage', 'bsmtfin_sf_2', 'bsmt_unf_sf', 'central_air',\n",
    "         'low_qual_fin_sf', 'bsmt_full_bath', 'bsmt_half_bath', 'full_bath', 'half_bath',\n",
    "         'garage_cars', 'open_porch_sf','enclosed_porch','3ssn_porch', 'misc_val', 'mo_sold']]"
   ]
  },
  {
   "cell_type": "code",
   "execution_count": 117,
   "id": "71136f2d-e360-43c0-b290-3ad7ad3c6413",
   "metadata": {},
   "outputs": [],
   "source": [
    "# I might try making interaction terms out of these features i am going to take out instead.. remember save it also into your test dataframe!!"
   ]
  },
  {
   "cell_type": "code",
   "execution_count": null,
   "id": "70b52907-218a-48d9-b176-dee4c01eb680",
   "metadata": {},
   "outputs": [],
   "source": []
  },
  {
   "cell_type": "code",
   "execution_count": null,
   "id": "379e4f6e-c064-4e31-a2b4-59216e75f17f",
   "metadata": {},
   "outputs": [],
   "source": []
  },
  {
   "cell_type": "code",
   "execution_count": null,
   "id": "73999233-78f6-4c5e-bd2d-33ea4c07f6d9",
   "metadata": {},
   "outputs": [],
   "source": []
  },
  {
   "cell_type": "code",
   "execution_count": 118,
   "id": "9048c6c7-2a26-4423-a846-082477f3dce3",
   "metadata": {},
   "outputs": [
    {
     "data": {
      "text/plain": [
       "Text(0, 0.5, 'Lot Area')"
      ]
     },
     "execution_count": 118,
     "metadata": {},
     "output_type": "execute_result"
    },
    {
     "data": {
      "image/png": "[encoded data removed]",
      "text/plain": [
       "<Figure size 864x360 with 1 Axes>"
      ]
     },
     "metadata": {},
     "output_type": "display_data"
    }
   ],
   "source": [
    "plt.figure(figsize=(12,5))\n",
    "plt.scatter(train_df['saleprice'], train_df['lot_area'])\n",
    "plt.title('SalePrice vs LotArea', size = 24)\n",
    "plt.xlabel('SalePrice', size = 12)\n",
    "plt.ylabel('Lot Area', size = 12)"
   ]
  },
  {
   "cell_type": "markdown",
   "id": "84c2d6f1-7e2e-4a14-b0e2-639526fdcd33",
   "metadata": {
    "tags": []
   },
   "source": [
    "Quite a few outliers beyond 30,000"
   ]
  },
  {
   "cell_type": "code",
   "execution_count": null,
   "id": "7c1acd2d-5170-4199-808d-5dfb037eb247",
   "metadata": {},
   "outputs": [],
   "source": []
  },
  {
   "cell_type": "code",
   "execution_count": 119,
   "id": "36170482-9607-487d-ab70-f9e35f0db283",
   "metadata": {},
   "outputs": [],
   "source": [
    "#Few extra features I want to look at"
   ]
  },
  {
   "cell_type": "code",
   "execution_count": 120,
   "id": "8cd6d26c-7c00-4664-bdc2-2f88aee1ce5e",
   "metadata": {},
   "outputs": [
    {
     "data": {
      "text/plain": [
       "Text(0.5, 1.0, 'Lot Area')"
      ]
     },
     "execution_count": 120,
     "metadata": {},
     "output_type": "execute_result"
    },
    {
     "data": {
      "image/png": "[encoded data removed]",
      "text/plain": [
       "<Figure size 1440x360 with 1 Axes>"
      ]
     },
     "metadata": {},
     "output_type": "display_data"
    }
   ],
   "source": [
    "plt.figure(figsize=(20,5))\n",
    "sns.boxplot(x = train_df['lot_area']);\n",
    "plt.title('Lot Area', size = 18)"
   ]
  },
  {
   "cell_type": "code",
   "execution_count": null,
   "id": "ed9cfe53-2fb4-4ce6-93b7-2e1dac3ab115",
   "metadata": {},
   "outputs": [],
   "source": []
  },
  {
   "cell_type": "code",
   "execution_count": 121,
   "id": "9eec0cf8-a0e0-444a-9140-e78e91d65abb",
   "metadata": {},
   "outputs": [
    {
     "data": {
      "text/html": [
       "<div>\n",
       "<style scoped>\n",
       "    .dataframe tbody tr th:only-of-type {\n",
       "        vertical-align: middle;\n",
       "    }\n",
       "\n",
       "    .dataframe tbody tr th {\n",
       "        vertical-align: top;\n",
       "    }\n",
       "\n",
       "    .dataframe thead th {\n",
       "        text-align: right;\n",
       "    }\n",
       "</style>\n",
       "<table border=\"1\" class=\"dataframe\">\n",
       "  <thead>\n",
       "    <tr style=\"text-align: right;\">\n",
       "      <th></th>\n",
       "      <th>lot_area</th>\n",
       "      <th>street</th>\n",
       "      <th>alley</th>\n",
       "      <th>lot_shape</th>\n",
       "      <th>land_contour</th>\n",
       "      <th>utilities</th>\n",
       "      <th>lot_config</th>\n",
       "      <th>land_slope</th>\n",
       "      <th>neighborhood</th>\n",
       "      <th>condition_1</th>\n",
       "      <th>...</th>\n",
       "      <th>screen_porch</th>\n",
       "      <th>pool_area</th>\n",
       "      <th>pool_qc</th>\n",
       "      <th>fence</th>\n",
       "      <th>misc_feature</th>\n",
       "      <th>misc_val</th>\n",
       "      <th>mo_sold</th>\n",
       "      <th>yr_sold</th>\n",
       "      <th>sale_type</th>\n",
       "      <th>saleprice</th>\n",
       "    </tr>\n",
       "    <tr>\n",
       "      <th>id</th>\n",
       "      <th></th>\n",
       "      <th></th>\n",
       "      <th></th>\n",
       "      <th></th>\n",
       "      <th></th>\n",
       "      <th></th>\n",
       "      <th></th>\n",
       "      <th></th>\n",
       "      <th></th>\n",
       "      <th></th>\n",
       "      <th></th>\n",
       "      <th></th>\n",
       "      <th></th>\n",
       "      <th></th>\n",
       "      <th></th>\n",
       "      <th></th>\n",
       "      <th></th>\n",
       "      <th></th>\n",
       "      <th></th>\n",
       "      <th></th>\n",
       "      <th></th>\n",
       "    </tr>\n",
       "  </thead>\n",
       "  <tbody>\n",
       "    <tr>\n",
       "      <th>2767</th>\n",
       "      <td>70761</td>\n",
       "      <td>Pave</td>\n",
       "      <td>NoAccess</td>\n",
       "      <td>IR1</td>\n",
       "      <td>Low</td>\n",
       "      <td>AllPub</td>\n",
       "      <td>Inside</td>\n",
       "      <td>Mod</td>\n",
       "      <td>ClearCr</td>\n",
       "      <td>Norm</td>\n",
       "      <td>...</td>\n",
       "      <td>0</td>\n",
       "      <td>0</td>\n",
       "      <td>NoPool</td>\n",
       "      <td>NoFence</td>\n",
       "      <td>No_Misc</td>\n",
       "      <td>0</td>\n",
       "      <td>12</td>\n",
       "      <td>2006</td>\n",
       "      <td>WD</td>\n",
       "      <td>280000</td>\n",
       "    </tr>\n",
       "    <tr>\n",
       "      <th>2523</th>\n",
       "      <td>50271</td>\n",
       "      <td>Pave</td>\n",
       "      <td>NoAccess</td>\n",
       "      <td>IR1</td>\n",
       "      <td>Low</td>\n",
       "      <td>AllPub</td>\n",
       "      <td>Inside</td>\n",
       "      <td>Gtl</td>\n",
       "      <td>Veenker</td>\n",
       "      <td>Norm</td>\n",
       "      <td>...</td>\n",
       "      <td>0</td>\n",
       "      <td>0</td>\n",
       "      <td>NoPool</td>\n",
       "      <td>NoFence</td>\n",
       "      <td>No_Misc</td>\n",
       "      <td>0</td>\n",
       "      <td>11</td>\n",
       "      <td>2006</td>\n",
       "      <td>WD</td>\n",
       "      <td>385000</td>\n",
       "    </tr>\n",
       "    <tr>\n",
       "      <th>505</th>\n",
       "      <td>46589</td>\n",
       "      <td>Pave</td>\n",
       "      <td>NoAccess</td>\n",
       "      <td>IR2</td>\n",
       "      <td>Lvl</td>\n",
       "      <td>AllPub</td>\n",
       "      <td>CulDSac</td>\n",
       "      <td>Gtl</td>\n",
       "      <td>NoRidge</td>\n",
       "      <td>Norm</td>\n",
       "      <td>...</td>\n",
       "      <td>0</td>\n",
       "      <td>0</td>\n",
       "      <td>NoPool</td>\n",
       "      <td>NoFence</td>\n",
       "      <td>No_Misc</td>\n",
       "      <td>0</td>\n",
       "      <td>7</td>\n",
       "      <td>2009</td>\n",
       "      <td>WD</td>\n",
       "      <td>402000</td>\n",
       "    </tr>\n",
       "    <tr>\n",
       "      <th>2279</th>\n",
       "      <td>43500</td>\n",
       "      <td>Pave</td>\n",
       "      <td>NoAccess</td>\n",
       "      <td>Reg</td>\n",
       "      <td>Lvl</td>\n",
       "      <td>AllPub</td>\n",
       "      <td>Inside</td>\n",
       "      <td>Gtl</td>\n",
       "      <td>Mitchel</td>\n",
       "      <td>Artery</td>\n",
       "      <td>...</td>\n",
       "      <td>0</td>\n",
       "      <td>561</td>\n",
       "      <td>TA</td>\n",
       "      <td>GdPrv</td>\n",
       "      <td>No_Misc</td>\n",
       "      <td>0</td>\n",
       "      <td>6</td>\n",
       "      <td>2007</td>\n",
       "      <td>WD</td>\n",
       "      <td>130000</td>\n",
       "    </tr>\n",
       "    <tr>\n",
       "      <th>1639</th>\n",
       "      <td>41600</td>\n",
       "      <td>Pave</td>\n",
       "      <td>NoAccess</td>\n",
       "      <td>IR1</td>\n",
       "      <td>Lvl</td>\n",
       "      <td>AllPub</td>\n",
       "      <td>FR2</td>\n",
       "      <td>Gtl</td>\n",
       "      <td>Gilbert</td>\n",
       "      <td>Norm</td>\n",
       "      <td>...</td>\n",
       "      <td>0</td>\n",
       "      <td>0</td>\n",
       "      <td>NoPool</td>\n",
       "      <td>NoFence</td>\n",
       "      <td>No_Misc</td>\n",
       "      <td>0</td>\n",
       "      <td>11</td>\n",
       "      <td>2007</td>\n",
       "      <td>WD</td>\n",
       "      <td>155000</td>\n",
       "    </tr>\n",
       "    <tr>\n",
       "      <th>1402</th>\n",
       "      <td>39104</td>\n",
       "      <td>Pave</td>\n",
       "      <td>NoAccess</td>\n",
       "      <td>IR1</td>\n",
       "      <td>Low</td>\n",
       "      <td>AllPub</td>\n",
       "      <td>CulDSac</td>\n",
       "      <td>Sev</td>\n",
       "      <td>ClearCr</td>\n",
       "      <td>Norm</td>\n",
       "      <td>...</td>\n",
       "      <td>0</td>\n",
       "      <td>0</td>\n",
       "      <td>NoPool</td>\n",
       "      <td>NoFence</td>\n",
       "      <td>No_Misc</td>\n",
       "      <td>0</td>\n",
       "      <td>4</td>\n",
       "      <td>2008</td>\n",
       "      <td>WD</td>\n",
       "      <td>241500</td>\n",
       "    </tr>\n",
       "    <tr>\n",
       "      <th>2339</th>\n",
       "      <td>34650</td>\n",
       "      <td>Pave</td>\n",
       "      <td>NoAccess</td>\n",
       "      <td>Reg</td>\n",
       "      <td>Bnk</td>\n",
       "      <td>AllPub</td>\n",
       "      <td>Inside</td>\n",
       "      <td>Gtl</td>\n",
       "      <td>Gilbert</td>\n",
       "      <td>Norm</td>\n",
       "      <td>...</td>\n",
       "      <td>0</td>\n",
       "      <td>0</td>\n",
       "      <td>NoPool</td>\n",
       "      <td>NoFence</td>\n",
       "      <td>No_Misc</td>\n",
       "      <td>0</td>\n",
       "      <td>1</td>\n",
       "      <td>2006</td>\n",
       "      <td>WD</td>\n",
       "      <td>145000</td>\n",
       "    </tr>\n",
       "    <tr>\n",
       "      <th>2687</th>\n",
       "      <td>33120</td>\n",
       "      <td>Pave</td>\n",
       "      <td>NoAccess</td>\n",
       "      <td>IR3</td>\n",
       "      <td>Lvl</td>\n",
       "      <td>AllPub</td>\n",
       "      <td>Inside</td>\n",
       "      <td>Gtl</td>\n",
       "      <td>OldTown</td>\n",
       "      <td>RRAn</td>\n",
       "      <td>...</td>\n",
       "      <td>0</td>\n",
       "      <td>0</td>\n",
       "      <td>NoPool</td>\n",
       "      <td>NoFence</td>\n",
       "      <td>No_Misc</td>\n",
       "      <td>0</td>\n",
       "      <td>10</td>\n",
       "      <td>2006</td>\n",
       "      <td>WD</td>\n",
       "      <td>220000</td>\n",
       "    </tr>\n",
       "    <tr>\n",
       "      <th>1</th>\n",
       "      <td>31770</td>\n",
       "      <td>Pave</td>\n",
       "      <td>NoAccess</td>\n",
       "      <td>IR1</td>\n",
       "      <td>Lvl</td>\n",
       "      <td>AllPub</td>\n",
       "      <td>Corner</td>\n",
       "      <td>Gtl</td>\n",
       "      <td>NAmes</td>\n",
       "      <td>Norm</td>\n",
       "      <td>...</td>\n",
       "      <td>0</td>\n",
       "      <td>0</td>\n",
       "      <td>NoPool</td>\n",
       "      <td>NoFence</td>\n",
       "      <td>No_Misc</td>\n",
       "      <td>0</td>\n",
       "      <td>5</td>\n",
       "      <td>2010</td>\n",
       "      <td>WD</td>\n",
       "      <td>215000</td>\n",
       "    </tr>\n",
       "    <tr>\n",
       "      <th>2904</th>\n",
       "      <td>31250</td>\n",
       "      <td>Pave</td>\n",
       "      <td>NoAccess</td>\n",
       "      <td>Reg</td>\n",
       "      <td>Lvl</td>\n",
       "      <td>AllPub</td>\n",
       "      <td>Inside</td>\n",
       "      <td>Gtl</td>\n",
       "      <td>Mitchel</td>\n",
       "      <td>Artery</td>\n",
       "      <td>...</td>\n",
       "      <td>0</td>\n",
       "      <td>0</td>\n",
       "      <td>NoPool</td>\n",
       "      <td>NoFence</td>\n",
       "      <td>No_Misc</td>\n",
       "      <td>0</td>\n",
       "      <td>5</td>\n",
       "      <td>2006</td>\n",
       "      <td>WD</td>\n",
       "      <td>81500</td>\n",
       "    </tr>\n",
       "  </tbody>\n",
       "</table>\n",
       "<p>10 rows × 76 columns</p>\n",
       "</div>"
      ],
      "text/plain": [
       "      lot_area street     alley lot_shape land_contour utilities lot_config  \\\n",
       "id                                                                            \n",
       "2767     70761   Pave  NoAccess       IR1          Low    AllPub     Inside   \n",
       "2523     50271   Pave  NoAccess       IR1          Low    AllPub     Inside   \n",
       "505      46589   Pave  NoAccess       IR2          Lvl    AllPub    CulDSac   \n",
       "2279     43500   Pave  NoAccess       Reg          Lvl    AllPub     Inside   \n",
       "1639     41600   Pave  NoAccess       IR1          Lvl    AllPub        FR2   \n",
       "1402     39104   Pave  NoAccess       IR1          Low    AllPub    CulDSac   \n",
       "2339     34650   Pave  NoAccess       Reg          Bnk    AllPub     Inside   \n",
       "2687     33120   Pave  NoAccess       IR3          Lvl    AllPub     Inside   \n",
       "1        31770   Pave  NoAccess       IR1          Lvl    AllPub     Corner   \n",
       "2904     31250   Pave  NoAccess       Reg          Lvl    AllPub     Inside   \n",
       "\n",
       "     land_slope neighborhood condition_1  ... screen_porch pool_area pool_qc  \\\n",
       "id                                        ...                                  \n",
       "2767        Mod      ClearCr        Norm  ...            0         0  NoPool   \n",
       "2523        Gtl      Veenker        Norm  ...            0         0  NoPool   \n",
       "505         Gtl      NoRidge        Norm  ...            0         0  NoPool   \n",
       "2279        Gtl      Mitchel      Artery  ...            0       561      TA   \n",
       "1639        Gtl      Gilbert        Norm  ...            0         0  NoPool   \n",
       "1402        Sev      ClearCr        Norm  ...            0         0  NoPool   \n",
       "2339        Gtl      Gilbert        Norm  ...            0         0  NoPool   \n",
       "2687        Gtl      OldTown        RRAn  ...            0         0  NoPool   \n",
       "1           Gtl        NAmes        Norm  ...            0         0  NoPool   \n",
       "2904        Gtl      Mitchel      Artery  ...            0         0  NoPool   \n",
       "\n",
       "        fence  misc_feature  misc_val  mo_sold yr_sold sale_type saleprice  \n",
       "id                                                                          \n",
       "2767  NoFence       No_Misc         0       12    2006       WD     280000  \n",
       "2523  NoFence       No_Misc         0       11    2006       WD     385000  \n",
       "505   NoFence       No_Misc         0        7    2009       WD     402000  \n",
       "2279    GdPrv       No_Misc         0        6    2007       WD     130000  \n",
       "1639  NoFence       No_Misc         0       11    2007       WD     155000  \n",
       "1402  NoFence       No_Misc         0        4    2008       WD     241500  \n",
       "2339  NoFence       No_Misc         0        1    2006       WD     145000  \n",
       "2687  NoFence       No_Misc         0       10    2006       WD     220000  \n",
       "1     NoFence       No_Misc         0        5    2010       WD     215000  \n",
       "2904  NoFence       No_Misc         0        5    2006       WD      81500  \n",
       "\n",
       "[10 rows x 76 columns]"
      ]
     },
     "execution_count": 121,
     "metadata": {},
     "output_type": "execute_result"
    }
   ],
   "source": [
    "train_df.loc[train_df['lot_area'] > 30000,'lot_area':].sort_values(by=['lot_area'],ascending=False)"
   ]
  },
  {
   "cell_type": "code",
   "execution_count": 122,
   "id": "8e32bda3-a27c-4f2c-a8ae-fa10b6e9f817",
   "metadata": {},
   "outputs": [],
   "source": [
    "#In the train_df going to remove outliers above 30k for lot_area\n",
    "mask2 = train_df['lot_area'] < 30000\n",
    "train_df = train_df[mask2]"
   ]
  },
  {
   "cell_type": "code",
   "execution_count": 123,
   "id": "cc9fec22-0346-468f-a264-3e30178ea536",
   "metadata": {},
   "outputs": [
    {
     "data": {
      "text/plain": [
       "(1677, 80)"
      ]
     },
     "execution_count": 123,
     "metadata": {},
     "output_type": "execute_result"
    }
   ],
   "source": [
    "train_df.shape"
   ]
  },
  {
   "cell_type": "code",
   "execution_count": null,
   "id": "aff6cc5e-2309-4895-b773-df6847dbd3ff",
   "metadata": {},
   "outputs": [],
   "source": []
  },
  {
   "cell_type": "code",
   "execution_count": 124,
   "id": "2fbb8261-bb14-4d24-9488-36060a06eaa9",
   "metadata": {},
   "outputs": [],
   "source": [
    "test_df.to_csv('../datasets/test_v2.csv')\n",
    "train_df.to_csv('../datasets/train_v2.csv')"
   ]
  },
  {
   "cell_type": "code",
   "execution_count": null,
   "id": "c8cd9d3f-45d0-4667-8862-82e3d3a1b789",
   "metadata": {},
   "outputs": [],
   "source": []
  }
 ],
 "metadata": {
  "kernelspec": {
   "display_name": "Python 3 (ipykernel)",
   "language": "python",
   "name": "python3"
  },
  "language_info": {
   "codemirror_mode": {
    "name": "ipython",
    "version": 3
   },
   "file_extension": ".py",
   "mimetype": "text/x-python",
   "name": "python",
   "nbconvert_exporter": "python",
   "pygments_lexer": "ipython3",
   "version": "3.8.12"
  }
 },
 "nbformat": 4,
 "nbformat_minor": 5
}
