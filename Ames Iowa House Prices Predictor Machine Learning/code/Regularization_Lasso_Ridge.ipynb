{
 "cells": [
  {
   "cell_type": "markdown",
   "id": "b5fdfa6e-d7bd-435c-ac7e-55b197b5d499",
   "metadata": {},
   "source": [
    "# Regularization: LASSO & RIDGE"
   ]
  },
  {
   "cell_type": "code",
   "execution_count": 1,
   "id": "dddb3bde-ee7c-47d7-a97d-af95ff9d9485",
   "metadata": {},
   "outputs": [],
   "source": [
    "import numpy as np\n",
    "import pandas as pd\n",
    "import matplotlib.pyplot as plt\n",
    "import seaborn as sns\n",
    "\n",
    "sns.set_style('darkgrid')\n"
   ]
  },
  {
   "cell_type": "code",
   "execution_count": 2,
   "id": "40a0b47e-16ec-49ff-8b46-7ef1c41d407a",
   "metadata": {},
   "outputs": [],
   "source": [
    "train_df = pd.read_csv('./datasets/lasso_ridge_train.csv')\n",
    "test_df = pd.read_csv('./datasets/lasso_ridge_test.csv')\n",
    "\n",
    "train_df.set_index('id', inplace = True)\n",
    "test_df.set_index('id', inplace = True)"
   ]
  },
  {
   "cell_type": "code",
   "execution_count": 3,
   "id": "d1373d18-76be-4cf7-90aa-8096382c008a",
   "metadata": {},
   "outputs": [
    {
     "data": {
      "text/html": [
       "<div>\n",
       "<style scoped>\n",
       "    .dataframe tbody tr th:only-of-type {\n",
       "        vertical-align: middle;\n",
       "    }\n",
       "\n",
       "    .dataframe tbody tr th {\n",
       "        vertical-align: top;\n",
       "    }\n",
       "\n",
       "    .dataframe thead th {\n",
       "        text-align: right;\n",
       "    }\n",
       "</style>\n",
       "<table border=\"1\" class=\"dataframe\">\n",
       "  <thead>\n",
       "    <tr style=\"text-align: right;\">\n",
       "      <th></th>\n",
       "      <th>ms_subclass</th>\n",
       "      <th>lot_frontage</th>\n",
       "      <th>lot_area</th>\n",
       "      <th>street</th>\n",
       "      <th>alley</th>\n",
       "      <th>lot_shape</th>\n",
       "      <th>land_contour</th>\n",
       "      <th>utilities</th>\n",
       "      <th>lot_config</th>\n",
       "      <th>land_slope</th>\n",
       "      <th>...</th>\n",
       "      <th>Timber</th>\n",
       "      <th>Veenker</th>\n",
       "      <th>A (agr)</th>\n",
       "      <th>C (all)</th>\n",
       "      <th>FV</th>\n",
       "      <th>I (all)</th>\n",
       "      <th>RH</th>\n",
       "      <th>RL</th>\n",
       "      <th>screen_porch*wood_deck_sf</th>\n",
       "      <th>fireplaces*totrms_abvgrd</th>\n",
       "    </tr>\n",
       "    <tr>\n",
       "      <th>id</th>\n",
       "      <th></th>\n",
       "      <th></th>\n",
       "      <th></th>\n",
       "      <th></th>\n",
       "      <th></th>\n",
       "      <th></th>\n",
       "      <th></th>\n",
       "      <th></th>\n",
       "      <th></th>\n",
       "      <th></th>\n",
       "      <th></th>\n",
       "      <th></th>\n",
       "      <th></th>\n",
       "      <th></th>\n",
       "      <th></th>\n",
       "      <th></th>\n",
       "      <th></th>\n",
       "      <th></th>\n",
       "      <th></th>\n",
       "      <th></th>\n",
       "      <th></th>\n",
       "    </tr>\n",
       "  </thead>\n",
       "  <tbody>\n",
       "    <tr>\n",
       "      <th>544</th>\n",
       "      <td>60</td>\n",
       "      <td>43.0</td>\n",
       "      <td>11492</td>\n",
       "      <td>Pave</td>\n",
       "      <td>NoAccess</td>\n",
       "      <td>IR1</td>\n",
       "      <td>Lvl</td>\n",
       "      <td>AllPub</td>\n",
       "      <td>CulDSac</td>\n",
       "      <td>Gtl</td>\n",
       "      <td>...</td>\n",
       "      <td>0</td>\n",
       "      <td>0</td>\n",
       "      <td>0</td>\n",
       "      <td>0</td>\n",
       "      <td>0</td>\n",
       "      <td>0</td>\n",
       "      <td>0</td>\n",
       "      <td>1</td>\n",
       "      <td>0</td>\n",
       "      <td>8</td>\n",
       "    </tr>\n",
       "    <tr>\n",
       "      <th>153</th>\n",
       "      <td>20</td>\n",
       "      <td>68.0</td>\n",
       "      <td>7922</td>\n",
       "      <td>Pave</td>\n",
       "      <td>NoAccess</td>\n",
       "      <td>Reg</td>\n",
       "      <td>Lvl</td>\n",
       "      <td>AllPub</td>\n",
       "      <td>Inside</td>\n",
       "      <td>Gtl</td>\n",
       "      <td>...</td>\n",
       "      <td>0</td>\n",
       "      <td>0</td>\n",
       "      <td>0</td>\n",
       "      <td>0</td>\n",
       "      <td>0</td>\n",
       "      <td>0</td>\n",
       "      <td>0</td>\n",
       "      <td>1</td>\n",
       "      <td>0</td>\n",
       "      <td>0</td>\n",
       "    </tr>\n",
       "    <tr>\n",
       "      <th>318</th>\n",
       "      <td>60</td>\n",
       "      <td>73.0</td>\n",
       "      <td>9802</td>\n",
       "      <td>Pave</td>\n",
       "      <td>NoAccess</td>\n",
       "      <td>Reg</td>\n",
       "      <td>Lvl</td>\n",
       "      <td>AllPub</td>\n",
       "      <td>Inside</td>\n",
       "      <td>Gtl</td>\n",
       "      <td>...</td>\n",
       "      <td>1</td>\n",
       "      <td>0</td>\n",
       "      <td>0</td>\n",
       "      <td>0</td>\n",
       "      <td>0</td>\n",
       "      <td>0</td>\n",
       "      <td>0</td>\n",
       "      <td>1</td>\n",
       "      <td>0</td>\n",
       "      <td>0</td>\n",
       "    </tr>\n",
       "    <tr>\n",
       "      <th>255</th>\n",
       "      <td>50</td>\n",
       "      <td>82.0</td>\n",
       "      <td>14235</td>\n",
       "      <td>Pave</td>\n",
       "      <td>NoAccess</td>\n",
       "      <td>IR1</td>\n",
       "      <td>Lvl</td>\n",
       "      <td>AllPub</td>\n",
       "      <td>Inside</td>\n",
       "      <td>Gtl</td>\n",
       "      <td>...</td>\n",
       "      <td>0</td>\n",
       "      <td>0</td>\n",
       "      <td>0</td>\n",
       "      <td>0</td>\n",
       "      <td>0</td>\n",
       "      <td>0</td>\n",
       "      <td>0</td>\n",
       "      <td>1</td>\n",
       "      <td>0</td>\n",
       "      <td>0</td>\n",
       "    </tr>\n",
       "    <tr>\n",
       "      <th>138</th>\n",
       "      <td>20</td>\n",
       "      <td>137.0</td>\n",
       "      <td>16492</td>\n",
       "      <td>Pave</td>\n",
       "      <td>NoAccess</td>\n",
       "      <td>IR1</td>\n",
       "      <td>Lvl</td>\n",
       "      <td>AllPub</td>\n",
       "      <td>Corner</td>\n",
       "      <td>Gtl</td>\n",
       "      <td>...</td>\n",
       "      <td>0</td>\n",
       "      <td>0</td>\n",
       "      <td>0</td>\n",
       "      <td>0</td>\n",
       "      <td>0</td>\n",
       "      <td>0</td>\n",
       "      <td>0</td>\n",
       "      <td>1</td>\n",
       "      <td>0</td>\n",
       "      <td>6</td>\n",
       "    </tr>\n",
       "  </tbody>\n",
       "</table>\n",
       "<p>5 rows × 110 columns</p>\n",
       "</div>"
      ],
      "text/plain": [
       "     ms_subclass  lot_frontage  lot_area street     alley lot_shape  \\\n",
       "id                                                                    \n",
       "544           60          43.0     11492   Pave  NoAccess       IR1   \n",
       "153           20          68.0      7922   Pave  NoAccess       Reg   \n",
       "318           60          73.0      9802   Pave  NoAccess       Reg   \n",
       "255           50          82.0     14235   Pave  NoAccess       IR1   \n",
       "138           20         137.0     16492   Pave  NoAccess       IR1   \n",
       "\n",
       "    land_contour utilities lot_config land_slope  ... Timber Veenker A (agr)  \\\n",
       "id                                                ...                          \n",
       "544          Lvl    AllPub    CulDSac        Gtl  ...      0       0       0   \n",
       "153          Lvl    AllPub     Inside        Gtl  ...      0       0       0   \n",
       "318          Lvl    AllPub     Inside        Gtl  ...      1       0       0   \n",
       "255          Lvl    AllPub     Inside        Gtl  ...      0       0       0   \n",
       "138          Lvl    AllPub     Corner        Gtl  ...      0       0       0   \n",
       "\n",
       "    C (all)  FV  I (all)  RH  RL screen_porch*wood_deck_sf  \\\n",
       "id                                                           \n",
       "544       0   0        0   0   1                         0   \n",
       "153       0   0        0   0   1                         0   \n",
       "318       0   0        0   0   1                         0   \n",
       "255       0   0        0   0   1                         0   \n",
       "138       0   0        0   0   1                         0   \n",
       "\n",
       "    fireplaces*totrms_abvgrd  \n",
       "id                            \n",
       "544                        8  \n",
       "153                        0  \n",
       "318                        0  \n",
       "255                        0  \n",
       "138                        6  \n",
       "\n",
       "[5 rows x 110 columns]"
      ]
     },
     "execution_count": 3,
     "metadata": {},
     "output_type": "execute_result"
    }
   ],
   "source": [
    "train_df.head()"
   ]
  },
  {
   "cell_type": "code",
   "execution_count": 4,
   "id": "c2c9b1ce-8957-4181-95a5-ee472a43f1f9",
   "metadata": {},
   "outputs": [
    {
     "data": {
      "text/html": [
       "<div>\n",
       "<style scoped>\n",
       "    .dataframe tbody tr th:only-of-type {\n",
       "        vertical-align: middle;\n",
       "    }\n",
       "\n",
       "    .dataframe tbody tr th {\n",
       "        vertical-align: top;\n",
       "    }\n",
       "\n",
       "    .dataframe thead th {\n",
       "        text-align: right;\n",
       "    }\n",
       "</style>\n",
       "<table border=\"1\" class=\"dataframe\">\n",
       "  <thead>\n",
       "    <tr style=\"text-align: right;\">\n",
       "      <th></th>\n",
       "      <th>pid</th>\n",
       "      <th>ms_subclass</th>\n",
       "      <th>lot_frontage</th>\n",
       "      <th>lot_area</th>\n",
       "      <th>street</th>\n",
       "      <th>alley</th>\n",
       "      <th>lot_shape</th>\n",
       "      <th>land_contour</th>\n",
       "      <th>utilities</th>\n",
       "      <th>lot_config</th>\n",
       "      <th>...</th>\n",
       "      <th>Timber</th>\n",
       "      <th>Veenker</th>\n",
       "      <th>A (agr)</th>\n",
       "      <th>C (all)</th>\n",
       "      <th>FV</th>\n",
       "      <th>I (all)</th>\n",
       "      <th>RH</th>\n",
       "      <th>RL</th>\n",
       "      <th>screen_porch*wood_deck_sf</th>\n",
       "      <th>fireplaces*totrms_abvgrd</th>\n",
       "    </tr>\n",
       "    <tr>\n",
       "      <th>id</th>\n",
       "      <th></th>\n",
       "      <th></th>\n",
       "      <th></th>\n",
       "      <th></th>\n",
       "      <th></th>\n",
       "      <th></th>\n",
       "      <th></th>\n",
       "      <th></th>\n",
       "      <th></th>\n",
       "      <th></th>\n",
       "      <th></th>\n",
       "      <th></th>\n",
       "      <th></th>\n",
       "      <th></th>\n",
       "      <th></th>\n",
       "      <th></th>\n",
       "      <th></th>\n",
       "      <th></th>\n",
       "      <th></th>\n",
       "      <th></th>\n",
       "      <th></th>\n",
       "    </tr>\n",
       "  </thead>\n",
       "  <tbody>\n",
       "    <tr>\n",
       "      <th>2658</th>\n",
       "      <td>902301120</td>\n",
       "      <td>190</td>\n",
       "      <td>69.000000</td>\n",
       "      <td>9142</td>\n",
       "      <td>Pave</td>\n",
       "      <td>Grvl</td>\n",
       "      <td>Reg</td>\n",
       "      <td>Lvl</td>\n",
       "      <td>AllPub</td>\n",
       "      <td>Inside</td>\n",
       "      <td>...</td>\n",
       "      <td>0</td>\n",
       "      <td>0</td>\n",
       "      <td>0</td>\n",
       "      <td>0</td>\n",
       "      <td>0</td>\n",
       "      <td>0</td>\n",
       "      <td>0</td>\n",
       "      <td>0</td>\n",
       "      <td>0</td>\n",
       "      <td>0</td>\n",
       "    </tr>\n",
       "    <tr>\n",
       "      <th>2718</th>\n",
       "      <td>905108090</td>\n",
       "      <td>90</td>\n",
       "      <td>69.545961</td>\n",
       "      <td>9662</td>\n",
       "      <td>Pave</td>\n",
       "      <td>NoAccess</td>\n",
       "      <td>IR1</td>\n",
       "      <td>Lvl</td>\n",
       "      <td>AllPub</td>\n",
       "      <td>Inside</td>\n",
       "      <td>...</td>\n",
       "      <td>0</td>\n",
       "      <td>0</td>\n",
       "      <td>0</td>\n",
       "      <td>0</td>\n",
       "      <td>0</td>\n",
       "      <td>0</td>\n",
       "      <td>0</td>\n",
       "      <td>1</td>\n",
       "      <td>0</td>\n",
       "      <td>0</td>\n",
       "    </tr>\n",
       "    <tr>\n",
       "      <th>2414</th>\n",
       "      <td>528218130</td>\n",
       "      <td>60</td>\n",
       "      <td>58.000000</td>\n",
       "      <td>17104</td>\n",
       "      <td>Pave</td>\n",
       "      <td>NoAccess</td>\n",
       "      <td>IR1</td>\n",
       "      <td>Lvl</td>\n",
       "      <td>AllPub</td>\n",
       "      <td>Inside</td>\n",
       "      <td>...</td>\n",
       "      <td>0</td>\n",
       "      <td>0</td>\n",
       "      <td>0</td>\n",
       "      <td>0</td>\n",
       "      <td>0</td>\n",
       "      <td>0</td>\n",
       "      <td>0</td>\n",
       "      <td>1</td>\n",
       "      <td>0</td>\n",
       "      <td>7</td>\n",
       "    </tr>\n",
       "    <tr>\n",
       "      <th>1989</th>\n",
       "      <td>902207150</td>\n",
       "      <td>30</td>\n",
       "      <td>60.000000</td>\n",
       "      <td>8520</td>\n",
       "      <td>Pave</td>\n",
       "      <td>NoAccess</td>\n",
       "      <td>Reg</td>\n",
       "      <td>Lvl</td>\n",
       "      <td>AllPub</td>\n",
       "      <td>Inside</td>\n",
       "      <td>...</td>\n",
       "      <td>0</td>\n",
       "      <td>0</td>\n",
       "      <td>0</td>\n",
       "      <td>0</td>\n",
       "      <td>0</td>\n",
       "      <td>0</td>\n",
       "      <td>0</td>\n",
       "      <td>0</td>\n",
       "      <td>0</td>\n",
       "      <td>0</td>\n",
       "    </tr>\n",
       "    <tr>\n",
       "      <th>625</th>\n",
       "      <td>535105100</td>\n",
       "      <td>20</td>\n",
       "      <td>69.545961</td>\n",
       "      <td>9500</td>\n",
       "      <td>Pave</td>\n",
       "      <td>NoAccess</td>\n",
       "      <td>IR1</td>\n",
       "      <td>Lvl</td>\n",
       "      <td>AllPub</td>\n",
       "      <td>Inside</td>\n",
       "      <td>...</td>\n",
       "      <td>0</td>\n",
       "      <td>0</td>\n",
       "      <td>0</td>\n",
       "      <td>0</td>\n",
       "      <td>0</td>\n",
       "      <td>0</td>\n",
       "      <td>0</td>\n",
       "      <td>1</td>\n",
       "      <td>0</td>\n",
       "      <td>12</td>\n",
       "    </tr>\n",
       "  </tbody>\n",
       "</table>\n",
       "<p>5 rows × 110 columns</p>\n",
       "</div>"
      ],
      "text/plain": [
       "            pid  ms_subclass  lot_frontage  lot_area street     alley  \\\n",
       "id                                                                      \n",
       "2658  902301120          190     69.000000      9142   Pave      Grvl   \n",
       "2718  905108090           90     69.545961      9662   Pave  NoAccess   \n",
       "2414  528218130           60     58.000000     17104   Pave  NoAccess   \n",
       "1989  902207150           30     60.000000      8520   Pave  NoAccess   \n",
       "625   535105100           20     69.545961      9500   Pave  NoAccess   \n",
       "\n",
       "     lot_shape land_contour utilities lot_config  ... Timber Veenker A (agr)  \\\n",
       "id                                                ...                          \n",
       "2658       Reg          Lvl    AllPub     Inside  ...      0       0       0   \n",
       "2718       IR1          Lvl    AllPub     Inside  ...      0       0       0   \n",
       "2414       IR1          Lvl    AllPub     Inside  ...      0       0       0   \n",
       "1989       Reg          Lvl    AllPub     Inside  ...      0       0       0   \n",
       "625        IR1          Lvl    AllPub     Inside  ...      0       0       0   \n",
       "\n",
       "     C (all) FV  I (all)  RH  RL  screen_porch*wood_deck_sf  \\\n",
       "id                                                            \n",
       "2658       0  0        0   0   0                          0   \n",
       "2718       0  0        0   0   1                          0   \n",
       "2414       0  0        0   0   1                          0   \n",
       "1989       0  0        0   0   0                          0   \n",
       "625        0  0        0   0   1                          0   \n",
       "\n",
       "     fireplaces*totrms_abvgrd  \n",
       "id                             \n",
       "2658                        0  \n",
       "2718                        0  \n",
       "2414                        7  \n",
       "1989                        0  \n",
       "625                        12  \n",
       "\n",
       "[5 rows x 110 columns]"
      ]
     },
     "execution_count": 4,
     "metadata": {},
     "output_type": "execute_result"
    }
   ],
   "source": [
    "test_df.head()"
   ]
  },
  {
   "cell_type": "code",
   "execution_count": null,
   "id": "18f87aa2-e5c3-497c-8a4e-d72dc19152e4",
   "metadata": {},
   "outputs": [],
   "source": []
  },
  {
   "cell_type": "code",
   "execution_count": 5,
   "id": "be157bee-8af3-452e-885b-9b5916428107",
   "metadata": {},
   "outputs": [
    {
     "data": {
      "text/plain": [
       "60"
      ]
     },
     "execution_count": 5,
     "metadata": {},
     "output_type": "execute_result"
    }
   ],
   "source": [
    "#Fix up what I will put to my features here:\n",
    "\n",
    "features = train_df.select_dtypes(exclude='object').drop(columns=['saleprice', 'bsmtfin_sf_2', 'central_air', 'low_qual_fin_sf', 'mo_sold', '3ssn_porch', \n",
    "                'enclosed_porch', 'open_porch_sf', 'half_bath', 'full_bath', 'bsmt_half_bath' ]).columns.to_list()\n",
    "len(features)"
   ]
  },
  {
   "cell_type": "code",
   "execution_count": 6,
   "id": "ba10db2e-f9bc-4611-a89c-f18c6755031a",
   "metadata": {},
   "outputs": [],
   "source": [
    "#Define X and y\n",
    "X = train_df[features]      #our training data \n",
    "y = train_df['saleprice']   #what we want to predict"
   ]
  },
  {
   "cell_type": "code",
   "execution_count": 7,
   "id": "fbefddf5-1f8f-4ab5-9bc6-fac87fa74dc9",
   "metadata": {},
   "outputs": [
    {
     "data": {
      "text/plain": [
       "Index(['ms_subclass', 'lot_frontage', 'lot_area', 'overall_qual',\n",
       "       'overall_cond', 'year_built', 'year_remod/add', 'mas_vnr_area',\n",
       "       'bsmtfin_sf_1', 'bsmt_unf_sf', 'total_bsmt_sf', '1st_flr_sf',\n",
       "       '2nd_flr_sf', 'gr_liv_area', 'bsmt_full_bath', 'bedroom_abvgr',\n",
       "       'kitchen_abvgr', 'totrms_abvgrd', 'fireplaces', 'garage_yr_blt',\n",
       "       'garage_cars', 'garage_area', 'wood_deck_sf', 'screen_porch',\n",
       "       'pool_area', 'misc_val', 'yr_sold', 'Blueste', 'BrDale', 'BrkSide',\n",
       "       'ClearCr', 'CollgCr', 'Crawfor', 'Edwards', 'Gilbert', 'Greens',\n",
       "       'IDOTRR', 'MeadowV', 'Mitchel', 'NAmes', 'NPkVill', 'NWAmes', 'NoRidge',\n",
       "       'NridgHt', 'OldTown', 'SWISU', 'Sawyer', 'SawyerW', 'Somerst',\n",
       "       'StoneBr', 'Timber', 'Veenker', 'A (agr)', 'C (all)', 'FV', 'I (all)',\n",
       "       'RH', 'RL', 'screen_porch*wood_deck_sf', 'fireplaces*totrms_abvgrd'],\n",
       "      dtype='object')"
      ]
     },
     "execution_count": 7,
     "metadata": {},
     "output_type": "execute_result"
    }
   ],
   "source": [
    "X.columns"
   ]
  },
  {
   "cell_type": "code",
   "execution_count": 8,
   "id": "97f90755-0926-456a-8adb-ba6f79edd04c",
   "metadata": {},
   "outputs": [],
   "source": [
    "#Split our data into training and testing sets-----------------------------------------------\n",
    "from sklearn.model_selection import train_test_split\n",
    "from sklearn.preprocessing import StandardScaler"
   ]
  },
  {
   "cell_type": "code",
   "execution_count": 9,
   "id": "cc2b4c5c-d588-4329-8fa1-ab9ee0ea80da",
   "metadata": {},
   "outputs": [],
   "source": [
    "X_train, X_test, y_train, y_test = train_test_split(X, y, random_state= 42)"
   ]
  },
  {
   "cell_type": "code",
   "execution_count": 10,
   "id": "931f2bbf-aec9-4fd0-b63a-ddf5beb36d15",
   "metadata": {},
   "outputs": [],
   "source": [
    "# Scale our data!\n",
    "sc = StandardScaler()\n",
    "Z_train = sc.fit_transform(X_train)\n",
    "Z_test = sc.transform(X_test)"
   ]
  },
  {
   "cell_type": "code",
   "execution_count": 11,
   "id": "e0cff0b8-0c3a-402b-94a8-4f2f682fc06d",
   "metadata": {},
   "outputs": [
    {
     "name": "stdout",
     "output_type": "stream",
     "text": [
      "Z_train shape is: (1257, 60)\n",
      "y_train shape is: (1257,)\n",
      "Z_test shape is: (420, 60)\n",
      "y_test shape is: (420,)\n"
     ]
    }
   ],
   "source": [
    "print(f'Z_train shape is: {Z_train.shape}')\n",
    "print(f'y_train shape is: {y_train.shape}')\n",
    "print(f'Z_test shape is: {Z_test.shape}')\n",
    "print(f'y_test shape is: {y_test.shape}')"
   ]
  },
  {
   "cell_type": "code",
   "execution_count": null,
   "id": "6972bb6f-af5d-4cd9-84f5-71f4cdc7c4fe",
   "metadata": {},
   "outputs": [],
   "source": []
  },
  {
   "cell_type": "code",
   "execution_count": 12,
   "id": "8edc624a-2ddd-420d-90c0-8b7f3dedbd50",
   "metadata": {},
   "outputs": [],
   "source": [
    "# OLS so that we can compare our score to RIDGE and LASSO!!------------------------------------------"
   ]
  },
  {
   "cell_type": "code",
   "execution_count": 13,
   "id": "6addcd7f-fae6-4925-8656-bcab962edec5",
   "metadata": {},
   "outputs": [],
   "source": [
    "from sklearn.linear_model import LinearRegression"
   ]
  },
  {
   "cell_type": "code",
   "execution_count": 14,
   "id": "d8817f57-d8e9-47af-ada8-ceef0681c78f",
   "metadata": {},
   "outputs": [
    {
     "data": {
      "text/plain": [
       "LinearRegression()"
      ]
     },
     "execution_count": 14,
     "metadata": {},
     "output_type": "execute_result"
    }
   ],
   "source": [
    "lr = LinearRegression()\n",
    "lr.fit(Z_train, y_train)"
   ]
  },
  {
   "cell_type": "code",
   "execution_count": 15,
   "id": "87234730-2e17-4614-9a80-eecedfe4b108",
   "metadata": {},
   "outputs": [
    {
     "name": "stdout",
     "output_type": "stream",
     "text": [
      "0.9175616782333031\n",
      "0.9021036853516992\n"
     ]
    }
   ],
   "source": [
    "# How does the model score on the training and test data?\n",
    "print(lr.score(Z_train, y_train))\n",
    "print(lr.score(Z_test, y_test))"
   ]
  },
  {
   "cell_type": "code",
   "execution_count": 16,
   "id": "bb1962b0-9c4c-4cc5-aab2-7e81478e24cd",
   "metadata": {},
   "outputs": [],
   "source": [
    "#   lets see our baseline model RMSE:\n",
    "from sklearn.metrics import mean_squared_error"
   ]
  },
  {
   "cell_type": "code",
   "execution_count": 17,
   "id": "e07cd3b3-b5d1-451c-a10b-836d4099d2a3",
   "metadata": {},
   "outputs": [
    {
     "data": {
      "text/plain": [
       "78614.86707985436"
      ]
     },
     "execution_count": 17,
     "metadata": {},
     "output_type": "execute_result"
    }
   ],
   "source": [
    "baseline_pred = [y_train.mean()]*len(y_test)\n",
    "mean_squared_error(y_test, baseline_pred)** 0.5 #just like the prev... our baseline prediction is off by 75k"
   ]
  },
  {
   "cell_type": "code",
   "execution_count": 18,
   "id": "54d2a5f2-0614-4a07-94ff-d8c37cc1653e",
   "metadata": {},
   "outputs": [
    {
     "name": "stdout",
     "output_type": "stream",
     "text": [
      "21374.726859588136\n",
      "0.9021036853516992\n"
     ]
    }
   ],
   "source": [
    "train_pred = lr.predict(Z_train)\n",
    "test_pred = lr.predict(Z_test)\n",
    "\n",
    "#Eval lr model using RMSE\n",
    "print(mean_squared_error(y_train,train_pred)**0.5  ) # \n",
    "print(lr.score(Z_test, y_test))"
   ]
  },
  {
   "cell_type": "code",
   "execution_count": null,
   "id": "3bd6d206-9620-4308-bac8-6e11a0fcbed4",
   "metadata": {},
   "outputs": [],
   "source": []
  },
  {
   "cell_type": "code",
   "execution_count": null,
   "id": "eb64c3f8-f2ef-42f2-a08f-de530dcd26e8",
   "metadata": {},
   "outputs": [],
   "source": []
  },
  {
   "cell_type": "markdown",
   "id": "ec4050e9-d974-40d9-90f5-4768508d03e5",
   "metadata": {},
   "source": [
    "## Ridge"
   ]
  },
  {
   "cell_type": "code",
   "execution_count": 19,
   "id": "86113445-1ce3-4bdb-a10a-f7be4f0908ae",
   "metadata": {},
   "outputs": [],
   "source": [
    "#ridge reduces our coef size!"
   ]
  },
  {
   "cell_type": "code",
   "execution_count": 20,
   "id": "75d4d693-f0e6-46ae-9cf1-fb8075adf960",
   "metadata": {},
   "outputs": [],
   "source": [
    "from sklearn.linear_model import Ridge"
   ]
  },
  {
   "cell_type": "code",
   "execution_count": 21,
   "id": "cbfbe727-d798-4d3d-bebc-dcc5a03537a9",
   "metadata": {},
   "outputs": [
    {
     "name": "stdout",
     "output_type": "stream",
     "text": [
      "Ridge Training Score: 0.9004227154373543\n",
      "Ridge Testing Score: 0.8877772319998067\n"
     ]
    },
    {
     "data": {
      "text/plain": [
       "26317.819318727496"
      ]
     },
     "execution_count": 21,
     "metadata": {},
     "output_type": "execute_result"
    }
   ],
   "source": [
    "#Instantiate\n",
    "ridge = Ridge(alpha= 600)  #Linear Reg model nad L2 regression (refer to the chart in the lesson for Regularization)\n",
    "\n",
    "#Fit\n",
    "ridge.fit(Z_train, y_train)\n",
    "\n",
    "#Evaluate model using R2\n",
    "print(f\"Ridge Training Score: {ridge.score(Z_train,y_train)}\")\n",
    "print(f\"Ridge Testing Score: {ridge.score(Z_test, y_test)}\")\n",
    "\n",
    "\n",
    "# Generate predictions on the test set and evaluate using MSE\n",
    "pred_ridge = ridge.predict(Z_test)\n",
    "mean_squared_error(y_test, pred_ridge)**0.5  ##RMSE  #hmm this isnt a good score"
   ]
  },
  {
   "cell_type": "code",
   "execution_count": 22,
   "id": "eb018892-9f42-41e7-bca4-04fb918e8c9b",
   "metadata": {},
   "outputs": [],
   "source": [
    "# Looks like our model does good on both our training and test set!"
   ]
  },
  {
   "cell_type": "code",
   "execution_count": 23,
   "id": "27c65b07-8366-468e-8e94-495fbb6c458e",
   "metadata": {},
   "outputs": [
    {
     "data": {
      "text/plain": [
       "array([-2240.23443499,  2751.15350555,  4082.89976707, 11555.54706138,\n",
       "        2563.96257175,  6969.14582608,  6107.9116097 ,  4385.57505943,\n",
       "        6061.18632859,   532.69909923,  6721.2104134 ,  7091.49798596,\n",
       "        4650.96890239,  9409.79400086,  2937.47704449, -1601.00743538,\n",
       "       -2313.89515235,  4006.55611482,  1998.00441196, -1445.84800442,\n",
       "        4500.12635683,  5351.9739518 ,  2720.71785212,  1150.12941073,\n",
       "          40.13198597,   420.23876209,  -532.0562452 ,  -163.6336746 ,\n",
       "        -739.00279073,   352.31740576,  -406.82896946,   233.44861895,\n",
       "        2748.21101487, -1896.50470647,  -185.20443724,   -45.45721495,\n",
       "        -692.39064102,  -113.44715691, -1474.58606094, -3231.26072594,\n",
       "        -250.77253968, -2790.3378099 ,  2210.71282301,  6289.58789931,\n",
       "       -1740.3179374 ,  -410.24252219, -1925.83866633, -1107.1983302 ,\n",
       "        2347.935556  ,  5316.33657357,  1180.7595657 ,  1607.20729518,\n",
       "        -912.87613334,  -603.4415058 ,  1676.6833956 ,  -134.97581497,\n",
       "         454.74436621,   415.88161372,  1490.91200823,  3507.61048071])"
      ]
     },
     "execution_count": 23,
     "metadata": {},
     "output_type": "execute_result"
    }
   ],
   "source": [
    "ridge.coef_"
   ]
  },
  {
   "cell_type": "markdown",
   "id": "71c730de-42a0-474b-9983-5d62d0ef8885",
   "metadata": {},
   "source": [
    "### Brute force the answer to find our optimal alphas:"
   ]
  },
  {
   "cell_type": "code",
   "execution_count": 24,
   "id": "07752bac-2e21-4f9f-b3b7-9afc21631320",
   "metadata": {},
   "outputs": [],
   "source": [
    "from sklearn.linear_model import RidgeCV"
   ]
  },
  {
   "cell_type": "code",
   "execution_count": 25,
   "id": "8ba5ed06-44cc-4024-aae8-6021f6295425",
   "metadata": {},
   "outputs": [
    {
     "data": {
      "text/plain": [
       "array([ 0. ,  0.5,  1. ,  1.5,  2. ,  2.5,  3. ,  3.5,  4. ,  4.5,  5. ,\n",
       "        5.5,  6. ,  6.5,  7. ,  7.5,  8. ,  8.5,  9. ,  9.5, 10. ])"
      ]
     },
     "execution_count": 25,
     "metadata": {},
     "output_type": "execute_result"
    }
   ],
   "source": [
    "np.linspace(0,10, 21)  #returns an array of n-values evenly spaced b/w start and stop"
   ]
  },
  {
   "cell_type": "code",
   "execution_count": 26,
   "id": "67061388-16b7-4fd5-81bf-71e226100e41",
   "metadata": {},
   "outputs": [
    {
     "data": {
      "text/plain": [
       "array([   1.        ,    1.43844989,    2.06913808,    2.97635144,\n",
       "          4.2813324 ,    6.15848211,    8.8586679 ,   12.74274986,\n",
       "         18.32980711,   26.36650899,   37.92690191,   54.55594781,\n",
       "         78.47599704,  112.88378917,  162.37767392,  233.57214691,\n",
       "        335.98182863,  483.29302386,  695.19279618, 1000.        ])"
      ]
     },
     "execution_count": 26,
     "metadata": {},
     "output_type": "execute_result"
    }
   ],
   "source": [
    "np.logspace(0,3, 20)"
   ]
  },
  {
   "cell_type": "code",
   "execution_count": 27,
   "id": "ff0eafd2-6079-4556-b158-ffb11024ba37",
   "metadata": {},
   "outputs": [
    {
     "data": {
      "text/plain": [
       "RidgeCV(alphas=array([   1.        ,    1.07226722,    1.149757  ,    1.23284674,\n",
       "          1.32194115,    1.41747416,    1.51991108,    1.62975083,\n",
       "          1.7475284 ,    1.87381742,    2.009233  ,    2.15443469,\n",
       "          2.3101297 ,    2.47707636,    2.65608778,    2.84803587,\n",
       "          3.05385551,    3.27454916,    3.51119173,    3.76493581,\n",
       "          4.03701726,    4.32876128,    4.64158883,    4.97702356,\n",
       "          5.33669923,    5.72236766,    6.13590727,    6.57933225,\n",
       "          7.05480231,    7.56463328,    8.11130831,    8...\n",
       "        151.9911083 ,  162.97508346,  174.75284   ,  187.38174229,\n",
       "        200.92330026,  215.443469  ,  231.01297001,  247.7076356 ,\n",
       "        265.60877829,  284.80358684,  305.38555088,  327.45491629,\n",
       "        351.11917342,  376.49358068,  403.70172586,  432.87612811,\n",
       "        464.15888336,  497.70235643,  533.66992312,  572.23676594,\n",
       "        613.59072734,  657.93322466,  705.48023107,  756.46332755,\n",
       "        811.13083079,  869.74900262,  932.60334688, 1000.        ]),\n",
       "        cv=5, scoring='r2')"
      ]
     },
     "execution_count": 27,
     "metadata": {},
     "output_type": "execute_result"
    }
   ],
   "source": [
    "#set up a list of ridge alphas to check (can use either np.linspace or np.logspace)\n",
    "ridge_alphas = np.logspace(0, 3, 100)\n",
    "\n",
    "\n",
    "#cross-validate over our list of ridge alphas\n",
    "ridge_cv = RidgeCV(alphas = ridge_alphas, scoring='r2', cv=5)\n",
    "\n",
    "#fit model using best ridge alpha\n",
    "ridge_cv.fit(Z_train, y_train)"
   ]
  },
  {
   "cell_type": "code",
   "execution_count": 28,
   "id": "d9375db0-f8f7-49d0-8b27-2452330ea166",
   "metadata": {},
   "outputs": [
    {
     "data": {
      "text/plain": [
       "37.64935806792467"
      ]
     },
     "execution_count": 28,
     "metadata": {},
     "output_type": "execute_result"
    }
   ],
   "source": [
    "# Here are the optimal values of alpha!\n",
    "ridge_cv.alpha_"
   ]
  },
  {
   "cell_type": "code",
   "execution_count": 29,
   "id": "98a31c52-5311-4f4a-a78b-8aabd83eebd8",
   "metadata": {},
   "outputs": [
    {
     "name": "stdout",
     "output_type": "stream",
     "text": [
      "0.9168579102571669\n",
      "0.9019913361659186\n"
     ]
    }
   ],
   "source": [
    "#we are introducing some bias.. we are making our model slighltly worse on our training set to reduce our variuance by introducing the bias we change up our training score.. \n",
    "#in exhacnge we reduce our variance by making our test scores better b\n",
    "\n",
    "## Evaluate our model on both training & testing data\n",
    "print(ridge_cv.score(Z_train, y_train))   #whenver you return a .score in a regression model its using R2\n",
    "print(ridge_cv.score(Z_test, y_test))"
   ]
  },
  {
   "cell_type": "code",
   "execution_count": 30,
   "id": "24071369-f210-4d6c-8d1b-4138cc260b74",
   "metadata": {},
   "outputs": [],
   "source": [
    "# we see our ridge_cv scores does slighlty better then our ridge score"
   ]
  },
  {
   "cell_type": "code",
   "execution_count": null,
   "id": "36073df0-6883-4184-8495-2024ffb758f5",
   "metadata": {},
   "outputs": [],
   "source": []
  },
  {
   "cell_type": "code",
   "execution_count": 31,
   "id": "3ea17899-70db-4fd0-ac5c-e2904000fbaa",
   "metadata": {},
   "outputs": [
    {
     "name": "stdout",
     "output_type": "stream",
     "text": [
      "---Baseline scores---\n",
      "21374.726859588136\n",
      "24580.60592217033\n",
      "------------\n",
      "21465.769953484476\n",
      "24594.70665310988\n"
     ]
    }
   ],
   "source": [
    "## Baseline scores\n",
    "## Evaluate OLS model using RMSE\n",
    "print(\"---Baseline scores---\")\n",
    "print(mean_squared_error(y_train, lr.predict(Z_train))**0.5)\n",
    "print(mean_squared_error(y_test, lr.predict(Z_test))**0.5)\n",
    "\n",
    "\n",
    "#\n",
    "print('------------')\n",
    "#recall RMSE you want your score to be as near to 0.. \n",
    "\n",
    "\n",
    "## Evaluate Ridge model using RMSE\n",
    "print(mean_squared_error(y_train, ridge_cv.predict(Z_train))**0.5)\n",
    "print(mean_squared_error(y_test, ridge_cv.predict(Z_test))**0.5)"
   ]
  },
  {
   "cell_type": "code",
   "execution_count": 32,
   "id": "90446bf3-a2b1-444b-9eb9-6ae2e9e9546f",
   "metadata": {},
   "outputs": [
    {
     "name": "stdout",
     "output_type": "stream",
     "text": [
      "====== OLS =======\n",
      "0.9175616782333031\n",
      "0.9021036853516992\n",
      "Dif b/w scores:  0.015457992881603988\n",
      "\n",
      "===== Ridge ======\n",
      "0.9168579102571669\n",
      "0.9019913361659186\n",
      "Dif b/w scores : 0.014866574091248252\n"
     ]
    }
   ],
   "source": [
    "#seeing comparing :\n",
    "\n",
    "print(\" OLS \".center(18, \"=\"))\n",
    "print(lr.score(Z_train, y_train))\n",
    "print(lr.score(Z_test, y_test))\n",
    "print('Dif b/w scores: ',lr.score(Z_train, y_train) - lr.score(Z_test, y_test))\n",
    "print()\n",
    "print(\" Ridge \".center(18, \"=\"))\n",
    "print(ridge_cv.score(Z_train, y_train))\n",
    "print(ridge_cv.score(Z_test, y_test))\n",
    "print('Dif b/w scores :',ridge_cv.score(Z_train, y_train) - ridge_cv.score(Z_test, y_test))"
   ]
  },
  {
   "cell_type": "markdown",
   "id": "bcd6699d-a2e6-4fa5-95bc-cc1add059e91",
   "metadata": {},
   "source": [
    "**RIDGE comes out slightly ahead, with less variance**"
   ]
  },
  {
   "cell_type": "code",
   "execution_count": 33,
   "id": "941312e2-68ff-45ba-82ce-547c642d6863",
   "metadata": {},
   "outputs": [
    {
     "data": {
      "text/plain": [
       "array([-6.40822350e+03,  2.05545022e+03,  5.71175148e+03,  1.56731812e+04,\n",
       "        5.98321613e+03,  1.51365868e+04,  3.02461768e+03,  3.27246839e+03,\n",
       "        7.15675388e+03, -8.40360025e+02,  6.32021132e+03,  1.74494220e+04,\n",
       "        1.77901170e+04,  4.68832787e+03,  2.58620310e+03, -4.78637891e+03,\n",
       "       -1.00152561e+03,  4.75272726e+02, -6.87480621e+03, -4.54161234e+03,\n",
       "        3.20343274e+03,  5.49291861e+03,  1.80276614e+03,  1.09836715e+03,\n",
       "        1.04916702e+02,  3.10892630e+02, -8.60806401e+02,  7.11844313e+02,\n",
       "        7.59617254e+02,  2.78481313e+03, -6.06932815e+02, -9.62371947e+02,\n",
       "        5.17475967e+03, -9.16496023e+02, -4.01445901e+02,  2.60741007e+00,\n",
       "        2.20870046e+03,  1.24963107e+03, -1.70613465e+03, -2.49160057e+03,\n",
       "        1.02486643e+03, -4.22489429e+03,  1.40766388e+03,  7.79999454e+03,\n",
       "        1.76164563e+03,  1.07048792e+03, -1.32441196e+03, -2.15047782e+03,\n",
       "        2.61543066e+03,  6.50076012e+03,  1.06215806e+03,  1.84575509e+03,\n",
       "       -1.27605229e+03, -7.08176384e+02,  2.08444319e+03, -1.94216426e+01,\n",
       "        1.23271990e+03,  1.77836557e+03,  2.02938551e+03,  9.54921562e+03])"
      ]
     },
     "execution_count": 33,
     "metadata": {},
     "output_type": "execute_result"
    }
   ],
   "source": [
    "lr.coef_"
   ]
  },
  {
   "cell_type": "code",
   "execution_count": 34,
   "id": "5e08b180-8572-4e01-861e-f33bdc61dc6d",
   "metadata": {},
   "outputs": [
    {
     "data": {
      "text/plain": [
       "array([-5.87894369e+03,  2.23461146e+03,  5.55126984e+03,  1.51794124e+04,\n",
       "        5.48145183e+03,  1.30162600e+04,  3.72389118e+03,  3.57835878e+03,\n",
       "        7.13695190e+03, -7.55382205e+02,  6.56361028e+03,  1.00082097e+04,\n",
       "        9.52893057e+03,  1.24294047e+04,  2.58861448e+03, -4.34536841e+03,\n",
       "       -1.47104111e+03,  1.75542944e+03, -2.05991015e+03, -4.13933117e+03,\n",
       "        3.34508578e+03,  5.58297329e+03,  1.91640354e+03,  1.16014751e+03,\n",
       "        1.78741311e+02,  4.12310356e+02, -8.30284294e+02,  2.90620649e+02,\n",
       "        1.07357635e+02,  1.57477344e+03, -8.63541407e+02, -1.24120310e+03,\n",
       "        4.29620205e+03, -1.82034392e+03, -6.85456262e+02, -1.22217581e+02,\n",
       "        6.86661522e+02,  6.89805237e+02, -2.15539155e+03, -3.53773061e+03,\n",
       "        6.04449230e+02, -4.44542391e+03,  1.46551406e+03,  7.37022278e+03,\n",
       "       -2.64841365e+02,  2.85899124e+02, -1.97594688e+03, -2.37904613e+03,\n",
       "        2.32154384e+03,  6.32121217e+03,  8.54420390e+02,  1.71257749e+03,\n",
       "       -1.16997216e+03, -6.49873671e+02,  1.62177348e+03, -3.64794203e+00,\n",
       "        9.65371804e+02,  8.54693191e+02,  1.91210687e+03,  4.76709328e+03])"
      ]
     },
     "execution_count": 34,
     "metadata": {},
     "output_type": "execute_result"
    }
   ],
   "source": [
    "ridge_cv.coef_  #we shrinked down our coef a bit through ridge"
   ]
  },
  {
   "cell_type": "code",
   "execution_count": null,
   "id": "5f5b20d2-88c5-4827-ba54-901b2dc8d870",
   "metadata": {},
   "outputs": [],
   "source": []
  },
  {
   "cell_type": "markdown",
   "id": "1d062752-60fa-4e1c-89cd-ec3b3e222523",
   "metadata": {},
   "source": [
    "## LASSO"
   ]
  },
  {
   "cell_type": "code",
   "execution_count": 35,
   "id": "4eabf3e0-fcd9-4712-90a4-39f74e5cc0b1",
   "metadata": {},
   "outputs": [],
   "source": [
    "from sklearn.linear_model import Lasso, LassoCV"
   ]
  },
  {
   "cell_type": "code",
   "execution_count": 36,
   "id": "adbc2a23-dd24-4720-aa46-3139312c91cd",
   "metadata": {},
   "outputs": [
    {
     "data": {
      "text/plain": [
       "array([0.001     , 0.00107227, 0.00114976, 0.00123285, 0.00132194,\n",
       "       0.00141747, 0.00151991, 0.00162975, 0.00174753, 0.00187382,\n",
       "       0.00200923, 0.00215443, 0.00231013, 0.00247708, 0.00265609,\n",
       "       0.00284804, 0.00305386, 0.00327455, 0.00351119, 0.00376494,\n",
       "       0.00403702, 0.00432876, 0.00464159, 0.00497702, 0.0053367 ,\n",
       "       0.00572237, 0.00613591, 0.00657933, 0.0070548 , 0.00756463,\n",
       "       0.00811131, 0.00869749, 0.00932603, 0.01      , 0.01072267,\n",
       "       0.01149757, 0.01232847, 0.01321941, 0.01417474, 0.01519911,\n",
       "       0.01629751, 0.01747528, 0.01873817, 0.02009233, 0.02154435,\n",
       "       0.0231013 , 0.02477076, 0.02656088, 0.02848036, 0.03053856,\n",
       "       0.03274549, 0.03511192, 0.03764936, 0.04037017, 0.04328761,\n",
       "       0.04641589, 0.04977024, 0.05336699, 0.05722368, 0.06135907,\n",
       "       0.06579332, 0.07054802, 0.07564633, 0.08111308, 0.0869749 ,\n",
       "       0.09326033, 0.1       , 0.10722672, 0.1149757 , 0.12328467,\n",
       "       0.13219411, 0.14174742, 0.15199111, 0.16297508, 0.17475284,\n",
       "       0.18738174, 0.2009233 , 0.21544347, 0.23101297, 0.24770764,\n",
       "       0.26560878, 0.28480359, 0.30538555, 0.32745492, 0.35111917,\n",
       "       0.37649358, 0.40370173, 0.43287613, 0.46415888, 0.49770236,\n",
       "       0.53366992, 0.57223677, 0.61359073, 0.65793322, 0.70548023,\n",
       "       0.75646333, 0.81113083, 0.869749  , 0.93260335, 1.        ])"
      ]
     },
     "execution_count": 36,
     "metadata": {},
     "output_type": "execute_result"
    }
   ],
   "source": [
    "## We can also use np.logspace to generate values less than 1\n",
    "np.logspace(-3, 0, 100)  ## that negative value means=  10^-3 all the way to 10^0"
   ]
  },
  {
   "cell_type": "code",
   "execution_count": null,
   "id": "191111e0-6dd5-4aed-90f2-3affb21ce3ec",
   "metadata": {
    "tags": []
   },
   "outputs": [],
   "source": []
  },
  {
   "cell_type": "code",
   "execution_count": 37,
   "id": "62cf723a-9b04-4df3-89e9-b3bfe785a6cd",
   "metadata": {},
   "outputs": [
    {
     "data": {
      "text/plain": [
       "LassoCV(alphas=array([0.001     , 0.00107227, 0.00114976, 0.00123285, 0.00132194,\n",
       "       0.00141747, 0.00151991, 0.00162975, 0.00174753, 0.00187382,\n",
       "       0.00200923, 0.00215443, 0.00231013, 0.00247708, 0.00265609,\n",
       "       0.00284804, 0.00305386, 0.00327455, 0.00351119, 0.00376494,\n",
       "       0.00403702, 0.00432876, 0.00464159, 0.00497702, 0.0053367 ,\n",
       "       0.00572237, 0.00613591, 0.00657933, 0.0070548 , 0.00756463,\n",
       "       0.008...\n",
       "       0.13219411, 0.14174742, 0.15199111, 0.16297508, 0.17475284,\n",
       "       0.18738174, 0.2009233 , 0.21544347, 0.23101297, 0.24770764,\n",
       "       0.26560878, 0.28480359, 0.30538555, 0.32745492, 0.35111917,\n",
       "       0.37649358, 0.40370173, 0.43287613, 0.46415888, 0.49770236,\n",
       "       0.53366992, 0.57223677, 0.61359073, 0.65793322, 0.70548023,\n",
       "       0.75646333, 0.81113083, 0.869749  , 0.93260335, 1.        ]),\n",
       "        cv=5, max_iter=5000, tol=0.00015)"
      ]
     },
     "execution_count": 37,
     "metadata": {},
     "output_type": "execute_result"
    }
   ],
   "source": [
    "# Set up a list of Lasso alphas to check.\n",
    "l_alphas = np.logspace(-3,0,100)\n",
    "\n",
    "# Cross-validate over our list of Lasso alphas\n",
    "## since we're using small alpha values, we might want to increase the number of iterations and/or the tolerence\n",
    "## we can try max_iter = 5000, and tol = 0.00015\n",
    "lasso_cv = LassoCV(alphas = l_alphas, cv = 5, max_iter=5000, tol = 0.00015) #cv is cross validation( the slices)\n",
    "          #to not get the warnings .. incr the parameters as noahs comment said ^ for max_iter and tol.. these 2arg says to run the ftn longer more iterations\n",
    "\n",
    "# Fit model using the best lasso alpha!\n",
    "lasso_cv.fit(Z_train, y_train)\n"
   ]
  },
  {
   "cell_type": "code",
   "execution_count": 38,
   "id": "fd5cc427-ec1e-4624-a898-44baa0bb2cd0",
   "metadata": {},
   "outputs": [
    {
     "data": {
      "text/plain": [
       "1.0"
      ]
     },
     "execution_count": 38,
     "metadata": {},
     "output_type": "execute_result"
    }
   ],
   "source": [
    "lasso_cv.alpha_ #optimal value of alpha!"
   ]
  },
  {
   "cell_type": "code",
   "execution_count": 39,
   "id": "27f0ba47-3ffb-4399-bb7d-3e36548c057b",
   "metadata": {},
   "outputs": [
    {
     "data": {
      "text/plain": [
       "array([1.        , 0.93260335, 0.869749  , 0.81113083, 0.75646333,\n",
       "       0.70548023, 0.65793322, 0.61359073, 0.57223677, 0.53366992,\n",
       "       0.49770236, 0.46415888, 0.43287613, 0.40370173, 0.37649358,\n",
       "       0.35111917, 0.32745492, 0.30538555, 0.28480359, 0.26560878,\n",
       "       0.24770764, 0.23101297, 0.21544347, 0.2009233 , 0.18738174,\n",
       "       0.17475284, 0.16297508, 0.15199111, 0.14174742, 0.13219411,\n",
       "       0.12328467, 0.1149757 , 0.10722672, 0.1       , 0.09326033,\n",
       "       0.0869749 , 0.08111308, 0.07564633, 0.07054802, 0.06579332,\n",
       "       0.06135907, 0.05722368, 0.05336699, 0.04977024, 0.04641589,\n",
       "       0.04328761, 0.04037017, 0.03764936, 0.03511192, 0.03274549,\n",
       "       0.03053856, 0.02848036, 0.02656088, 0.02477076, 0.0231013 ,\n",
       "       0.02154435, 0.02009233, 0.01873817, 0.01747528, 0.01629751,\n",
       "       0.01519911, 0.01417474, 0.01321941, 0.01232847, 0.01149757,\n",
       "       0.01072267, 0.01      , 0.00932603, 0.00869749, 0.00811131,\n",
       "       0.00756463, 0.0070548 , 0.00657933, 0.00613591, 0.00572237,\n",
       "       0.0053367 , 0.00497702, 0.00464159, 0.00432876, 0.00403702,\n",
       "       0.00376494, 0.00351119, 0.00327455, 0.00305386, 0.00284804,\n",
       "       0.00265609, 0.00247708, 0.00231013, 0.00215443, 0.00200923,\n",
       "       0.00187382, 0.00174753, 0.00162975, 0.00151991, 0.00141747,\n",
       "       0.00132194, 0.00123285, 0.00114976, 0.00107227, 0.001     ])"
      ]
     },
     "execution_count": 39,
     "metadata": {},
     "output_type": "execute_result"
    }
   ],
   "source": [
    "lasso_cv.alphas_"
   ]
  },
  {
   "cell_type": "code",
   "execution_count": null,
   "id": "faa10cc4-b2dc-4dea-bd5a-af6f24b08f30",
   "metadata": {},
   "outputs": [],
   "source": []
  },
  {
   "cell_type": "code",
   "execution_count": 40,
   "id": "1695a5ff-78bb-40b6-9b75-c144006a5486",
   "metadata": {},
   "outputs": [
    {
     "name": "stdout",
     "output_type": "stream",
     "text": [
      "====== OLS =======\n",
      "0.9175616782333031\n",
      "0.9021036853516992\n",
      "Dif:  0.015457992881603988\n",
      "\n",
      "===== Ridge ======\n",
      "0.9168579102571669\n",
      "0.9019913361659186\n",
      "Dif:  0.014866574091248252\n",
      "\n",
      "===== Lasso ======\n",
      "0.9175616197708721\n",
      "0.902122421276135\n",
      "Dif:  0.015439198494737183\n"
     ]
    }
   ],
   "source": [
    "print(\" OLS \".center(18, \"=\"))\n",
    "print(lr.score(Z_train, y_train))  #you can explain 90% \n",
    "print(lr.score(Z_test, y_test))\n",
    "print('Dif: ', lr.score(Z_train, y_train) - lr.score(Z_test, y_test))  #\n",
    "print()\n",
    "print(\" Ridge \".center(18, \"=\"))\n",
    "print(ridge_cv.score(Z_train, y_train))\n",
    "print(ridge_cv.score(Z_test, y_test))\n",
    "print('Dif: ', ridge_cv.score(Z_train, y_train) - ridge_cv.score(Z_test, y_test))\n",
    "print()\n",
    "print(\" Lasso \".center(18, \"=\"))\n",
    "print(lasso_cv.score(Z_train, y_train))\n",
    "print(lasso_cv.score(Z_test, y_test))\n",
    "print('Dif: ', lasso_cv.score(Z_train, y_train) - lasso_cv.score(Z_test, y_test))"
   ]
  },
  {
   "cell_type": "markdown",
   "id": "5357c8bd-8532-4933-acfa-904654ede0bd",
   "metadata": {},
   "source": [
    "**Ridge is doing slighlty better then the other models.**"
   ]
  },
  {
   "cell_type": "code",
   "execution_count": 41,
   "id": "d1d1e65a-1d69-4be2-b33e-60817f1ff09c",
   "metadata": {},
   "outputs": [],
   "source": [
    "##**R-squared interpretation: The proportion of variability in your target that is explained by the features in your model, relative to a model with no predictors**"
   ]
  },
  {
   "cell_type": "markdown",
   "id": "e67504ee-437f-4337-8d32-bf342406a807",
   "metadata": {},
   "source": [
    "R2 score: 90% of variability in my target variable is explained in by the features in my model relative to a model with no predictors at all."
   ]
  },
  {
   "cell_type": "code",
   "execution_count": null,
   "id": "feed7f2e-c471-4ab0-a404-a579a7de3704",
   "metadata": {},
   "outputs": [],
   "source": []
  },
  {
   "cell_type": "code",
   "execution_count": 42,
   "id": "2f3f59d4-e662-492f-a367-d9f69d502e0f",
   "metadata": {},
   "outputs": [
    {
     "name": "stdout",
     "output_type": "stream",
     "text": [
      "=== OLS - RMSE ===\n",
      "Trained:  21374.726859588136\n",
      "Tested:  24580.60592217033\n",
      "Dif:  -3205.879062582193\n",
      "\n",
      "== Ridge - RMSE ==\n",
      "Trained:  21465.769953484476\n",
      "Tested:  24594.70665310988\n",
      "Dif:  -3128.936699625403\n",
      "\n",
      "== LASSO - RMSE ==\n",
      "Trained:  21374.73443869847\n",
      "Tested:  24578.253625180998\n",
      "Dif:  -3203.5191864825283\n"
     ]
    }
   ],
   "source": [
    "## Evaluate OLS model using RMSE\n",
    "print(\" OLS - RMSE \".center(18, \"=\"))\n",
    "print('Trained: ',mean_squared_error(y_train, lr.predict(Z_train))**0.5)\n",
    "print('Tested: ', mean_squared_error(y_test, lr.predict(Z_test))**0.5)\n",
    "print('Dif: ', mean_squared_error(y_train, lr.predict(Z_train))**0.5 - mean_squared_error(y_test, lr.predict(Z_test))**0.5 )\n",
    "print()\n",
    "## Evaluate Ridge model using RMSE\n",
    "print(\" Ridge - RMSE \".center(18, \"=\"))\n",
    "print('Trained: ',mean_squared_error(y_train, ridge_cv.predict(Z_train))**0.5)\n",
    "print('Tested: ', mean_squared_error(y_test, ridge_cv.predict(Z_test))**0.5)\n",
    "print('Dif: ', mean_squared_error(y_train, ridge_cv.predict(Z_train))**0.5 - mean_squared_error(y_test, ridge_cv.predict(Z_test))**0.5 )\n",
    "print()\n",
    "## Evaluate LASSO model using RMSE\n",
    "print(\" LASSO - RMSE \".center(18, \"=\"))\n",
    "print('Trained: ', mean_squared_error(y_train, lasso_cv.predict(Z_train))**0.5)\n",
    "print('Tested: ', mean_squared_error(y_test, lasso_cv.predict(Z_test))**0.5)\n",
    "print('Dif: ', mean_squared_error(y_train, lasso_cv.predict(Z_train))**0.5 - mean_squared_error(y_test, lasso_cv.predict(Z_test))**0.5 )"
   ]
  },
  {
   "cell_type": "raw",
   "id": "ef88745c-54c7-482b-9317-2ec3c8bbab22",
   "metadata": {},
   "source": [
    "A Ridge model adds a penalty to our features which makes it a bit difficult to interpret them"
   ]
  },
  {
   "cell_type": "markdown",
   "id": "b90531b1-304c-4c01-a146-6f6c9c087c5a",
   "metadata": {},
   "source": []
  },
  {
   "cell_type": "markdown",
   "id": "2800c93f-cd71-4ac3-88e6-f3272a1b93fb",
   "metadata": {},
   "source": [
    "## Ridge vs Lasso"
   ]
  },
  {
   "cell_type": "code",
   "execution_count": 43,
   "id": "417b3686-f885-42a0-8324-866dbe219349",
   "metadata": {},
   "outputs": [],
   "source": [
    "##look at the coef"
   ]
  },
  {
   "cell_type": "code",
   "execution_count": 44,
   "id": "b589ddf2-6129-4404-8651-02c8d6449362",
   "metadata": {},
   "outputs": [
    {
     "data": {
      "text/plain": [
       "array([-5.87894369e+03,  2.23461146e+03,  5.55126984e+03,  1.51794124e+04,\n",
       "        5.48145183e+03,  1.30162600e+04,  3.72389118e+03,  3.57835878e+03,\n",
       "        7.13695190e+03, -7.55382205e+02,  6.56361028e+03,  1.00082097e+04,\n",
       "        9.52893057e+03,  1.24294047e+04,  2.58861448e+03, -4.34536841e+03,\n",
       "       -1.47104111e+03,  1.75542944e+03, -2.05991015e+03, -4.13933117e+03,\n",
       "        3.34508578e+03,  5.58297329e+03,  1.91640354e+03,  1.16014751e+03,\n",
       "        1.78741311e+02,  4.12310356e+02, -8.30284294e+02,  2.90620649e+02,\n",
       "        1.07357635e+02,  1.57477344e+03, -8.63541407e+02, -1.24120310e+03,\n",
       "        4.29620205e+03, -1.82034392e+03, -6.85456262e+02, -1.22217581e+02,\n",
       "        6.86661522e+02,  6.89805237e+02, -2.15539155e+03, -3.53773061e+03,\n",
       "        6.04449230e+02, -4.44542391e+03,  1.46551406e+03,  7.37022278e+03,\n",
       "       -2.64841365e+02,  2.85899124e+02, -1.97594688e+03, -2.37904613e+03,\n",
       "        2.32154384e+03,  6.32121217e+03,  8.54420390e+02,  1.71257749e+03,\n",
       "       -1.16997216e+03, -6.49873671e+02,  1.62177348e+03, -3.64794203e+00,\n",
       "        9.65371804e+02,  8.54693191e+02,  1.91210687e+03,  4.76709328e+03])"
      ]
     },
     "execution_count": 44,
     "metadata": {},
     "output_type": "execute_result"
    }
   ],
   "source": [
    "## Check Ridge coefficients\n",
    "ridge_cv.coef_   #ridge has the effect of reducing your coef size"
   ]
  },
  {
   "cell_type": "code",
   "execution_count": null,
   "id": "632c1891-5434-4148-8769-4845e022706c",
   "metadata": {},
   "outputs": [],
   "source": []
  },
  {
   "cell_type": "code",
   "execution_count": 45,
   "id": "211ba46e-b013-4037-9b1a-3b076c7a29c2",
   "metadata": {},
   "outputs": [
    {
     "data": {
      "text/plain": [
       "array([-6.40774013e+03,  2.05442079e+03,  5.71149505e+03,  1.56739322e+04,\n",
       "        5.98210994e+03,  1.51226086e+04,  3.02492045e+03,  3.27384159e+03,\n",
       "        7.16478730e+03, -8.31687763e+02,  6.31340048e+03,  1.73912851e+04,\n",
       "        1.77283302e+04,  4.75709340e+03,  2.58596048e+03, -4.78139630e+03,\n",
       "       -1.00213708e+03,  4.76552349e+02, -6.83484588e+03, -4.53917050e+03,\n",
       "        3.19659688e+03,  5.49875272e+03,  1.80251360e+03,  1.09785885e+03,\n",
       "        1.04830038e+02,  3.10436177e+02, -8.59754471e+02,  7.02226477e+02,\n",
       "        7.45285189e+02,  2.76105791e+03, -6.11474440e+02, -9.76240785e+02,\n",
       "        5.15919000e+03, -9.34926422e+02, -4.10818049e+02, -0.00000000e+00,\n",
       "        2.17866421e+03,  1.23630250e+03, -1.71762976e+03, -2.51513744e+03,\n",
       "        1.01688145e+03, -4.23359128e+03,  1.40121257e+03,  7.78819153e+03,\n",
       "        1.72360164e+03,  1.05684161e+03, -1.33721431e+03, -2.15994288e+03,\n",
       "        2.60329843e+03,  6.49438441e+03,  1.05458473e+03,  1.84167783e+03,\n",
       "       -1.27382317e+03, -7.05142158e+02,  2.07137996e+03, -1.76242707e+01,\n",
       "        1.22721743e+03,  1.75576802e+03,  2.02828434e+03,  9.50863686e+03])"
      ]
     },
     "execution_count": 45,
     "metadata": {},
     "output_type": "execute_result"
    }
   ],
   "source": [
    "## Check LASSO coeffiecients\n",
    "lasso_cv.coef_"
   ]
  },
  {
   "cell_type": "code",
   "execution_count": null,
   "id": "cf6d910f-5fd2-4528-8707-0f76267ab476",
   "metadata": {},
   "outputs": [],
   "source": []
  },
  {
   "cell_type": "code",
   "execution_count": null,
   "id": "37cfc945-eb6e-424d-ad80-6203b0ae32db",
   "metadata": {},
   "outputs": [],
   "source": []
  },
  {
   "cell_type": "code",
   "execution_count": null,
   "id": "a09fb6e5-157d-4283-85ab-e690d107bc30",
   "metadata": {},
   "outputs": [],
   "source": []
  },
  {
   "cell_type": "code",
   "execution_count": null,
   "id": "11cbf1b4-485e-4b7e-9c69-ddf44867afe6",
   "metadata": {},
   "outputs": [],
   "source": []
  },
  {
   "cell_type": "code",
   "execution_count": null,
   "id": "e7f5bc0e-709c-4634-9ad3-8e675ea8bb51",
   "metadata": {},
   "outputs": [],
   "source": []
  },
  {
   "cell_type": "code",
   "execution_count": null,
   "id": "3965e69b-f22e-4024-ac7d-335e63f90f72",
   "metadata": {},
   "outputs": [],
   "source": []
  },
  {
   "cell_type": "code",
   "execution_count": null,
   "id": "4385d2d5-10f0-4d4b-afc8-3f11ef9354cb",
   "metadata": {},
   "outputs": [],
   "source": []
  }
 ],
 "metadata": {
  "kernelspec": {
   "display_name": "Python 3",
   "language": "python",
   "name": "python3"
  },
  "language_info": {
   "codemirror_mode": {
    "name": "ipython",
    "version": 3
   },
   "file_extension": ".py",
   "mimetype": "text/x-python",
   "name": "python",
   "nbconvert_exporter": "python",
   "pygments_lexer": "ipython3",
   "version": "3.8.8"
  }
 },
 "nbformat": 4,
 "nbformat_minor": 5
}
