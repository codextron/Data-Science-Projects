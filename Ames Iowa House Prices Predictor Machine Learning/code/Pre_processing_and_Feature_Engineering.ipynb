{
 "cells": [
  {
   "cell_type": "markdown",
   "id": "815fb3ad-576a-48ec-a02f-815f29bb1c35",
   "metadata": {},
   "source": [
    "# Part 2 Preprocessing and Feature Engineering"
   ]
  },
  {
   "cell_type": "markdown",
   "id": "e9d666b6-eb91-4f45-9ba7-37930f9e2358",
   "metadata": {},
   "source": [
    "#### Pre-processing\n",
    "- One-hot encode categorical variables.\n",
    "- Train/test split your data.\n",
    "- Scale your data.\n",
    "- Consider using automated feature selection.\n",
    "\n",
    "#### Modeling\n",
    "- **Establish your baseline score.**\n",
    "- Fit linear regression. Look at your coefficients. Are any of them wildly overblown?\n",
    "- Fit lasso/ridge/elastic net with default parameters.\n",
    "- Go back and remove features that might be causing issues in your models.\n",
    "- Tune hyperparameters.\n",
    "- **Identify a production model.** (This does not have to be your best performing Kaggle model, but rather the model that best answers your problem statement.)\n",
    "- Refine and interpret your production model."
   ]
  },
  {
   "cell_type": "code",
   "execution_count": null,
   "id": "eabbf316-835d-4a77-b776-d7292845aa30",
   "metadata": {},
   "outputs": [],
   "source": [
    "#=========================================================================\n",
    "#\n",
    "#  NOTE: I SEPARATED MY REGRESSION TESTING. LINEAR IS ON THIS FILE\n",
    "#            lASSO AND RIDGE ARE BOTH TOGETHER IN A SEPARATE FILE\n",
    "#             I DO MY KAGGLE SUBMISSION ALSO ON THIS FILE\n",
    "#========================================================================="
   ]
  },
  {
   "cell_type": "code",
   "execution_count": null,
   "id": "d388ac01-f0cc-4397-a07b-1143fc7943e6",
   "metadata": {},
   "outputs": [],
   "source": []
  },
  {
   "cell_type": "code",
   "execution_count": 1,
   "id": "26f14df1-808d-4d04-8088-a09d1f8c991d",
   "metadata": {},
   "outputs": [],
   "source": [
    "import pandas as pd\n",
    "import numpy as np\n",
    "import matplotlib.pyplot as plt\n",
    "import seaborn as sns\n",
    "sns.set_style('darkgrid')\n",
    "\n",
    "from sklearn.linear_model import LinearRegression\n",
    "from sklearn.model_selection import train_test_split\n",
    "from sklearn.metrics import mean_squared_error\n",
    "from sklearn.preprocessing import PolynomialFeatures, StandardScaler"
   ]
  },
  {
   "cell_type": "code",
   "execution_count": 2,
   "id": "fa14c961-e80a-449e-8f7f-ff3ac94b17b4",
   "metadata": {},
   "outputs": [],
   "source": [
    "train_df = pd.read_csv('../datasets/train_v2.csv')\n",
    "test_df = pd.read_csv('../datasets/test_v2.csv')"
   ]
  },
  {
   "cell_type": "code",
   "execution_count": 3,
   "id": "b3790a40-0d36-4acb-94d0-9d3b92431e2f",
   "metadata": {},
   "outputs": [],
   "source": [
    "train_df.set_index('id', inplace= True)\n",
    "test_df.set_index('id', inplace= True)"
   ]
  },
  {
   "cell_type": "code",
   "execution_count": 4,
   "id": "0a1559de-6ebe-48e6-a45e-355ae619a524",
   "metadata": {},
   "outputs": [
    {
     "data": {
      "text/html": [
       "<div>\n",
       "<style scoped>\n",
       "    .dataframe tbody tr th:only-of-type {\n",
       "        vertical-align: middle;\n",
       "    }\n",
       "\n",
       "    .dataframe tbody tr th {\n",
       "        vertical-align: top;\n",
       "    }\n",
       "\n",
       "    .dataframe thead th {\n",
       "        text-align: right;\n",
       "    }\n",
       "</style>\n",
       "<table border=\"1\" class=\"dataframe\">\n",
       "  <thead>\n",
       "    <tr style=\"text-align: right;\">\n",
       "      <th></th>\n",
       "      <th>pid</th>\n",
       "      <th>ms_subclass</th>\n",
       "      <th>ms_zoning</th>\n",
       "      <th>lot_frontage</th>\n",
       "      <th>lot_area</th>\n",
       "      <th>street</th>\n",
       "      <th>alley</th>\n",
       "      <th>lot_shape</th>\n",
       "      <th>land_contour</th>\n",
       "      <th>utilities</th>\n",
       "      <th>...</th>\n",
       "      <th>screen_porch</th>\n",
       "      <th>pool_area</th>\n",
       "      <th>pool_qc</th>\n",
       "      <th>fence</th>\n",
       "      <th>misc_feature</th>\n",
       "      <th>misc_val</th>\n",
       "      <th>mo_sold</th>\n",
       "      <th>yr_sold</th>\n",
       "      <th>sale_type</th>\n",
       "      <th>saleprice</th>\n",
       "    </tr>\n",
       "    <tr>\n",
       "      <th>id</th>\n",
       "      <th></th>\n",
       "      <th></th>\n",
       "      <th></th>\n",
       "      <th></th>\n",
       "      <th></th>\n",
       "      <th></th>\n",
       "      <th></th>\n",
       "      <th></th>\n",
       "      <th></th>\n",
       "      <th></th>\n",
       "      <th></th>\n",
       "      <th></th>\n",
       "      <th></th>\n",
       "      <th></th>\n",
       "      <th></th>\n",
       "      <th></th>\n",
       "      <th></th>\n",
       "      <th></th>\n",
       "      <th></th>\n",
       "      <th></th>\n",
       "      <th></th>\n",
       "    </tr>\n",
       "  </thead>\n",
       "  <tbody>\n",
       "    <tr>\n",
       "      <th>544</th>\n",
       "      <td>531379050</td>\n",
       "      <td>60</td>\n",
       "      <td>RL</td>\n",
       "      <td>43.0</td>\n",
       "      <td>11492</td>\n",
       "      <td>Pave</td>\n",
       "      <td>NoAccess</td>\n",
       "      <td>IR1</td>\n",
       "      <td>Lvl</td>\n",
       "      <td>AllPub</td>\n",
       "      <td>...</td>\n",
       "      <td>0</td>\n",
       "      <td>0</td>\n",
       "      <td>NoPool</td>\n",
       "      <td>NoFence</td>\n",
       "      <td>No_Misc</td>\n",
       "      <td>0</td>\n",
       "      <td>4</td>\n",
       "      <td>2009</td>\n",
       "      <td>WD</td>\n",
       "      <td>220000</td>\n",
       "    </tr>\n",
       "    <tr>\n",
       "      <th>153</th>\n",
       "      <td>535304180</td>\n",
       "      <td>20</td>\n",
       "      <td>RL</td>\n",
       "      <td>68.0</td>\n",
       "      <td>7922</td>\n",
       "      <td>Pave</td>\n",
       "      <td>NoAccess</td>\n",
       "      <td>Reg</td>\n",
       "      <td>Lvl</td>\n",
       "      <td>AllPub</td>\n",
       "      <td>...</td>\n",
       "      <td>0</td>\n",
       "      <td>0</td>\n",
       "      <td>NoPool</td>\n",
       "      <td>NoFence</td>\n",
       "      <td>No_Misc</td>\n",
       "      <td>0</td>\n",
       "      <td>1</td>\n",
       "      <td>2010</td>\n",
       "      <td>WD</td>\n",
       "      <td>109000</td>\n",
       "    </tr>\n",
       "    <tr>\n",
       "      <th>318</th>\n",
       "      <td>916386060</td>\n",
       "      <td>60</td>\n",
       "      <td>RL</td>\n",
       "      <td>73.0</td>\n",
       "      <td>9802</td>\n",
       "      <td>Pave</td>\n",
       "      <td>NoAccess</td>\n",
       "      <td>Reg</td>\n",
       "      <td>Lvl</td>\n",
       "      <td>AllPub</td>\n",
       "      <td>...</td>\n",
       "      <td>0</td>\n",
       "      <td>0</td>\n",
       "      <td>NoPool</td>\n",
       "      <td>NoFence</td>\n",
       "      <td>No_Misc</td>\n",
       "      <td>0</td>\n",
       "      <td>4</td>\n",
       "      <td>2010</td>\n",
       "      <td>WD</td>\n",
       "      <td>174000</td>\n",
       "    </tr>\n",
       "    <tr>\n",
       "      <th>255</th>\n",
       "      <td>906425045</td>\n",
       "      <td>50</td>\n",
       "      <td>RL</td>\n",
       "      <td>82.0</td>\n",
       "      <td>14235</td>\n",
       "      <td>Pave</td>\n",
       "      <td>NoAccess</td>\n",
       "      <td>IR1</td>\n",
       "      <td>Lvl</td>\n",
       "      <td>AllPub</td>\n",
       "      <td>...</td>\n",
       "      <td>0</td>\n",
       "      <td>0</td>\n",
       "      <td>NoPool</td>\n",
       "      <td>NoFence</td>\n",
       "      <td>No_Misc</td>\n",
       "      <td>0</td>\n",
       "      <td>3</td>\n",
       "      <td>2010</td>\n",
       "      <td>WD</td>\n",
       "      <td>138500</td>\n",
       "    </tr>\n",
       "    <tr>\n",
       "      <th>138</th>\n",
       "      <td>535126040</td>\n",
       "      <td>20</td>\n",
       "      <td>RL</td>\n",
       "      <td>137.0</td>\n",
       "      <td>16492</td>\n",
       "      <td>Pave</td>\n",
       "      <td>NoAccess</td>\n",
       "      <td>IR1</td>\n",
       "      <td>Lvl</td>\n",
       "      <td>AllPub</td>\n",
       "      <td>...</td>\n",
       "      <td>0</td>\n",
       "      <td>0</td>\n",
       "      <td>NoPool</td>\n",
       "      <td>NoFence</td>\n",
       "      <td>No_Misc</td>\n",
       "      <td>0</td>\n",
       "      <td>6</td>\n",
       "      <td>2010</td>\n",
       "      <td>WD</td>\n",
       "      <td>190000</td>\n",
       "    </tr>\n",
       "  </tbody>\n",
       "</table>\n",
       "<p>5 rows × 80 columns</p>\n",
       "</div>"
      ],
      "text/plain": [
       "           pid  ms_subclass ms_zoning  lot_frontage  lot_area street  \\\n",
       "id                                                                     \n",
       "544  531379050           60        RL          43.0     11492   Pave   \n",
       "153  535304180           20        RL          68.0      7922   Pave   \n",
       "318  916386060           60        RL          73.0      9802   Pave   \n",
       "255  906425045           50        RL          82.0     14235   Pave   \n",
       "138  535126040           20        RL         137.0     16492   Pave   \n",
       "\n",
       "        alley lot_shape land_contour utilities  ... screen_porch pool_area  \\\n",
       "id                                              ...                          \n",
       "544  NoAccess       IR1          Lvl    AllPub  ...            0         0   \n",
       "153  NoAccess       Reg          Lvl    AllPub  ...            0         0   \n",
       "318  NoAccess       Reg          Lvl    AllPub  ...            0         0   \n",
       "255  NoAccess       IR1          Lvl    AllPub  ...            0         0   \n",
       "138  NoAccess       IR1          Lvl    AllPub  ...            0         0   \n",
       "\n",
       "    pool_qc    fence misc_feature misc_val mo_sold  yr_sold  sale_type  \\\n",
       "id                                                                       \n",
       "544  NoPool  NoFence      No_Misc        0       4     2009        WD    \n",
       "153  NoPool  NoFence      No_Misc        0       1     2010        WD    \n",
       "318  NoPool  NoFence      No_Misc        0       4     2010        WD    \n",
       "255  NoPool  NoFence      No_Misc        0       3     2010        WD    \n",
       "138  NoPool  NoFence      No_Misc        0       6     2010        WD    \n",
       "\n",
       "     saleprice  \n",
       "id              \n",
       "544     220000  \n",
       "153     109000  \n",
       "318     174000  \n",
       "255     138500  \n",
       "138     190000  \n",
       "\n",
       "[5 rows x 80 columns]"
      ]
     },
     "execution_count": 4,
     "metadata": {},
     "output_type": "execute_result"
    }
   ],
   "source": [
    "train_df.head()"
   ]
  },
  {
   "cell_type": "code",
   "execution_count": 5,
   "id": "47b1f67f-7076-4a33-be53-e0b5f1d7fcea",
   "metadata": {},
   "outputs": [
    {
     "data": {
      "text/html": [
       "<div>\n",
       "<style scoped>\n",
       "    .dataframe tbody tr th:only-of-type {\n",
       "        vertical-align: middle;\n",
       "    }\n",
       "\n",
       "    .dataframe tbody tr th {\n",
       "        vertical-align: top;\n",
       "    }\n",
       "\n",
       "    .dataframe thead th {\n",
       "        text-align: right;\n",
       "    }\n",
       "</style>\n",
       "<table border=\"1\" class=\"dataframe\">\n",
       "  <thead>\n",
       "    <tr style=\"text-align: right;\">\n",
       "      <th></th>\n",
       "      <th>pid</th>\n",
       "      <th>ms_subclass</th>\n",
       "      <th>ms_zoning</th>\n",
       "      <th>lot_frontage</th>\n",
       "      <th>lot_area</th>\n",
       "      <th>street</th>\n",
       "      <th>alley</th>\n",
       "      <th>lot_shape</th>\n",
       "      <th>land_contour</th>\n",
       "      <th>utilities</th>\n",
       "      <th>...</th>\n",
       "      <th>screen_porch</th>\n",
       "      <th>pool_area</th>\n",
       "      <th>pool_qc</th>\n",
       "      <th>fence</th>\n",
       "      <th>misc_feature</th>\n",
       "      <th>misc_val</th>\n",
       "      <th>mo_sold</th>\n",
       "      <th>yr_sold</th>\n",
       "      <th>sale_type</th>\n",
       "      <th>saleprice</th>\n",
       "    </tr>\n",
       "    <tr>\n",
       "      <th>id</th>\n",
       "      <th></th>\n",
       "      <th></th>\n",
       "      <th></th>\n",
       "      <th></th>\n",
       "      <th></th>\n",
       "      <th></th>\n",
       "      <th></th>\n",
       "      <th></th>\n",
       "      <th></th>\n",
       "      <th></th>\n",
       "      <th></th>\n",
       "      <th></th>\n",
       "      <th></th>\n",
       "      <th></th>\n",
       "      <th></th>\n",
       "      <th></th>\n",
       "      <th></th>\n",
       "      <th></th>\n",
       "      <th></th>\n",
       "      <th></th>\n",
       "      <th></th>\n",
       "    </tr>\n",
       "  </thead>\n",
       "  <tbody>\n",
       "    <tr>\n",
       "      <th>182</th>\n",
       "      <td>902207130</td>\n",
       "      <td>30</td>\n",
       "      <td>RM</td>\n",
       "      <td>68.0</td>\n",
       "      <td>9656</td>\n",
       "      <td>Pave</td>\n",
       "      <td>NoAccess</td>\n",
       "      <td>Reg</td>\n",
       "      <td>Lvl</td>\n",
       "      <td>AllPub</td>\n",
       "      <td>...</td>\n",
       "      <td>0</td>\n",
       "      <td>0</td>\n",
       "      <td>NoPool</td>\n",
       "      <td>NoFence</td>\n",
       "      <td>No_Misc</td>\n",
       "      <td>0</td>\n",
       "      <td>6</td>\n",
       "      <td>2010</td>\n",
       "      <td>WD</td>\n",
       "      <td>12789</td>\n",
       "    </tr>\n",
       "    <tr>\n",
       "      <th>1554</th>\n",
       "      <td>910251050</td>\n",
       "      <td>20</td>\n",
       "      <td>A (agr)</td>\n",
       "      <td>80.0</td>\n",
       "      <td>14584</td>\n",
       "      <td>Pave</td>\n",
       "      <td>NoAccess</td>\n",
       "      <td>Reg</td>\n",
       "      <td>Low</td>\n",
       "      <td>AllPub</td>\n",
       "      <td>...</td>\n",
       "      <td>0</td>\n",
       "      <td>0</td>\n",
       "      <td>NoPool</td>\n",
       "      <td>NoFence</td>\n",
       "      <td>No_Misc</td>\n",
       "      <td>0</td>\n",
       "      <td>2</td>\n",
       "      <td>2008</td>\n",
       "      <td>WD</td>\n",
       "      <td>13100</td>\n",
       "    </tr>\n",
       "    <tr>\n",
       "      <th>727</th>\n",
       "      <td>902477120</td>\n",
       "      <td>30</td>\n",
       "      <td>C (all)</td>\n",
       "      <td>60.0</td>\n",
       "      <td>7879</td>\n",
       "      <td>Pave</td>\n",
       "      <td>NoAccess</td>\n",
       "      <td>Reg</td>\n",
       "      <td>Lvl</td>\n",
       "      <td>AllPub</td>\n",
       "      <td>...</td>\n",
       "      <td>0</td>\n",
       "      <td>0</td>\n",
       "      <td>NoPool</td>\n",
       "      <td>GdWo</td>\n",
       "      <td>No_Misc</td>\n",
       "      <td>0</td>\n",
       "      <td>11</td>\n",
       "      <td>2009</td>\n",
       "      <td>WD</td>\n",
       "      <td>34900</td>\n",
       "    </tr>\n",
       "    <tr>\n",
       "      <th>2844</th>\n",
       "      <td>909101330</td>\n",
       "      <td>30</td>\n",
       "      <td>RL</td>\n",
       "      <td>60.0</td>\n",
       "      <td>8088</td>\n",
       "      <td>Pave</td>\n",
       "      <td>Grvl</td>\n",
       "      <td>Reg</td>\n",
       "      <td>Lvl</td>\n",
       "      <td>AllPub</td>\n",
       "      <td>...</td>\n",
       "      <td>0</td>\n",
       "      <td>0</td>\n",
       "      <td>NoPool</td>\n",
       "      <td>NoFence</td>\n",
       "      <td>No_Misc</td>\n",
       "      <td>0</td>\n",
       "      <td>2</td>\n",
       "      <td>2006</td>\n",
       "      <td>ConLD</td>\n",
       "      <td>35000</td>\n",
       "    </tr>\n",
       "    <tr>\n",
       "      <th>2881</th>\n",
       "      <td>911175430</td>\n",
       "      <td>20</td>\n",
       "      <td>C (all)</td>\n",
       "      <td>50.0</td>\n",
       "      <td>9000</td>\n",
       "      <td>Pave</td>\n",
       "      <td>NoAccess</td>\n",
       "      <td>Reg</td>\n",
       "      <td>Lvl</td>\n",
       "      <td>AllPub</td>\n",
       "      <td>...</td>\n",
       "      <td>0</td>\n",
       "      <td>0</td>\n",
       "      <td>NoPool</td>\n",
       "      <td>NoFence</td>\n",
       "      <td>No_Misc</td>\n",
       "      <td>0</td>\n",
       "      <td>10</td>\n",
       "      <td>2006</td>\n",
       "      <td>WD</td>\n",
       "      <td>35311</td>\n",
       "    </tr>\n",
       "    <tr>\n",
       "      <th>...</th>\n",
       "      <td>...</td>\n",
       "      <td>...</td>\n",
       "      <td>...</td>\n",
       "      <td>...</td>\n",
       "      <td>...</td>\n",
       "      <td>...</td>\n",
       "      <td>...</td>\n",
       "      <td>...</td>\n",
       "      <td>...</td>\n",
       "      <td>...</td>\n",
       "      <td>...</td>\n",
       "      <td>...</td>\n",
       "      <td>...</td>\n",
       "      <td>...</td>\n",
       "      <td>...</td>\n",
       "      <td>...</td>\n",
       "      <td>...</td>\n",
       "      <td>...</td>\n",
       "      <td>...</td>\n",
       "      <td>...</td>\n",
       "      <td>...</td>\n",
       "    </tr>\n",
       "    <tr>\n",
       "      <th>1060</th>\n",
       "      <td>528118090</td>\n",
       "      <td>60</td>\n",
       "      <td>RL</td>\n",
       "      <td>96.0</td>\n",
       "      <td>12539</td>\n",
       "      <td>Pave</td>\n",
       "      <td>NoAccess</td>\n",
       "      <td>Reg</td>\n",
       "      <td>Lvl</td>\n",
       "      <td>AllPub</td>\n",
       "      <td>...</td>\n",
       "      <td>192</td>\n",
       "      <td>0</td>\n",
       "      <td>NoPool</td>\n",
       "      <td>NoFence</td>\n",
       "      <td>No_Misc</td>\n",
       "      <td>0</td>\n",
       "      <td>6</td>\n",
       "      <td>2008</td>\n",
       "      <td>WD</td>\n",
       "      <td>460000</td>\n",
       "    </tr>\n",
       "    <tr>\n",
       "      <th>514</th>\n",
       "      <td>528441090</td>\n",
       "      <td>20</td>\n",
       "      <td>RL</td>\n",
       "      <td>85.0</td>\n",
       "      <td>11128</td>\n",
       "      <td>Pave</td>\n",
       "      <td>NoAccess</td>\n",
       "      <td>Reg</td>\n",
       "      <td>Lvl</td>\n",
       "      <td>AllPub</td>\n",
       "      <td>...</td>\n",
       "      <td>0</td>\n",
       "      <td>0</td>\n",
       "      <td>NoPool</td>\n",
       "      <td>GdPrv</td>\n",
       "      <td>No_Misc</td>\n",
       "      <td>0</td>\n",
       "      <td>10</td>\n",
       "      <td>2009</td>\n",
       "      <td>WD</td>\n",
       "      <td>468000</td>\n",
       "    </tr>\n",
       "    <tr>\n",
       "      <th>2667</th>\n",
       "      <td>902400110</td>\n",
       "      <td>75</td>\n",
       "      <td>RM</td>\n",
       "      <td>90.0</td>\n",
       "      <td>22950</td>\n",
       "      <td>Pave</td>\n",
       "      <td>NoAccess</td>\n",
       "      <td>IR2</td>\n",
       "      <td>Lvl</td>\n",
       "      <td>AllPub</td>\n",
       "      <td>...</td>\n",
       "      <td>410</td>\n",
       "      <td>0</td>\n",
       "      <td>NoPool</td>\n",
       "      <td>GdPrv</td>\n",
       "      <td>No_Misc</td>\n",
       "      <td>0</td>\n",
       "      <td>6</td>\n",
       "      <td>2006</td>\n",
       "      <td>WD</td>\n",
       "      <td>475000</td>\n",
       "    </tr>\n",
       "    <tr>\n",
       "      <th>1426</th>\n",
       "      <td>906412010</td>\n",
       "      <td>20</td>\n",
       "      <td>RL</td>\n",
       "      <td>91.0</td>\n",
       "      <td>11778</td>\n",
       "      <td>Pave</td>\n",
       "      <td>NoAccess</td>\n",
       "      <td>Reg</td>\n",
       "      <td>Lvl</td>\n",
       "      <td>AllPub</td>\n",
       "      <td>...</td>\n",
       "      <td>255</td>\n",
       "      <td>0</td>\n",
       "      <td>NoPool</td>\n",
       "      <td>NoFence</td>\n",
       "      <td>No_Misc</td>\n",
       "      <td>0</td>\n",
       "      <td>6</td>\n",
       "      <td>2008</td>\n",
       "      <td>WD</td>\n",
       "      <td>475000</td>\n",
       "    </tr>\n",
       "    <tr>\n",
       "      <th>423</th>\n",
       "      <td>528104070</td>\n",
       "      <td>60</td>\n",
       "      <td>RL</td>\n",
       "      <td>104.0</td>\n",
       "      <td>13518</td>\n",
       "      <td>Pave</td>\n",
       "      <td>NoAccess</td>\n",
       "      <td>Reg</td>\n",
       "      <td>Lvl</td>\n",
       "      <td>AllPub</td>\n",
       "      <td>...</td>\n",
       "      <td>0</td>\n",
       "      <td>0</td>\n",
       "      <td>NoPool</td>\n",
       "      <td>NoFence</td>\n",
       "      <td>No_Misc</td>\n",
       "      <td>0</td>\n",
       "      <td>7</td>\n",
       "      <td>2009</td>\n",
       "      <td>New</td>\n",
       "      <td>485000</td>\n",
       "    </tr>\n",
       "  </tbody>\n",
       "</table>\n",
       "<p>1677 rows × 80 columns</p>\n",
       "</div>"
      ],
      "text/plain": [
       "            pid  ms_subclass ms_zoning  lot_frontage  lot_area street  \\\n",
       "id                                                                      \n",
       "182   902207130           30        RM          68.0      9656   Pave   \n",
       "1554  910251050           20   A (agr)          80.0     14584   Pave   \n",
       "727   902477120           30   C (all)          60.0      7879   Pave   \n",
       "2844  909101330           30        RL          60.0      8088   Pave   \n",
       "2881  911175430           20   C (all)          50.0      9000   Pave   \n",
       "...         ...          ...       ...           ...       ...    ...   \n",
       "1060  528118090           60        RL          96.0     12539   Pave   \n",
       "514   528441090           20        RL          85.0     11128   Pave   \n",
       "2667  902400110           75        RM          90.0     22950   Pave   \n",
       "1426  906412010           20        RL          91.0     11778   Pave   \n",
       "423   528104070           60        RL         104.0     13518   Pave   \n",
       "\n",
       "         alley lot_shape land_contour utilities  ... screen_porch pool_area  \\\n",
       "id                                               ...                          \n",
       "182   NoAccess       Reg          Lvl    AllPub  ...            0         0   \n",
       "1554  NoAccess       Reg          Low    AllPub  ...            0         0   \n",
       "727   NoAccess       Reg          Lvl    AllPub  ...            0         0   \n",
       "2844      Grvl       Reg          Lvl    AllPub  ...            0         0   \n",
       "2881  NoAccess       Reg          Lvl    AllPub  ...            0         0   \n",
       "...        ...       ...          ...       ...  ...          ...       ...   \n",
       "1060  NoAccess       Reg          Lvl    AllPub  ...          192         0   \n",
       "514   NoAccess       Reg          Lvl    AllPub  ...            0         0   \n",
       "2667  NoAccess       IR2          Lvl    AllPub  ...          410         0   \n",
       "1426  NoAccess       Reg          Lvl    AllPub  ...          255         0   \n",
       "423   NoAccess       Reg          Lvl    AllPub  ...            0         0   \n",
       "\n",
       "     pool_qc    fence misc_feature misc_val mo_sold  yr_sold  sale_type  \\\n",
       "id                                                                        \n",
       "182   NoPool  NoFence      No_Misc        0       6     2010        WD    \n",
       "1554  NoPool  NoFence      No_Misc        0       2     2008        WD    \n",
       "727   NoPool     GdWo      No_Misc        0      11     2009        WD    \n",
       "2844  NoPool  NoFence      No_Misc        0       2     2006      ConLD   \n",
       "2881  NoPool  NoFence      No_Misc        0      10     2006        WD    \n",
       "...      ...      ...          ...      ...     ...      ...        ...   \n",
       "1060  NoPool  NoFence      No_Misc        0       6     2008        WD    \n",
       "514   NoPool    GdPrv      No_Misc        0      10     2009        WD    \n",
       "2667  NoPool    GdPrv      No_Misc        0       6     2006        WD    \n",
       "1426  NoPool  NoFence      No_Misc        0       6     2008        WD    \n",
       "423   NoPool  NoFence      No_Misc        0       7     2009        New   \n",
       "\n",
       "      saleprice  \n",
       "id               \n",
       "182       12789  \n",
       "1554      13100  \n",
       "727       34900  \n",
       "2844      35000  \n",
       "2881      35311  \n",
       "...         ...  \n",
       "1060     460000  \n",
       "514      468000  \n",
       "2667     475000  \n",
       "1426     475000  \n",
       "423      485000  \n",
       "\n",
       "[1677 rows x 80 columns]"
      ]
     },
     "execution_count": 5,
     "metadata": {},
     "output_type": "execute_result"
    }
   ],
   "source": [
    "train_df.sort_values(by='saleprice')"
   ]
  },
  {
   "cell_type": "code",
   "execution_count": 6,
   "id": "31366465-152a-49ef-9792-d6cdd9537e70",
   "metadata": {},
   "outputs": [
    {
     "data": {
      "text/html": [
       "<div>\n",
       "<style scoped>\n",
       "    .dataframe tbody tr th:only-of-type {\n",
       "        vertical-align: middle;\n",
       "    }\n",
       "\n",
       "    .dataframe tbody tr th {\n",
       "        vertical-align: top;\n",
       "    }\n",
       "\n",
       "    .dataframe thead th {\n",
       "        text-align: right;\n",
       "    }\n",
       "</style>\n",
       "<table border=\"1\" class=\"dataframe\">\n",
       "  <thead>\n",
       "    <tr style=\"text-align: right;\">\n",
       "      <th></th>\n",
       "      <th>pid</th>\n",
       "      <th>ms_subclass</th>\n",
       "      <th>ms_zoning</th>\n",
       "      <th>lot_frontage</th>\n",
       "      <th>lot_area</th>\n",
       "      <th>street</th>\n",
       "      <th>alley</th>\n",
       "      <th>lot_shape</th>\n",
       "      <th>land_contour</th>\n",
       "      <th>utilities</th>\n",
       "      <th>...</th>\n",
       "      <th>3ssn_porch</th>\n",
       "      <th>screen_porch</th>\n",
       "      <th>pool_area</th>\n",
       "      <th>pool_qc</th>\n",
       "      <th>fence</th>\n",
       "      <th>misc_feature</th>\n",
       "      <th>misc_val</th>\n",
       "      <th>mo_sold</th>\n",
       "      <th>yr_sold</th>\n",
       "      <th>sale_type</th>\n",
       "    </tr>\n",
       "    <tr>\n",
       "      <th>id</th>\n",
       "      <th></th>\n",
       "      <th></th>\n",
       "      <th></th>\n",
       "      <th></th>\n",
       "      <th></th>\n",
       "      <th></th>\n",
       "      <th></th>\n",
       "      <th></th>\n",
       "      <th></th>\n",
       "      <th></th>\n",
       "      <th></th>\n",
       "      <th></th>\n",
       "      <th></th>\n",
       "      <th></th>\n",
       "      <th></th>\n",
       "      <th></th>\n",
       "      <th></th>\n",
       "      <th></th>\n",
       "      <th></th>\n",
       "      <th></th>\n",
       "      <th></th>\n",
       "    </tr>\n",
       "  </thead>\n",
       "  <tbody>\n",
       "    <tr>\n",
       "      <th>2658</th>\n",
       "      <td>902301120</td>\n",
       "      <td>190</td>\n",
       "      <td>RM</td>\n",
       "      <td>69.000000</td>\n",
       "      <td>9142</td>\n",
       "      <td>Pave</td>\n",
       "      <td>Grvl</td>\n",
       "      <td>Reg</td>\n",
       "      <td>Lvl</td>\n",
       "      <td>AllPub</td>\n",
       "      <td>...</td>\n",
       "      <td>0</td>\n",
       "      <td>0</td>\n",
       "      <td>0</td>\n",
       "      <td>NoPool</td>\n",
       "      <td>NoFence</td>\n",
       "      <td>No_Misc</td>\n",
       "      <td>0</td>\n",
       "      <td>4</td>\n",
       "      <td>2006</td>\n",
       "      <td>WD</td>\n",
       "    </tr>\n",
       "    <tr>\n",
       "      <th>2718</th>\n",
       "      <td>905108090</td>\n",
       "      <td>90</td>\n",
       "      <td>RL</td>\n",
       "      <td>69.545961</td>\n",
       "      <td>9662</td>\n",
       "      <td>Pave</td>\n",
       "      <td>NoAccess</td>\n",
       "      <td>IR1</td>\n",
       "      <td>Lvl</td>\n",
       "      <td>AllPub</td>\n",
       "      <td>...</td>\n",
       "      <td>0</td>\n",
       "      <td>0</td>\n",
       "      <td>0</td>\n",
       "      <td>NoPool</td>\n",
       "      <td>NoFence</td>\n",
       "      <td>No_Misc</td>\n",
       "      <td>0</td>\n",
       "      <td>8</td>\n",
       "      <td>2006</td>\n",
       "      <td>WD</td>\n",
       "    </tr>\n",
       "    <tr>\n",
       "      <th>2414</th>\n",
       "      <td>528218130</td>\n",
       "      <td>60</td>\n",
       "      <td>RL</td>\n",
       "      <td>58.000000</td>\n",
       "      <td>17104</td>\n",
       "      <td>Pave</td>\n",
       "      <td>NoAccess</td>\n",
       "      <td>IR1</td>\n",
       "      <td>Lvl</td>\n",
       "      <td>AllPub</td>\n",
       "      <td>...</td>\n",
       "      <td>0</td>\n",
       "      <td>0</td>\n",
       "      <td>0</td>\n",
       "      <td>NoPool</td>\n",
       "      <td>NoFence</td>\n",
       "      <td>No_Misc</td>\n",
       "      <td>0</td>\n",
       "      <td>9</td>\n",
       "      <td>2006</td>\n",
       "      <td>New</td>\n",
       "    </tr>\n",
       "    <tr>\n",
       "      <th>1989</th>\n",
       "      <td>902207150</td>\n",
       "      <td>30</td>\n",
       "      <td>RM</td>\n",
       "      <td>60.000000</td>\n",
       "      <td>8520</td>\n",
       "      <td>Pave</td>\n",
       "      <td>NoAccess</td>\n",
       "      <td>Reg</td>\n",
       "      <td>Lvl</td>\n",
       "      <td>AllPub</td>\n",
       "      <td>...</td>\n",
       "      <td>0</td>\n",
       "      <td>0</td>\n",
       "      <td>0</td>\n",
       "      <td>NoPool</td>\n",
       "      <td>NoFence</td>\n",
       "      <td>No_Misc</td>\n",
       "      <td>0</td>\n",
       "      <td>7</td>\n",
       "      <td>2007</td>\n",
       "      <td>WD</td>\n",
       "    </tr>\n",
       "    <tr>\n",
       "      <th>625</th>\n",
       "      <td>535105100</td>\n",
       "      <td>20</td>\n",
       "      <td>RL</td>\n",
       "      <td>69.545961</td>\n",
       "      <td>9500</td>\n",
       "      <td>Pave</td>\n",
       "      <td>NoAccess</td>\n",
       "      <td>IR1</td>\n",
       "      <td>Lvl</td>\n",
       "      <td>AllPub</td>\n",
       "      <td>...</td>\n",
       "      <td>0</td>\n",
       "      <td>185</td>\n",
       "      <td>0</td>\n",
       "      <td>NoPool</td>\n",
       "      <td>NoFence</td>\n",
       "      <td>No_Misc</td>\n",
       "      <td>0</td>\n",
       "      <td>7</td>\n",
       "      <td>2009</td>\n",
       "      <td>WD</td>\n",
       "    </tr>\n",
       "  </tbody>\n",
       "</table>\n",
       "<p>5 rows × 79 columns</p>\n",
       "</div>"
      ],
      "text/plain": [
       "            pid  ms_subclass ms_zoning  lot_frontage  lot_area street  \\\n",
       "id                                                                      \n",
       "2658  902301120          190        RM     69.000000      9142   Pave   \n",
       "2718  905108090           90        RL     69.545961      9662   Pave   \n",
       "2414  528218130           60        RL     58.000000     17104   Pave   \n",
       "1989  902207150           30        RM     60.000000      8520   Pave   \n",
       "625   535105100           20        RL     69.545961      9500   Pave   \n",
       "\n",
       "         alley lot_shape land_contour utilities  ... 3ssn_porch screen_porch  \\\n",
       "id                                               ...                           \n",
       "2658      Grvl       Reg          Lvl    AllPub  ...          0            0   \n",
       "2718  NoAccess       IR1          Lvl    AllPub  ...          0            0   \n",
       "2414  NoAccess       IR1          Lvl    AllPub  ...          0            0   \n",
       "1989  NoAccess       Reg          Lvl    AllPub  ...          0            0   \n",
       "625   NoAccess       IR1          Lvl    AllPub  ...          0          185   \n",
       "\n",
       "     pool_area pool_qc    fence misc_feature misc_val  mo_sold  yr_sold  \\\n",
       "id                                                                        \n",
       "2658         0  NoPool  NoFence      No_Misc        0        4     2006   \n",
       "2718         0  NoPool  NoFence      No_Misc        0        8     2006   \n",
       "2414         0  NoPool  NoFence      No_Misc        0        9     2006   \n",
       "1989         0  NoPool  NoFence      No_Misc        0        7     2007   \n",
       "625          0  NoPool  NoFence      No_Misc        0        7     2009   \n",
       "\n",
       "      sale_type  \n",
       "id               \n",
       "2658        WD   \n",
       "2718        WD   \n",
       "2414        New  \n",
       "1989        WD   \n",
       "625         WD   \n",
       "\n",
       "[5 rows x 79 columns]"
      ]
     },
     "execution_count": 6,
     "metadata": {},
     "output_type": "execute_result"
    }
   ],
   "source": [
    "test_df.head()"
   ]
  },
  {
   "cell_type": "code",
   "execution_count": 7,
   "id": "afd06d76-7290-4150-9e42-f5807b136fcf",
   "metadata": {},
   "outputs": [
    {
     "name": "stdout",
     "output_type": "stream",
     "text": [
      "<class 'pandas.core.frame.DataFrame'>\n",
      "Int64Index: 1677 entries, 544 to 10\n",
      "Data columns (total 80 columns):\n",
      " #   Column           Non-Null Count  Dtype  \n",
      "---  ------           --------------  -----  \n",
      " 0   pid              1677 non-null   int64  \n",
      " 1   ms_subclass      1677 non-null   int64  \n",
      " 2   ms_zoning        1677 non-null   object \n",
      " 3   lot_frontage     1677 non-null   float64\n",
      " 4   lot_area         1677 non-null   int64  \n",
      " 5   street           1677 non-null   object \n",
      " 6   alley            1677 non-null   object \n",
      " 7   lot_shape        1677 non-null   object \n",
      " 8   land_contour     1677 non-null   object \n",
      " 9   utilities        1677 non-null   object \n",
      " 10  lot_config       1677 non-null   object \n",
      " 11  land_slope       1677 non-null   object \n",
      " 12  neighborhood     1677 non-null   object \n",
      " 13  condition_1      1677 non-null   object \n",
      " 14  condition_2      1677 non-null   object \n",
      " 15  bldg_type        1677 non-null   object \n",
      " 16  house_style      1677 non-null   object \n",
      " 17  overall_qual     1677 non-null   int64  \n",
      " 18  overall_cond     1677 non-null   int64  \n",
      " 19  year_built       1677 non-null   int64  \n",
      " 20  year_remod/add   1677 non-null   int64  \n",
      " 21  roof_style       1677 non-null   object \n",
      " 22  roof_matl        1677 non-null   object \n",
      " 23  exterior_1st     1677 non-null   object \n",
      " 24  exterior_2nd     1677 non-null   object \n",
      " 25  mas_vnr_type     1677 non-null   object \n",
      " 26  mas_vnr_area     1677 non-null   float64\n",
      " 27  exter_qual       1677 non-null   object \n",
      " 28  exter_cond       1677 non-null   object \n",
      " 29  foundation       1677 non-null   object \n",
      " 30  bsmt_qual        1677 non-null   object \n",
      " 31  bsmt_cond        1677 non-null   object \n",
      " 32  bsmt_exposure    1677 non-null   object \n",
      " 33  bsmtfin_type_1   1677 non-null   object \n",
      " 34  bsmtfin_sf_1     1677 non-null   float64\n",
      " 35  bsmtfin_type_2   1677 non-null   object \n",
      " 36  bsmtfin_sf_2     1677 non-null   float64\n",
      " 37  bsmt_unf_sf      1677 non-null   float64\n",
      " 38  total_bsmt_sf    1677 non-null   float64\n",
      " 39  heating          1677 non-null   object \n",
      " 40  heating_qc       1677 non-null   object \n",
      " 41  central_air      1677 non-null   int64  \n",
      " 42  electrical       1677 non-null   object \n",
      " 43  1st_flr_sf       1677 non-null   int64  \n",
      " 44  2nd_flr_sf       1677 non-null   int64  \n",
      " 45  low_qual_fin_sf  1677 non-null   int64  \n",
      " 46  gr_liv_area      1677 non-null   int64  \n",
      " 47  bsmt_full_bath   1677 non-null   float64\n",
      " 48  bsmt_half_bath   1677 non-null   float64\n",
      " 49  full_bath        1677 non-null   int64  \n",
      " 50  half_bath        1677 non-null   int64  \n",
      " 51  bedroom_abvgr    1677 non-null   int64  \n",
      " 52  kitchen_abvgr    1677 non-null   int64  \n",
      " 53  kitchen_qual     1677 non-null   object \n",
      " 54  totrms_abvgrd    1677 non-null   int64  \n",
      " 55  functional       1677 non-null   object \n",
      " 56  fireplaces       1677 non-null   int64  \n",
      " 57  fireplace_qu     1677 non-null   object \n",
      " 58  garage_type      1677 non-null   object \n",
      " 59  garage_yr_blt    1677 non-null   float64\n",
      " 60  garage_finish    1677 non-null   object \n",
      " 61  garage_cars      1677 non-null   float64\n",
      " 62  garage_area      1677 non-null   float64\n",
      " 63  garage_qual      1677 non-null   object \n",
      " 64  garage_cond      1677 non-null   object \n",
      " 65  paved_drive      1677 non-null   object \n",
      " 66  wood_deck_sf     1677 non-null   int64  \n",
      " 67  open_porch_sf    1677 non-null   int64  \n",
      " 68  enclosed_porch   1677 non-null   int64  \n",
      " 69  3ssn_porch       1677 non-null   int64  \n",
      " 70  screen_porch     1677 non-null   int64  \n",
      " 71  pool_area        1677 non-null   int64  \n",
      " 72  pool_qc          1677 non-null   object \n",
      " 73  fence            1677 non-null   object \n",
      " 74  misc_feature     1677 non-null   object \n",
      " 75  misc_val         1677 non-null   int64  \n",
      " 76  mo_sold          1677 non-null   int64  \n",
      " 77  yr_sold          1677 non-null   int64  \n",
      " 78  sale_type        1677 non-null   object \n",
      " 79  saleprice        1677 non-null   int64  \n",
      "dtypes: float64(11), int64(28), object(41)\n",
      "memory usage: 1.0+ MB\n"
     ]
    }
   ],
   "source": [
    "train_df.info();"
   ]
  },
  {
   "cell_type": "code",
   "execution_count": 8,
   "id": "d6330154-9e25-4274-98d3-be2fe5d9a969",
   "metadata": {},
   "outputs": [
    {
     "data": {
      "text/plain": [
       "Index(['ms_zoning', 'street', 'alley', 'lot_shape', 'land_contour',\n",
       "       'utilities', 'lot_config', 'land_slope', 'neighborhood', 'condition_1',\n",
       "       'condition_2', 'bldg_type', 'house_style', 'roof_style', 'roof_matl',\n",
       "       'exterior_1st', 'exterior_2nd', 'mas_vnr_type', 'exter_qual',\n",
       "       'exter_cond', 'foundation', 'bsmt_qual', 'bsmt_cond', 'bsmt_exposure',\n",
       "       'bsmtfin_type_1', 'bsmtfin_type_2', 'heating', 'heating_qc',\n",
       "       'electrical', 'kitchen_qual', 'functional', 'fireplace_qu',\n",
       "       'garage_type', 'garage_finish', 'garage_qual', 'garage_cond',\n",
       "       'paved_drive', 'pool_qc', 'fence', 'misc_feature', 'sale_type'],\n",
       "      dtype='object')"
      ]
     },
     "execution_count": 8,
     "metadata": {},
     "output_type": "execute_result"
    }
   ],
   "source": [
    "train_df.select_dtypes(include='object').columns"
   ]
  },
  {
   "cell_type": "code",
   "execution_count": 9,
   "id": "29a6f8a5-6806-406e-9c85-7e7e9262e035",
   "metadata": {},
   "outputs": [],
   "source": [
    "# Things I want to dummify and think will help my model:\n",
    "#     ms_zoning, lot_shape, utilities, "
   ]
  },
  {
   "cell_type": "code",
   "execution_count": null,
   "id": "17f33502-69f1-4e62-bac0-26d113118571",
   "metadata": {},
   "outputs": [],
   "source": []
  },
  {
   "cell_type": "markdown",
   "id": "86333a32-f2c1-4757-9ce6-98c907a04df0",
   "metadata": {},
   "source": [
    "## 2.1 Feature Engineering "
   ]
  },
  {
   "cell_type": "code",
   "execution_count": 10,
   "id": "9db3e035-e87d-45f4-ba9d-d9190b2742ef",
   "metadata": {},
   "outputs": [
    {
     "data": {
      "text/plain": [
       "((1677, 80), (878, 79))"
      ]
     },
     "execution_count": 10,
     "metadata": {},
     "output_type": "execute_result"
    }
   ],
   "source": [
    "train_df.shape, test_df.shape"
   ]
  },
  {
   "cell_type": "code",
   "execution_count": null,
   "id": "13e93ebe-d07c-4a2f-b167-ecc26f4dea61",
   "metadata": {},
   "outputs": [],
   "source": []
  },
  {
   "cell_type": "code",
   "execution_count": 11,
   "id": "eee428e9-89d0-4c57-819b-f30d353b39d4",
   "metadata": {},
   "outputs": [
    {
     "data": {
      "text/plain": [
       "(26,)"
      ]
     },
     "execution_count": 11,
     "metadata": {},
     "output_type": "execute_result"
    }
   ],
   "source": [
    "train_df['neighborhood'].unique().shape"
   ]
  },
  {
   "cell_type": "code",
   "execution_count": 12,
   "id": "2c600ac5-5de9-48b8-a0dd-998bc1878061",
   "metadata": {},
   "outputs": [
    {
     "data": {
      "text/plain": [
       "(26,)"
      ]
     },
     "execution_count": 12,
     "metadata": {},
     "output_type": "execute_result"
    }
   ],
   "source": [
    "test_df['neighborhood'].unique().shape"
   ]
  },
  {
   "cell_type": "code",
   "execution_count": null,
   "id": "c5a71ccf-d517-4c7d-a358-96e241899625",
   "metadata": {},
   "outputs": [],
   "source": []
  },
  {
   "cell_type": "code",
   "execution_count": 13,
   "id": "4b32048e-cdee-4cfe-a459-be636320a931",
   "metadata": {},
   "outputs": [
    {
     "name": "stdout",
     "output_type": "stream",
     "text": [
      "(1677, 26)\n",
      "(878, 26)\n"
     ]
    }
   ],
   "source": [
    "# one hot encode the values of the neighborhood column -------------------------------------------------------\n",
    "train_dummies_neighborhood = pd.get_dummies(train_df['neighborhood'])\n",
    "test_dummies_neighborhood = pd.get_dummies(test_df['neighborhood'])\n",
    "\n",
    "#make sure to see they have the same number of columns\n",
    "print(train_dummies_neighborhood.shape)\n",
    "print(test_dummies_neighborhood.shape)"
   ]
  },
  {
   "cell_type": "code",
   "execution_count": 14,
   "id": "6c154a1e-d1ed-454a-a36f-4dc69356238f",
   "metadata": {},
   "outputs": [
    {
     "name": "stdout",
     "output_type": "stream",
     "text": [
      "(1677, 7)\n",
      "(878, 6)\n",
      "Columns missing from Train: []\n",
      "Columns missing from Test: ['A (agr)']\n"
     ]
    }
   ],
   "source": [
    "#one hot encode the values of the mz_zoning column +++++++++++++++++++++++++++++++++\n",
    "train_dummies_ms_zoning = pd.get_dummies(train_df['ms_zoning'])\n",
    "test_dummies_ms_zoning = pd.get_dummies(test_df['ms_zoning'])\n",
    "\n",
    "#same shape? check\n",
    "print(train_dummies_ms_zoning.shape)\n",
    "print(test_dummies_ms_zoning.shape)\n",
    "\n",
    "#make list of columns missing from train and test (just to check both)\n",
    "missing_columns_train = list(set(test_dummies_ms_zoning) - set(train_dummies_ms_zoning)  )\n",
    "missing_columns_test = list(set(train_dummies_ms_zoning) - set(test_dummies_ms_zoning) )\n",
    "\n",
    "print(f'Columns missing from Train: {missing_columns_train}')\n",
    "print(f'Columns missing from Test: {missing_columns_test}')"
   ]
  },
  {
   "cell_type": "code",
   "execution_count": 15,
   "id": "237552f1-7fba-40f2-ab38-32666dedc45a",
   "metadata": {},
   "outputs": [
    {
     "data": {
      "text/plain": [
       "[]"
      ]
     },
     "execution_count": 15,
     "metadata": {},
     "output_type": "execute_result"
    }
   ],
   "source": [
    "# Add missing columns to test, filling all rows with 0 (since thos values dont show up in test)++++++++\n",
    "for col in missing_columns_test:\n",
    "    test_dummies_ms_zoning[col] = 0\n",
    "\n",
    "#check that both train and test dummies of ms_zoning have the same columns now\n",
    "missing_columns_test = list(set(train_dummies_ms_zoning) - set(test_dummies_ms_zoning) )\n",
    "missing_columns_test\n",
    "    "
   ]
  },
  {
   "cell_type": "code",
   "execution_count": null,
   "id": "2ea6b910-21d8-49a4-9db2-3383449d16c5",
   "metadata": {},
   "outputs": [],
   "source": []
  },
  {
   "cell_type": "code",
   "execution_count": 16,
   "id": "8500446f-e087-4b18-a847-0cf241a82fda",
   "metadata": {},
   "outputs": [
    {
     "data": {
      "text/html": [
       "<div>\n",
       "<style scoped>\n",
       "    .dataframe tbody tr th:only-of-type {\n",
       "        vertical-align: middle;\n",
       "    }\n",
       "\n",
       "    .dataframe tbody tr th {\n",
       "        vertical-align: top;\n",
       "    }\n",
       "\n",
       "    .dataframe thead th {\n",
       "        text-align: right;\n",
       "    }\n",
       "</style>\n",
       "<table border=\"1\" class=\"dataframe\">\n",
       "  <thead>\n",
       "    <tr style=\"text-align: right;\">\n",
       "      <th></th>\n",
       "      <th>A (agr)</th>\n",
       "      <th>C (all)</th>\n",
       "      <th>FV</th>\n",
       "      <th>I (all)</th>\n",
       "      <th>RH</th>\n",
       "      <th>RL</th>\n",
       "      <th>RM</th>\n",
       "    </tr>\n",
       "    <tr>\n",
       "      <th>id</th>\n",
       "      <th></th>\n",
       "      <th></th>\n",
       "      <th></th>\n",
       "      <th></th>\n",
       "      <th></th>\n",
       "      <th></th>\n",
       "      <th></th>\n",
       "    </tr>\n",
       "  </thead>\n",
       "  <tbody>\n",
       "    <tr>\n",
       "      <th>544</th>\n",
       "      <td>0</td>\n",
       "      <td>0</td>\n",
       "      <td>0</td>\n",
       "      <td>0</td>\n",
       "      <td>0</td>\n",
       "      <td>1</td>\n",
       "      <td>0</td>\n",
       "    </tr>\n",
       "  </tbody>\n",
       "</table>\n",
       "</div>"
      ],
      "text/plain": [
       "     A (agr)  C (all)  FV  I (all)  RH  RL  RM\n",
       "id                                            \n",
       "544        0        0   0        0   0   1   0"
      ]
     },
     "execution_count": 16,
     "metadata": {},
     "output_type": "execute_result"
    }
   ],
   "source": [
    "train_dummies_ms_zoning.head(1)  #++++++++++++++++++++++++++++++++"
   ]
  },
  {
   "cell_type": "code",
   "execution_count": 17,
   "id": "868f59fe-b631-4d63-8c46-2d805ca13167",
   "metadata": {},
   "outputs": [
    {
     "data": {
      "text/html": [
       "<div>\n",
       "<style scoped>\n",
       "    .dataframe tbody tr th:only-of-type {\n",
       "        vertical-align: middle;\n",
       "    }\n",
       "\n",
       "    .dataframe tbody tr th {\n",
       "        vertical-align: top;\n",
       "    }\n",
       "\n",
       "    .dataframe thead th {\n",
       "        text-align: right;\n",
       "    }\n",
       "</style>\n",
       "<table border=\"1\" class=\"dataframe\">\n",
       "  <thead>\n",
       "    <tr style=\"text-align: right;\">\n",
       "      <th></th>\n",
       "      <th>C (all)</th>\n",
       "      <th>FV</th>\n",
       "      <th>I (all)</th>\n",
       "      <th>RH</th>\n",
       "      <th>RL</th>\n",
       "      <th>RM</th>\n",
       "      <th>A (agr)</th>\n",
       "    </tr>\n",
       "    <tr>\n",
       "      <th>id</th>\n",
       "      <th></th>\n",
       "      <th></th>\n",
       "      <th></th>\n",
       "      <th></th>\n",
       "      <th></th>\n",
       "      <th></th>\n",
       "      <th></th>\n",
       "    </tr>\n",
       "  </thead>\n",
       "  <tbody>\n",
       "    <tr>\n",
       "      <th>2658</th>\n",
       "      <td>0</td>\n",
       "      <td>0</td>\n",
       "      <td>0</td>\n",
       "      <td>0</td>\n",
       "      <td>0</td>\n",
       "      <td>1</td>\n",
       "      <td>0</td>\n",
       "    </tr>\n",
       "  </tbody>\n",
       "</table>\n",
       "</div>"
      ],
      "text/plain": [
       "      C (all)  FV  I (all)  RH  RL  RM  A (agr)\n",
       "id                                             \n",
       "2658        0   0        0   0   0   1        0"
      ]
     },
     "execution_count": 17,
     "metadata": {},
     "output_type": "execute_result"
    }
   ],
   "source": [
    "test_dummies_ms_zoning.head(1)  #++++++++++++++++++++++++"
   ]
  },
  {
   "cell_type": "code",
   "execution_count": 18,
   "id": "37a8b2aa-2cb7-49fb-9095-e79f5265dba7",
   "metadata": {},
   "outputs": [
    {
     "data": {
      "text/html": [
       "<div>\n",
       "<style scoped>\n",
       "    .dataframe tbody tr th:only-of-type {\n",
       "        vertical-align: middle;\n",
       "    }\n",
       "\n",
       "    .dataframe tbody tr th {\n",
       "        vertical-align: top;\n",
       "    }\n",
       "\n",
       "    .dataframe thead th {\n",
       "        text-align: right;\n",
       "    }\n",
       "</style>\n",
       "<table border=\"1\" class=\"dataframe\">\n",
       "  <thead>\n",
       "    <tr style=\"text-align: right;\">\n",
       "      <th></th>\n",
       "      <th>Blmngtn</th>\n",
       "      <th>Blueste</th>\n",
       "      <th>BrDale</th>\n",
       "      <th>BrkSide</th>\n",
       "      <th>ClearCr</th>\n",
       "      <th>CollgCr</th>\n",
       "      <th>Crawfor</th>\n",
       "      <th>Edwards</th>\n",
       "      <th>Gilbert</th>\n",
       "      <th>Greens</th>\n",
       "      <th>...</th>\n",
       "      <th>NoRidge</th>\n",
       "      <th>NridgHt</th>\n",
       "      <th>OldTown</th>\n",
       "      <th>SWISU</th>\n",
       "      <th>Sawyer</th>\n",
       "      <th>SawyerW</th>\n",
       "      <th>Somerst</th>\n",
       "      <th>StoneBr</th>\n",
       "      <th>Timber</th>\n",
       "      <th>Veenker</th>\n",
       "    </tr>\n",
       "    <tr>\n",
       "      <th>id</th>\n",
       "      <th></th>\n",
       "      <th></th>\n",
       "      <th></th>\n",
       "      <th></th>\n",
       "      <th></th>\n",
       "      <th></th>\n",
       "      <th></th>\n",
       "      <th></th>\n",
       "      <th></th>\n",
       "      <th></th>\n",
       "      <th></th>\n",
       "      <th></th>\n",
       "      <th></th>\n",
       "      <th></th>\n",
       "      <th></th>\n",
       "      <th></th>\n",
       "      <th></th>\n",
       "      <th></th>\n",
       "      <th></th>\n",
       "      <th></th>\n",
       "      <th></th>\n",
       "    </tr>\n",
       "  </thead>\n",
       "  <tbody>\n",
       "    <tr>\n",
       "      <th>544</th>\n",
       "      <td>0</td>\n",
       "      <td>0</td>\n",
       "      <td>0</td>\n",
       "      <td>0</td>\n",
       "      <td>0</td>\n",
       "      <td>0</td>\n",
       "      <td>0</td>\n",
       "      <td>0</td>\n",
       "      <td>0</td>\n",
       "      <td>0</td>\n",
       "      <td>...</td>\n",
       "      <td>0</td>\n",
       "      <td>0</td>\n",
       "      <td>0</td>\n",
       "      <td>0</td>\n",
       "      <td>0</td>\n",
       "      <td>1</td>\n",
       "      <td>0</td>\n",
       "      <td>0</td>\n",
       "      <td>0</td>\n",
       "      <td>0</td>\n",
       "    </tr>\n",
       "    <tr>\n",
       "      <th>153</th>\n",
       "      <td>0</td>\n",
       "      <td>0</td>\n",
       "      <td>0</td>\n",
       "      <td>0</td>\n",
       "      <td>0</td>\n",
       "      <td>0</td>\n",
       "      <td>0</td>\n",
       "      <td>0</td>\n",
       "      <td>0</td>\n",
       "      <td>0</td>\n",
       "      <td>...</td>\n",
       "      <td>0</td>\n",
       "      <td>0</td>\n",
       "      <td>0</td>\n",
       "      <td>0</td>\n",
       "      <td>0</td>\n",
       "      <td>0</td>\n",
       "      <td>0</td>\n",
       "      <td>0</td>\n",
       "      <td>0</td>\n",
       "      <td>0</td>\n",
       "    </tr>\n",
       "  </tbody>\n",
       "</table>\n",
       "<p>2 rows × 26 columns</p>\n",
       "</div>"
      ],
      "text/plain": [
       "     Blmngtn  Blueste  BrDale  BrkSide  ClearCr  CollgCr  Crawfor  Edwards  \\\n",
       "id                                                                           \n",
       "544        0        0       0        0        0        0        0        0   \n",
       "153        0        0       0        0        0        0        0        0   \n",
       "\n",
       "     Gilbert  Greens  ...  NoRidge  NridgHt  OldTown  SWISU  Sawyer  SawyerW  \\\n",
       "id                    ...                                                      \n",
       "544        0       0  ...        0        0        0      0       0        1   \n",
       "153        0       0  ...        0        0        0      0       0        0   \n",
       "\n",
       "     Somerst  StoneBr  Timber  Veenker  \n",
       "id                                      \n",
       "544        0        0       0        0  \n",
       "153        0        0       0        0  \n",
       "\n",
       "[2 rows x 26 columns]"
      ]
     },
     "execution_count": 18,
     "metadata": {},
     "output_type": "execute_result"
    }
   ],
   "source": [
    "train_dummies_neighborhood.head(2)"
   ]
  },
  {
   "cell_type": "code",
   "execution_count": 19,
   "id": "4f43d1c7-9b13-4677-88b3-f129eda87dc9",
   "metadata": {},
   "outputs": [
    {
     "data": {
      "text/html": [
       "<div>\n",
       "<style scoped>\n",
       "    .dataframe tbody tr th:only-of-type {\n",
       "        vertical-align: middle;\n",
       "    }\n",
       "\n",
       "    .dataframe tbody tr th {\n",
       "        vertical-align: top;\n",
       "    }\n",
       "\n",
       "    .dataframe thead th {\n",
       "        text-align: right;\n",
       "    }\n",
       "</style>\n",
       "<table border=\"1\" class=\"dataframe\">\n",
       "  <thead>\n",
       "    <tr style=\"text-align: right;\">\n",
       "      <th></th>\n",
       "      <th>Blmngtn</th>\n",
       "      <th>Blueste</th>\n",
       "      <th>BrDale</th>\n",
       "      <th>BrkSide</th>\n",
       "      <th>ClearCr</th>\n",
       "      <th>CollgCr</th>\n",
       "      <th>Crawfor</th>\n",
       "      <th>Edwards</th>\n",
       "      <th>Gilbert</th>\n",
       "      <th>Greens</th>\n",
       "      <th>...</th>\n",
       "      <th>NoRidge</th>\n",
       "      <th>NridgHt</th>\n",
       "      <th>OldTown</th>\n",
       "      <th>SWISU</th>\n",
       "      <th>Sawyer</th>\n",
       "      <th>SawyerW</th>\n",
       "      <th>Somerst</th>\n",
       "      <th>StoneBr</th>\n",
       "      <th>Timber</th>\n",
       "      <th>Veenker</th>\n",
       "    </tr>\n",
       "    <tr>\n",
       "      <th>id</th>\n",
       "      <th></th>\n",
       "      <th></th>\n",
       "      <th></th>\n",
       "      <th></th>\n",
       "      <th></th>\n",
       "      <th></th>\n",
       "      <th></th>\n",
       "      <th></th>\n",
       "      <th></th>\n",
       "      <th></th>\n",
       "      <th></th>\n",
       "      <th></th>\n",
       "      <th></th>\n",
       "      <th></th>\n",
       "      <th></th>\n",
       "      <th></th>\n",
       "      <th></th>\n",
       "      <th></th>\n",
       "      <th></th>\n",
       "      <th></th>\n",
       "      <th></th>\n",
       "    </tr>\n",
       "  </thead>\n",
       "  <tbody>\n",
       "    <tr>\n",
       "      <th>2658</th>\n",
       "      <td>0</td>\n",
       "      <td>0</td>\n",
       "      <td>0</td>\n",
       "      <td>0</td>\n",
       "      <td>0</td>\n",
       "      <td>0</td>\n",
       "      <td>0</td>\n",
       "      <td>0</td>\n",
       "      <td>0</td>\n",
       "      <td>0</td>\n",
       "      <td>...</td>\n",
       "      <td>0</td>\n",
       "      <td>0</td>\n",
       "      <td>1</td>\n",
       "      <td>0</td>\n",
       "      <td>0</td>\n",
       "      <td>0</td>\n",
       "      <td>0</td>\n",
       "      <td>0</td>\n",
       "      <td>0</td>\n",
       "      <td>0</td>\n",
       "    </tr>\n",
       "    <tr>\n",
       "      <th>2718</th>\n",
       "      <td>0</td>\n",
       "      <td>0</td>\n",
       "      <td>0</td>\n",
       "      <td>0</td>\n",
       "      <td>0</td>\n",
       "      <td>0</td>\n",
       "      <td>0</td>\n",
       "      <td>0</td>\n",
       "      <td>0</td>\n",
       "      <td>0</td>\n",
       "      <td>...</td>\n",
       "      <td>0</td>\n",
       "      <td>0</td>\n",
       "      <td>0</td>\n",
       "      <td>0</td>\n",
       "      <td>1</td>\n",
       "      <td>0</td>\n",
       "      <td>0</td>\n",
       "      <td>0</td>\n",
       "      <td>0</td>\n",
       "      <td>0</td>\n",
       "    </tr>\n",
       "  </tbody>\n",
       "</table>\n",
       "<p>2 rows × 26 columns</p>\n",
       "</div>"
      ],
      "text/plain": [
       "      Blmngtn  Blueste  BrDale  BrkSide  ClearCr  CollgCr  Crawfor  Edwards  \\\n",
       "id                                                                            \n",
       "2658        0        0       0        0        0        0        0        0   \n",
       "2718        0        0       0        0        0        0        0        0   \n",
       "\n",
       "      Gilbert  Greens  ...  NoRidge  NridgHt  OldTown  SWISU  Sawyer  SawyerW  \\\n",
       "id                     ...                                                      \n",
       "2658        0       0  ...        0        0        1      0       0        0   \n",
       "2718        0       0  ...        0        0        0      0       1        0   \n",
       "\n",
       "      Somerst  StoneBr  Timber  Veenker  \n",
       "id                                       \n",
       "2658        0        0       0        0  \n",
       "2718        0        0       0        0  \n",
       "\n",
       "[2 rows x 26 columns]"
      ]
     },
     "execution_count": 19,
     "metadata": {},
     "output_type": "execute_result"
    }
   ],
   "source": [
    "test_dummies_neighborhood.head(2)"
   ]
  },
  {
   "cell_type": "code",
   "execution_count": 20,
   "id": "b712eb80-5b9b-4771-bed9-8e220b3cad19",
   "metadata": {},
   "outputs": [
    {
     "data": {
      "text/plain": [
       "set()"
      ]
     },
     "execution_count": 20,
     "metadata": {},
     "output_type": "execute_result"
    }
   ],
   "source": [
    "set(train_dummies_neighborhood) - set(test_dummies_neighborhood)  #they have the same columns!!----------------------------"
   ]
  },
  {
   "cell_type": "code",
   "execution_count": 21,
   "id": "b7c04921-b944-4d1c-9b92-62d8a101bf51",
   "metadata": {},
   "outputs": [
    {
     "data": {
      "text/plain": [
       "Index(['Blmngtn', 'Blueste', 'BrDale', 'BrkSide', 'ClearCr', 'CollgCr',\n",
       "       'Crawfor', 'Edwards', 'Gilbert', 'Greens', 'IDOTRR', 'MeadowV',\n",
       "       'Mitchel', 'NAmes', 'NPkVill', 'NWAmes', 'NoRidge', 'NridgHt',\n",
       "       'OldTown', 'SWISU', 'Sawyer', 'SawyerW', 'Somerst', 'StoneBr', 'Timber',\n",
       "       'Veenker'],\n",
       "      dtype='object')"
      ]
     },
     "execution_count": 21,
     "metadata": {},
     "output_type": "execute_result"
    }
   ],
   "source": [
    "train_dummies_neighborhood.columns"
   ]
  },
  {
   "cell_type": "code",
   "execution_count": 22,
   "id": "e76b5074-6fec-4199-88b0-8ebb6deb6c49",
   "metadata": {},
   "outputs": [
    {
     "data": {
      "text/plain": [
       "Index(['Blmngtn', 'Blueste', 'BrDale', 'BrkSide', 'ClearCr', 'CollgCr',\n",
       "       'Crawfor', 'Edwards', 'Gilbert', 'Greens', 'IDOTRR', 'MeadowV',\n",
       "       'Mitchel', 'NAmes', 'NPkVill', 'NWAmes', 'NoRidge', 'NridgHt',\n",
       "       'OldTown', 'SWISU', 'Sawyer', 'SawyerW', 'Somerst', 'StoneBr', 'Timber',\n",
       "       'Veenker'],\n",
       "      dtype='object')"
      ]
     },
     "execution_count": 22,
     "metadata": {},
     "output_type": "execute_result"
    }
   ],
   "source": [
    "test_dummies_neighborhood.columns"
   ]
  },
  {
   "cell_type": "code",
   "execution_count": 23,
   "id": "3cf43156-e7f2-4304-aa9d-04aae6b82739",
   "metadata": {},
   "outputs": [],
   "source": [
    "#Drop one of the neigborhood columns from both train and test ---------------------------------------------\n",
    "train_dummies_neighborhood.drop(columns= 'Blmngtn', inplace= True)\n",
    "test_dummies_neighborhood.drop(columns= 'Blmngtn', inplace= True)"
   ]
  },
  {
   "cell_type": "code",
   "execution_count": null,
   "id": "a1e381f5-f15f-42fe-8c2a-1435c435cc79",
   "metadata": {},
   "outputs": [],
   "source": []
  },
  {
   "cell_type": "code",
   "execution_count": 24,
   "id": "54fc0f9f-94d8-43d5-958c-e8ccb1dead52",
   "metadata": {},
   "outputs": [],
   "source": [
    "#join the train and test dummy columns back with the original dataframes -------------------------1st dummy set!!! added into train_df_final-------------------\n",
    "train_df_final = train_df.join(train_dummies_neighborhood)\n",
    "test_df_final = test_df.join(test_dummies_neighborhood)"
   ]
  },
  {
   "cell_type": "code",
   "execution_count": null,
   "id": "109f20e1-2b7b-4d8a-a414-35160838462c",
   "metadata": {},
   "outputs": [],
   "source": []
  },
  {
   "cell_type": "code",
   "execution_count": 25,
   "id": "572bc6b0-ed11-4c97-ad96-19c5b6256a1d",
   "metadata": {},
   "outputs": [],
   "source": [
    "# dropping one of the ms_zoning columns ++++++++++++++++++++++++++\n",
    "train_dummies_ms_zoning.columns;    # lets drop 'RM'\n",
    "\n",
    "train_dummies_ms_zoning.drop(columns='RM', inplace=True)\n",
    "test_dummies_ms_zoning.drop(columns='RM', inplace=True)\n"
   ]
  },
  {
   "cell_type": "code",
   "execution_count": 26,
   "id": "e44b7b6d-9d99-4e6c-82de-a4669e001f0b",
   "metadata": {},
   "outputs": [],
   "source": [
    "#join the mz_zoning dummies back into your final df! ++++++++++++++++++++++++++++++\n",
    "train_df_final = train_df_final.join(train_dummies_ms_zoning)\n",
    "test_df_final = test_df_final.join(test_dummies_ms_zoning)\n",
    "#++++++++++++++++++++++++++++++++++++++++++++++++++++++++++++++++++++++++++++++"
   ]
  },
  {
   "cell_type": "code",
   "execution_count": null,
   "id": "c092b768-3b06-413c-b2a4-bfa4983de883",
   "metadata": {},
   "outputs": [],
   "source": []
  },
  {
   "cell_type": "code",
   "execution_count": 27,
   "id": "e82a4bab-cd48-4fa4-8408-2a7962b185b7",
   "metadata": {},
   "outputs": [],
   "source": [
    "# ---------------Keep track of what we dummify then drop that column------------------------------ #\n",
    "train_df_final.drop(columns=['neighborhood'], inplace=True)\n",
    "test_df_final.drop(columns=['neighborhood'], inplace=True)"
   ]
  },
  {
   "cell_type": "code",
   "execution_count": 28,
   "id": "78aa29ca-a1ed-4b1c-b62b-55468b7a9806",
   "metadata": {},
   "outputs": [],
   "source": [
    "train_df_final.drop(columns=['ms_zoning'], inplace=True)\n",
    "test_df_final.drop(columns=['ms_zoning'], inplace=True)"
   ]
  },
  {
   "cell_type": "code",
   "execution_count": null,
   "id": "a172a767-29b9-4b3f-a320-75bbfaa0f162",
   "metadata": {},
   "outputs": [],
   "source": []
  },
  {
   "cell_type": "code",
   "execution_count": 29,
   "id": "edb9b3da-62a4-4583-bbc9-35e2b6239fd3",
   "metadata": {},
   "outputs": [
    {
     "data": {
      "text/plain": [
       "True"
      ]
     },
     "execution_count": 29,
     "metadata": {},
     "output_type": "execute_result"
    }
   ],
   "source": [
    "#Make sure the columns the final train and test dataframes are in the same order   !!!! IMPORTANT COLUMNS ARE IN ORDER!!!\n",
    "\n",
    "#one method is bracket notation:\n",
    "test_df_final = test_df_final[train_df_final.drop(columns='saleprice').columns]\n",
    "\n",
    "#another method is using reindex method:\n",
    "#test_df_final = test_df_final.reindex(columns = train_df_final.drop(columns='saleprice').columns)\n",
    "\n",
    "\n",
    "\n",
    "#check that all the columns are now in the same order\n",
    "(train_df_final.drop(columns = 'saleprice').columns == test_df_final.columns).all()\n",
    "#---------------------------------------------------------------------------------------"
   ]
  },
  {
   "cell_type": "code",
   "execution_count": 30,
   "id": "2ab15caf-13f9-4112-a68b-6af34acd4045",
   "metadata": {},
   "outputs": [
    {
     "name": "stdout",
     "output_type": "stream",
     "text": [
      "(1677, 109)\n",
      "(878, 108)\n"
     ]
    }
   ],
   "source": [
    "# check the shape of both of our final dataframes\n",
    "print(train_df_final.shape)\n",
    "print(test_df_final.shape)"
   ]
  },
  {
   "cell_type": "code",
   "execution_count": null,
   "id": "c033b5dc-3f7a-47d8-bc0c-abff87794d45",
   "metadata": {},
   "outputs": [],
   "source": []
  },
  {
   "cell_type": "markdown",
   "id": "531b2b1d-cb0a-4bf5-9bfe-bbd851f06ddd",
   "metadata": {},
   "source": [
    "#### INTERACTION TERMS"
   ]
  },
  {
   "cell_type": "code",
   "execution_count": 31,
   "id": "0a98fa07-37d3-46d2-9e48-2674bfa64b28",
   "metadata": {},
   "outputs": [],
   "source": [
    "# BASED on my results from graphing the coef down below:\n",
    "# I will create interaction terms from the low coef!\n",
    "## -------------------------  screen_porch * wood_deck_sf         and    fireplaces * totrms_abvgrd -------------------\n",
    "## whatever interaction terms i make for my train set goes onto my test set also!"
   ]
  },
  {
   "cell_type": "code",
   "execution_count": 32,
   "id": "57e3c65a-a05f-410c-8393-07f475a5d437",
   "metadata": {},
   "outputs": [],
   "source": [
    "train_df_final['screen_porch*wood_deck_sf'] = train_df_final['screen_porch'] * train_df_final['wood_deck_sf']\n",
    "test_df_final['screen_porch*wood_deck_sf'] = test_df_final['screen_porch'] * test_df_final['wood_deck_sf']\n",
    "\n",
    "\n",
    "train_df_final['fireplaces*totrms_abvgrd'] = train_df_final['fireplaces'] * train_df_final['totrms_abvgrd']\n",
    "test_df_final['fireplaces*totrms_abvgrd'] = test_df_final['fireplaces'] * test_df_final['totrms_abvgrd']\n",
    "\n",
    "#remember to do the column order check above  and shape^^"
   ]
  },
  {
   "cell_type": "code",
   "execution_count": null,
   "id": "13923a6e-24b8-4a97-97b2-f2eef7a172bf",
   "metadata": {},
   "outputs": [],
   "source": []
  },
  {
   "cell_type": "markdown",
   "id": "400e7d3c-3928-46e2-9b04-4dcd4106fc27",
   "metadata": {},
   "source": [
    "## 2.2 Preprocessing, Tuning, and Modeling"
   ]
  },
  {
   "cell_type": "code",
   "execution_count": 33,
   "id": "b0bbcb7a-1b6d-45d8-929d-4563cbfed966",
   "metadata": {},
   "outputs": [],
   "source": [
    "train_df_final.drop(columns='pid',inplace = True)  #Dont need pid.. not going to do math on an ID"
   ]
  },
  {
   "cell_type": "code",
   "execution_count": 34,
   "id": "b1a296d2-d03b-47a5-8002-1acc39c3d0b9",
   "metadata": {},
   "outputs": [],
   "source": [
    "#train_df_final.drop(columns='pid',inplace = True)  #Dont need pid.. not going to do math on an ID"
   ]
  },
  {
   "cell_type": "code",
   "execution_count": 35,
   "id": "380f792a-47f8-4d1d-9525-60a727076101",
   "metadata": {},
   "outputs": [],
   "source": [
    "train_df_final.columns.to_list(); #Instead of typing out columns one by one.. just call this and set my feature variable(s) to this which is a list of my column names!"
   ]
  },
  {
   "cell_type": "code",
   "execution_count": 36,
   "id": "1c6d18b4-8e3b-4d16-a496-9eea949ae3a5",
   "metadata": {},
   "outputs": [
    {
     "data": {
      "text/plain": [
       "Index(['street', 'alley', 'lot_shape', 'land_contour', 'utilities',\n",
       "       'lot_config', 'land_slope', 'condition_1', 'condition_2', 'bldg_type',\n",
       "       'house_style', 'roof_style', 'roof_matl', 'exterior_1st',\n",
       "       'exterior_2nd', 'mas_vnr_type', 'exter_qual', 'exter_cond',\n",
       "       'foundation', 'bsmt_qual', 'bsmt_cond', 'bsmt_exposure',\n",
       "       'bsmtfin_type_1', 'bsmtfin_type_2', 'heating', 'heating_qc',\n",
       "       'electrical', 'kitchen_qual', 'functional', 'fireplace_qu',\n",
       "       'garage_type', 'garage_finish', 'garage_qual', 'garage_cond',\n",
       "       'paved_drive', 'pool_qc', 'fence', 'misc_feature', 'sale_type'],\n",
       "      dtype='object')"
      ]
     },
     "execution_count": 36,
     "metadata": {},
     "output_type": "execute_result"
    }
   ],
   "source": [
    "train_df_final.select_dtypes(include='object').columns"
   ]
  },
  {
   "cell_type": "code",
   "execution_count": 37,
   "id": "85ef361a-a303-40bb-a11f-704e5c505a71",
   "metadata": {},
   "outputs": [],
   "source": [
    "#going to try adding all the non object types columns into my feature!\n",
    "#grab the columns that are NOT object type and drop saleprice.. call those cloumns and put them into a list after\n",
    "\n",
    "\n",
    "#train_df_final.select_dtypes(exclude='object').drop(columns='saleprice').columns.to_list()  \n",
    "\n",
    "#------------------------------------------------------------------------------------------------------------------\n",
    "# the above line was before when i made all my features that were non-object type and dummified neighborhood column  and then did Lr on it \n",
    "# and then log transform it to get my kaggle score of 16k\n",
    "#my idea was the more the variables a model has to train, the better the results.. which looks like it came true!\n",
    "#------------------------------------------------------------------------------------------------------------------"
   ]
  },
  {
   "cell_type": "code",
   "execution_count": 38,
   "id": "13e3af9c-8f3d-49d6-a1d4-91cf98f8f4b1",
   "metadata": {},
   "outputs": [
    {
     "data": {
      "text/plain": [
       "Index(['ms_subclass', 'lot_frontage', 'lot_area', 'overall_qual',\n",
       "       'overall_cond', 'year_built', 'year_remod/add', 'mas_vnr_area',\n",
       "       'bsmtfin_sf_1', 'bsmtfin_sf_2', 'bsmt_unf_sf', 'total_bsmt_sf',\n",
       "       'central_air', '1st_flr_sf', '2nd_flr_sf', 'low_qual_fin_sf',\n",
       "       'gr_liv_area', 'bsmt_full_bath', 'bsmt_half_bath', 'full_bath',\n",
       "       'half_bath', 'bedroom_abvgr', 'kitchen_abvgr', 'totrms_abvgrd',\n",
       "       'fireplaces', 'garage_yr_blt', 'garage_cars', 'garage_area',\n",
       "       'wood_deck_sf', 'open_porch_sf', 'enclosed_porch', '3ssn_porch',\n",
       "       'screen_porch', 'pool_area', 'misc_val', 'mo_sold', 'yr_sold',\n",
       "       'saleprice', 'Blueste', 'BrDale', 'BrkSide', 'ClearCr', 'CollgCr',\n",
       "       'Crawfor', 'Edwards', 'Gilbert', 'Greens', 'IDOTRR', 'MeadowV',\n",
       "       'Mitchel', 'NAmes', 'NPkVill', 'NWAmes', 'NoRidge', 'NridgHt',\n",
       "       'OldTown', 'SWISU', 'Sawyer', 'SawyerW', 'Somerst', 'StoneBr', 'Timber',\n",
       "       'Veenker', 'A (agr)', 'C (all)', 'FV', 'I (all)', 'RH', 'RL',\n",
       "       'screen_porch*wood_deck_sf', 'fireplaces*totrms_abvgrd'],\n",
       "      dtype='object')"
      ]
     },
     "execution_count": 38,
     "metadata": {},
     "output_type": "execute_result"
    }
   ],
   "source": [
    "train_df_final.select_dtypes(exclude='object').columns"
   ]
  },
  {
   "cell_type": "code",
   "execution_count": 39,
   "id": "ad973195-fd40-4d48-8297-3f0ab43cf81e",
   "metadata": {},
   "outputs": [
    {
     "data": {
      "text/html": [
       "<div>\n",
       "<style scoped>\n",
       "    .dataframe tbody tr th:only-of-type {\n",
       "        vertical-align: middle;\n",
       "    }\n",
       "\n",
       "    .dataframe tbody tr th {\n",
       "        vertical-align: top;\n",
       "    }\n",
       "\n",
       "    .dataframe thead th {\n",
       "        text-align: right;\n",
       "    }\n",
       "</style>\n",
       "<table border=\"1\" class=\"dataframe\">\n",
       "  <thead>\n",
       "    <tr style=\"text-align: right;\">\n",
       "      <th></th>\n",
       "      <th>ms_subclass</th>\n",
       "      <th>lot_frontage</th>\n",
       "      <th>lot_area</th>\n",
       "      <th>street</th>\n",
       "      <th>alley</th>\n",
       "      <th>lot_shape</th>\n",
       "      <th>land_contour</th>\n",
       "      <th>utilities</th>\n",
       "      <th>lot_config</th>\n",
       "      <th>land_slope</th>\n",
       "      <th>...</th>\n",
       "      <th>Timber</th>\n",
       "      <th>Veenker</th>\n",
       "      <th>A (agr)</th>\n",
       "      <th>C (all)</th>\n",
       "      <th>FV</th>\n",
       "      <th>I (all)</th>\n",
       "      <th>RH</th>\n",
       "      <th>RL</th>\n",
       "      <th>screen_porch*wood_deck_sf</th>\n",
       "      <th>fireplaces*totrms_abvgrd</th>\n",
       "    </tr>\n",
       "    <tr>\n",
       "      <th>id</th>\n",
       "      <th></th>\n",
       "      <th></th>\n",
       "      <th></th>\n",
       "      <th></th>\n",
       "      <th></th>\n",
       "      <th></th>\n",
       "      <th></th>\n",
       "      <th></th>\n",
       "      <th></th>\n",
       "      <th></th>\n",
       "      <th></th>\n",
       "      <th></th>\n",
       "      <th></th>\n",
       "      <th></th>\n",
       "      <th></th>\n",
       "      <th></th>\n",
       "      <th></th>\n",
       "      <th></th>\n",
       "      <th></th>\n",
       "      <th></th>\n",
       "      <th></th>\n",
       "    </tr>\n",
       "  </thead>\n",
       "  <tbody>\n",
       "    <tr>\n",
       "      <th>544</th>\n",
       "      <td>60</td>\n",
       "      <td>43.0</td>\n",
       "      <td>11492</td>\n",
       "      <td>Pave</td>\n",
       "      <td>NoAccess</td>\n",
       "      <td>IR1</td>\n",
       "      <td>Lvl</td>\n",
       "      <td>AllPub</td>\n",
       "      <td>CulDSac</td>\n",
       "      <td>Gtl</td>\n",
       "      <td>...</td>\n",
       "      <td>0</td>\n",
       "      <td>0</td>\n",
       "      <td>0</td>\n",
       "      <td>0</td>\n",
       "      <td>0</td>\n",
       "      <td>0</td>\n",
       "      <td>0</td>\n",
       "      <td>1</td>\n",
       "      <td>0</td>\n",
       "      <td>8</td>\n",
       "    </tr>\n",
       "  </tbody>\n",
       "</table>\n",
       "<p>1 rows × 110 columns</p>\n",
       "</div>"
      ],
      "text/plain": [
       "     ms_subclass  lot_frontage  lot_area street     alley lot_shape  \\\n",
       "id                                                                    \n",
       "544           60          43.0     11492   Pave  NoAccess       IR1   \n",
       "\n",
       "    land_contour utilities lot_config land_slope  ... Timber Veenker A (agr)  \\\n",
       "id                                                ...                          \n",
       "544          Lvl    AllPub    CulDSac        Gtl  ...      0       0       0   \n",
       "\n",
       "    C (all)  FV  I (all)  RH  RL screen_porch*wood_deck_sf  \\\n",
       "id                                                           \n",
       "544       0   0        0   0   1                         0   \n",
       "\n",
       "    fireplaces*totrms_abvgrd  \n",
       "id                            \n",
       "544                        8  \n",
       "\n",
       "[1 rows x 110 columns]"
      ]
     },
     "execution_count": 39,
     "metadata": {},
     "output_type": "execute_result"
    }
   ],
   "source": [
    "train_df_final.head(1)"
   ]
  },
  {
   "cell_type": "code",
   "execution_count": 40,
   "id": "3f61c07e-727c-472a-9c86-73f1eb945e79",
   "metadata": {},
   "outputs": [],
   "source": [
    "# THE FEATURES WE WILL TAKE OUT BASED ON OUR OLS MODEL:\n",
    "\n",
    "# train_df[['lot_frontage', 'bsmtfin_sf_2', 'bsmt_unf_sf', 'central_air',\n",
    "#          'low_qual_fin_sf', 'bsmt_full_bath', 'bsmt_half_bath', 'full_bath', 'half_bath',\n",
    "#          'garage_cars', 'open_porch_sf','enclosed_porch','3ssn_porch', 'misc_val', 'mo_sold']]\n",
    "# I will create features without these ^.......... features_2\n"
   ]
  },
  {
   "cell_type": "code",
   "execution_count": 41,
   "id": "0f9933b1-08f2-4626-ae52-48e69df8f85b",
   "metadata": {},
   "outputs": [
    {
     "data": {
      "text/plain": [
       "57"
      ]
     },
     "execution_count": 41,
     "metadata": {},
     "output_type": "execute_result"
    }
   ],
   "source": [
    "features_2 = train_df_final.select_dtypes(exclude='object').drop(columns=['saleprice', 'lot_frontage', 'bsmtfin_sf_2', 'bsmt_unf_sf', 'central_air',\n",
    "          'low_qual_fin_sf', 'bsmt_full_bath', 'bsmt_half_bath', 'half_bath',\n",
    "      'open_porch_sf','enclosed_porch','3ssn_porch', 'misc_val', 'mo_sold' ]).columns.to_list()\n",
    "len(features_2) #to make my R2 scores slighltly better.. chuck recommended adding 1 or 2 features.. ill add garage_cars and full_bath"
   ]
  },
  {
   "cell_type": "code",
   "execution_count": null,
   "id": "cfbf95bb-5bb3-44fe-bfe0-45acd9481dbb",
   "metadata": {},
   "outputs": [],
   "source": []
  },
  {
   "cell_type": "code",
   "execution_count": null,
   "id": "8a8b89d1-01c5-425b-9ad6-b62e84333f80",
   "metadata": {},
   "outputs": [],
   "source": []
  },
  {
   "cell_type": "code",
   "execution_count": 42,
   "id": "c6ea5527-5b2f-4ac1-aeb9-29c9f0b8001d",
   "metadata": {},
   "outputs": [],
   "source": [
    "#Define 'features' list of features to include in your model\n",
    "# features = ['overall_qual','lot_area', 'gr_liv_area', 'totrms_abvgrd', 'garage_area', 'overall_qual', 'bsmtfin_sf_1', 'bsmt_unf_sf']\n",
    "# features.extend(train_dummies_neighborhood.columns)\n",
    "\n",
    "#or:"
   ]
  },
  {
   "cell_type": "code",
   "execution_count": 43,
   "id": "2a42e8e2-4c19-439b-b46f-fbd737387fa1",
   "metadata": {},
   "outputs": [],
   "source": [
    "#Lets define all our features with int,float dtype:\n",
    "\n",
    "features = train_df_final.select_dtypes(exclude='object').drop(columns='saleprice').columns.to_list() #this is what gave me the best kaggle score! \n",
    "                                                                                                #(without interactive terms and only dummified neighborhoods)\n",
    "        # THOUGHT PROCESS: The more features their are to work with, the better our model will do! \n"
   ]
  },
  {
   "cell_type": "code",
   "execution_count": 44,
   "id": "01d7d8c3-b9aa-47c6-85da-64f450218e9c",
   "metadata": {},
   "outputs": [
    {
     "data": {
      "text/plain": [
       "70"
      ]
     },
     "execution_count": 44,
     "metadata": {},
     "output_type": "execute_result"
    }
   ],
   "source": [
    "len(features)   #we have 62 independent varaibles (25 of those are dummy variables from neighborhood)"
   ]
  },
  {
   "cell_type": "code",
   "execution_count": 45,
   "id": "2cc94e06-8aff-4fcd-bc5f-a734e1ba2174",
   "metadata": {},
   "outputs": [
    {
     "data": {
      "text/plain": [
       "((1677, 110), (878, 110))"
      ]
     },
     "execution_count": 45,
     "metadata": {},
     "output_type": "execute_result"
    }
   ],
   "source": [
    "train_df_final.shape, test_df_final.shape"
   ]
  },
  {
   "cell_type": "code",
   "execution_count": 46,
   "id": "82145792-922e-49f7-8ea6-60b60e2dd5d1",
   "metadata": {},
   "outputs": [],
   "source": [
    "#GOING to take my edited dataframe here to do LASSO RIDGE on a separate file====================\n",
    "train_df_final.to_csv('../datasets/lasso_ridge_train.csv')\n",
    "test_df_final.to_csv('../datasets/lasso_ridge_test.csv')\n",
    "\n",
    "#===================================="
   ]
  },
  {
   "cell_type": "code",
   "execution_count": null,
   "id": "c288aa32-919b-4047-a94a-49058eae856f",
   "metadata": {},
   "outputs": [],
   "source": []
  },
  {
   "cell_type": "code",
   "execution_count": 47,
   "id": "85f5df91-ada9-4754-9c07-18bb2f344e68",
   "metadata": {},
   "outputs": [],
   "source": [
    "#Define X and y\n",
    "X = train_df_final[features_2]      #our training data \n",
    "y = train_df_final['saleprice']   #what we want to predict"
   ]
  },
  {
   "cell_type": "code",
   "execution_count": 48,
   "id": "c753df81-42e0-44cb-bf42-ff162fc41460",
   "metadata": {},
   "outputs": [
    {
     "data": {
      "text/plain": [
       "(1677, 57)"
      ]
     },
     "execution_count": 48,
     "metadata": {},
     "output_type": "execute_result"
    }
   ],
   "source": [
    "X.shape"
   ]
  },
  {
   "cell_type": "code",
   "execution_count": 49,
   "id": "c5222ff7-43ea-4d50-ac75-a16343e6148d",
   "metadata": {},
   "outputs": [
    {
     "data": {
      "text/plain": [
       "Index(['ms_subclass', 'lot_area', 'overall_qual', 'overall_cond', 'year_built',\n",
       "       'year_remod/add', 'mas_vnr_area', 'bsmtfin_sf_1', 'total_bsmt_sf',\n",
       "       '1st_flr_sf', '2nd_flr_sf', 'gr_liv_area', 'full_bath', 'bedroom_abvgr',\n",
       "       'kitchen_abvgr', 'totrms_abvgrd', 'fireplaces', 'garage_yr_blt',\n",
       "       'garage_cars', 'garage_area', 'wood_deck_sf', 'screen_porch',\n",
       "       'pool_area', 'yr_sold', 'Blueste', 'BrDale', 'BrkSide', 'ClearCr',\n",
       "       'CollgCr', 'Crawfor', 'Edwards', 'Gilbert', 'Greens', 'IDOTRR',\n",
       "       'MeadowV', 'Mitchel', 'NAmes', 'NPkVill', 'NWAmes', 'NoRidge',\n",
       "       'NridgHt', 'OldTown', 'SWISU', 'Sawyer', 'SawyerW', 'Somerst',\n",
       "       'StoneBr', 'Timber', 'Veenker', 'A (agr)', 'C (all)', 'FV', 'I (all)',\n",
       "       'RH', 'RL', 'screen_porch*wood_deck_sf', 'fireplaces*totrms_abvgrd'],\n",
       "      dtype='object')"
      ]
     },
     "execution_count": 49,
     "metadata": {},
     "output_type": "execute_result"
    }
   ],
   "source": [
    "X.columns"
   ]
  },
  {
   "cell_type": "code",
   "execution_count": 50,
   "id": "ade6d0ed-dfe7-4762-aa25-6eb8631eded7",
   "metadata": {},
   "outputs": [
    {
     "name": "stdout",
     "output_type": "stream",
     "text": [
      "<class 'pandas.core.frame.DataFrame'>\n",
      "Int64Index: 1677 entries, 544 to 10\n",
      "Data columns (total 57 columns):\n",
      " #   Column                     Non-Null Count  Dtype  \n",
      "---  ------                     --------------  -----  \n",
      " 0   ms_subclass                1677 non-null   int64  \n",
      " 1   lot_area                   1677 non-null   int64  \n",
      " 2   overall_qual               1677 non-null   int64  \n",
      " 3   overall_cond               1677 non-null   int64  \n",
      " 4   year_built                 1677 non-null   int64  \n",
      " 5   year_remod/add             1677 non-null   int64  \n",
      " 6   mas_vnr_area               1677 non-null   float64\n",
      " 7   bsmtfin_sf_1               1677 non-null   float64\n",
      " 8   total_bsmt_sf              1677 non-null   float64\n",
      " 9   1st_flr_sf                 1677 non-null   int64  \n",
      " 10  2nd_flr_sf                 1677 non-null   int64  \n",
      " 11  gr_liv_area                1677 non-null   int64  \n",
      " 12  full_bath                  1677 non-null   int64  \n",
      " 13  bedroom_abvgr              1677 non-null   int64  \n",
      " 14  kitchen_abvgr              1677 non-null   int64  \n",
      " 15  totrms_abvgrd              1677 non-null   int64  \n",
      " 16  fireplaces                 1677 non-null   int64  \n",
      " 17  garage_yr_blt              1677 non-null   float64\n",
      " 18  garage_cars                1677 non-null   float64\n",
      " 19  garage_area                1677 non-null   float64\n",
      " 20  wood_deck_sf               1677 non-null   int64  \n",
      " 21  screen_porch               1677 non-null   int64  \n",
      " 22  pool_area                  1677 non-null   int64  \n",
      " 23  yr_sold                    1677 non-null   int64  \n",
      " 24  Blueste                    1677 non-null   uint8  \n",
      " 25  BrDale                     1677 non-null   uint8  \n",
      " 26  BrkSide                    1677 non-null   uint8  \n",
      " 27  ClearCr                    1677 non-null   uint8  \n",
      " 28  CollgCr                    1677 non-null   uint8  \n",
      " 29  Crawfor                    1677 non-null   uint8  \n",
      " 30  Edwards                    1677 non-null   uint8  \n",
      " 31  Gilbert                    1677 non-null   uint8  \n",
      " 32  Greens                     1677 non-null   uint8  \n",
      " 33  IDOTRR                     1677 non-null   uint8  \n",
      " 34  MeadowV                    1677 non-null   uint8  \n",
      " 35  Mitchel                    1677 non-null   uint8  \n",
      " 36  NAmes                      1677 non-null   uint8  \n",
      " 37  NPkVill                    1677 non-null   uint8  \n",
      " 38  NWAmes                     1677 non-null   uint8  \n",
      " 39  NoRidge                    1677 non-null   uint8  \n",
      " 40  NridgHt                    1677 non-null   uint8  \n",
      " 41  OldTown                    1677 non-null   uint8  \n",
      " 42  SWISU                      1677 non-null   uint8  \n",
      " 43  Sawyer                     1677 non-null   uint8  \n",
      " 44  SawyerW                    1677 non-null   uint8  \n",
      " 45  Somerst                    1677 non-null   uint8  \n",
      " 46  StoneBr                    1677 non-null   uint8  \n",
      " 47  Timber                     1677 non-null   uint8  \n",
      " 48  Veenker                    1677 non-null   uint8  \n",
      " 49  A (agr)                    1677 non-null   uint8  \n",
      " 50  C (all)                    1677 non-null   uint8  \n",
      " 51  FV                         1677 non-null   uint8  \n",
      " 52  I (all)                    1677 non-null   uint8  \n",
      " 53  RH                         1677 non-null   uint8  \n",
      " 54  RL                         1677 non-null   uint8  \n",
      " 55  screen_porch*wood_deck_sf  1677 non-null   int64  \n",
      " 56  fireplaces*totrms_abvgrd   1677 non-null   int64  \n",
      "dtypes: float64(6), int64(20), uint8(31)\n",
      "memory usage: 469.0 KB\n"
     ]
    }
   ],
   "source": [
    "X.info()"
   ]
  },
  {
   "cell_type": "code",
   "execution_count": 51,
   "id": "90f73882-63f1-4e25-b383-f6b00237a0c1",
   "metadata": {},
   "outputs": [],
   "source": [
    "#X.loc[:, ['ms_subclass', 'lot_area'] ];"
   ]
  },
  {
   "cell_type": "markdown",
   "id": "6f9260be-146c-4f78-8914-bce256e34047",
   "metadata": {},
   "source": [
    "### Baseline Score using cross_val_score"
   ]
  },
  {
   "cell_type": "code",
   "execution_count": 52,
   "id": "4919378a-5568-4046-b270-b77de58e0105",
   "metadata": {},
   "outputs": [],
   "source": [
    "from sklearn.model_selection import cross_val_score"
   ]
  },
  {
   "cell_type": "code",
   "execution_count": 53,
   "id": "7e291aef-1799-460a-8ee8-4a906e8530a6",
   "metadata": {},
   "outputs": [],
   "source": [
    "#Instantiate our model\n",
    "lr = LinearRegression()"
   ]
  },
  {
   "cell_type": "code",
   "execution_count": 54,
   "id": "86320ee3-7a49-4083-83d2-a82e3b0bb5a1",
   "metadata": {},
   "outputs": [
    {
     "name": "stdout",
     "output_type": "stream",
     "text": [
      "[0.90514539 0.90948822 0.90304987 0.90844079 0.90380255]\n",
      "0.905985362692806\n"
     ]
    }
   ],
   "source": [
    "print(cross_val_score(lr, X, y))    #Rmember the split is default 5 (cv=5)\n",
    "print(cross_val_score(lr, X, y).mean()) \n",
    "#so our trained model cant fit onto  90% of our observed model,, which is good!"
   ]
  },
  {
   "cell_type": "code",
   "execution_count": 55,
   "id": "00432159-3be3-4d66-9ec1-4dcef1444357",
   "metadata": {},
   "outputs": [],
   "source": [
    "# baseline score all non object columns + (dummified neigborhood and ms_zoning):.905701"
   ]
  },
  {
   "cell_type": "code",
   "execution_count": 56,
   "id": "ffc23a60-18a4-492f-8bf0-48f6b666af8d",
   "metadata": {},
   "outputs": [],
   "source": [
    "# baseline score all non-object columns +  my two interaction terms + (dummified neigborhood and ms_zoning): .906661 (slightly better)"
   ]
  },
  {
   "cell_type": "code",
   "execution_count": null,
   "id": "e80ec133-75e5-4c93-bd8c-cd7661551efd",
   "metadata": {},
   "outputs": [],
   "source": []
  },
  {
   "cell_type": "code",
   "execution_count": null,
   "id": "bc6e9e02-5a6d-4df6-979e-53096fdd27de",
   "metadata": {},
   "outputs": [],
   "source": []
  },
  {
   "cell_type": "code",
   "execution_count": null,
   "id": "9bbdfba1-2b46-42d1-8c65-66b7beff21a7",
   "metadata": {},
   "outputs": [],
   "source": []
  },
  {
   "cell_type": "markdown",
   "id": "a451d58b-d99c-4735-9f1d-fad9a4b690ce",
   "metadata": {},
   "source": [
    "### PolynomialFeatures (Interaction Terms for everything!)  **skip this**"
   ]
  },
  {
   "cell_type": "code",
   "execution_count": 57,
   "id": "d4be68f7-8ce6-48ad-bc76-b457f9500b75",
   "metadata": {},
   "outputs": [],
   "source": [
    "# DO NOT REALLY NEED TO DO THIS... WAY TOO MUCH COMPLEXITY!"
   ]
  },
  {
   "cell_type": "code",
   "execution_count": 58,
   "id": "12c3ce76-1871-4c9a-809c-77adc11f2004",
   "metadata": {},
   "outputs": [],
   "source": [
    "#With our features that we are using lets have them interact with one another and see if it affects are baseline score! "
   ]
  },
  {
   "cell_type": "code",
   "execution_count": 59,
   "id": "dd188f12-a78e-45e8-9ad3-eb9606c0a5d1",
   "metadata": {},
   "outputs": [],
   "source": [
    "#Instantiate Polynomial Features\n",
    "poly = PolynomialFeatures(degree= 2, include_bias=False)"
   ]
  },
  {
   "cell_type": "code",
   "execution_count": 60,
   "id": "b36f7725-3936-42fd-8628-21075e9c508e",
   "metadata": {},
   "outputs": [],
   "source": [
    "#Create X_poly\n",
    "#poly.fit(X[])     #i could subset certain columns and to make interaction terms and then add it back to my train_df\n",
    "#X_poly = poly.transform(X)  #we created our variations of interactions"
   ]
  },
  {
   "cell_type": "code",
   "execution_count": 61,
   "id": "62925d71-26d1-44e6-a322-a6bbb123e98e",
   "metadata": {},
   "outputs": [],
   "source": [
    "# X_poly.shape  #whoah thats a lot of variations"
   ]
  },
  {
   "cell_type": "code",
   "execution_count": 62,
   "id": "4e4b8408-aac7-450e-b280-259ac4780dfe",
   "metadata": {},
   "outputs": [],
   "source": [
    "# #View it in a dataframe:\n",
    "# pd.DataFrame(data = X_poly, columns= poly.get_feature_names(features_2)).shape"
   ]
  },
  {
   "cell_type": "code",
   "execution_count": 63,
   "id": "c58324be-138f-4925-b9ef-beed7989218a",
   "metadata": {},
   "outputs": [],
   "source": [
    "#poly.get_feature_names(X.columns)  ##hmm maybe too many features!!"
   ]
  },
  {
   "cell_type": "markdown",
   "id": "4b8bc742-fbfd-4bbd-8b2b-75126740c327",
   "metadata": {},
   "source": [
    "Evaluate after PolynomialFeatures:"
   ]
  },
  {
   "cell_type": "code",
   "execution_count": 64,
   "id": "46de1971-9122-42d2-b5d5-afe130334687",
   "metadata": {},
   "outputs": [],
   "source": [
    "# lr= LinearRegression()\n",
    "\n",
    "# print(cross_val_score(lr, X_poly, y))\n",
    "# print(cross_val_score(lr, X_poly, y).mean())     #get some funky numbers... do not know how to interpret this!.. I am guessing because way to many features of interaction terms! (1700+)\n",
    "#                                                                                                                                  # look into the The curse of dimensionality (from office hours)\n",
    "                                        # lets just do some simple interaction terms!!   Made it above section under 'Interaction Term'\n",
    "        #"
   ]
  },
  {
   "cell_type": "code",
   "execution_count": null,
   "id": "2d99e4bc-5a31-49f3-a4f0-bf5e0349ce3f",
   "metadata": {},
   "outputs": [],
   "source": []
  },
  {
   "cell_type": "code",
   "execution_count": null,
   "id": "c561eb60-8244-4c07-a091-72c507253251",
   "metadata": {},
   "outputs": [],
   "source": []
  },
  {
   "cell_type": "code",
   "execution_count": null,
   "id": "2d7a4cd2-c948-4884-aa30-020a3ef8a668",
   "metadata": {},
   "outputs": [],
   "source": []
  },
  {
   "cell_type": "markdown",
   "id": "087ccf04-37d6-484e-b560-0e7de8ef4d01",
   "metadata": {},
   "source": [
    "### Scaling"
   ]
  },
  {
   "cell_type": "code",
   "execution_count": 65,
   "id": "d68e2883-c9db-46ed-afcc-a8f95a96c627",
   "metadata": {},
   "outputs": [],
   "source": [
    "# We should scale this data before modeling because of features that work differently on scales.. i.e like square footage or number of bedrooms.. \n",
    "                                                # square footage is in the thousands and number of bedrooms is in the single digits"
   ]
  },
  {
   "cell_type": "code",
   "execution_count": 66,
   "id": "03d1c7ec-a3fa-45fb-9265-daf331b054fd",
   "metadata": {},
   "outputs": [
    {
     "data": {
      "text/plain": [
       "StandardScaler()"
      ]
     },
     "execution_count": 66,
     "metadata": {},
     "output_type": "execute_result"
    }
   ],
   "source": [
    "#Instantiate StandardScalar\n",
    "sc = StandardScaler()\n",
    "sc.fit(X)"
   ]
  },
  {
   "cell_type": "code",
   "execution_count": 67,
   "id": "7105616c-e8d1-439c-a555-f849f2722d59",
   "metadata": {},
   "outputs": [
    {
     "name": "stdout",
     "output_type": "stream",
     "text": [
      "Means: [5.77519380e+01 9.26088611e+03 6.07215265e+00 5.57185450e+00\n",
      " 1.97034526e+03 1.98394335e+03 9.18556947e+01 4.10502683e+02\n",
      " 1.03971497e+03 1.13699523e+03 3.22875969e+02 1.46587835e+03\n",
      " 1.55694693e+00 2.82945736e+00 1.04472272e+00 6.37507454e+00\n",
      " 5.42039356e-01 1.85294275e+03 1.73225999e+00 4.61827072e+02\n",
      " 8.78795468e+01 1.60459153e+01 1.87179487e+00 2.00778533e+03\n",
      " 3.57781753e-03 1.13297555e-02 4.11449016e-02 5.96302922e-03\n",
      " 9.12343470e-02 3.27966607e-02 7.45378652e-02 4.47227191e-02\n",
      " 1.78890877e-03 3.75670841e-02 1.25223614e-02 3.75670841e-02\n",
      " 1.57423971e-01 9.54084675e-03 3.45855695e-02 2.02742993e-02\n",
      " 6.61896243e-02 9.30232558e-02 1.84853906e-02 4.23375075e-02\n",
      " 4.41264162e-02 6.44007156e-02 1.66964818e-02 2.14669052e-02\n",
      " 7.15563506e-03 5.96302922e-04 1.13297555e-02 4.88968396e-02\n",
      " 5.96302922e-04 6.55933214e-03 7.60286225e-01 8.47853309e+02\n",
      " 3.71973763e+00]\n",
      "Standard Deviation:  [4.37223364e+01 3.55500752e+03 1.42058080e+00 1.10902180e+00\n",
      " 3.14832597e+01 2.15062723e+01 1.65109405e+02 4.30014519e+02\n",
      " 4.16770950e+02 3.63672300e+02 4.12676466e+02 4.66133963e+02\n",
      " 5.37120333e-01 8.14018795e-01 2.15175312e-01 1.50947675e+00\n",
      " 6.13059147e-01 4.81969306e+02 7.81717424e-01 2.17583676e+02\n",
      " 1.19475672e+02 5.64598499e+01 3.31471254e+01 1.31880558e+00\n",
      " 5.97077612e-02 1.05836630e-01 1.98625272e-01 7.69900740e-02\n",
      " 2.87942079e-01 1.78104014e-01 2.62644193e-01 2.06694455e-01\n",
      " 4.22576451e-02 1.90146781e-01 1.11200503e-01 1.90146781e-01\n",
      " 3.64200034e-01 9.72101795e-02 1.82727688e-01 1.40937050e-01\n",
      " 2.48613270e-01 2.90465023e-01 1.34698481e-01 2.01357997e-01\n",
      " 2.05375937e-01 2.45465402e-01 1.28131609e-01 1.44934734e-01\n",
      " 8.42877924e-02 2.44120328e-02 1.05836630e-01 2.15652356e-01\n",
      " 2.44120328e-02 8.07236477e-02 4.26908750e-01 6.81445294e+03\n",
      " 4.47295435e+00]\n"
     ]
    }
   ],
   "source": [
    "print('Means:', sc.mean_)\n",
    "print(\"Standard Deviation: \", sc.scale_) #for every feature in my dataset \n",
    "#for every 1 std dev increase in overall qual , the prices increases by hte amount of the coef (at my graph)\n",
    "\n",
    "#here! for example.. for 1.109  increase in overall qual, the price would increase by (w/e value the coef is)"
   ]
  },
  {
   "cell_type": "code",
   "execution_count": 68,
   "id": "d3f67544-844d-44a2-881a-d16c1849f333",
   "metadata": {},
   "outputs": [],
   "source": [
    "X_scaled = sc.transform(X)   #X_scaled outputs and arrays of arays"
   ]
  },
  {
   "cell_type": "code",
   "execution_count": null,
   "id": "4369b2b5-ed4d-4bb2-948c-248d54f8454d",
   "metadata": {},
   "outputs": [],
   "source": []
  },
  {
   "cell_type": "code",
   "execution_count": 69,
   "id": "4383fbc8-4140-4e05-aeb9-42c3f977869c",
   "metadata": {},
   "outputs": [
    {
     "data": {
      "text/html": [
       "<div>\n",
       "<style scoped>\n",
       "    .dataframe tbody tr th:only-of-type {\n",
       "        vertical-align: middle;\n",
       "    }\n",
       "\n",
       "    .dataframe tbody tr th {\n",
       "        vertical-align: top;\n",
       "    }\n",
       "\n",
       "    .dataframe thead th {\n",
       "        text-align: right;\n",
       "    }\n",
       "</style>\n",
       "<table border=\"1\" class=\"dataframe\">\n",
       "  <thead>\n",
       "    <tr style=\"text-align: right;\">\n",
       "      <th></th>\n",
       "      <th>Scaled</th>\n",
       "    </tr>\n",
       "  </thead>\n",
       "  <tbody>\n",
       "    <tr>\n",
       "      <th>ms_subclass</th>\n",
       "      <td>43.722336</td>\n",
       "    </tr>\n",
       "    <tr>\n",
       "      <th>lot_area</th>\n",
       "      <td>3555.007516</td>\n",
       "    </tr>\n",
       "    <tr>\n",
       "      <th>overall_qual</th>\n",
       "      <td>1.420581</td>\n",
       "    </tr>\n",
       "    <tr>\n",
       "      <th>overall_cond</th>\n",
       "      <td>1.109022</td>\n",
       "    </tr>\n",
       "    <tr>\n",
       "      <th>year_built</th>\n",
       "      <td>31.483260</td>\n",
       "    </tr>\n",
       "  </tbody>\n",
       "</table>\n",
       "</div>"
      ],
      "text/plain": [
       "                   Scaled\n",
       "ms_subclass     43.722336\n",
       "lot_area      3555.007516\n",
       "overall_qual     1.420581\n",
       "overall_cond     1.109022\n",
       "year_built      31.483260"
      ]
     },
     "execution_count": 69,
     "metadata": {},
     "output_type": "execute_result"
    }
   ],
   "source": [
    "coef_df2_t = pd.DataFrame({\n",
    "    'Scaled': sc.scale_\n",
    "}, index= X.columns\n",
    ")  \n",
    "coef_df2_t[:5]\n",
    "# in scaled terms!  1.42 std of overall_qual is equal to\n",
    "# for 1.42 increase in overall_qual the price of the home increases by (look at the number of the coef of the scaled or normlaized data!)"
   ]
  },
  {
   "cell_type": "code",
   "execution_count": 70,
   "id": "3e497563-7b1c-4db5-8e5d-2de3a8c9bb7f",
   "metadata": {},
   "outputs": [],
   "source": [
    "#lot_area: 4442.865  (all non object columns + (dummified neigborhood and ms_zoning)"
   ]
  },
  {
   "cell_type": "code",
   "execution_count": null,
   "id": "07e8e911-ca4e-40f9-9ae4-8103777d8da1",
   "metadata": {},
   "outputs": [],
   "source": []
  },
  {
   "cell_type": "markdown",
   "id": "894f86ad-aa97-4b7f-abf5-f0a62275dd90",
   "metadata": {},
   "source": [
    "### Linear Regression (Scaled)"
   ]
  },
  {
   "cell_type": "code",
   "execution_count": 71,
   "id": "ef66773e-215e-47d2-a951-d2b957f5eaaa",
   "metadata": {},
   "outputs": [],
   "source": [
    "#Train test split\n",
    "X_train2, X_test2, y_train2, y_test2 = train_test_split(X_scaled, y, random_state=42, train_size=.8)"
   ]
  },
  {
   "cell_type": "code",
   "execution_count": 72,
   "id": "5f6c6f75-05c0-4373-aa91-75438a68ced7",
   "metadata": {},
   "outputs": [
    {
     "data": {
      "text/plain": [
       "((1341, 57), (336, 57))"
      ]
     },
     "execution_count": 72,
     "metadata": {},
     "output_type": "execute_result"
    }
   ],
   "source": [
    "#take a look at the shapes of X_train and X_test\n",
    "X_train2.shape, X_test2.shape"
   ]
  },
  {
   "cell_type": "code",
   "execution_count": 73,
   "id": "7ab989e0-0c7c-4149-aa06-953716a190a4",
   "metadata": {},
   "outputs": [
    {
     "data": {
      "text/plain": [
       "73214.31755488492"
      ]
     },
     "execution_count": 73,
     "metadata": {},
     "output_type": "execute_result"
    }
   ],
   "source": [
    "## Establish a baseline model for comparison... whats our baseline RMSE.. when we are training our model we can see that are model is doing better then our baseline model!!!!\n",
    "## We can think of our baseline model as a naive model that always predicts the mean of our target\n",
    "y_test_baseline2 = [y_train2.mean()] * len(y_test2)  #the value we are predicting is the avg of our y_train\n",
    "\n",
    "\n",
    "mean_squared_error(y_test2, y_test_baseline2) ** 0.5\n",
    "\n",
    "#on avg how far off is your predicted value of a home from the actual value of the home!\n",
    "# "
   ]
  },
  {
   "cell_type": "markdown",
   "id": "720e31ca-f05f-46ad-bdc7-858ed91647e5",
   "metadata": {},
   "source": [
    "**On average, our SCALED baseline model prediction is off by 73k dollars for home sale prices.**"
   ]
  },
  {
   "cell_type": "code",
   "execution_count": 74,
   "id": "a7c17631-45bf-4898-8caa-d339ab1d399c",
   "metadata": {},
   "outputs": [],
   "source": [
    "#updated by removing few of the outliers from lot_area: 73k\n",
    "# all non object columns + (dummified neigborhood and ms_zoning) MSE: 75,341.142556\n",
    "#all non object columns + (dummified neigborhood and ms_zoning) + 2 interaction terms: same as prev   (when train size=.7 its 76k... .8 brings it down to 75420)"
   ]
  },
  {
   "cell_type": "code",
   "execution_count": 75,
   "id": "543f5df6-5870-46a2-9ecb-0f0f02686f11",
   "metadata": {},
   "outputs": [
    {
     "data": {
      "text/plain": [
       "LinearRegression()"
      ]
     },
     "execution_count": 75,
     "metadata": {},
     "output_type": "execute_result"
    }
   ],
   "source": [
    "# Instantiate and fit a linear regression model to your training data\n",
    "lr2 = LinearRegression()\n",
    "lr2.fit(X_train2, y_train2)"
   ]
  },
  {
   "cell_type": "code",
   "execution_count": 76,
   "id": "45b9d200-cdc7-428b-a29d-1a17148ce64c",
   "metadata": {},
   "outputs": [
    {
     "name": "stdout",
     "output_type": "stream",
     "text": [
      "Train RMSE: 21561.609558533713\n",
      "Test RMSE: 24400.616291786264\n"
     ]
    }
   ],
   "source": [
    "#Evaluate model on both training and testing data using RMSE\n",
    "print(f'Train RMSE: {mean_squared_error(y_train2, lr2.predict(X_train2), squared=False)}')\n",
    "print(f'Test RMSE: {mean_squared_error(y_test2, lr2.predict(X_test2), squared = False)}')"
   ]
  },
  {
   "cell_type": "code",
   "execution_count": 77,
   "id": "2055a0ee-f5fc-4fa1-8ef5-6d885949f1e0",
   "metadata": {},
   "outputs": [],
   "source": [
    "#all non object columns + (dummified neigborhood and ms_zoning) + 2 interaction terms:\n",
    "# train is off by 21782.24\n",
    "#train is off by 23057.58      # a bit of distance between the two  (this when by train set to default param)\n",
    "\n",
    "\n",
    "\n",
    "#   Our Train set is off by +/- 22k dollars   #(This is when we include all the columns that are non-object type and neigborhood/ms_zoning column is dummified!) and exclude the features mentioned from OLS\n",
    "#   Our test set is off by 22k dollars.\n",
    "#my model is significantly beating the baseline here!!!!"
   ]
  },
  {
   "cell_type": "code",
   "execution_count": 78,
   "id": "f465189c-89cd-47cd-94ee-7024bc8f1df9",
   "metadata": {},
   "outputs": [],
   "source": [
    "#   Our Train set is off by 22k dollars   #(This is when we include all the columns that are non-object type and neigborhood column is dummified!)\n",
    "#   Our test set is off by 22k dollars."
   ]
  },
  {
   "cell_type": "code",
   "execution_count": 79,
   "id": "e75899ce-37cf-4b90-aa78-dfdb64d1338f",
   "metadata": {},
   "outputs": [
    {
     "data": {
      "text/plain": [
       "array([-6533.70389558,  6553.96355333, 15967.4616173 ,  5927.04731954,\n",
       "       15551.54207534,  2892.87069892,  3463.50338159, 10033.96036203,\n",
       "        5788.92567454, 17712.47870893, 18689.223231  ,  3980.05416292,\n",
       "        -499.9306499 , -4851.44515297,  -543.95592129,   680.52191494,\n",
       "       -7651.89295382, -4503.88135386,  2942.683987  ,  6532.74189079,\n",
       "        1935.70581896,  1462.42362842,   162.40138268,  -864.07786846,\n",
       "         572.58888563,   439.9097914 ,  2863.83360295,  -260.57510393,\n",
       "       -1060.67907413,  4985.83479384,  -379.05495876,  -408.5216265 ,\n",
       "          44.93414843,  2390.67173616,  1386.94621789, -1457.10142144,\n",
       "       -2019.73869127,   758.60006073, -3917.43067281,  1656.21615723,\n",
       "        8308.64365128,  2128.79285294,  1211.76811485,  -897.96950074,\n",
       "       -2195.51284099,  1946.22670036,  6363.45807661,  1668.84176278,\n",
       "        2501.46858693, -1089.14446984,  -555.67014896,  2709.69292397,\n",
       "          44.22239959,  1070.81398484,  1957.71367507,  1108.79035194,\n",
       "       10480.66424769])"
      ]
     },
     "execution_count": 79,
     "metadata": {},
     "output_type": "execute_result"
    }
   ],
   "source": [
    "#Look at the coef for each feature\n",
    "lr2.coef_"
   ]
  },
  {
   "cell_type": "code",
   "execution_count": 80,
   "id": "4479982e-ed76-4d06-9af4-bb89ae014cda",
   "metadata": {},
   "outputs": [
    {
     "data": {
      "text/html": [
       "<div>\n",
       "<style scoped>\n",
       "    .dataframe tbody tr th:only-of-type {\n",
       "        vertical-align: middle;\n",
       "    }\n",
       "\n",
       "    .dataframe tbody tr th {\n",
       "        vertical-align: top;\n",
       "    }\n",
       "\n",
       "    .dataframe thead th {\n",
       "        text-align: right;\n",
       "    }\n",
       "</style>\n",
       "<table border=\"1\" class=\"dataframe\">\n",
       "  <thead>\n",
       "    <tr style=\"text-align: right;\">\n",
       "      <th></th>\n",
       "      <th>coef</th>\n",
       "    </tr>\n",
       "  </thead>\n",
       "  <tbody>\n",
       "    <tr>\n",
       "      <th>Blueste</th>\n",
       "      <td>572.588886</td>\n",
       "    </tr>\n",
       "    <tr>\n",
       "      <th>BrDale</th>\n",
       "      <td>439.909791</td>\n",
       "    </tr>\n",
       "    <tr>\n",
       "      <th>BrkSide</th>\n",
       "      <td>2863.833603</td>\n",
       "    </tr>\n",
       "    <tr>\n",
       "      <th>ClearCr</th>\n",
       "      <td>-260.575104</td>\n",
       "    </tr>\n",
       "    <tr>\n",
       "      <th>CollgCr</th>\n",
       "      <td>-1060.679074</td>\n",
       "    </tr>\n",
       "    <tr>\n",
       "      <th>Crawfor</th>\n",
       "      <td>4985.834794</td>\n",
       "    </tr>\n",
       "    <tr>\n",
       "      <th>Edwards</th>\n",
       "      <td>-379.054959</td>\n",
       "    </tr>\n",
       "    <tr>\n",
       "      <th>Gilbert</th>\n",
       "      <td>-408.521627</td>\n",
       "    </tr>\n",
       "    <tr>\n",
       "      <th>Greens</th>\n",
       "      <td>44.934148</td>\n",
       "    </tr>\n",
       "    <tr>\n",
       "      <th>IDOTRR</th>\n",
       "      <td>2390.671736</td>\n",
       "    </tr>\n",
       "    <tr>\n",
       "      <th>MeadowV</th>\n",
       "      <td>1386.946218</td>\n",
       "    </tr>\n",
       "    <tr>\n",
       "      <th>Mitchel</th>\n",
       "      <td>-1457.101421</td>\n",
       "    </tr>\n",
       "    <tr>\n",
       "      <th>NAmes</th>\n",
       "      <td>-2019.738691</td>\n",
       "    </tr>\n",
       "    <tr>\n",
       "      <th>NPkVill</th>\n",
       "      <td>758.600061</td>\n",
       "    </tr>\n",
       "    <tr>\n",
       "      <th>NWAmes</th>\n",
       "      <td>-3917.430673</td>\n",
       "    </tr>\n",
       "    <tr>\n",
       "      <th>NoRidge</th>\n",
       "      <td>1656.216157</td>\n",
       "    </tr>\n",
       "    <tr>\n",
       "      <th>NridgHt</th>\n",
       "      <td>8308.643651</td>\n",
       "    </tr>\n",
       "    <tr>\n",
       "      <th>OldTown</th>\n",
       "      <td>2128.792853</td>\n",
       "    </tr>\n",
       "    <tr>\n",
       "      <th>SWISU</th>\n",
       "      <td>1211.768115</td>\n",
       "    </tr>\n",
       "    <tr>\n",
       "      <th>Sawyer</th>\n",
       "      <td>-897.969501</td>\n",
       "    </tr>\n",
       "    <tr>\n",
       "      <th>SawyerW</th>\n",
       "      <td>-2195.512841</td>\n",
       "    </tr>\n",
       "    <tr>\n",
       "      <th>Somerst</th>\n",
       "      <td>1946.226700</td>\n",
       "    </tr>\n",
       "    <tr>\n",
       "      <th>StoneBr</th>\n",
       "      <td>6363.458077</td>\n",
       "    </tr>\n",
       "    <tr>\n",
       "      <th>Timber</th>\n",
       "      <td>1668.841763</td>\n",
       "    </tr>\n",
       "    <tr>\n",
       "      <th>Veenker</th>\n",
       "      <td>2501.468587</td>\n",
       "    </tr>\n",
       "  </tbody>\n",
       "</table>\n",
       "</div>"
      ],
      "text/plain": [
       "                coef\n",
       "Blueste   572.588886\n",
       "BrDale    439.909791\n",
       "BrkSide  2863.833603\n",
       "ClearCr  -260.575104\n",
       "CollgCr -1060.679074\n",
       "Crawfor  4985.834794\n",
       "Edwards  -379.054959\n",
       "Gilbert  -408.521627\n",
       "Greens     44.934148\n",
       "IDOTRR   2390.671736\n",
       "MeadowV  1386.946218\n",
       "Mitchel -1457.101421\n",
       "NAmes   -2019.738691\n",
       "NPkVill   758.600061\n",
       "NWAmes  -3917.430673\n",
       "NoRidge  1656.216157\n",
       "NridgHt  8308.643651\n",
       "OldTown  2128.792853\n",
       "SWISU    1211.768115\n",
       "Sawyer   -897.969501\n",
       "SawyerW -2195.512841\n",
       "Somerst  1946.226700\n",
       "StoneBr  6363.458077\n",
       "Timber   1668.841763\n",
       "Veenker  2501.468587"
      ]
     },
     "execution_count": 80,
     "metadata": {},
     "output_type": "execute_result"
    }
   ],
   "source": [
    "coef_df2 = pd.DataFrame({\n",
    "    'coef': lr2.coef_\n",
    "}, index= X.columns\n",
    ")   #magnitude of the features\n",
    "\n",
    "coef_df2['Blueste':'Veenker']  #look at these coef to see what neg affects our model!!!"
   ]
  },
  {
   "cell_type": "code",
   "execution_count": 81,
   "id": "fd0e988f-8b03-4fd1-8647-e3caa2dd79e8",
   "metadata": {},
   "outputs": [],
   "source": [
    "#make a bar chart to visualize coeff\n",
    "#coef_df2.plot(kind= 'barh', figsize = (10, 20));\n",
    "\n",
    "\n",
    "# DID A COMPARISON OF THIS DOWN BELOW!!"
   ]
  },
  {
   "cell_type": "code",
   "execution_count": null,
   "id": "b3e8d688-5a26-4529-bd07-5a829d576665",
   "metadata": {},
   "outputs": [],
   "source": []
  },
  {
   "cell_type": "code",
   "execution_count": null,
   "id": "2cc73e62-8ad9-4eaf-bf3e-e4d581496494",
   "metadata": {},
   "outputs": [],
   "source": []
  },
  {
   "cell_type": "markdown",
   "id": "05ef0fe3-edc4-4ad2-905b-5d60c6860a60",
   "metadata": {},
   "source": [
    "### Linear Regression (unscaled) "
   ]
  },
  {
   "cell_type": "code",
   "execution_count": 82,
   "id": "94b549f4-b42a-42eb-9c42-f0ade24e2e74",
   "metadata": {},
   "outputs": [],
   "source": [
    "#Train test split\n",
    "X_train, X_test, y_train, y_test = train_test_split(X, y, random_state=42)"
   ]
  },
  {
   "cell_type": "code",
   "execution_count": 83,
   "id": "238e4bbb-b8a1-40c0-9856-1433e46213f4",
   "metadata": {},
   "outputs": [
    {
     "data": {
      "text/plain": [
       "((1257, 57), (420, 57))"
      ]
     },
     "execution_count": 83,
     "metadata": {},
     "output_type": "execute_result"
    }
   ],
   "source": [
    "#take a look at the shapes of X_train and X_test\n",
    "X_train.shape, X_test.shape"
   ]
  },
  {
   "cell_type": "code",
   "execution_count": null,
   "id": "d4d0ff42-23f4-418f-be57-a3094a54aa2c",
   "metadata": {},
   "outputs": [],
   "source": []
  },
  {
   "cell_type": "code",
   "execution_count": 84,
   "id": "72029f16-55e5-42d5-8045-54656cdd6497",
   "metadata": {},
   "outputs": [
    {
     "data": {
      "text/plain": [
       "78614.86707985436"
      ]
     },
     "execution_count": 84,
     "metadata": {},
     "output_type": "execute_result"
    }
   ],
   "source": [
    "## Establish a baseline model for comparison... whats our baseline RMSE.. when we are training our model we can see that are model is doing better then our baseline model!!!!\n",
    "## We can think of our baseline model as a naive model that always predicts the mean of our target\n",
    "y_test_baseline = [y_train.mean()] * len(y_test)  #the value we are predicting is the avg of our y_train\n",
    "\n",
    "\n",
    "mean_squared_error(y_test, y_test_baseline) ** 0.5\n",
    "\n",
    "#on avg how far off is your predicted value of a home from the actual value of the home!\n",
    "# "
   ]
  },
  {
   "cell_type": "markdown",
   "id": "5fdd5f0a-94d7-49b6-88c7-f3fdcc9bc58b",
   "metadata": {},
   "source": [
    "**On average, our baseline model prediction is off by 78k dollars for home sale prices.**"
   ]
  },
  {
   "cell_type": "markdown",
   "id": "5bdb0ad3-dd1e-4912-8058-56dcf1885dc9",
   "metadata": {},
   "source": [
    "On average, our baseline model prediction is off by 75k dollars for home sale prices. (this before I removed outliers from lot_area)"
   ]
  },
  {
   "cell_type": "markdown",
   "id": "6ea52c1b-7148-47d0-a1b2-43d08cf1d4f1",
   "metadata": {},
   "source": [
    "(This is when we include all the columns that are non-object type and neigborhood column is dummified!)"
   ]
  },
  {
   "cell_type": "markdown",
   "id": "7914a3c8-9be5-4e87-931f-f73b1b849e95",
   "metadata": {},
   "source": [
    "(The baseline score looks the same even after removing a few features that are thought not likely to predict salesprice and we also dummified ms_zoning! )"
   ]
  },
  {
   "cell_type": "code",
   "execution_count": 85,
   "id": "3e139cc9-8e69-4a72-8fe6-8022c38e43b6",
   "metadata": {},
   "outputs": [],
   "source": [
    "#this number will change a bit depending how I change/clean up my dataset on train file!"
   ]
  },
  {
   "cell_type": "code",
   "execution_count": null,
   "id": "00fbac93-8625-4809-bac4-b20860d9ac89",
   "metadata": {},
   "outputs": [],
   "source": []
  },
  {
   "cell_type": "code",
   "execution_count": 86,
   "id": "429e71c9-0b16-4255-b316-304fdf70a9f6",
   "metadata": {},
   "outputs": [
    {
     "data": {
      "text/plain": [
       "LinearRegression()"
      ]
     },
     "execution_count": 86,
     "metadata": {},
     "output_type": "execute_result"
    }
   ],
   "source": [
    "# Instantiate and fit a linear regression model to your training data\n",
    "lr = LinearRegression()\n",
    "lr.fit(X_train, y_train)"
   ]
  },
  {
   "cell_type": "code",
   "execution_count": 87,
   "id": "d67033b7-0b1a-406f-95aa-789b4a9c8a85",
   "metadata": {},
   "outputs": [
    {
     "name": "stdout",
     "output_type": "stream",
     "text": [
      "Train RMSE: 21508.809190006396\n",
      "Test RMSE: 24323.64385997704\n"
     ]
    }
   ],
   "source": [
    "#Evaluate model on both training and testing data using RMSE\n",
    "print(f'Train RMSE: {mean_squared_error(y_train, lr.predict(X_train), squared=False)}')\n",
    "print(f'Test RMSE: {mean_squared_error(y_test, lr.predict(X_test), squared = False)}')"
   ]
  },
  {
   "cell_type": "code",
   "execution_count": 88,
   "id": "3df36073-2bbb-4c17-831a-6ea114e5c9a2",
   "metadata": {},
   "outputs": [],
   "source": [
    "#all non object columns + (dummified neigborhood and ms_zoning) + 2 interaction terms:\n",
    "# train is off by 21782.24\n",
    "#train is off by 23057.58      # a bit of distance between the two  (this when by train set to default param)\n",
    "\n",
    "\n",
    "\n",
    "#   Our Train set is off by +/- 22k dollars   #(This is when we include all the columns that are non-object type and neigborhood/ms_zoning column is dummified!) and exclude the features mentioned from OLS\n",
    "#   Our test set is off by 22k dollars.\n",
    "#my model is significantly beating the baseline here!!!!"
   ]
  },
  {
   "cell_type": "code",
   "execution_count": 89,
   "id": "fcc66c60-92b4-4044-ae8b-13bdb641c7f2",
   "metadata": {},
   "outputs": [
    {
     "data": {
      "text/plain": [
       "array([0.90514539, 0.90948822, 0.90304987, 0.90844079, 0.90380255])"
      ]
     },
     "execution_count": 89,
     "metadata": {},
     "output_type": "execute_result"
    }
   ],
   "source": [
    "cross_val_score(lr, X, y)"
   ]
  },
  {
   "cell_type": "code",
   "execution_count": 90,
   "id": "a976caa2-2f46-4a48-81b9-72bd797c2089",
   "metadata": {},
   "outputs": [
    {
     "data": {
      "text/plain": [
       "array([22863.79955007, 22952.170916  , 23913.05813113, 22409.76228905,\n",
       "       23506.79451226])"
      ]
     },
     "execution_count": 90,
     "metadata": {},
     "output_type": "execute_result"
    }
   ],
   "source": [
    "cross_val_score(lr,X,y, scoring='neg_root_mean_squared_error')* -1"
   ]
  },
  {
   "cell_type": "code",
   "execution_count": 91,
   "id": "02c3f6a7-c6e5-4f57-9dae-2d3c27e1c1da",
   "metadata": {},
   "outputs": [],
   "source": [
    "#   Our Train set is off by 22k dollars   #(This is when we include all the columns that are non-object type and neigborhood column is dummified!)\n",
    "#   Our test set is off by 22k dollars."
   ]
  },
  {
   "cell_type": "code",
   "execution_count": null,
   "id": "df47a967-cc0d-4ff3-ba5e-67676c7f6146",
   "metadata": {},
   "outputs": [],
   "source": []
  },
  {
   "cell_type": "code",
   "execution_count": 92,
   "id": "29d3ac10-3a30-4557-ae3a-7b5f6aef7dad",
   "metadata": {},
   "outputs": [
    {
     "data": {
      "text/plain": [
       "array([-1.46566792e+02,  1.87533733e+00,  1.10618163e+04,  5.49020963e+03,\n",
       "        4.81764573e+02,  1.42944243e+02,  1.95865609e+01,  2.21953780e+01,\n",
       "        1.42581556e+01,  4.86905858e+01,  4.38370670e+01,  9.33842109e+00,\n",
       "       -7.35678443e+02, -6.02243961e+03, -4.04508115e+03,  4.85082905e+02,\n",
       "       -1.12080866e+04, -1.06265999e+01,  4.32644422e+03,  2.75226246e+01,\n",
       "        1.63984301e+01,  2.09907885e+01,  7.82253530e+00, -6.14405757e+02,\n",
       "        1.01546606e+04,  6.14827201e+03,  1.49675819e+04, -2.78990450e+03,\n",
       "       -1.63473325e+03,  2.93182432e+04, -1.59391371e+03, -3.56481812e+02,\n",
       "        2.10182782e+03,  1.24564427e+04,  1.16125904e+04, -6.64075936e+03,\n",
       "       -4.65911251e+03,  8.84840053e+03, -2.14708957e+04,  1.39903228e+04,\n",
       "        3.36645859e+04,  7.42249688e+03,  9.81949290e+03, -3.92095410e+03,\n",
       "       -8.84605217e+03,  1.12660338e+04,  5.04304298e+04,  1.01162349e+04,\n",
       "        3.06019556e+04, -4.47409819e+04, -6.81298279e+03,  1.01292227e+04,\n",
       "        1.14351125e+03,  1.43071922e+04,  4.14925473e+03,  3.90473796e-01,\n",
       "        2.16729891e+03])"
      ]
     },
     "execution_count": 92,
     "metadata": {},
     "output_type": "execute_result"
    }
   ],
   "source": [
    "#Look at the coef for each feature\n",
    "lr.coef_"
   ]
  },
  {
   "cell_type": "code",
   "execution_count": 93,
   "id": "20bc364b-c015-4aea-a986-5fd49b672af5",
   "metadata": {},
   "outputs": [
    {
     "data": {
      "text/plain": [
       "Index(['ms_subclass', 'lot_area', 'overall_qual', 'overall_cond', 'year_built',\n",
       "       'year_remod/add', 'mas_vnr_area', 'bsmtfin_sf_1', 'total_bsmt_sf',\n",
       "       '1st_flr_sf', '2nd_flr_sf', 'gr_liv_area', 'full_bath', 'bedroom_abvgr',\n",
       "       'kitchen_abvgr', 'totrms_abvgrd', 'fireplaces', 'garage_yr_blt',\n",
       "       'garage_cars', 'garage_area', 'wood_deck_sf', 'screen_porch',\n",
       "       'pool_area', 'yr_sold', 'Blueste', 'BrDale', 'BrkSide', 'ClearCr',\n",
       "       'CollgCr', 'Crawfor', 'Edwards', 'Gilbert', 'Greens', 'IDOTRR',\n",
       "       'MeadowV', 'Mitchel', 'NAmes', 'NPkVill', 'NWAmes', 'NoRidge',\n",
       "       'NridgHt', 'OldTown', 'SWISU', 'Sawyer', 'SawyerW', 'Somerst',\n",
       "       'StoneBr', 'Timber', 'Veenker', 'A (agr)', 'C (all)', 'FV', 'I (all)',\n",
       "       'RH', 'RL', 'screen_porch*wood_deck_sf', 'fireplaces*totrms_abvgrd'],\n",
       "      dtype='object')"
      ]
     },
     "execution_count": 93,
     "metadata": {},
     "output_type": "execute_result"
    }
   ],
   "source": [
    "X.columns"
   ]
  },
  {
   "cell_type": "code",
   "execution_count": 94,
   "id": "504dfa60-6f77-4c40-941f-c556f8abc1cd",
   "metadata": {},
   "outputs": [
    {
     "data": {
      "text/html": [
       "<div>\n",
       "<style scoped>\n",
       "    .dataframe tbody tr th:only-of-type {\n",
       "        vertical-align: middle;\n",
       "    }\n",
       "\n",
       "    .dataframe tbody tr th {\n",
       "        vertical-align: top;\n",
       "    }\n",
       "\n",
       "    .dataframe thead th {\n",
       "        text-align: right;\n",
       "    }\n",
       "</style>\n",
       "<table border=\"1\" class=\"dataframe\">\n",
       "  <thead>\n",
       "    <tr style=\"text-align: right;\">\n",
       "      <th></th>\n",
       "      <th>coef</th>\n",
       "    </tr>\n",
       "  </thead>\n",
       "  <tbody>\n",
       "    <tr>\n",
       "      <th>Blueste</th>\n",
       "      <td>10154.660614</td>\n",
       "    </tr>\n",
       "    <tr>\n",
       "      <th>BrDale</th>\n",
       "      <td>6148.272007</td>\n",
       "    </tr>\n",
       "    <tr>\n",
       "      <th>BrkSide</th>\n",
       "      <td>14967.581937</td>\n",
       "    </tr>\n",
       "    <tr>\n",
       "      <th>ClearCr</th>\n",
       "      <td>-2789.904501</td>\n",
       "    </tr>\n",
       "    <tr>\n",
       "      <th>CollgCr</th>\n",
       "      <td>-1634.733255</td>\n",
       "    </tr>\n",
       "    <tr>\n",
       "      <th>Crawfor</th>\n",
       "      <td>29318.243190</td>\n",
       "    </tr>\n",
       "    <tr>\n",
       "      <th>Edwards</th>\n",
       "      <td>-1593.913707</td>\n",
       "    </tr>\n",
       "    <tr>\n",
       "      <th>Gilbert</th>\n",
       "      <td>-356.481812</td>\n",
       "    </tr>\n",
       "    <tr>\n",
       "      <th>Greens</th>\n",
       "      <td>2101.827819</td>\n",
       "    </tr>\n",
       "    <tr>\n",
       "      <th>IDOTRR</th>\n",
       "      <td>12456.442708</td>\n",
       "    </tr>\n",
       "    <tr>\n",
       "      <th>MeadowV</th>\n",
       "      <td>11612.590364</td>\n",
       "    </tr>\n",
       "    <tr>\n",
       "      <th>Mitchel</th>\n",
       "      <td>-6640.759365</td>\n",
       "    </tr>\n",
       "    <tr>\n",
       "      <th>NAmes</th>\n",
       "      <td>-4659.112508</td>\n",
       "    </tr>\n",
       "    <tr>\n",
       "      <th>NPkVill</th>\n",
       "      <td>8848.400533</td>\n",
       "    </tr>\n",
       "    <tr>\n",
       "      <th>NWAmes</th>\n",
       "      <td>-21470.895723</td>\n",
       "    </tr>\n",
       "    <tr>\n",
       "      <th>NoRidge</th>\n",
       "      <td>13990.322811</td>\n",
       "    </tr>\n",
       "    <tr>\n",
       "      <th>NridgHt</th>\n",
       "      <td>33664.585907</td>\n",
       "    </tr>\n",
       "    <tr>\n",
       "      <th>OldTown</th>\n",
       "      <td>7422.496885</td>\n",
       "    </tr>\n",
       "    <tr>\n",
       "      <th>SWISU</th>\n",
       "      <td>9819.492899</td>\n",
       "    </tr>\n",
       "    <tr>\n",
       "      <th>Sawyer</th>\n",
       "      <td>-3920.954104</td>\n",
       "    </tr>\n",
       "    <tr>\n",
       "      <th>SawyerW</th>\n",
       "      <td>-8846.052165</td>\n",
       "    </tr>\n",
       "    <tr>\n",
       "      <th>Somerst</th>\n",
       "      <td>11266.033819</td>\n",
       "    </tr>\n",
       "    <tr>\n",
       "      <th>StoneBr</th>\n",
       "      <td>50430.429840</td>\n",
       "    </tr>\n",
       "    <tr>\n",
       "      <th>Timber</th>\n",
       "      <td>10116.234895</td>\n",
       "    </tr>\n",
       "    <tr>\n",
       "      <th>Veenker</th>\n",
       "      <td>30601.955568</td>\n",
       "    </tr>\n",
       "  </tbody>\n",
       "</table>\n",
       "</div>"
      ],
      "text/plain": [
       "                 coef\n",
       "Blueste  10154.660614\n",
       "BrDale    6148.272007\n",
       "BrkSide  14967.581937\n",
       "ClearCr  -2789.904501\n",
       "CollgCr  -1634.733255\n",
       "Crawfor  29318.243190\n",
       "Edwards  -1593.913707\n",
       "Gilbert   -356.481812\n",
       "Greens    2101.827819\n",
       "IDOTRR   12456.442708\n",
       "MeadowV  11612.590364\n",
       "Mitchel  -6640.759365\n",
       "NAmes    -4659.112508\n",
       "NPkVill   8848.400533\n",
       "NWAmes  -21470.895723\n",
       "NoRidge  13990.322811\n",
       "NridgHt  33664.585907\n",
       "OldTown   7422.496885\n",
       "SWISU     9819.492899\n",
       "Sawyer   -3920.954104\n",
       "SawyerW  -8846.052165\n",
       "Somerst  11266.033819\n",
       "StoneBr  50430.429840\n",
       "Timber   10116.234895\n",
       "Veenker  30601.955568"
      ]
     },
     "execution_count": 94,
     "metadata": {},
     "output_type": "execute_result"
    }
   ],
   "source": [
    "coef_df = pd.DataFrame({\n",
    "    'coef': lr.coef_\n",
    "}, index= X.columns\n",
    ")   #magnitude of the features\n",
    "\n",
    "coef_df['Blueste':'Veenker']  #look at these coef to see what neg affects our model!!!"
   ]
  },
  {
   "cell_type": "code",
   "execution_count": 95,
   "id": "755583ca-e7a5-41c4-9e7e-c46a26aec4d3",
   "metadata": {},
   "outputs": [
    {
     "data": {
      "text/html": [
       "<div>\n",
       "<style scoped>\n",
       "    .dataframe tbody tr th:only-of-type {\n",
       "        vertical-align: middle;\n",
       "    }\n",
       "\n",
       "    .dataframe tbody tr th {\n",
       "        vertical-align: top;\n",
       "    }\n",
       "\n",
       "    .dataframe thead th {\n",
       "        text-align: right;\n",
       "    }\n",
       "</style>\n",
       "<table border=\"1\" class=\"dataframe\">\n",
       "  <thead>\n",
       "    <tr style=\"text-align: right;\">\n",
       "      <th></th>\n",
       "      <th>coef</th>\n",
       "    </tr>\n",
       "  </thead>\n",
       "  <tbody>\n",
       "    <tr>\n",
       "      <th>2nd_flr_sf</th>\n",
       "      <td>43.837067</td>\n",
       "    </tr>\n",
       "    <tr>\n",
       "      <th>gr_liv_area</th>\n",
       "      <td>9.338421</td>\n",
       "    </tr>\n",
       "    <tr>\n",
       "      <th>full_bath</th>\n",
       "      <td>-735.678443</td>\n",
       "    </tr>\n",
       "    <tr>\n",
       "      <th>bedroom_abvgr</th>\n",
       "      <td>-6022.439605</td>\n",
       "    </tr>\n",
       "    <tr>\n",
       "      <th>kitchen_abvgr</th>\n",
       "      <td>-4045.081152</td>\n",
       "    </tr>\n",
       "    <tr>\n",
       "      <th>totrms_abvgrd</th>\n",
       "      <td>485.082905</td>\n",
       "    </tr>\n",
       "    <tr>\n",
       "      <th>fireplaces</th>\n",
       "      <td>-11208.086611</td>\n",
       "    </tr>\n",
       "    <tr>\n",
       "      <th>garage_yr_blt</th>\n",
       "      <td>-10.626600</td>\n",
       "    </tr>\n",
       "    <tr>\n",
       "      <th>garage_cars</th>\n",
       "      <td>4326.444224</td>\n",
       "    </tr>\n",
       "    <tr>\n",
       "      <th>garage_area</th>\n",
       "      <td>27.522625</td>\n",
       "    </tr>\n",
       "  </tbody>\n",
       "</table>\n",
       "</div>"
      ],
      "text/plain": [
       "                       coef\n",
       "2nd_flr_sf        43.837067\n",
       "gr_liv_area        9.338421\n",
       "full_bath       -735.678443\n",
       "bedroom_abvgr  -6022.439605\n",
       "kitchen_abvgr  -4045.081152\n",
       "totrms_abvgrd    485.082905\n",
       "fireplaces    -11208.086611\n",
       "garage_yr_blt    -10.626600\n",
       "garage_cars     4326.444224\n",
       "garage_area       27.522625"
      ]
     },
     "execution_count": 95,
     "metadata": {},
     "output_type": "execute_result"
    }
   ],
   "source": [
    "coef_df[10:20]"
   ]
  },
  {
   "cell_type": "code",
   "execution_count": 96,
   "id": "ccb84bb2-febd-4129-959b-44adc1fed1af",
   "metadata": {},
   "outputs": [
    {
     "data": {
      "text/html": [
       "<div>\n",
       "<style scoped>\n",
       "    .dataframe tbody tr th:only-of-type {\n",
       "        vertical-align: middle;\n",
       "    }\n",
       "\n",
       "    .dataframe tbody tr th {\n",
       "        vertical-align: top;\n",
       "    }\n",
       "\n",
       "    .dataframe thead th {\n",
       "        text-align: right;\n",
       "    }\n",
       "</style>\n",
       "<table border=\"1\" class=\"dataframe\">\n",
       "  <thead>\n",
       "    <tr style=\"text-align: right;\">\n",
       "      <th></th>\n",
       "      <th>coef</th>\n",
       "    </tr>\n",
       "  </thead>\n",
       "  <tbody>\n",
       "    <tr>\n",
       "      <th>overall_cond</th>\n",
       "      <td>5490.209634</td>\n",
       "    </tr>\n",
       "    <tr>\n",
       "      <th>year_built</th>\n",
       "      <td>481.764573</td>\n",
       "    </tr>\n",
       "  </tbody>\n",
       "</table>\n",
       "</div>"
      ],
      "text/plain": [
       "                     coef\n",
       "overall_cond  5490.209634\n",
       "year_built     481.764573"
      ]
     },
     "execution_count": 96,
     "metadata": {},
     "output_type": "execute_result"
    }
   ],
   "source": [
    "coef_df.iloc[3:5]"
   ]
  },
  {
   "cell_type": "code",
   "execution_count": null,
   "id": "c8d110dd-8c43-4654-a29f-27d023a9fa06",
   "metadata": {},
   "outputs": [],
   "source": []
  },
  {
   "cell_type": "code",
   "execution_count": 97,
   "id": "9dd253ab-2b87-4b17-8e19-7c1649f3a0ab",
   "metadata": {},
   "outputs": [
    {
     "data": {
      "image/png": "[encoded data removed]",
      "text/plain": [
       "<Figure size 720x1440 with 1 Axes>"
      ]
     },
     "metadata": {},
     "output_type": "display_data"
    }
   ],
   "source": [
    "#make a bar chart to visualize coeff\n",
    "coef_df.plot(kind= 'barh', figsize = (10, 20));"
   ]
  },
  {
   "cell_type": "code",
   "execution_count": 98,
   "id": "8b4c7913-6771-412e-b50a-3904bbcc9b13",
   "metadata": {},
   "outputs": [
    {
     "data": {
      "image/png": "[encoded data removed]",
      "text/plain": [
       "<Figure size 720x2160 with 1 Axes>"
      ]
     },
     "metadata": {},
     "output_type": "display_data"
    }
   ],
   "source": [
    "# lets normalize coeff to get a better sense of feature importance\n",
    "#this is an approx what my coef would look like before I do LR\n",
    "coef_df['normalized_coef'] = coef_df['coef'] * X_train.std() #means of norm coef... very similar to scale the feature before doing LR\n",
    "\n",
    "coef_df['normalized_coef'].plot(kind = 'barh', figsize=(10,30));\n",
    "#this plot tells us a better job of telling umportantce\n",
    "\n",
    "#trying scalling my data before doing LR and compare the plots of between that and LR\n",
    "#standardscalar() on my data!!.. then do  linear reg on your standard_data  (transform my data Z_train z_test and use that to train my model)  look at the feature engineering lesson!\n",
    "\n",
    "\n",
    "#when you run lasso ridge you are required to do scale your data "
   ]
  },
  {
   "cell_type": "code",
   "execution_count": 99,
   "id": "f2ff90c2-7c9d-4b8e-9168-a9b78ef6d175",
   "metadata": {},
   "outputs": [],
   "source": [
    "#------------------------ Compare coef scores: non scaled vs scaled!.. Also when normalized--------------------------"
   ]
  },
  {
   "cell_type": "code",
   "execution_count": 100,
   "id": "7803c911-4253-4c97-b51d-a9445866db3d",
   "metadata": {},
   "outputs": [
    {
     "data": {
      "image/png": "[encoded data removed]",
      "text/plain": [
       "<Figure size 1440x1440 with 2 Axes>"
      ]
     },
     "metadata": {},
     "output_type": "display_data"
    }
   ],
   "source": [
    "fig, axes = plt.subplots(nrows = 1, ncols = 2, sharex = True, figsize=(15,10))\n",
    "\n",
    "ax1 = plt.subplot(axes[0])  #since this subplot is 1-dimensional (basiclaly an array) i dont have to say like axes[0,0]\n",
    "ax2 = plt.subplot(axes[1])                                                                               #  or  axes[0,1] \n",
    "\n",
    "\n",
    "#------Column1  Unscaled Coef-------\n",
    "coef_df.plot(kind= 'barh', figsize = (20, 20), ax = ax1)  #setting the parameter 'ax' to whatever my index is in my sublot above is how i plot it into my subplot!\n",
    "ax1.set_title('Unscaled Coefficients', size = 18)\n",
    "\n",
    "#-----ccolumn2 Scaled Coef---------\n",
    "coef_df2.plot(kind= 'barh', figsize = (20,20), ax = ax2)\n",
    "ax2.set_title('Scaled Coefficients', size = 18);\n",
    "\n",
    "\n",
    "\n",
    "\n",
    "#note: IDK HOW I MADE A GRAPH APPEAR ONTOP OF A GRAPH but i want to know how\n"
   ]
  },
  {
   "cell_type": "markdown",
   "id": "c5b97397-6098-4599-bfef-339eed482800",
   "metadata": {},
   "source": [
    "**The unscaled Coef. are looking exactly the same as scaled Coef. when they are normalized!**"
   ]
  },
  {
   "cell_type": "code",
   "execution_count": 101,
   "id": "bc9ecfd5-0ed7-40b1-ba88-f576976c8991",
   "metadata": {},
   "outputs": [
    {
     "data": {
      "image/png": "[encoded data removed]",
      "text/plain": [
       "<Figure size 1440x1440 with 2 Axes>"
      ]
     },
     "metadata": {},
     "output_type": "display_data"
    }
   ],
   "source": [
    "#--------------- Now compare the normalized coeffecients!!-------------------------\n",
    "fig, axes = plt.subplots(nrows = 1, ncols = 2, sharex = True, figsize=(25,10))\n",
    "\n",
    "ax1 = plt.subplot(axes[0])  #since this subplot is 1-dimensional (basiclaly an array) i dont have to say like axes[0,0]\n",
    "ax2 = plt.subplot(axes[1])                                                                               #  or  axes[0,1] \n",
    "\n",
    "\n",
    "#------Column1  Unscaled Coef-------\n",
    "\n",
    "coef_df['normalized_coef'] = coef_df['coef'] * X_train.std() #means of norm coef... very similar to scale the feature before doing LR\n",
    "\n",
    "coef_df['normalized_coef'].plot(kind = 'barh', figsize=(20,20), ax = ax1 );\n",
    "\n",
    "# coef_df.plot(kind= 'barh', figsize = (20, 20), ax = ax1)  #setting the parameter 'ax' to whatever my index is in my sublot above is how i plot it into my subplot!\n",
    "ax1.set_title('Normalized Unscaled Coefficients', size = 18)\n",
    "\n",
    "#-----ccolumn2 Scaled Coef---------\n",
    "\n",
    "coef_df2['normalized_coef'] = coef_df2['coef'] * X_train2.std() #means of norm coef... very similar to scale the feature before doing LR\n",
    "\n",
    "coef_df2['normalized_coef'].plot(kind = 'barh', figsize=(20,20), ax = ax2);\n",
    "\n",
    "# coef_df2.plot(kind= 'barh', figsize = (20,20), ax = ax2)\n",
    "ax2.set_title('Normalized Scaled Coefficients', size = 18);\n"
   ]
  },
  {
   "cell_type": "markdown",
   "id": "a7a598e8-b61c-4854-aa94-c4059f93517d",
   "metadata": {},
   "source": [
    "**The top 5 features bringing the highest value to my SalePrice of a house are overall_qual, year_built, bsmtfin_sf_1, 2nd_flr_sf, and 1st_flr_sf.**"
   ]
  },
  {
   "cell_type": "markdown",
   "id": "c7e1fccc-8695-4d9f-bf6a-049e5e23737d",
   "metadata": {},
   "source": [
    "For every unit increase in 1 standard deviation overrall_quality, the SalePrice increases by 17,000"
   ]
  },
  {
   "cell_type": "markdown",
   "id": "ad7423ad-eee0-49ab-8142-f3bd216d5b65",
   "metadata": {},
   "source": [
    "Now with the addition of my interaction terms, it turns out the interaction term fireplaces*totrms_abvgrd (slightly above bsmtfin_sf_1) brings one of the highest value to a Saleprice of a house!"
   ]
  },
  {
   "cell_type": "markdown",
   "id": "12baa7f9-835d-46ed-903b-757d733fdc3c",
   "metadata": {},
   "source": [
    "**The top 3 neigborhoods bringing the highest value to my SalePrice of a house are NridgHt, StoneBr, Crawfor**"
   ]
  },
  {
   "cell_type": "markdown",
   "id": "76929458-5668-49af-a4aa-ca5003327d3c",
   "metadata": {},
   "source": [
    "For every one increase in 1 standard deviation in NridgHt, the SalePrice increases by about 6.4k."
   ]
  },
  {
   "cell_type": "markdown",
   "id": "8e7defef-95a0-481b-b9b0-f81123720058",
   "metadata": {},
   "source": [
    "**The top 2 ms_zoning bringing the highest value to my SalePrice of a house are RL(Residentail Low Density) and FV(Floating Village Residential)**"
   ]
  },
  {
   "cell_type": "markdown",
   "id": "6cbf1e70-5923-451a-9527-d449e9730db7",
   "metadata": {},
   "source": [
    "For every one increase in 1 standard deviation in RL, the SalePrice increases by about 2.9k."
   ]
  },
  {
   "cell_type": "code",
   "execution_count": null,
   "id": "ee0a273e-a972-4028-807b-b8413df8fdea",
   "metadata": {},
   "outputs": [],
   "source": []
  },
  {
   "cell_type": "code",
   "execution_count": 102,
   "id": "c221223c-69ea-4a96-8980-3836f3c2241c",
   "metadata": {},
   "outputs": [],
   "source": [
    "##********** WILL DO LASSO/RIDGE testing/modeling with these values/features! ********************##########\n",
    "## ---------- Also use a few of the features coef here that are low and make interactiont terms out of em-----------#####\n",
    "## -------------------------  screen_porch * wood_deck_sf         and    fireplaces * totrms_abvgrd -------------------\n",
    "### back up we go to process them--------------------------------------------------------"
   ]
  },
  {
   "cell_type": "code",
   "execution_count": null,
   "id": "7a7cdd30-9aa8-43e2-899a-44983a7a883c",
   "metadata": {},
   "outputs": [],
   "source": []
  },
  {
   "cell_type": "code",
   "execution_count": 103,
   "id": "b8e28332-fbc8-4f4b-94ec-83012a70ee77",
   "metadata": {},
   "outputs": [
    {
     "data": {
      "text/html": [
       "<div>\n",
       "<style scoped>\n",
       "    .dataframe tbody tr th:only-of-type {\n",
       "        vertical-align: middle;\n",
       "    }\n",
       "\n",
       "    .dataframe tbody tr th {\n",
       "        vertical-align: top;\n",
       "    }\n",
       "\n",
       "    .dataframe thead th {\n",
       "        text-align: right;\n",
       "    }\n",
       "</style>\n",
       "<table border=\"1\" class=\"dataframe\">\n",
       "  <thead>\n",
       "    <tr style=\"text-align: right;\">\n",
       "      <th></th>\n",
       "      <th>coef</th>\n",
       "      <th>normalized_coef</th>\n",
       "    </tr>\n",
       "  </thead>\n",
       "  <tbody>\n",
       "    <tr>\n",
       "      <th>ms_subclass</th>\n",
       "      <td>-6533.703896</td>\n",
       "      <td>-6531.009341</td>\n",
       "    </tr>\n",
       "    <tr>\n",
       "      <th>lot_area</th>\n",
       "      <td>6553.963553</td>\n",
       "      <td>6551.260643</td>\n",
       "    </tr>\n",
       "    <tr>\n",
       "      <th>overall_qual</th>\n",
       "      <td>15967.461617</td>\n",
       "      <td>15960.876501</td>\n",
       "    </tr>\n",
       "    <tr>\n",
       "      <th>overall_cond</th>\n",
       "      <td>5927.047320</td>\n",
       "      <td>5924.602955</td>\n",
       "    </tr>\n",
       "    <tr>\n",
       "      <th>year_built</th>\n",
       "      <td>15551.542075</td>\n",
       "      <td>15545.128488</td>\n",
       "    </tr>\n",
       "    <tr>\n",
       "      <th>year_remod/add</th>\n",
       "      <td>2892.870699</td>\n",
       "      <td>2891.677655</td>\n",
       "    </tr>\n",
       "    <tr>\n",
       "      <th>mas_vnr_area</th>\n",
       "      <td>3463.503382</td>\n",
       "      <td>3462.075003</td>\n",
       "    </tr>\n",
       "    <tr>\n",
       "      <th>bsmtfin_sf_1</th>\n",
       "      <td>10033.960362</td>\n",
       "      <td>10029.822272</td>\n",
       "    </tr>\n",
       "    <tr>\n",
       "      <th>total_bsmt_sf</th>\n",
       "      <td>5788.925675</td>\n",
       "      <td>5786.538273</td>\n",
       "    </tr>\n",
       "    <tr>\n",
       "      <th>1st_flr_sf</th>\n",
       "      <td>17712.478709</td>\n",
       "      <td>17705.173933</td>\n",
       "    </tr>\n",
       "    <tr>\n",
       "      <th>2nd_flr_sf</th>\n",
       "      <td>18689.223231</td>\n",
       "      <td>18681.515637</td>\n",
       "    </tr>\n",
       "    <tr>\n",
       "      <th>gr_liv_area</th>\n",
       "      <td>3980.054163</td>\n",
       "      <td>3978.412755</td>\n",
       "    </tr>\n",
       "    <tr>\n",
       "      <th>full_bath</th>\n",
       "      <td>-499.930650</td>\n",
       "      <td>-499.724474</td>\n",
       "    </tr>\n",
       "    <tr>\n",
       "      <th>bedroom_abvgr</th>\n",
       "      <td>-4851.445153</td>\n",
       "      <td>-4849.444376</td>\n",
       "    </tr>\n",
       "    <tr>\n",
       "      <th>kitchen_abvgr</th>\n",
       "      <td>-543.955921</td>\n",
       "      <td>-543.731589</td>\n",
       "    </tr>\n",
       "    <tr>\n",
       "      <th>totrms_abvgrd</th>\n",
       "      <td>680.521915</td>\n",
       "      <td>680.241262</td>\n",
       "    </tr>\n",
       "    <tr>\n",
       "      <th>fireplaces</th>\n",
       "      <td>-7651.892954</td>\n",
       "      <td>-7648.737248</td>\n",
       "    </tr>\n",
       "    <tr>\n",
       "      <th>garage_yr_blt</th>\n",
       "      <td>-4503.881354</td>\n",
       "      <td>-4502.023915</td>\n",
       "    </tr>\n",
       "    <tr>\n",
       "      <th>garage_cars</th>\n",
       "      <td>2942.683987</td>\n",
       "      <td>2941.470399</td>\n",
       "    </tr>\n",
       "    <tr>\n",
       "      <th>garage_area</th>\n",
       "      <td>6532.741891</td>\n",
       "      <td>6530.047733</td>\n",
       "    </tr>\n",
       "    <tr>\n",
       "      <th>wood_deck_sf</th>\n",
       "      <td>1935.705819</td>\n",
       "      <td>1934.907517</td>\n",
       "    </tr>\n",
       "    <tr>\n",
       "      <th>screen_porch</th>\n",
       "      <td>1462.423628</td>\n",
       "      <td>1461.820513</td>\n",
       "    </tr>\n",
       "    <tr>\n",
       "      <th>pool_area</th>\n",
       "      <td>162.401383</td>\n",
       "      <td>162.334407</td>\n",
       "    </tr>\n",
       "    <tr>\n",
       "      <th>yr_sold</th>\n",
       "      <td>-864.077868</td>\n",
       "      <td>-863.721515</td>\n",
       "    </tr>\n",
       "    <tr>\n",
       "      <th>Blueste</th>\n",
       "      <td>572.588886</td>\n",
       "      <td>572.352745</td>\n",
       "    </tr>\n",
       "  </tbody>\n",
       "</table>\n",
       "</div>"
      ],
      "text/plain": [
       "                        coef  normalized_coef\n",
       "ms_subclass     -6533.703896     -6531.009341\n",
       "lot_area         6553.963553      6551.260643\n",
       "overall_qual    15967.461617     15960.876501\n",
       "overall_cond     5927.047320      5924.602955\n",
       "year_built      15551.542075     15545.128488\n",
       "year_remod/add   2892.870699      2891.677655\n",
       "mas_vnr_area     3463.503382      3462.075003\n",
       "bsmtfin_sf_1    10033.960362     10029.822272\n",
       "total_bsmt_sf    5788.925675      5786.538273\n",
       "1st_flr_sf      17712.478709     17705.173933\n",
       "2nd_flr_sf      18689.223231     18681.515637\n",
       "gr_liv_area      3980.054163      3978.412755\n",
       "full_bath        -499.930650      -499.724474\n",
       "bedroom_abvgr   -4851.445153     -4849.444376\n",
       "kitchen_abvgr    -543.955921      -543.731589\n",
       "totrms_abvgrd     680.521915       680.241262\n",
       "fireplaces      -7651.892954     -7648.737248\n",
       "garage_yr_blt   -4503.881354     -4502.023915\n",
       "garage_cars      2942.683987      2941.470399\n",
       "garage_area      6532.741891      6530.047733\n",
       "wood_deck_sf     1935.705819      1934.907517\n",
       "screen_porch     1462.423628      1461.820513\n",
       "pool_area         162.401383       162.334407\n",
       "yr_sold          -864.077868      -863.721515\n",
       "Blueste           572.588886       572.352745"
      ]
     },
     "execution_count": 103,
     "metadata": {},
     "output_type": "execute_result"
    }
   ],
   "source": [
    "coef_df2['ms_subclass':'Blueste']"
   ]
  },
  {
   "cell_type": "code",
   "execution_count": 104,
   "id": "235c0f90-a3c2-4ed4-8ed6-61f8d66d8cd8",
   "metadata": {},
   "outputs": [
    {
     "data": {
      "text/html": [
       "<div>\n",
       "<style scoped>\n",
       "    .dataframe tbody tr th:only-of-type {\n",
       "        vertical-align: middle;\n",
       "    }\n",
       "\n",
       "    .dataframe tbody tr th {\n",
       "        vertical-align: top;\n",
       "    }\n",
       "\n",
       "    .dataframe thead th {\n",
       "        text-align: right;\n",
       "    }\n",
       "</style>\n",
       "<table border=\"1\" class=\"dataframe\">\n",
       "  <thead>\n",
       "    <tr style=\"text-align: right;\">\n",
       "      <th></th>\n",
       "      <th>coef</th>\n",
       "      <th>normalized_coef</th>\n",
       "    </tr>\n",
       "  </thead>\n",
       "  <tbody>\n",
       "    <tr>\n",
       "      <th>Blueste</th>\n",
       "      <td>572.588886</td>\n",
       "      <td>572.352745</td>\n",
       "    </tr>\n",
       "    <tr>\n",
       "      <th>BrDale</th>\n",
       "      <td>439.909791</td>\n",
       "      <td>439.728369</td>\n",
       "    </tr>\n",
       "    <tr>\n",
       "      <th>BrkSide</th>\n",
       "      <td>2863.833603</td>\n",
       "      <td>2862.652534</td>\n",
       "    </tr>\n",
       "    <tr>\n",
       "      <th>ClearCr</th>\n",
       "      <td>-260.575104</td>\n",
       "      <td>-260.467641</td>\n",
       "    </tr>\n",
       "    <tr>\n",
       "      <th>CollgCr</th>\n",
       "      <td>-1060.679074</td>\n",
       "      <td>-1060.241641</td>\n",
       "    </tr>\n",
       "    <tr>\n",
       "      <th>Crawfor</th>\n",
       "      <td>4985.834794</td>\n",
       "      <td>4983.778593</td>\n",
       "    </tr>\n",
       "    <tr>\n",
       "      <th>Edwards</th>\n",
       "      <td>-379.054959</td>\n",
       "      <td>-378.898633</td>\n",
       "    </tr>\n",
       "    <tr>\n",
       "      <th>Gilbert</th>\n",
       "      <td>-408.521627</td>\n",
       "      <td>-408.353149</td>\n",
       "    </tr>\n",
       "    <tr>\n",
       "      <th>Greens</th>\n",
       "      <td>44.934148</td>\n",
       "      <td>44.915617</td>\n",
       "    </tr>\n",
       "    <tr>\n",
       "      <th>IDOTRR</th>\n",
       "      <td>2390.671736</td>\n",
       "      <td>2389.685803</td>\n",
       "    </tr>\n",
       "    <tr>\n",
       "      <th>MeadowV</th>\n",
       "      <td>1386.946218</td>\n",
       "      <td>1386.374230</td>\n",
       "    </tr>\n",
       "    <tr>\n",
       "      <th>Mitchel</th>\n",
       "      <td>-1457.101421</td>\n",
       "      <td>-1456.500500</td>\n",
       "    </tr>\n",
       "    <tr>\n",
       "      <th>NAmes</th>\n",
       "      <td>-2019.738691</td>\n",
       "      <td>-2018.905734</td>\n",
       "    </tr>\n",
       "    <tr>\n",
       "      <th>NPkVill</th>\n",
       "      <td>758.600061</td>\n",
       "      <td>758.287208</td>\n",
       "    </tr>\n",
       "    <tr>\n",
       "      <th>NWAmes</th>\n",
       "      <td>-3917.430673</td>\n",
       "      <td>-3915.815091</td>\n",
       "    </tr>\n",
       "    <tr>\n",
       "      <th>NoRidge</th>\n",
       "      <td>1656.216157</td>\n",
       "      <td>1655.533120</td>\n",
       "    </tr>\n",
       "    <tr>\n",
       "      <th>NridgHt</th>\n",
       "      <td>8308.643651</td>\n",
       "      <td>8305.217096</td>\n",
       "    </tr>\n",
       "    <tr>\n",
       "      <th>OldTown</th>\n",
       "      <td>2128.792853</td>\n",
       "      <td>2127.914921</td>\n",
       "    </tr>\n",
       "    <tr>\n",
       "      <th>SWISU</th>\n",
       "      <td>1211.768115</td>\n",
       "      <td>1211.268371</td>\n",
       "    </tr>\n",
       "    <tr>\n",
       "      <th>Sawyer</th>\n",
       "      <td>-897.969501</td>\n",
       "      <td>-897.599171</td>\n",
       "    </tr>\n",
       "    <tr>\n",
       "      <th>SawyerW</th>\n",
       "      <td>-2195.512841</td>\n",
       "      <td>-2194.607393</td>\n",
       "    </tr>\n",
       "    <tr>\n",
       "      <th>Somerst</th>\n",
       "      <td>1946.226700</td>\n",
       "      <td>1945.424060</td>\n",
       "    </tr>\n",
       "    <tr>\n",
       "      <th>StoneBr</th>\n",
       "      <td>6363.458077</td>\n",
       "      <td>6360.833733</td>\n",
       "    </tr>\n",
       "    <tr>\n",
       "      <th>Timber</th>\n",
       "      <td>1668.841763</td>\n",
       "      <td>1668.153518</td>\n",
       "    </tr>\n",
       "    <tr>\n",
       "      <th>Veenker</th>\n",
       "      <td>2501.468587</td>\n",
       "      <td>2500.436960</td>\n",
       "    </tr>\n",
       "    <tr>\n",
       "      <th>A (agr)</th>\n",
       "      <td>-1089.144470</td>\n",
       "      <td>-1088.695297</td>\n",
       "    </tr>\n",
       "    <tr>\n",
       "      <th>C (all)</th>\n",
       "      <td>-555.670149</td>\n",
       "      <td>-555.440986</td>\n",
       "    </tr>\n",
       "    <tr>\n",
       "      <th>FV</th>\n",
       "      <td>2709.692924</td>\n",
       "      <td>2708.575424</td>\n",
       "    </tr>\n",
       "    <tr>\n",
       "      <th>I (all)</th>\n",
       "      <td>44.222400</td>\n",
       "      <td>44.204162</td>\n",
       "    </tr>\n",
       "    <tr>\n",
       "      <th>RH</th>\n",
       "      <td>1070.813985</td>\n",
       "      <td>1070.372372</td>\n",
       "    </tr>\n",
       "    <tr>\n",
       "      <th>RL</th>\n",
       "      <td>1957.713675</td>\n",
       "      <td>1956.906297</td>\n",
       "    </tr>\n",
       "    <tr>\n",
       "      <th>screen_porch*wood_deck_sf</th>\n",
       "      <td>1108.790352</td>\n",
       "      <td>1108.333077</td>\n",
       "    </tr>\n",
       "    <tr>\n",
       "      <th>fireplaces*totrms_abvgrd</th>\n",
       "      <td>10480.664248</td>\n",
       "      <td>10476.341933</td>\n",
       "    </tr>\n",
       "  </tbody>\n",
       "</table>\n",
       "</div>"
      ],
      "text/plain": [
       "                                   coef  normalized_coef\n",
       "Blueste                      572.588886       572.352745\n",
       "BrDale                       439.909791       439.728369\n",
       "BrkSide                     2863.833603      2862.652534\n",
       "ClearCr                     -260.575104      -260.467641\n",
       "CollgCr                    -1060.679074     -1060.241641\n",
       "Crawfor                     4985.834794      4983.778593\n",
       "Edwards                     -379.054959      -378.898633\n",
       "Gilbert                     -408.521627      -408.353149\n",
       "Greens                        44.934148        44.915617\n",
       "IDOTRR                      2390.671736      2389.685803\n",
       "MeadowV                     1386.946218      1386.374230\n",
       "Mitchel                    -1457.101421     -1456.500500\n",
       "NAmes                      -2019.738691     -2018.905734\n",
       "NPkVill                      758.600061       758.287208\n",
       "NWAmes                     -3917.430673     -3915.815091\n",
       "NoRidge                     1656.216157      1655.533120\n",
       "NridgHt                     8308.643651      8305.217096\n",
       "OldTown                     2128.792853      2127.914921\n",
       "SWISU                       1211.768115      1211.268371\n",
       "Sawyer                      -897.969501      -897.599171\n",
       "SawyerW                    -2195.512841     -2194.607393\n",
       "Somerst                     1946.226700      1945.424060\n",
       "StoneBr                     6363.458077      6360.833733\n",
       "Timber                      1668.841763      1668.153518\n",
       "Veenker                     2501.468587      2500.436960\n",
       "A (agr)                    -1089.144470     -1088.695297\n",
       "C (all)                     -555.670149      -555.440986\n",
       "FV                          2709.692924      2708.575424\n",
       "I (all)                       44.222400        44.204162\n",
       "RH                          1070.813985      1070.372372\n",
       "RL                          1957.713675      1956.906297\n",
       "screen_porch*wood_deck_sf   1108.790352      1108.333077\n",
       "fireplaces*totrms_abvgrd   10480.664248     10476.341933"
      ]
     },
     "execution_count": 104,
     "metadata": {},
     "output_type": "execute_result"
    }
   ],
   "source": [
    "coef_df2['Blueste':]"
   ]
  },
  {
   "cell_type": "code",
   "execution_count": 105,
   "id": "adb72f11-3241-432a-861a-429bf2e4e007",
   "metadata": {},
   "outputs": [
    {
     "data": {
      "text/plain": [
       "Index(['ms_subclass', 'lot_area', 'overall_qual', 'overall_cond', 'year_built',\n",
       "       'year_remod/add', 'mas_vnr_area', 'bsmtfin_sf_1', 'total_bsmt_sf',\n",
       "       '1st_flr_sf', '2nd_flr_sf', 'gr_liv_area', 'full_bath', 'bedroom_abvgr',\n",
       "       'kitchen_abvgr', 'totrms_abvgrd', 'fireplaces', 'garage_yr_blt',\n",
       "       'garage_cars', 'garage_area', 'wood_deck_sf', 'screen_porch',\n",
       "       'pool_area', 'yr_sold', 'Blueste', 'BrDale', 'BrkSide', 'ClearCr',\n",
       "       'CollgCr', 'Crawfor', 'Edwards', 'Gilbert', 'Greens', 'IDOTRR',\n",
       "       'MeadowV', 'Mitchel', 'NAmes', 'NPkVill', 'NWAmes', 'NoRidge',\n",
       "       'NridgHt', 'OldTown', 'SWISU', 'Sawyer', 'SawyerW', 'Somerst',\n",
       "       'StoneBr', 'Timber', 'Veenker', 'A (agr)', 'C (all)', 'FV', 'I (all)',\n",
       "       'RH', 'RL', 'screen_porch*wood_deck_sf', 'fireplaces*totrms_abvgrd'],\n",
       "      dtype='object')"
      ]
     },
     "execution_count": 105,
     "metadata": {},
     "output_type": "execute_result"
    }
   ],
   "source": [
    "X.columns"
   ]
  },
  {
   "cell_type": "code",
   "execution_count": 106,
   "id": "b7c0c504-5878-458c-bc08-b479ac5fd373",
   "metadata": {},
   "outputs": [
    {
     "data": {
      "text/plain": [
       "ClearCr                       -260.575104\n",
       "CollgCr                      -1060.679074\n",
       "Crawfor                       4985.834794\n",
       "Edwards                       -379.054959\n",
       "Gilbert                       -408.521627\n",
       "Greens                          44.934148\n",
       "IDOTRR                        2390.671736\n",
       "MeadowV                       1386.946218\n",
       "Mitchel                      -1457.101421\n",
       "NAmes                        -2019.738691\n",
       "NPkVill                        758.600061\n",
       "NWAmes                       -3917.430673\n",
       "NoRidge                       1656.216157\n",
       "NridgHt                       8308.643651\n",
       "OldTown                       2128.792853\n",
       "SWISU                         1211.768115\n",
       "Sawyer                        -897.969501\n",
       "SawyerW                      -2195.512841\n",
       "Somerst                       1946.226700\n",
       "StoneBr                       6363.458077\n",
       "Timber                        1668.841763\n",
       "Veenker                       2501.468587\n",
       "A (agr)                      -1089.144470\n",
       "C (all)                       -555.670149\n",
       "FV                            2709.692924\n",
       "I (all)                         44.222400\n",
       "RH                            1070.813985\n",
       "RL                            1957.713675\n",
       "screen_porch*wood_deck_sf     1108.790352\n",
       "fireplaces*totrms_abvgrd     10480.664248\n",
       "Name: coef, dtype: float64"
      ]
     },
     "execution_count": 106,
     "metadata": {},
     "output_type": "execute_result"
    }
   ],
   "source": [
    "coef_df2['coef'][27:58]   #> 4000"
   ]
  },
  {
   "cell_type": "code",
   "execution_count": null,
   "id": "8c191603-6710-4b7e-9bd5-45fdf041b790",
   "metadata": {},
   "outputs": [],
   "source": []
  },
  {
   "cell_type": "code",
   "execution_count": 136,
   "id": "4bb5d79c-ffa2-4380-bc26-2ba64cafd902",
   "metadata": {},
   "outputs": [],
   "source": [
    "# plt.figure(figsize=(20,5))\n",
    "# sns.boxplot(x = train_df_final['2nd_flr_sf'])   #quite a lot of outliers after 320,000 ... lets remove em \n",
    "#plt.title('', size = 18)"
   ]
  },
  {
   "cell_type": "code",
   "execution_count": 108,
   "id": "23b4f8d9-3539-4f92-a1e9-f12b46083c36",
   "metadata": {},
   "outputs": [
    {
     "data": {
      "text/plain": [
       "Text(0.5, 1.0, 'SalePrice vs 2nd Floor sf')"
      ]
     },
     "execution_count": 108,
     "metadata": {},
     "output_type": "execute_result"
    },
    {
     "data": {
      "image/png": "[encoded data removed]",
      "text/plain": [
       "<Figure size 864x360 with 1 Axes>"
      ]
     },
     "metadata": {},
     "output_type": "display_data"
    }
   ],
   "source": [
    "plt.figure(figsize=(12,5))\n",
    "plt.scatter(train_df['saleprice'], train_df['2nd_flr_sf'])\n",
    "plt.title('SalePrice vs 2nd Floor sf', size = 24)"
   ]
  },
  {
   "cell_type": "code",
   "execution_count": 109,
   "id": "f49ca1b8-cc54-41d7-b5d1-f516f1606200",
   "metadata": {},
   "outputs": [
    {
     "data": {
      "text/plain": [
       "Text(0.5, 1.0, 'SalePrice vs Fireplaces')"
      ]
     },
     "execution_count": 109,
     "metadata": {},
     "output_type": "execute_result"
    },
    {
     "data": {
      "image/png": "[encoded data removed]",
      "text/plain": [
       "<Figure size 864x360 with 1 Axes>"
      ]
     },
     "metadata": {},
     "output_type": "display_data"
    }
   ],
   "source": [
    "plt.figure(figsize=(12,5))\n",
    "plt.scatter(train_df['saleprice'], train_df['fireplaces'])\n",
    "plt.title('SalePrice vs Fireplaces', size = 24)"
   ]
  },
  {
   "cell_type": "code",
   "execution_count": 110,
   "id": "6083bbcf-6679-4ebb-a903-248a4ff7c73f",
   "metadata": {},
   "outputs": [
    {
     "data": {
      "text/plain": [
       "Index(['ms_subclass', 'lot_area', 'overall_qual', 'overall_cond', 'year_built',\n",
       "       'year_remod/add', 'mas_vnr_area', 'bsmtfin_sf_1', 'total_bsmt_sf',\n",
       "       '1st_flr_sf', '2nd_flr_sf', 'gr_liv_area', 'full_bath', 'bedroom_abvgr',\n",
       "       'kitchen_abvgr', 'totrms_abvgrd', 'fireplaces', 'garage_yr_blt',\n",
       "       'garage_cars', 'garage_area', 'wood_deck_sf', 'screen_porch',\n",
       "       'pool_area', 'yr_sold', 'Blueste', 'BrDale', 'BrkSide', 'ClearCr',\n",
       "       'CollgCr', 'Crawfor', 'Edwards', 'Gilbert', 'Greens', 'IDOTRR',\n",
       "       'MeadowV', 'Mitchel', 'NAmes', 'NPkVill', 'NWAmes', 'NoRidge',\n",
       "       'NridgHt', 'OldTown', 'SWISU', 'Sawyer', 'SawyerW', 'Somerst',\n",
       "       'StoneBr', 'Timber', 'Veenker', 'A (agr)', 'C (all)', 'FV', 'I (all)',\n",
       "       'RH', 'RL', 'screen_porch*wood_deck_sf', 'fireplaces*totrms_abvgrd'],\n",
       "      dtype='object')"
      ]
     },
     "execution_count": 110,
     "metadata": {},
     "output_type": "execute_result"
    }
   ],
   "source": [
    "X.columns"
   ]
  },
  {
   "cell_type": "code",
   "execution_count": null,
   "id": "b419f9b1-00a5-4b6a-9a3a-2d928e46310f",
   "metadata": {},
   "outputs": [],
   "source": []
  },
  {
   "cell_type": "code",
   "execution_count": null,
   "id": "52323053-a7ab-4085-9509-fd3a8a193c19",
   "metadata": {},
   "outputs": [],
   "source": []
  },
  {
   "cell_type": "markdown",
   "id": "bba9b422-23f7-4746-8d1d-fd8e0a30b6c8",
   "metadata": {},
   "source": [
    "## Part 3 Kaggle Submission: Use our model to make predictions on the test dataset"
   ]
  },
  {
   "cell_type": "code",
   "execution_count": 111,
   "id": "c787d991-356a-44f0-9860-b5c8d4a6d7d6",
   "metadata": {},
   "outputs": [],
   "source": [
    "# also Lets log  transformation  our data to make it more evenly distributed "
   ]
  },
  {
   "cell_type": "code",
   "execution_count": 112,
   "id": "d6775ce5-015c-4513-ae92-ee846f4bc361",
   "metadata": {},
   "outputs": [
    {
     "data": {
      "text/html": [
       "<div>\n",
       "<style scoped>\n",
       "    .dataframe tbody tr th:only-of-type {\n",
       "        vertical-align: middle;\n",
       "    }\n",
       "\n",
       "    .dataframe tbody tr th {\n",
       "        vertical-align: top;\n",
       "    }\n",
       "\n",
       "    .dataframe thead th {\n",
       "        text-align: right;\n",
       "    }\n",
       "</style>\n",
       "<table border=\"1\" class=\"dataframe\">\n",
       "  <thead>\n",
       "    <tr style=\"text-align: right;\">\n",
       "      <th></th>\n",
       "      <th>ms_subclass</th>\n",
       "      <th>lot_area</th>\n",
       "      <th>overall_qual</th>\n",
       "      <th>overall_cond</th>\n",
       "      <th>year_built</th>\n",
       "      <th>year_remod/add</th>\n",
       "      <th>mas_vnr_area</th>\n",
       "      <th>bsmtfin_sf_1</th>\n",
       "      <th>total_bsmt_sf</th>\n",
       "      <th>1st_flr_sf</th>\n",
       "      <th>...</th>\n",
       "      <th>Veenker</th>\n",
       "      <th>A (agr)</th>\n",
       "      <th>C (all)</th>\n",
       "      <th>FV</th>\n",
       "      <th>I (all)</th>\n",
       "      <th>RH</th>\n",
       "      <th>RL</th>\n",
       "      <th>screen_porch*wood_deck_sf</th>\n",
       "      <th>fireplaces*totrms_abvgrd</th>\n",
       "      <th>SalePrice</th>\n",
       "    </tr>\n",
       "    <tr>\n",
       "      <th>id</th>\n",
       "      <th></th>\n",
       "      <th></th>\n",
       "      <th></th>\n",
       "      <th></th>\n",
       "      <th></th>\n",
       "      <th></th>\n",
       "      <th></th>\n",
       "      <th></th>\n",
       "      <th></th>\n",
       "      <th></th>\n",
       "      <th></th>\n",
       "      <th></th>\n",
       "      <th></th>\n",
       "      <th></th>\n",
       "      <th></th>\n",
       "      <th></th>\n",
       "      <th></th>\n",
       "      <th></th>\n",
       "      <th></th>\n",
       "      <th></th>\n",
       "      <th></th>\n",
       "    </tr>\n",
       "  </thead>\n",
       "  <tbody>\n",
       "    <tr>\n",
       "      <th>2658</th>\n",
       "      <td>190</td>\n",
       "      <td>9142</td>\n",
       "      <td>6</td>\n",
       "      <td>8</td>\n",
       "      <td>1910</td>\n",
       "      <td>1950</td>\n",
       "      <td>0.0</td>\n",
       "      <td>0</td>\n",
       "      <td>1020</td>\n",
       "      <td>908</td>\n",
       "      <td>...</td>\n",
       "      <td>0</td>\n",
       "      <td>0</td>\n",
       "      <td>0</td>\n",
       "      <td>0</td>\n",
       "      <td>0</td>\n",
       "      <td>0</td>\n",
       "      <td>0</td>\n",
       "      <td>0</td>\n",
       "      <td>0</td>\n",
       "      <td>129537.095217</td>\n",
       "    </tr>\n",
       "    <tr>\n",
       "      <th>2718</th>\n",
       "      <td>90</td>\n",
       "      <td>9662</td>\n",
       "      <td>5</td>\n",
       "      <td>4</td>\n",
       "      <td>1977</td>\n",
       "      <td>1977</td>\n",
       "      <td>0.0</td>\n",
       "      <td>0</td>\n",
       "      <td>1967</td>\n",
       "      <td>1967</td>\n",
       "      <td>...</td>\n",
       "      <td>0</td>\n",
       "      <td>0</td>\n",
       "      <td>0</td>\n",
       "      <td>0</td>\n",
       "      <td>0</td>\n",
       "      <td>0</td>\n",
       "      <td>1</td>\n",
       "      <td>0</td>\n",
       "      <td>0</td>\n",
       "      <td>160501.579758</td>\n",
       "    </tr>\n",
       "    <tr>\n",
       "      <th>2414</th>\n",
       "      <td>60</td>\n",
       "      <td>17104</td>\n",
       "      <td>7</td>\n",
       "      <td>5</td>\n",
       "      <td>2006</td>\n",
       "      <td>2006</td>\n",
       "      <td>0.0</td>\n",
       "      <td>554</td>\n",
       "      <td>654</td>\n",
       "      <td>664</td>\n",
       "      <td>...</td>\n",
       "      <td>0</td>\n",
       "      <td>0</td>\n",
       "      <td>0</td>\n",
       "      <td>0</td>\n",
       "      <td>0</td>\n",
       "      <td>0</td>\n",
       "      <td>1</td>\n",
       "      <td>0</td>\n",
       "      <td>7</td>\n",
       "      <td>209280.816653</td>\n",
       "    </tr>\n",
       "    <tr>\n",
       "      <th>1989</th>\n",
       "      <td>30</td>\n",
       "      <td>8520</td>\n",
       "      <td>5</td>\n",
       "      <td>6</td>\n",
       "      <td>1923</td>\n",
       "      <td>2006</td>\n",
       "      <td>0.0</td>\n",
       "      <td>0</td>\n",
       "      <td>968</td>\n",
       "      <td>968</td>\n",
       "      <td>...</td>\n",
       "      <td>0</td>\n",
       "      <td>0</td>\n",
       "      <td>0</td>\n",
       "      <td>0</td>\n",
       "      <td>0</td>\n",
       "      <td>0</td>\n",
       "      <td>0</td>\n",
       "      <td>0</td>\n",
       "      <td>0</td>\n",
       "      <td>111980.807741</td>\n",
       "    </tr>\n",
       "    <tr>\n",
       "      <th>625</th>\n",
       "      <td>20</td>\n",
       "      <td>9500</td>\n",
       "      <td>6</td>\n",
       "      <td>5</td>\n",
       "      <td>1963</td>\n",
       "      <td>1963</td>\n",
       "      <td>247.0</td>\n",
       "      <td>609</td>\n",
       "      <td>1394</td>\n",
       "      <td>1394</td>\n",
       "      <td>...</td>\n",
       "      <td>0</td>\n",
       "      <td>0</td>\n",
       "      <td>0</td>\n",
       "      <td>0</td>\n",
       "      <td>0</td>\n",
       "      <td>0</td>\n",
       "      <td>1</td>\n",
       "      <td>0</td>\n",
       "      <td>12</td>\n",
       "      <td>176543.501427</td>\n",
       "    </tr>\n",
       "  </tbody>\n",
       "</table>\n",
       "<p>5 rows × 58 columns</p>\n",
       "</div>"
      ],
      "text/plain": [
       "      ms_subclass  lot_area  overall_qual  overall_cond  year_built  \\\n",
       "id                                                                    \n",
       "2658          190      9142             6             8        1910   \n",
       "2718           90      9662             5             4        1977   \n",
       "2414           60     17104             7             5        2006   \n",
       "1989           30      8520             5             6        1923   \n",
       "625            20      9500             6             5        1963   \n",
       "\n",
       "      year_remod/add  mas_vnr_area  bsmtfin_sf_1  total_bsmt_sf  1st_flr_sf  \\\n",
       "id                                                                            \n",
       "2658            1950           0.0             0           1020         908   \n",
       "2718            1977           0.0             0           1967        1967   \n",
       "2414            2006           0.0           554            654         664   \n",
       "1989            2006           0.0             0            968         968   \n",
       "625             1963         247.0           609           1394        1394   \n",
       "\n",
       "      ...  Veenker  A (agr)  C (all)  FV  I (all)  RH  RL  \\\n",
       "id    ...                                                   \n",
       "2658  ...        0        0        0   0        0   0   0   \n",
       "2718  ...        0        0        0   0        0   0   1   \n",
       "2414  ...        0        0        0   0        0   0   1   \n",
       "1989  ...        0        0        0   0        0   0   0   \n",
       "625   ...        0        0        0   0        0   0   1   \n",
       "\n",
       "      screen_porch*wood_deck_sf  fireplaces*totrms_abvgrd      SalePrice  \n",
       "id                                                                        \n",
       "2658                          0                         0  129537.095217  \n",
       "2718                          0                         0  160501.579758  \n",
       "2414                          0                         7  209280.816653  \n",
       "1989                          0                         0  111980.807741  \n",
       "625                           0                        12  176543.501427  \n",
       "\n",
       "[5 rows x 58 columns]"
      ]
     },
     "execution_count": 112,
     "metadata": {},
     "output_type": "execute_result"
    }
   ],
   "source": [
    "#first we subset test_df_final to just the features we included in our model\n",
    "X_kaggle = test_df_final.loc[:, features_2]\n",
    "\n",
    "# Then we use the same model to predict on the test data and save predictions to a 'SalePrice' column\n",
    "\n",
    "X_kaggle['SalePrice'] = lr.predict(X_kaggle)\n",
    "X_kaggle.head()"
   ]
  },
  {
   "cell_type": "code",
   "execution_count": null,
   "id": "5060609c-f611-4b5a-99c0-49ab0135b257",
   "metadata": {},
   "outputs": [],
   "source": []
  },
  {
   "cell_type": "code",
   "execution_count": 113,
   "id": "9f9ded68-ba31-4fec-bcc1-65fdb7b8d8ca",
   "metadata": {},
   "outputs": [],
   "source": [
    "#Set output to be a dataframe with only the 'SalePrice' column\n",
    "output = X_kaggle[['SalePrice']]"
   ]
  },
  {
   "cell_type": "code",
   "execution_count": 114,
   "id": "d69c756b-7b24-4bd1-be38-6be84c1147a2",
   "metadata": {},
   "outputs": [],
   "source": [
    "#Save output to a csv\n",
    "output.to_csv('../datasets/submission_1.csv')"
   ]
  },
  {
   "cell_type": "code",
   "execution_count": 115,
   "id": "57e915a8-6dc1-4fd0-b4b4-0f05ade5f80e",
   "metadata": {},
   "outputs": [
    {
     "data": {
      "text/html": [
       "<div>\n",
       "<style scoped>\n",
       "    .dataframe tbody tr th:only-of-type {\n",
       "        vertical-align: middle;\n",
       "    }\n",
       "\n",
       "    .dataframe tbody tr th {\n",
       "        vertical-align: top;\n",
       "    }\n",
       "\n",
       "    .dataframe thead th {\n",
       "        text-align: right;\n",
       "    }\n",
       "</style>\n",
       "<table border=\"1\" class=\"dataframe\">\n",
       "  <thead>\n",
       "    <tr style=\"text-align: right;\">\n",
       "      <th></th>\n",
       "      <th>id</th>\n",
       "      <th>SalePrice</th>\n",
       "    </tr>\n",
       "  </thead>\n",
       "  <tbody>\n",
       "    <tr>\n",
       "      <th>0</th>\n",
       "      <td>2658</td>\n",
       "      <td>129537.095217</td>\n",
       "    </tr>\n",
       "    <tr>\n",
       "      <th>1</th>\n",
       "      <td>2718</td>\n",
       "      <td>160501.579758</td>\n",
       "    </tr>\n",
       "    <tr>\n",
       "      <th>2</th>\n",
       "      <td>2414</td>\n",
       "      <td>209280.816653</td>\n",
       "    </tr>\n",
       "    <tr>\n",
       "      <th>3</th>\n",
       "      <td>1989</td>\n",
       "      <td>111980.807741</td>\n",
       "    </tr>\n",
       "    <tr>\n",
       "      <th>4</th>\n",
       "      <td>625</td>\n",
       "      <td>176543.501427</td>\n",
       "    </tr>\n",
       "    <tr>\n",
       "      <th>...</th>\n",
       "      <td>...</td>\n",
       "      <td>...</td>\n",
       "    </tr>\n",
       "    <tr>\n",
       "      <th>873</th>\n",
       "      <td>1662</td>\n",
       "      <td>178750.193541</td>\n",
       "    </tr>\n",
       "    <tr>\n",
       "      <th>874</th>\n",
       "      <td>1234</td>\n",
       "      <td>221596.631798</td>\n",
       "    </tr>\n",
       "    <tr>\n",
       "      <th>875</th>\n",
       "      <td>1373</td>\n",
       "      <td>119890.881758</td>\n",
       "    </tr>\n",
       "    <tr>\n",
       "      <th>876</th>\n",
       "      <td>1672</td>\n",
       "      <td>114512.814494</td>\n",
       "    </tr>\n",
       "    <tr>\n",
       "      <th>877</th>\n",
       "      <td>1939</td>\n",
       "      <td>109935.887898</td>\n",
       "    </tr>\n",
       "  </tbody>\n",
       "</table>\n",
       "<p>878 rows × 2 columns</p>\n",
       "</div>"
      ],
      "text/plain": [
       "       id      SalePrice\n",
       "0    2658  129537.095217\n",
       "1    2718  160501.579758\n",
       "2    2414  209280.816653\n",
       "3    1989  111980.807741\n",
       "4     625  176543.501427\n",
       "..    ...            ...\n",
       "873  1662  178750.193541\n",
       "874  1234  221596.631798\n",
       "875  1373  119890.881758\n",
       "876  1672  114512.814494\n",
       "877  1939  109935.887898\n",
       "\n",
       "[878 rows x 2 columns]"
      ]
     },
     "execution_count": 115,
     "metadata": {},
     "output_type": "execute_result"
    }
   ],
   "source": [
    "pd.read_csv('../datasets/submission_1.csv')"
   ]
  },
  {
   "cell_type": "code",
   "execution_count": null,
   "id": "9957ae7f-425a-4ff5-8ef9-888b46d31f7c",
   "metadata": {},
   "outputs": [],
   "source": []
  },
  {
   "cell_type": "markdown",
   "id": "6903a003-f678-4857-8396-58a135ffa795",
   "metadata": {},
   "source": [
    "#### Refit Model on Entire Training Dataset to Generate Predictions"
   ]
  },
  {
   "cell_type": "code",
   "execution_count": 116,
   "id": "ff3d6777-979c-46c8-96ac-63c21cf0759e",
   "metadata": {},
   "outputs": [],
   "source": [
    "from sklearn.model_selection import cross_val_score"
   ]
  },
  {
   "cell_type": "code",
   "execution_count": 117,
   "id": "99dedd23-30b4-4d30-8619-7cc99daf360c",
   "metadata": {},
   "outputs": [
    {
     "data": {
      "text/plain": [
       "array([0.90514539, 0.90948822, 0.90304987, 0.90844079, 0.90380255])"
      ]
     },
     "execution_count": 117,
     "metadata": {},
     "output_type": "execute_result"
    }
   ],
   "source": [
    "#Instantiate new model and evaluate using cross_val_score\n",
    "lr= LinearRegression()\n",
    "cross_val_score(lr, X, y)"
   ]
  },
  {
   "cell_type": "code",
   "execution_count": 118,
   "id": "95f803b9-05c7-4275-b1a2-61d8db88e58a",
   "metadata": {},
   "outputs": [],
   "source": [
    "# might want to get scores in RMSE to directly compare to previous results.\n",
    "# to do this, we will need to set  scoring = 'neg_root_mean_squared_error'\n",
    "\n",
    "#however, since RMSE is a loss ftn (where low scores are better), unlike R2 which is a \n",
    "#score ftn, we will need to multiply the results by -1 to get the real RMSE scores"
   ]
  },
  {
   "cell_type": "code",
   "execution_count": 119,
   "id": "c245cef0-9d1e-44b9-82f1-802bd41c1b52",
   "metadata": {},
   "outputs": [
    {
     "data": {
      "text/plain": [
       "array([22863.79955007, 22952.170916  , 23913.05813113, 22409.76228905,\n",
       "       23506.79451226])"
      ]
     },
     "execution_count": 119,
     "metadata": {},
     "output_type": "execute_result"
    }
   ],
   "source": [
    "#evaluate cross_val_score with 'neg_root_mean_squared '\n",
    "cross_val_score(lr, X, y, scoring='neg_root_mean_squared_error') *-1\n",
    "#the reason we use neg is to turn it ihnto a score ftn\n",
    "# coverting RMSE into R2"
   ]
  },
  {
   "cell_type": "code",
   "execution_count": 120,
   "id": "3b41bf0b-21f2-4c1d-b210-b6562c2cde15",
   "metadata": {},
   "outputs": [
    {
     "data": {
      "text/plain": [
       "LinearRegression()"
      ]
     },
     "execution_count": 120,
     "metadata": {},
     "output_type": "execute_result"
    }
   ],
   "source": [
    "# then we cna fit the model to the whole training dataset\n",
    "#.. and then go through the same process of generating predictions (the same part in 'use your model to make predictions on the test dataset')\n",
    "lr.fit(X, y)"
   ]
  },
  {
   "cell_type": "code",
   "execution_count": 121,
   "id": "b0f51f36-d65a-44db-b3a0-c980a0bb336a",
   "metadata": {},
   "outputs": [],
   "source": [
    "X_kaggle = test_df_final.loc[:, features_2 ]\n",
    "\n",
    "X_kaggle['SalePrice'] = lr.predict(X_kaggle)"
   ]
  },
  {
   "cell_type": "code",
   "execution_count": 122,
   "id": "0cbbace3-c3cd-4647-a840-d65fcbed523d",
   "metadata": {},
   "outputs": [
    {
     "data": {
      "text/html": [
       "<div>\n",
       "<style scoped>\n",
       "    .dataframe tbody tr th:only-of-type {\n",
       "        vertical-align: middle;\n",
       "    }\n",
       "\n",
       "    .dataframe tbody tr th {\n",
       "        vertical-align: top;\n",
       "    }\n",
       "\n",
       "    .dataframe thead th {\n",
       "        text-align: right;\n",
       "    }\n",
       "</style>\n",
       "<table border=\"1\" class=\"dataframe\">\n",
       "  <thead>\n",
       "    <tr style=\"text-align: right;\">\n",
       "      <th></th>\n",
       "      <th>SalePrice</th>\n",
       "    </tr>\n",
       "    <tr>\n",
       "      <th>id</th>\n",
       "      <th></th>\n",
       "    </tr>\n",
       "  </thead>\n",
       "  <tbody>\n",
       "    <tr>\n",
       "      <th>2658</th>\n",
       "      <td>131160.094396</td>\n",
       "    </tr>\n",
       "    <tr>\n",
       "      <th>2718</th>\n",
       "      <td>153818.408272</td>\n",
       "    </tr>\n",
       "    <tr>\n",
       "      <th>2414</th>\n",
       "      <td>210818.222947</td>\n",
       "    </tr>\n",
       "    <tr>\n",
       "      <th>1989</th>\n",
       "      <td>110456.222440</td>\n",
       "    </tr>\n",
       "    <tr>\n",
       "      <th>625</th>\n",
       "      <td>180115.407733</td>\n",
       "    </tr>\n",
       "  </tbody>\n",
       "</table>\n",
       "</div>"
      ],
      "text/plain": [
       "          SalePrice\n",
       "id                 \n",
       "2658  131160.094396\n",
       "2718  153818.408272\n",
       "2414  210818.222947\n",
       "1989  110456.222440\n",
       "625   180115.407733"
      ]
     },
     "execution_count": 122,
     "metadata": {},
     "output_type": "execute_result"
    }
   ],
   "source": [
    "output = X_kaggle[['SalePrice']]\n",
    "output.head()"
   ]
  },
  {
   "cell_type": "code",
   "execution_count": 123,
   "id": "3567bb3e-5b6c-4540-b6cd-584ee840f8c8",
   "metadata": {},
   "outputs": [],
   "source": [
    "output.to_csv('../datasets/submission_2.csv')"
   ]
  },
  {
   "cell_type": "code",
   "execution_count": 124,
   "id": "717cccc6-21ab-47eb-b733-59848dd6dd99",
   "metadata": {},
   "outputs": [],
   "source": [
    "features;"
   ]
  },
  {
   "cell_type": "code",
   "execution_count": null,
   "id": "9a831faa-9502-4303-9e12-e508ba3db193",
   "metadata": {},
   "outputs": [],
   "source": []
  },
  {
   "cell_type": "code",
   "execution_count": null,
   "id": "c650cf16-4cc9-4312-be78-eae26320bf53",
   "metadata": {},
   "outputs": [],
   "source": []
  },
  {
   "cell_type": "code",
   "execution_count": null,
   "id": "b985c4b8-580f-4bc0-b2b9-5cd500f76805",
   "metadata": {},
   "outputs": [],
   "source": []
  },
  {
   "cell_type": "code",
   "execution_count": null,
   "id": "b62899aa-9439-4c3e-bf47-0a30b31d8a58",
   "metadata": {},
   "outputs": [],
   "source": []
  },
  {
   "cell_type": "markdown",
   "id": "83ba0e21-0b24-4630-8332-ede28dd36768",
   "metadata": {},
   "source": [
    "#### Log Transformation!"
   ]
  },
  {
   "cell_type": "code",
   "execution_count": 125,
   "id": "90fe072f-f5bb-44cf-be7c-d6b6fea00553",
   "metadata": {},
   "outputs": [
    {
     "data": {
      "text/plain": [
       "LinearRegression()"
      ]
     },
     "execution_count": 125,
     "metadata": {},
     "output_type": "execute_result"
    }
   ],
   "source": [
    "lr = LinearRegression()\n",
    "lr.fit(X_train, np.log(y_train))"
   ]
  },
  {
   "cell_type": "code",
   "execution_count": null,
   "id": "efbfa9f4-def0-4fc8-a83b-71c6c8db9d4b",
   "metadata": {},
   "outputs": [],
   "source": []
  },
  {
   "cell_type": "code",
   "execution_count": 126,
   "id": "33df971a-18b5-430b-ae14-31207583ead6",
   "metadata": {},
   "outputs": [
    {
     "data": {
      "text/plain": [
       "array([2.53372178, 2.48211648, 2.50003719, ..., 2.48069642, 2.50845651,\n",
       "       2.42583458])"
      ]
     },
     "execution_count": 126,
     "metadata": {},
     "output_type": "execute_result"
    }
   ],
   "source": [
    "np.log(lr.predict(X_train))\n",
    "#need to to put this in exp bec your y_train is in log so convert it to better numbers using exp "
   ]
  },
  {
   "cell_type": "code",
   "execution_count": null,
   "id": "3cf85527-8c96-41cc-995d-17e999655f67",
   "metadata": {},
   "outputs": [],
   "source": []
  },
  {
   "cell_type": "code",
   "execution_count": 127,
   "id": "8283a9f2-a66e-46c2-88e3-04ddc4d7eb26",
   "metadata": {},
   "outputs": [
    {
     "data": {
      "text/plain": [
       "19519.70836081461"
      ]
     },
     "execution_count": 127,
     "metadata": {},
     "output_type": "execute_result"
    }
   ],
   "source": [
    "#Evaluate model on both training and testing data using RMSE\n",
    "mean_squared_error(y_test, np.exp(lr.predict(X_test)))**0.5"
   ]
  },
  {
   "cell_type": "code",
   "execution_count": 128,
   "id": "e2199a13-7b9e-4dff-9e0e-b8194b08ca6b",
   "metadata": {},
   "outputs": [
    {
     "data": {
      "text/plain": [
       "18538.94280623549"
      ]
     },
     "execution_count": 128,
     "metadata": {},
     "output_type": "execute_result"
    }
   ],
   "source": [
    "mean_squared_error(y_train, np.exp(lr.predict(X_train)))**0.5"
   ]
  },
  {
   "cell_type": "code",
   "execution_count": null,
   "id": "8e6fc212-eac6-4744-b020-5e77dcf0130c",
   "metadata": {},
   "outputs": [],
   "source": []
  },
  {
   "cell_type": "code",
   "execution_count": 129,
   "id": "66f29319-319d-488d-ac7b-841f8c491b5d",
   "metadata": {},
   "outputs": [
    {
     "data": {
      "text/plain": [
       "['ms_subclass',\n",
       " 'lot_area',\n",
       " 'overall_qual',\n",
       " 'overall_cond',\n",
       " 'year_built',\n",
       " 'year_remod/add',\n",
       " 'mas_vnr_area',\n",
       " 'bsmtfin_sf_1',\n",
       " 'total_bsmt_sf',\n",
       " '1st_flr_sf',\n",
       " '2nd_flr_sf',\n",
       " 'gr_liv_area',\n",
       " 'full_bath',\n",
       " 'bedroom_abvgr',\n",
       " 'kitchen_abvgr',\n",
       " 'totrms_abvgrd',\n",
       " 'fireplaces',\n",
       " 'garage_yr_blt',\n",
       " 'garage_cars',\n",
       " 'garage_area',\n",
       " 'wood_deck_sf',\n",
       " 'screen_porch',\n",
       " 'pool_area',\n",
       " 'yr_sold',\n",
       " 'Blueste',\n",
       " 'BrDale',\n",
       " 'BrkSide',\n",
       " 'ClearCr',\n",
       " 'CollgCr',\n",
       " 'Crawfor',\n",
       " 'Edwards',\n",
       " 'Gilbert',\n",
       " 'Greens',\n",
       " 'IDOTRR',\n",
       " 'MeadowV',\n",
       " 'Mitchel',\n",
       " 'NAmes',\n",
       " 'NPkVill',\n",
       " 'NWAmes',\n",
       " 'NoRidge',\n",
       " 'NridgHt',\n",
       " 'OldTown',\n",
       " 'SWISU',\n",
       " 'Sawyer',\n",
       " 'SawyerW',\n",
       " 'Somerst',\n",
       " 'StoneBr',\n",
       " 'Timber',\n",
       " 'Veenker',\n",
       " 'A (agr)',\n",
       " 'C (all)',\n",
       " 'FV',\n",
       " 'I (all)',\n",
       " 'RH',\n",
       " 'RL',\n",
       " 'screen_porch*wood_deck_sf',\n",
       " 'fireplaces*totrms_abvgrd']"
      ]
     },
     "execution_count": 129,
     "metadata": {},
     "output_type": "execute_result"
    }
   ],
   "source": [
    "features_2"
   ]
  },
  {
   "cell_type": "code",
   "execution_count": 130,
   "id": "6b213aa0-525b-4618-9362-4cdd21b42ea4",
   "metadata": {},
   "outputs": [
    {
     "data": {
      "text/html": [
       "<div>\n",
       "<style scoped>\n",
       "    .dataframe tbody tr th:only-of-type {\n",
       "        vertical-align: middle;\n",
       "    }\n",
       "\n",
       "    .dataframe tbody tr th {\n",
       "        vertical-align: top;\n",
       "    }\n",
       "\n",
       "    .dataframe thead th {\n",
       "        text-align: right;\n",
       "    }\n",
       "</style>\n",
       "<table border=\"1\" class=\"dataframe\">\n",
       "  <thead>\n",
       "    <tr style=\"text-align: right;\">\n",
       "      <th></th>\n",
       "      <th>pool_area</th>\n",
       "    </tr>\n",
       "    <tr>\n",
       "      <th>id</th>\n",
       "      <th></th>\n",
       "    </tr>\n",
       "  </thead>\n",
       "  <tbody>\n",
       "    <tr>\n",
       "      <th>1064</th>\n",
       "      <td>144</td>\n",
       "    </tr>\n",
       "    <tr>\n",
       "      <th>1761</th>\n",
       "      <td>555</td>\n",
       "    </tr>\n",
       "    <tr>\n",
       "      <th>2571</th>\n",
       "      <td>512</td>\n",
       "    </tr>\n",
       "    <tr>\n",
       "      <th>2090</th>\n",
       "      <td>444</td>\n",
       "    </tr>\n",
       "  </tbody>\n",
       "</table>\n",
       "</div>"
      ],
      "text/plain": [
       "      pool_area\n",
       "id             \n",
       "1064        144\n",
       "1761        555\n",
       "2571        512\n",
       "2090        444"
      ]
     },
     "execution_count": 130,
     "metadata": {},
     "output_type": "execute_result"
    }
   ],
   "source": [
    "test_df_final.loc[test_df_final['pool_area'] != 0, ['pool_area']]"
   ]
  },
  {
   "cell_type": "code",
   "execution_count": 131,
   "id": "2f7f92a6-b0bf-4340-81a8-90f65bae79e2",
   "metadata": {},
   "outputs": [
    {
     "data": {
      "text/plain": [
       "Index(['pid', 'ms_subclass', 'lot_frontage', 'lot_area', 'street', 'alley',\n",
       "       'lot_shape', 'land_contour', 'utilities', 'lot_config',\n",
       "       ...\n",
       "       'Timber', 'Veenker', 'A (agr)', 'C (all)', 'FV', 'I (all)', 'RH', 'RL',\n",
       "       'screen_porch*wood_deck_sf', 'fireplaces*totrms_abvgrd'],\n",
       "      dtype='object', length=110)"
      ]
     },
     "execution_count": 131,
     "metadata": {},
     "output_type": "execute_result"
    }
   ],
   "source": [
    "test_df_final.columns"
   ]
  },
  {
   "cell_type": "code",
   "execution_count": 132,
   "id": "c72de1c3-d717-4eae-912f-6e650afa9f36",
   "metadata": {},
   "outputs": [],
   "source": [
    "X_kaggle = test_df_final.loc[:, features_2]\n",
    "X_kaggle['SalePrice'] = np.exp(lr.predict(X_kaggle))"
   ]
  },
  {
   "cell_type": "code",
   "execution_count": 133,
   "id": "f26eec8e-555f-486b-9e0d-fa85fe7c7b25",
   "metadata": {},
   "outputs": [
    {
     "data": {
      "text/html": [
       "<div>\n",
       "<style scoped>\n",
       "    .dataframe tbody tr th:only-of-type {\n",
       "        vertical-align: middle;\n",
       "    }\n",
       "\n",
       "    .dataframe tbody tr th {\n",
       "        vertical-align: top;\n",
       "    }\n",
       "\n",
       "    .dataframe thead th {\n",
       "        text-align: right;\n",
       "    }\n",
       "</style>\n",
       "<table border=\"1\" class=\"dataframe\">\n",
       "  <thead>\n",
       "    <tr style=\"text-align: right;\">\n",
       "      <th></th>\n",
       "      <th>SalePrice</th>\n",
       "    </tr>\n",
       "    <tr>\n",
       "      <th>id</th>\n",
       "      <th></th>\n",
       "    </tr>\n",
       "  </thead>\n",
       "  <tbody>\n",
       "    <tr>\n",
       "      <th>2658</th>\n",
       "      <td>140528.980563</td>\n",
       "    </tr>\n",
       "    <tr>\n",
       "      <th>2718</th>\n",
       "      <td>165087.954065</td>\n",
       "    </tr>\n",
       "    <tr>\n",
       "      <th>2414</th>\n",
       "      <td>209126.891290</td>\n",
       "    </tr>\n",
       "    <tr>\n",
       "      <th>1989</th>\n",
       "      <td>103375.859342</td>\n",
       "    </tr>\n",
       "    <tr>\n",
       "      <th>625</th>\n",
       "      <td>168038.683508</td>\n",
       "    </tr>\n",
       "  </tbody>\n",
       "</table>\n",
       "</div>"
      ],
      "text/plain": [
       "          SalePrice\n",
       "id                 \n",
       "2658  140528.980563\n",
       "2718  165087.954065\n",
       "2414  209126.891290\n",
       "1989  103375.859342\n",
       "625   168038.683508"
      ]
     },
     "execution_count": 133,
     "metadata": {},
     "output_type": "execute_result"
    }
   ],
   "source": [
    "output = X_kaggle[['SalePrice']]\n",
    "output.head()"
   ]
  },
  {
   "cell_type": "code",
   "execution_count": 134,
   "id": "11299fed-5812-4269-b118-f118349d7e7b",
   "metadata": {},
   "outputs": [],
   "source": [
    "output.to_csv('../datasets/submissions_4.csv')  #this one gives a score of 17.8k\n",
    "#for submission_3 file (including all the non-objectt ype columns and dummifying neighborhood)oh holy shiett... my score improved incredibly  from 29k down to 16k\n",
    "                                                    # this score was where i included all the columns that were already non-object type\n",
    "                                                    #and neighborhood column dummified!"
   ]
  },
  {
   "cell_type": "code",
   "execution_count": null,
   "id": "2348b2d8-126c-429f-b36e-2caed9e8f911",
   "metadata": {},
   "outputs": [],
   "source": []
  },
  {
   "cell_type": "code",
   "execution_count": 135,
   "id": "42ec49b4-aa6d-48dd-9691-6aa349e7666d",
   "metadata": {},
   "outputs": [
    {
     "data": {
      "text/plain": [
       "<AxesSubplot:ylabel='Frequency'>"
      ]
     },
     "execution_count": 135,
     "metadata": {},
     "output_type": "execute_result"
    },
    {
     "data": {
      "image/png": "[encoded data removed]",
      "text/plain": [
       "<Figure size 432x288 with 1 Axes>"
      ]
     },
     "metadata": {},
     "output_type": "display_data"
    }
   ],
   "source": [
    "train_df_final['saleprice'].plot(kind = 'hist', bins = 50)"
   ]
  },
  {
   "cell_type": "code",
   "execution_count": 62,
   "id": "500a3adb-e5c4-4027-b23e-fc41f805c563",
   "metadata": {},
   "outputs": [],
   "source": [
    "#Not quite normally distributed. Try logging it! (np.log)"
   ]
  },
  {
   "cell_type": "code",
   "execution_count": 153,
   "id": "8fd221f1-8d58-4c50-94e8-7291d6f8d4ce",
   "metadata": {},
   "outputs": [
    {
     "data": {
      "text/plain": [
       "<AxesSubplot:ylabel='Frequency'>"
      ]
     },
     "execution_count": 153,
     "metadata": {},
     "output_type": "execute_result"
    },
    {
     "data": {
      "image/png": "[encoded data removed]",
      "text/plain": [
       "<Figure size 432x288 with 1 Axes>"
      ]
     },
     "metadata": {},
     "output_type": "display_data"
    }
   ],
   "source": [
    "np.log(train_df_final['saleprice']).plot(kind = 'hist', bins = 50)"
   ]
  },
  {
   "cell_type": "code",
   "execution_count": 154,
   "id": "29ec9618-9c21-449f-af06-21b07a16e9cb",
   "metadata": {},
   "outputs": [
    {
     "data": {
      "text/plain": [
       "<AxesSubplot:ylabel='Frequency'>"
      ]
     },
     "execution_count": 154,
     "metadata": {},
     "output_type": "execute_result"
    },
    {
     "data": {
      "image/png": "[encoded data removed]",
      "text/plain": [
       "<Figure size 432x288 with 1 Axes>"
      ]
     },
     "metadata": {},
     "output_type": "display_data"
    }
   ],
   "source": [
    "np.log10(train_df_final['saleprice']).plot(kind = 'hist', bins = 50)"
   ]
  },
  {
   "cell_type": "code",
   "execution_count": null,
   "id": "1852c133-1641-402f-8cd0-2f8f61a48926",
   "metadata": {},
   "outputs": [],
   "source": []
  },
  {
   "cell_type": "code",
   "execution_count": null,
   "id": "5a99c14d-18ba-4eb8-bf61-a62369c59d9f",
   "metadata": {},
   "outputs": [],
   "source": []
  },
  {
   "cell_type": "code",
   "execution_count": null,
   "id": "dfed9a56-4c1d-4705-9ddf-5ded39953d0d",
   "metadata": {},
   "outputs": [],
   "source": []
  },
  {
   "cell_type": "code",
   "execution_count": null,
   "id": "afb2fff4-c92d-495a-841e-bfef87965fb5",
   "metadata": {},
   "outputs": [],
   "source": []
  }
 ],
 "metadata": {
  "kernelspec": {
   "display_name": "Python 3 (ipykernel)",
   "language": "python",
   "name": "python3"
  },
  "language_info": {
   "codemirror_mode": {
    "name": "ipython",
    "version": 3
   },
   "file_extension": ".py",
   "mimetype": "text/x-python",
   "name": "python",
   "nbconvert_exporter": "python",
   "pygments_lexer": "ipython3",
   "version": "3.9.7"
  }
 },
 "nbformat": 4,
 "nbformat_minor": 5
}
