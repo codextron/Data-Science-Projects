{
 "cells": [
  {
   "cell_type": "markdown",
   "id": "c846ee87-fb20-4960-ada0-887d02c60bd1",
   "metadata": {
    "id": "c846ee87-fb20-4960-ada0-887d02c60bd1"
   },
   "source": [
    "# Project 3 Webscraping \n"
   ]
  },
  {
   "cell_type": "markdown",
   "id": "8591a740-24a6-44dd-b50c-83922f73155f",
   "metadata": {},
   "source": [
    "## Part 1"
   ]
  },
  {
   "cell_type": "code",
   "execution_count": null,
   "id": "Y8oVnTDKzEB-",
   "metadata": {
    "colab": {
     "base_uri": "https://localhost:8080/"
    },
    "id": "Y8oVnTDKzEB-",
    "outputId": "a10fc599-ed97-4c61-d842-ac5fcd915671"
   },
   "outputs": [
    {
     "name": "stdout",
     "output_type": "stream",
     "text": [
      "Mounted at /content/drive\n"
     ]
    }
   ],
   "source": [
    "from google.colab import drive\n",
    "drive.mount('/content/drive')"
   ]
  },
  {
   "cell_type": "code",
   "execution_count": null,
   "id": "571ae176-78a9-42c5-965f-139ece9f0f53",
   "metadata": {
    "id": "571ae176-78a9-42c5-965f-139ece9f0f53"
   },
   "outputs": [],
   "source": [
    "import pandas as pd\n",
    "import datetime as dt\n",
    "import time\n",
    "import requests"
   ]
  },
  {
   "cell_type": "code",
   "execution_count": null,
   "id": "48af6c02-8d5f-424c-89dc-d28634088465",
   "metadata": {
    "id": "48af6c02-8d5f-424c-89dc-d28634088465"
   },
   "outputs": [],
   "source": []
  },
  {
   "cell_type": "code",
   "execution_count": null,
   "id": "cb5e9c0b-dd0d-4cb0-b5c5-95e479d09d5e",
   "metadata": {
    "id": "cb5e9c0b-dd0d-4cb0-b5c5-95e479d09d5e"
   },
   "outputs": [],
   "source": [
    "url = \"https://api.pushshift.io/reddit/search/submission?subreddit=wow\""
   ]
  },
  {
   "cell_type": "code",
   "execution_count": null,
   "id": "ed7f4ddf-299d-46d2-8e96-42e66cd61ee4",
   "metadata": {
    "id": "ed7f4ddf-299d-46d2-8e96-42e66cd61ee4"
   },
   "outputs": [],
   "source": [
    "res = requests.get(url)"
   ]
  },
  {
   "cell_type": "code",
   "execution_count": null,
   "id": "89f09b87-caa5-4e4f-8a78-65eccedce58f",
   "metadata": {
    "id": "89f09b87-caa5-4e4f-8a78-65eccedce58f"
   },
   "outputs": [],
   "source": [
    "res.status_code"
   ]
  },
  {
   "cell_type": "code",
   "execution_count": null,
   "id": "45789aef-db7a-434d-bd10-60d2dfbb1ba9",
   "metadata": {
    "id": "45789aef-db7a-434d-bd10-60d2dfbb1ba9"
   },
   "outputs": [],
   "source": [
    "assert res.status_code == 200"
   ]
  },
  {
   "cell_type": "code",
   "execution_count": null,
   "id": "09f38423-0576-43b9-9272-b25a37109ebc",
   "metadata": {
    "id": "09f38423-0576-43b9-9272-b25a37109ebc"
   },
   "outputs": [],
   "source": [
    "\n"
   ]
  },
  {
   "cell_type": "markdown",
   "id": "705a8822-f58d-43aa-92e7-cc15de6905ef",
   "metadata": {
    "id": "705a8822-f58d-43aa-92e7-cc15de6905ef"
   },
   "source": [
    "### Lets Get that Data"
   ]
  },
  {
   "cell_type": "code",
   "execution_count": null,
   "id": "8b3cc039-2d2d-4a54-ad5a-85088f4d0ebf",
   "metadata": {
    "id": "8b3cc039-2d2d-4a54-ad5a-85088f4d0ebf"
   },
   "outputs": [],
   "source": [
    "json_data = res.json()\n",
    "json_data.keys()"
   ]
  },
  {
   "cell_type": "code",
   "execution_count": null,
   "id": "fc76d4f4-c43e-43d6-b17b-441e2bd8e4d9",
   "metadata": {
    "id": "fc76d4f4-c43e-43d6-b17b-441e2bd8e4d9"
   },
   "outputs": [],
   "source": [
    "len(json_data['data'])"
   ]
  },
  {
   "cell_type": "code",
   "execution_count": null,
   "id": "528dd29e-7025-41ed-87cc-e72336619864",
   "metadata": {
    "id": "528dd29e-7025-41ed-87cc-e72336619864"
   },
   "outputs": [],
   "source": [
    "json_data['data'][24];"
   ]
  },
  {
   "cell_type": "code",
   "execution_count": null,
   "id": "62fca393-38b7-4f47-85b2-3ddfbba090cf",
   "metadata": {
    "id": "62fca393-38b7-4f47-85b2-3ddfbba090cf"
   },
   "outputs": [],
   "source": []
  },
  {
   "cell_type": "code",
   "execution_count": null,
   "id": "63ed2114-8d24-427e-a39a-59ccdcc1cb6d",
   "metadata": {
    "id": "63ed2114-8d24-427e-a39a-59ccdcc1cb6d"
   },
   "outputs": [],
   "source": [
    "results_df = pd.DataFrame(json_data['data'])\n",
    "results_df.head()"
   ]
  },
  {
   "cell_type": "code",
   "execution_count": null,
   "id": "e34cefbe-c9b1-4825-87a2-042c00af2a47",
   "metadata": {
    "id": "e34cefbe-c9b1-4825-87a2-042c00af2a47"
   },
   "outputs": [],
   "source": [
    "results_df.columns"
   ]
  },
  {
   "cell_type": "code",
   "execution_count": null,
   "id": "f6856c67-5e54-4ec5-a815-400f1d46ca8a",
   "metadata": {
    "id": "f6856c67-5e54-4ec5-a815-400f1d46ca8a"
   },
   "outputs": [],
   "source": [
    "subfields = ['title', 'selftext', 'subreddit', 'created_utc', 'author', 'num_comments', 'score', 'is_self']\n",
    "posts = results_df[subfields]\n",
    "posts.head(20)"
   ]
  },
  {
   "cell_type": "code",
   "execution_count": null,
   "id": "80b999d2-e875-4c97-a2e5-3e37cad83900",
   "metadata": {
    "id": "80b999d2-e875-4c97-a2e5-3e37cad83900"
   },
   "outputs": [],
   "source": []
  },
  {
   "cell_type": "code",
   "execution_count": null,
   "id": "ce927728-159b-4175-950f-317123375785",
   "metadata": {
    "id": "ce927728-159b-4175-950f-317123375785"
   },
   "outputs": [],
   "source": [
    "#remove duplicates\n",
    "posts.drop_duplicates(subset= 'title', inplace= True)"
   ]
  },
  {
   "cell_type": "code",
   "execution_count": null,
   "id": "8ec6d71e-235b-4349-9a32-116d91e99f9d",
   "metadata": {
    "id": "8ec6d71e-235b-4349-9a32-116d91e99f9d"
   },
   "outputs": [],
   "source": [
    "posts.head(6)"
   ]
  },
  {
   "cell_type": "code",
   "execution_count": null,
   "id": "fe1a79db-60d6-4c1a-bbc5-ee2645aa1bcf",
   "metadata": {
    "id": "fe1a79db-60d6-4c1a-bbc5-ee2645aa1bcf"
   },
   "outputs": [],
   "source": [
    "len(posts)"
   ]
  },
  {
   "cell_type": "code",
   "execution_count": null,
   "id": "207d2dec-c1f8-4d57-bc33-9309ad71f8d0",
   "metadata": {
    "id": "207d2dec-c1f8-4d57-bc33-9309ad71f8d0"
   },
   "outputs": [],
   "source": [
    "posts['is_self'].unique()"
   ]
  },
  {
   "cell_type": "code",
   "execution_count": null,
   "id": "be6f5017-6024-4869-93b4-db97209e3bfa",
   "metadata": {
    "id": "be6f5017-6024-4869-93b4-db97209e3bfa"
   },
   "outputs": [],
   "source": []
  },
  {
   "cell_type": "code",
   "execution_count": null,
   "id": "0f33fe11-a3c6-41ba-a41f-8449f00ac344",
   "metadata": {
    "id": "0f33fe11-a3c6-41ba-a41f-8449f00ac344"
   },
   "outputs": [],
   "source": [
    "# filter only is_self == true\n",
    "\n",
    "#posts['is_self'] == \"True\"  #when i set it or do loc i get an empty dataframe\n",
    "\n",
    "posts['is_self'] = posts['is_self'].astype(int)\n",
    "posts.head(6)"
   ]
  },
  {
   "cell_type": "code",
   "execution_count": null,
   "id": "dabbad1c-a2ff-4571-9899-60e9d5ed6b23",
   "metadata": {
    "id": "dabbad1c-a2ff-4571-9899-60e9d5ed6b23"
   },
   "outputs": [],
   "source": [
    "posts = posts[posts['is_self'] == 1]\n",
    "posts.head()"
   ]
  },
  {
   "cell_type": "code",
   "execution_count": null,
   "id": "9e30cfd2-8d6c-42cb-9f9d-79707b32f1ec",
   "metadata": {
    "id": "9e30cfd2-8d6c-42cb-9f9d-79707b32f1ec"
   },
   "outputs": [],
   "source": [
    "#create a 'timestamp' column using created_utc\n",
    "\n",
    "posts['timestamp'] = posts['created_utc'].map(dt.date.fromtimestamp)\n"
   ]
  },
  {
   "cell_type": "code",
   "execution_count": null,
   "id": "1eeca2c9-ab27-4922-ab22-14f24fc1c981",
   "metadata": {
    "id": "1eeca2c9-ab27-4922-ab22-14f24fc1c981"
   },
   "outputs": [],
   "source": [
    "posts.head()"
   ]
  },
  {
   "cell_type": "code",
   "execution_count": null,
   "id": "9e2aceb2-56ab-4788-91ae-65f725262b28",
   "metadata": {
    "id": "9e2aceb2-56ab-4788-91ae-65f725262b28"
   },
   "outputs": [],
   "source": []
  },
  {
   "cell_type": "code",
   "execution_count": null,
   "id": "b66397be-c991-4232-b91a-166b86a8d77d",
   "metadata": {
    "id": "b66397be-c991-4232-b91a-166b86a8d77d"
   },
   "outputs": [],
   "source": []
  },
  {
   "cell_type": "code",
   "execution_count": null,
   "id": "5249deb4-27ef-4b07-a445-c0c6fe4a4546",
   "metadata": {
    "id": "5249deb4-27ef-4b07-a445-c0c6fe4a4546"
   },
   "outputs": [],
   "source": []
  },
  {
   "cell_type": "markdown",
   "id": "FbXGEzYPKPoG",
   "metadata": {
    "id": "FbXGEzYPKPoG"
   },
   "source": [
    "# Put it Altogether!"
   ]
  },
  {
   "cell_type": "code",
   "execution_count": null,
   "id": "c25d1f1d-b2b5-4eac-99f4-b22c6408872a",
   "metadata": {
    "colab": {
     "base_uri": "https://localhost:8080/"
    },
    "id": "c25d1f1d-b2b5-4eac-99f4-b22c6408872a",
    "outputId": "6b289a2b-0b5b-4df4-91ae-6f6699bc87d6"
   },
   "outputs": [
    {
     "name": "stdout",
     "output_type": "stream",
     "text": [
      "Querying from https://api.pushshift.io/reddit/search/submission?subreddit=wow&size=100&after=2d\n",
      "Querying from https://api.pushshift.io/reddit/search/submission?subreddit=wow&size=100&after=4d\n",
      "Querying from https://api.pushshift.io/reddit/search/submission?subreddit=wow&size=100&after=6d\n",
      "Querying from https://api.pushshift.io/reddit/search/submission?subreddit=wow&size=100&after=8d\n",
      "Querying from https://api.pushshift.io/reddit/search/submission?subreddit=wow&size=100&after=10d\n",
      "Querying from https://api.pushshift.io/reddit/search/submission?subreddit=wow&size=100&after=12d\n",
      "Querying from https://api.pushshift.io/reddit/search/submission?subreddit=wow&size=100&after=14d\n",
      "Query complete from the wow subreddit!\n",
      "Querying from https://api.pushshift.io/reddit/search/submission?subreddit=lostarkgame&size=100&after=2d\n",
      "Querying from https://api.pushshift.io/reddit/search/submission?subreddit=lostarkgame&size=100&after=4d\n",
      "Querying from https://api.pushshift.io/reddit/search/submission?subreddit=lostarkgame&size=100&after=6d\n",
      "Querying from https://api.pushshift.io/reddit/search/submission?subreddit=lostarkgame&size=100&after=8d\n",
      "Querying from https://api.pushshift.io/reddit/search/submission?subreddit=lostarkgame&size=100&after=10d\n",
      "Querying from https://api.pushshift.io/reddit/search/submission?subreddit=lostarkgame&size=100&after=12d\n",
      "Querying from https://api.pushshift.io/reddit/search/submission?subreddit=lostarkgame&size=100&after=14d\n",
      "Query complete from the lostarkgame subreddit!\n",
      "Query Complete!\n"
     ]
    }
   ],
   "source": [
    "#establish parameters\n",
    "subreddits = ['wow', 'lostarkgame']\n",
    "kind = 'submission'\n",
    "\n",
    "#establish url base\n",
    "base_url = f\"https://api.pushshift.io/reddit/search/{kind}\"  #our API endpoint\n",
    "\n",
    "#for loop variables :\n",
    "day_window = 2  #  after\tReturn results after this date\t\tEpoch value or Integer + \"s,m,h,d\" (i.e. 30d for 30 days)\n",
    "n = 7\n",
    "\n",
    "#make my empty list to push my data into and we will concat it later\n",
    "posts = []\n",
    "\n",
    "\n",
    "for mmo in subreddits:\n",
    "    #construct full url\n",
    "    stem = f\"{base_url}?subreddit={mmo}&size=100\"   # we are pulling a max of 100 posts ..  \n",
    "    \n",
    "    for  i in range(1, n + 1):\n",
    "        #create custom url using 'after'\n",
    "        URL = f\"{stem}&after={day_window*i}d\"\n",
    "        print(\"Querying from \" + URL)\n",
    "        res = requests.get(URL)\n",
    "        assert res.status_code == 200\n",
    "        json = res.json()['data']\n",
    "        df = pd.DataFrame(json)\n",
    "        posts.append(df)\n",
    "        time.sleep(5)\n",
    "    print(f\"Query complete from the {mmo} subreddit!\")\n",
    "    \n",
    "print(\"Query Complete!\")\n",
    "\n",
    "\n"
   ]
  },
  {
   "cell_type": "code",
   "execution_count": null,
   "id": "f465bbf0-1747-41e1-9a40-994fd38e18f3",
   "metadata": {
    "id": "f465bbf0-1747-41e1-9a40-994fd38e18f3"
   },
   "outputs": [],
   "source": [
    "len(posts[0])"
   ]
  },
  {
   "cell_type": "code",
   "execution_count": null,
   "id": "9e8aa503-5d41-41c9-8019-3bd698a3fa0f",
   "metadata": {
    "id": "9e8aa503-5d41-41c9-8019-3bd698a3fa0f"
   },
   "outputs": [],
   "source": [
    "posts[0];"
   ]
  },
  {
   "cell_type": "code",
   "execution_count": null,
   "id": "d41cdde8-bbff-4fd6-a40e-59f2f781a4c2",
   "metadata": {
    "id": "d41cdde8-bbff-4fd6-a40e-59f2f781a4c2"
   },
   "outputs": [],
   "source": [
    "posts = pd.concat(posts)"
   ]
  },
  {
   "cell_type": "code",
   "execution_count": null,
   "id": "d289e0a8-ad9f-4141-9c1f-58ef802c10b7",
   "metadata": {
    "colab": {
     "base_uri": "https://localhost:8080/"
    },
    "id": "d289e0a8-ad9f-4141-9c1f-58ef802c10b7",
    "outputId": "39aaf98f-fd3b-4421-ffbc-34d8d3b5af1c"
   },
   "outputs": [
    {
     "data": {
      "text/plain": [
       "1400"
      ]
     },
     "execution_count": 19,
     "metadata": {},
     "output_type": "execute_result"
    }
   ],
   "source": [
    "len(posts)"
   ]
  },
  {
   "cell_type": "code",
   "execution_count": null,
   "id": "cb98ed87-8ec8-4ee7-a8ae-6eb633aa863a",
   "metadata": {
    "colab": {
     "base_uri": "https://localhost:8080/",
     "height": 635
    },
    "id": "cb98ed87-8ec8-4ee7-a8ae-6eb633aa863a",
    "outputId": "faf5bef0-b5c7-4b0e-cc50-f09d4f39937d"
   },
   "outputs": [
    {
     "data": {
      "text/html": [
       "\n",
       "  <div id=\"df-be23029a-9c46-4d08-986f-b3a955b8d917\">\n",
       "    <div class=\"colab-df-container\">\n",
       "      <div>\n",
       "<style scoped>\n",
       "    .dataframe tbody tr th:only-of-type {\n",
       "        vertical-align: middle;\n",
       "    }\n",
       "\n",
       "    .dataframe tbody tr th {\n",
       "        vertical-align: top;\n",
       "    }\n",
       "\n",
       "    .dataframe thead th {\n",
       "        text-align: right;\n",
       "    }\n",
       "</style>\n",
       "<table border=\"1\" class=\"dataframe\">\n",
       "  <thead>\n",
       "    <tr style=\"text-align: right;\">\n",
       "      <th></th>\n",
       "      <th>all_awardings</th>\n",
       "      <th>allow_live_comments</th>\n",
       "      <th>author</th>\n",
       "      <th>author_flair_css_class</th>\n",
       "      <th>author_flair_richtext</th>\n",
       "      <th>author_flair_text</th>\n",
       "      <th>author_flair_type</th>\n",
       "      <th>author_fullname</th>\n",
       "      <th>author_is_blocked</th>\n",
       "      <th>author_patreon_flair</th>\n",
       "      <th>author_premium</th>\n",
       "      <th>awarders</th>\n",
       "      <th>can_mod_post</th>\n",
       "      <th>contest_mode</th>\n",
       "      <th>created_utc</th>\n",
       "      <th>domain</th>\n",
       "      <th>full_link</th>\n",
       "      <th>gildings</th>\n",
       "      <th>id</th>\n",
       "      <th>is_created_from_ads_ui</th>\n",
       "      <th>is_crosspostable</th>\n",
       "      <th>is_meta</th>\n",
       "      <th>is_original_content</th>\n",
       "      <th>is_reddit_media_domain</th>\n",
       "      <th>is_robot_indexable</th>\n",
       "      <th>is_self</th>\n",
       "      <th>is_video</th>\n",
       "      <th>link_flair_background_color</th>\n",
       "      <th>link_flair_css_class</th>\n",
       "      <th>link_flair_richtext</th>\n",
       "      <th>link_flair_template_id</th>\n",
       "      <th>link_flair_text</th>\n",
       "      <th>link_flair_text_color</th>\n",
       "      <th>link_flair_type</th>\n",
       "      <th>locked</th>\n",
       "      <th>media_only</th>\n",
       "      <th>no_follow</th>\n",
       "      <th>num_comments</th>\n",
       "      <th>num_crossposts</th>\n",
       "      <th>over_18</th>\n",
       "      <th>parent_whitelist_status</th>\n",
       "      <th>permalink</th>\n",
       "      <th>pinned</th>\n",
       "      <th>post_hint</th>\n",
       "      <th>preview</th>\n",
       "      <th>pwls</th>\n",
       "      <th>removed_by_category</th>\n",
       "      <th>retrieved_on</th>\n",
       "      <th>score</th>\n",
       "      <th>selftext</th>\n",
       "      <th>send_replies</th>\n",
       "      <th>spoiler</th>\n",
       "      <th>stickied</th>\n",
       "      <th>subreddit</th>\n",
       "      <th>subreddit_id</th>\n",
       "      <th>subreddit_subscribers</th>\n",
       "      <th>subreddit_type</th>\n",
       "      <th>thumbnail</th>\n",
       "      <th>thumbnail_height</th>\n",
       "      <th>thumbnail_width</th>\n",
       "      <th>title</th>\n",
       "      <th>total_awards_received</th>\n",
       "      <th>treatment_tags</th>\n",
       "      <th>upvote_ratio</th>\n",
       "      <th>url</th>\n",
       "      <th>url_overridden_by_dest</th>\n",
       "      <th>whitelist_status</th>\n",
       "      <th>wls</th>\n",
       "      <th>author_flair_background_color</th>\n",
       "      <th>author_flair_template_id</th>\n",
       "      <th>author_flair_text_color</th>\n",
       "      <th>media</th>\n",
       "      <th>media_embed</th>\n",
       "      <th>secure_media</th>\n",
       "      <th>secure_media_embed</th>\n",
       "      <th>media_metadata</th>\n",
       "      <th>crosspost_parent</th>\n",
       "      <th>crosspost_parent_list</th>\n",
       "      <th>suggested_sort</th>\n",
       "    </tr>\n",
       "  </thead>\n",
       "  <tbody>\n",
       "    <tr>\n",
       "      <th>0</th>\n",
       "      <td>[]</td>\n",
       "      <td>False</td>\n",
       "      <td>balling_ball</td>\n",
       "      <td>None</td>\n",
       "      <td>[]</td>\n",
       "      <td>None</td>\n",
       "      <td>text</td>\n",
       "      <td>t2_daf00eis</td>\n",
       "      <td>False</td>\n",
       "      <td>False</td>\n",
       "      <td>False</td>\n",
       "      <td>[]</td>\n",
       "      <td>False</td>\n",
       "      <td>False</td>\n",
       "      <td>1644700695</td>\n",
       "      <td>i.redd.it</td>\n",
       "      <td>https://www.reddit.com/r/wow/comments/sr1ihc/m...</td>\n",
       "      <td>{}</td>\n",
       "      <td>sr1ihc</td>\n",
       "      <td>False</td>\n",
       "      <td>False</td>\n",
       "      <td>False</td>\n",
       "      <td>False</td>\n",
       "      <td>True</td>\n",
       "      <td>False</td>\n",
       "      <td>False</td>\n",
       "      <td>False</td>\n",
       "      <td></td>\n",
       "      <td>transmog</td>\n",
       "      <td>[{'e': 'text', 't': 'Transmog'}]</td>\n",
       "      <td>bf146dee-6659-11eb-b4c9-0e48bba495d9</td>\n",
       "      <td>Transmog</td>\n",
       "      <td>dark</td>\n",
       "      <td>richtext</td>\n",
       "      <td>False</td>\n",
       "      <td>False</td>\n",
       "      <td>True</td>\n",
       "      <td>0</td>\n",
       "      <td>0</td>\n",
       "      <td>False</td>\n",
       "      <td>all_ads</td>\n",
       "      <td>/r/wow/comments/sr1ihc/my_warrior_mog/</td>\n",
       "      <td>False</td>\n",
       "      <td>image</td>\n",
       "      <td>{'enabled': True, 'images': [{'id': 'ssRjx4HDY...</td>\n",
       "      <td>6</td>\n",
       "      <td>automod_filtered</td>\n",
       "      <td>1644700706</td>\n",
       "      <td>1</td>\n",
       "      <td></td>\n",
       "      <td>True</td>\n",
       "      <td>False</td>\n",
       "      <td>False</td>\n",
       "      <td>wow</td>\n",
       "      <td>t5_2qio8</td>\n",
       "      <td>2170548</td>\n",
       "      <td>public</td>\n",
       "      <td>https://b.thumbs.redditmedia.com/a-_SmWcQqgNBL...</td>\n",
       "      <td>78.0</td>\n",
       "      <td>140.0</td>\n",
       "      <td>my Warrior mog</td>\n",
       "      <td>0</td>\n",
       "      <td>[]</td>\n",
       "      <td>1.0</td>\n",
       "      <td>https://i.redd.it/x5zhkwtxxgh81.jpg</td>\n",
       "      <td>https://i.redd.it/x5zhkwtxxgh81.jpg</td>\n",
       "      <td>all_ads</td>\n",
       "      <td>6</td>\n",
       "      <td>NaN</td>\n",
       "      <td>NaN</td>\n",
       "      <td>NaN</td>\n",
       "      <td>NaN</td>\n",
       "      <td>NaN</td>\n",
       "      <td>NaN</td>\n",
       "      <td>NaN</td>\n",
       "      <td>NaN</td>\n",
       "      <td>NaN</td>\n",
       "      <td>NaN</td>\n",
       "      <td>NaN</td>\n",
       "    </tr>\n",
       "    <tr>\n",
       "      <th>1</th>\n",
       "      <td>[]</td>\n",
       "      <td>False</td>\n",
       "      <td>TethanProps</td>\n",
       "      <td>None</td>\n",
       "      <td>[]</td>\n",
       "      <td>None</td>\n",
       "      <td>text</td>\n",
       "      <td>t2_9o07cm8n</td>\n",
       "      <td>False</td>\n",
       "      <td>False</td>\n",
       "      <td>False</td>\n",
       "      <td>[]</td>\n",
       "      <td>False</td>\n",
       "      <td>False</td>\n",
       "      <td>1644700708</td>\n",
       "      <td>/r/wow/comments/sr1inj/im_in_the_process_of_ma...</td>\n",
       "      <td>https://www.reddit.com/r/wow/comments/sr1inj/i...</td>\n",
       "      <td>{}</td>\n",
       "      <td>sr1inj</td>\n",
       "      <td>False</td>\n",
       "      <td>True</td>\n",
       "      <td>False</td>\n",
       "      <td>False</td>\n",
       "      <td>False</td>\n",
       "      <td>True</td>\n",
       "      <td>False</td>\n",
       "      <td>True</td>\n",
       "      <td></td>\n",
       "      <td>art</td>\n",
       "      <td>[{'e': 'text', 't': 'Art'}]</td>\n",
       "      <td>af6b23d2-494b-11ea-a552-0e312f896259</td>\n",
       "      <td>Art</td>\n",
       "      <td>dark</td>\n",
       "      <td>richtext</td>\n",
       "      <td>False</td>\n",
       "      <td>False</td>\n",
       "      <td>True</td>\n",
       "      <td>0</td>\n",
       "      <td>0</td>\n",
       "      <td>False</td>\n",
       "      <td>all_ads</td>\n",
       "      <td>/r/wow/comments/sr1inj/im_in_the_process_of_ma...</td>\n",
       "      <td>False</td>\n",
       "      <td>hosted:video</td>\n",
       "      <td>{'enabled': False, 'images': [{'id': 'rY-h5qZl...</td>\n",
       "      <td>6</td>\n",
       "      <td>NaN</td>\n",
       "      <td>1644700718</td>\n",
       "      <td>1</td>\n",
       "      <td></td>\n",
       "      <td>True</td>\n",
       "      <td>False</td>\n",
       "      <td>False</td>\n",
       "      <td>wow</td>\n",
       "      <td>t5_2qio8</td>\n",
       "      <td>2170548</td>\n",
       "      <td>public</td>\n",
       "      <td>https://b.thumbs.redditmedia.com/hyCh48Rux97mG...</td>\n",
       "      <td>140.0</td>\n",
       "      <td>140.0</td>\n",
       "      <td>I'm in the process of making a Frostmourne lig...</td>\n",
       "      <td>0</td>\n",
       "      <td>[]</td>\n",
       "      <td>1.0</td>\n",
       "      <td>https://v.redd.it/1ep4ymwmxgh81</td>\n",
       "      <td>https://v.redd.it/1ep4ymwmxgh81</td>\n",
       "      <td>all_ads</td>\n",
       "      <td>6</td>\n",
       "      <td>NaN</td>\n",
       "      <td>NaN</td>\n",
       "      <td>NaN</td>\n",
       "      <td>NaN</td>\n",
       "      <td>NaN</td>\n",
       "      <td>NaN</td>\n",
       "      <td>NaN</td>\n",
       "      <td>NaN</td>\n",
       "      <td>NaN</td>\n",
       "      <td>NaN</td>\n",
       "      <td>NaN</td>\n",
       "    </tr>\n",
       "    <tr>\n",
       "      <th>2</th>\n",
       "      <td>[]</td>\n",
       "      <td>False</td>\n",
       "      <td>Kiemsargis</td>\n",
       "      <td>None</td>\n",
       "      <td>[]</td>\n",
       "      <td>None</td>\n",
       "      <td>text</td>\n",
       "      <td>t2_9mwsvxod</td>\n",
       "      <td>False</td>\n",
       "      <td>False</td>\n",
       "      <td>False</td>\n",
       "      <td>[]</td>\n",
       "      <td>False</td>\n",
       "      <td>False</td>\n",
       "      <td>1644700808</td>\n",
       "      <td>/r/wow/comments/sr1jwe/can_somebody_explain_me...</td>\n",
       "      <td>https://www.reddit.com/r/wow/comments/sr1jwe/c...</td>\n",
       "      <td>{}</td>\n",
       "      <td>sr1jwe</td>\n",
       "      <td>False</td>\n",
       "      <td>True</td>\n",
       "      <td>False</td>\n",
       "      <td>False</td>\n",
       "      <td>False</td>\n",
       "      <td>True</td>\n",
       "      <td>False</td>\n",
       "      <td>True</td>\n",
       "      <td></td>\n",
       "      <td>question</td>\n",
       "      <td>[{'e': 'text', 't': 'Question'}]</td>\n",
       "      <td>a8efbf86-494b-11ea-9ee5-0ea9890373cb</td>\n",
       "      <td>Question</td>\n",
       "      <td>dark</td>\n",
       "      <td>richtext</td>\n",
       "      <td>False</td>\n",
       "      <td>False</td>\n",
       "      <td>True</td>\n",
       "      <td>0</td>\n",
       "      <td>0</td>\n",
       "      <td>False</td>\n",
       "      <td>all_ads</td>\n",
       "      <td>/r/wow/comments/sr1jwe/can_somebody_explain_me...</td>\n",
       "      <td>False</td>\n",
       "      <td>hosted:video</td>\n",
       "      <td>{'enabled': False, 'images': [{'id': 'KcEgUH_z...</td>\n",
       "      <td>6</td>\n",
       "      <td>NaN</td>\n",
       "      <td>1644700819</td>\n",
       "      <td>1</td>\n",
       "      <td></td>\n",
       "      <td>True</td>\n",
       "      <td>False</td>\n",
       "      <td>False</td>\n",
       "      <td>wow</td>\n",
       "      <td>t5_2qio8</td>\n",
       "      <td>2170548</td>\n",
       "      <td>public</td>\n",
       "      <td>https://b.thumbs.redditmedia.com/RjDunLEgKGdY3...</td>\n",
       "      <td>78.0</td>\n",
       "      <td>140.0</td>\n",
       "      <td>Can somebody explain me what's going on there ?</td>\n",
       "      <td>0</td>\n",
       "      <td>[]</td>\n",
       "      <td>1.0</td>\n",
       "      <td>https://v.redd.it/8lxil29bygh81</td>\n",
       "      <td>https://v.redd.it/8lxil29bygh81</td>\n",
       "      <td>all_ads</td>\n",
       "      <td>6</td>\n",
       "      <td>NaN</td>\n",
       "      <td>NaN</td>\n",
       "      <td>NaN</td>\n",
       "      <td>NaN</td>\n",
       "      <td>NaN</td>\n",
       "      <td>NaN</td>\n",
       "      <td>NaN</td>\n",
       "      <td>NaN</td>\n",
       "      <td>NaN</td>\n",
       "      <td>NaN</td>\n",
       "      <td>NaN</td>\n",
       "    </tr>\n",
       "    <tr>\n",
       "      <th>3</th>\n",
       "      <td>[]</td>\n",
       "      <td>False</td>\n",
       "      <td>Henstelfs</td>\n",
       "      <td>None</td>\n",
       "      <td>[]</td>\n",
       "      <td>None</td>\n",
       "      <td>text</td>\n",
       "      <td>t2_74icf</td>\n",
       "      <td>False</td>\n",
       "      <td>False</td>\n",
       "      <td>False</td>\n",
       "      <td>[]</td>\n",
       "      <td>False</td>\n",
       "      <td>False</td>\n",
       "      <td>1644701325</td>\n",
       "      <td>self.wow</td>\n",
       "      <td>https://www.reddit.com/r/wow/comments/sr1qdk/t...</td>\n",
       "      <td>{}</td>\n",
       "      <td>sr1qdk</td>\n",
       "      <td>False</td>\n",
       "      <td>True</td>\n",
       "      <td>False</td>\n",
       "      <td>False</td>\n",
       "      <td>False</td>\n",
       "      <td>True</td>\n",
       "      <td>True</td>\n",
       "      <td>False</td>\n",
       "      <td></td>\n",
       "      <td>question</td>\n",
       "      <td>[{'e': 'text', 't': 'Question'}]</td>\n",
       "      <td>a8efbf86-494b-11ea-9ee5-0ea9890373cb</td>\n",
       "      <td>Question</td>\n",
       "      <td>dark</td>\n",
       "      <td>richtext</td>\n",
       "      <td>False</td>\n",
       "      <td>False</td>\n",
       "      <td>True</td>\n",
       "      <td>0</td>\n",
       "      <td>0</td>\n",
       "      <td>False</td>\n",
       "      <td>all_ads</td>\n",
       "      <td>/r/wow/comments/sr1qdk/tribute_ideas_for_a_fri...</td>\n",
       "      <td>False</td>\n",
       "      <td>NaN</td>\n",
       "      <td>NaN</td>\n",
       "      <td>6</td>\n",
       "      <td>NaN</td>\n",
       "      <td>1644701336</td>\n",
       "      <td>1</td>\n",
       "      <td>Me and some irl friends and Wow friends had a ...</td>\n",
       "      <td>True</td>\n",
       "      <td>False</td>\n",
       "      <td>False</td>\n",
       "      <td>wow</td>\n",
       "      <td>t5_2qio8</td>\n",
       "      <td>2170547</td>\n",
       "      <td>public</td>\n",
       "      <td>self</td>\n",
       "      <td>NaN</td>\n",
       "      <td>NaN</td>\n",
       "      <td>Tribute ideas for a friend who passed away?</td>\n",
       "      <td>0</td>\n",
       "      <td>[]</td>\n",
       "      <td>1.0</td>\n",
       "      <td>https://www.reddit.com/r/wow/comments/sr1qdk/t...</td>\n",
       "      <td>NaN</td>\n",
       "      <td>all_ads</td>\n",
       "      <td>6</td>\n",
       "      <td>NaN</td>\n",
       "      <td>NaN</td>\n",
       "      <td>NaN</td>\n",
       "      <td>NaN</td>\n",
       "      <td>NaN</td>\n",
       "      <td>NaN</td>\n",
       "      <td>NaN</td>\n",
       "      <td>NaN</td>\n",
       "      <td>NaN</td>\n",
       "      <td>NaN</td>\n",
       "      <td>NaN</td>\n",
       "    </tr>\n",
       "    <tr>\n",
       "      <th>4</th>\n",
       "      <td>[]</td>\n",
       "      <td>False</td>\n",
       "      <td>BengtJJ</td>\n",
       "      <td>None</td>\n",
       "      <td>[]</td>\n",
       "      <td>None</td>\n",
       "      <td>text</td>\n",
       "      <td>t2_gkbsx</td>\n",
       "      <td>False</td>\n",
       "      <td>False</td>\n",
       "      <td>False</td>\n",
       "      <td>[]</td>\n",
       "      <td>False</td>\n",
       "      <td>False</td>\n",
       "      <td>1644701779</td>\n",
       "      <td>self.wow</td>\n",
       "      <td>https://www.reddit.com/r/wow/comments/sr1vva/h...</td>\n",
       "      <td>{}</td>\n",
       "      <td>sr1vva</td>\n",
       "      <td>False</td>\n",
       "      <td>True</td>\n",
       "      <td>False</td>\n",
       "      <td>False</td>\n",
       "      <td>False</td>\n",
       "      <td>True</td>\n",
       "      <td>True</td>\n",
       "      <td>False</td>\n",
       "      <td></td>\n",
       "      <td>question</td>\n",
       "      <td>[{'e': 'text', 't': 'Question'}]</td>\n",
       "      <td>a8efbf86-494b-11ea-9ee5-0ea9890373cb</td>\n",
       "      <td>Question</td>\n",
       "      <td>dark</td>\n",
       "      <td>richtext</td>\n",
       "      <td>False</td>\n",
       "      <td>False</td>\n",
       "      <td>True</td>\n",
       "      <td>0</td>\n",
       "      <td>0</td>\n",
       "      <td>False</td>\n",
       "      <td>all_ads</td>\n",
       "      <td>/r/wow/comments/sr1vva/healer_main_92/</td>\n",
       "      <td>False</td>\n",
       "      <td>NaN</td>\n",
       "      <td>NaN</td>\n",
       "      <td>6</td>\n",
       "      <td>NaN</td>\n",
       "      <td>1644701789</td>\n",
       "      <td>1</td>\n",
       "      <td>Returning player and I feel like it is quite o...</td>\n",
       "      <td>True</td>\n",
       "      <td>False</td>\n",
       "      <td>False</td>\n",
       "      <td>wow</td>\n",
       "      <td>t5_2qio8</td>\n",
       "      <td>2170546</td>\n",
       "      <td>public</td>\n",
       "      <td>self</td>\n",
       "      <td>NaN</td>\n",
       "      <td>NaN</td>\n",
       "      <td>Healer main 9.2</td>\n",
       "      <td>0</td>\n",
       "      <td>[]</td>\n",
       "      <td>1.0</td>\n",
       "      <td>https://www.reddit.com/r/wow/comments/sr1vva/h...</td>\n",
       "      <td>NaN</td>\n",
       "      <td>all_ads</td>\n",
       "      <td>6</td>\n",
       "      <td>NaN</td>\n",
       "      <td>NaN</td>\n",
       "      <td>NaN</td>\n",
       "      <td>NaN</td>\n",
       "      <td>NaN</td>\n",
       "      <td>NaN</td>\n",
       "      <td>NaN</td>\n",
       "      <td>NaN</td>\n",
       "      <td>NaN</td>\n",
       "      <td>NaN</td>\n",
       "      <td>NaN</td>\n",
       "    </tr>\n",
       "  </tbody>\n",
       "</table>\n",
       "</div>\n",
       "      <button class=\"colab-df-convert\" onclick=\"convertToInteractive('df-be23029a-9c46-4d08-986f-b3a955b8d917')\"\n",
       "              title=\"Convert this dataframe to an interactive table.\"\n",
       "              style=\"display:none;\">\n",
       "        \n",
       "  <svg xmlns=\"http://www.w3.org/2000/svg\" height=\"24px\"viewBox=\"0 0 24 24\"\n",
       "       width=\"24px\">\n",
       "    <path d=\"M0 0h24v24H0V0z\" fill=\"none\"/>\n",
       "    <path d=\"M18.56 5.44l.94 2.06.94-2.06 2.06-.94-2.06-.94-.94-2.06-.94 2.06-2.06.94zm-11 1L8.5 8.5l.94-2.06 2.06-.94-2.06-.94L8.5 2.5l-.94 2.06-2.06.94zm10 10l.94 2.06.94-2.06 2.06-.94-2.06-.94-.94-2.06-.94 2.06-2.06.94z\"/><path d=\"M17.41 7.96l-1.37-1.37c-.4-.4-.92-.59-1.43-.59-.52 0-1.04.2-1.43.59L10.3 9.45l-7.72 7.72c-.78.78-.78 2.05 0 2.83L4 21.41c.39.39.9.59 1.41.59.51 0 1.02-.2 1.41-.59l7.78-7.78 2.81-2.81c.8-.78.8-2.07 0-2.86zM5.41 20L4 18.59l7.72-7.72 1.47 1.35L5.41 20z\"/>\n",
       "  </svg>\n",
       "      </button>\n",
       "      \n",
       "  <style>\n",
       "    .colab-df-container {\n",
       "      display:flex;\n",
       "      flex-wrap:wrap;\n",
       "      gap: 12px;\n",
       "    }\n",
       "\n",
       "    .colab-df-convert {\n",
       "      background-color: #E8F0FE;\n",
       "      border: none;\n",
       "      border-radius: 50%;\n",
       "      cursor: pointer;\n",
       "      display: none;\n",
       "      fill: #1967D2;\n",
       "      height: 32px;\n",
       "      padding: 0 0 0 0;\n",
       "      width: 32px;\n",
       "    }\n",
       "\n",
       "    .colab-df-convert:hover {\n",
       "      background-color: #E2EBFA;\n",
       "      box-shadow: 0px 1px 2px rgba(60, 64, 67, 0.3), 0px 1px 3px 1px rgba(60, 64, 67, 0.15);\n",
       "      fill: #174EA6;\n",
       "    }\n",
       "\n",
       "    [theme=dark] .colab-df-convert {\n",
       "      background-color: #3B4455;\n",
       "      fill: #D2E3FC;\n",
       "    }\n",
       "\n",
       "    [theme=dark] .colab-df-convert:hover {\n",
       "      background-color: #434B5C;\n",
       "      box-shadow: 0px 1px 3px 1px rgba(0, 0, 0, 0.15);\n",
       "      filter: drop-shadow(0px 1px 2px rgba(0, 0, 0, 0.3));\n",
       "      fill: #FFFFFF;\n",
       "    }\n",
       "  </style>\n",
       "\n",
       "      <script>\n",
       "        const buttonEl =\n",
       "          document.querySelector('#df-be23029a-9c46-4d08-986f-b3a955b8d917 button.colab-df-convert');\n",
       "        buttonEl.style.display =\n",
       "          google.colab.kernel.accessAllowed ? 'block' : 'none';\n",
       "\n",
       "        async function convertToInteractive(key) {\n",
       "          const element = document.querySelector('#df-be23029a-9c46-4d08-986f-b3a955b8d917');\n",
       "          const dataTable =\n",
       "            await google.colab.kernel.invokeFunction('convertToInteractive',\n",
       "                                                     [key], {});\n",
       "          if (!dataTable) return;\n",
       "\n",
       "          const docLinkHtml = 'Like what you see? Visit the ' +\n",
       "            '<a target=\"_blank\" href=https://colab.research.google.com/notebooks/data_table.ipynb>data table notebook</a>'\n",
       "            + ' to learn more about interactive tables.';\n",
       "          element.innerHTML = '';\n",
       "          dataTable['output_type'] = 'display_data';\n",
       "          await google.colab.output.renderOutput(dataTable, element);\n",
       "          const docLink = document.createElement('div');\n",
       "          docLink.innerHTML = docLinkHtml;\n",
       "          element.appendChild(docLink);\n",
       "        }\n",
       "      </script>\n",
       "    </div>\n",
       "  </div>\n",
       "  "
      ],
      "text/plain": [
       "  all_awardings  allow_live_comments  ... crosspost_parent_list suggested_sort\n",
       "0            []                False  ...                   NaN            NaN\n",
       "1            []                False  ...                   NaN            NaN\n",
       "2            []                False  ...                   NaN            NaN\n",
       "3            []                False  ...                   NaN            NaN\n",
       "4            []                False  ...                   NaN            NaN\n",
       "\n",
       "[5 rows x 79 columns]"
      ]
     },
     "execution_count": 11,
     "metadata": {},
     "output_type": "execute_result"
    }
   ],
   "source": [
    "posts.head()"
   ]
  },
  {
   "cell_type": "code",
   "execution_count": null,
   "id": "b34a382e-cd8b-4498-9707-a5775e39a5c2",
   "metadata": {
    "id": "b34a382e-cd8b-4498-9707-a5775e39a5c2"
   },
   "outputs": [],
   "source": [
    "posts.to_csv('subreddits_post.csv')"
   ]
  },
  {
   "cell_type": "code",
   "execution_count": null,
   "id": "032e4e68-21b1-475e-9065-823bb89899a3",
   "metadata": {
    "id": "032e4e68-21b1-475e-9065-823bb89899a3"
   },
   "outputs": [],
   "source": []
  },
  {
   "cell_type": "markdown",
   "id": "67qf_2omGVRY",
   "metadata": {
    "id": "67qf_2omGVRY"
   },
   "source": [
    "# New Section"
   ]
  },
  {
   "cell_type": "code",
   "execution_count": null,
   "id": "ecb3ea24-012f-4fff-96cf-65df2afc9367",
   "metadata": {
    "id": "ecb3ea24-012f-4fff-96cf-65df2afc9367"
   },
   "outputs": [],
   "source": []
  },
  {
   "cell_type": "code",
   "execution_count": null,
   "id": "060f3fe7-7259-4415-88c5-c51e1e243b1a",
   "metadata": {
    "id": "060f3fe7-7259-4415-88c5-c51e1e243b1a"
   },
   "outputs": [],
   "source": []
  },
  {
   "cell_type": "code",
   "execution_count": null,
   "id": "1f0b6edb-0da5-47f9-9d4d-327936e7fa85",
   "metadata": {
    "id": "1f0b6edb-0da5-47f9-9d4d-327936e7fa85"
   },
   "outputs": [],
   "source": []
  },
  {
   "cell_type": "code",
   "execution_count": null,
   "id": "13ac47c7-8557-4f1a-9b26-9c0e094dfb07",
   "metadata": {
    "id": "13ac47c7-8557-4f1a-9b26-9c0e094dfb07"
   },
   "outputs": [],
   "source": []
  }
 ],
 "metadata": {
  "colab": {
   "collapsed_sections": [],
   "name": "Scraping.ipynb",
   "provenance": []
  },
  "kernelspec": {
   "display_name": "Python 3 (ipykernel)",
   "language": "python",
   "name": "python3"
  },
  "language_info": {
   "codemirror_mode": {
    "name": "ipython",
    "version": 3
   },
   "file_extension": ".py",
   "mimetype": "text/x-python",
   "name": "python",
   "nbconvert_exporter": "python",
   "pygments_lexer": "ipython3",
   "version": "3.8.12"
  }
 },
 "nbformat": 4,
 "nbformat_minor": 5
}
