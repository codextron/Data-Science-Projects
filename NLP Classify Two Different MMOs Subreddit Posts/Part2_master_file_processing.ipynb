{
 "cells": [
  {
   "cell_type": "markdown",
   "id": "d39666a1-35db-4d20-9c33-a70cfadc0dd8",
   "metadata": {},
   "source": [
    "# PART 2: Processing the Data"
   ]
  },
  {
   "cell_type": "code",
   "execution_count": 1,
   "id": "c30aebf2-4471-46b6-8cb3-b40c8ef0c3b9",
   "metadata": {},
   "outputs": [],
   "source": [
    "import pandas as pd\n",
    "import numpy as np\n",
    "import matplotlib.pyplot as plt\n",
    "\n",
    "import datetime as dt\n",
    "import time\n",
    "\n",
    "from sklearn.model_selection import train_test_split, GridSearchCV\n",
    "from sklearn.pipeline import Pipeline\n",
    "\n",
    "from sklearn.naive_bayes import MultinomialNB\n",
    "from sklearn.linear_model import LogisticRegression\n",
    "from sklearn.neighbors import KNeighborsClassifier\n",
    "from sklearn.tree import DecisionTreeClassifier\n",
    "from sklearn.ensemble import BaggingClassifier, RandomForestClassifier, ExtraTreesClassifier, GradientBoostingClassifier\n",
    "\n",
    "\n",
    "from sklearn.metrics import confusion_matrix, plot_confusion_matrix\n",
    "\n",
    "# Import CountVectorizer and TFIDFVectorizer from feature_extraction.text.\n",
    "from sklearn.feature_extraction.text import CountVectorizer, TfidfVectorizer\n",
    "\n"
   ]
  },
  {
   "cell_type": "code",
   "execution_count": 2,
   "id": "0a42dafb-d227-457f-a23e-4cc063eb4ec4",
   "metadata": {},
   "outputs": [
    {
     "data": {
      "text/html": [
       "<div>\n",
       "<style scoped>\n",
       "    .dataframe tbody tr th:only-of-type {\n",
       "        vertical-align: middle;\n",
       "    }\n",
       "\n",
       "    .dataframe tbody tr th {\n",
       "        vertical-align: top;\n",
       "    }\n",
       "\n",
       "    .dataframe thead th {\n",
       "        text-align: right;\n",
       "    }\n",
       "</style>\n",
       "<table border=\"1\" class=\"dataframe\">\n",
       "  <thead>\n",
       "    <tr style=\"text-align: right;\">\n",
       "      <th></th>\n",
       "      <th>Unnamed: 0</th>\n",
       "      <th>all_awardings</th>\n",
       "      <th>allow_live_comments</th>\n",
       "      <th>author</th>\n",
       "      <th>author_flair_css_class</th>\n",
       "      <th>author_flair_richtext</th>\n",
       "      <th>author_flair_text</th>\n",
       "      <th>author_flair_type</th>\n",
       "      <th>author_fullname</th>\n",
       "      <th>author_is_blocked</th>\n",
       "      <th>...</th>\n",
       "      <th>thumbnail_width</th>\n",
       "      <th>url_overridden_by_dest</th>\n",
       "      <th>media_metadata</th>\n",
       "      <th>distinguished</th>\n",
       "      <th>crosspost_parent</th>\n",
       "      <th>crosspost_parent_list</th>\n",
       "      <th>author_cakeday</th>\n",
       "      <th>suggested_sort</th>\n",
       "      <th>gallery_data</th>\n",
       "      <th>is_gallery</th>\n",
       "    </tr>\n",
       "  </thead>\n",
       "  <tbody>\n",
       "    <tr>\n",
       "      <th>0</th>\n",
       "      <td>0</td>\n",
       "      <td>[]</td>\n",
       "      <td>False</td>\n",
       "      <td>BengtJJ</td>\n",
       "      <td>NaN</td>\n",
       "      <td>[]</td>\n",
       "      <td>NaN</td>\n",
       "      <td>text</td>\n",
       "      <td>t2_gkbsx</td>\n",
       "      <td>False</td>\n",
       "      <td>...</td>\n",
       "      <td>NaN</td>\n",
       "      <td>NaN</td>\n",
       "      <td>NaN</td>\n",
       "      <td>NaN</td>\n",
       "      <td>NaN</td>\n",
       "      <td>NaN</td>\n",
       "      <td>NaN</td>\n",
       "      <td>NaN</td>\n",
       "      <td>NaN</td>\n",
       "      <td>NaN</td>\n",
       "    </tr>\n",
       "    <tr>\n",
       "      <th>1</th>\n",
       "      <td>1</td>\n",
       "      <td>[]</td>\n",
       "      <td>False</td>\n",
       "      <td>stuart210</td>\n",
       "      <td>NaN</td>\n",
       "      <td>[]</td>\n",
       "      <td>NaN</td>\n",
       "      <td>text</td>\n",
       "      <td>t2_4zs1q074</td>\n",
       "      <td>False</td>\n",
       "      <td>...</td>\n",
       "      <td>NaN</td>\n",
       "      <td>NaN</td>\n",
       "      <td>NaN</td>\n",
       "      <td>NaN</td>\n",
       "      <td>NaN</td>\n",
       "      <td>NaN</td>\n",
       "      <td>NaN</td>\n",
       "      <td>NaN</td>\n",
       "      <td>NaN</td>\n",
       "      <td>NaN</td>\n",
       "    </tr>\n",
       "    <tr>\n",
       "      <th>2</th>\n",
       "      <td>2</td>\n",
       "      <td>[]</td>\n",
       "      <td>False</td>\n",
       "      <td>aNteriorDude</td>\n",
       "      <td>NaN</td>\n",
       "      <td>[]</td>\n",
       "      <td>NaN</td>\n",
       "      <td>text</td>\n",
       "      <td>t2_f1bvs</td>\n",
       "      <td>False</td>\n",
       "      <td>...</td>\n",
       "      <td>NaN</td>\n",
       "      <td>NaN</td>\n",
       "      <td>NaN</td>\n",
       "      <td>NaN</td>\n",
       "      <td>NaN</td>\n",
       "      <td>NaN</td>\n",
       "      <td>NaN</td>\n",
       "      <td>NaN</td>\n",
       "      <td>NaN</td>\n",
       "      <td>NaN</td>\n",
       "    </tr>\n",
       "    <tr>\n",
       "      <th>3</th>\n",
       "      <td>3</td>\n",
       "      <td>[]</td>\n",
       "      <td>False</td>\n",
       "      <td>Mechgyrasaur</td>\n",
       "      <td>alliance-warrior</td>\n",
       "      <td>[{'a': ':alliance:', 'e': 'emoji', 'u': 'https...</td>\n",
       "      <td>:alliance::warrior:</td>\n",
       "      <td>richtext</td>\n",
       "      <td>t2_y3x5f</td>\n",
       "      <td>False</td>\n",
       "      <td>...</td>\n",
       "      <td>NaN</td>\n",
       "      <td>NaN</td>\n",
       "      <td>NaN</td>\n",
       "      <td>NaN</td>\n",
       "      <td>NaN</td>\n",
       "      <td>NaN</td>\n",
       "      <td>NaN</td>\n",
       "      <td>NaN</td>\n",
       "      <td>NaN</td>\n",
       "      <td>NaN</td>\n",
       "    </tr>\n",
       "    <tr>\n",
       "      <th>4</th>\n",
       "      <td>4</td>\n",
       "      <td>[]</td>\n",
       "      <td>False</td>\n",
       "      <td>Bliztivision</td>\n",
       "      <td>NaN</td>\n",
       "      <td>[]</td>\n",
       "      <td>NaN</td>\n",
       "      <td>text</td>\n",
       "      <td>t2_94xztkt5</td>\n",
       "      <td>False</td>\n",
       "      <td>...</td>\n",
       "      <td>140.0</td>\n",
       "      <td>https://www.youtube.com/watch?v=Al2oKBMF8to</td>\n",
       "      <td>NaN</td>\n",
       "      <td>NaN</td>\n",
       "      <td>NaN</td>\n",
       "      <td>NaN</td>\n",
       "      <td>NaN</td>\n",
       "      <td>NaN</td>\n",
       "      <td>NaN</td>\n",
       "      <td>NaN</td>\n",
       "    </tr>\n",
       "  </tbody>\n",
       "</table>\n",
       "<p>5 rows × 84 columns</p>\n",
       "</div>"
      ],
      "text/plain": [
       "   Unnamed: 0 all_awardings  allow_live_comments        author  \\\n",
       "0           0            []                False       BengtJJ   \n",
       "1           1            []                False     stuart210   \n",
       "2           2            []                False  aNteriorDude   \n",
       "3           3            []                False  Mechgyrasaur   \n",
       "4           4            []                False  Bliztivision   \n",
       "\n",
       "  author_flair_css_class                              author_flair_richtext  \\\n",
       "0                    NaN                                                 []   \n",
       "1                    NaN                                                 []   \n",
       "2                    NaN                                                 []   \n",
       "3       alliance-warrior  [{'a': ':alliance:', 'e': 'emoji', 'u': 'https...   \n",
       "4                    NaN                                                 []   \n",
       "\n",
       "      author_flair_text author_flair_type author_fullname  author_is_blocked  \\\n",
       "0                   NaN              text        t2_gkbsx              False   \n",
       "1                   NaN              text     t2_4zs1q074              False   \n",
       "2                   NaN              text        t2_f1bvs              False   \n",
       "3  :alliance::warrior:           richtext        t2_y3x5f              False   \n",
       "4                   NaN              text     t2_94xztkt5              False   \n",
       "\n",
       "   ... thumbnail_width                       url_overridden_by_dest  \\\n",
       "0  ...             NaN                                          NaN   \n",
       "1  ...             NaN                                          NaN   \n",
       "2  ...             NaN                                          NaN   \n",
       "3  ...             NaN                                          NaN   \n",
       "4  ...           140.0  https://www.youtube.com/watch?v=Al2oKBMF8to   \n",
       "\n",
       "  media_metadata  distinguished  crosspost_parent  crosspost_parent_list  \\\n",
       "0            NaN            NaN               NaN                    NaN   \n",
       "1            NaN            NaN               NaN                    NaN   \n",
       "2            NaN            NaN               NaN                    NaN   \n",
       "3            NaN            NaN               NaN                    NaN   \n",
       "4            NaN            NaN               NaN                    NaN   \n",
       "\n",
       "  author_cakeday suggested_sort gallery_data is_gallery  \n",
       "0            NaN            NaN          NaN        NaN  \n",
       "1            NaN            NaN          NaN        NaN  \n",
       "2            NaN            NaN          NaN        NaN  \n",
       "3            NaN            NaN          NaN        NaN  \n",
       "4            NaN            NaN          NaN        NaN  \n",
       "\n",
       "[5 rows x 84 columns]"
      ]
     },
     "execution_count": 2,
     "metadata": {},
     "output_type": "execute_result"
    }
   ],
   "source": [
    "df = pd.read_csv('subreddits_post.csv')\n",
    "df.head()"
   ]
  },
  {
   "cell_type": "code",
   "execution_count": 3,
   "id": "2a33efc2-4a25-49fb-a483-b0ead0c57c70",
   "metadata": {},
   "outputs": [
    {
     "data": {
      "text/html": [
       "<div>\n",
       "<style scoped>\n",
       "    .dataframe tbody tr th:only-of-type {\n",
       "        vertical-align: middle;\n",
       "    }\n",
       "\n",
       "    .dataframe tbody tr th {\n",
       "        vertical-align: top;\n",
       "    }\n",
       "\n",
       "    .dataframe thead th {\n",
       "        text-align: right;\n",
       "    }\n",
       "</style>\n",
       "<table border=\"1\" class=\"dataframe\">\n",
       "  <thead>\n",
       "    <tr style=\"text-align: right;\">\n",
       "      <th></th>\n",
       "      <th>Unnamed: 0</th>\n",
       "      <th>all_awardings</th>\n",
       "      <th>allow_live_comments</th>\n",
       "      <th>author</th>\n",
       "      <th>author_flair_css_class</th>\n",
       "      <th>author_flair_richtext</th>\n",
       "      <th>author_flair_text</th>\n",
       "      <th>author_flair_type</th>\n",
       "      <th>author_fullname</th>\n",
       "      <th>author_is_blocked</th>\n",
       "      <th>...</th>\n",
       "      <th>thumbnail_width</th>\n",
       "      <th>url_overridden_by_dest</th>\n",
       "      <th>media_metadata</th>\n",
       "      <th>distinguished</th>\n",
       "      <th>crosspost_parent</th>\n",
       "      <th>crosspost_parent_list</th>\n",
       "      <th>author_cakeday</th>\n",
       "      <th>suggested_sort</th>\n",
       "      <th>gallery_data</th>\n",
       "      <th>is_gallery</th>\n",
       "    </tr>\n",
       "  </thead>\n",
       "  <tbody>\n",
       "    <tr>\n",
       "      <th>1395</th>\n",
       "      <td>95</td>\n",
       "      <td>[]</td>\n",
       "      <td>False</td>\n",
       "      <td>twasRequired</td>\n",
       "      <td>NaN</td>\n",
       "      <td>[]</td>\n",
       "      <td>NaN</td>\n",
       "      <td>text</td>\n",
       "      <td>t2_ek6nn9nh</td>\n",
       "      <td>False</td>\n",
       "      <td>...</td>\n",
       "      <td>NaN</td>\n",
       "      <td>NaN</td>\n",
       "      <td>NaN</td>\n",
       "      <td>NaN</td>\n",
       "      <td>NaN</td>\n",
       "      <td>NaN</td>\n",
       "      <td>NaN</td>\n",
       "      <td>confidence</td>\n",
       "      <td>NaN</td>\n",
       "      <td>NaN</td>\n",
       "    </tr>\n",
       "    <tr>\n",
       "      <th>1396</th>\n",
       "      <td>96</td>\n",
       "      <td>[]</td>\n",
       "      <td>False</td>\n",
       "      <td>apretorii</td>\n",
       "      <td>NaN</td>\n",
       "      <td>[]</td>\n",
       "      <td>NaN</td>\n",
       "      <td>text</td>\n",
       "      <td>t2_2qsg2wym</td>\n",
       "      <td>False</td>\n",
       "      <td>...</td>\n",
       "      <td>140.0</td>\n",
       "      <td>https://i.redd.it/tae8ikoxx7f81.jpg</td>\n",
       "      <td>NaN</td>\n",
       "      <td>NaN</td>\n",
       "      <td>NaN</td>\n",
       "      <td>NaN</td>\n",
       "      <td>NaN</td>\n",
       "      <td>confidence</td>\n",
       "      <td>NaN</td>\n",
       "      <td>NaN</td>\n",
       "    </tr>\n",
       "    <tr>\n",
       "      <th>1397</th>\n",
       "      <td>97</td>\n",
       "      <td>[]</td>\n",
       "      <td>False</td>\n",
       "      <td>rhoxt</td>\n",
       "      <td>NaN</td>\n",
       "      <td>[]</td>\n",
       "      <td>NaN</td>\n",
       "      <td>text</td>\n",
       "      <td>t2_5p9041zk</td>\n",
       "      <td>False</td>\n",
       "      <td>...</td>\n",
       "      <td>NaN</td>\n",
       "      <td>NaN</td>\n",
       "      <td>NaN</td>\n",
       "      <td>NaN</td>\n",
       "      <td>NaN</td>\n",
       "      <td>NaN</td>\n",
       "      <td>NaN</td>\n",
       "      <td>confidence</td>\n",
       "      <td>NaN</td>\n",
       "      <td>NaN</td>\n",
       "    </tr>\n",
       "    <tr>\n",
       "      <th>1398</th>\n",
       "      <td>98</td>\n",
       "      <td>[]</td>\n",
       "      <td>False</td>\n",
       "      <td>RonDonk2020</td>\n",
       "      <td>NaN</td>\n",
       "      <td>[]</td>\n",
       "      <td>NaN</td>\n",
       "      <td>text</td>\n",
       "      <td>t2_4701787l</td>\n",
       "      <td>False</td>\n",
       "      <td>...</td>\n",
       "      <td>NaN</td>\n",
       "      <td>NaN</td>\n",
       "      <td>NaN</td>\n",
       "      <td>NaN</td>\n",
       "      <td>NaN</td>\n",
       "      <td>NaN</td>\n",
       "      <td>NaN</td>\n",
       "      <td>confidence</td>\n",
       "      <td>NaN</td>\n",
       "      <td>NaN</td>\n",
       "    </tr>\n",
       "    <tr>\n",
       "      <th>1399</th>\n",
       "      <td>99</td>\n",
       "      <td>[]</td>\n",
       "      <td>False</td>\n",
       "      <td>mann_moth</td>\n",
       "      <td>NaN</td>\n",
       "      <td>[]</td>\n",
       "      <td>NaN</td>\n",
       "      <td>text</td>\n",
       "      <td>t2_hj1eroz</td>\n",
       "      <td>False</td>\n",
       "      <td>...</td>\n",
       "      <td>140.0</td>\n",
       "      <td>https://www.reddit.com/gallery/shuuat</td>\n",
       "      <td>NaN</td>\n",
       "      <td>NaN</td>\n",
       "      <td>NaN</td>\n",
       "      <td>NaN</td>\n",
       "      <td>NaN</td>\n",
       "      <td>confidence</td>\n",
       "      <td>NaN</td>\n",
       "      <td>True</td>\n",
       "    </tr>\n",
       "  </tbody>\n",
       "</table>\n",
       "<p>5 rows × 84 columns</p>\n",
       "</div>"
      ],
      "text/plain": [
       "      Unnamed: 0 all_awardings  allow_live_comments        author  \\\n",
       "1395          95            []                False  twasRequired   \n",
       "1396          96            []                False     apretorii   \n",
       "1397          97            []                False         rhoxt   \n",
       "1398          98            []                False   RonDonk2020   \n",
       "1399          99            []                False     mann_moth   \n",
       "\n",
       "     author_flair_css_class author_flair_richtext author_flair_text  \\\n",
       "1395                    NaN                    []               NaN   \n",
       "1396                    NaN                    []               NaN   \n",
       "1397                    NaN                    []               NaN   \n",
       "1398                    NaN                    []               NaN   \n",
       "1399                    NaN                    []               NaN   \n",
       "\n",
       "     author_flair_type author_fullname  author_is_blocked  ...  \\\n",
       "1395              text     t2_ek6nn9nh              False  ...   \n",
       "1396              text     t2_2qsg2wym              False  ...   \n",
       "1397              text     t2_5p9041zk              False  ...   \n",
       "1398              text     t2_4701787l              False  ...   \n",
       "1399              text      t2_hj1eroz              False  ...   \n",
       "\n",
       "     thumbnail_width                 url_overridden_by_dest media_metadata  \\\n",
       "1395             NaN                                    NaN            NaN   \n",
       "1396           140.0    https://i.redd.it/tae8ikoxx7f81.jpg            NaN   \n",
       "1397             NaN                                    NaN            NaN   \n",
       "1398             NaN                                    NaN            NaN   \n",
       "1399           140.0  https://www.reddit.com/gallery/shuuat            NaN   \n",
       "\n",
       "      distinguished  crosspost_parent  crosspost_parent_list author_cakeday  \\\n",
       "1395            NaN               NaN                    NaN            NaN   \n",
       "1396            NaN               NaN                    NaN            NaN   \n",
       "1397            NaN               NaN                    NaN            NaN   \n",
       "1398            NaN               NaN                    NaN            NaN   \n",
       "1399            NaN               NaN                    NaN            NaN   \n",
       "\n",
       "     suggested_sort gallery_data is_gallery  \n",
       "1395     confidence          NaN        NaN  \n",
       "1396     confidence          NaN        NaN  \n",
       "1397     confidence          NaN        NaN  \n",
       "1398     confidence          NaN        NaN  \n",
       "1399     confidence          NaN       True  \n",
       "\n",
       "[5 rows x 84 columns]"
      ]
     },
     "execution_count": 3,
     "metadata": {},
     "output_type": "execute_result"
    }
   ],
   "source": [
    "df.tail()"
   ]
  },
  {
   "cell_type": "code",
   "execution_count": 4,
   "id": "01ea5540-d5d7-4003-94d7-b9a6b6046da0",
   "metadata": {},
   "outputs": [
    {
     "data": {
      "text/plain": [
       "Index(['Unnamed: 0', 'all_awardings', 'allow_live_comments', 'author',\n",
       "       'author_flair_css_class', 'author_flair_richtext', 'author_flair_text',\n",
       "       'author_flair_type', 'author_fullname', 'author_is_blocked',\n",
       "       'author_patreon_flair', 'author_premium', 'awarders', 'can_mod_post',\n",
       "       'contest_mode', 'created_utc', 'domain', 'full_link', 'gildings', 'id',\n",
       "       'is_created_from_ads_ui', 'is_crosspostable', 'is_meta',\n",
       "       'is_original_content', 'is_reddit_media_domain', 'is_robot_indexable',\n",
       "       'is_self', 'is_video', 'link_flair_background_color',\n",
       "       'link_flair_css_class', 'link_flair_richtext', 'link_flair_template_id',\n",
       "       'link_flair_text', 'link_flair_text_color', 'link_flair_type', 'locked',\n",
       "       'media_only', 'no_follow', 'num_comments', 'num_crossposts', 'over_18',\n",
       "       'parent_whitelist_status', 'permalink', 'pinned', 'pwls',\n",
       "       'retrieved_on', 'score', 'selftext', 'send_replies', 'spoiler',\n",
       "       'stickied', 'subreddit', 'subreddit_id', 'subreddit_subscribers',\n",
       "       'subreddit_type', 'thumbnail', 'title', 'total_awards_received',\n",
       "       'treatment_tags', 'upvote_ratio', 'url', 'whitelist_status', 'wls',\n",
       "       'removed_by_category', 'author_flair_background_color',\n",
       "       'author_flair_template_id', 'author_flair_text_color', 'media',\n",
       "       'media_embed', 'post_hint', 'preview', 'secure_media',\n",
       "       'secure_media_embed', 'thumbnail_height', 'thumbnail_width',\n",
       "       'url_overridden_by_dest', 'media_metadata', 'distinguished',\n",
       "       'crosspost_parent', 'crosspost_parent_list', 'author_cakeday',\n",
       "       'suggested_sort', 'gallery_data', 'is_gallery'],\n",
       "      dtype='object')"
      ]
     },
     "execution_count": 4,
     "metadata": {},
     "output_type": "execute_result"
    }
   ],
   "source": [
    "df.columns"
   ]
  },
  {
   "cell_type": "code",
   "execution_count": null,
   "id": "b68f0413-cf4c-4ccb-8fe8-513968bd360c",
   "metadata": {},
   "outputs": [],
   "source": []
  },
  {
   "cell_type": "markdown",
   "id": "db53bcbd-1461-400b-a899-ba0e5b50d54b",
   "metadata": {},
   "source": [
    "# Cleaning up Dataframe"
   ]
  },
  {
   "cell_type": "code",
   "execution_count": 5,
   "id": "89a5d28e-144b-48e4-940b-59dd887ac502",
   "metadata": {},
   "outputs": [
    {
     "data": {
      "text/plain": [
       "author_cakeday           1394\n",
       "crosspost_parent_list    1393\n",
       "gallery_data             1393\n",
       "distinguished            1393\n",
       "crosspost_parent         1393\n",
       "                         ... \n",
       "link_flair_type             0\n",
       "link_flair_text_color       0\n",
       "link_flair_text             0\n",
       "link_flair_richtext         0\n",
       "permalink                   0\n",
       "Length: 84, dtype: int64"
      ]
     },
     "execution_count": 5,
     "metadata": {},
     "output_type": "execute_result"
    }
   ],
   "source": [
    "df.isnull().sum().sort_values(ascending=False)"
   ]
  },
  {
   "cell_type": "code",
   "execution_count": 6,
   "id": "0bad25d3-19b1-49c5-b0f6-197cfc7dcdbe",
   "metadata": {},
   "outputs": [],
   "source": [
    "df.drop_duplicates(subset='title', inplace=True)"
   ]
  },
  {
   "cell_type": "code",
   "execution_count": 7,
   "id": "38cb2a50-03b2-45c4-b6ab-c7f7aae31ca3",
   "metadata": {},
   "outputs": [],
   "source": [
    "#I care about the 'selftext' column bec that adds to a post\n",
    "df['selftext'].fillna('', inplace= True)  #lets fill the nulls with empty"
   ]
  },
  {
   "cell_type": "code",
   "execution_count": null,
   "id": "9c00c7fb-89c8-44ec-a814-516ea0ea4fa2",
   "metadata": {},
   "outputs": [],
   "source": []
  },
  {
   "cell_type": "code",
   "execution_count": 8,
   "id": "15603852-68d6-487f-a012-5e2961c39f6d",
   "metadata": {},
   "outputs": [
    {
     "data": {
      "text/html": [
       "<div>\n",
       "<style scoped>\n",
       "    .dataframe tbody tr th:only-of-type {\n",
       "        vertical-align: middle;\n",
       "    }\n",
       "\n",
       "    .dataframe tbody tr th {\n",
       "        vertical-align: top;\n",
       "    }\n",
       "\n",
       "    .dataframe thead th {\n",
       "        text-align: right;\n",
       "    }\n",
       "</style>\n",
       "<table border=\"1\" class=\"dataframe\">\n",
       "  <thead>\n",
       "    <tr style=\"text-align: right;\">\n",
       "      <th></th>\n",
       "      <th>title</th>\n",
       "      <th>selftext</th>\n",
       "      <th>subreddit</th>\n",
       "      <th>created_utc</th>\n",
       "      <th>author</th>\n",
       "      <th>num_comments</th>\n",
       "      <th>score</th>\n",
       "      <th>is_self</th>\n",
       "    </tr>\n",
       "  </thead>\n",
       "  <tbody>\n",
       "    <tr>\n",
       "      <th>0</th>\n",
       "      <td>Healer main 9.2</td>\n",
       "      <td>Returning player and I feel like it is quite o...</td>\n",
       "      <td>wow</td>\n",
       "      <td>1644701779</td>\n",
       "      <td>BengtJJ</td>\n",
       "      <td>0</td>\n",
       "      <td>1</td>\n",
       "      <td>True</td>\n",
       "    </tr>\n",
       "    <tr>\n",
       "      <th>1</th>\n",
       "      <td>Finding a gaming partner?</td>\n",
       "      <td>[removed]</td>\n",
       "      <td>wow</td>\n",
       "      <td>1644703269</td>\n",
       "      <td>stuart210</td>\n",
       "      <td>0</td>\n",
       "      <td>1</td>\n",
       "      <td>True</td>\n",
       "    </tr>\n",
       "    <tr>\n",
       "      <th>2</th>\n",
       "      <td>Sound issue, directional</td>\n",
       "      <td>Hello!\\n\\nI just bought a new PC and for some ...</td>\n",
       "      <td>wow</td>\n",
       "      <td>1644704336</td>\n",
       "      <td>aNteriorDude</td>\n",
       "      <td>0</td>\n",
       "      <td>1</td>\n",
       "      <td>True</td>\n",
       "    </tr>\n",
       "  </tbody>\n",
       "</table>\n",
       "</div>"
      ],
      "text/plain": [
       "                       title  \\\n",
       "0            Healer main 9.2   \n",
       "1  Finding a gaming partner?   \n",
       "2   Sound issue, directional   \n",
       "\n",
       "                                            selftext subreddit  created_utc  \\\n",
       "0  Returning player and I feel like it is quite o...       wow   1644701779   \n",
       "1                                          [removed]       wow   1644703269   \n",
       "2  Hello!\\n\\nI just bought a new PC and for some ...       wow   1644704336   \n",
       "\n",
       "         author  num_comments  score  is_self  \n",
       "0       BengtJJ             0      1     True  \n",
       "1     stuart210             0      1     True  \n",
       "2  aNteriorDude             0      1     True  "
      ]
     },
     "execution_count": 8,
     "metadata": {},
     "output_type": "execute_result"
    }
   ],
   "source": [
    "#fields that I care about and will look at\n",
    "subfields = ['title', 'selftext', 'subreddit', 'created_utc', 'author', 'num_comments', 'score', 'is_self']\n",
    "df = df[subfields]\n",
    "df.head(3)"
   ]
  },
  {
   "cell_type": "code",
   "execution_count": 9,
   "id": "db9536bb-2c90-42c3-9018-30f133c5c810",
   "metadata": {},
   "outputs": [],
   "source": [
    "df['title_and_selftext'] = df['title'] + ' ' + df['selftext']   #I need to combine these two!"
   ]
  },
  {
   "cell_type": "code",
   "execution_count": 10,
   "id": "78373344-cb57-47f7-9cbc-08fe6ae06163",
   "metadata": {},
   "outputs": [
    {
     "data": {
      "text/html": [
       "<div>\n",
       "<style scoped>\n",
       "    .dataframe tbody tr th:only-of-type {\n",
       "        vertical-align: middle;\n",
       "    }\n",
       "\n",
       "    .dataframe tbody tr th {\n",
       "        vertical-align: top;\n",
       "    }\n",
       "\n",
       "    .dataframe thead th {\n",
       "        text-align: right;\n",
       "    }\n",
       "</style>\n",
       "<table border=\"1\" class=\"dataframe\">\n",
       "  <thead>\n",
       "    <tr style=\"text-align: right;\">\n",
       "      <th></th>\n",
       "      <th>title_and_selftext</th>\n",
       "      <th>title</th>\n",
       "      <th>selftext</th>\n",
       "      <th>subreddit</th>\n",
       "      <th>created_utc</th>\n",
       "      <th>author</th>\n",
       "      <th>num_comments</th>\n",
       "      <th>score</th>\n",
       "      <th>is_self</th>\n",
       "    </tr>\n",
       "  </thead>\n",
       "  <tbody>\n",
       "    <tr>\n",
       "      <th>0</th>\n",
       "      <td>Healer main 9.2 Returning player and I feel li...</td>\n",
       "      <td>Healer main 9.2</td>\n",
       "      <td>Returning player and I feel like it is quite o...</td>\n",
       "      <td>wow</td>\n",
       "      <td>1644701779</td>\n",
       "      <td>BengtJJ</td>\n",
       "      <td>0</td>\n",
       "      <td>1</td>\n",
       "      <td>True</td>\n",
       "    </tr>\n",
       "    <tr>\n",
       "      <th>1</th>\n",
       "      <td>Finding a gaming partner? [removed]</td>\n",
       "      <td>Finding a gaming partner?</td>\n",
       "      <td>[removed]</td>\n",
       "      <td>wow</td>\n",
       "      <td>1644703269</td>\n",
       "      <td>stuart210</td>\n",
       "      <td>0</td>\n",
       "      <td>1</td>\n",
       "      <td>True</td>\n",
       "    </tr>\n",
       "    <tr>\n",
       "      <th>2</th>\n",
       "      <td>Sound issue, directional Hello!\\n\\nI just boug...</td>\n",
       "      <td>Sound issue, directional</td>\n",
       "      <td>Hello!\\n\\nI just bought a new PC and for some ...</td>\n",
       "      <td>wow</td>\n",
       "      <td>1644704336</td>\n",
       "      <td>aNteriorDude</td>\n",
       "      <td>0</td>\n",
       "      <td>1</td>\n",
       "      <td>True</td>\n",
       "    </tr>\n",
       "    <tr>\n",
       "      <th>3</th>\n",
       "      <td>Is dispelling CC in PVP uncommon knowledge? I ...</td>\n",
       "      <td>Is dispelling CC in PVP uncommon knowledge?</td>\n",
       "      <td>I play arena a lot wouldn't say I'm amazing (m...</td>\n",
       "      <td>wow</td>\n",
       "      <td>1644704385</td>\n",
       "      <td>Mechgyrasaur</td>\n",
       "      <td>0</td>\n",
       "      <td>1</td>\n",
       "      <td>True</td>\n",
       "    </tr>\n",
       "    <tr>\n",
       "      <th>4</th>\n",
       "      <td>NICE</td>\n",
       "      <td>NICE</td>\n",
       "      <td></td>\n",
       "      <td>wow</td>\n",
       "      <td>1644704733</td>\n",
       "      <td>Bliztivision</td>\n",
       "      <td>1</td>\n",
       "      <td>1</td>\n",
       "      <td>False</td>\n",
       "    </tr>\n",
       "  </tbody>\n",
       "</table>\n",
       "</div>"
      ],
      "text/plain": [
       "                                  title_and_selftext  \\\n",
       "0  Healer main 9.2 Returning player and I feel li...   \n",
       "1                Finding a gaming partner? [removed]   \n",
       "2  Sound issue, directional Hello!\\n\\nI just boug...   \n",
       "3  Is dispelling CC in PVP uncommon knowledge? I ...   \n",
       "4                                              NICE    \n",
       "\n",
       "                                         title  \\\n",
       "0                              Healer main 9.2   \n",
       "1                    Finding a gaming partner?   \n",
       "2                     Sound issue, directional   \n",
       "3  Is dispelling CC in PVP uncommon knowledge?   \n",
       "4                                         NICE   \n",
       "\n",
       "                                            selftext subreddit  created_utc  \\\n",
       "0  Returning player and I feel like it is quite o...       wow   1644701779   \n",
       "1                                          [removed]       wow   1644703269   \n",
       "2  Hello!\\n\\nI just bought a new PC and for some ...       wow   1644704336   \n",
       "3  I play arena a lot wouldn't say I'm amazing (m...       wow   1644704385   \n",
       "4                                                          wow   1644704733   \n",
       "\n",
       "         author  num_comments  score  is_self  \n",
       "0       BengtJJ             0      1     True  \n",
       "1     stuart210             0      1     True  \n",
       "2  aNteriorDude             0      1     True  \n",
       "3  Mechgyrasaur             0      1     True  \n",
       "4  Bliztivision             1      1    False  "
      ]
     },
     "execution_count": 10,
     "metadata": {},
     "output_type": "execute_result"
    }
   ],
   "source": [
    "df = df[['title_and_selftext', 'title', 'selftext', 'subreddit', 'created_utc', 'author', 'num_comments', 'score', 'is_self']] #reordering the columns\n",
    "df.head()"
   ]
  },
  {
   "cell_type": "markdown",
   "id": "ee04175e-e953-476b-b13d-19dfecf007fd",
   "metadata": {},
   "source": [
    "### String Cleaning!"
   ]
  },
  {
   "cell_type": "code",
   "execution_count": null,
   "id": "11e8a7fb-c0d8-4982-a1a7-1add004142d9",
   "metadata": {},
   "outputs": [],
   "source": []
  },
  {
   "cell_type": "code",
   "execution_count": 11,
   "id": "a45e0c3b-157e-40a3-a343-640a348cbdcf",
   "metadata": {},
   "outputs": [],
   "source": [
    "df['title_and_selftext'] = df['title_and_selftext'].str.lower()  #make everything lowercase"
   ]
  },
  {
   "cell_type": "code",
   "execution_count": null,
   "id": "72d84fb3-931a-45f3-a3b4-f254337c6b62",
   "metadata": {},
   "outputs": [],
   "source": []
  },
  {
   "cell_type": "code",
   "execution_count": 12,
   "id": "3f474a3d-5c0c-4ed6-b253-82410fc865cd",
   "metadata": {},
   "outputs": [],
   "source": [
    "import nltk\n",
    "import re"
   ]
  },
  {
   "cell_type": "code",
   "execution_count": 13,
   "id": "13d1262b-631d-4926-b1c7-968b8b679853",
   "metadata": {},
   "outputs": [],
   "source": [
    "# https://stackoverflow.com/questions/47557563/lemmatization-of-all-pandas-cells\n",
    "word_tokenizer = nltk.tokenize.WhitespaceTokenizer() #TOKENIZES string on whitespaces (space, newline, tab )\n",
    "lemmatizer = nltk.stem.WordNetLemmatizer()  #Instantiating my lemmatizer"
   ]
  },
  {
   "cell_type": "code",
   "execution_count": 14,
   "id": "e2407422-3c6c-43c8-8c6b-d1da86cf6233",
   "metadata": {},
   "outputs": [],
   "source": [
    "#make a function to break down my words in sentences to simpler words\n",
    "def lemmatize_sentence(string):\n",
    "    return \" \".join([lemmatizer.lemmatize(word) for word in word_tokenizer.tokenize(string)])"
   ]
  },
  {
   "cell_type": "code",
   "execution_count": 15,
   "id": "c5c6b24b-56fe-45e3-924e-94336d9f5d29",
   "metadata": {},
   "outputs": [],
   "source": [
    "df['filtered_title_selftext'] = df['title_and_selftext'].map(lemmatize_sentence)"
   ]
  },
  {
   "cell_type": "code",
   "execution_count": 16,
   "id": "370ea60f-ef29-4c79-bdf6-0ca58d7dd1bf",
   "metadata": {},
   "outputs": [
    {
     "data": {
      "text/html": [
       "<div>\n",
       "<style scoped>\n",
       "    .dataframe tbody tr th:only-of-type {\n",
       "        vertical-align: middle;\n",
       "    }\n",
       "\n",
       "    .dataframe tbody tr th {\n",
       "        vertical-align: top;\n",
       "    }\n",
       "\n",
       "    .dataframe thead th {\n",
       "        text-align: right;\n",
       "    }\n",
       "</style>\n",
       "<table border=\"1\" class=\"dataframe\">\n",
       "  <thead>\n",
       "    <tr style=\"text-align: right;\">\n",
       "      <th></th>\n",
       "      <th>title_and_selftext</th>\n",
       "      <th>title</th>\n",
       "      <th>selftext</th>\n",
       "      <th>subreddit</th>\n",
       "      <th>created_utc</th>\n",
       "      <th>author</th>\n",
       "      <th>num_comments</th>\n",
       "      <th>score</th>\n",
       "      <th>is_self</th>\n",
       "      <th>filtered_title_selftext</th>\n",
       "    </tr>\n",
       "  </thead>\n",
       "  <tbody>\n",
       "    <tr>\n",
       "      <th>0</th>\n",
       "      <td>healer main 9.2 returning player and i feel li...</td>\n",
       "      <td>Healer main 9.2</td>\n",
       "      <td>Returning player and I feel like it is quite o...</td>\n",
       "      <td>wow</td>\n",
       "      <td>1644701779</td>\n",
       "      <td>BengtJJ</td>\n",
       "      <td>0</td>\n",
       "      <td>1</td>\n",
       "      <td>True</td>\n",
       "      <td>healer main 9.2 returning player and i feel li...</td>\n",
       "    </tr>\n",
       "    <tr>\n",
       "      <th>1</th>\n",
       "      <td>finding a gaming partner? [removed]</td>\n",
       "      <td>Finding a gaming partner?</td>\n",
       "      <td>[removed]</td>\n",
       "      <td>wow</td>\n",
       "      <td>1644703269</td>\n",
       "      <td>stuart210</td>\n",
       "      <td>0</td>\n",
       "      <td>1</td>\n",
       "      <td>True</td>\n",
       "      <td>finding a gaming partner? [removed]</td>\n",
       "    </tr>\n",
       "    <tr>\n",
       "      <th>2</th>\n",
       "      <td>sound issue, directional hello!\\n\\ni just boug...</td>\n",
       "      <td>Sound issue, directional</td>\n",
       "      <td>Hello!\\n\\nI just bought a new PC and for some ...</td>\n",
       "      <td>wow</td>\n",
       "      <td>1644704336</td>\n",
       "      <td>aNteriorDude</td>\n",
       "      <td>0</td>\n",
       "      <td>1</td>\n",
       "      <td>True</td>\n",
       "      <td>sound issue, directional hello! i just bought ...</td>\n",
       "    </tr>\n",
       "  </tbody>\n",
       "</table>\n",
       "</div>"
      ],
      "text/plain": [
       "                                  title_and_selftext  \\\n",
       "0  healer main 9.2 returning player and i feel li...   \n",
       "1                finding a gaming partner? [removed]   \n",
       "2  sound issue, directional hello!\\n\\ni just boug...   \n",
       "\n",
       "                       title  \\\n",
       "0            Healer main 9.2   \n",
       "1  Finding a gaming partner?   \n",
       "2   Sound issue, directional   \n",
       "\n",
       "                                            selftext subreddit  created_utc  \\\n",
       "0  Returning player and I feel like it is quite o...       wow   1644701779   \n",
       "1                                          [removed]       wow   1644703269   \n",
       "2  Hello!\\n\\nI just bought a new PC and for some ...       wow   1644704336   \n",
       "\n",
       "         author  num_comments  score  is_self  \\\n",
       "0       BengtJJ             0      1     True   \n",
       "1     stuart210             0      1     True   \n",
       "2  aNteriorDude             0      1     True   \n",
       "\n",
       "                             filtered_title_selftext  \n",
       "0  healer main 9.2 returning player and i feel li...  \n",
       "1                finding a gaming partner? [removed]  \n",
       "2  sound issue, directional hello! i just bought ...  "
      ]
     },
     "execution_count": 16,
     "metadata": {},
     "output_type": "execute_result"
    }
   ],
   "source": [
    "df.head(3)"
   ]
  },
  {
   "cell_type": "code",
   "execution_count": 17,
   "id": "9363f21f-b5aa-4250-8a5a-7db8a60a44dd",
   "metadata": {},
   "outputs": [
    {
     "data": {
      "text/html": [
       "<div>\n",
       "<style scoped>\n",
       "    .dataframe tbody tr th:only-of-type {\n",
       "        vertical-align: middle;\n",
       "    }\n",
       "\n",
       "    .dataframe tbody tr th {\n",
       "        vertical-align: top;\n",
       "    }\n",
       "\n",
       "    .dataframe thead th {\n",
       "        text-align: right;\n",
       "    }\n",
       "</style>\n",
       "<table border=\"1\" class=\"dataframe\">\n",
       "  <thead>\n",
       "    <tr style=\"text-align: right;\">\n",
       "      <th></th>\n",
       "      <th>title_and_selftext</th>\n",
       "      <th>title</th>\n",
       "      <th>selftext</th>\n",
       "      <th>subreddit</th>\n",
       "      <th>created_utc</th>\n",
       "      <th>author</th>\n",
       "      <th>num_comments</th>\n",
       "      <th>score</th>\n",
       "      <th>is_self</th>\n",
       "      <th>filtered_title_selftext</th>\n",
       "    </tr>\n",
       "  </thead>\n",
       "  <tbody>\n",
       "    <tr>\n",
       "      <th>0</th>\n",
       "      <td>healer main 9.2 returning player and i feel li...</td>\n",
       "      <td>Healer main 9.2</td>\n",
       "      <td>Returning player and I feel like it is quite o...</td>\n",
       "      <td>wow</td>\n",
       "      <td>1644701779</td>\n",
       "      <td>BengtJJ</td>\n",
       "      <td>0</td>\n",
       "      <td>1</td>\n",
       "      <td>True</td>\n",
       "      <td>healer main 9.2 returning player and i feel li...</td>\n",
       "    </tr>\n",
       "    <tr>\n",
       "      <th>1</th>\n",
       "      <td>finding a gaming partner? [removed]</td>\n",
       "      <td>Finding a gaming partner?</td>\n",
       "      <td>[removed]</td>\n",
       "      <td>wow</td>\n",
       "      <td>1644703269</td>\n",
       "      <td>stuart210</td>\n",
       "      <td>0</td>\n",
       "      <td>1</td>\n",
       "      <td>True</td>\n",
       "      <td>finding a gaming partner? [removed]</td>\n",
       "    </tr>\n",
       "    <tr>\n",
       "      <th>2</th>\n",
       "      <td>sound issue, directional hello!\\n\\ni just boug...</td>\n",
       "      <td>Sound issue, directional</td>\n",
       "      <td>Hello!\\n\\nI just bought a new PC and for some ...</td>\n",
       "      <td>wow</td>\n",
       "      <td>1644704336</td>\n",
       "      <td>aNteriorDude</td>\n",
       "      <td>0</td>\n",
       "      <td>1</td>\n",
       "      <td>True</td>\n",
       "      <td>sound issue, directional hello! i just bought ...</td>\n",
       "    </tr>\n",
       "    <tr>\n",
       "      <th>3</th>\n",
       "      <td>is dispelling cc in pvp uncommon knowledge? i ...</td>\n",
       "      <td>Is dispelling CC in PVP uncommon knowledge?</td>\n",
       "      <td>I play arena a lot wouldn't say I'm amazing (m...</td>\n",
       "      <td>wow</td>\n",
       "      <td>1644704385</td>\n",
       "      <td>Mechgyrasaur</td>\n",
       "      <td>0</td>\n",
       "      <td>1</td>\n",
       "      <td>True</td>\n",
       "      <td>is dispelling cc in pvp uncommon knowledge? i ...</td>\n",
       "    </tr>\n",
       "    <tr>\n",
       "      <th>4</th>\n",
       "      <td>nice</td>\n",
       "      <td>NICE</td>\n",
       "      <td></td>\n",
       "      <td>wow</td>\n",
       "      <td>1644704733</td>\n",
       "      <td>Bliztivision</td>\n",
       "      <td>1</td>\n",
       "      <td>1</td>\n",
       "      <td>False</td>\n",
       "      <td>nice</td>\n",
       "    </tr>\n",
       "  </tbody>\n",
       "</table>\n",
       "</div>"
      ],
      "text/plain": [
       "                                  title_and_selftext  \\\n",
       "0  healer main 9.2 returning player and i feel li...   \n",
       "1                finding a gaming partner? [removed]   \n",
       "2  sound issue, directional hello!\\n\\ni just boug...   \n",
       "3  is dispelling cc in pvp uncommon knowledge? i ...   \n",
       "4                                              nice    \n",
       "\n",
       "                                         title  \\\n",
       "0                              Healer main 9.2   \n",
       "1                    Finding a gaming partner?   \n",
       "2                     Sound issue, directional   \n",
       "3  Is dispelling CC in PVP uncommon knowledge?   \n",
       "4                                         NICE   \n",
       "\n",
       "                                            selftext subreddit  created_utc  \\\n",
       "0  Returning player and I feel like it is quite o...       wow   1644701779   \n",
       "1                                          [removed]       wow   1644703269   \n",
       "2  Hello!\\n\\nI just bought a new PC and for some ...       wow   1644704336   \n",
       "3  I play arena a lot wouldn't say I'm amazing (m...       wow   1644704385   \n",
       "4                                                          wow   1644704733   \n",
       "\n",
       "         author  num_comments  score  is_self  \\\n",
       "0       BengtJJ             0      1     True   \n",
       "1     stuart210             0      1     True   \n",
       "2  aNteriorDude             0      1     True   \n",
       "3  Mechgyrasaur             0      1     True   \n",
       "4  Bliztivision             1      1    False   \n",
       "\n",
       "                             filtered_title_selftext  \n",
       "0  healer main 9.2 returning player and i feel li...  \n",
       "1                finding a gaming partner? [removed]  \n",
       "2  sound issue, directional hello! i just bought ...  \n",
       "3  is dispelling cc in pvp uncommon knowledge? i ...  \n",
       "4                                               nice  "
      ]
     },
     "execution_count": 17,
     "metadata": {},
     "output_type": "execute_result"
    }
   ],
   "source": [
    "df['filtered_title_selftext'] = df['filtered_title_selftext'].apply(lambda x: re.split('https:\\/\\/.*', str(x))[0])  #remove hyperrlink. newlines\n",
    "df.head()"
   ]
  },
  {
   "cell_type": "code",
   "execution_count": 18,
   "id": "3647d60f-2b85-467f-8fbf-286eb0ab9c73",
   "metadata": {},
   "outputs": [],
   "source": [
    "df['filtered_title_selftext'] = df['filtered_title_selftext'].str.replace(\"&amp;#x200b\",\"\") #remove apostrophes and remove this html stuff: &amp;#x200b"
   ]
  },
  {
   "cell_type": "code",
   "execution_count": 19,
   "id": "0ec8af10-c781-423d-9cde-aeaccbd1bdfe",
   "metadata": {},
   "outputs": [],
   "source": [
    "df['filtered_title_selftext'] = df['filtered_title_selftext'].str.replace(\"'\",\"\")"
   ]
  },
  {
   "cell_type": "code",
   "execution_count": 20,
   "id": "a1d73220-0cfd-4710-9362-c3f7624a07c8",
   "metadata": {},
   "outputs": [
    {
     "data": {
      "text/plain": [
       "title_and_selftext         0\n",
       "title                      0\n",
       "selftext                   0\n",
       "subreddit                  0\n",
       "created_utc                0\n",
       "author                     0\n",
       "num_comments               0\n",
       "score                      0\n",
       "is_self                    0\n",
       "filtered_title_selftext    0\n",
       "dtype: int64"
      ]
     },
     "execution_count": 20,
     "metadata": {},
     "output_type": "execute_result"
    }
   ],
   "source": [
    "df.loc[df['filtered_title_selftext'].str.contains('&amp;#x200b;',)].count()"
   ]
  },
  {
   "cell_type": "code",
   "execution_count": 21,
   "id": "a265ff46-daf6-4aff-839d-4a15df0a7564",
   "metadata": {},
   "outputs": [
    {
     "data": {
      "text/plain": [
       "title_and_selftext         0\n",
       "title                      0\n",
       "selftext                   0\n",
       "subreddit                  0\n",
       "created_utc                0\n",
       "author                     0\n",
       "num_comments               0\n",
       "score                      0\n",
       "is_self                    0\n",
       "filtered_title_selftext    0\n",
       "dtype: int64"
      ]
     },
     "execution_count": 21,
     "metadata": {},
     "output_type": "execute_result"
    }
   ],
   "source": [
    "df.loc[df['filtered_title_selftext'].str.contains(\"'\",)].count()\n"
   ]
  },
  {
   "cell_type": "code",
   "execution_count": 22,
   "id": "eca93752-0964-48f0-aea1-125b321cfcdf",
   "metadata": {},
   "outputs": [
    {
     "data": {
      "text/plain": [
       "title_and_selftext         0\n",
       "title                      0\n",
       "selftext                   0\n",
       "subreddit                  0\n",
       "created_utc                0\n",
       "author                     0\n",
       "num_comments               0\n",
       "score                      0\n",
       "is_self                    0\n",
       "filtered_title_selftext    0\n",
       "dtype: int64"
      ]
     },
     "execution_count": 22,
     "metadata": {},
     "output_type": "execute_result"
    }
   ],
   "source": [
    "df.loc[df['filtered_title_selftext'].str.contains(\"http\")].count()"
   ]
  },
  {
   "cell_type": "code",
   "execution_count": 23,
   "id": "4f1e1c19-57c9-456f-938b-9ef09d8c6d29",
   "metadata": {},
   "outputs": [
    {
     "data": {
      "text/plain": [
       "'meanwhile @ ag hq ; [tell u again how long that queue is!]('"
      ]
     },
     "execution_count": 23,
     "metadata": {},
     "output_type": "execute_result"
    }
   ],
   "source": [
    "df['filtered_title_selftext'][800]"
   ]
  },
  {
   "cell_type": "code",
   "execution_count": 24,
   "id": "389ecf39-9b29-4818-be0f-baeb6aede907",
   "metadata": {},
   "outputs": [],
   "source": [
    "# #going to replace x200b with ''\n",
    "# #df['stringz'] =\n",
    "# df['filtered_title_selftext'].str.replace(\"&amp;#x200b;\", \" \", regex=False)"
   ]
  },
  {
   "cell_type": "code",
   "execution_count": 25,
   "id": "42921bf8-e055-476d-86bf-7d010c9bea69",
   "metadata": {},
   "outputs": [
    {
     "data": {
      "text/plain": [
       "(1386, 10)"
      ]
     },
     "execution_count": 25,
     "metadata": {},
     "output_type": "execute_result"
    }
   ],
   "source": [
    "df.shape"
   ]
  },
  {
   "cell_type": "code",
   "execution_count": null,
   "id": "5426b9fc-6c73-4cb0-90b7-b76fbb3fd5f6",
   "metadata": {},
   "outputs": [],
   "source": []
  },
  {
   "cell_type": "markdown",
   "id": "589a1a94-acdb-4401-b199-eb2687be0529",
   "metadata": {},
   "source": [
    "## EDA TIME"
   ]
  },
  {
   "cell_type": "code",
   "execution_count": 26,
   "id": "135a36ac-26e9-48d3-a129-41fa5cef5674",
   "metadata": {},
   "outputs": [],
   "source": [
    "#going to separate my two subreddits for now\n",
    "wow_posts = df[df['subreddit']=='wow']\n",
    "lostark_posts = df[df['subreddit']=='lostarkgame']"
   ]
  },
  {
   "cell_type": "code",
   "execution_count": 27,
   "id": "34ec49ca-6269-4a56-8438-3865b93ce753",
   "metadata": {},
   "outputs": [
    {
     "name": "stderr",
     "output_type": "stream",
     "text": [
      "C:\\Users\\mshuba\\AppData\\Local\\Temp/ipykernel_31268/3877585703.py:1: SettingWithCopyWarning: \n",
      "A value is trying to be set on a copy of a slice from a DataFrame.\n",
      "Try using .loc[row_indexer,col_indexer] = value instead\n",
      "\n",
      "See the caveats in the documentation: https://pandas.pydata.org/pandas-docs/stable/user_guide/indexing.html#returning-a-view-versus-a-copy\n",
      "  wow_posts['title'] = wow_posts['title'].map(lemmatize_sentence)\n",
      "C:\\Users\\mshuba\\AppData\\Local\\Temp/ipykernel_31268/3877585703.py:2: SettingWithCopyWarning: \n",
      "A value is trying to be set on a copy of a slice from a DataFrame.\n",
      "Try using .loc[row_indexer,col_indexer] = value instead\n",
      "\n",
      "See the caveats in the documentation: https://pandas.pydata.org/pandas-docs/stable/user_guide/indexing.html#returning-a-view-versus-a-copy\n",
      "  lostark_posts['title'] = lostark_posts['title'].map(lemmatize_sentence)\n"
     ]
    }
   ],
   "source": [
    "wow_posts['title'] = wow_posts['title'].map(lemmatize_sentence)\n",
    "lostark_posts['title'] = lostark_posts['title'].map(lemmatize_sentence)"
   ]
  },
  {
   "cell_type": "code",
   "execution_count": null,
   "id": "fe9d513a-9dd6-49e8-b94a-d38eb15724e9",
   "metadata": {},
   "outputs": [],
   "source": []
  },
  {
   "cell_type": "code",
   "execution_count": 28,
   "id": "36cf6d62-951a-4221-b89b-843b1a7b1180",
   "metadata": {},
   "outputs": [
    {
     "data": {
      "text/html": [
       "<div>\n",
       "<style scoped>\n",
       "    .dataframe tbody tr th:only-of-type {\n",
       "        vertical-align: middle;\n",
       "    }\n",
       "\n",
       "    .dataframe tbody tr th {\n",
       "        vertical-align: top;\n",
       "    }\n",
       "\n",
       "    .dataframe thead th {\n",
       "        text-align: right;\n",
       "    }\n",
       "</style>\n",
       "<table border=\"1\" class=\"dataframe\">\n",
       "  <thead>\n",
       "    <tr style=\"text-align: right;\">\n",
       "      <th></th>\n",
       "      <th>title_and_selftext</th>\n",
       "      <th>title</th>\n",
       "      <th>selftext</th>\n",
       "      <th>subreddit</th>\n",
       "      <th>created_utc</th>\n",
       "      <th>author</th>\n",
       "      <th>num_comments</th>\n",
       "      <th>score</th>\n",
       "      <th>is_self</th>\n",
       "      <th>filtered_title_selftext</th>\n",
       "    </tr>\n",
       "  </thead>\n",
       "  <tbody>\n",
       "    <tr>\n",
       "      <th>0</th>\n",
       "      <td>healer main 9.2 returning player and i feel li...</td>\n",
       "      <td>Healer main 9.2</td>\n",
       "      <td>Returning player and I feel like it is quite o...</td>\n",
       "      <td>wow</td>\n",
       "      <td>1644701779</td>\n",
       "      <td>BengtJJ</td>\n",
       "      <td>0</td>\n",
       "      <td>1</td>\n",
       "      <td>True</td>\n",
       "      <td>healer main 9.2 returning player and i feel li...</td>\n",
       "    </tr>\n",
       "    <tr>\n",
       "      <th>1</th>\n",
       "      <td>finding a gaming partner? [removed]</td>\n",
       "      <td>Finding a gaming partner?</td>\n",
       "      <td>[removed]</td>\n",
       "      <td>wow</td>\n",
       "      <td>1644703269</td>\n",
       "      <td>stuart210</td>\n",
       "      <td>0</td>\n",
       "      <td>1</td>\n",
       "      <td>True</td>\n",
       "      <td>finding a gaming partner? [removed]</td>\n",
       "    </tr>\n",
       "    <tr>\n",
       "      <th>2</th>\n",
       "      <td>sound issue, directional hello!\\n\\ni just boug...</td>\n",
       "      <td>Sound issue, directional</td>\n",
       "      <td>Hello!\\n\\nI just bought a new PC and for some ...</td>\n",
       "      <td>wow</td>\n",
       "      <td>1644704336</td>\n",
       "      <td>aNteriorDude</td>\n",
       "      <td>0</td>\n",
       "      <td>1</td>\n",
       "      <td>True</td>\n",
       "      <td>sound issue, directional hello! i just bought ...</td>\n",
       "    </tr>\n",
       "    <tr>\n",
       "      <th>3</th>\n",
       "      <td>is dispelling cc in pvp uncommon knowledge? i ...</td>\n",
       "      <td>Is dispelling CC in PVP uncommon knowledge?</td>\n",
       "      <td>I play arena a lot wouldn't say I'm amazing (m...</td>\n",
       "      <td>wow</td>\n",
       "      <td>1644704385</td>\n",
       "      <td>Mechgyrasaur</td>\n",
       "      <td>0</td>\n",
       "      <td>1</td>\n",
       "      <td>True</td>\n",
       "      <td>is dispelling cc in pvp uncommon knowledge? i ...</td>\n",
       "    </tr>\n",
       "    <tr>\n",
       "      <th>4</th>\n",
       "      <td>nice</td>\n",
       "      <td>NICE</td>\n",
       "      <td></td>\n",
       "      <td>wow</td>\n",
       "      <td>1644704733</td>\n",
       "      <td>Bliztivision</td>\n",
       "      <td>1</td>\n",
       "      <td>1</td>\n",
       "      <td>False</td>\n",
       "      <td>nice</td>\n",
       "    </tr>\n",
       "    <tr>\n",
       "      <th>...</th>\n",
       "      <td>...</td>\n",
       "      <td>...</td>\n",
       "      <td>...</td>\n",
       "      <td>...</td>\n",
       "      <td>...</td>\n",
       "      <td>...</td>\n",
       "      <td>...</td>\n",
       "      <td>...</td>\n",
       "      <td>...</td>\n",
       "      <td>...</td>\n",
       "    </tr>\n",
       "    <tr>\n",
       "      <th>695</th>\n",
       "      <td>it's so sad this game had to die for us to get...</td>\n",
       "      <td>It's so sad this game had to die for u to get ...</td>\n",
       "      <td>In super happy for everyone who still plays to...</td>\n",
       "      <td>wow</td>\n",
       "      <td>1643700410</td>\n",
       "      <td>Infinite-Campaign372</td>\n",
       "      <td>0</td>\n",
       "      <td>1</td>\n",
       "      <td>True</td>\n",
       "      <td>its so sad this game had to die for u to get t...</td>\n",
       "    </tr>\n",
       "    <tr>\n",
       "      <th>696</th>\n",
       "      <td>if you quit wow, will you come back? i heard b...</td>\n",
       "      <td>If you quit WoW, will you come back?</td>\n",
       "      <td>I heard Blizzard made some good changes and wa...</td>\n",
       "      <td>wow</td>\n",
       "      <td>1643701205</td>\n",
       "      <td>RoastedWorm</td>\n",
       "      <td>7</td>\n",
       "      <td>1</td>\n",
       "      <td>True</td>\n",
       "      <td>if you quit wow, will you come back? i heard b...</td>\n",
       "    </tr>\n",
       "    <tr>\n",
       "      <th>697</th>\n",
       "      <td>for the success of the new cross faction gamep...</td>\n",
       "      <td>For the success of the new cross faction gamep...</td>\n",
       "      <td>One problem that might impact the future Cross...</td>\n",
       "      <td>wow</td>\n",
       "      <td>1643702133</td>\n",
       "      <td>lucas_volken</td>\n",
       "      <td>0</td>\n",
       "      <td>1</td>\n",
       "      <td>True</td>\n",
       "      <td>for the success of the new cross faction gamep...</td>\n",
       "    </tr>\n",
       "    <tr>\n",
       "      <th>698</th>\n",
       "      <td>i have some question i hope they will answer i...</td>\n",
       "      <td>I have some question i hope they will answer i...</td>\n",
       "      <td>**How will it go with titles like \"Famed slaye...</td>\n",
       "      <td>wow</td>\n",
       "      <td>1643702210</td>\n",
       "      <td>W1shm4ster</td>\n",
       "      <td>0</td>\n",
       "      <td>1</td>\n",
       "      <td>True</td>\n",
       "      <td>i have some question i hope they will answer i...</td>\n",
       "    </tr>\n",
       "    <tr>\n",
       "      <th>699</th>\n",
       "      <td>elvui profile lost hello, a while ago my frien...</td>\n",
       "      <td>Elvui profile lost</td>\n",
       "      <td>Hello, a while ago my friend gave me her UI pr...</td>\n",
       "      <td>wow</td>\n",
       "      <td>1643702735</td>\n",
       "      <td>miqa123</td>\n",
       "      <td>0</td>\n",
       "      <td>1</td>\n",
       "      <td>True</td>\n",
       "      <td>elvui profile lost hello, a while ago my frien...</td>\n",
       "    </tr>\n",
       "  </tbody>\n",
       "</table>\n",
       "<p>694 rows × 10 columns</p>\n",
       "</div>"
      ],
      "text/plain": [
       "                                    title_and_selftext  \\\n",
       "0    healer main 9.2 returning player and i feel li...   \n",
       "1                  finding a gaming partner? [removed]   \n",
       "2    sound issue, directional hello!\\n\\ni just boug...   \n",
       "3    is dispelling cc in pvp uncommon knowledge? i ...   \n",
       "4                                                nice    \n",
       "..                                                 ...   \n",
       "695  it's so sad this game had to die for us to get...   \n",
       "696  if you quit wow, will you come back? i heard b...   \n",
       "697  for the success of the new cross faction gamep...   \n",
       "698  i have some question i hope they will answer i...   \n",
       "699  elvui profile lost hello, a while ago my frien...   \n",
       "\n",
       "                                                 title  \\\n",
       "0                                      Healer main 9.2   \n",
       "1                            Finding a gaming partner?   \n",
       "2                             Sound issue, directional   \n",
       "3          Is dispelling CC in PVP uncommon knowledge?   \n",
       "4                                                 NICE   \n",
       "..                                                 ...   \n",
       "695  It's so sad this game had to die for u to get ...   \n",
       "696               If you quit WoW, will you come back?   \n",
       "697  For the success of the new cross faction gamep...   \n",
       "698  I have some question i hope they will answer i...   \n",
       "699                                 Elvui profile lost   \n",
       "\n",
       "                                              selftext subreddit  created_utc  \\\n",
       "0    Returning player and I feel like it is quite o...       wow   1644701779   \n",
       "1                                            [removed]       wow   1644703269   \n",
       "2    Hello!\\n\\nI just bought a new PC and for some ...       wow   1644704336   \n",
       "3    I play arena a lot wouldn't say I'm amazing (m...       wow   1644704385   \n",
       "4                                                            wow   1644704733   \n",
       "..                                                 ...       ...          ...   \n",
       "695  In super happy for everyone who still plays to...       wow   1643700410   \n",
       "696  I heard Blizzard made some good changes and wa...       wow   1643701205   \n",
       "697  One problem that might impact the future Cross...       wow   1643702133   \n",
       "698  **How will it go with titles like \"Famed slaye...       wow   1643702210   \n",
       "699  Hello, a while ago my friend gave me her UI pr...       wow   1643702735   \n",
       "\n",
       "                   author  num_comments  score  is_self  \\\n",
       "0                 BengtJJ             0      1     True   \n",
       "1               stuart210             0      1     True   \n",
       "2            aNteriorDude             0      1     True   \n",
       "3            Mechgyrasaur             0      1     True   \n",
       "4            Bliztivision             1      1    False   \n",
       "..                    ...           ...    ...      ...   \n",
       "695  Infinite-Campaign372             0      1     True   \n",
       "696           RoastedWorm             7      1     True   \n",
       "697          lucas_volken             0      1     True   \n",
       "698            W1shm4ster             0      1     True   \n",
       "699               miqa123             0      1     True   \n",
       "\n",
       "                               filtered_title_selftext  \n",
       "0    healer main 9.2 returning player and i feel li...  \n",
       "1                  finding a gaming partner? [removed]  \n",
       "2    sound issue, directional hello! i just bought ...  \n",
       "3    is dispelling cc in pvp uncommon knowledge? i ...  \n",
       "4                                                 nice  \n",
       "..                                                 ...  \n",
       "695  its so sad this game had to die for u to get t...  \n",
       "696  if you quit wow, will you come back? i heard b...  \n",
       "697  for the success of the new cross faction gamep...  \n",
       "698  i have some question i hope they will answer i...  \n",
       "699  elvui profile lost hello, a while ago my frien...  \n",
       "\n",
       "[694 rows x 10 columns]"
      ]
     },
     "execution_count": 28,
     "metadata": {},
     "output_type": "execute_result"
    }
   ],
   "source": [
    "wow_posts"
   ]
  },
  {
   "cell_type": "code",
   "execution_count": 29,
   "id": "0247bb00-60a8-40b8-8352-c05728be7db4",
   "metadata": {},
   "outputs": [
    {
     "data": {
      "text/html": [
       "<div>\n",
       "<style scoped>\n",
       "    .dataframe tbody tr th:only-of-type {\n",
       "        vertical-align: middle;\n",
       "    }\n",
       "\n",
       "    .dataframe tbody tr th {\n",
       "        vertical-align: top;\n",
       "    }\n",
       "\n",
       "    .dataframe thead th {\n",
       "        text-align: right;\n",
       "    }\n",
       "</style>\n",
       "<table border=\"1\" class=\"dataframe\">\n",
       "  <thead>\n",
       "    <tr style=\"text-align: right;\">\n",
       "      <th></th>\n",
       "      <th>title_and_selftext</th>\n",
       "      <th>title</th>\n",
       "      <th>selftext</th>\n",
       "      <th>subreddit</th>\n",
       "      <th>created_utc</th>\n",
       "      <th>author</th>\n",
       "      <th>num_comments</th>\n",
       "      <th>score</th>\n",
       "      <th>is_self</th>\n",
       "      <th>filtered_title_selftext</th>\n",
       "    </tr>\n",
       "  </thead>\n",
       "  <tbody>\n",
       "    <tr>\n",
       "      <th>700</th>\n",
       "      <td>can we please get a static main menu? my gpu i...</td>\n",
       "      <td>Can we please get a static main menu? My GPU i...</td>\n",
       "      <td>not only does it cost more, it actually lowers...</td>\n",
       "      <td>lostarkgame</td>\n",
       "      <td>1644701447</td>\n",
       "      <td>_DOENER_MIT_ALLES_</td>\n",
       "      <td>0</td>\n",
       "      <td>1</td>\n",
       "      <td>True</td>\n",
       "      <td>can we please get a static main menu? my gpu i...</td>\n",
       "    </tr>\n",
       "    <tr>\n",
       "      <th>701</th>\n",
       "      <td>in case anyone wants to know what the luminous...</td>\n",
       "      <td>In case anyone want to know what the Luminous ...</td>\n",
       "      <td>So here's how Luminous Energy works - I will s...</td>\n",
       "      <td>lostarkgame</td>\n",
       "      <td>1644701449</td>\n",
       "      <td>2vDrew</td>\n",
       "      <td>0</td>\n",
       "      <td>1</td>\n",
       "      <td>True</td>\n",
       "      <td>in case anyone want to know what the luminous ...</td>\n",
       "    </tr>\n",
       "    <tr>\n",
       "      <th>702</th>\n",
       "      <td>i had bought gold founder but it says i don't ...</td>\n",
       "      <td>I had bought gold founder but it say I don't h...</td>\n",
       "      <td>I want to play with the benefits of it right n...</td>\n",
       "      <td>lostarkgame</td>\n",
       "      <td>1644701451</td>\n",
       "      <td>namrog84</td>\n",
       "      <td>0</td>\n",
       "      <td>1</td>\n",
       "      <td>True</td>\n",
       "      <td>i had bought gold founder but it say i dont ha...</td>\n",
       "    </tr>\n",
       "    <tr>\n",
       "      <th>703</th>\n",
       "      <td>they gave the cats buttholes.</td>\n",
       "      <td>They gave the cat buttholes.</td>\n",
       "      <td></td>\n",
       "      <td>lostarkgame</td>\n",
       "      <td>1644701458</td>\n",
       "      <td>Archiive</td>\n",
       "      <td>0</td>\n",
       "      <td>1</td>\n",
       "      <td>False</td>\n",
       "      <td>they gave the cat buttholes.</td>\n",
       "    </tr>\n",
       "    <tr>\n",
       "      <th>704</th>\n",
       "      <td>lost ark refuses to launch game will not launc...</td>\n",
       "      <td>Lost ark refuse to launch</td>\n",
       "      <td>Game will not launch, it’s stuck on the loadin...</td>\n",
       "      <td>lostarkgame</td>\n",
       "      <td>1644701460</td>\n",
       "      <td>Reddit_Ninja23</td>\n",
       "      <td>0</td>\n",
       "      <td>1</td>\n",
       "      <td>True</td>\n",
       "      <td>lost ark refuse to launch game will not launch...</td>\n",
       "    </tr>\n",
       "    <tr>\n",
       "      <th>...</th>\n",
       "      <td>...</td>\n",
       "      <td>...</td>\n",
       "      <td>...</td>\n",
       "      <td>...</td>\n",
       "      <td>...</td>\n",
       "      <td>...</td>\n",
       "      <td>...</td>\n",
       "      <td>...</td>\n",
       "      <td>...</td>\n",
       "      <td>...</td>\n",
       "    </tr>\n",
       "    <tr>\n",
       "      <th>1395</th>\n",
       "      <td>can you customize your characters appearance p...</td>\n",
       "      <td>Can you customize your character appearance po...</td>\n",
       "      <td>Lots of Korean games allow that if you have th...</td>\n",
       "      <td>lostarkgame</td>\n",
       "      <td>1643719754</td>\n",
       "      <td>twasRequired</td>\n",
       "      <td>0</td>\n",
       "      <td>1</td>\n",
       "      <td>True</td>\n",
       "      <td>can you customize your character appearance po...</td>\n",
       "    </tr>\n",
       "    <tr>\n",
       "      <th>1396</th>\n",
       "      <td>eu server popularity map</td>\n",
       "      <td>EU Server Popularity Map</td>\n",
       "      <td></td>\n",
       "      <td>lostarkgame</td>\n",
       "      <td>1643720039</td>\n",
       "      <td>apretorii</td>\n",
       "      <td>0</td>\n",
       "      <td>1</td>\n",
       "      <td>False</td>\n",
       "      <td>eu server popularity map</td>\n",
       "    </tr>\n",
       "    <tr>\n",
       "      <th>1397</th>\n",
       "      <td>question about revive feathers hi guys,\\n\\ni a...</td>\n",
       "      <td>Question about revive feather</td>\n",
       "      <td>Hi Guys,\\n\\nI am just thinking about picking u...</td>\n",
       "      <td>lostarkgame</td>\n",
       "      <td>1643720592</td>\n",
       "      <td>rhoxt</td>\n",
       "      <td>0</td>\n",
       "      <td>1</td>\n",
       "      <td>True</td>\n",
       "      <td>question about revive feather hi guys, i am ju...</td>\n",
       "    </tr>\n",
       "    <tr>\n",
       "      <th>1398</th>\n",
       "      <td>pve endgame lower grind to endgame build / cas...</td>\n",
       "      <td>PvE Endgame Lower Grind to Endgame Build / Cas...</td>\n",
       "      <td>Hello - Seeing a lot of lists and info. \\n\\nIt...</td>\n",
       "      <td>lostarkgame</td>\n",
       "      <td>1643720838</td>\n",
       "      <td>RonDonk2020</td>\n",
       "      <td>0</td>\n",
       "      <td>1</td>\n",
       "      <td>True</td>\n",
       "      <td>pve endgame lower grind to endgame build / cas...</td>\n",
       "    </tr>\n",
       "    <tr>\n",
       "      <th>1399</th>\n",
       "      <td>him</td>\n",
       "      <td>HIM</td>\n",
       "      <td></td>\n",
       "      <td>lostarkgame</td>\n",
       "      <td>1643721789</td>\n",
       "      <td>mann_moth</td>\n",
       "      <td>0</td>\n",
       "      <td>1</td>\n",
       "      <td>False</td>\n",
       "      <td>him</td>\n",
       "    </tr>\n",
       "  </tbody>\n",
       "</table>\n",
       "<p>692 rows × 10 columns</p>\n",
       "</div>"
      ],
      "text/plain": [
       "                                     title_and_selftext  \\\n",
       "700   can we please get a static main menu? my gpu i...   \n",
       "701   in case anyone wants to know what the luminous...   \n",
       "702   i had bought gold founder but it says i don't ...   \n",
       "703                      they gave the cats buttholes.    \n",
       "704   lost ark refuses to launch game will not launc...   \n",
       "...                                                 ...   \n",
       "1395  can you customize your characters appearance p...   \n",
       "1396                          eu server popularity map    \n",
       "1397  question about revive feathers hi guys,\\n\\ni a...   \n",
       "1398  pve endgame lower grind to endgame build / cas...   \n",
       "1399                                               him    \n",
       "\n",
       "                                                  title  \\\n",
       "700   Can we please get a static main menu? My GPU i...   \n",
       "701   In case anyone want to know what the Luminous ...   \n",
       "702   I had bought gold founder but it say I don't h...   \n",
       "703                        They gave the cat buttholes.   \n",
       "704                           Lost ark refuse to launch   \n",
       "...                                                 ...   \n",
       "1395  Can you customize your character appearance po...   \n",
       "1396                           EU Server Popularity Map   \n",
       "1397                      Question about revive feather   \n",
       "1398  PvE Endgame Lower Grind to Endgame Build / Cas...   \n",
       "1399                                                HIM   \n",
       "\n",
       "                                               selftext    subreddit  \\\n",
       "700   not only does it cost more, it actually lowers...  lostarkgame   \n",
       "701   So here's how Luminous Energy works - I will s...  lostarkgame   \n",
       "702   I want to play with the benefits of it right n...  lostarkgame   \n",
       "703                                                      lostarkgame   \n",
       "704   Game will not launch, it’s stuck on the loadin...  lostarkgame   \n",
       "...                                                 ...          ...   \n",
       "1395  Lots of Korean games allow that if you have th...  lostarkgame   \n",
       "1396                                                     lostarkgame   \n",
       "1397  Hi Guys,\\n\\nI am just thinking about picking u...  lostarkgame   \n",
       "1398  Hello - Seeing a lot of lists and info. \\n\\nIt...  lostarkgame   \n",
       "1399                                                     lostarkgame   \n",
       "\n",
       "      created_utc              author  num_comments  score  is_self  \\\n",
       "700    1644701447  _DOENER_MIT_ALLES_             0      1     True   \n",
       "701    1644701449              2vDrew             0      1     True   \n",
       "702    1644701451            namrog84             0      1     True   \n",
       "703    1644701458            Archiive             0      1    False   \n",
       "704    1644701460      Reddit_Ninja23             0      1     True   \n",
       "...           ...                 ...           ...    ...      ...   \n",
       "1395   1643719754        twasRequired             0      1     True   \n",
       "1396   1643720039           apretorii             0      1    False   \n",
       "1397   1643720592               rhoxt             0      1     True   \n",
       "1398   1643720838         RonDonk2020             0      1     True   \n",
       "1399   1643721789           mann_moth             0      1    False   \n",
       "\n",
       "                                filtered_title_selftext  \n",
       "700   can we please get a static main menu? my gpu i...  \n",
       "701   in case anyone want to know what the luminous ...  \n",
       "702   i had bought gold founder but it say i dont ha...  \n",
       "703                        they gave the cat buttholes.  \n",
       "704   lost ark refuse to launch game will not launch...  \n",
       "...                                                 ...  \n",
       "1395  can you customize your character appearance po...  \n",
       "1396                           eu server popularity map  \n",
       "1397  question about revive feather hi guys, i am ju...  \n",
       "1398  pve endgame lower grind to endgame build / cas...  \n",
       "1399                                                him  \n",
       "\n",
       "[692 rows x 10 columns]"
      ]
     },
     "execution_count": 29,
     "metadata": {},
     "output_type": "execute_result"
    }
   ],
   "source": [
    "lostark_posts"
   ]
  },
  {
   "cell_type": "code",
   "execution_count": 30,
   "id": "49f8e092-ad66-41b6-a886-ca925bf2cd59",
   "metadata": {},
   "outputs": [
    {
     "name": "stderr",
     "output_type": "stream",
     "text": [
      "C:\\Users\\mshuba\\AppData\\Local\\Temp/ipykernel_31268/3374080593.py:3: SettingWithCopyWarning: \n",
      "A value is trying to be set on a copy of a slice from a DataFrame.\n",
      "Try using .loc[row_indexer,col_indexer] = value instead\n",
      "\n",
      "See the caveats in the documentation: https://pandas.pydata.org/pandas-docs/stable/user_guide/indexing.html#returning-a-view-versus-a-copy\n",
      "  wow_posts['title_word_count'] = wow_posts['title'].str.split().map(len)\n",
      "C:\\Users\\mshuba\\AppData\\Local\\Temp/ipykernel_31268/3374080593.py:4: SettingWithCopyWarning: \n",
      "A value is trying to be set on a copy of a slice from a DataFrame.\n",
      "Try using .loc[row_indexer,col_indexer] = value instead\n",
      "\n",
      "See the caveats in the documentation: https://pandas.pydata.org/pandas-docs/stable/user_guide/indexing.html#returning-a-view-versus-a-copy\n",
      "  lostark_posts['title_word_count'] = lostark_posts['title'].str.split().map(len)\n"
     ]
    }
   ],
   "source": [
    "# lets get longest word counts of each subreddit posts from the title----------\n",
    "\n",
    "wow_posts['title_word_count'] = wow_posts['title'].str.split().map(len)\n",
    "lostark_posts['title_word_count'] = lostark_posts['title'].str.split().map(len)\n"
   ]
  },
  {
   "cell_type": "code",
   "execution_count": 31,
   "id": "f114d53b-fc81-4bd8-9076-6a63a2cd3a6b",
   "metadata": {},
   "outputs": [
    {
     "data": {
      "text/html": [
       "<div>\n",
       "<style scoped>\n",
       "    .dataframe tbody tr th:only-of-type {\n",
       "        vertical-align: middle;\n",
       "    }\n",
       "\n",
       "    .dataframe tbody tr th {\n",
       "        vertical-align: top;\n",
       "    }\n",
       "\n",
       "    .dataframe thead th {\n",
       "        text-align: right;\n",
       "    }\n",
       "</style>\n",
       "<table border=\"1\" class=\"dataframe\">\n",
       "  <thead>\n",
       "    <tr style=\"text-align: right;\">\n",
       "      <th></th>\n",
       "      <th>title_and_selftext</th>\n",
       "      <th>title</th>\n",
       "      <th>selftext</th>\n",
       "      <th>subreddit</th>\n",
       "      <th>created_utc</th>\n",
       "      <th>author</th>\n",
       "      <th>num_comments</th>\n",
       "      <th>score</th>\n",
       "      <th>is_self</th>\n",
       "      <th>filtered_title_selftext</th>\n",
       "      <th>title_word_count</th>\n",
       "    </tr>\n",
       "  </thead>\n",
       "  <tbody>\n",
       "    <tr>\n",
       "      <th>555</th>\n",
       "      <td>my husband just stopped playing wow after 10 y...</td>\n",
       "      <td>My husband just stopped playing WoW after 10 y...</td>\n",
       "      <td></td>\n",
       "      <td>wow</td>\n",
       "      <td>1643878917</td>\n",
       "      <td>sweetpumpkinx</td>\n",
       "      <td>1</td>\n",
       "      <td>1</td>\n",
       "      <td>False</td>\n",
       "      <td>my husband just stopped playing wow after 10 y...</td>\n",
       "      <td>60</td>\n",
       "    </tr>\n",
       "    <tr>\n",
       "      <th>323</th>\n",
       "      <td>how do i get 3840/3440x1440 on my 49\" 5120x144...</td>\n",
       "      <td>How do I get 3840/3440x1440 on my 49\" 5120x144...</td>\n",
       "      <td></td>\n",
       "      <td>wow</td>\n",
       "      <td>1644197516</td>\n",
       "      <td>JenovasChild666</td>\n",
       "      <td>0</td>\n",
       "      <td>1</td>\n",
       "      <td>False</td>\n",
       "      <td>how do i get 3840/3440x1440 on my 49\" 5120x144...</td>\n",
       "      <td>58</td>\n",
       "    </tr>\n",
       "    <tr>\n",
       "      <th>487</th>\n",
       "      <td>ok so now that alliance and horde are official...</td>\n",
       "      <td>ok so now that alliance and horde are official...</td>\n",
       "      <td>do you guys think this could happen and would ...</td>\n",
       "      <td>wow</td>\n",
       "      <td>1644070994</td>\n",
       "      <td>edelea</td>\n",
       "      <td>0</td>\n",
       "      <td>1</td>\n",
       "      <td>True</td>\n",
       "      <td>ok so now that alliance and horde are official...</td>\n",
       "      <td>54</td>\n",
       "    </tr>\n",
       "    <tr>\n",
       "      <th>85</th>\n",
       "      <td>i feel that it would be fun to tweak and add s...</td>\n",
       "      <td>I feel that it would be fun to tweak and add s...</td>\n",
       "      <td></td>\n",
       "      <td>wow</td>\n",
       "      <td>1644764100</td>\n",
       "      <td>TheAceofHearth</td>\n",
       "      <td>0</td>\n",
       "      <td>1</td>\n",
       "      <td>False</td>\n",
       "      <td>i feel that it would be fun to tweak and add s...</td>\n",
       "      <td>52</td>\n",
       "    </tr>\n",
       "    <tr>\n",
       "      <th>274</th>\n",
       "      <td>since artifact appearances were allowed for tr...</td>\n",
       "      <td>Since artifact appearance were allowed for tra...</td>\n",
       "      <td></td>\n",
       "      <td>wow</td>\n",
       "      <td>1644409807</td>\n",
       "      <td>ItsWednesdayMyCubes</td>\n",
       "      <td>8</td>\n",
       "      <td>1</td>\n",
       "      <td>False</td>\n",
       "      <td>since artifact appearance were allowed for tra...</td>\n",
       "      <td>51</td>\n",
       "    </tr>\n",
       "  </tbody>\n",
       "</table>\n",
       "</div>"
      ],
      "text/plain": [
       "                                    title_and_selftext  \\\n",
       "555  my husband just stopped playing wow after 10 y...   \n",
       "323  how do i get 3840/3440x1440 on my 49\" 5120x144...   \n",
       "487  ok so now that alliance and horde are official...   \n",
       "85   i feel that it would be fun to tweak and add s...   \n",
       "274  since artifact appearances were allowed for tr...   \n",
       "\n",
       "                                                 title  \\\n",
       "555  My husband just stopped playing WoW after 10 y...   \n",
       "323  How do I get 3840/3440x1440 on my 49\" 5120x144...   \n",
       "487  ok so now that alliance and horde are official...   \n",
       "85   I feel that it would be fun to tweak and add s...   \n",
       "274  Since artifact appearance were allowed for tra...   \n",
       "\n",
       "                                              selftext subreddit  created_utc  \\\n",
       "555                                                          wow   1643878917   \n",
       "323                                                          wow   1644197516   \n",
       "487  do you guys think this could happen and would ...       wow   1644070994   \n",
       "85                                                           wow   1644764100   \n",
       "274                                                          wow   1644409807   \n",
       "\n",
       "                  author  num_comments  score  is_self  \\\n",
       "555        sweetpumpkinx             1      1    False   \n",
       "323      JenovasChild666             0      1    False   \n",
       "487               edelea             0      1     True   \n",
       "85        TheAceofHearth             0      1    False   \n",
       "274  ItsWednesdayMyCubes             8      1    False   \n",
       "\n",
       "                               filtered_title_selftext  title_word_count  \n",
       "555  my husband just stopped playing wow after 10 y...                60  \n",
       "323  how do i get 3840/3440x1440 on my 49\" 5120x144...                58  \n",
       "487  ok so now that alliance and horde are official...                54  \n",
       "85   i feel that it would be fun to tweak and add s...                52  \n",
       "274  since artifact appearance were allowed for tra...                51  "
      ]
     },
     "execution_count": 31,
     "metadata": {},
     "output_type": "execute_result"
    }
   ],
   "source": [
    "wow_posts.sort_values(by='title_word_count', ascending=False).head()"
   ]
  },
  {
   "cell_type": "code",
   "execution_count": 32,
   "id": "25bf3751-601e-48f1-968b-1167799af6d4",
   "metadata": {},
   "outputs": [
    {
     "data": {
      "text/html": [
       "<div>\n",
       "<style scoped>\n",
       "    .dataframe tbody tr th:only-of-type {\n",
       "        vertical-align: middle;\n",
       "    }\n",
       "\n",
       "    .dataframe tbody tr th {\n",
       "        vertical-align: top;\n",
       "    }\n",
       "\n",
       "    .dataframe thead th {\n",
       "        text-align: right;\n",
       "    }\n",
       "</style>\n",
       "<table border=\"1\" class=\"dataframe\">\n",
       "  <thead>\n",
       "    <tr style=\"text-align: right;\">\n",
       "      <th></th>\n",
       "      <th>title_and_selftext</th>\n",
       "      <th>title</th>\n",
       "      <th>selftext</th>\n",
       "      <th>subreddit</th>\n",
       "      <th>created_utc</th>\n",
       "      <th>author</th>\n",
       "      <th>num_comments</th>\n",
       "      <th>score</th>\n",
       "      <th>is_self</th>\n",
       "      <th>filtered_title_selftext</th>\n",
       "      <th>title_word_count</th>\n",
       "    </tr>\n",
       "  </thead>\n",
       "  <tbody>\n",
       "    <tr>\n",
       "      <th>881</th>\n",
       "      <td>i gotthis achievement at item lvl 302... also ...</td>\n",
       "      <td>I gotthis achievement at item lvl 302... Also ...</td>\n",
       "      <td></td>\n",
       "      <td>lostarkgame</td>\n",
       "      <td>1644534707</td>\n",
       "      <td>SpuRkZ_</td>\n",
       "      <td>0</td>\n",
       "      <td>1</td>\n",
       "      <td>False</td>\n",
       "      <td>i gotthis achievement at item lvl 302... also ...</td>\n",
       "      <td>52</td>\n",
       "    </tr>\n",
       "    <tr>\n",
       "      <th>1360</th>\n",
       "      <td>not lostark. it was nicknamed \"seagull online\"...</td>\n",
       "      <td>Not lostark. It wa nicknamed \"seagull online\" ...</td>\n",
       "      <td></td>\n",
       "      <td>lostarkgame</td>\n",
       "      <td>1643697077</td>\n",
       "      <td>Novel_Cucumber_1588</td>\n",
       "      <td>0</td>\n",
       "      <td>1</td>\n",
       "      <td>False</td>\n",
       "      <td>not lostark. it wa nicknamed \"seagull online\" ...</td>\n",
       "      <td>46</td>\n",
       "    </tr>\n",
       "    <tr>\n",
       "      <th>1216</th>\n",
       "      <td>wondering if cash shop prices will be equal li...</td>\n",
       "      <td>wondering if cash shop price will be equal lik...</td>\n",
       "      <td>[removed]</td>\n",
       "      <td>lostarkgame</td>\n",
       "      <td>1643843783</td>\n",
       "      <td>srixonZball</td>\n",
       "      <td>1</td>\n",
       "      <td>1</td>\n",
       "      <td>True</td>\n",
       "      <td>wondering if cash shop price will be equal lik...</td>\n",
       "      <td>38</td>\n",
       "    </tr>\n",
       "    <tr>\n",
       "      <th>1369</th>\n",
       "      <td>i am only bow mmo player, never played any oth...</td>\n",
       "      <td>I am only bow MMO player, never played any oth...</td>\n",
       "      <td>[removed]</td>\n",
       "      <td>lostarkgame</td>\n",
       "      <td>1643702216</td>\n",
       "      <td>aradansk</td>\n",
       "      <td>1</td>\n",
       "      <td>1</td>\n",
       "      <td>True</td>\n",
       "      <td>i am only bow mmo player, never played any oth...</td>\n",
       "      <td>35</td>\n",
       "    </tr>\n",
       "    <tr>\n",
       "      <th>1020</th>\n",
       "      <td>there are lots of posts/comments about avoidin...</td>\n",
       "      <td>There are lot of posts/comments about avoiding...</td>\n",
       "      <td></td>\n",
       "      <td>lostarkgame</td>\n",
       "      <td>1644186874</td>\n",
       "      <td>Cawoi</td>\n",
       "      <td>0</td>\n",
       "      <td>1</td>\n",
       "      <td>False</td>\n",
       "      <td>there are lot of posts/comments about avoiding...</td>\n",
       "      <td>33</td>\n",
       "    </tr>\n",
       "  </tbody>\n",
       "</table>\n",
       "</div>"
      ],
      "text/plain": [
       "                                     title_and_selftext  \\\n",
       "881   i gotthis achievement at item lvl 302... also ...   \n",
       "1360  not lostark. it was nicknamed \"seagull online\"...   \n",
       "1216  wondering if cash shop prices will be equal li...   \n",
       "1369  i am only bow mmo player, never played any oth...   \n",
       "1020  there are lots of posts/comments about avoidin...   \n",
       "\n",
       "                                                  title   selftext  \\\n",
       "881   I gotthis achievement at item lvl 302... Also ...              \n",
       "1360  Not lostark. It wa nicknamed \"seagull online\" ...              \n",
       "1216  wondering if cash shop price will be equal lik...  [removed]   \n",
       "1369  I am only bow MMO player, never played any oth...  [removed]   \n",
       "1020  There are lot of posts/comments about avoiding...              \n",
       "\n",
       "        subreddit  created_utc               author  num_comments  score  \\\n",
       "881   lostarkgame   1644534707              SpuRkZ_             0      1   \n",
       "1360  lostarkgame   1643697077  Novel_Cucumber_1588             0      1   \n",
       "1216  lostarkgame   1643843783          srixonZball             1      1   \n",
       "1369  lostarkgame   1643702216             aradansk             1      1   \n",
       "1020  lostarkgame   1644186874                Cawoi             0      1   \n",
       "\n",
       "      is_self                            filtered_title_selftext  \\\n",
       "881     False  i gotthis achievement at item lvl 302... also ...   \n",
       "1360    False  not lostark. it wa nicknamed \"seagull online\" ...   \n",
       "1216     True  wondering if cash shop price will be equal lik...   \n",
       "1369     True  i am only bow mmo player, never played any oth...   \n",
       "1020    False  there are lot of posts/comments about avoiding...   \n",
       "\n",
       "      title_word_count  \n",
       "881                 52  \n",
       "1360                46  \n",
       "1216                38  \n",
       "1369                35  \n",
       "1020                33  "
      ]
     },
     "execution_count": 32,
     "metadata": {},
     "output_type": "execute_result"
    }
   ],
   "source": [
    "lostark_posts.sort_values(by='title_word_count', ascending=False).head()"
   ]
  },
  {
   "cell_type": "code",
   "execution_count": null,
   "id": "a2520692-7286-49a9-8c46-22bb2da7c953",
   "metadata": {},
   "outputs": [],
   "source": []
  },
  {
   "cell_type": "code",
   "execution_count": 33,
   "id": "f6f18a96-3a80-46eb-8ecf-0d7dc3f1f1f0",
   "metadata": {},
   "outputs": [
    {
     "data": {
      "image/png": "[encoded data removed]",
      "text/plain": [
       "<Figure size 504x504 with 1 Axes>"
      ]
     },
     "metadata": {
      "needs_background": "light"
     },
     "output_type": "display_data"
    }
   ],
   "source": [
    "plt.figure(figsize=(7,7))\n",
    "plt.hist(wow_posts['title_word_count'], bins = 30, label = 'WoW')\n",
    "plt.hist(lostark_posts['title_word_count'], bins = 30, label = 'Lost Ark')\n",
    "plt.title('Distribution of Title Word Count')\n",
    "plt.legend(loc = 'upper right');"
   ]
  },
  {
   "cell_type": "markdown",
   "id": "61fe56dc-0496-41d3-9000-785f2d11fc66",
   "metadata": {},
   "source": [
    "**The two MMO subreddits have a very similar distribution of 'title 'word counts around 10 words.**"
   ]
  },
  {
   "cell_type": "code",
   "execution_count": null,
   "id": "7f7e2e06-216a-47d4-972f-18407d5c1a57",
   "metadata": {},
   "outputs": [],
   "source": []
  },
  {
   "cell_type": "code",
   "execution_count": 34,
   "id": "824268a8-e608-41c6-a083-bd7e6c0e5674",
   "metadata": {},
   "outputs": [
    {
     "data": {
      "image/png": "[encoded data removed]",
      "text/plain": [
       "<Figure size 504x504 with 1 Axes>"
      ]
     },
     "metadata": {
      "needs_background": "light"
     },
     "output_type": "display_data"
    }
   ],
   "source": [
    "#look at the tail of the distribution!\n",
    "plt.figure(figsize=(7,7))\n",
    "plt.hist(wow_posts[wow_posts['title_word_count'] > 20]['title_word_count'], bins = 30, label = 'WoW')\n",
    "plt.hist(lostark_posts[lostark_posts['title_word_count'] > 20]['title_word_count'], bins = 30, label = 'Lost Ark')\n",
    "plt.title('Distribution of Title Word Count (ZOOMED IN)')\n",
    "plt.legend(loc = 'upper right');"
   ]
  },
  {
   "cell_type": "markdown",
   "id": "326bd701-d305-428f-b604-18a035c3e902",
   "metadata": {},
   "source": [
    "**Looking at the tail of the distribution, we can see that WoW takes over in the most 'title' word count.**"
   ]
  },
  {
   "cell_type": "code",
   "execution_count": 35,
   "id": "0f9993b7-9938-48cc-8e4d-a0461b160cd4",
   "metadata": {},
   "outputs": [
    {
     "name": "stderr",
     "output_type": "stream",
     "text": [
      "C:\\Users\\mshuba\\AppData\\Local\\Temp/ipykernel_31268/3952016552.py:1: SettingWithCopyWarning: \n",
      "A value is trying to be set on a copy of a slice from a DataFrame.\n",
      "Try using .loc[row_indexer,col_indexer] = value instead\n",
      "\n",
      "See the caveats in the documentation: https://pandas.pydata.org/pandas-docs/stable/user_guide/indexing.html#returning-a-view-versus-a-copy\n",
      "  wow_posts['selftext'] = wow_posts['selftext'].map(lemmatize_sentence)\n",
      "C:\\Users\\mshuba\\AppData\\Local\\Temp/ipykernel_31268/3952016552.py:2: SettingWithCopyWarning: \n",
      "A value is trying to be set on a copy of a slice from a DataFrame.\n",
      "Try using .loc[row_indexer,col_indexer] = value instead\n",
      "\n",
      "See the caveats in the documentation: https://pandas.pydata.org/pandas-docs/stable/user_guide/indexing.html#returning-a-view-versus-a-copy\n",
      "  lostark_posts['selftext'] = lostark_posts['selftext'].map(lemmatize_sentence)\n"
     ]
    }
   ],
   "source": [
    "wow_posts['selftext'] = wow_posts['selftext'].map(lemmatize_sentence)\n",
    "lostark_posts['selftext'] = lostark_posts['selftext'].map(lemmatize_sentence)"
   ]
  },
  {
   "cell_type": "code",
   "execution_count": 36,
   "id": "1006a127-1ba0-4bc5-ac8b-9ca9b0504e59",
   "metadata": {},
   "outputs": [
    {
     "name": "stderr",
     "output_type": "stream",
     "text": [
      "C:\\Users\\mshuba\\AppData\\Local\\Temp/ipykernel_31268/2388436016.py:3: SettingWithCopyWarning: \n",
      "A value is trying to be set on a copy of a slice from a DataFrame.\n",
      "Try using .loc[row_indexer,col_indexer] = value instead\n",
      "\n",
      "See the caveats in the documentation: https://pandas.pydata.org/pandas-docs/stable/user_guide/indexing.html#returning-a-view-versus-a-copy\n",
      "  wow_posts['selftext_count'] = wow_posts['selftext'].str.split().map(len)\n",
      "C:\\Users\\mshuba\\AppData\\Local\\Temp/ipykernel_31268/2388436016.py:4: SettingWithCopyWarning: \n",
      "A value is trying to be set on a copy of a slice from a DataFrame.\n",
      "Try using .loc[row_indexer,col_indexer] = value instead\n",
      "\n",
      "See the caveats in the documentation: https://pandas.pydata.org/pandas-docs/stable/user_guide/indexing.html#returning-a-view-versus-a-copy\n",
      "  lostark_posts['selftext_count'] = lostark_posts['selftext'].str.split().map(len)\n"
     ]
    }
   ],
   "source": [
    "# lets get longest word counts of each subreddit posts from the selftext----------\n",
    "\n",
    "wow_posts['selftext_count'] = wow_posts['selftext'].str.split().map(len)\n",
    "lostark_posts['selftext_count'] = lostark_posts['selftext'].str.split().map(len)\n"
   ]
  },
  {
   "cell_type": "code",
   "execution_count": 37,
   "id": "ec4849fb-c75c-4843-b899-03253df3845c",
   "metadata": {},
   "outputs": [
    {
     "data": {
      "text/html": [
       "<div>\n",
       "<style scoped>\n",
       "    .dataframe tbody tr th:only-of-type {\n",
       "        vertical-align: middle;\n",
       "    }\n",
       "\n",
       "    .dataframe tbody tr th {\n",
       "        vertical-align: top;\n",
       "    }\n",
       "\n",
       "    .dataframe thead th {\n",
       "        text-align: right;\n",
       "    }\n",
       "</style>\n",
       "<table border=\"1\" class=\"dataframe\">\n",
       "  <thead>\n",
       "    <tr style=\"text-align: right;\">\n",
       "      <th></th>\n",
       "      <th>title_and_selftext</th>\n",
       "      <th>title</th>\n",
       "      <th>selftext</th>\n",
       "      <th>subreddit</th>\n",
       "      <th>created_utc</th>\n",
       "      <th>author</th>\n",
       "      <th>num_comments</th>\n",
       "      <th>score</th>\n",
       "      <th>is_self</th>\n",
       "      <th>filtered_title_selftext</th>\n",
       "      <th>title_word_count</th>\n",
       "      <th>selftext_count</th>\n",
       "    </tr>\n",
       "  </thead>\n",
       "  <tbody>\n",
       "    <tr>\n",
       "      <th>577</th>\n",
       "      <td>windfury totem - a case for unique buffs pream...</td>\n",
       "      <td>Windfury Totem - A case for unique buff</td>\n",
       "      <td>Preamble: English is not my first language so ...</td>\n",
       "      <td>wow</td>\n",
       "      <td>1643897707</td>\n",
       "      <td>Tragorok</td>\n",
       "      <td>0</td>\n",
       "      <td>1</td>\n",
       "      <td>True</td>\n",
       "      <td>windfury totem - a case for unique buff preamb...</td>\n",
       "      <td>8</td>\n",
       "      <td>627</td>\n",
       "    </tr>\n",
       "    <tr>\n",
       "      <th>594</th>\n",
       "      <td>wows levelling experience caters far to much t...</td>\n",
       "      <td>WoWs levelling experience caters far to much t...</td>\n",
       "      <td>So let me clarify. Chromie Time (Timewalking L...</td>\n",
       "      <td>wow</td>\n",
       "      <td>1643905184</td>\n",
       "      <td>articanomaly</td>\n",
       "      <td>0</td>\n",
       "      <td>1</td>\n",
       "      <td>True</td>\n",
       "      <td>wow levelling experience caters far to much to...</td>\n",
       "      <td>26</td>\n",
       "      <td>589</td>\n",
       "    </tr>\n",
       "    <tr>\n",
       "      <th>259</th>\n",
       "      <td>auction house botting on many eu realms  tldr:...</td>\n",
       "      <td>Auction House Botting on many EU Realms</td>\n",
       "      <td>TLDR: There seems to be a trend in auction hou...</td>\n",
       "      <td>wow</td>\n",
       "      <td>1644398811</td>\n",
       "      <td>theMkom</td>\n",
       "      <td>1</td>\n",
       "      <td>1</td>\n",
       "      <td>True</td>\n",
       "      <td>auction house botting on many eu realm tldr: t...</td>\n",
       "      <td>7</td>\n",
       "      <td>562</td>\n",
       "    </tr>\n",
       "    <tr>\n",
       "      <th>119</th>\n",
       "      <td>the issue of exclusively casual player progres...</td>\n",
       "      <td>The issue of exclusively casual player progres...</td>\n",
       "      <td>There is obviously an issue in today's game of...</td>\n",
       "      <td>wow</td>\n",
       "      <td>1644541925</td>\n",
       "      <td>ZeHobnobs</td>\n",
       "      <td>0</td>\n",
       "      <td>1</td>\n",
       "      <td>True</td>\n",
       "      <td>the issue of exclusively casual player progres...</td>\n",
       "      <td>7</td>\n",
       "      <td>548</td>\n",
       "    </tr>\n",
       "    <tr>\n",
       "      <th>698</th>\n",
       "      <td>i have some question i hope they will answer i...</td>\n",
       "      <td>I have some question i hope they will answer i...</td>\n",
       "      <td>**How will it go with title like \"Famed slayer...</td>\n",
       "      <td>wow</td>\n",
       "      <td>1643702210</td>\n",
       "      <td>W1shm4ster</td>\n",
       "      <td>0</td>\n",
       "      <td>1</td>\n",
       "      <td>True</td>\n",
       "      <td>i have some question i hope they will answer i...</td>\n",
       "      <td>14</td>\n",
       "      <td>468</td>\n",
       "    </tr>\n",
       "  </tbody>\n",
       "</table>\n",
       "</div>"
      ],
      "text/plain": [
       "                                    title_and_selftext  \\\n",
       "577  windfury totem - a case for unique buffs pream...   \n",
       "594  wows levelling experience caters far to much t...   \n",
       "259  auction house botting on many eu realms  tldr:...   \n",
       "119  the issue of exclusively casual player progres...   \n",
       "698  i have some question i hope they will answer i...   \n",
       "\n",
       "                                                 title  \\\n",
       "577            Windfury Totem - A case for unique buff   \n",
       "594  WoWs levelling experience caters far to much t...   \n",
       "259            Auction House Botting on many EU Realms   \n",
       "119  The issue of exclusively casual player progres...   \n",
       "698  I have some question i hope they will answer i...   \n",
       "\n",
       "                                              selftext subreddit  created_utc  \\\n",
       "577  Preamble: English is not my first language so ...       wow   1643897707   \n",
       "594  So let me clarify. Chromie Time (Timewalking L...       wow   1643905184   \n",
       "259  TLDR: There seems to be a trend in auction hou...       wow   1644398811   \n",
       "119  There is obviously an issue in today's game of...       wow   1644541925   \n",
       "698  **How will it go with title like \"Famed slayer...       wow   1643702210   \n",
       "\n",
       "           author  num_comments  score  is_self  \\\n",
       "577      Tragorok             0      1     True   \n",
       "594  articanomaly             0      1     True   \n",
       "259       theMkom             1      1     True   \n",
       "119     ZeHobnobs             0      1     True   \n",
       "698    W1shm4ster             0      1     True   \n",
       "\n",
       "                               filtered_title_selftext  title_word_count  \\\n",
       "577  windfury totem - a case for unique buff preamb...                 8   \n",
       "594  wow levelling experience caters far to much to...                26   \n",
       "259  auction house botting on many eu realm tldr: t...                 7   \n",
       "119  the issue of exclusively casual player progres...                 7   \n",
       "698  i have some question i hope they will answer i...                14   \n",
       "\n",
       "     selftext_count  \n",
       "577             627  \n",
       "594             589  \n",
       "259             562  \n",
       "119             548  \n",
       "698             468  "
      ]
     },
     "execution_count": 37,
     "metadata": {},
     "output_type": "execute_result"
    }
   ],
   "source": [
    "wow_posts.sort_values(by='selftext_count', ascending=False).head()"
   ]
  },
  {
   "cell_type": "code",
   "execution_count": 38,
   "id": "ee7e83b8-a99b-4744-8331-b246d4eeae8e",
   "metadata": {},
   "outputs": [
    {
     "data": {
      "text/html": [
       "<div>\n",
       "<style scoped>\n",
       "    .dataframe tbody tr th:only-of-type {\n",
       "        vertical-align: middle;\n",
       "    }\n",
       "\n",
       "    .dataframe tbody tr th {\n",
       "        vertical-align: top;\n",
       "    }\n",
       "\n",
       "    .dataframe thead th {\n",
       "        text-align: right;\n",
       "    }\n",
       "</style>\n",
       "<table border=\"1\" class=\"dataframe\">\n",
       "  <thead>\n",
       "    <tr style=\"text-align: right;\">\n",
       "      <th></th>\n",
       "      <th>title_and_selftext</th>\n",
       "      <th>title</th>\n",
       "      <th>selftext</th>\n",
       "      <th>subreddit</th>\n",
       "      <th>created_utc</th>\n",
       "      <th>author</th>\n",
       "      <th>num_comments</th>\n",
       "      <th>score</th>\n",
       "      <th>is_self</th>\n",
       "      <th>filtered_title_selftext</th>\n",
       "      <th>title_word_count</th>\n",
       "      <th>selftext_count</th>\n",
       "    </tr>\n",
       "  </thead>\n",
       "  <tbody>\n",
       "    <tr>\n",
       "      <th>1012</th>\n",
       "      <td>is lost ark p2w? no, and here's why with all t...</td>\n",
       "      <td>Is Lost Ark P2W? No, and here's why</td>\n",
       "      <td>With all the talk of Lost Ark being P2W for th...</td>\n",
       "      <td>lostarkgame</td>\n",
       "      <td>1644185158</td>\n",
       "      <td>KaZe_DaRKWIND</td>\n",
       "      <td>2</td>\n",
       "      <td>1</td>\n",
       "      <td>True</td>\n",
       "      <td>is lost ark p2w? no, and heres why with all th...</td>\n",
       "      <td>8</td>\n",
       "      <td>1552</td>\n",
       "    </tr>\n",
       "    <tr>\n",
       "      <th>1368</th>\n",
       "      <td>as a new player, i wanted to share some resour...</td>\n",
       "      <td>As a new player, I wanted to share some resour...</td>\n",
       "      <td>#Resources: https://papunika.com/ https://lost...</td>\n",
       "      <td>lostarkgame</td>\n",
       "      <td>1643700605</td>\n",
       "      <td>koticgood</td>\n",
       "      <td>0</td>\n",
       "      <td>1</td>\n",
       "      <td>True</td>\n",
       "      <td>a a new player, i wanted to share some resourc...</td>\n",
       "      <td>23</td>\n",
       "      <td>761</td>\n",
       "    </tr>\n",
       "    <tr>\n",
       "      <th>1100</th>\n",
       "      <td>i just find it funny that support classes bein...</td>\n",
       "      <td>I just find it funny that support class being ...</td>\n",
       "      <td>So, i'm a KR player, and frequent both this su...</td>\n",
       "      <td>lostarkgame</td>\n",
       "      <td>1644010850</td>\n",
       "      <td>Voidwing</td>\n",
       "      <td>0</td>\n",
       "      <td>1</td>\n",
       "      <td>True</td>\n",
       "      <td>i just find it funny that support class being ...</td>\n",
       "      <td>18</td>\n",
       "      <td>626</td>\n",
       "    </tr>\n",
       "    <tr>\n",
       "      <th>1305</th>\n",
       "      <td>how knowledge transfer works - get your alts r...</td>\n",
       "      <td>How Knowledge Transfer work - Get your alt rea...</td>\n",
       "      <td>Please note that all the info in this post is ...</td>\n",
       "      <td>lostarkgame</td>\n",
       "      <td>1643666735</td>\n",
       "      <td>Ghostray_325</td>\n",
       "      <td>0</td>\n",
       "      <td>1</td>\n",
       "      <td>True</td>\n",
       "      <td>how knowledge transfer work - get your alt rea...</td>\n",
       "      <td>10</td>\n",
       "      <td>612</td>\n",
       "    </tr>\n",
       "    <tr>\n",
       "      <th>1067</th>\n",
       "      <td>mmo mouse configuration in lost ark i love mmo...</td>\n",
       "      <td>MMO Mouse Configuration in Lost Ark</td>\n",
       "      <td>I love MMO mouse for gaming. And so far Lost A...</td>\n",
       "      <td>lostarkgame</td>\n",
       "      <td>1644195536</td>\n",
       "      <td>my_shoes_hurt</td>\n",
       "      <td>0</td>\n",
       "      <td>1</td>\n",
       "      <td>True</td>\n",
       "      <td>mmo mouse configuration in lost ark i love mmo...</td>\n",
       "      <td>6</td>\n",
       "      <td>591</td>\n",
       "    </tr>\n",
       "  </tbody>\n",
       "</table>\n",
       "</div>"
      ],
      "text/plain": [
       "                                     title_and_selftext  \\\n",
       "1012  is lost ark p2w? no, and here's why with all t...   \n",
       "1368  as a new player, i wanted to share some resour...   \n",
       "1100  i just find it funny that support classes bein...   \n",
       "1305  how knowledge transfer works - get your alts r...   \n",
       "1067  mmo mouse configuration in lost ark i love mmo...   \n",
       "\n",
       "                                                  title  \\\n",
       "1012                Is Lost Ark P2W? No, and here's why   \n",
       "1368  As a new player, I wanted to share some resour...   \n",
       "1100  I just find it funny that support class being ...   \n",
       "1305  How Knowledge Transfer work - Get your alt rea...   \n",
       "1067                MMO Mouse Configuration in Lost Ark   \n",
       "\n",
       "                                               selftext    subreddit  \\\n",
       "1012  With all the talk of Lost Ark being P2W for th...  lostarkgame   \n",
       "1368  #Resources: https://papunika.com/ https://lost...  lostarkgame   \n",
       "1100  So, i'm a KR player, and frequent both this su...  lostarkgame   \n",
       "1305  Please note that all the info in this post is ...  lostarkgame   \n",
       "1067  I love MMO mouse for gaming. And so far Lost A...  lostarkgame   \n",
       "\n",
       "      created_utc         author  num_comments  score  is_self  \\\n",
       "1012   1644185158  KaZe_DaRKWIND             2      1     True   \n",
       "1368   1643700605      koticgood             0      1     True   \n",
       "1100   1644010850       Voidwing             0      1     True   \n",
       "1305   1643666735   Ghostray_325             0      1     True   \n",
       "1067   1644195536  my_shoes_hurt             0      1     True   \n",
       "\n",
       "                                filtered_title_selftext  title_word_count  \\\n",
       "1012  is lost ark p2w? no, and heres why with all th...                 8   \n",
       "1368  a a new player, i wanted to share some resourc...                23   \n",
       "1100  i just find it funny that support class being ...                18   \n",
       "1305  how knowledge transfer work - get your alt rea...                10   \n",
       "1067  mmo mouse configuration in lost ark i love mmo...                 6   \n",
       "\n",
       "      selftext_count  \n",
       "1012            1552  \n",
       "1368             761  \n",
       "1100             626  \n",
       "1305             612  \n",
       "1067             591  "
      ]
     },
     "execution_count": 38,
     "metadata": {},
     "output_type": "execute_result"
    }
   ],
   "source": [
    "lostark_posts.sort_values(by='selftext_count', ascending=False).head()"
   ]
  },
  {
   "cell_type": "code",
   "execution_count": 39,
   "id": "15c4a2a4-0863-4005-b02e-712e2ef5fbe6",
   "metadata": {},
   "outputs": [
    {
     "data": {
      "image/png": "[encoded data removed]",
      "text/plain": [
       "<Figure size 504x504 with 1 Axes>"
      ]
     },
     "metadata": {
      "needs_background": "light"
     },
     "output_type": "display_data"
    }
   ],
   "source": [
    "plt.figure(figsize=(7,7))\n",
    "plt.hist(wow_posts[wow_posts['selftext_count'] > 2]['selftext_count'], bins = 30, label = 'WoW')\n",
    "plt.hist(lostark_posts[lostark_posts['selftext_count'] > 2]['selftext_count'], bins = 30, label = 'Lost Ark')\n",
    "plt.title('Distribution of SelfText Word Count')\n",
    "plt.legend(loc = 'upper right');"
   ]
  },
  {
   "cell_type": "code",
   "execution_count": 40,
   "id": "213fdc8d-794f-41a7-8d11-2187e35bf37c",
   "metadata": {},
   "outputs": [
    {
     "data": {
      "image/png": "[encoded data removed]",
      "text/plain": [
       "<Figure size 504x504 with 1 Axes>"
      ]
     },
     "metadata": {
      "needs_background": "light"
     },
     "output_type": "display_data"
    }
   ],
   "source": [
    "plt.figure(figsize=(7,7))\n",
    "plt.hist(wow_posts[wow_posts['selftext_count'] > 200]['selftext_count'], bins = 30, label = 'WoW')\n",
    "plt.hist(lostark_posts[lostark_posts['selftext_count'] > 200]['selftext_count'], bins = 30, label = 'Lost Ark')\n",
    "plt.title('ZOOMED IN: Distribution of SelfText Word Count')\n",
    "plt.legend(loc = 'upper right');"
   ]
  },
  {
   "cell_type": "code",
   "execution_count": 41,
   "id": "1cd9d1ee-1798-444e-8c2c-04c2ba887a6b",
   "metadata": {},
   "outputs": [
    {
     "data": {
      "text/html": [
       "<div>\n",
       "<style scoped>\n",
       "    .dataframe tbody tr th:only-of-type {\n",
       "        vertical-align: middle;\n",
       "    }\n",
       "\n",
       "    .dataframe tbody tr th {\n",
       "        vertical-align: top;\n",
       "    }\n",
       "\n",
       "    .dataframe thead th {\n",
       "        text-align: right;\n",
       "    }\n",
       "</style>\n",
       "<table border=\"1\" class=\"dataframe\">\n",
       "  <thead>\n",
       "    <tr style=\"text-align: right;\">\n",
       "      <th></th>\n",
       "      <th>title_and_selftext</th>\n",
       "      <th>title</th>\n",
       "      <th>selftext</th>\n",
       "      <th>subreddit</th>\n",
       "      <th>created_utc</th>\n",
       "      <th>author</th>\n",
       "      <th>num_comments</th>\n",
       "      <th>score</th>\n",
       "      <th>is_self</th>\n",
       "      <th>filtered_title_selftext</th>\n",
       "      <th>title_word_count</th>\n",
       "      <th>selftext_count</th>\n",
       "    </tr>\n",
       "  </thead>\n",
       "  <tbody>\n",
       "    <tr>\n",
       "      <th>700</th>\n",
       "      <td>can we please get a static main menu? my gpu i...</td>\n",
       "      <td>Can we please get a static main menu? My GPU i...</td>\n",
       "      <td>not only doe it cost more, it actually lower m...</td>\n",
       "      <td>lostarkgame</td>\n",
       "      <td>1644701447</td>\n",
       "      <td>_DOENER_MIT_ALLES_</td>\n",
       "      <td>0</td>\n",
       "      <td>1</td>\n",
       "      <td>True</td>\n",
       "      <td>can we please get a static main menu? my gpu i...</td>\n",
       "      <td>21</td>\n",
       "      <td>22</td>\n",
       "    </tr>\n",
       "    <tr>\n",
       "      <th>701</th>\n",
       "      <td>in case anyone wants to know what the luminous...</td>\n",
       "      <td>In case anyone want to know what the Luminous ...</td>\n",
       "      <td>So here's how Luminous Energy work - I will sa...</td>\n",
       "      <td>lostarkgame</td>\n",
       "      <td>1644701449</td>\n",
       "      <td>2vDrew</td>\n",
       "      <td>0</td>\n",
       "      <td>1</td>\n",
       "      <td>True</td>\n",
       "      <td>in case anyone want to know what the luminous ...</td>\n",
       "      <td>20</td>\n",
       "      <td>88</td>\n",
       "    </tr>\n",
       "    <tr>\n",
       "      <th>702</th>\n",
       "      <td>i had bought gold founder but it says i don't ...</td>\n",
       "      <td>I had bought gold founder but it say I don't h...</td>\n",
       "      <td>I want to play with the benefit of it right no...</td>\n",
       "      <td>lostarkgame</td>\n",
       "      <td>1644701451</td>\n",
       "      <td>namrog84</td>\n",
       "      <td>0</td>\n",
       "      <td>1</td>\n",
       "      <td>True</td>\n",
       "      <td>i had bought gold founder but it say i dont ha...</td>\n",
       "      <td>16</td>\n",
       "      <td>84</td>\n",
       "    </tr>\n",
       "    <tr>\n",
       "      <th>703</th>\n",
       "      <td>they gave the cats buttholes.</td>\n",
       "      <td>They gave the cat buttholes.</td>\n",
       "      <td></td>\n",
       "      <td>lostarkgame</td>\n",
       "      <td>1644701458</td>\n",
       "      <td>Archiive</td>\n",
       "      <td>0</td>\n",
       "      <td>1</td>\n",
       "      <td>False</td>\n",
       "      <td>they gave the cat buttholes.</td>\n",
       "      <td>5</td>\n",
       "      <td>0</td>\n",
       "    </tr>\n",
       "    <tr>\n",
       "      <th>704</th>\n",
       "      <td>lost ark refuses to launch game will not launc...</td>\n",
       "      <td>Lost ark refuse to launch</td>\n",
       "      <td>Game will not launch, it’s stuck on the loadin...</td>\n",
       "      <td>lostarkgame</td>\n",
       "      <td>1644701460</td>\n",
       "      <td>Reddit_Ninja23</td>\n",
       "      <td>0</td>\n",
       "      <td>1</td>\n",
       "      <td>True</td>\n",
       "      <td>lost ark refuse to launch game will not launch...</td>\n",
       "      <td>5</td>\n",
       "      <td>47</td>\n",
       "    </tr>\n",
       "    <tr>\n",
       "      <th>...</th>\n",
       "      <td>...</td>\n",
       "      <td>...</td>\n",
       "      <td>...</td>\n",
       "      <td>...</td>\n",
       "      <td>...</td>\n",
       "      <td>...</td>\n",
       "      <td>...</td>\n",
       "      <td>...</td>\n",
       "      <td>...</td>\n",
       "      <td>...</td>\n",
       "      <td>...</td>\n",
       "      <td>...</td>\n",
       "    </tr>\n",
       "    <tr>\n",
       "      <th>1395</th>\n",
       "      <td>can you customize your characters appearance p...</td>\n",
       "      <td>Can you customize your character appearance po...</td>\n",
       "      <td>Lots of Korean game allow that if you have the...</td>\n",
       "      <td>lostarkgame</td>\n",
       "      <td>1643719754</td>\n",
       "      <td>twasRequired</td>\n",
       "      <td>0</td>\n",
       "      <td>1</td>\n",
       "      <td>True</td>\n",
       "      <td>can you customize your character appearance po...</td>\n",
       "      <td>7</td>\n",
       "      <td>17</td>\n",
       "    </tr>\n",
       "    <tr>\n",
       "      <th>1396</th>\n",
       "      <td>eu server popularity map</td>\n",
       "      <td>EU Server Popularity Map</td>\n",
       "      <td></td>\n",
       "      <td>lostarkgame</td>\n",
       "      <td>1643720039</td>\n",
       "      <td>apretorii</td>\n",
       "      <td>0</td>\n",
       "      <td>1</td>\n",
       "      <td>False</td>\n",
       "      <td>eu server popularity map</td>\n",
       "      <td>4</td>\n",
       "      <td>0</td>\n",
       "    </tr>\n",
       "    <tr>\n",
       "      <th>1397</th>\n",
       "      <td>question about revive feathers hi guys,\\n\\ni a...</td>\n",
       "      <td>Question about revive feather</td>\n",
       "      <td>Hi Guys, I am just thinking about picking up t...</td>\n",
       "      <td>lostarkgame</td>\n",
       "      <td>1643720592</td>\n",
       "      <td>rhoxt</td>\n",
       "      <td>0</td>\n",
       "      <td>1</td>\n",
       "      <td>True</td>\n",
       "      <td>question about revive feather hi guys, i am ju...</td>\n",
       "      <td>4</td>\n",
       "      <td>61</td>\n",
       "    </tr>\n",
       "    <tr>\n",
       "      <th>1398</th>\n",
       "      <td>pve endgame lower grind to endgame build / cas...</td>\n",
       "      <td>PvE Endgame Lower Grind to Endgame Build / Cas...</td>\n",
       "      <td>Hello - Seeing a lot of list and info. It look...</td>\n",
       "      <td>lostarkgame</td>\n",
       "      <td>1643720838</td>\n",
       "      <td>RonDonk2020</td>\n",
       "      <td>0</td>\n",
       "      <td>1</td>\n",
       "      <td>True</td>\n",
       "      <td>pve endgame lower grind to endgame build / cas...</td>\n",
       "      <td>10</td>\n",
       "      <td>60</td>\n",
       "    </tr>\n",
       "    <tr>\n",
       "      <th>1399</th>\n",
       "      <td>him</td>\n",
       "      <td>HIM</td>\n",
       "      <td></td>\n",
       "      <td>lostarkgame</td>\n",
       "      <td>1643721789</td>\n",
       "      <td>mann_moth</td>\n",
       "      <td>0</td>\n",
       "      <td>1</td>\n",
       "      <td>False</td>\n",
       "      <td>him</td>\n",
       "      <td>1</td>\n",
       "      <td>0</td>\n",
       "    </tr>\n",
       "  </tbody>\n",
       "</table>\n",
       "<p>692 rows × 12 columns</p>\n",
       "</div>"
      ],
      "text/plain": [
       "                                     title_and_selftext  \\\n",
       "700   can we please get a static main menu? my gpu i...   \n",
       "701   in case anyone wants to know what the luminous...   \n",
       "702   i had bought gold founder but it says i don't ...   \n",
       "703                      they gave the cats buttholes.    \n",
       "704   lost ark refuses to launch game will not launc...   \n",
       "...                                                 ...   \n",
       "1395  can you customize your characters appearance p...   \n",
       "1396                          eu server popularity map    \n",
       "1397  question about revive feathers hi guys,\\n\\ni a...   \n",
       "1398  pve endgame lower grind to endgame build / cas...   \n",
       "1399                                               him    \n",
       "\n",
       "                                                  title  \\\n",
       "700   Can we please get a static main menu? My GPU i...   \n",
       "701   In case anyone want to know what the Luminous ...   \n",
       "702   I had bought gold founder but it say I don't h...   \n",
       "703                        They gave the cat buttholes.   \n",
       "704                           Lost ark refuse to launch   \n",
       "...                                                 ...   \n",
       "1395  Can you customize your character appearance po...   \n",
       "1396                           EU Server Popularity Map   \n",
       "1397                      Question about revive feather   \n",
       "1398  PvE Endgame Lower Grind to Endgame Build / Cas...   \n",
       "1399                                                HIM   \n",
       "\n",
       "                                               selftext    subreddit  \\\n",
       "700   not only doe it cost more, it actually lower m...  lostarkgame   \n",
       "701   So here's how Luminous Energy work - I will sa...  lostarkgame   \n",
       "702   I want to play with the benefit of it right no...  lostarkgame   \n",
       "703                                                      lostarkgame   \n",
       "704   Game will not launch, it’s stuck on the loadin...  lostarkgame   \n",
       "...                                                 ...          ...   \n",
       "1395  Lots of Korean game allow that if you have the...  lostarkgame   \n",
       "1396                                                     lostarkgame   \n",
       "1397  Hi Guys, I am just thinking about picking up t...  lostarkgame   \n",
       "1398  Hello - Seeing a lot of list and info. It look...  lostarkgame   \n",
       "1399                                                     lostarkgame   \n",
       "\n",
       "      created_utc              author  num_comments  score  is_self  \\\n",
       "700    1644701447  _DOENER_MIT_ALLES_             0      1     True   \n",
       "701    1644701449              2vDrew             0      1     True   \n",
       "702    1644701451            namrog84             0      1     True   \n",
       "703    1644701458            Archiive             0      1    False   \n",
       "704    1644701460      Reddit_Ninja23             0      1     True   \n",
       "...           ...                 ...           ...    ...      ...   \n",
       "1395   1643719754        twasRequired             0      1     True   \n",
       "1396   1643720039           apretorii             0      1    False   \n",
       "1397   1643720592               rhoxt             0      1     True   \n",
       "1398   1643720838         RonDonk2020             0      1     True   \n",
       "1399   1643721789           mann_moth             0      1    False   \n",
       "\n",
       "                                filtered_title_selftext  title_word_count  \\\n",
       "700   can we please get a static main menu? my gpu i...                21   \n",
       "701   in case anyone want to know what the luminous ...                20   \n",
       "702   i had bought gold founder but it say i dont ha...                16   \n",
       "703                        they gave the cat buttholes.                 5   \n",
       "704   lost ark refuse to launch game will not launch...                 5   \n",
       "...                                                 ...               ...   \n",
       "1395  can you customize your character appearance po...                 7   \n",
       "1396                           eu server popularity map                 4   \n",
       "1397  question about revive feather hi guys, i am ju...                 4   \n",
       "1398  pve endgame lower grind to endgame build / cas...                10   \n",
       "1399                                                him                 1   \n",
       "\n",
       "      selftext_count  \n",
       "700               22  \n",
       "701               88  \n",
       "702               84  \n",
       "703                0  \n",
       "704               47  \n",
       "...              ...  \n",
       "1395              17  \n",
       "1396               0  \n",
       "1397              61  \n",
       "1398              60  \n",
       "1399               0  \n",
       "\n",
       "[692 rows x 12 columns]"
      ]
     },
     "execution_count": 41,
     "metadata": {},
     "output_type": "execute_result"
    }
   ],
   "source": [
    "lostark_posts"
   ]
  },
  {
   "cell_type": "code",
   "execution_count": null,
   "id": "9ea7cf0d-0dec-4204-a3f6-f307b6cbf131",
   "metadata": {},
   "outputs": [],
   "source": []
  },
  {
   "cell_type": "code",
   "execution_count": null,
   "id": "988b3a14-2510-4201-bda6-375c8f53acdf",
   "metadata": {},
   "outputs": [],
   "source": []
  },
  {
   "cell_type": "code",
   "execution_count": null,
   "id": "452b3248-61fb-4a96-84b4-4a4d5118ee9f",
   "metadata": {},
   "outputs": [],
   "source": []
  },
  {
   "cell_type": "code",
   "execution_count": null,
   "id": "7a3c5b6a-278e-45f1-baa6-6fb03879a863",
   "metadata": {},
   "outputs": [],
   "source": []
  },
  {
   "cell_type": "markdown",
   "id": "bdd0215a-187b-40a9-9da4-c44c87c7c3b1",
   "metadata": {},
   "source": [
    "## EDA on Words?"
   ]
  },
  {
   "cell_type": "code",
   "execution_count": 42,
   "id": "c9f6bd2f-4754-4703-a947-045d63f4233a",
   "metadata": {},
   "outputs": [
    {
     "data": {
      "text/html": [
       "<div>\n",
       "<style scoped>\n",
       "    .dataframe tbody tr th:only-of-type {\n",
       "        vertical-align: middle;\n",
       "    }\n",
       "\n",
       "    .dataframe tbody tr th {\n",
       "        vertical-align: top;\n",
       "    }\n",
       "\n",
       "    .dataframe thead th {\n",
       "        text-align: right;\n",
       "    }\n",
       "</style>\n",
       "<table border=\"1\" class=\"dataframe\">\n",
       "  <thead>\n",
       "    <tr style=\"text-align: right;\">\n",
       "      <th></th>\n",
       "      <th>title_and_selftext</th>\n",
       "      <th>title</th>\n",
       "      <th>selftext</th>\n",
       "      <th>subreddit</th>\n",
       "      <th>created_utc</th>\n",
       "      <th>author</th>\n",
       "      <th>num_comments</th>\n",
       "      <th>score</th>\n",
       "      <th>is_self</th>\n",
       "      <th>filtered_title_selftext</th>\n",
       "    </tr>\n",
       "  </thead>\n",
       "  <tbody>\n",
       "    <tr>\n",
       "      <th>0</th>\n",
       "      <td>healer main 9.2 returning player and i feel li...</td>\n",
       "      <td>Healer main 9.2</td>\n",
       "      <td>Returning player and I feel like it is quite o...</td>\n",
       "      <td>wow</td>\n",
       "      <td>1644701779</td>\n",
       "      <td>BengtJJ</td>\n",
       "      <td>0</td>\n",
       "      <td>1</td>\n",
       "      <td>True</td>\n",
       "      <td>healer main 9.2 returning player and i feel li...</td>\n",
       "    </tr>\n",
       "    <tr>\n",
       "      <th>1</th>\n",
       "      <td>finding a gaming partner? [removed]</td>\n",
       "      <td>Finding a gaming partner?</td>\n",
       "      <td>[removed]</td>\n",
       "      <td>wow</td>\n",
       "      <td>1644703269</td>\n",
       "      <td>stuart210</td>\n",
       "      <td>0</td>\n",
       "      <td>1</td>\n",
       "      <td>True</td>\n",
       "      <td>finding a gaming partner? [removed]</td>\n",
       "    </tr>\n",
       "    <tr>\n",
       "      <th>2</th>\n",
       "      <td>sound issue, directional hello!\\n\\ni just boug...</td>\n",
       "      <td>Sound issue, directional</td>\n",
       "      <td>Hello!\\n\\nI just bought a new PC and for some ...</td>\n",
       "      <td>wow</td>\n",
       "      <td>1644704336</td>\n",
       "      <td>aNteriorDude</td>\n",
       "      <td>0</td>\n",
       "      <td>1</td>\n",
       "      <td>True</td>\n",
       "      <td>sound issue, directional hello! i just bought ...</td>\n",
       "    </tr>\n",
       "    <tr>\n",
       "      <th>3</th>\n",
       "      <td>is dispelling cc in pvp uncommon knowledge? i ...</td>\n",
       "      <td>Is dispelling CC in PVP uncommon knowledge?</td>\n",
       "      <td>I play arena a lot wouldn't say I'm amazing (m...</td>\n",
       "      <td>wow</td>\n",
       "      <td>1644704385</td>\n",
       "      <td>Mechgyrasaur</td>\n",
       "      <td>0</td>\n",
       "      <td>1</td>\n",
       "      <td>True</td>\n",
       "      <td>is dispelling cc in pvp uncommon knowledge? i ...</td>\n",
       "    </tr>\n",
       "    <tr>\n",
       "      <th>4</th>\n",
       "      <td>nice</td>\n",
       "      <td>NICE</td>\n",
       "      <td></td>\n",
       "      <td>wow</td>\n",
       "      <td>1644704733</td>\n",
       "      <td>Bliztivision</td>\n",
       "      <td>1</td>\n",
       "      <td>1</td>\n",
       "      <td>False</td>\n",
       "      <td>nice</td>\n",
       "    </tr>\n",
       "  </tbody>\n",
       "</table>\n",
       "</div>"
      ],
      "text/plain": [
       "                                  title_and_selftext  \\\n",
       "0  healer main 9.2 returning player and i feel li...   \n",
       "1                finding a gaming partner? [removed]   \n",
       "2  sound issue, directional hello!\\n\\ni just boug...   \n",
       "3  is dispelling cc in pvp uncommon knowledge? i ...   \n",
       "4                                              nice    \n",
       "\n",
       "                                         title  \\\n",
       "0                              Healer main 9.2   \n",
       "1                    Finding a gaming partner?   \n",
       "2                     Sound issue, directional   \n",
       "3  Is dispelling CC in PVP uncommon knowledge?   \n",
       "4                                         NICE   \n",
       "\n",
       "                                            selftext subreddit  created_utc  \\\n",
       "0  Returning player and I feel like it is quite o...       wow   1644701779   \n",
       "1                                          [removed]       wow   1644703269   \n",
       "2  Hello!\\n\\nI just bought a new PC and for some ...       wow   1644704336   \n",
       "3  I play arena a lot wouldn't say I'm amazing (m...       wow   1644704385   \n",
       "4                                                          wow   1644704733   \n",
       "\n",
       "         author  num_comments  score  is_self  \\\n",
       "0       BengtJJ             0      1     True   \n",
       "1     stuart210             0      1     True   \n",
       "2  aNteriorDude             0      1     True   \n",
       "3  Mechgyrasaur             0      1     True   \n",
       "4  Bliztivision             1      1    False   \n",
       "\n",
       "                             filtered_title_selftext  \n",
       "0  healer main 9.2 returning player and i feel li...  \n",
       "1                finding a gaming partner? [removed]  \n",
       "2  sound issue, directional hello! i just bought ...  \n",
       "3  is dispelling cc in pvp uncommon knowledge? i ...  \n",
       "4                                               nice  "
      ]
     },
     "execution_count": 42,
     "metadata": {},
     "output_type": "execute_result"
    }
   ],
   "source": [
    "df.head()"
   ]
  },
  {
   "cell_type": "code",
   "execution_count": null,
   "id": "3bb66ec8-5d7c-4bb6-b23b-1f6d6593b7f7",
   "metadata": {},
   "outputs": [],
   "source": []
  },
  {
   "cell_type": "code",
   "execution_count": 43,
   "id": "21452059-a62a-4c0f-857a-6e7a5bc0e740",
   "metadata": {},
   "outputs": [],
   "source": [
    "# need to make my 'subreddit' column into 1s or 0s to make  my classifcation!\n",
    "# 'wow' == 1\n",
    "# 'lostarkgame' == 0"
   ]
  },
  {
   "cell_type": "code",
   "execution_count": 44,
   "id": "6be54819-8563-4fd2-b286-d5dae9c0bc3f",
   "metadata": {},
   "outputs": [],
   "source": [
    "df['subreddit_class'] = [1 if sub == 'wow' else 0 for sub in df['subreddit']]"
   ]
  },
  {
   "cell_type": "code",
   "execution_count": 45,
   "id": "c3af781a-cf36-4e3b-92f3-79c78979aba0",
   "metadata": {},
   "outputs": [],
   "source": [
    "X = df['filtered_title_selftext']\n",
    "y = df['subreddit_class']\n",
    "\n",
    "X_train, X_test, y_train, y_test = train_test_split(X, y, test_size=0.2, stratify=y, random_state=42)\n"
   ]
  },
  {
   "cell_type": "code",
   "execution_count": 46,
   "id": "92f50524-051e-4a4b-857f-8115ec95166a",
   "metadata": {},
   "outputs": [
    {
     "data": {
      "text/plain": [
       "0       healer main 9.2 returning player and i feel li...\n",
       "1                     finding a gaming partner? [removed]\n",
       "2       sound issue, directional hello! i just bought ...\n",
       "3       is dispelling cc in pvp uncommon knowledge? i ...\n",
       "4                                                    nice\n",
       "                              ...                        \n",
       "1395    can you customize your character appearance po...\n",
       "1396                             eu server popularity map\n",
       "1397    question about revive feather hi guys, i am ju...\n",
       "1398    pve endgame lower grind to endgame build / cas...\n",
       "1399                                                  him\n",
       "Name: filtered_title_selftext, Length: 1386, dtype: object"
      ]
     },
     "execution_count": 46,
     "metadata": {},
     "output_type": "execute_result"
    }
   ],
   "source": [
    "X"
   ]
  },
  {
   "cell_type": "code",
   "execution_count": null,
   "id": "c660ebd2-18f6-4d83-bc10-fa0c28962a28",
   "metadata": {},
   "outputs": [],
   "source": []
  },
  {
   "cell_type": "code",
   "execution_count": 47,
   "id": "30cdbf7b-911d-426b-90ce-705d4de8e273",
   "metadata": {},
   "outputs": [],
   "source": [
    "#Instantiate Countvectorizer \n",
    "#we need to transform our strings into rows and columns of 0s and 1s\n",
    "cvec = CountVectorizer(stop_words='english')\n",
    "  #include the argument stop_words so we dont have to include words that little to no significance  for our analysis"
   ]
  },
  {
   "cell_type": "code",
   "execution_count": 48,
   "id": "3d5e7297-58c9-4f96-8e1b-25a1d6a3bd94",
   "metadata": {},
   "outputs": [
    {
     "data": {
      "text/plain": [
       "CountVectorizer(stop_words='english')"
      ]
     },
     "execution_count": 48,
     "metadata": {},
     "output_type": "execute_result"
    }
   ],
   "source": [
    "#fit the vectorizer onto our corpus\n",
    "cvec.fit(X_train) "
   ]
  },
  {
   "cell_type": "code",
   "execution_count": 49,
   "id": "ee0552a5-f587-4098-94be-9c6977e7d181",
   "metadata": {},
   "outputs": [],
   "source": [
    "#transform the corpus\n",
    "X_train = cvec.transform(X_train)\n",
    "\n",
    "#transform the test\n",
    "X_test = cvec.transform(X_test)\n",
    "#in the fit it LEARNS the data.. dont want to learn against UNSEEN data!\n",
    "#you dont fit on X_Test bec you will get data leakage..."
   ]
  },
  {
   "cell_type": "code",
   "execution_count": 50,
   "id": "61b15739-1bac-430c-b190-7895e82e3876",
   "metadata": {},
   "outputs": [
    {
     "data": {
      "text/plain": [
       "matrix([[0, 0, 0, ..., 0, 0, 0],\n",
       "        [0, 0, 0, ..., 0, 0, 0],\n",
       "        [0, 0, 0, ..., 0, 0, 0],\n",
       "        ...,\n",
       "        [0, 0, 0, ..., 0, 0, 0],\n",
       "        [0, 0, 0, ..., 0, 0, 0],\n",
       "        [0, 0, 0, ..., 0, 0, 0]], dtype=int64)"
      ]
     },
     "execution_count": 50,
     "metadata": {},
     "output_type": "execute_result"
    }
   ],
   "source": [
    "X_train.todense()  #denser representation of our sparse matrix!"
   ]
  },
  {
   "cell_type": "code",
   "execution_count": 51,
   "id": "abc0cc27-b92e-4b59-a5d8-1e806a8dab2c",
   "metadata": {},
   "outputs": [
    {
     "data": {
      "text/html": [
       "<div>\n",
       "<style scoped>\n",
       "    .dataframe tbody tr th:only-of-type {\n",
       "        vertical-align: middle;\n",
       "    }\n",
       "\n",
       "    .dataframe tbody tr th {\n",
       "        vertical-align: top;\n",
       "    }\n",
       "\n",
       "    .dataframe thead th {\n",
       "        text-align: right;\n",
       "    }\n",
       "</style>\n",
       "<table border=\"1\" class=\"dataframe\">\n",
       "  <thead>\n",
       "    <tr style=\"text-align: right;\">\n",
       "      <th></th>\n",
       "      <th>000</th>\n",
       "      <th>000g</th>\n",
       "      <th>01</th>\n",
       "      <th>02</th>\n",
       "      <th>03</th>\n",
       "      <th>08</th>\n",
       "      <th>0behgedjomh81</th>\n",
       "      <th>10</th>\n",
       "      <th>100</th>\n",
       "      <th>1000</th>\n",
       "      <th>...</th>\n",
       "      <th>zio</th>\n",
       "      <th>zone</th>\n",
       "      <th>zones</th>\n",
       "      <th>zovaal</th>\n",
       "      <th>ztroll</th>\n",
       "      <th>zuljin</th>\n",
       "      <th>дринта</th>\n",
       "      <th>금강선</th>\n",
       "      <th>버서커</th>\n",
       "      <th>잼민</th>\n",
       "    </tr>\n",
       "  </thead>\n",
       "  <tbody>\n",
       "    <tr>\n",
       "      <th>0</th>\n",
       "      <td>0</td>\n",
       "      <td>0</td>\n",
       "      <td>0</td>\n",
       "      <td>0</td>\n",
       "      <td>0</td>\n",
       "      <td>0</td>\n",
       "      <td>0</td>\n",
       "      <td>0</td>\n",
       "      <td>0</td>\n",
       "      <td>0</td>\n",
       "      <td>...</td>\n",
       "      <td>0</td>\n",
       "      <td>0</td>\n",
       "      <td>0</td>\n",
       "      <td>0</td>\n",
       "      <td>0</td>\n",
       "      <td>0</td>\n",
       "      <td>0</td>\n",
       "      <td>0</td>\n",
       "      <td>0</td>\n",
       "      <td>0</td>\n",
       "    </tr>\n",
       "    <tr>\n",
       "      <th>1</th>\n",
       "      <td>0</td>\n",
       "      <td>0</td>\n",
       "      <td>0</td>\n",
       "      <td>0</td>\n",
       "      <td>0</td>\n",
       "      <td>0</td>\n",
       "      <td>0</td>\n",
       "      <td>0</td>\n",
       "      <td>0</td>\n",
       "      <td>0</td>\n",
       "      <td>...</td>\n",
       "      <td>0</td>\n",
       "      <td>0</td>\n",
       "      <td>0</td>\n",
       "      <td>0</td>\n",
       "      <td>0</td>\n",
       "      <td>0</td>\n",
       "      <td>0</td>\n",
       "      <td>0</td>\n",
       "      <td>0</td>\n",
       "      <td>0</td>\n",
       "    </tr>\n",
       "    <tr>\n",
       "      <th>2</th>\n",
       "      <td>0</td>\n",
       "      <td>0</td>\n",
       "      <td>0</td>\n",
       "      <td>0</td>\n",
       "      <td>0</td>\n",
       "      <td>0</td>\n",
       "      <td>0</td>\n",
       "      <td>0</td>\n",
       "      <td>0</td>\n",
       "      <td>0</td>\n",
       "      <td>...</td>\n",
       "      <td>0</td>\n",
       "      <td>0</td>\n",
       "      <td>0</td>\n",
       "      <td>0</td>\n",
       "      <td>0</td>\n",
       "      <td>0</td>\n",
       "      <td>0</td>\n",
       "      <td>0</td>\n",
       "      <td>0</td>\n",
       "      <td>0</td>\n",
       "    </tr>\n",
       "    <tr>\n",
       "      <th>3</th>\n",
       "      <td>0</td>\n",
       "      <td>0</td>\n",
       "      <td>0</td>\n",
       "      <td>0</td>\n",
       "      <td>0</td>\n",
       "      <td>0</td>\n",
       "      <td>0</td>\n",
       "      <td>0</td>\n",
       "      <td>0</td>\n",
       "      <td>0</td>\n",
       "      <td>...</td>\n",
       "      <td>0</td>\n",
       "      <td>0</td>\n",
       "      <td>0</td>\n",
       "      <td>0</td>\n",
       "      <td>0</td>\n",
       "      <td>0</td>\n",
       "      <td>0</td>\n",
       "      <td>0</td>\n",
       "      <td>0</td>\n",
       "      <td>0</td>\n",
       "    </tr>\n",
       "    <tr>\n",
       "      <th>4</th>\n",
       "      <td>0</td>\n",
       "      <td>0</td>\n",
       "      <td>0</td>\n",
       "      <td>0</td>\n",
       "      <td>0</td>\n",
       "      <td>0</td>\n",
       "      <td>0</td>\n",
       "      <td>0</td>\n",
       "      <td>0</td>\n",
       "      <td>0</td>\n",
       "      <td>...</td>\n",
       "      <td>0</td>\n",
       "      <td>0</td>\n",
       "      <td>0</td>\n",
       "      <td>0</td>\n",
       "      <td>0</td>\n",
       "      <td>0</td>\n",
       "      <td>0</td>\n",
       "      <td>0</td>\n",
       "      <td>0</td>\n",
       "      <td>0</td>\n",
       "    </tr>\n",
       "  </tbody>\n",
       "</table>\n",
       "<p>5 rows × 5592 columns</p>\n",
       "</div>"
      ],
      "text/plain": [
       "   000  000g  01  02  03  08  0behgedjomh81  10  100  1000  ...  zio  zone  \\\n",
       "0    0     0   0   0   0   0              0   0    0     0  ...    0     0   \n",
       "1    0     0   0   0   0   0              0   0    0     0  ...    0     0   \n",
       "2    0     0   0   0   0   0              0   0    0     0  ...    0     0   \n",
       "3    0     0   0   0   0   0              0   0    0     0  ...    0     0   \n",
       "4    0     0   0   0   0   0              0   0    0     0  ...    0     0   \n",
       "\n",
       "   zones  zovaal  ztroll  zuljin  дринта  금강선  버서커  잼민  \n",
       "0      0       0       0       0       0    0    0   0  \n",
       "1      0       0       0       0       0    0    0   0  \n",
       "2      0       0       0       0       0    0    0   0  \n",
       "3      0       0       0       0       0    0    0   0  \n",
       "4      0       0       0       0       0    0    0   0  \n",
       "\n",
       "[5 rows x 5592 columns]"
      ]
     },
     "execution_count": 51,
     "metadata": {},
     "output_type": "execute_result"
    }
   ],
   "source": [
    "#Convert X_train to a dataframe\n",
    "\n",
    "X_train_df = pd.DataFrame(X_train.todense(), columns=cvec.get_feature_names_out())\n",
    "\n",
    "X_train_df.head()"
   ]
  },
  {
   "cell_type": "code",
   "execution_count": 52,
   "id": "9842e3d9-3ab9-4f44-9299-45fc3ff72154",
   "metadata": {},
   "outputs": [],
   "source": [
    "X_train_df['subreddit_class'] = y_train.values"
   ]
  },
  {
   "cell_type": "code",
   "execution_count": 53,
   "id": "b8920cce-29c1-4fe1-83a7-81955979a989",
   "metadata": {},
   "outputs": [
    {
     "data": {
      "text/html": [
       "<div>\n",
       "<style scoped>\n",
       "    .dataframe tbody tr th:only-of-type {\n",
       "        vertical-align: middle;\n",
       "    }\n",
       "\n",
       "    .dataframe tbody tr th {\n",
       "        vertical-align: top;\n",
       "    }\n",
       "\n",
       "    .dataframe thead th {\n",
       "        text-align: right;\n",
       "    }\n",
       "</style>\n",
       "<table border=\"1\" class=\"dataframe\">\n",
       "  <thead>\n",
       "    <tr style=\"text-align: right;\">\n",
       "      <th></th>\n",
       "      <th>000</th>\n",
       "      <th>000g</th>\n",
       "      <th>01</th>\n",
       "      <th>02</th>\n",
       "      <th>03</th>\n",
       "      <th>08</th>\n",
       "      <th>0behgedjomh81</th>\n",
       "      <th>10</th>\n",
       "      <th>100</th>\n",
       "      <th>1000</th>\n",
       "      <th>...</th>\n",
       "      <th>zone</th>\n",
       "      <th>zones</th>\n",
       "      <th>zovaal</th>\n",
       "      <th>ztroll</th>\n",
       "      <th>zuljin</th>\n",
       "      <th>дринта</th>\n",
       "      <th>금강선</th>\n",
       "      <th>버서커</th>\n",
       "      <th>잼민</th>\n",
       "      <th>subreddit_class</th>\n",
       "    </tr>\n",
       "  </thead>\n",
       "  <tbody>\n",
       "    <tr>\n",
       "      <th>0</th>\n",
       "      <td>0</td>\n",
       "      <td>0</td>\n",
       "      <td>0</td>\n",
       "      <td>0</td>\n",
       "      <td>0</td>\n",
       "      <td>0</td>\n",
       "      <td>0</td>\n",
       "      <td>0</td>\n",
       "      <td>0</td>\n",
       "      <td>0</td>\n",
       "      <td>...</td>\n",
       "      <td>0</td>\n",
       "      <td>0</td>\n",
       "      <td>0</td>\n",
       "      <td>0</td>\n",
       "      <td>0</td>\n",
       "      <td>0</td>\n",
       "      <td>0</td>\n",
       "      <td>0</td>\n",
       "      <td>0</td>\n",
       "      <td>1</td>\n",
       "    </tr>\n",
       "    <tr>\n",
       "      <th>1</th>\n",
       "      <td>0</td>\n",
       "      <td>0</td>\n",
       "      <td>0</td>\n",
       "      <td>0</td>\n",
       "      <td>0</td>\n",
       "      <td>0</td>\n",
       "      <td>0</td>\n",
       "      <td>0</td>\n",
       "      <td>0</td>\n",
       "      <td>0</td>\n",
       "      <td>...</td>\n",
       "      <td>0</td>\n",
       "      <td>0</td>\n",
       "      <td>0</td>\n",
       "      <td>0</td>\n",
       "      <td>0</td>\n",
       "      <td>0</td>\n",
       "      <td>0</td>\n",
       "      <td>0</td>\n",
       "      <td>0</td>\n",
       "      <td>0</td>\n",
       "    </tr>\n",
       "    <tr>\n",
       "      <th>2</th>\n",
       "      <td>0</td>\n",
       "      <td>0</td>\n",
       "      <td>0</td>\n",
       "      <td>0</td>\n",
       "      <td>0</td>\n",
       "      <td>0</td>\n",
       "      <td>0</td>\n",
       "      <td>0</td>\n",
       "      <td>0</td>\n",
       "      <td>0</td>\n",
       "      <td>...</td>\n",
       "      <td>0</td>\n",
       "      <td>0</td>\n",
       "      <td>0</td>\n",
       "      <td>0</td>\n",
       "      <td>0</td>\n",
       "      <td>0</td>\n",
       "      <td>0</td>\n",
       "      <td>0</td>\n",
       "      <td>0</td>\n",
       "      <td>0</td>\n",
       "    </tr>\n",
       "    <tr>\n",
       "      <th>3</th>\n",
       "      <td>0</td>\n",
       "      <td>0</td>\n",
       "      <td>0</td>\n",
       "      <td>0</td>\n",
       "      <td>0</td>\n",
       "      <td>0</td>\n",
       "      <td>0</td>\n",
       "      <td>0</td>\n",
       "      <td>0</td>\n",
       "      <td>0</td>\n",
       "      <td>...</td>\n",
       "      <td>0</td>\n",
       "      <td>0</td>\n",
       "      <td>0</td>\n",
       "      <td>0</td>\n",
       "      <td>0</td>\n",
       "      <td>0</td>\n",
       "      <td>0</td>\n",
       "      <td>0</td>\n",
       "      <td>0</td>\n",
       "      <td>0</td>\n",
       "    </tr>\n",
       "    <tr>\n",
       "      <th>4</th>\n",
       "      <td>0</td>\n",
       "      <td>0</td>\n",
       "      <td>0</td>\n",
       "      <td>0</td>\n",
       "      <td>0</td>\n",
       "      <td>0</td>\n",
       "      <td>0</td>\n",
       "      <td>0</td>\n",
       "      <td>0</td>\n",
       "      <td>0</td>\n",
       "      <td>...</td>\n",
       "      <td>0</td>\n",
       "      <td>0</td>\n",
       "      <td>0</td>\n",
       "      <td>0</td>\n",
       "      <td>0</td>\n",
       "      <td>0</td>\n",
       "      <td>0</td>\n",
       "      <td>0</td>\n",
       "      <td>0</td>\n",
       "      <td>0</td>\n",
       "    </tr>\n",
       "  </tbody>\n",
       "</table>\n",
       "<p>5 rows × 5593 columns</p>\n",
       "</div>"
      ],
      "text/plain": [
       "   000  000g  01  02  03  08  0behgedjomh81  10  100  1000  ...  zone  zones  \\\n",
       "0    0     0   0   0   0   0              0   0    0     0  ...     0      0   \n",
       "1    0     0   0   0   0   0              0   0    0     0  ...     0      0   \n",
       "2    0     0   0   0   0   0              0   0    0     0  ...     0      0   \n",
       "3    0     0   0   0   0   0              0   0    0     0  ...     0      0   \n",
       "4    0     0   0   0   0   0              0   0    0     0  ...     0      0   \n",
       "\n",
       "   zovaal  ztroll  zuljin  дринта  금강선  버서커  잼민  subreddit_class  \n",
       "0       0       0       0       0    0    0   0                1  \n",
       "1       0       0       0       0    0    0   0                0  \n",
       "2       0       0       0       0    0    0   0                0  \n",
       "3       0       0       0       0    0    0   0                0  \n",
       "4       0       0       0       0    0    0   0                0  \n",
       "\n",
       "[5 rows x 5593 columns]"
      ]
     },
     "execution_count": 53,
     "metadata": {},
     "output_type": "execute_result"
    }
   ],
   "source": [
    "X_train_df.head()"
   ]
  },
  {
   "cell_type": "code",
   "execution_count": 54,
   "id": "661da88d-9b53-4d0a-bde0-d6a33789bfd5",
   "metadata": {},
   "outputs": [
    {
     "data": {
      "image/png": "[encoded data removed]",
      "text/plain": [
       "<Figure size 720x720 with 1 Axes>"
      ]
     },
     "metadata": {
      "needs_background": "light"
     },
     "output_type": "display_data"
    }
   ],
   "source": [
    "plt.figure(figsize=(10,10))\n",
    "X_train_df.drop(columns='subreddit_class').sum().sort_values(ascending=False)[:20].plot(kind='barh')\n",
    "plt.title('Most Common Words in the Dataset (Top 20)', size= 18);"
   ]
  },
  {
   "cell_type": "code",
   "execution_count": null,
   "id": "ee6a94b1-1d19-4a2f-b5f9-d3eb7090cfb2",
   "metadata": {},
   "outputs": [],
   "source": []
  },
  {
   "cell_type": "code",
   "execution_count": 55,
   "id": "96e7d828-832a-477d-b7cf-e636ddeab641",
   "metadata": {},
   "outputs": [],
   "source": [
    "#I want to capture the index of the top 20 columns of the words that appear the most.. I want to later cross reference them in the subreddits individually\n",
    "#I want to also make a top 20 list taking these words for the suibreddit individually\n",
    "top_20_overall = X_train_df.drop(columns='subreddit_class').sum().sort_values(ascending=False).index[:20].to_list()"
   ]
  },
  {
   "cell_type": "code",
   "execution_count": 56,
   "id": "d1ac5b20-9393-4aa0-ad55-249fc32e57d8",
   "metadata": {},
   "outputs": [
    {
     "data": {
      "text/plain": [
       "['game',\n",
       " 'like',\n",
       " 'just',\n",
       " 'play',\n",
       " 'wa',\n",
       " 'im',\n",
       " 'class',\n",
       " 'server',\n",
       " 'wow',\n",
       " 'know',\n",
       " 'want',\n",
       " 'player',\n",
       " 'time',\n",
       " 'lost',\n",
       " 'new',\n",
       " 'ark',\n",
       " 'ha',\n",
       " 'dont',\n",
       " 'removed',\n",
       " 'character']"
      ]
     },
     "execution_count": 56,
     "metadata": {},
     "output_type": "execute_result"
    }
   ],
   "source": [
    "top_20_overall"
   ]
  },
  {
   "cell_type": "code",
   "execution_count": null,
   "id": "ccb6a6da-ec2f-428b-a018-49b79d001a6e",
   "metadata": {},
   "outputs": [],
   "source": []
  },
  {
   "cell_type": "code",
   "execution_count": 57,
   "id": "5b88858b-f4e5-43a9-8f48-c9f2cba46849",
   "metadata": {},
   "outputs": [
    {
     "data": {
      "image/png": "[encoded data removed]",
      "text/plain": [
       "<Figure size 720x720 with 1 Axes>"
      ]
     },
     "metadata": {
      "needs_background": "light"
     },
     "output_type": "display_data"
    }
   ],
   "source": [
    "plt.figure(figsize=(10,10))\n",
    "X_wow = X_train_df[X_train_df['subreddit_class'] == 1]\n",
    "X_wow.drop(columns='subreddit_class').sum().sort_values(ascending=False)[:25].plot(kind='barh')\n",
    "plt.title('Most Common Words WoW Subreddit (Top 25)', size= 18);"
   ]
  },
  {
   "cell_type": "code",
   "execution_count": 58,
   "id": "75606e2d-21d9-4928-9b44-3a5c2b5752b8",
   "metadata": {},
   "outputs": [
    {
     "data": {
      "image/png": "[encoded data removed]",
      "text/plain": [
       "<Figure size 720x720 with 1 Axes>"
      ]
     },
     "metadata": {
      "needs_background": "light"
     },
     "output_type": "display_data"
    }
   ],
   "source": [
    "#Cross filtering the top 20 from overall!\n",
    "X_wow = X_train_df[X_train_df['subreddit_class'] == 1]\n",
    "\n",
    "plt.figure(figsize=(10,10))\n",
    "X_wow.drop(columns=top_20_overall).sum().sort_values(ascending=False)[:25].plot(kind='barh')\n",
    "plt.title('CROSS-FILTERED Most Common Words WoW Subreddit (Top 25)', size= 18);"
   ]
  },
  {
   "cell_type": "code",
   "execution_count": 59,
   "id": "5baf2241-b2e9-4fae-ad92-98fb3e9a2dff",
   "metadata": {},
   "outputs": [
    {
     "data": {
      "image/png": "[encoded data removed]",
      "text/plain": [
       "<Figure size 720x720 with 1 Axes>"
      ]
     },
     "metadata": {
      "needs_background": "light"
     },
     "output_type": "display_data"
    }
   ],
   "source": [
    "X_ark = X_train_df[X_train_df['subreddit_class'] == 0]\n",
    "plt.figure(figsize=(10,10))\n",
    "X_ark.drop(columns='subreddit_class').sum().sort_values(ascending=False)[:25].plot(kind='barh')\n",
    "plt.title('Most Common Words Lost Ark Subreddit (Top 25)', size= 18);"
   ]
  },
  {
   "cell_type": "code",
   "execution_count": 60,
   "id": "30dc59da-aeb5-42ce-9aa0-0bc5c55df93f",
   "metadata": {},
   "outputs": [
    {
     "data": {
      "image/png": "[encoded data removed]",
      "text/plain": [
       "<Figure size 720x720 with 1 Axes>"
      ]
     },
     "metadata": {
      "needs_background": "light"
     },
     "output_type": "display_data"
    }
   ],
   "source": [
    "X_ark = X_train_df[X_train_df['subreddit_class'] == 0]\n",
    "\n",
    "plt.figure(figsize=(10,10))\n",
    "X_ark.drop(columns=top_20_overall).sum().sort_values(ascending=False)[:25].plot(kind='barh')\n",
    "plt.title('CROSS-FILTERED Most Common Words Lost Ark Subreddit (Top 25)', size= 18);"
   ]
  },
  {
   "cell_type": "code",
   "execution_count": null,
   "id": "1d44b7ea-dee7-4316-821c-dfec9d5fafc5",
   "metadata": {},
   "outputs": [],
   "source": []
  },
  {
   "cell_type": "markdown",
   "id": "f3a88cd6-5050-451b-9665-5d3df5a46046",
   "metadata": {},
   "source": [
    "### Common Bigrams"
   ]
  },
  {
   "cell_type": "code",
   "execution_count": 61,
   "id": "63c0316f-e2c8-4182-9f41-7f916b97a3e9",
   "metadata": {},
   "outputs": [],
   "source": [
    "cvec2 = CountVectorizer(stop_words='english', ngram_range=(2,2))\n",
    "\n",
    "X_train2, X_test2, y_train2, y_test2 = train_test_split(X, y, test_size=.2, stratify=y, random_state=42)\n",
    "\n",
    "#fit the vectorizer of our corpus\n",
    "cvec2.fit(X_train2)\n",
    "#transform it:\n",
    "X_train2 = cvec2.transform(X_train2)\n",
    "\n",
    "#transform test set\n",
    "X_test2 = cvec2.transform(X_test2)"
   ]
  },
  {
   "cell_type": "code",
   "execution_count": 62,
   "id": "d4baf448-b5d5-451e-9c52-22d90ae06801",
   "metadata": {},
   "outputs": [
    {
     "data": {
      "text/html": [
       "<div>\n",
       "<style scoped>\n",
       "    .dataframe tbody tr th:only-of-type {\n",
       "        vertical-align: middle;\n",
       "    }\n",
       "\n",
       "    .dataframe tbody tr th {\n",
       "        vertical-align: top;\n",
       "    }\n",
       "\n",
       "    .dataframe thead th {\n",
       "        text-align: right;\n",
       "    }\n",
       "</style>\n",
       "<table border=\"1\" class=\"dataframe\">\n",
       "  <thead>\n",
       "    <tr style=\"text-align: right;\">\n",
       "      <th></th>\n",
       "      <th>000 different</th>\n",
       "      <th>000 item</th>\n",
       "      <th>000g transfer</th>\n",
       "      <th>01 accumulate</th>\n",
       "      <th>02 08</th>\n",
       "      <th>03 01</th>\n",
       "      <th>08 03</th>\n",
       "      <th>08 chance</th>\n",
       "      <th>10 10</th>\n",
       "      <th>10 15</th>\n",
       "      <th>...</th>\n",
       "      <th>zone zone</th>\n",
       "      <th>zones appropriate</th>\n",
       "      <th>zones hi</th>\n",
       "      <th>zones outlands</th>\n",
       "      <th>zovaal sylvanas</th>\n",
       "      <th>ztroll share</th>\n",
       "      <th>zuljin joined</th>\n",
       "      <th>금강선 chosen</th>\n",
       "      <th>버서커 share</th>\n",
       "      <th>잼민 버서커</th>\n",
       "    </tr>\n",
       "  </thead>\n",
       "  <tbody>\n",
       "    <tr>\n",
       "      <th>0</th>\n",
       "      <td>0</td>\n",
       "      <td>0</td>\n",
       "      <td>0</td>\n",
       "      <td>0</td>\n",
       "      <td>0</td>\n",
       "      <td>0</td>\n",
       "      <td>0</td>\n",
       "      <td>0</td>\n",
       "      <td>0</td>\n",
       "      <td>0</td>\n",
       "      <td>...</td>\n",
       "      <td>0</td>\n",
       "      <td>0</td>\n",
       "      <td>0</td>\n",
       "      <td>0</td>\n",
       "      <td>0</td>\n",
       "      <td>0</td>\n",
       "      <td>0</td>\n",
       "      <td>0</td>\n",
       "      <td>0</td>\n",
       "      <td>0</td>\n",
       "    </tr>\n",
       "    <tr>\n",
       "      <th>1</th>\n",
       "      <td>0</td>\n",
       "      <td>0</td>\n",
       "      <td>0</td>\n",
       "      <td>0</td>\n",
       "      <td>0</td>\n",
       "      <td>0</td>\n",
       "      <td>0</td>\n",
       "      <td>0</td>\n",
       "      <td>0</td>\n",
       "      <td>0</td>\n",
       "      <td>...</td>\n",
       "      <td>0</td>\n",
       "      <td>0</td>\n",
       "      <td>0</td>\n",
       "      <td>0</td>\n",
       "      <td>0</td>\n",
       "      <td>0</td>\n",
       "      <td>0</td>\n",
       "      <td>0</td>\n",
       "      <td>0</td>\n",
       "      <td>0</td>\n",
       "    </tr>\n",
       "    <tr>\n",
       "      <th>2</th>\n",
       "      <td>0</td>\n",
       "      <td>0</td>\n",
       "      <td>0</td>\n",
       "      <td>0</td>\n",
       "      <td>0</td>\n",
       "      <td>0</td>\n",
       "      <td>0</td>\n",
       "      <td>0</td>\n",
       "      <td>0</td>\n",
       "      <td>0</td>\n",
       "      <td>...</td>\n",
       "      <td>0</td>\n",
       "      <td>0</td>\n",
       "      <td>0</td>\n",
       "      <td>0</td>\n",
       "      <td>0</td>\n",
       "      <td>0</td>\n",
       "      <td>0</td>\n",
       "      <td>0</td>\n",
       "      <td>0</td>\n",
       "      <td>0</td>\n",
       "    </tr>\n",
       "    <tr>\n",
       "      <th>3</th>\n",
       "      <td>0</td>\n",
       "      <td>0</td>\n",
       "      <td>0</td>\n",
       "      <td>0</td>\n",
       "      <td>0</td>\n",
       "      <td>0</td>\n",
       "      <td>0</td>\n",
       "      <td>0</td>\n",
       "      <td>0</td>\n",
       "      <td>0</td>\n",
       "      <td>...</td>\n",
       "      <td>0</td>\n",
       "      <td>0</td>\n",
       "      <td>0</td>\n",
       "      <td>0</td>\n",
       "      <td>0</td>\n",
       "      <td>0</td>\n",
       "      <td>0</td>\n",
       "      <td>0</td>\n",
       "      <td>0</td>\n",
       "      <td>0</td>\n",
       "    </tr>\n",
       "    <tr>\n",
       "      <th>4</th>\n",
       "      <td>0</td>\n",
       "      <td>0</td>\n",
       "      <td>0</td>\n",
       "      <td>0</td>\n",
       "      <td>0</td>\n",
       "      <td>0</td>\n",
       "      <td>0</td>\n",
       "      <td>0</td>\n",
       "      <td>0</td>\n",
       "      <td>0</td>\n",
       "      <td>...</td>\n",
       "      <td>0</td>\n",
       "      <td>0</td>\n",
       "      <td>0</td>\n",
       "      <td>0</td>\n",
       "      <td>0</td>\n",
       "      <td>0</td>\n",
       "      <td>0</td>\n",
       "      <td>0</td>\n",
       "      <td>0</td>\n",
       "      <td>0</td>\n",
       "    </tr>\n",
       "  </tbody>\n",
       "</table>\n",
       "<p>5 rows × 23992 columns</p>\n",
       "</div>"
      ],
      "text/plain": [
       "   000 different  000 item  000g transfer  01 accumulate  02 08  03 01  08 03  \\\n",
       "0              0         0              0              0      0      0      0   \n",
       "1              0         0              0              0      0      0      0   \n",
       "2              0         0              0              0      0      0      0   \n",
       "3              0         0              0              0      0      0      0   \n",
       "4              0         0              0              0      0      0      0   \n",
       "\n",
       "   08 chance  10 10  10 15  ...  zone zone  zones appropriate  zones hi  \\\n",
       "0          0      0      0  ...          0                  0         0   \n",
       "1          0      0      0  ...          0                  0         0   \n",
       "2          0      0      0  ...          0                  0         0   \n",
       "3          0      0      0  ...          0                  0         0   \n",
       "4          0      0      0  ...          0                  0         0   \n",
       "\n",
       "   zones outlands  zovaal sylvanas  ztroll share  zuljin joined  금강선 chosen  \\\n",
       "0               0                0             0              0           0   \n",
       "1               0                0             0              0           0   \n",
       "2               0                0             0              0           0   \n",
       "3               0                0             0              0           0   \n",
       "4               0                0             0              0           0   \n",
       "\n",
       "   버서커 share  잼민 버서커  \n",
       "0          0       0  \n",
       "1          0       0  \n",
       "2          0       0  \n",
       "3          0       0  \n",
       "4          0       0  \n",
       "\n",
       "[5 rows x 23992 columns]"
      ]
     },
     "execution_count": 62,
     "metadata": {},
     "output_type": "execute_result"
    }
   ],
   "source": [
    "X_train_df2 = pd.DataFrame(X_train2.todense(), columns=cvec2.get_feature_names_out())\n",
    "\n",
    "X_train_df2.head()"
   ]
  },
  {
   "cell_type": "code",
   "execution_count": 63,
   "id": "b79a7f97-4910-49aa-994d-2be17ec52448",
   "metadata": {},
   "outputs": [],
   "source": [
    "X_train_df2['subreddit_class'] = y_train2.values"
   ]
  },
  {
   "cell_type": "code",
   "execution_count": 64,
   "id": "c8266d82-ef8f-4384-8f8f-1dcb3eba1578",
   "metadata": {},
   "outputs": [
    {
     "data": {
      "text/plain": [
       "subreddit_class    555\n",
       "lost ark           144\n",
       "founder pack        35\n",
       "new player          31\n",
       "feel like           30\n",
       "cross faction       30\n",
       "dont know           28\n",
       "play game           22\n",
       "dont want           22\n",
       "want play           22\n",
       "im sure             19\n",
       "look like           17\n",
       "just wondering      16\n",
       "able play           16\n",
       "world warcraft      15\n",
       "dtype: int64"
      ]
     },
     "execution_count": 64,
     "metadata": {},
     "output_type": "execute_result"
    }
   ],
   "source": [
    "X_train_df2.sum().sort_values(ascending=False)[:15]"
   ]
  },
  {
   "cell_type": "code",
   "execution_count": 65,
   "id": "700c78e4-7f83-413b-bba8-3e2b989c837e",
   "metadata": {},
   "outputs": [
    {
     "data": {
      "image/png": "[encoded data removed]",
      "text/plain": [
       "<Figure size 720x720 with 1 Axes>"
      ]
     },
     "metadata": {
      "needs_background": "light"
     },
     "output_type": "display_data"
    }
   ],
   "source": [
    "plt.figure(figsize=(10,10))\n",
    "X_train_df2.drop(columns='subreddit_class').sum().sort_values(ascending=False)[:20].plot(kind='barh')\n",
    "plt.title('Most Common Bigrams in the Dataset (Top 20)', size= 18);"
   ]
  },
  {
   "cell_type": "code",
   "execution_count": 66,
   "id": "ead3a206-5425-4d73-8ff5-04722650bd86",
   "metadata": {},
   "outputs": [],
   "source": [
    "#I want to capture the index of the top 20 columns of the words that appear the most.. I want to later cross reference them in the subreddits individually\n",
    "#I want to also make a top 20 list taking these words for the suibreddit individually\n",
    "top_20_bigram = X_train_df2.drop(columns='subreddit_class').sum().sort_values(ascending=False).index[:20].to_list()"
   ]
  },
  {
   "cell_type": "code",
   "execution_count": 67,
   "id": "51895d9b-b42a-4aa0-9154-ca7725a9d2f5",
   "metadata": {},
   "outputs": [
    {
     "data": {
      "text/plain": [
       "['lost ark',\n",
       " 'founder pack',\n",
       " 'new player',\n",
       " 'cross faction',\n",
       " 'feel like',\n",
       " 'dont know',\n",
       " 'want play',\n",
       " 'dont want',\n",
       " 'play game',\n",
       " 'im sure',\n",
       " 'look like',\n",
       " 'able play',\n",
       " 'just wondering',\n",
       " 'doe know',\n",
       " 'world warcraft',\n",
       " 'wa wondering',\n",
       " 'level 50',\n",
       " 'just want',\n",
       " 'trade chat',\n",
       " 'auction house']"
      ]
     },
     "execution_count": 67,
     "metadata": {},
     "output_type": "execute_result"
    }
   ],
   "source": [
    "top_20_bigram"
   ]
  },
  {
   "cell_type": "code",
   "execution_count": 68,
   "id": "3ac8325c-7812-4f73-970d-b12f21925d70",
   "metadata": {},
   "outputs": [],
   "source": [
    "top_20_bigram.append('subreddit_class')  #add this so we dont see it.. its just our classification label"
   ]
  },
  {
   "cell_type": "code",
   "execution_count": 69,
   "id": "0ce75b40-3c15-4390-855c-0eb84f388a2c",
   "metadata": {},
   "outputs": [
    {
     "data": {
      "image/png": "[encoded data removed]",
      "text/plain": [
       "<Figure size 720x720 with 1 Axes>"
      ]
     },
     "metadata": {
      "needs_background": "light"
     },
     "output_type": "display_data"
    }
   ],
   "source": [
    "#top bigrams of wow subreddit\n",
    "\n",
    "plt.figure(figsize=(10,10))\n",
    "X_train_df2.loc[X_train_df2['subreddit_class'] == 1,].drop(columns=top_20_bigram).sum().sort_values(ascending=False)[:20].plot(kind='barh')\n",
    "plt.title('Cross-Filtered: Most Common Bigrams in the WoW Subreddit (Top 20)', size= 18);"
   ]
  },
  {
   "cell_type": "code",
   "execution_count": 70,
   "id": "721089c2-6dae-49af-b958-1cdd3730a2b1",
   "metadata": {},
   "outputs": [
    {
     "data": {
      "image/png": "[encoded data removed]",
      "text/plain": [
       "<Figure size 720x720 with 1 Axes>"
      ]
     },
     "metadata": {
      "needs_background": "light"
     },
     "output_type": "display_data"
    }
   ],
   "source": [
    "plt.figure(figsize=(10,10))\n",
    "X_train_df2.loc[X_train_df2['subreddit_class'] == 1,].drop(columns='subreddit_class').sum().sort_values(ascending=False)[:20].plot(kind='barh')\n",
    "plt.title('Most Common Bigrams in the WoW Subreddit (Top 20)', size= 18);"
   ]
  },
  {
   "cell_type": "code",
   "execution_count": null,
   "id": "9758df67-bb11-424c-bf3d-f55d14043ae1",
   "metadata": {},
   "outputs": [],
   "source": []
  },
  {
   "cell_type": "code",
   "execution_count": 71,
   "id": "aa6057c6-68fa-4391-b690-f172e4882274",
   "metadata": {},
   "outputs": [
    {
     "data": {
      "image/png": "[encoded data removed]",
      "text/plain": [
       "<Figure size 720x720 with 1 Axes>"
      ]
     },
     "metadata": {
      "needs_background": "light"
     },
     "output_type": "display_data"
    }
   ],
   "source": [
    "#top bigrams of lostarrk subreddit\n",
    "\n",
    "plt.figure(figsize=(10,10))\n",
    "X_train_df2.loc[X_train_df2['subreddit_class'] == 0,].drop(columns=top_20_bigram).sum().sort_values(ascending=False)[:20].plot(kind='barh')\n",
    "plt.title('Cross-Filtered: Most Common Bigrams in the Lost Ark Subreddit (Top 20)', size= 18);\n"
   ]
  },
  {
   "cell_type": "code",
   "execution_count": 72,
   "id": "cf8a672a-6a33-4236-88e1-59f3cded4120",
   "metadata": {},
   "outputs": [
    {
     "data": {
      "image/png": "[encoded data removed]",
      "text/plain": [
       "<Figure size 720x720 with 1 Axes>"
      ]
     },
     "metadata": {
      "needs_background": "light"
     },
     "output_type": "display_data"
    }
   ],
   "source": [
    "plt.figure(figsize=(10,10))\n",
    "X_train_df2.loc[X_train_df2['subreddit_class'] == 0,].drop(columns='subreddit_class').sum().sort_values(ascending=False)[:20].plot(kind='barh')\n",
    "plt.title('Most Common Bigrams in the Lost Ark Subreddit (Top 20)', size= 18);\n"
   ]
  },
  {
   "cell_type": "code",
   "execution_count": null,
   "id": "79073d2e-c2f3-484e-83d3-0d5bf0c74ca0",
   "metadata": {},
   "outputs": [],
   "source": []
  },
  {
   "cell_type": "code",
   "execution_count": null,
   "id": "03cad998-782c-4092-bfd1-a7168c082c7c",
   "metadata": {},
   "outputs": [],
   "source": []
  },
  {
   "cell_type": "markdown",
   "id": "6e88b244-624f-45da-a921-9000ee079f1a",
   "metadata": {},
   "source": [
    "## Sentiment Analysis: Machine can learn feelings?"
   ]
  },
  {
   "cell_type": "code",
   "execution_count": 73,
   "id": "648b946d-0c11-4a6f-b19b-1d6d9d0192e0",
   "metadata": {},
   "outputs": [
    {
     "data": {
      "text/html": [
       "<div>\n",
       "<style scoped>\n",
       "    .dataframe tbody tr th:only-of-type {\n",
       "        vertical-align: middle;\n",
       "    }\n",
       "\n",
       "    .dataframe tbody tr th {\n",
       "        vertical-align: top;\n",
       "    }\n",
       "\n",
       "    .dataframe thead th {\n",
       "        text-align: right;\n",
       "    }\n",
       "</style>\n",
       "<table border=\"1\" class=\"dataframe\">\n",
       "  <thead>\n",
       "    <tr style=\"text-align: right;\">\n",
       "      <th></th>\n",
       "      <th>title_and_selftext</th>\n",
       "      <th>title</th>\n",
       "      <th>selftext</th>\n",
       "      <th>subreddit</th>\n",
       "      <th>created_utc</th>\n",
       "      <th>author</th>\n",
       "      <th>num_comments</th>\n",
       "      <th>score</th>\n",
       "      <th>is_self</th>\n",
       "      <th>filtered_title_selftext</th>\n",
       "      <th>subreddit_class</th>\n",
       "    </tr>\n",
       "  </thead>\n",
       "  <tbody>\n",
       "    <tr>\n",
       "      <th>0</th>\n",
       "      <td>healer main 9.2 returning player and i feel li...</td>\n",
       "      <td>Healer main 9.2</td>\n",
       "      <td>Returning player and I feel like it is quite o...</td>\n",
       "      <td>wow</td>\n",
       "      <td>1644701779</td>\n",
       "      <td>BengtJJ</td>\n",
       "      <td>0</td>\n",
       "      <td>1</td>\n",
       "      <td>True</td>\n",
       "      <td>healer main 9.2 returning player and i feel li...</td>\n",
       "      <td>1</td>\n",
       "    </tr>\n",
       "    <tr>\n",
       "      <th>1</th>\n",
       "      <td>finding a gaming partner? [removed]</td>\n",
       "      <td>Finding a gaming partner?</td>\n",
       "      <td>[removed]</td>\n",
       "      <td>wow</td>\n",
       "      <td>1644703269</td>\n",
       "      <td>stuart210</td>\n",
       "      <td>0</td>\n",
       "      <td>1</td>\n",
       "      <td>True</td>\n",
       "      <td>finding a gaming partner? [removed]</td>\n",
       "      <td>1</td>\n",
       "    </tr>\n",
       "    <tr>\n",
       "      <th>2</th>\n",
       "      <td>sound issue, directional hello!\\n\\ni just boug...</td>\n",
       "      <td>Sound issue, directional</td>\n",
       "      <td>Hello!\\n\\nI just bought a new PC and for some ...</td>\n",
       "      <td>wow</td>\n",
       "      <td>1644704336</td>\n",
       "      <td>aNteriorDude</td>\n",
       "      <td>0</td>\n",
       "      <td>1</td>\n",
       "      <td>True</td>\n",
       "      <td>sound issue, directional hello! i just bought ...</td>\n",
       "      <td>1</td>\n",
       "    </tr>\n",
       "    <tr>\n",
       "      <th>3</th>\n",
       "      <td>is dispelling cc in pvp uncommon knowledge? i ...</td>\n",
       "      <td>Is dispelling CC in PVP uncommon knowledge?</td>\n",
       "      <td>I play arena a lot wouldn't say I'm amazing (m...</td>\n",
       "      <td>wow</td>\n",
       "      <td>1644704385</td>\n",
       "      <td>Mechgyrasaur</td>\n",
       "      <td>0</td>\n",
       "      <td>1</td>\n",
       "      <td>True</td>\n",
       "      <td>is dispelling cc in pvp uncommon knowledge? i ...</td>\n",
       "      <td>1</td>\n",
       "    </tr>\n",
       "    <tr>\n",
       "      <th>4</th>\n",
       "      <td>nice</td>\n",
       "      <td>NICE</td>\n",
       "      <td></td>\n",
       "      <td>wow</td>\n",
       "      <td>1644704733</td>\n",
       "      <td>Bliztivision</td>\n",
       "      <td>1</td>\n",
       "      <td>1</td>\n",
       "      <td>False</td>\n",
       "      <td>nice</td>\n",
       "      <td>1</td>\n",
       "    </tr>\n",
       "    <tr>\n",
       "      <th>...</th>\n",
       "      <td>...</td>\n",
       "      <td>...</td>\n",
       "      <td>...</td>\n",
       "      <td>...</td>\n",
       "      <td>...</td>\n",
       "      <td>...</td>\n",
       "      <td>...</td>\n",
       "      <td>...</td>\n",
       "      <td>...</td>\n",
       "      <td>...</td>\n",
       "      <td>...</td>\n",
       "    </tr>\n",
       "    <tr>\n",
       "      <th>1395</th>\n",
       "      <td>can you customize your characters appearance p...</td>\n",
       "      <td>Can you customize your characters appearance p...</td>\n",
       "      <td>Lots of Korean games allow that if you have th...</td>\n",
       "      <td>lostarkgame</td>\n",
       "      <td>1643719754</td>\n",
       "      <td>twasRequired</td>\n",
       "      <td>0</td>\n",
       "      <td>1</td>\n",
       "      <td>True</td>\n",
       "      <td>can you customize your character appearance po...</td>\n",
       "      <td>0</td>\n",
       "    </tr>\n",
       "    <tr>\n",
       "      <th>1396</th>\n",
       "      <td>eu server popularity map</td>\n",
       "      <td>EU Server Popularity Map</td>\n",
       "      <td></td>\n",
       "      <td>lostarkgame</td>\n",
       "      <td>1643720039</td>\n",
       "      <td>apretorii</td>\n",
       "      <td>0</td>\n",
       "      <td>1</td>\n",
       "      <td>False</td>\n",
       "      <td>eu server popularity map</td>\n",
       "      <td>0</td>\n",
       "    </tr>\n",
       "    <tr>\n",
       "      <th>1397</th>\n",
       "      <td>question about revive feathers hi guys,\\n\\ni a...</td>\n",
       "      <td>Question about revive feathers</td>\n",
       "      <td>Hi Guys,\\n\\nI am just thinking about picking u...</td>\n",
       "      <td>lostarkgame</td>\n",
       "      <td>1643720592</td>\n",
       "      <td>rhoxt</td>\n",
       "      <td>0</td>\n",
       "      <td>1</td>\n",
       "      <td>True</td>\n",
       "      <td>question about revive feather hi guys, i am ju...</td>\n",
       "      <td>0</td>\n",
       "    </tr>\n",
       "    <tr>\n",
       "      <th>1398</th>\n",
       "      <td>pve endgame lower grind to endgame build / cas...</td>\n",
       "      <td>PvE Endgame Lower Grind to Endgame Build / Cas...</td>\n",
       "      <td>Hello - Seeing a lot of lists and info. \\n\\nIt...</td>\n",
       "      <td>lostarkgame</td>\n",
       "      <td>1643720838</td>\n",
       "      <td>RonDonk2020</td>\n",
       "      <td>0</td>\n",
       "      <td>1</td>\n",
       "      <td>True</td>\n",
       "      <td>pve endgame lower grind to endgame build / cas...</td>\n",
       "      <td>0</td>\n",
       "    </tr>\n",
       "    <tr>\n",
       "      <th>1399</th>\n",
       "      <td>him</td>\n",
       "      <td>HIM</td>\n",
       "      <td></td>\n",
       "      <td>lostarkgame</td>\n",
       "      <td>1643721789</td>\n",
       "      <td>mann_moth</td>\n",
       "      <td>0</td>\n",
       "      <td>1</td>\n",
       "      <td>False</td>\n",
       "      <td>him</td>\n",
       "      <td>0</td>\n",
       "    </tr>\n",
       "  </tbody>\n",
       "</table>\n",
       "<p>1386 rows × 11 columns</p>\n",
       "</div>"
      ],
      "text/plain": [
       "                                     title_and_selftext  \\\n",
       "0     healer main 9.2 returning player and i feel li...   \n",
       "1                   finding a gaming partner? [removed]   \n",
       "2     sound issue, directional hello!\\n\\ni just boug...   \n",
       "3     is dispelling cc in pvp uncommon knowledge? i ...   \n",
       "4                                                 nice    \n",
       "...                                                 ...   \n",
       "1395  can you customize your characters appearance p...   \n",
       "1396                          eu server popularity map    \n",
       "1397  question about revive feathers hi guys,\\n\\ni a...   \n",
       "1398  pve endgame lower grind to endgame build / cas...   \n",
       "1399                                               him    \n",
       "\n",
       "                                                  title  \\\n",
       "0                                       Healer main 9.2   \n",
       "1                             Finding a gaming partner?   \n",
       "2                              Sound issue, directional   \n",
       "3           Is dispelling CC in PVP uncommon knowledge?   \n",
       "4                                                  NICE   \n",
       "...                                                 ...   \n",
       "1395  Can you customize your characters appearance p...   \n",
       "1396                           EU Server Popularity Map   \n",
       "1397                     Question about revive feathers   \n",
       "1398  PvE Endgame Lower Grind to Endgame Build / Cas...   \n",
       "1399                                                HIM   \n",
       "\n",
       "                                               selftext    subreddit  \\\n",
       "0     Returning player and I feel like it is quite o...          wow   \n",
       "1                                             [removed]          wow   \n",
       "2     Hello!\\n\\nI just bought a new PC and for some ...          wow   \n",
       "3     I play arena a lot wouldn't say I'm amazing (m...          wow   \n",
       "4                                                                wow   \n",
       "...                                                 ...          ...   \n",
       "1395  Lots of Korean games allow that if you have th...  lostarkgame   \n",
       "1396                                                     lostarkgame   \n",
       "1397  Hi Guys,\\n\\nI am just thinking about picking u...  lostarkgame   \n",
       "1398  Hello - Seeing a lot of lists and info. \\n\\nIt...  lostarkgame   \n",
       "1399                                                     lostarkgame   \n",
       "\n",
       "      created_utc        author  num_comments  score  is_self  \\\n",
       "0      1644701779       BengtJJ             0      1     True   \n",
       "1      1644703269     stuart210             0      1     True   \n",
       "2      1644704336  aNteriorDude             0      1     True   \n",
       "3      1644704385  Mechgyrasaur             0      1     True   \n",
       "4      1644704733  Bliztivision             1      1    False   \n",
       "...           ...           ...           ...    ...      ...   \n",
       "1395   1643719754  twasRequired             0      1     True   \n",
       "1396   1643720039     apretorii             0      1    False   \n",
       "1397   1643720592         rhoxt             0      1     True   \n",
       "1398   1643720838   RonDonk2020             0      1     True   \n",
       "1399   1643721789     mann_moth             0      1    False   \n",
       "\n",
       "                                filtered_title_selftext  subreddit_class  \n",
       "0     healer main 9.2 returning player and i feel li...                1  \n",
       "1                   finding a gaming partner? [removed]                1  \n",
       "2     sound issue, directional hello! i just bought ...                1  \n",
       "3     is dispelling cc in pvp uncommon knowledge? i ...                1  \n",
       "4                                                  nice                1  \n",
       "...                                                 ...              ...  \n",
       "1395  can you customize your character appearance po...                0  \n",
       "1396                           eu server popularity map                0  \n",
       "1397  question about revive feather hi guys, i am ju...                0  \n",
       "1398  pve endgame lower grind to endgame build / cas...                0  \n",
       "1399                                                him                0  \n",
       "\n",
       "[1386 rows x 11 columns]"
      ]
     },
     "execution_count": 73,
     "metadata": {},
     "output_type": "execute_result"
    }
   ],
   "source": [
    "df"
   ]
  },
  {
   "cell_type": "code",
   "execution_count": 74,
   "id": "4a44914f-4e27-44e1-abf8-4532ac3e29c3",
   "metadata": {},
   "outputs": [],
   "source": [
    "from nltk.sentiment.vader import SentimentIntensityAnalyzer\n",
    "\n",
    "sent = SentimentIntensityAnalyzer()"
   ]
  },
  {
   "cell_type": "code",
   "execution_count": 75,
   "id": "2454438f-f2ea-4685-a9cc-d0c4dfe28837",
   "metadata": {},
   "outputs": [
    {
     "data": {
      "text/plain": [
       "{'neg': 0.0, 'neu': 1.0, 'pos': 0.0, 'compound': 0.0}"
      ]
     },
     "execution_count": 75,
     "metadata": {},
     "output_type": "execute_result"
    }
   ],
   "source": [
    "sent.polarity_scores(df['filtered_title_selftext'][1])"
   ]
  },
  {
   "cell_type": "code",
   "execution_count": 76,
   "id": "2d5456bf-5c23-4d08-8b5e-bc4790ca3f67",
   "metadata": {},
   "outputs": [],
   "source": [
    "# from vaderSentiment Github how the scoring works (https://github.com/cjhutto/vaderSentiment)\n",
    "# positive sentiment: compound score >= 0.05\n",
    "# neutral sentiment: (compound score > -0.05) and (compound score < 0.05)\n",
    "# negative sentiment: compound score <= -0.05\n"
   ]
  },
  {
   "cell_type": "code",
   "execution_count": 77,
   "id": "4ea75e3e-a9ce-4aab-9469-ef69b9cb9c2e",
   "metadata": {},
   "outputs": [],
   "source": [
    "#get a column of my sentiment results\n",
    "df['sentiment'] = df['filtered_title_selftext'].map(sent.polarity_scores)"
   ]
  },
  {
   "cell_type": "code",
   "execution_count": 78,
   "id": "d670eb1c-0c92-41ba-9f3d-514046c8310b",
   "metadata": {},
   "outputs": [
    {
     "data": {
      "text/html": [
       "<div>\n",
       "<style scoped>\n",
       "    .dataframe tbody tr th:only-of-type {\n",
       "        vertical-align: middle;\n",
       "    }\n",
       "\n",
       "    .dataframe tbody tr th {\n",
       "        vertical-align: top;\n",
       "    }\n",
       "\n",
       "    .dataframe thead th {\n",
       "        text-align: right;\n",
       "    }\n",
       "</style>\n",
       "<table border=\"1\" class=\"dataframe\">\n",
       "  <thead>\n",
       "    <tr style=\"text-align: right;\">\n",
       "      <th></th>\n",
       "      <th>title_and_selftext</th>\n",
       "      <th>title</th>\n",
       "      <th>selftext</th>\n",
       "      <th>subreddit</th>\n",
       "      <th>created_utc</th>\n",
       "      <th>author</th>\n",
       "      <th>num_comments</th>\n",
       "      <th>score</th>\n",
       "      <th>is_self</th>\n",
       "      <th>filtered_title_selftext</th>\n",
       "      <th>subreddit_class</th>\n",
       "      <th>sentiment</th>\n",
       "    </tr>\n",
       "  </thead>\n",
       "  <tbody>\n",
       "    <tr>\n",
       "      <th>0</th>\n",
       "      <td>healer main 9.2 returning player and i feel li...</td>\n",
       "      <td>Healer main 9.2</td>\n",
       "      <td>Returning player and I feel like it is quite o...</td>\n",
       "      <td>wow</td>\n",
       "      <td>1644701779</td>\n",
       "      <td>BengtJJ</td>\n",
       "      <td>0</td>\n",
       "      <td>1</td>\n",
       "      <td>True</td>\n",
       "      <td>healer main 9.2 returning player and i feel li...</td>\n",
       "      <td>1</td>\n",
       "      <td>{'neg': 0.028, 'neu': 0.733, 'pos': 0.239, 'co...</td>\n",
       "    </tr>\n",
       "    <tr>\n",
       "      <th>1</th>\n",
       "      <td>finding a gaming partner? [removed]</td>\n",
       "      <td>Finding a gaming partner?</td>\n",
       "      <td>[removed]</td>\n",
       "      <td>wow</td>\n",
       "      <td>1644703269</td>\n",
       "      <td>stuart210</td>\n",
       "      <td>0</td>\n",
       "      <td>1</td>\n",
       "      <td>True</td>\n",
       "      <td>finding a gaming partner? [removed]</td>\n",
       "      <td>1</td>\n",
       "      <td>{'neg': 0.0, 'neu': 1.0, 'pos': 0.0, 'compound...</td>\n",
       "    </tr>\n",
       "    <tr>\n",
       "      <th>2</th>\n",
       "      <td>sound issue, directional hello!\\n\\ni just boug...</td>\n",
       "      <td>Sound issue, directional</td>\n",
       "      <td>Hello!\\n\\nI just bought a new PC and for some ...</td>\n",
       "      <td>wow</td>\n",
       "      <td>1644704336</td>\n",
       "      <td>aNteriorDude</td>\n",
       "      <td>0</td>\n",
       "      <td>1</td>\n",
       "      <td>True</td>\n",
       "      <td>sound issue, directional hello! i just bought ...</td>\n",
       "      <td>1</td>\n",
       "      <td>{'neg': 0.107, 'neu': 0.786, 'pos': 0.107, 'co...</td>\n",
       "    </tr>\n",
       "  </tbody>\n",
       "</table>\n",
       "</div>"
      ],
      "text/plain": [
       "                                  title_and_selftext  \\\n",
       "0  healer main 9.2 returning player and i feel li...   \n",
       "1                finding a gaming partner? [removed]   \n",
       "2  sound issue, directional hello!\\n\\ni just boug...   \n",
       "\n",
       "                       title  \\\n",
       "0            Healer main 9.2   \n",
       "1  Finding a gaming partner?   \n",
       "2   Sound issue, directional   \n",
       "\n",
       "                                            selftext subreddit  created_utc  \\\n",
       "0  Returning player and I feel like it is quite o...       wow   1644701779   \n",
       "1                                          [removed]       wow   1644703269   \n",
       "2  Hello!\\n\\nI just bought a new PC and for some ...       wow   1644704336   \n",
       "\n",
       "         author  num_comments  score  is_self  \\\n",
       "0       BengtJJ             0      1     True   \n",
       "1     stuart210             0      1     True   \n",
       "2  aNteriorDude             0      1     True   \n",
       "\n",
       "                             filtered_title_selftext  subreddit_class  \\\n",
       "0  healer main 9.2 returning player and i feel li...                1   \n",
       "1                finding a gaming partner? [removed]                1   \n",
       "2  sound issue, directional hello! i just bought ...                1   \n",
       "\n",
       "                                           sentiment  \n",
       "0  {'neg': 0.028, 'neu': 0.733, 'pos': 0.239, 'co...  \n",
       "1  {'neg': 0.0, 'neu': 1.0, 'pos': 0.0, 'compound...  \n",
       "2  {'neg': 0.107, 'neu': 0.786, 'pos': 0.107, 'co...  "
      ]
     },
     "execution_count": 78,
     "metadata": {},
     "output_type": "execute_result"
    }
   ],
   "source": [
    "df.head(3)"
   ]
  },
  {
   "cell_type": "code",
   "execution_count": 79,
   "id": "c8b3501a-3061-4321-b41e-f275cde9e0bb",
   "metadata": {},
   "outputs": [
    {
     "data": {
      "text/plain": [
       "0       {'neg': 0.028, 'neu': 0.733, 'pos': 0.239, 'co...\n",
       "1       {'neg': 0.0, 'neu': 1.0, 'pos': 0.0, 'compound...\n",
       "2       {'neg': 0.107, 'neu': 0.786, 'pos': 0.107, 'co...\n",
       "3       {'neg': 0.104, 'neu': 0.773, 'pos': 0.124, 'co...\n",
       "4       {'neg': 0.0, 'neu': 0.0, 'pos': 1.0, 'compound...\n",
       "                              ...                        \n",
       "1395    {'neg': 0.0, 'neu': 0.911, 'pos': 0.089, 'comp...\n",
       "1396    {'neg': 0.0, 'neu': 0.492, 'pos': 0.508, 'comp...\n",
       "1397    {'neg': 0.0, 'neu': 0.888, 'pos': 0.112, 'comp...\n",
       "1398    {'neg': 0.079, 'neu': 0.655, 'pos': 0.265, 'co...\n",
       "1399    {'neg': 0.0, 'neu': 1.0, 'pos': 0.0, 'compound...\n",
       "Name: sentiment, Length: 1386, dtype: object"
      ]
     },
     "execution_count": 79,
     "metadata": {},
     "output_type": "execute_result"
    }
   ],
   "source": [
    "df['sentiment']"
   ]
  },
  {
   "cell_type": "code",
   "execution_count": 80,
   "id": "6ab6829e-c07c-4961-ad6e-4ebf99e50458",
   "metadata": {},
   "outputs": [
    {
     "data": {
      "text/plain": [
       "0.9549"
      ]
     },
     "execution_count": 80,
     "metadata": {},
     "output_type": "execute_result"
    }
   ],
   "source": [
    "df['sentiment'][0]['compound']"
   ]
  },
  {
   "cell_type": "code",
   "execution_count": 81,
   "id": "8c729af3-6e4a-4594-a415-92441b30fa70",
   "metadata": {},
   "outputs": [
    {
     "data": {
      "text/plain": [
       "[0.9549, 0.0, -0.0752, 0.2696]"
      ]
     },
     "execution_count": 81,
     "metadata": {},
     "output_type": "execute_result"
    }
   ],
   "source": [
    "[x['compound'] for x in df['sentiment'][:4]]"
   ]
  },
  {
   "cell_type": "code",
   "execution_count": 82,
   "id": "6ade44c8-9f1a-4aa2-8f72-7efd8749a4ea",
   "metadata": {},
   "outputs": [],
   "source": [
    "#lets get the overall results 'compound' into a separate column\n",
    "df['sentiment_compound'] = [ compound['compound'] for compound in df['sentiment'] ]"
   ]
  },
  {
   "cell_type": "code",
   "execution_count": 83,
   "id": "1ef1c6ff-f8d1-4438-a0e3-7c0dc040e6a8",
   "metadata": {},
   "outputs": [
    {
     "data": {
      "text/html": [
       "<div>\n",
       "<style scoped>\n",
       "    .dataframe tbody tr th:only-of-type {\n",
       "        vertical-align: middle;\n",
       "    }\n",
       "\n",
       "    .dataframe tbody tr th {\n",
       "        vertical-align: top;\n",
       "    }\n",
       "\n",
       "    .dataframe thead th {\n",
       "        text-align: right;\n",
       "    }\n",
       "</style>\n",
       "<table border=\"1\" class=\"dataframe\">\n",
       "  <thead>\n",
       "    <tr style=\"text-align: right;\">\n",
       "      <th></th>\n",
       "      <th>title_and_selftext</th>\n",
       "      <th>title</th>\n",
       "      <th>selftext</th>\n",
       "      <th>subreddit</th>\n",
       "      <th>created_utc</th>\n",
       "      <th>author</th>\n",
       "      <th>num_comments</th>\n",
       "      <th>score</th>\n",
       "      <th>is_self</th>\n",
       "      <th>filtered_title_selftext</th>\n",
       "      <th>subreddit_class</th>\n",
       "      <th>sentiment</th>\n",
       "      <th>sentiment_compound</th>\n",
       "    </tr>\n",
       "  </thead>\n",
       "  <tbody>\n",
       "    <tr>\n",
       "      <th>0</th>\n",
       "      <td>healer main 9.2 returning player and i feel li...</td>\n",
       "      <td>Healer main 9.2</td>\n",
       "      <td>Returning player and I feel like it is quite o...</td>\n",
       "      <td>wow</td>\n",
       "      <td>1644701779</td>\n",
       "      <td>BengtJJ</td>\n",
       "      <td>0</td>\n",
       "      <td>1</td>\n",
       "      <td>True</td>\n",
       "      <td>healer main 9.2 returning player and i feel li...</td>\n",
       "      <td>1</td>\n",
       "      <td>{'neg': 0.028, 'neu': 0.733, 'pos': 0.239, 'co...</td>\n",
       "      <td>0.9549</td>\n",
       "    </tr>\n",
       "    <tr>\n",
       "      <th>1</th>\n",
       "      <td>finding a gaming partner? [removed]</td>\n",
       "      <td>Finding a gaming partner?</td>\n",
       "      <td>[removed]</td>\n",
       "      <td>wow</td>\n",
       "      <td>1644703269</td>\n",
       "      <td>stuart210</td>\n",
       "      <td>0</td>\n",
       "      <td>1</td>\n",
       "      <td>True</td>\n",
       "      <td>finding a gaming partner? [removed]</td>\n",
       "      <td>1</td>\n",
       "      <td>{'neg': 0.0, 'neu': 1.0, 'pos': 0.0, 'compound...</td>\n",
       "      <td>0.0000</td>\n",
       "    </tr>\n",
       "    <tr>\n",
       "      <th>2</th>\n",
       "      <td>sound issue, directional hello!\\n\\ni just boug...</td>\n",
       "      <td>Sound issue, directional</td>\n",
       "      <td>Hello!\\n\\nI just bought a new PC and for some ...</td>\n",
       "      <td>wow</td>\n",
       "      <td>1644704336</td>\n",
       "      <td>aNteriorDude</td>\n",
       "      <td>0</td>\n",
       "      <td>1</td>\n",
       "      <td>True</td>\n",
       "      <td>sound issue, directional hello! i just bought ...</td>\n",
       "      <td>1</td>\n",
       "      <td>{'neg': 0.107, 'neu': 0.786, 'pos': 0.107, 'co...</td>\n",
       "      <td>-0.0752</td>\n",
       "    </tr>\n",
       "  </tbody>\n",
       "</table>\n",
       "</div>"
      ],
      "text/plain": [
       "                                  title_and_selftext  \\\n",
       "0  healer main 9.2 returning player and i feel li...   \n",
       "1                finding a gaming partner? [removed]   \n",
       "2  sound issue, directional hello!\\n\\ni just boug...   \n",
       "\n",
       "                       title  \\\n",
       "0            Healer main 9.2   \n",
       "1  Finding a gaming partner?   \n",
       "2   Sound issue, directional   \n",
       "\n",
       "                                            selftext subreddit  created_utc  \\\n",
       "0  Returning player and I feel like it is quite o...       wow   1644701779   \n",
       "1                                          [removed]       wow   1644703269   \n",
       "2  Hello!\\n\\nI just bought a new PC and for some ...       wow   1644704336   \n",
       "\n",
       "         author  num_comments  score  is_self  \\\n",
       "0       BengtJJ             0      1     True   \n",
       "1     stuart210             0      1     True   \n",
       "2  aNteriorDude             0      1     True   \n",
       "\n",
       "                             filtered_title_selftext  subreddit_class  \\\n",
       "0  healer main 9.2 returning player and i feel li...                1   \n",
       "1                finding a gaming partner? [removed]                1   \n",
       "2  sound issue, directional hello! i just bought ...                1   \n",
       "\n",
       "                                           sentiment  sentiment_compound  \n",
       "0  {'neg': 0.028, 'neu': 0.733, 'pos': 0.239, 'co...              0.9549  \n",
       "1  {'neg': 0.0, 'neu': 1.0, 'pos': 0.0, 'compound...              0.0000  \n",
       "2  {'neg': 0.107, 'neu': 0.786, 'pos': 0.107, 'co...             -0.0752  "
      ]
     },
     "execution_count": 83,
     "metadata": {},
     "output_type": "execute_result"
    }
   ],
   "source": [
    "df.head(3)"
   ]
  },
  {
   "cell_type": "code",
   "execution_count": 84,
   "id": "3d95f115-b436-484f-acf4-d7bd17dd8ee6",
   "metadata": {},
   "outputs": [],
   "source": [
    "#going to make a column to return the type of sentiment the text was.. was it a positive, negative or neutral based on the score\n",
    "def type_sentiment(score):\n",
    "    if (score > -0.05) & (score < 0.05):\n",
    "        return 'neutral'\n",
    "    elif score >= 0.05:\n",
    "        return 'positive'\n",
    "    elif score <= -0.05:\n",
    "        return 'negative'"
   ]
  },
  {
   "cell_type": "code",
   "execution_count": 85,
   "id": "a637829f-8a03-4d4e-95fc-5198bb1a9ca7",
   "metadata": {},
   "outputs": [],
   "source": [
    "df['sentiment_class'] = df['sentiment_compound'].map(type_sentiment)"
   ]
  },
  {
   "cell_type": "code",
   "execution_count": 86,
   "id": "4004a3f3-d511-4700-b3e6-f012c8f40d50",
   "metadata": {},
   "outputs": [
    {
     "data": {
      "text/html": [
       "<div>\n",
       "<style scoped>\n",
       "    .dataframe tbody tr th:only-of-type {\n",
       "        vertical-align: middle;\n",
       "    }\n",
       "\n",
       "    .dataframe tbody tr th {\n",
       "        vertical-align: top;\n",
       "    }\n",
       "\n",
       "    .dataframe thead th {\n",
       "        text-align: right;\n",
       "    }\n",
       "</style>\n",
       "<table border=\"1\" class=\"dataframe\">\n",
       "  <thead>\n",
       "    <tr style=\"text-align: right;\">\n",
       "      <th></th>\n",
       "      <th>title_and_selftext</th>\n",
       "      <th>title</th>\n",
       "      <th>selftext</th>\n",
       "      <th>subreddit</th>\n",
       "      <th>created_utc</th>\n",
       "      <th>author</th>\n",
       "      <th>num_comments</th>\n",
       "      <th>score</th>\n",
       "      <th>is_self</th>\n",
       "      <th>filtered_title_selftext</th>\n",
       "      <th>subreddit_class</th>\n",
       "      <th>sentiment</th>\n",
       "      <th>sentiment_compound</th>\n",
       "      <th>sentiment_class</th>\n",
       "    </tr>\n",
       "  </thead>\n",
       "  <tbody>\n",
       "    <tr>\n",
       "      <th>1012</th>\n",
       "      <td>is lost ark p2w? no, and here's why with all t...</td>\n",
       "      <td>Is Lost Ark P2W? No, and here's why</td>\n",
       "      <td>With all the talk of Lost Ark being P2W for th...</td>\n",
       "      <td>lostarkgame</td>\n",
       "      <td>1644185158</td>\n",
       "      <td>KaZe_DaRKWIND</td>\n",
       "      <td>2</td>\n",
       "      <td>1</td>\n",
       "      <td>True</td>\n",
       "      <td>is lost ark p2w? no, and heres why with all th...</td>\n",
       "      <td>0</td>\n",
       "      <td>{'neg': 0.082, 'neu': 0.7, 'pos': 0.218, 'comp...</td>\n",
       "      <td>0.9997</td>\n",
       "      <td>positive</td>\n",
       "    </tr>\n",
       "    <tr>\n",
       "      <th>836</th>\n",
       "      <td>honest review after 20 hours from someone who ...</td>\n",
       "      <td>Honest review after 20 hours from someone who ...</td>\n",
       "      <td>I had never played an MMO before but decided t...</td>\n",
       "      <td>lostarkgame</td>\n",
       "      <td>1644531942</td>\n",
       "      <td>Glenuig</td>\n",
       "      <td>0</td>\n",
       "      <td>1</td>\n",
       "      <td>True</td>\n",
       "      <td>honest review after 20 hour from someone who h...</td>\n",
       "      <td>0</td>\n",
       "      <td>{'neg': 0.065, 'neu': 0.707, 'pos': 0.227, 'co...</td>\n",
       "      <td>0.9990</td>\n",
       "      <td>positive</td>\n",
       "    </tr>\n",
       "    <tr>\n",
       "      <th>1067</th>\n",
       "      <td>mmo mouse configuration in lost ark i love mmo...</td>\n",
       "      <td>MMO Mouse Configuration in Lost Ark</td>\n",
       "      <td>I love MMO mouses for gaming. And so far Lost ...</td>\n",
       "      <td>lostarkgame</td>\n",
       "      <td>1644195536</td>\n",
       "      <td>my_shoes_hurt</td>\n",
       "      <td>0</td>\n",
       "      <td>1</td>\n",
       "      <td>True</td>\n",
       "      <td>mmo mouse configuration in lost ark i love mmo...</td>\n",
       "      <td>0</td>\n",
       "      <td>{'neg': 0.024, 'neu': 0.822, 'pos': 0.154, 'co...</td>\n",
       "      <td>0.9978</td>\n",
       "      <td>positive</td>\n",
       "    </tr>\n",
       "    <tr>\n",
       "      <th>197</th>\n",
       "      <td>prioritise race or faction? hey!\\n\\n**if you d...</td>\n",
       "      <td>Prioritise race or faction?</td>\n",
       "      <td>Hey!\\n\\n**If you don't want to read it all the...</td>\n",
       "      <td>wow</td>\n",
       "      <td>1644597209</td>\n",
       "      <td>WILLZZON</td>\n",
       "      <td>0</td>\n",
       "      <td>1</td>\n",
       "      <td>True</td>\n",
       "      <td>prioritise race or faction? hey! **if you dont...</td>\n",
       "      <td>1</td>\n",
       "      <td>{'neg': 0.032, 'neu': 0.708, 'pos': 0.26, 'com...</td>\n",
       "      <td>0.9975</td>\n",
       "      <td>positive</td>\n",
       "    </tr>\n",
       "    <tr>\n",
       "      <th>649</th>\n",
       "      <td>what a january! microsoft, \"leaks\", cross fact...</td>\n",
       "      <td>What a January! Microsoft, \"leaks\", cross fact...</td>\n",
       "      <td>January has come to an end, and concerning WoW...</td>\n",
       "      <td>wow</td>\n",
       "      <td>1643679426</td>\n",
       "      <td>cruffade</td>\n",
       "      <td>0</td>\n",
       "      <td>1</td>\n",
       "      <td>True</td>\n",
       "      <td>what a january! microsoft, \"leaks\", cross fact...</td>\n",
       "      <td>1</td>\n",
       "      <td>{'neg': 0.047, 'neu': 0.746, 'pos': 0.207, 'co...</td>\n",
       "      <td>0.9971</td>\n",
       "      <td>positive</td>\n",
       "    </tr>\n",
       "  </tbody>\n",
       "</table>\n",
       "</div>"
      ],
      "text/plain": [
       "                                     title_and_selftext  \\\n",
       "1012  is lost ark p2w? no, and here's why with all t...   \n",
       "836   honest review after 20 hours from someone who ...   \n",
       "1067  mmo mouse configuration in lost ark i love mmo...   \n",
       "197   prioritise race or faction? hey!\\n\\n**if you d...   \n",
       "649   what a january! microsoft, \"leaks\", cross fact...   \n",
       "\n",
       "                                                  title  \\\n",
       "1012                Is Lost Ark P2W? No, and here's why   \n",
       "836   Honest review after 20 hours from someone who ...   \n",
       "1067                MMO Mouse Configuration in Lost Ark   \n",
       "197                         Prioritise race or faction?   \n",
       "649   What a January! Microsoft, \"leaks\", cross fact...   \n",
       "\n",
       "                                               selftext    subreddit  \\\n",
       "1012  With all the talk of Lost Ark being P2W for th...  lostarkgame   \n",
       "836   I had never played an MMO before but decided t...  lostarkgame   \n",
       "1067  I love MMO mouses for gaming. And so far Lost ...  lostarkgame   \n",
       "197   Hey!\\n\\n**If you don't want to read it all the...          wow   \n",
       "649   January has come to an end, and concerning WoW...          wow   \n",
       "\n",
       "      created_utc         author  num_comments  score  is_self  \\\n",
       "1012   1644185158  KaZe_DaRKWIND             2      1     True   \n",
       "836    1644531942        Glenuig             0      1     True   \n",
       "1067   1644195536  my_shoes_hurt             0      1     True   \n",
       "197    1644597209       WILLZZON             0      1     True   \n",
       "649    1643679426       cruffade             0      1     True   \n",
       "\n",
       "                                filtered_title_selftext  subreddit_class  \\\n",
       "1012  is lost ark p2w? no, and heres why with all th...                0   \n",
       "836   honest review after 20 hour from someone who h...                0   \n",
       "1067  mmo mouse configuration in lost ark i love mmo...                0   \n",
       "197   prioritise race or faction? hey! **if you dont...                1   \n",
       "649   what a january! microsoft, \"leaks\", cross fact...                1   \n",
       "\n",
       "                                              sentiment  sentiment_compound  \\\n",
       "1012  {'neg': 0.082, 'neu': 0.7, 'pos': 0.218, 'comp...              0.9997   \n",
       "836   {'neg': 0.065, 'neu': 0.707, 'pos': 0.227, 'co...              0.9990   \n",
       "1067  {'neg': 0.024, 'neu': 0.822, 'pos': 0.154, 'co...              0.9978   \n",
       "197   {'neg': 0.032, 'neu': 0.708, 'pos': 0.26, 'com...              0.9975   \n",
       "649   {'neg': 0.047, 'neu': 0.746, 'pos': 0.207, 'co...              0.9971   \n",
       "\n",
       "     sentiment_class  \n",
       "1012        positive  \n",
       "836         positive  \n",
       "1067        positive  \n",
       "197         positive  \n",
       "649         positive  "
      ]
     },
     "execution_count": 86,
     "metadata": {},
     "output_type": "execute_result"
    }
   ],
   "source": [
    "df.sort_values(by='sentiment_compound', ascending=False).head()"
   ]
  },
  {
   "cell_type": "code",
   "execution_count": 87,
   "id": "85949e1e-f730-455b-bbd2-752531b038c9",
   "metadata": {},
   "outputs": [],
   "source": [
    "#'boosting'\n",
    "list_of_imp_words = ['wow', 'boosting']"
   ]
  },
  {
   "cell_type": "code",
   "execution_count": 88,
   "id": "04a1e812-0800-4ace-a15a-93275b913e36",
   "metadata": {},
   "outputs": [],
   "source": [
    "boost = df.loc[df['filtered_title_selftext'].str.contains('boosting'), :]"
   ]
  },
  {
   "cell_type": "code",
   "execution_count": 89,
   "id": "6f203d49-0a9c-40c2-befc-0070dfd3c03d",
   "metadata": {},
   "outputs": [
    {
     "name": "stdout",
     "output_type": "stream",
     "text": [
      "positive    17\n",
      "negative     5\n",
      "Name: sentiment_class, dtype: int64\n"
     ]
    }
   ],
   "source": [
    "print(boost['sentiment_class'].value_counts())"
   ]
  },
  {
   "cell_type": "code",
   "execution_count": 90,
   "id": "0a6545b6-0694-44b0-97cd-d5adb65d80f8",
   "metadata": {},
   "outputs": [
    {
     "data": {
      "text/plain": [
       "'negative'"
      ]
     },
     "execution_count": 90,
     "metadata": {},
     "output_type": "execute_result"
    }
   ],
   "source": [
    "boost['sentiment_class'].value_counts().index[1]"
   ]
  },
  {
   "cell_type": "code",
   "execution_count": null,
   "id": "5afda158-685c-446b-add5-46b5a3ffb018",
   "metadata": {},
   "outputs": [],
   "source": []
  },
  {
   "cell_type": "code",
   "execution_count": 91,
   "id": "00147848-bc3e-4fc5-95b7-10df98b70011",
   "metadata": {},
   "outputs": [
    {
     "data": {
      "text/html": [
       "<div>\n",
       "<style scoped>\n",
       "    .dataframe tbody tr th:only-of-type {\n",
       "        vertical-align: middle;\n",
       "    }\n",
       "\n",
       "    .dataframe tbody tr th {\n",
       "        vertical-align: top;\n",
       "    }\n",
       "\n",
       "    .dataframe thead th {\n",
       "        text-align: right;\n",
       "    }\n",
       "</style>\n",
       "<table border=\"1\" class=\"dataframe\">\n",
       "  <thead>\n",
       "    <tr style=\"text-align: right;\">\n",
       "      <th></th>\n",
       "      <th>title_and_selftext</th>\n",
       "      <th>title</th>\n",
       "      <th>selftext</th>\n",
       "      <th>subreddit</th>\n",
       "      <th>created_utc</th>\n",
       "      <th>author</th>\n",
       "      <th>num_comments</th>\n",
       "      <th>score</th>\n",
       "      <th>is_self</th>\n",
       "      <th>filtered_title_selftext</th>\n",
       "      <th>subreddit_class</th>\n",
       "      <th>sentiment</th>\n",
       "      <th>sentiment_compound</th>\n",
       "      <th>sentiment_class</th>\n",
       "    </tr>\n",
       "  </thead>\n",
       "  <tbody>\n",
       "    <tr>\n",
       "      <th>0</th>\n",
       "      <td>healer main 9.2 returning player and i feel li...</td>\n",
       "      <td>Healer main 9.2</td>\n",
       "      <td>Returning player and I feel like it is quite o...</td>\n",
       "      <td>wow</td>\n",
       "      <td>1644701779</td>\n",
       "      <td>BengtJJ</td>\n",
       "      <td>0</td>\n",
       "      <td>1</td>\n",
       "      <td>True</td>\n",
       "      <td>healer main 9.2 returning player and i feel li...</td>\n",
       "      <td>1</td>\n",
       "      <td>{'neg': 0.028, 'neu': 0.733, 'pos': 0.239, 'co...</td>\n",
       "      <td>0.9549</td>\n",
       "      <td>positive</td>\n",
       "    </tr>\n",
       "    <tr>\n",
       "      <th>1</th>\n",
       "      <td>finding a gaming partner? [removed]</td>\n",
       "      <td>Finding a gaming partner?</td>\n",
       "      <td>[removed]</td>\n",
       "      <td>wow</td>\n",
       "      <td>1644703269</td>\n",
       "      <td>stuart210</td>\n",
       "      <td>0</td>\n",
       "      <td>1</td>\n",
       "      <td>True</td>\n",
       "      <td>finding a gaming partner? [removed]</td>\n",
       "      <td>1</td>\n",
       "      <td>{'neg': 0.0, 'neu': 1.0, 'pos': 0.0, 'compound...</td>\n",
       "      <td>0.0000</td>\n",
       "      <td>neutral</td>\n",
       "    </tr>\n",
       "    <tr>\n",
       "      <th>2</th>\n",
       "      <td>sound issue, directional hello!\\n\\ni just boug...</td>\n",
       "      <td>Sound issue, directional</td>\n",
       "      <td>Hello!\\n\\nI just bought a new PC and for some ...</td>\n",
       "      <td>wow</td>\n",
       "      <td>1644704336</td>\n",
       "      <td>aNteriorDude</td>\n",
       "      <td>0</td>\n",
       "      <td>1</td>\n",
       "      <td>True</td>\n",
       "      <td>sound issue, directional hello! i just bought ...</td>\n",
       "      <td>1</td>\n",
       "      <td>{'neg': 0.107, 'neu': 0.786, 'pos': 0.107, 'co...</td>\n",
       "      <td>-0.0752</td>\n",
       "      <td>negative</td>\n",
       "    </tr>\n",
       "    <tr>\n",
       "      <th>3</th>\n",
       "      <td>is dispelling cc in pvp uncommon knowledge? i ...</td>\n",
       "      <td>Is dispelling CC in PVP uncommon knowledge?</td>\n",
       "      <td>I play arena a lot wouldn't say I'm amazing (m...</td>\n",
       "      <td>wow</td>\n",
       "      <td>1644704385</td>\n",
       "      <td>Mechgyrasaur</td>\n",
       "      <td>0</td>\n",
       "      <td>1</td>\n",
       "      <td>True</td>\n",
       "      <td>is dispelling cc in pvp uncommon knowledge? i ...</td>\n",
       "      <td>1</td>\n",
       "      <td>{'neg': 0.104, 'neu': 0.773, 'pos': 0.124, 'co...</td>\n",
       "      <td>0.2696</td>\n",
       "      <td>positive</td>\n",
       "    </tr>\n",
       "    <tr>\n",
       "      <th>4</th>\n",
       "      <td>nice</td>\n",
       "      <td>NICE</td>\n",
       "      <td></td>\n",
       "      <td>wow</td>\n",
       "      <td>1644704733</td>\n",
       "      <td>Bliztivision</td>\n",
       "      <td>1</td>\n",
       "      <td>1</td>\n",
       "      <td>False</td>\n",
       "      <td>nice</td>\n",
       "      <td>1</td>\n",
       "      <td>{'neg': 0.0, 'neu': 0.0, 'pos': 1.0, 'compound...</td>\n",
       "      <td>0.4215</td>\n",
       "      <td>positive</td>\n",
       "    </tr>\n",
       "    <tr>\n",
       "      <th>...</th>\n",
       "      <td>...</td>\n",
       "      <td>...</td>\n",
       "      <td>...</td>\n",
       "      <td>...</td>\n",
       "      <td>...</td>\n",
       "      <td>...</td>\n",
       "      <td>...</td>\n",
       "      <td>...</td>\n",
       "      <td>...</td>\n",
       "      <td>...</td>\n",
       "      <td>...</td>\n",
       "      <td>...</td>\n",
       "      <td>...</td>\n",
       "      <td>...</td>\n",
       "    </tr>\n",
       "    <tr>\n",
       "      <th>1395</th>\n",
       "      <td>can you customize your characters appearance p...</td>\n",
       "      <td>Can you customize your characters appearance p...</td>\n",
       "      <td>Lots of Korean games allow that if you have th...</td>\n",
       "      <td>lostarkgame</td>\n",
       "      <td>1643719754</td>\n",
       "      <td>twasRequired</td>\n",
       "      <td>0</td>\n",
       "      <td>1</td>\n",
       "      <td>True</td>\n",
       "      <td>can you customize your character appearance po...</td>\n",
       "      <td>0</td>\n",
       "      <td>{'neg': 0.0, 'neu': 0.911, 'pos': 0.089, 'comp...</td>\n",
       "      <td>0.3094</td>\n",
       "      <td>positive</td>\n",
       "    </tr>\n",
       "    <tr>\n",
       "      <th>1396</th>\n",
       "      <td>eu server popularity map</td>\n",
       "      <td>EU Server Popularity Map</td>\n",
       "      <td></td>\n",
       "      <td>lostarkgame</td>\n",
       "      <td>1643720039</td>\n",
       "      <td>apretorii</td>\n",
       "      <td>0</td>\n",
       "      <td>1</td>\n",
       "      <td>False</td>\n",
       "      <td>eu server popularity map</td>\n",
       "      <td>0</td>\n",
       "      <td>{'neg': 0.0, 'neu': 0.492, 'pos': 0.508, 'comp...</td>\n",
       "      <td>0.4767</td>\n",
       "      <td>positive</td>\n",
       "    </tr>\n",
       "    <tr>\n",
       "      <th>1397</th>\n",
       "      <td>question about revive feathers hi guys,\\n\\ni a...</td>\n",
       "      <td>Question about revive feathers</td>\n",
       "      <td>Hi Guys,\\n\\nI am just thinking about picking u...</td>\n",
       "      <td>lostarkgame</td>\n",
       "      <td>1643720592</td>\n",
       "      <td>rhoxt</td>\n",
       "      <td>0</td>\n",
       "      <td>1</td>\n",
       "      <td>True</td>\n",
       "      <td>question about revive feather hi guys, i am ju...</td>\n",
       "      <td>0</td>\n",
       "      <td>{'neg': 0.0, 'neu': 0.888, 'pos': 0.112, 'comp...</td>\n",
       "      <td>0.7650</td>\n",
       "      <td>positive</td>\n",
       "    </tr>\n",
       "    <tr>\n",
       "      <th>1398</th>\n",
       "      <td>pve endgame lower grind to endgame build / cas...</td>\n",
       "      <td>PvE Endgame Lower Grind to Endgame Build / Cas...</td>\n",
       "      <td>Hello - Seeing a lot of lists and info. \\n\\nIt...</td>\n",
       "      <td>lostarkgame</td>\n",
       "      <td>1643720838</td>\n",
       "      <td>RonDonk2020</td>\n",
       "      <td>0</td>\n",
       "      <td>1</td>\n",
       "      <td>True</td>\n",
       "      <td>pve endgame lower grind to endgame build / cas...</td>\n",
       "      <td>0</td>\n",
       "      <td>{'neg': 0.079, 'neu': 0.655, 'pos': 0.265, 'co...</td>\n",
       "      <td>0.9294</td>\n",
       "      <td>positive</td>\n",
       "    </tr>\n",
       "    <tr>\n",
       "      <th>1399</th>\n",
       "      <td>him</td>\n",
       "      <td>HIM</td>\n",
       "      <td></td>\n",
       "      <td>lostarkgame</td>\n",
       "      <td>1643721789</td>\n",
       "      <td>mann_moth</td>\n",
       "      <td>0</td>\n",
       "      <td>1</td>\n",
       "      <td>False</td>\n",
       "      <td>him</td>\n",
       "      <td>0</td>\n",
       "      <td>{'neg': 0.0, 'neu': 1.0, 'pos': 0.0, 'compound...</td>\n",
       "      <td>0.0000</td>\n",
       "      <td>neutral</td>\n",
       "    </tr>\n",
       "  </tbody>\n",
       "</table>\n",
       "<p>1386 rows × 14 columns</p>\n",
       "</div>"
      ],
      "text/plain": [
       "                                     title_and_selftext  \\\n",
       "0     healer main 9.2 returning player and i feel li...   \n",
       "1                   finding a gaming partner? [removed]   \n",
       "2     sound issue, directional hello!\\n\\ni just boug...   \n",
       "3     is dispelling cc in pvp uncommon knowledge? i ...   \n",
       "4                                                 nice    \n",
       "...                                                 ...   \n",
       "1395  can you customize your characters appearance p...   \n",
       "1396                          eu server popularity map    \n",
       "1397  question about revive feathers hi guys,\\n\\ni a...   \n",
       "1398  pve endgame lower grind to endgame build / cas...   \n",
       "1399                                               him    \n",
       "\n",
       "                                                  title  \\\n",
       "0                                       Healer main 9.2   \n",
       "1                             Finding a gaming partner?   \n",
       "2                              Sound issue, directional   \n",
       "3           Is dispelling CC in PVP uncommon knowledge?   \n",
       "4                                                  NICE   \n",
       "...                                                 ...   \n",
       "1395  Can you customize your characters appearance p...   \n",
       "1396                           EU Server Popularity Map   \n",
       "1397                     Question about revive feathers   \n",
       "1398  PvE Endgame Lower Grind to Endgame Build / Cas...   \n",
       "1399                                                HIM   \n",
       "\n",
       "                                               selftext    subreddit  \\\n",
       "0     Returning player and I feel like it is quite o...          wow   \n",
       "1                                             [removed]          wow   \n",
       "2     Hello!\\n\\nI just bought a new PC and for some ...          wow   \n",
       "3     I play arena a lot wouldn't say I'm amazing (m...          wow   \n",
       "4                                                                wow   \n",
       "...                                                 ...          ...   \n",
       "1395  Lots of Korean games allow that if you have th...  lostarkgame   \n",
       "1396                                                     lostarkgame   \n",
       "1397  Hi Guys,\\n\\nI am just thinking about picking u...  lostarkgame   \n",
       "1398  Hello - Seeing a lot of lists and info. \\n\\nIt...  lostarkgame   \n",
       "1399                                                     lostarkgame   \n",
       "\n",
       "      created_utc        author  num_comments  score  is_self  \\\n",
       "0      1644701779       BengtJJ             0      1     True   \n",
       "1      1644703269     stuart210             0      1     True   \n",
       "2      1644704336  aNteriorDude             0      1     True   \n",
       "3      1644704385  Mechgyrasaur             0      1     True   \n",
       "4      1644704733  Bliztivision             1      1    False   \n",
       "...           ...           ...           ...    ...      ...   \n",
       "1395   1643719754  twasRequired             0      1     True   \n",
       "1396   1643720039     apretorii             0      1    False   \n",
       "1397   1643720592         rhoxt             0      1     True   \n",
       "1398   1643720838   RonDonk2020             0      1     True   \n",
       "1399   1643721789     mann_moth             0      1    False   \n",
       "\n",
       "                                filtered_title_selftext  subreddit_class  \\\n",
       "0     healer main 9.2 returning player and i feel li...                1   \n",
       "1                   finding a gaming partner? [removed]                1   \n",
       "2     sound issue, directional hello! i just bought ...                1   \n",
       "3     is dispelling cc in pvp uncommon knowledge? i ...                1   \n",
       "4                                                  nice                1   \n",
       "...                                                 ...              ...   \n",
       "1395  can you customize your character appearance po...                0   \n",
       "1396                           eu server popularity map                0   \n",
       "1397  question about revive feather hi guys, i am ju...                0   \n",
       "1398  pve endgame lower grind to endgame build / cas...                0   \n",
       "1399                                                him                0   \n",
       "\n",
       "                                              sentiment  sentiment_compound  \\\n",
       "0     {'neg': 0.028, 'neu': 0.733, 'pos': 0.239, 'co...              0.9549   \n",
       "1     {'neg': 0.0, 'neu': 1.0, 'pos': 0.0, 'compound...              0.0000   \n",
       "2     {'neg': 0.107, 'neu': 0.786, 'pos': 0.107, 'co...             -0.0752   \n",
       "3     {'neg': 0.104, 'neu': 0.773, 'pos': 0.124, 'co...              0.2696   \n",
       "4     {'neg': 0.0, 'neu': 0.0, 'pos': 1.0, 'compound...              0.4215   \n",
       "...                                                 ...                 ...   \n",
       "1395  {'neg': 0.0, 'neu': 0.911, 'pos': 0.089, 'comp...              0.3094   \n",
       "1396  {'neg': 0.0, 'neu': 0.492, 'pos': 0.508, 'comp...              0.4767   \n",
       "1397  {'neg': 0.0, 'neu': 0.888, 'pos': 0.112, 'comp...              0.7650   \n",
       "1398  {'neg': 0.079, 'neu': 0.655, 'pos': 0.265, 'co...              0.9294   \n",
       "1399  {'neg': 0.0, 'neu': 1.0, 'pos': 0.0, 'compound...              0.0000   \n",
       "\n",
       "     sentiment_class  \n",
       "0           positive  \n",
       "1            neutral  \n",
       "2           negative  \n",
       "3           positive  \n",
       "4           positive  \n",
       "...              ...  \n",
       "1395        positive  \n",
       "1396        positive  \n",
       "1397        positive  \n",
       "1398        positive  \n",
       "1399         neutral  \n",
       "\n",
       "[1386 rows x 14 columns]"
      ]
     },
     "execution_count": 91,
     "metadata": {},
     "output_type": "execute_result"
    }
   ],
   "source": [
    "df"
   ]
  },
  {
   "cell_type": "code",
   "execution_count": null,
   "id": "c13ca855-82c4-46e5-a1f8-34be41183daa",
   "metadata": {},
   "outputs": [],
   "source": []
  },
  {
   "cell_type": "code",
   "execution_count": 92,
   "id": "16278437-1f51-4293-8e9f-5df3b6e01058",
   "metadata": {},
   "outputs": [
    {
     "data": {
      "text/plain": [
       "positive    798\n",
       "neutral     310\n",
       "negative    278\n",
       "Name: sentiment_class, dtype: int64"
      ]
     },
     "execution_count": 92,
     "metadata": {},
     "output_type": "execute_result"
    }
   ],
   "source": [
    "df['sentiment_class'].value_counts()"
   ]
  },
  {
   "cell_type": "code",
   "execution_count": 93,
   "id": "42f6c155-02ab-4f84-b36b-8d13f9a7651a",
   "metadata": {},
   "outputs": [
    {
     "data": {
      "text/html": [
       "<div>\n",
       "<style scoped>\n",
       "    .dataframe tbody tr th:only-of-type {\n",
       "        vertical-align: middle;\n",
       "    }\n",
       "\n",
       "    .dataframe tbody tr th {\n",
       "        vertical-align: top;\n",
       "    }\n",
       "\n",
       "    .dataframe thead th {\n",
       "        text-align: right;\n",
       "    }\n",
       "</style>\n",
       "<table border=\"1\" class=\"dataframe\">\n",
       "  <thead>\n",
       "    <tr style=\"text-align: right;\">\n",
       "      <th></th>\n",
       "      <th>filtered_title_selftext</th>\n",
       "      <th>sentiment_compound</th>\n",
       "    </tr>\n",
       "  </thead>\n",
       "  <tbody>\n",
       "    <tr>\n",
       "      <th>197</th>\n",
       "      <td>prioritise race or faction? hey! **if you dont...</td>\n",
       "      <td>0.9975</td>\n",
       "    </tr>\n",
       "    <tr>\n",
       "      <th>649</th>\n",
       "      <td>what a january! microsoft, \"leaks\", cross fact...</td>\n",
       "      <td>0.9971</td>\n",
       "    </tr>\n",
       "    <tr>\n",
       "      <th>542</th>\n",
       "      <td>alternative to wow for a relatively new mmorpg...</td>\n",
       "      <td>0.9956</td>\n",
       "    </tr>\n",
       "    <tr>\n",
       "      <th>119</th>\n",
       "      <td>the issue of exclusively casual player progres...</td>\n",
       "      <td>0.9952</td>\n",
       "    </tr>\n",
       "    <tr>\n",
       "      <th>324</th>\n",
       "      <td>help a noob out! hello all! i am approaching l...</td>\n",
       "      <td>0.9948</td>\n",
       "    </tr>\n",
       "    <tr>\n",
       "      <th>...</th>\n",
       "      <td>...</td>\n",
       "      <td>...</td>\n",
       "    </tr>\n",
       "    <tr>\n",
       "      <th>151</th>\n",
       "      <td>9.2 fake patch note made by me mage- mages can...</td>\n",
       "      <td>-0.9806</td>\n",
       "    </tr>\n",
       "    <tr>\n",
       "      <th>282</th>\n",
       "      <td>unlocking allied race im bored and i see lot o...</td>\n",
       "      <td>-0.9841</td>\n",
       "    </tr>\n",
       "    <tr>\n",
       "      <th>35</th>\n",
       "      <td>why do i keep losing threat? hello. i am playi...</td>\n",
       "      <td>-0.9887</td>\n",
       "    </tr>\n",
       "    <tr>\n",
       "      <th>44</th>\n",
       "      <td>class with this kind of skill i remember some ...</td>\n",
       "      <td>-0.9889</td>\n",
       "    </tr>\n",
       "    <tr>\n",
       "      <th>259</th>\n",
       "      <td>auction house botting on many eu realm tldr: t...</td>\n",
       "      <td>-0.9928</td>\n",
       "    </tr>\n",
       "  </tbody>\n",
       "</table>\n",
       "<p>694 rows × 2 columns</p>\n",
       "</div>"
      ],
      "text/plain": [
       "                               filtered_title_selftext  sentiment_compound\n",
       "197  prioritise race or faction? hey! **if you dont...              0.9975\n",
       "649  what a january! microsoft, \"leaks\", cross fact...              0.9971\n",
       "542  alternative to wow for a relatively new mmorpg...              0.9956\n",
       "119  the issue of exclusively casual player progres...              0.9952\n",
       "324  help a noob out! hello all! i am approaching l...              0.9948\n",
       "..                                                 ...                 ...\n",
       "151  9.2 fake patch note made by me mage- mages can...             -0.9806\n",
       "282  unlocking allied race im bored and i see lot o...             -0.9841\n",
       "35   why do i keep losing threat? hello. i am playi...             -0.9887\n",
       "44   class with this kind of skill i remember some ...             -0.9889\n",
       "259  auction house botting on many eu realm tldr: t...             -0.9928\n",
       "\n",
       "[694 rows x 2 columns]"
      ]
     },
     "execution_count": 93,
     "metadata": {},
     "output_type": "execute_result"
    }
   ],
   "source": [
    "positive_wow_posts = df.loc[df['subreddit_class'] == 1,['filtered_title_selftext', 'sentiment_compound']].sort_values(by='sentiment_compound', ascending=False)\n",
    "positive_wow_posts"
   ]
  },
  {
   "cell_type": "code",
   "execution_count": 94,
   "id": "bb1a52fc-0c24-4bf2-986f-71c0fcee1c34",
   "metadata": {
    "collapsed": true,
    "jupyter": {
     "outputs_hidden": true
    },
    "tags": []
   },
   "outputs": [
    {
     "name": "stdout",
     "output_type": "stream",
     "text": [
      "prioritise race or faction? hey! **if you dont want to read it all the big white text is a summary and the important stuff.** now that blizzard is making horde and alliance being able to play with eachother in 9.2.5 i think, do you think race or faction is the most important part to pick for making a new chcaracter? right now i play a belf paladin. i have always played horde and i love the faction. the lore character that are alive are better imo than the alliance ones. the only alliance character i really like is anduin. and kinda jaina. i also like being surrounded by the horde race alot more than the alliance races. however, i dont like the race in horde that can play paladin. i like the race but not just from a gameplay perspective. they are either too big or too weird looking in armor for example. i love playing a human in alliance. they fit in every armor, and look great on every mount. i care about the lore of my character and i just want to play a human in a fantasy world, idk why i just love it. stormwind is also really cool, i think i like it more than orgrimmar or they are at the same level. **so i would like to play a human, stormwind is really cool. i like the horde lore character better though and being surrounded by the horde race more instead of the alliance. not that i dislike alliance but i prefer the horde.** **since there will not be another horde v alliance war expansion, should i just pick human for gameplay? if im not wrong there hasnt been a quest in shadowlands that wa locked for just horde or alliance? so i should be able to play human and kinda feel like im surrounded by horde character and race while being alliance.** \n",
      "\n",
      "what a january! microsoft, \"leaks\", cross faction, and blizzard listening to player feedback. january ha come to an end, and concerning wow, it could have been a whole lot le interesting. the biggest suprising news were of course the one concerning microsoft acquiring activision blizzard by 2023, which to me, came completely out of blue. it yet to be seen how it will affect the franchise in the long term, but safe to say, it did catch our attention. aside from that we have entered the so called \"leak season\". 10.0 speculation ha been big part of wow related social media. we have gotten both fake leak and datamining, and what remains true is yet to be revealed. im getting the feeling the actual announcement cannot be too far off. blizzard ha adressed - to some extend - several issue concerning zereth mortis. 9.2 still ha its share of issues, but many of the issue have indeed been toned down, a feedback ha been given. this feel really good. concerning how hot issue blizzard not listening to player feedback ha been, them actually adressing these issue like this give me good feels. in tbc classic we got the launch of mt. hyjal and black temple. its been great fun imo, and i think the launch went better than kt/ssc. so thats great. then of course we got the recent news about the apparent \"boosting clan\" crackdown. how this will turn out is yet to be seen but the right idea is there. same could be said about earlier post made by blizzards co-lead (actually just \"lead\") mike ybarra, where he basically - filtering out the corporate talk - talked about mistake that have been made and expectation that have not been met concerning blizzard. and finally - just couple of hour ago - we finally got info that testing for cross faction raids, dungeon and rated pvp will begin. this to me is *really* good news. it is obviously no magic button that will solve everything, but to me, it is one of the more magical button available atm. now you might think january just sucked - and thats fine - but it wa undeniably quite interesting month for wow community. what do you guy think wa the \"highlight\" of january? \n",
      "\n",
      "alternative to wow for a relatively new mmorpg player who enjoyed wow? hey there... i played my first mmo in 2020 and it happened to be world of warcraft. i bought battle for azeroth because i wanted to play with a friend, and then i wa shocked to find out how unimaginably expensive it wa just to play this game. you need to pay more than most tv subscription just to be able to login, and you need to purchase the update separately. needle to say, i stopped playing after my first subscription ended, but i kind of enjoyed the whole \"making your character stronger to the point where when you return to easy area you stomp the npcs\" concept. i enjoyed the lore and enjoyed exploring. ive gotten the itch for that kind of gameplay again in 2022, but i dont want to touch wow, not just because its expensive a fuck but also because that money would be going to the worst company in the world right now. anyway, i tried almost every other mmorpgs i could find, but none of them felt quite the same. rift came the closest to wow but that game ha died a long time ago. i need some advice a to what kind of (not expensive, preferably free or a one time purchase) mmos i could try out. i figured i would ask here since it seems like the place for that. thanks in advance! ; *discussion about the price of wow always become very toxic, and i dont want to hear it, it isnt part of my question. i dont care if \"the price per time played is very low\", i dont want the stress of feeling like im wasting my money if i dont play the game 24/7. every time i tell people i dont want to play wow because it is expensive they give me some bullshit like that. im not going to be paying 78 dollar per year (more expensive than any single purchase game ive ever bought in my life) just for the permission to play the base game without new content. its absurd, leave me alone.* \n",
      "\n"
     ]
    }
   ],
   "source": [
    "#looking at the top 3 positvely scored post from the wow subreddit data\n",
    "for post in positive_wow_posts['filtered_title_selftext'][:3]:\n",
    "    print(post, '\\n')"
   ]
  },
  {
   "cell_type": "code",
   "execution_count": 95,
   "id": "1e8166ae-a38f-439a-9e5a-3b780b124888",
   "metadata": {
    "collapsed": true,
    "jupyter": {
     "outputs_hidden": true
    },
    "tags": []
   },
   "outputs": [
    {
     "name": "stdout",
     "output_type": "stream",
     "text": [
      "why do i keep losing threat? hello. i am playing a level 47 protection warrior. i just did a random dungeon (freehold) with a bunch of player who were all le than level 20. two priests, one healing, one playing shadow, another warrior (i wanna say arms?), and a retribution paladin. throughout the entire dungeon, i kept having threat ripped away from me, usually by the paladin, and occasionally the shadow priest. i wa spamming all of my aoe attack and taunt on cooldown, but i kept losing threat. i even tested on the last enemy pack before the last boss, i kept spamming heroic throw at one enemy that wa attacking the shadow priest way off in the distance by himself, and even after 5 heroic throw i could not generate enough threat to get him to stop attacking the priest. i thought heroic throw wa supposed to generate a higher-than-normal amount of threat? the best part wa that the paladin didnt even have half of his armor slot filled. missing a helmet, pauldrons/spaulders, a cape, jewelry, and trinkets, and still he wa managing to generate more threat than me, even on bosses. \n",
      "\n",
      "class with this kind of skill i remember some awesome skill in a old mmorpg called holy beast, i used to play alot when i wa a kid. since then i havent played any mmorpgs. i wonder if there are any class with similar skill in this game. can someone tell me? **ilusionist** *powerbind*\\- illusionists continuous wide range spell that creates a barrier around yourself, which make enemy in range move and attack slower. buff last \\~240 second enemy movement speed: -0.80 enemy attack speed: -0.80 *evilbind*\\- illusionists wide range dark magic spell that creates a barrier around youself, which deal continuous damage to all enemy who are near you. damage is dealt every 5 seconds. buff last \\~180 second *soulflame*\\- illusionists infectious flame spell. the target enemy becomes \"infectious\" for 30 seconds. any enemy near the infectious becomes \"infected\" for 7 seconds. the infectious infects every 6 seconds. the infectious take (\\~350 dark damage?), while the infected are dealt damage over time, every 2 seconds. in addition, both infectious and infected monster are slowed. **healer** *life spring*\\- healers wide range continuous healing spell that creates a barrier around yourself and heals ally who are near you. own status: life spring barrier. recovers 2,400 hp every 2 seconds. buff last \\~120 second \n",
      "\n",
      "auction house botting on many eu realm tldr: there seems to be a trend in auction house bot on many retail realms, go to booty bay and check for people having name made of almost all weird letters, with no achievments and logging in and out every 2 min even when the auctioneer is dead i play on relative high pop realm and i wasnt surprised to see people reposting pretty quickly so my auction would fall behind. however i found it quite interesting that there wa one guy doing it pretty constantly. another distinguishing thing about this guy wa his name. he wa using all weird letter that you would have to look up first a those are only typeable with numblock. at first i wa just thinking this guy is just a real hardcore fella that like the ah a lot. however after adding him to the friendlist i saw he ha been online offline 24/7 on every possible time i checked. kinda weird but you know could be just someone quite invested. a couple of day later i wa explaining tsm to a friend of mine on a different server. after posting some auction he noticed his auction also get posted over however there wa something quite similar. there wa also a guy with very weird letter and the same exact log in and log out behaviour. same a the guy on my server this guy wa level 2 and wa hanging out at booty bay. my mate wa quite angry about it and whispered the guy with no answer so he went on his way to booty bay himself. while we were talking i noticed the guy from my server coming online and offline thought he wasnt cancel scanning anymore. when my friend arrived in booty bay he noticed that the auctioneer wa dead and his and my realm were sharing a shard so he could see both guy doing the botish behaviour and a third one from a different server. they were logging in instantly targeting the auctioneer corpse and logging off after that. a i arrived there too we noticed a druid sitting in stealth so i asked him if he did kill the auctioneer. he confirmed he did that and that he wa trying to report this guy for week now without any success. today after reading up some reddit post and thread about ah botting i saw that this is quite a sensitive topic a many canclescanners instantly feel attacked. so before making a post on reddit i thought i should investigate a bit more on different servers. i checked 5 other realm at booty bay and i found similar case on all of them: 1. weird name written in with a lot of numblock letter 2. clean account no achievement 3. logging in exactly the same interval 4. no reaction to dead auctioneer except instantly logging out and coming back after the same time so why i first wasnt sure i got many message from people noticing this trend upon posting about this in /woweconomy. i really advice you checking booty bay especially on the rp realm a the bot often use sharding to hop to a realm where nobody will bother them and kill the auctioneer which kinda brick the bot. check for the weird symbol in their name and make a picture for yourself before you report them. \n",
      "\n"
     ]
    }
   ],
   "source": [
    "#looking at the top 3 negatively scored wow subreddit post data\n",
    "for post in positive_wow_posts['filtered_title_selftext'][-3:]:\n",
    "    print(post, '\\n')"
   ]
  },
  {
   "cell_type": "code",
   "execution_count": null,
   "id": "d47ad977-9c05-47b8-a714-730b7ddd3def",
   "metadata": {},
   "outputs": [],
   "source": []
  },
  {
   "cell_type": "code",
   "execution_count": 96,
   "id": "856c1dd1-c9be-40da-9b28-a0b45d2b95db",
   "metadata": {},
   "outputs": [],
   "source": [
    "#going to separate my two subreddits for now\n",
    "wow_posts = df[df['subreddit']=='wow']\n",
    "lostark_posts = df[df['subreddit']=='lostarkgame']"
   ]
  },
  {
   "cell_type": "code",
   "execution_count": 97,
   "id": "712211ca-a4cd-4767-8c29-a2d810c98567",
   "metadata": {},
   "outputs": [
    {
     "data": {
      "image/png": "[encoded data removed]",
      "text/plain": [
       "<Figure size 504x504 with 1 Axes>"
      ]
     },
     "metadata": {
      "needs_background": "light"
     },
     "output_type": "display_data"
    }
   ],
   "source": [
    "plt.figure(figsize=(7,7))\n",
    "plt.hist(wow_posts['sentiment_compound'], bins = 30, label = 'WoW')\n",
    "plt.hist(lostark_posts['sentiment_compound'], bins = 30, label = 'Lost Ark')\n",
    "plt.title('Distribution of Sentiment Compound Score')\n",
    "plt.legend(loc = 'upper right');"
   ]
  },
  {
   "cell_type": "markdown",
   "id": "5b656050-eb10-47f5-99a3-ad6706816cd5",
   "metadata": {},
   "source": [
    "We can see that a lot of the posts from both subreddits are neutral but its a different story on the positive and negative ends. "
   ]
  },
  {
   "cell_type": "code",
   "execution_count": 98,
   "id": "2d7e99ea-ad74-4162-bf82-759e379cf478",
   "metadata": {},
   "outputs": [
    {
     "data": {
      "image/png": "[encoded data removed]",
      "text/plain": [
       "<Figure size 504x504 with 1 Axes>"
      ]
     },
     "metadata": {
      "needs_background": "light"
     },
     "output_type": "display_data"
    }
   ],
   "source": [
    "#looking closer at the positive end:\n",
    "plt.figure(figsize=(7,7))\n",
    "plt.hist(wow_posts[wow_posts['sentiment_compound'] > 0.1]['sentiment_compound'], bins = 30, label = 'WoW')\n",
    "plt.hist(lostark_posts[lostark_posts['sentiment_compound'] > 0.1]['sentiment_compound'], bins = 30, label = 'Lost Ark')\n",
    "plt.title('Distribution of Sentiment Compound Score POSITIVE END')\n",
    "plt.legend(loc = 'upper right');"
   ]
  },
  {
   "cell_type": "markdown",
   "id": "9f66977c-f35c-4b66-a173-2f744f1f3952",
   "metadata": {},
   "source": [
    "Looking at the positive end, we see that the World of Warcraft subreddit has a lot of the highest positive scores for sentimental analysis."
   ]
  },
  {
   "cell_type": "code",
   "execution_count": 99,
   "id": "23e8381b-9005-4cc2-9d0e-c2a455070109",
   "metadata": {},
   "outputs": [
    {
     "data": {
      "image/png": "[encoded data removed]",
      "text/plain": [
       "<Figure size 504x504 with 1 Axes>"
      ]
     },
     "metadata": {
      "needs_background": "light"
     },
     "output_type": "display_data"
    }
   ],
   "source": [
    "#looking closer at the negative end:\n",
    "plt.figure(figsize=(7,7))\n",
    "plt.hist(wow_posts[wow_posts['sentiment_compound'] < -0.1]['sentiment_compound'], bins = 30, label = 'WoW')\n",
    "plt.hist(lostark_posts[lostark_posts['sentiment_compound'] < -0.1]['sentiment_compound'], bins = 30, label = 'Lost Ark')\n",
    "plt.title('Distribution of Sentiment Compound Score NEGATIVE END')\n",
    "plt.legend(loc = 'upper right');"
   ]
  },
  {
   "cell_type": "markdown",
   "id": "84dcefc3-e7f0-44c1-bbbf-99b2e7739da6",
   "metadata": {},
   "source": [
    "Looking at the negative end, we see that the World of Warcraft subreddit has a lot of highest negative scores for sentimental analysis."
   ]
  },
  {
   "cell_type": "code",
   "execution_count": 100,
   "id": "f924aea1-0f2a-47f8-bc30-6e1bb326c131",
   "metadata": {},
   "outputs": [
    {
     "data": {
      "text/plain": [
       "positive    417\n",
       "neutral     150\n",
       "negative    127\n",
       "Name: sentiment_class, dtype: int64"
      ]
     },
     "execution_count": 100,
     "metadata": {},
     "output_type": "execute_result"
    }
   ],
   "source": [
    "wow_posts['sentiment_class'].value_counts()"
   ]
  },
  {
   "cell_type": "code",
   "execution_count": 101,
   "id": "ac3aee4c-8e7c-4c66-b109-ed4a8079131a",
   "metadata": {},
   "outputs": [
    {
     "data": {
      "text/plain": [
       "positive    381\n",
       "neutral     160\n",
       "negative    151\n",
       "Name: sentiment_class, dtype: int64"
      ]
     },
     "execution_count": 101,
     "metadata": {},
     "output_type": "execute_result"
    }
   ],
   "source": [
    "lostark_posts['sentiment_class'].value_counts()"
   ]
  },
  {
   "cell_type": "code",
   "execution_count": null,
   "id": "ef9061b0-c3e5-42d4-9e1c-1a33e53c25ec",
   "metadata": {},
   "outputs": [],
   "source": []
  },
  {
   "cell_type": "code",
   "execution_count": 102,
   "id": "ddeeded1-787e-49ef-a1dc-7eb4cf246e46",
   "metadata": {},
   "outputs": [
    {
     "data": {
      "image/png": "[encoded data removed]",
      "text/plain": [
       "<Figure size 432x288 with 1 Axes>"
      ]
     },
     "metadata": {
      "needs_background": "light"
     },
     "output_type": "display_data"
    }
   ],
   "source": [
    "#https://www.python-graph-gallery.com/11-grouped-barplot\n",
    "# set width of bars\n",
    "barWidth = 0.25\n",
    "\n",
    "# Set position of bar on X axis\n",
    "r1 = np.arange(len(lostark_posts['sentiment_class'].value_counts()))\n",
    "r2 = [x + barWidth for x in r1]\n",
    "\n",
    "# Make the plot\n",
    "plt.bar(r1, lostark_posts['sentiment_class'].value_counts(), color='#7f6d5f', width=barWidth, edgecolor='white', label='Lost Ark')\n",
    "plt.bar(r2, wow_posts['sentiment_class'].value_counts(), color='#557f2d', width=barWidth, edgecolor='white', label='WoW')\n",
    "\n",
    "\n",
    "# Add xticks on the middle of the group bars\n",
    "plt.title('Total Type of Sentiment ')\n",
    "plt.xlabel('group', fontweight='bold')\n",
    "plt.xticks([r + barWidth for r in range(len(lostark_posts['sentiment_class'].value_counts().to_list()))], ['positive', 'neutral', 'negative'])\n",
    "\n",
    "\n",
    "\n",
    "# Create legend & Show graphic\n",
    "plt.legend()\n",
    "plt.show()\n",
    "\n"
   ]
  },
  {
   "cell_type": "code",
   "execution_count": 103,
   "id": "fe80b9b5-e330-47ea-88ce-9ebd66ce305e",
   "metadata": {},
   "outputs": [
    {
     "data": {
      "text/plain": [
       "range(0, 3)"
      ]
     },
     "execution_count": 103,
     "metadata": {},
     "output_type": "execute_result"
    }
   ],
   "source": [
    "range(len(lostark_posts['sentiment_class'].value_counts().to_list()))"
   ]
  },
  {
   "cell_type": "code",
   "execution_count": 104,
   "id": "b9aed269-a5ec-425e-8c83-9ccc0c3efb42",
   "metadata": {},
   "outputs": [
    {
     "data": {
      "text/plain": [
       "positive    381\n",
       "neutral     160\n",
       "negative    151\n",
       "Name: sentiment_class, dtype: int64"
      ]
     },
     "execution_count": 104,
     "metadata": {},
     "output_type": "execute_result"
    }
   ],
   "source": [
    "lostark_posts['sentiment_class'].value_counts()"
   ]
  },
  {
   "cell_type": "code",
   "execution_count": 105,
   "id": "937610d2-f40e-4b86-bbc7-7c48fb783c44",
   "metadata": {},
   "outputs": [
    {
     "data": {
      "text/plain": [
       "positive    417\n",
       "neutral     150\n",
       "negative    127\n",
       "Name: sentiment_class, dtype: int64"
      ]
     },
     "execution_count": 105,
     "metadata": {},
     "output_type": "execute_result"
    }
   ],
   "source": [
    "wow_posts['sentiment_class'].value_counts()"
   ]
  },
  {
   "cell_type": "code",
   "execution_count": null,
   "id": "a7512029-f125-48f3-afc3-6de48170f63a",
   "metadata": {},
   "outputs": [],
   "source": []
  },
  {
   "cell_type": "code",
   "execution_count": null,
   "id": "6ce8fc80-9682-4ab1-90c6-8aa24d32fb4d",
   "metadata": {},
   "outputs": [],
   "source": []
  },
  {
   "cell_type": "code",
   "execution_count": 106,
   "id": "66f8ae7a-db33-4ccc-a0d8-6068b052d8f9",
   "metadata": {},
   "outputs": [
    {
     "name": "stdout",
     "output_type": "stream",
     "text": [
      "<class 'pandas.core.frame.DataFrame'>\n",
      "Int64Index: 1386 entries, 0 to 1399\n",
      "Data columns (total 14 columns):\n",
      " #   Column                   Non-Null Count  Dtype  \n",
      "---  ------                   --------------  -----  \n",
      " 0   title_and_selftext       1386 non-null   object \n",
      " 1   title                    1386 non-null   object \n",
      " 2   selftext                 1386 non-null   object \n",
      " 3   subreddit                1386 non-null   object \n",
      " 4   created_utc              1386 non-null   int64  \n",
      " 5   author                   1386 non-null   object \n",
      " 6   num_comments             1386 non-null   int64  \n",
      " 7   score                    1386 non-null   int64  \n",
      " 8   is_self                  1386 non-null   bool   \n",
      " 9   filtered_title_selftext  1386 non-null   object \n",
      " 10  subreddit_class          1386 non-null   int64  \n",
      " 11  sentiment                1386 non-null   object \n",
      " 12  sentiment_compound       1386 non-null   float64\n",
      " 13  sentiment_class          1386 non-null   object \n",
      "dtypes: bool(1), float64(1), int64(4), object(8)\n",
      "memory usage: 185.2+ KB\n"
     ]
    }
   ],
   "source": [
    "df.info()"
   ]
  },
  {
   "cell_type": "code",
   "execution_count": null,
   "id": "bea6e2a5-df63-47a0-a054-2913406e20b6",
   "metadata": {},
   "outputs": [],
   "source": []
  },
  {
   "cell_type": "code",
   "execution_count": null,
   "id": "fcf10b94-940a-467d-858d-c9cfb5346ee9",
   "metadata": {},
   "outputs": [],
   "source": []
  },
  {
   "cell_type": "markdown",
   "id": "dcdb81ac-d824-46b1-93fa-f8ca4afe980c",
   "metadata": {
    "tags": []
   },
   "source": [
    "# Modeling"
   ]
  },
  {
   "cell_type": "code",
   "execution_count": null,
   "id": "3218a480-9f67-45a4-b994-28c0262de091",
   "metadata": {},
   "outputs": [],
   "source": [
    "#After doing the transform on countvectorizer   (REMEMBER YOU TRANSFORMED IT TO GET TI READY FOR MACHINE LEARNING!)\n",
    "# after fitting then transforming x_train above.. we can plug X_train into all types of machine learning algorithsm!\n",
    "lreg_s = LogisticRegression(random_state=42)\n"
   ]
  },
  {
   "cell_type": "code",
   "execution_count": null,
   "id": "3122082e-99b6-4a7b-aa28-8f78d93bbac4",
   "metadata": {},
   "outputs": [],
   "source": [
    "lreg_s.fit(X_train, y_train)"
   ]
  },
  {
   "cell_type": "code",
   "execution_count": null,
   "id": "0de02831-d5f0-4ec4-b056-11f9abdca2ed",
   "metadata": {},
   "outputs": [],
   "source": [
    "lreg_s.score(X_train, y_train), lreg_s.score(X_test, y_test) "
   ]
  },
  {
   "cell_type": "code",
   "execution_count": null,
   "id": "88154b99-bd4a-4f8a-833e-60f9c14e5b94",
   "metadata": {},
   "outputs": [],
   "source": [
    "from sklearn.model_selection import cross_val_score\n",
    "#cross validation.. it takes the data that already exists creates its samples from the data we already have and it simulates new data\n",
    "# its like my accuracy score.. also a reader on how it will react to new data"
   ]
  },
  {
   "cell_type": "code",
   "execution_count": null,
   "id": "98e59b46-3117-4e3e-b612-8ec2d9ec562f",
   "metadata": {},
   "outputs": [],
   "source": [
    "cross_val_score(estimator=lreg_s, X = X_train, y =  y_train, cv= 5).mean()"
   ]
  },
  {
   "cell_type": "code",
   "execution_count": null,
   "id": "51a6d64e-83e9-4d27-af97-39da7b2072e9",
   "metadata": {},
   "outputs": [],
   "source": [
    "lreg_s.coef_"
   ]
  },
  {
   "cell_type": "code",
   "execution_count": null,
   "id": "e382814d-36d1-460d-bba5-131ee4906c60",
   "metadata": {},
   "outputs": [],
   "source": [
    "lreg_coef = pd.DataFrame({\n",
    "    'coef': lreg_s.coef_[0],\n",
    "    'exp(coef)': np.exp(lreg_s.coef_[0])\n",
    "}, index=X_train_df.drop(columns='subreddit_class').columns)"
   ]
  },
  {
   "cell_type": "code",
   "execution_count": null,
   "id": "893f6ba2-b8df-412a-89db-84b32b749bec",
   "metadata": {},
   "outputs": [],
   "source": [
    "lreg_coef"
   ]
  },
  {
   "cell_type": "code",
   "execution_count": null,
   "id": "3db56c38-35ce-47df-8527-805b490e565c",
   "metadata": {},
   "outputs": [],
   "source": [
    "lreg_coef.sort_values(by='exp(coef)', ascending=False)[:15]"
   ]
  },
  {
   "cell_type": "markdown",
   "id": "d0a5c79d-4056-498b-b77e-b351c94873bc",
   "metadata": {},
   "source": [
    "Having the word 'wow' in a post, the subreddit is 8x likely to be the world of warcraft subreddit then being the lost ark subreddit.\n",
    "\n",
    "                'blizzard', about 5x likely to be the world of warcraft subreddit then being the lost ark subreddit."
   ]
  },
  {
   "cell_type": "code",
   "execution_count": null,
   "id": "4da2ecf3-13b9-4460-95a1-7c3aa15a0e86",
   "metadata": {},
   "outputs": [],
   "source": [
    "top_wow_coef = lreg_coef.sort_values(by='exp(coef)', ascending=False)[:15].index.to_list()"
   ]
  },
  {
   "cell_type": "code",
   "execution_count": null,
   "id": "a8f8bf3b-17ba-4c50-b0c2-f59bf86b8c0c",
   "metadata": {},
   "outputs": [],
   "source": [
    "lreg_coef.sort_values(by='exp(coef)', ascending=True)[:15]"
   ]
  },
  {
   "cell_type": "markdown",
   "id": "1db6a6a4-c4ae-42b1-b6ca-f1d734d05ec9",
   "metadata": {},
   "source": [
    "Having the word 'ark' in your post, it will be 80% less likely be in the wow subreddit.\n",
    "Having the word 'platinum' in your post, it will be 56% less likely be in the wow subreddit."
   ]
  },
  {
   "cell_type": "code",
   "execution_count": null,
   "id": "08fe3754-5278-4e74-b7d3-9dce16095ac7",
   "metadata": {},
   "outputs": [],
   "source": [
    "#https://quantifyinghealth.com/interpret-logistic-regression-coefficients/\n",
    "# for negative coef its 1 - exp(coef) = some_number%.. Interpretation above!\n",
    "# if these variables were standardized interpretation would be different. I would say something : \"an 1 standard dev increase in x, is some percentage likely tp increase the chance in y  (y would be classification.. which is 1)"
   ]
  },
  {
   "cell_type": "code",
   "execution_count": null,
   "id": "e3edcf51-3733-4d9c-9d94-eec2682f1f21",
   "metadata": {},
   "outputs": [],
   "source": [
    "top_lostark_coef = lreg_coef.sort_values(by='exp(coef)', ascending=True)[:15].index.to_list()\n",
    "top_lostark_coef"
   ]
  },
  {
   "cell_type": "code",
   "execution_count": null,
   "id": "e7bae736-8f20-451b-a013-35ca0680b97e",
   "metadata": {},
   "outputs": [],
   "source": []
  },
  {
   "cell_type": "code",
   "execution_count": null,
   "id": "bb8a66c9-b94e-4aba-84b0-307d41c5cf2c",
   "metadata": {},
   "outputs": [],
   "source": [
    "#from my top coef of each subreddit what is the sentiment it belongs in"
   ]
  },
  {
   "cell_type": "code",
   "execution_count": null,
   "id": "afce9025-95a2-493f-bcdc-ad5bbb5db197",
   "metadata": {},
   "outputs": [],
   "source": [
    "for coef in top_wow_coef:\n",
    "    print(coef)\n",
    "    print(df.loc[df['filtered_title_selftext'].str.contains(coef)]['sentiment_class'].value_counts())\n",
    "    print('=========================')"
   ]
  },
  {
   "cell_type": "markdown",
   "id": "63ff7576-3dbc-41f5-b6e0-fc87b505f25d",
   "metadata": {},
   "source": [
    "The word 'spec' is associated mostly in positive type of posts"
   ]
  },
  {
   "cell_type": "code",
   "execution_count": null,
   "id": "2a7fc326-031d-45c9-a049-cdd8541e206c",
   "metadata": {},
   "outputs": [],
   "source": [
    "for coef in top_lostark_coef:\n",
    "    print(coef)\n",
    "    print(df.loc[df['filtered_title_selftext'].str.contains(coef)]['sentiment_class'].value_counts())\n",
    "    print('=========================')"
   ]
  },
  {
   "cell_type": "markdown",
   "id": "b1bf0168-3095-4303-a4b2-e8df6a63d3d5",
   "metadata": {},
   "source": [
    "The word 'platinum' is associated mostly in positive comments."
   ]
  },
  {
   "cell_type": "code",
   "execution_count": null,
   "id": "6814fa5a-3283-4f41-aece-6aef0f342a60",
   "metadata": {},
   "outputs": [],
   "source": []
  },
  {
   "cell_type": "code",
   "execution_count": null,
   "id": "a0ea5dc4-baac-46ac-888d-fdbefca4a93d",
   "metadata": {},
   "outputs": [],
   "source": []
  },
  {
   "cell_type": "markdown",
   "id": "e7e186a4-f100-4a28-8850-8ff9f7308bb1",
   "metadata": {},
   "source": [
    "#### Logistic Regression"
   ]
  },
  {
   "cell_type": "code",
   "execution_count": null,
   "id": "e6bf6cec-a5a7-4cf0-a94d-0669cf34c592",
   "metadata": {},
   "outputs": [],
   "source": [
    "X = df['filtered_title_selftext']\n",
    "y = df['subreddit_class']\n",
    "\n",
    "X_train, X_test, y_train, y_test = train_test_split(X, y, test_size=0.2, stratify=y, random_state=42)\n"
   ]
  },
  {
   "cell_type": "code",
   "execution_count": null,
   "id": "70a9a5bb-9e62-41fa-bec9-f901e1644ff0",
   "metadata": {},
   "outputs": [],
   "source": []
  },
  {
   "cell_type": "code",
   "execution_count": null,
   "id": "04804a4a-7881-41d7-9d30-3eb73983665b",
   "metadata": {},
   "outputs": [],
   "source": [
    "y.value_counts(normalize=True)"
   ]
  },
  {
   "cell_type": "markdown",
   "id": "a6b99f20-5c58-45ea-81d8-7c2289fcb7d5",
   "metadata": {},
   "source": [
    "Baseline score is %50"
   ]
  },
  {
   "cell_type": "code",
   "execution_count": null,
   "id": "5b329c39-44c8-4175-b984-dfbdb3d69a76",
   "metadata": {},
   "outputs": [],
   "source": [
    "#Instantiate Countvectorizer\n",
    "cvec = CountVectorizer(stop_words='english')\n",
    "  #include the argument stop_words so we dont have to include words that little to no significance  for our analysis"
   ]
  },
  {
   "cell_type": "code",
   "execution_count": null,
   "id": "5d6ef801-8b6b-4583-9b2b-5c64f30ecdb1",
   "metadata": {},
   "outputs": [],
   "source": [
    "#fit the vectorizer onto our corpus\n",
    "cvec.fit(X_train) "
   ]
  },
  {
   "cell_type": "code",
   "execution_count": null,
   "id": "e3f4a00d-14a0-484d-8cdf-232dedc2dd34",
   "metadata": {},
   "outputs": [],
   "source": [
    "#transform the corpus\n",
    "X_train = cvec.transform(X_train)\n",
    "\n",
    "#transform the test\n",
    "X_test = cvec.transform(X_test)"
   ]
  },
  {
   "cell_type": "code",
   "execution_count": null,
   "id": "1a316dc1-262d-406a-978a-1ec7eee6dde6",
   "metadata": {},
   "outputs": [],
   "source": []
  },
  {
   "cell_type": "code",
   "execution_count": null,
   "id": "8b117dd5-cf5c-4467-b088-68859af08d06",
   "metadata": {},
   "outputs": [],
   "source": [
    "LogisticRegression().get_params()"
   ]
  },
  {
   "cell_type": "code",
   "execution_count": null,
   "id": "03ad2a2a-387c-41e8-be54-5be01c7741bf",
   "metadata": {},
   "outputs": [],
   "source": []
  },
  {
   "cell_type": "code",
   "execution_count": null,
   "id": "3ca462a2-2337-4683-9218-5e3a1bad92fd",
   "metadata": {},
   "outputs": [],
   "source": [
    "#create a dictionary of our Logisitc Regression hyperparameters\n",
    "lreg_params = {\n",
    "    'penalty': ['l1', 'l2'],\n",
    "    'C': [1, 0.1, 0.0001],\n",
    "    'solver': ['lbfgs', 'liblinear', 'saga'],\n",
    "    'max_iter': [5000, 7000]    #\n",
    "}"
   ]
  },
  {
   "cell_type": "code",
   "execution_count": null,
   "id": "a0c34db7-5788-4003-8e7c-2adecf34b199",
   "metadata": {},
   "outputs": [],
   "source": [
    "lreg_gridsearch = GridSearchCV(estimator= LogisticRegression(random_state=42),\n",
    "                              param_grid=lreg_params,\n",
    "                              cv = 5,\n",
    "                              verbose=1)"
   ]
  },
  {
   "cell_type": "code",
   "execution_count": null,
   "id": "deaf3021-ce27-427a-b401-f6064fc31f78",
   "metadata": {},
   "outputs": [],
   "source": [
    "lreg_gridsearch.fit(X_train, y_train)\n"
   ]
  },
  {
   "cell_type": "code",
   "execution_count": null,
   "id": "a0cf778f-b5be-427c-b391-ba912b8dc1ad",
   "metadata": {},
   "outputs": [],
   "source": [
    "lreg_gridsearch.best_params_"
   ]
  },
  {
   "cell_type": "code",
   "execution_count": null,
   "id": "1de9e1ee-3e7e-418a-a0a8-02e51e2a75aa",
   "metadata": {},
   "outputs": [],
   "source": [
    "lreg_best = lreg_gridsearch.best_estimator_"
   ]
  },
  {
   "cell_type": "code",
   "execution_count": null,
   "id": "4d93efff-00d5-4b06-87f3-00024a06191b",
   "metadata": {},
   "outputs": [],
   "source": [
    "lreg_best.score(X_train, y_train)"
   ]
  },
  {
   "cell_type": "code",
   "execution_count": null,
   "id": "691759f7-6ef3-42c7-b35d-43504e8bd257",
   "metadata": {},
   "outputs": [],
   "source": [
    "print(\"Best params: \", lreg_gridsearch.best_params_)\n",
    "print('Best score: ', lreg_gridsearch.best_score_)\n",
    "\n",
    "print(\"Train score: \", lreg_best.score(X_train, y_train))\n",
    "print(\"Test score: \", lreg_best.score(X_test, y_test))\n"
   ]
  },
  {
   "cell_type": "code",
   "execution_count": null,
   "id": "0b1e68ef-ff14-450c-a23a-52b5a87bcaee",
   "metadata": {},
   "outputs": [],
   "source": [
    "from sklearn.model_selection import cross_val_score\n",
    "#cross validation.. it takes the data that already exists creates its samples from the data we already have and it simulates new data\n",
    "# its like my accuracy score.. also a reader on how it will react to new data"
   ]
  },
  {
   "cell_type": "code",
   "execution_count": null,
   "id": "2d4dad60-2b7a-4429-a62d-4c3d07bd42be",
   "metadata": {},
   "outputs": [],
   "source": [
    "cross_val_score(estimator=lreg_s, X = X_train, y =  y_train, cv= 5).mean()"
   ]
  },
  {
   "cell_type": "code",
   "execution_count": null,
   "id": "1bd26eb4-79eb-465d-ad3f-51c054e0b67b",
   "metadata": {},
   "outputs": [],
   "source": [
    "pd.DataFrame(lreg_gridsearch.cv_results_).sort_values('rank_test_score').head(3)"
   ]
  },
  {
   "cell_type": "code",
   "execution_count": null,
   "id": "f93d66fb-4c15-46d6-8264-8755d0ac4f28",
   "metadata": {},
   "outputs": [],
   "source": [
    "lreg_gridsearch."
   ]
  },
  {
   "cell_type": "code",
   "execution_count": null,
   "id": "89845434-a4d6-497c-bc3b-3eaee028519b",
   "metadata": {},
   "outputs": [],
   "source": [
    "lreg_best.coef_"
   ]
  },
  {
   "cell_type": "code",
   "execution_count": null,
   "id": "cb18e1ac-7b2b-4742-bc15-8ecb3b981758",
   "metadata": {},
   "outputs": [],
   "source": []
  },
  {
   "cell_type": "code",
   "execution_count": null,
   "id": "210e0304-a8b3-4979-bb61-87cefd3f029b",
   "metadata": {},
   "outputs": [],
   "source": [
    "X_train.shape"
   ]
  },
  {
   "cell_type": "markdown",
   "id": "42460e5f-d134-476f-a4e0-0572a13e1bdd",
   "metadata": {
    "tags": []
   },
   "source": [
    "### KNN"
   ]
  },
  {
   "cell_type": "code",
   "execution_count": null,
   "id": "ce34bc3f-8a3b-4acd-bf7d-a4df20cb5c3c",
   "metadata": {},
   "outputs": [],
   "source": [
    "KNeighborsClassifier().get_params()"
   ]
  },
  {
   "cell_type": "code",
   "execution_count": null,
   "id": "1c991205-4657-4e20-a38a-e200ae077a2d",
   "metadata": {},
   "outputs": [],
   "source": [
    "knn_params = {\n",
    "    'n_neighbors': range(315,329), #range(330,401, 7) best was 330,#[337, 451, 553, 777],  337 was the best range for this\n",
    "    'weights': ['uniform', 'distance'],\n",
    "    'metric' : ['euclidean', 'manhattan']\n",
    "}"
   ]
  },
  {
   "cell_type": "code",
   "execution_count": null,
   "id": "59d6f521-959c-4352-b948-39b737ae2031",
   "metadata": {},
   "outputs": [],
   "source": [
    "knn_gridsearch = GridSearchCV(estimator= KNeighborsClassifier(),\n",
    "                              param_grid=knn_params,\n",
    "                              cv = 5,\n",
    "                              verbose=1)"
   ]
  },
  {
   "cell_type": "code",
   "execution_count": null,
   "id": "a7005f1f-87f6-4d16-9ab7-7b955a1d02d5",
   "metadata": {},
   "outputs": [],
   "source": [
    "knn_gridsearch.fit(X_train, y_train)"
   ]
  },
  {
   "cell_type": "code",
   "execution_count": null,
   "id": "699ca40b-92af-4739-8d1b-c808f41c5755",
   "metadata": {},
   "outputs": [],
   "source": [
    "knn_gridsearch.best_params_"
   ]
  },
  {
   "cell_type": "code",
   "execution_count": null,
   "id": "1d9497b7-6b68-477f-9ee8-e639cb537e02",
   "metadata": {},
   "outputs": [],
   "source": [
    "cross_val_score(estimator= KNeighborsClassifier(n_neighbors=330, weights ='distance', metric = 'manhattan'), X = X_train, y =  y_train, cv= 5).mean()"
   ]
  },
  {
   "cell_type": "code",
   "execution_count": null,
   "id": "02d7802b-1845-43d6-8376-34a826c1eb1e",
   "metadata": {},
   "outputs": [],
   "source": [
    "knn_best = knn_gridsearch.best_estimator_"
   ]
  },
  {
   "cell_type": "code",
   "execution_count": null,
   "id": "f1dbfa2a-0a4d-4d90-a57a-87da18cd8bc6",
   "metadata": {},
   "outputs": [],
   "source": [
    "print(\"Best params: \", knn_gridsearch.best_params_)\n",
    "print('Best score: ', knn_gridsearch.best_score_)\n",
    "\n",
    "print(\"Train score: \", knn_best.score(X_train, y_train))\n",
    "print(\"Test score: \", knn_best.score(X_test, y_test))\n"
   ]
  },
  {
   "cell_type": "code",
   "execution_count": null,
   "id": "2718a194-1c4b-4d87-82e0-c50ceb590f26",
   "metadata": {},
   "outputs": [],
   "source": [
    "pd.DataFrame(knn_gridsearch.cv_results_).sort_values('rank_test_score').head(3)"
   ]
  },
  {
   "cell_type": "code",
   "execution_count": null,
   "id": "8399cb10-1140-476a-9b2a-0bda35b9d21a",
   "metadata": {},
   "outputs": [],
   "source": []
  },
  {
   "cell_type": "markdown",
   "id": "94c5e1c3-bab0-4e36-aea7-e0c00becb7b7",
   "metadata": {},
   "source": [
    "## Decision Trees"
   ]
  },
  {
   "cell_type": "code",
   "execution_count": null,
   "id": "1c94bfa5-ffc2-418f-ab62-a2a62ec7959c",
   "metadata": {},
   "outputs": [],
   "source": [
    "dtc = DecisionTreeClassifier()"
   ]
  },
  {
   "cell_type": "code",
   "execution_count": null,
   "id": "7eefc06b-e558-4df8-b0d5-1bd0f9636c59",
   "metadata": {},
   "outputs": [],
   "source": [
    "dtc.fit(X_train, y_train)"
   ]
  },
  {
   "cell_type": "code",
   "execution_count": null,
   "id": "7c8fcf6e-abc9-456e-988a-a04e3312a6b2",
   "metadata": {},
   "outputs": [],
   "source": [
    "dtc.score(X_train, y_train), dtc.score(X_test, y_test)"
   ]
  },
  {
   "cell_type": "code",
   "execution_count": null,
   "id": "e3be1776-6a2f-44d7-8cf2-a8dbb945c23c",
   "metadata": {},
   "outputs": [],
   "source": [
    "DecisionTreeClassifier().get_params()"
   ]
  },
  {
   "cell_type": "code",
   "execution_count": null,
   "id": "5277f839-0afe-4c1c-b43f-d2efc27b9ad4",
   "metadata": {},
   "outputs": [],
   "source": [
    "dtc_params = {\n",
    "    'max_depth': [7,8,9,10], #range(3,9) best was 8,\n",
    "    'min_samples_split': [3,4,5], #range(3,9) best was 3,\n",
    "    'min_samples_leaf': [2,3], #[2,4,5] best was 2,\n",
    "    'ccp_alpha' : [0.0001, 0.00023, 0.00034, 0.00005]   # best was 0.001[0.001, 0.1, 1, 10]\n",
    "}"
   ]
  },
  {
   "cell_type": "code",
   "execution_count": null,
   "id": "58edfab3-5c62-4c92-b227-e26c2f867906",
   "metadata": {},
   "outputs": [],
   "source": [
    "dtc_gridsearch = GridSearchCV(\n",
    "    estimator= DecisionTreeClassifier(random_state=42),\n",
    "    param_grid= dtc_params,\n",
    "    cv = 5,\n",
    "    verbose=1,\n",
    "    n_jobs = 2\n",
    ")"
   ]
  },
  {
   "cell_type": "code",
   "execution_count": null,
   "id": "5b29c620-24a0-4a5a-9b2f-6cb00457c553",
   "metadata": {},
   "outputs": [],
   "source": [
    "dtc_gridsearch.fit(X_train, y_train)"
   ]
  },
  {
   "cell_type": "code",
   "execution_count": null,
   "id": "ded87eb8-0282-4fce-8b62-ff9784450feb",
   "metadata": {},
   "outputs": [],
   "source": [
    "dtc_gridsearch.best_params_"
   ]
  },
  {
   "cell_type": "code",
   "execution_count": null,
   "id": "ba82dba2-220a-4ab6-a0ee-fa7990e3c246",
   "metadata": {},
   "outputs": [],
   "source": [
    "cross_val_score(estimator=DecisionTreeClassifier(ccp_alpha=0.0001, max_depth=10, min_samples_leaf=3, min_samples_split=3), X = X_train, y = y_train, cv= 5).mean()"
   ]
  },
  {
   "cell_type": "code",
   "execution_count": null,
   "id": "abce2e95-4e3d-444e-b4b6-7d8a391e2719",
   "metadata": {},
   "outputs": [],
   "source": [
    "dtc_best = dtc_gridsearch.best_estimator_"
   ]
  },
  {
   "cell_type": "code",
   "execution_count": null,
   "id": "34501ef7-5850-4f25-91f6-132c96a82c01",
   "metadata": {},
   "outputs": [],
   "source": [
    "print(\"Best params: \", dtc_gridsearch.best_params_)\n",
    "print('Best score: ', dtc_gridsearch.best_score_)\n",
    "\n",
    "print(\"Train score: \", dtc_best.score(X_train, y_train))\n",
    "print(\"Test score: \", dtc_best.score(X_test, y_test))\n"
   ]
  },
  {
   "cell_type": "code",
   "execution_count": null,
   "id": "8767e293-1e80-4649-ba3f-42d056f4c709",
   "metadata": {},
   "outputs": [],
   "source": [
    "pd.DataFrame(dtc_gridsearch.cv_results_).sort_values('rank_test_score').head(3)"
   ]
  },
  {
   "cell_type": "code",
   "execution_count": null,
   "id": "02ba03f2-6b34-49f1-b437-90811f151cfd",
   "metadata": {},
   "outputs": [],
   "source": [
    "#lets visualize ourr best parameter from Decisiontrees\n",
    "from sklearn.tree import plot_tree"
   ]
  },
  {
   "cell_type": "code",
   "execution_count": null,
   "id": "6fc1fe32-2421-4825-9438-229ec4e41c15",
   "metadata": {},
   "outputs": [],
   "source": [
    "plt.figure(figsize=(40,40))\n",
    "\n",
    "plot_tree(dtc_best,\n",
    "         feature_names= X_train_df.drop(columns='subreddit_class').columns,\n",
    "         class_names= ['Lost_Ark', 'WoW'],\n",
    "         filled= True);\n"
   ]
  },
  {
   "cell_type": "markdown",
   "id": "b7b97f55-b093-4eab-bd02-19a252b1494a",
   "metadata": {},
   "source": [
    "### Ensembles: Bagging |  RandomForestClassifier | ExtraTreesClassifier | GradientBoostingClassifier"
   ]
  },
  {
   "cell_type": "markdown",
   "id": "5f1310b5-1298-4846-b4e8-4abe8616c49d",
   "metadata": {},
   "source": [
    "#### Decision Trees and Bagging"
   ]
  },
  {
   "cell_type": "code",
   "execution_count": null,
   "id": "56d80dc9-4b84-4c83-afdc-42e861aade2a",
   "metadata": {},
   "outputs": [],
   "source": [
    "#use the best parameters from my DecisionTree to input into my Bagging classifer"
   ]
  },
  {
   "cell_type": "code",
   "execution_count": null,
   "id": "4aa0a513-9044-45d4-92b1-eb5eee10ea58",
   "metadata": {},
   "outputs": [],
   "source": [
    "#Instantiate BaggingClassifier\n",
    "bag = BaggingClassifier(base_estimator=dtc_best, n_estimators= 20)\n",
    "\n",
    "#Fit BaggingClassifier\n",
    "bag.fit(X_train, y_train)\n",
    "\n",
    "#Scores of train and test set\n",
    "print(\"Train Score: \", bag.score(X_train, y_train))\n",
    "print(\"Test Score\", bag.score(X_test, y_test))\n"
   ]
  },
  {
   "cell_type": "markdown",
   "id": "820f8105-298d-43fc-956a-0476f663a2fb",
   "metadata": {},
   "source": [
    "Bagging, or bootstrap aggregating, does slighlty better then DecisionTrees.  DecisionTrees tend to overfit to their training set because of how deep they try to learn the data so \n",
    "Bagging mitigates this problem by exposing different trees to different sub-samples of training set."
   ]
  },
  {
   "cell_type": "code",
   "execution_count": null,
   "id": "4e7c71e7-abdc-4eef-a96f-cc50a028fdb3",
   "metadata": {},
   "outputs": [],
   "source": []
  },
  {
   "cell_type": "markdown",
   "id": "e4bda662-d39f-4ad4-98ac-2576a32d184c",
   "metadata": {},
   "source": [
    "#### RandomForestClassifierr"
   ]
  },
  {
   "cell_type": "code",
   "execution_count": null,
   "id": "5522782f-9ff8-4cc6-8ed4-79fdd74e3237",
   "metadata": {},
   "outputs": [],
   "source": [
    "RandomForestClassifier().get_params()"
   ]
  },
  {
   "cell_type": "code",
   "execution_count": null,
   "id": "120e9160-e7e2-4b3e-8074-dabee952c05c",
   "metadata": {},
   "outputs": [],
   "source": [
    "rfc_params = {\n",
    "    'n_estimators': [20,30,50, 75],\n",
    "    'max_features': ['auto', 'log2', None],\n",
    "    'max_depth' : [6, 8, 10],\n",
    "    'min_samples_leaf': [2, 4],\n",
    "    'ccp_alpha' : [0.01, 0.03]   \n",
    "}"
   ]
  },
  {
   "cell_type": "code",
   "execution_count": null,
   "id": "876d6a94-0bf1-4bc4-86b8-465f0433097e",
   "metadata": {},
   "outputs": [],
   "source": [
    "rfc_gridsearch = GridSearchCV(estimator= RandomForestClassifier(n_jobs=5), param_grid=rfc_params, cv=5, verbose=1)"
   ]
  },
  {
   "cell_type": "code",
   "execution_count": null,
   "id": "a455ef95-fb76-47cd-beb2-7736b5a8cb0d",
   "metadata": {},
   "outputs": [],
   "source": [
    "rfc_gridsearch.fit(X_train, y_train)"
   ]
  },
  {
   "cell_type": "code",
   "execution_count": null,
   "id": "6ed0d7c1-651a-4185-a834-2bb074673681",
   "metadata": {},
   "outputs": [],
   "source": [
    "rfc_gridsearch.best_params_"
   ]
  },
  {
   "cell_type": "code",
   "execution_count": null,
   "id": "51650a0a-bf65-4c4b-8008-3e20da3909f9",
   "metadata": {},
   "outputs": [],
   "source": [
    "rfc_best = rfc_gridsearch.best_estimator_"
   ]
  },
  {
   "cell_type": "code",
   "execution_count": null,
   "id": "b65e78da-4666-4e0d-9258-b781f706dcf8",
   "metadata": {},
   "outputs": [],
   "source": [
    "cross_val_score(estimator=RandomForestClassifier(n_estimators= 75, n_jobs=5, ccp_alpha=0.01, max_depth=8, max_features='auto', min_samples_leaf=4 ), X = X_train, y = y_train, cv=5).mean()"
   ]
  },
  {
   "cell_type": "code",
   "execution_count": null,
   "id": "27fd06fb-ef10-4e77-8f53-d038990af589",
   "metadata": {},
   "outputs": [],
   "source": []
  },
  {
   "cell_type": "code",
   "execution_count": null,
   "id": "14fd32fc-cef6-4469-9312-406f2f32115f",
   "metadata": {},
   "outputs": [],
   "source": [
    "print(\"Best params: \", rfc_gridsearch.best_params_)\n",
    "print('Best score: ', rfc_gridsearch.best_score_)\n",
    "\n",
    "print(\"Train score: \", rfc_best.score(X_train, y_train))\n",
    "print(\"Test score: \", rfc_best.score(X_test, y_test))\n"
   ]
  },
  {
   "cell_type": "code",
   "execution_count": null,
   "id": "d37a8850-b03d-4b08-8d62-9754f71cc387",
   "metadata": {
    "tags": []
   },
   "outputs": [],
   "source": []
  },
  {
   "cell_type": "markdown",
   "id": "38a8f7e8-6a00-4786-8b08-ceebaf779b8d",
   "metadata": {},
   "source": [
    "#### ExtraTreeClassifier"
   ]
  },
  {
   "cell_type": "code",
   "execution_count": null,
   "id": "8f5ae9ac-018f-4e58-ab2a-18df047e6785",
   "metadata": {},
   "outputs": [],
   "source": [
    "ExtraTreesClassifier().get_params()"
   ]
  },
  {
   "cell_type": "code",
   "execution_count": null,
   "id": "9fd8fc15-7c6b-4cf4-83f2-400157707ac2",
   "metadata": {},
   "outputs": [],
   "source": [
    "etc_params = {\n",
    "    'n_estimators': [20,30,50, 75],\n",
    "    'max_features': ['auto', 'log2', None],\n",
    "    'max_depth' : [6, 8, 10],\n",
    "    'min_samples_leaf': [2, 4],\n",
    "    'ccp_alpha' : [0.01, 0.03]   \n",
    "}"
   ]
  },
  {
   "cell_type": "code",
   "execution_count": null,
   "id": "c0dcad44-cdb7-4855-8db1-16d23ac6eb23",
   "metadata": {},
   "outputs": [],
   "source": [
    "etc_gridsearch = GridSearchCV(estimator= ExtraTreesClassifier(n_jobs=5), param_grid=etc_params, cv = 5, verbose=1)"
   ]
  },
  {
   "cell_type": "code",
   "execution_count": null,
   "id": "9bb487f6-a591-4613-85c9-18044ccf2545",
   "metadata": {},
   "outputs": [],
   "source": [
    "etc_gridsearch.fit(X_train, y_train)"
   ]
  },
  {
   "cell_type": "code",
   "execution_count": null,
   "id": "02d1238c-eec5-45b7-a989-596b53cec0f6",
   "metadata": {},
   "outputs": [],
   "source": [
    "etc_gridsearch.best_params_"
   ]
  },
  {
   "cell_type": "code",
   "execution_count": null,
   "id": "ca9d56df-7d9c-44f9-b8fa-3c580e7d9daf",
   "metadata": {},
   "outputs": [],
   "source": [
    "etc_best = etc_gridsearch.best_estimator_"
   ]
  },
  {
   "cell_type": "code",
   "execution_count": null,
   "id": "d36646cd-939e-4ab8-a1ec-d0158bdb5866",
   "metadata": {},
   "outputs": [],
   "source": [
    "cross_val_score(estimator=ExtraTreesClassifier(n_estimators= 30, n_jobs=5, ccp_alpha=0.01, max_depth=10, max_features=None, min_samples_leaf=2), X = X_train, y = y_train, cv=5).mean()"
   ]
  },
  {
   "cell_type": "code",
   "execution_count": null,
   "id": "535011dd-0b54-4ab3-9f01-5a2433dd81de",
   "metadata": {},
   "outputs": [],
   "source": [
    "print(\"Best params: \", etc_gridsearch.best_params_)\n",
    "print('Best score: ', etc_gridsearch.best_score_)\n",
    "\n",
    "print(\"Train score: \", etc_best.score(X_train, y_train))\n",
    "print(\"Test score: \", etc_best.score(X_test, y_test))\n"
   ]
  },
  {
   "cell_type": "code",
   "execution_count": null,
   "id": "0e1dc4e1-740d-488a-ba78-31c160192944",
   "metadata": {},
   "outputs": [],
   "source": []
  },
  {
   "cell_type": "markdown",
   "id": "f6afb1a4-bc50-4f9c-b7fc-99daa309b561",
   "metadata": {},
   "source": [
    "### GradientBoostingClassifier"
   ]
  },
  {
   "cell_type": "code",
   "execution_count": null,
   "id": "0b273b14-5d88-4e20-8ea7-ec56791bfb15",
   "metadata": {},
   "outputs": [],
   "source": [
    "GradientBoostingClassifier().get_params()"
   ]
  },
  {
   "cell_type": "code",
   "execution_count": null,
   "id": "dae4c6d8-47e2-4979-abe8-ec2f49eca1c0",
   "metadata": {},
   "outputs": [],
   "source": [
    "gbc_params = {\n",
    "    'n_estimators': [20,30,75],\n",
    "    'max_features': ['auto', None],\n",
    "    'max_depth' : [6, 10],\n",
    "    'min_samples_leaf': [2, 4],\n",
    "    'ccp_alpha' : [0.01, 0.03],\n",
    "}\n"
   ]
  },
  {
   "cell_type": "code",
   "execution_count": null,
   "id": "1112fb67-941a-4202-9382-638cebbe05c5",
   "metadata": {},
   "outputs": [],
   "source": [
    "gbc_gridsearch = GridSearchCV(estimator=GradientBoostingClassifier(learning_rate=0.1), param_grid=gbc_params, cv=5, verbose=1)"
   ]
  },
  {
   "cell_type": "code",
   "execution_count": null,
   "id": "72071c2f-8dfc-45ab-9723-0c2509c64779",
   "metadata": {},
   "outputs": [],
   "source": [
    "gbc_gridsearch.fit(X_train, y_train)"
   ]
  },
  {
   "cell_type": "code",
   "execution_count": null,
   "id": "0d69e6db-f05d-4d7c-9542-3c5231063f6c",
   "metadata": {},
   "outputs": [],
   "source": [
    "gbc_gridsearch.best_params_"
   ]
  },
  {
   "cell_type": "code",
   "execution_count": null,
   "id": "1bc32945-88cf-4efb-b5cf-447171067cbf",
   "metadata": {},
   "outputs": [],
   "source": [
    "cross_val_score(estimator=GradientBoostingClassifier(n_estimators=20, ccp_alpha=0.01, max_depth=6, max_features='auto', min_samples_leaf=2, learning_rate=0.1 ), X = X_train, y = y_train, cv=5).mean()"
   ]
  },
  {
   "cell_type": "code",
   "execution_count": null,
   "id": "43584a20-eed0-4807-9648-07e9d3d00599",
   "metadata": {},
   "outputs": [],
   "source": [
    "gbc_best = gbc_gridsearch.best_estimator_"
   ]
  },
  {
   "cell_type": "code",
   "execution_count": null,
   "id": "8c237844-2eed-4112-bec0-6760dcd648cf",
   "metadata": {},
   "outputs": [],
   "source": [
    "print(\"Best params: \", gbc_gridsearch.best_params_)\n",
    "print('Best score: ', gbc_gridsearch.best_score_)\n",
    "\n",
    "print(\"Train score: \", gbc_best.score(X_train, y_train))\n",
    "print(\"Test score: \", gbc_best.score(X_test, y_test))\n"
   ]
  },
  {
   "cell_type": "code",
   "execution_count": null,
   "id": "9b81834b-3c6d-4942-9e69-d2a4552b707e",
   "metadata": {},
   "outputs": [],
   "source": []
  },
  {
   "cell_type": "code",
   "execution_count": null,
   "id": "1426eb09-a8bd-4b8a-b230-213653c4ef08",
   "metadata": {},
   "outputs": [],
   "source": []
  },
  {
   "cell_type": "markdown",
   "id": "1bb9b24e-202a-46ec-bee2-e4fb5bb67145",
   "metadata": {},
   "source": [
    "### Output all my different Machine Learning Models Scores"
   ]
  },
  {
   "cell_type": "code",
   "execution_count": null,
   "id": "0f9789f3-0470-4029-978e-52ae1ded1868",
   "metadata": {},
   "outputs": [],
   "source": [
    "print('='*10 + 'LOGISITC REGRESSION' + '='*10)\n",
    "print(\"Best params: \", lreg_gridsearch.best_params_)\n",
    "print('Best score: ', lreg_gridsearch.best_score_)\n",
    "\n",
    "print(\"Train score: \", lreg_best.score(X_train, y_train))\n",
    "print(\"Test score: \", lreg_best.score(X_test, y_test))\n",
    "\n",
    "#-------------------------------------------------\n",
    "\n",
    "print('='*10 + 'K NEAREST NEIGHBOR' + '='*10)\n",
    "print(\"Best params: \", knn_gridsearch.best_params_)\n",
    "print('Best score: ', knn_gridsearch.best_score_)\n",
    "\n",
    "print(\"Train score: \", knn_best.score(X_train, y_train))\n",
    "print(\"Test score: \", knn_best.score(X_test, y_test))\n",
    "#-------------------------------------------------\n",
    "\n",
    "print('='*10 + 'DECISION TREE' + '='*10)\n",
    "print(\"Best params: \", dtc_gridsearch.best_params_)\n",
    "print('Best score: ', dtc_gridsearch.best_score_)\n",
    "\n",
    "print(\"Train score: \", dtc_best.score(X_train, y_train))\n",
    "print(\"Test score: \", dtc_best.score(X_test, y_test))\n",
    "#-------------------------------------------------\n",
    "\n",
    "print('='*10 + 'BAGGING' + '='*10)\n",
    "\n",
    "print(\"Train score: \", bag.score(X_train, y_train))\n",
    "print(\"Test score: \", bag.score(X_test, y_test))\n",
    "#-------------------------------------------------\n",
    "\n",
    "print('='*10 + 'RANDOM FOREST CLASSIFIER' + '='*10)\n",
    "print(\"Best params: \", rfc_gridsearch.best_params_)\n",
    "print('Best score: ', rfc_gridsearch.best_score_)\n",
    "\n",
    "print(\"Train score: \", rfc_best.score(X_train, y_train))\n",
    "print(\"Test score: \", rfc_best.score(X_test, y_test))\n",
    "\n",
    "#-------------------------------------------------\n",
    "\n",
    "print('='*10 + 'EXTRA TREE CLASSIFIER' + '='*10)\n",
    "print(\"Best params: \", etc_gridsearch.best_params_)\n",
    "print('Best score: ', etc_gridsearch.best_score_)\n",
    "\n",
    "print(\"Train score: \", etc_best.score(X_train, y_train))\n",
    "print(\"Test score: \", etc_best.score(X_test, y_test))\n",
    "#-------------------------------------------------\n",
    "\n",
    "print('='*10 + 'GRADIENT BOOSTING CLASSIFIER' + '='*10)\n",
    "print(\"Best params: \", gbc_gridsearch.best_params_)\n",
    "print('Best score: ', gbc_gridsearch.best_score_)\n",
    "\n",
    "print(\"Train score: \", gbc_best.score(X_train, y_train))\n",
    "print(\"Test score: \", gbc_best.score(X_test, y_test))\n",
    "\n"
   ]
  },
  {
   "cell_type": "markdown",
   "id": "041b23bd-037d-4660-a837-2f16ad166622",
   "metadata": {},
   "source": [
    "**Out of all our modles, LogisticRegression gave the best training and testing score!**"
   ]
  },
  {
   "cell_type": "code",
   "execution_count": null,
   "id": "7efd7780-6756-4e37-b133-de49106a8214",
   "metadata": {},
   "outputs": [],
   "source": [
    "#lreg model is a linear model.. uses a link ftn.. performed best bec probably their are small numbers of predictors that are relevant to predicintg the outcome.. if there A LOT OF IMPORTANT features it will be harder\n",
    "# its saying we have a lot of features that are redundant\n",
    "\n",
    "#tree base better for complex features that are interacting with one another!  those interactions arent linear so lreg would be bad!\n",
    "\n",
    "\n",
    "#hias bias model useful in a dataset that is very noisy"
   ]
  },
  {
   "cell_type": "markdown",
   "id": "6a4c8076-9f79-47f2-9414-671f9b0d1d3c",
   "metadata": {},
   "source": [
    "#### Can we make the score better from our top ML model?"
   ]
  },
  {
   "cell_type": "code",
   "execution_count": null,
   "id": "96842882-2f8d-4e25-8ff4-8e5b8f73c0ee",
   "metadata": {},
   "outputs": [],
   "source": [
    "## Lets try tranforming on our data again using TF_IDF Vectorizer!"
   ]
  },
  {
   "cell_type": "code",
   "execution_count": null,
   "id": "5ae15425-a876-479b-9928-d22676b36ea3",
   "metadata": {},
   "outputs": [],
   "source": [
    "df"
   ]
  },
  {
   "cell_type": "code",
   "execution_count": null,
   "id": "5c3789c4-b3d4-4615-9b55-13353a85241c",
   "metadata": {},
   "outputs": [],
   "source": []
  },
  {
   "cell_type": "code",
   "execution_count": null,
   "id": "9a5e1c7c-1463-4511-ad37-e6dc481df885",
   "metadata": {},
   "outputs": [],
   "source": []
  },
  {
   "cell_type": "code",
   "execution_count": null,
   "id": "416ac88d-4e28-49c3-a11b-c562dc259c85",
   "metadata": {},
   "outputs": [],
   "source": [
    "# Redefine training and testing sets.\n",
    "X_trainv, X_testv, y_trainv, y_testv = train_test_split(X,\n",
    "                                                    y,\n",
    "                                                    test_size=0.20,\n",
    "                                                    stratify=y,\n",
    "                                                    random_state=42)"
   ]
  },
  {
   "cell_type": "code",
   "execution_count": null,
   "id": "5d8070c3-b6c8-4a31-8525-2f7f676721fd",
   "metadata": {},
   "outputs": [],
   "source": []
  },
  {
   "cell_type": "code",
   "execution_count": null,
   "id": "99ffe342-e883-420a-9589-a1593b5f1c2f",
   "metadata": {},
   "outputs": [],
   "source": [
    "lreg_best"
   ]
  },
  {
   "cell_type": "code",
   "execution_count": null,
   "id": "88d8db7c-f89c-4611-bbf9-90e328a1e3c2",
   "metadata": {},
   "outputs": [],
   "source": [
    "TfidfVectorizer().get_params()"
   ]
  },
  {
   "cell_type": "code",
   "execution_count": null,
   "id": "87323fb4-d36a-4111-9cea-7a30f141c44e",
   "metadata": {},
   "outputs": [],
   "source": [
    "pipe_tvec = Pipeline([\n",
    "    (\"tvec\", TfidfVectorizer(stop_words='english')),\n",
    "    (\"lreg\", LogisticRegression(C = 1, max_iter= 5000, random_state=42, solver='saga'))\n",
    "    #('mnb', MultinomialNB())\n",
    "])\n"
   ]
  },
  {
   "cell_type": "code",
   "execution_count": null,
   "id": "42bf90bb-81c0-4220-ad2c-7ef0a10fbc69",
   "metadata": {},
   "outputs": [],
   "source": [
    "pipe_tvec_params = {\n",
    "    'tvec__max_features': [2000,3000,4000,5000],  #4000 has been the best\n",
    "    'tvec__ngram_range':[(1,1), (1,2), (2,2)],  #(1,2) has vbeen the best\n",
    "    'tvec__min_df': [2,3],   #2 has been the best\n",
    "    'tvec__max_df': [0.91, 0.95, 0.98],\n",
    "    'tvec__norm': ['l1', 'l2']\n",
    "}\n"
   ]
  },
  {
   "cell_type": "code",
   "execution_count": null,
   "id": "72800a6b-125b-4c92-9ae0-0b04ff29fd8b",
   "metadata": {},
   "outputs": [],
   "source": [
    "gs_tvec = GridSearchCV(estimator=pipe_tvec,\n",
    "                      param_grid= pipe_tvec_params,\n",
    "                      cv = 5,\n",
    "                      verbose=1)"
   ]
  },
  {
   "cell_type": "code",
   "execution_count": null,
   "id": "222e82f2-22d7-498a-b329-4e581774c0a6",
   "metadata": {},
   "outputs": [],
   "source": [
    "# Fit GridSearch to training data.\n",
    "gs_tvec.fit(X_trainv, y_trainv)"
   ]
  },
  {
   "cell_type": "code",
   "execution_count": null,
   "id": "bd3478c8-6ea3-4387-abc8-20aef9bcc662",
   "metadata": {},
   "outputs": [],
   "source": [
    "gs_tvec.best_params_"
   ]
  },
  {
   "cell_type": "code",
   "execution_count": null,
   "id": "20b6f5b3-a19c-4594-a076-25cb42652dc1",
   "metadata": {},
   "outputs": [],
   "source": [
    "tvec_best = gs_tvec.best_estimator_"
   ]
  },
  {
   "cell_type": "code",
   "execution_count": null,
   "id": "4ac2ecd8-23f7-42d6-aad0-58ec09aa381d",
   "metadata": {},
   "outputs": [],
   "source": [
    "#comparing countvectorizer to tfidv-vectorizer\n",
    "print('='*10 + 'LOGISITC REGRESSION' + '='*10)\n",
    "print(\"Best params: \", lreg_gridsearch.best_params_)\n",
    "print('Best score: ', lreg_gridsearch.best_score_)\n",
    "\n",
    "print(\"Train score: \", lreg_best.score(X_train, y_train))\n",
    "print(\"Test score: \", lreg_best.score(X_test, y_test))\n",
    "\n",
    "\n",
    "print('='*10 + 'LOGISITC REGRESSION & TFIDF-VECTORIZER' + '='*10)\n",
    "print(\"Best params: \", gs_tvec.best_params_)\n",
    "print('Best score: ', gs_tvec.best_score_)\n",
    "\n",
    "print(\"Train score: \", tvec_best.score(X_trainv, y_trainv))\n",
    "print(\"Test score: \", tvec_best.score(X_testv, y_testv))\n"
   ]
  },
  {
   "cell_type": "markdown",
   "id": "527f1a6c-8775-4c42-ad73-af79bc622e4a",
   "metadata": {},
   "source": [
    "**Logisitc Regression being transformed by TfidfVectorizer does slighlty better then CountVectorized.  We see our test score does 1% better in Tfidf due to a bias-varriance tradeoff.**"
   ]
  },
  {
   "cell_type": "code",
   "execution_count": null,
   "id": "f9320c6a-dcc6-42a2-862a-34cb9be58bd5",
   "metadata": {},
   "outputs": [],
   "source": []
  },
  {
   "cell_type": "code",
   "execution_count": null,
   "id": "d586863d-2fed-4dc0-9cb0-0e2691410e15",
   "metadata": {},
   "outputs": [],
   "source": [
    "X_trainv"
   ]
  },
  {
   "cell_type": "code",
   "execution_count": null,
   "id": "bd8f1355-9a62-4bb9-9cce-22b545a693c5",
   "metadata": {},
   "outputs": [],
   "source": []
  },
  {
   "cell_type": "code",
   "execution_count": null,
   "id": "26a96f11-1f66-4e16-b589-c4e3bf1ecc4a",
   "metadata": {},
   "outputs": [],
   "source": [
    "## REMINDER: 1 REPRESENTS 'wow subreddit' ........... 0 REPRESENTS 'lost ark subreddit'"
   ]
  },
  {
   "cell_type": "code",
   "execution_count": null,
   "id": "f2d20ef9-b5ee-4615-a2c6-df1313f0ef8c",
   "metadata": {},
   "outputs": [],
   "source": [
    "#get predictions!\n",
    "\n",
    "preds_tvec = gs_tvec.predict(X_testv)\n",
    "\n",
    "#save confusion matrix values\n",
    "tn, fp, fn, tp = confusion_matrix(y_test, preds_tvec).ravel()\n",
    "\n",
    "#calculate specificty\n",
    "spec = tn / (tn + fp)\n",
    "print(f\"Specificity: {spec}\")"
   ]
  },
  {
   "cell_type": "markdown",
   "id": "025c1c18-1759-4bb1-bf16-34e24b3b6016",
   "metadata": {},
   "source": [
    "**Specificty Interpretation: My model predicted that a post belongs in the Lost Ark (0) subreddit about 77% of the time.**"
   ]
  },
  {
   "cell_type": "code",
   "execution_count": null,
   "id": "08ae5318-42df-4986-9964-36a9a777c8dd",
   "metadata": {},
   "outputs": [],
   "source": [
    "107 / (107+32)"
   ]
  },
  {
   "cell_type": "code",
   "execution_count": null,
   "id": "4a5ec437-8f3a-4394-828e-ac09488a598c",
   "metadata": {},
   "outputs": [],
   "source": [
    "prec"
   ]
  },
  {
   "cell_type": "code",
   "execution_count": null,
   "id": "a941e4ca-646a-4f25-8a2a-a998d1016070",
   "metadata": {},
   "outputs": [],
   "source": [
    "#CALCULATE PRECISION"
   ]
  },
  {
   "cell_type": "code",
   "execution_count": null,
   "id": "9001fd35-5df5-495d-8770-3d441174cf11",
   "metadata": {},
   "outputs": [],
   "source": [
    "prec = tp / (tp + fp)\n",
    "print(f\"Precision: {prec}\")"
   ]
  },
  {
   "cell_type": "markdown",
   "id": "3f0f9cbe-d79a-4d6d-be3b-51a641b05d0f",
   "metadata": {},
   "source": [
    "**Precision Interpretations: When my model predicted a post belongs in the WoW(1) subreddit, about 80% was correctly classified.**"
   ]
  },
  {
   "cell_type": "code",
   "execution_count": null,
   "id": "d1b14f8d-486e-4086-a367-3024e17ff971",
   "metadata": {},
   "outputs": [],
   "source": [
    "#Calculate Sensitivity\n",
    "sens = tp / (tp + fn)\n",
    "print(f\"Sensitivity: {sens}\")"
   ]
  },
  {
   "cell_type": "markdown",
   "id": "6abbb75e-1e14-4a18-ab6c-300ffbfa2b57",
   "metadata": {},
   "source": [
    "**Sensitivity Interpretation: Among the posts that are classified as 'wow', 89% of them are correct.**"
   ]
  },
  {
   "cell_type": "code",
   "execution_count": null,
   "id": "e4b256cd-ed42-4fb4-ae04-4b5842c3c429",
   "metadata": {},
   "outputs": [],
   "source": []
  },
  {
   "cell_type": "code",
   "execution_count": null,
   "id": "b7f2b5a9-cb68-49d4-a72c-e493352b0418",
   "metadata": {},
   "outputs": [],
   "source": [
    "#CALCULATE ACCURACY\n",
    "acc = (tp + tn)/ (tp+fp+tn+fn)   #all corect/ all predictions\n",
    "print(f\"Accuracy: {acc}\")"
   ]
  },
  {
   "cell_type": "markdown",
   "id": "c40a6d44-d0c8-4ecf-a73c-04b40f4809c7",
   "metadata": {},
   "source": [
    "**Accuracy Interpreation: My model is accurate of classifying posts 83% of the time. It will misclassify posts 17% of the time.**"
   ]
  },
  {
   "cell_type": "code",
   "execution_count": null,
   "id": "c9aa1ee4-7456-4ed4-8534-8d51bec94ea9",
   "metadata": {},
   "outputs": [],
   "source": []
  },
  {
   "cell_type": "code",
   "execution_count": null,
   "id": "f464b634-d769-490a-a38a-af8775ac9a4f",
   "metadata": {},
   "outputs": [],
   "source": [
    "#visualize this by plotting confusion matrix\n",
    "plot_confusion_matrix(gs_tvec, X_testv, y_test, cmap='Blues', values_format='d')"
   ]
  },
  {
   "cell_type": "code",
   "execution_count": null,
   "id": "c90586c3-5203-49c1-8974-44121078e07d",
   "metadata": {},
   "outputs": [],
   "source": []
  },
  {
   "cell_type": "code",
   "execution_count": null,
   "id": "d5672c68-0917-4aeb-bd70-8377fe416bd7",
   "metadata": {},
   "outputs": [],
   "source": []
  }
 ],
 "metadata": {
  "kernelspec": {
   "display_name": "Python 3 (ipykernel)",
   "language": "python",
   "name": "python3"
  },
  "language_info": {
   "codemirror_mode": {
    "name": "ipython",
    "version": 3
   },
   "file_extension": ".py",
   "mimetype": "text/x-python",
   "name": "python",
   "nbconvert_exporter": "python",
   "pygments_lexer": "ipython3",
   "version": "3.8.12"
  }
 },
 "nbformat": 4,
 "nbformat_minor": 5
}
